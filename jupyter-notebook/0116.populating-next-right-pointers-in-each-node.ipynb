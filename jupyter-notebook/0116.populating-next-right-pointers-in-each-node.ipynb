{
 "cells": [
  {
   "cell_type": "code",
   "execution_count": 13,
   "metadata": {},
   "outputs": [],
   "source": [
    "import sys\n",
    "sys.path.append('..')\n",
    "from leetcode.tree.treenode import TreeNode\n",
    "\n",
    "class Node(TreeNode):\n",
    "    def __init__(self, val, left, right, next):\n",
    "        self.next = next\n",
    "        super().__init__(self, val, left, right)"
   ]
  },
  {
   "cell_type": "code",
   "execution_count": 17,
   "metadata": {},
   "outputs": [],
   "source": [
    "# Similar to #102\n",
    "class Solution:\n",
    "    def connect(self, root: 'Node') -> 'Node':\n",
    "        if not root: return None\n",
    "        q = [root]\n",
    "        while q:\n",
    "            for prev, cur in zip(q, q[1:]):\n",
    "                prev.next = cur\n",
    "                #print(prev.next)\n",
    "            # iterate exactly len(q) times for current level of nodes, redo while loop for the next level of nodes\n",
    "            for _ in range(len(q)):\n",
    "                n = q.pop(0)\n",
    "                if n.left:\n",
    "                    q.append(n.left)\n",
    "                if n.right:\n",
    "                    q.append(n.right)\n",
    "        return root"
   ]
  },
  {
   "cell_type": "code",
   "execution_count": 18,
   "metadata": {},
   "outputs": [
    {
     "name": "stdout",
     "output_type": "stream",
     "text": [
      "TreeNode(val: 3, left: TreeNode(val: 6, left: None, right: None), right: TreeNode(val: 7, left: None, right: None))\n",
      "TreeNode(val: 5, left: None, right: None)\n",
      "TreeNode(val: 6, left: None, right: None)\n",
      "TreeNode(val: 7, left: None, right: None)\n"
     ]
    },
    {
     "data": {
      "text/plain": [
       "TreeNode(val: 1, left: TreeNode(val: 2, left: TreeNode(val: 4, left: None, right: None), right: TreeNode(val: 5, left: None, right: None)), right: TreeNode(val: 3, left: TreeNode(val: 6, left: None, right: None), right: TreeNode(val: 7, left: None, right: None)))"
      ]
     },
     "execution_count": 18,
     "metadata": {},
     "output_type": "execute_result"
    }
   ],
   "source": [
    "root = TreeNode.deserialize('[1,2,3,4,5,6,7]')\n",
    "Solution().connect(root)"
   ]
  },
  {
   "cell_type": "code",
   "execution_count": null,
   "metadata": {},
   "outputs": [],
   "source": []
  }
 ],
 "metadata": {
  "kernelspec": {
   "display_name": "Python 3",
   "language": "python",
   "name": "python3"
  },
  "language_info": {
   "codemirror_mode": {
    "name": "ipython",
    "version": 3
   },
   "file_extension": ".py",
   "mimetype": "text/x-python",
   "name": "python",
   "nbconvert_exporter": "python",
   "pygments_lexer": "ipython3",
   "version": "3.6.8"
  }
 },
 "nbformat": 4,
 "nbformat_minor": 2
}
