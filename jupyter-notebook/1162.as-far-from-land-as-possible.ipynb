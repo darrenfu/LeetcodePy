{
 "cells": [
  {
   "cell_type": "markdown",
   "metadata": {},
   "source": [
    "### [1162\\. As Far from Land as Possible](https://leetcode.com/problems/as-far-from-land-as-possible/)\n",
    "\n",
    "Difficulty: **Medium**\n",
    "\n",
    "\n",
    "Given an N x N `grid` containing only values `0` and `1`, where `0` represents water and `1` represents land, find a water cell such that its distance to the nearest land cell is maximized and return the distance.\n",
    "\n",
    "The distance used in this problem is the _Manhattan distance_: the distance between two cells `(x0, y0)` and `(x1, y1)` is `|x0 - x1| + |y0 - y1|`.\n",
    "\n",
    "If no land or water exists in the grid, return `-1`.\n",
    "\n",
    "**Example 1:**\n",
    "\n",
    "**![](https://assets.leetcode.com/uploads/2019/05/03/1336_ex1.JPG)**\n",
    "\n",
    "```\n",
    "Input: [[1,0,1],[0,0,0],[1,0,1]]\n",
    "Output: 2\n",
    "Explanation: \n",
    "The cell (1, 1) is as far as possible from all the land with distance 2.\n",
    "```\n",
    "\n",
    "**Example 2:**\n",
    "\n",
    "**![](https://assets.leetcode.com/uploads/2019/05/03/1336_ex2.JPG)**\n",
    "\n",
    "```\n",
    "Input: [[1,0,0],[0,0,0],[0,0,0]]\n",
    "Output: 4\n",
    "Explanation: \n",
    "The cell (2, 2) is as far as possible from all the land with distance 4.\n",
    "```\n",
    "\n",
    "**Note:**\n",
    "\n",
    "1.  <span style=\"display: inline;\">`1 <= grid.length == grid[0].length <= 100`</span>\n",
    "2.  <span style=\"display: inline;\">`grid[i][j]` is `0` or `1`</span>"
   ]
  },
  {
   "cell_type": "code",
   "execution_count": 1,
   "metadata": {},
   "outputs": [],
   "source": [
    "# BFS starting from all water cells close to lands\n",
    "from typing import List\n",
    "\n",
    "class Solution:\n",
    "    def maxDistance(self, grid: List[List[int]]) -> int:\n",
    "        def isValidMove(x: int, y: int) -> bool:\n",
    "            nonlocal M, N\n",
    "            return 0 <= x < M and 0 <= y < N\n",
    "\n",
    "        def checkSurroundings(i: int, j: int, searchVal: int) -> bool:\n",
    "            nonlocal M, N\n",
    "            for ii, jj in moves:\n",
    "                x, y = i + ii, j + jj\n",
    "                if isValidMove(x, y):\n",
    "                    if searchVal == grid[x][y]:\n",
    "                        return True\n",
    "            return False\n",
    "\n",
    "        M, N = len(grid), len(grid[0])\n",
    "        # check all 1s or all 0s, return false\n",
    "        initVal = grid[0][0]\n",
    "        allSame = True\n",
    "        for i in range(M):\n",
    "            for j in range(N):\n",
    "                if grid[i][j] != initVal:\n",
    "                    allSame = False\n",
    "                    break\n",
    "            if not allSame:\n",
    "                break\n",
    "        if allSame:\n",
    "            return -1\n",
    "\n",
    "        moves = [(1, 0), (-1, 0), (0, 1), (0, -1)]\n",
    "        # init points are all 0s (water cells) near 1s (lands)\n",
    "        q = []\n",
    "        lvl = 1 # find largest iterations to find the last water cell(s)\n",
    "        for i in range(M):\n",
    "            for j in range(N):\n",
    "                if grid[i][j] == 0 and checkSurroundings(i, j, 1):\n",
    "                    q.append((i, j, lvl))\n",
    "        # bfs\n",
    "        traversed = dict()\n",
    "        for i, j, _ in q:\n",
    "            traversed[(i, j)] = 1\n",
    "        while q:\n",
    "            i, j, lvl = q.pop(0)\n",
    "            for ii, jj in moves:\n",
    "                x, y = i + ii, j + jj\n",
    "                if isValidMove(x, y) and (x, y) not in traversed and not checkSurroundings(x, y, 1):\n",
    "                    # print(x, y, lvl+1)\n",
    "                    q.append((x, y, lvl + 1))\n",
    "                    traversed[(x, y)] = 1\n",
    "        return lvl"
   ]
  },
  {
   "cell_type": "code",
   "execution_count": 2,
   "metadata": {},
   "outputs": [
    {
     "data": {
      "text/plain": [
       "-1"
      ]
     },
     "execution_count": 2,
     "metadata": {},
     "output_type": "execute_result"
    }
   ],
   "source": [
    "Solution().maxDistance(grid=[[0,0,0,0],[0,0,0,0],[0,0,0,0],[0,0,0,0]])"
   ]
  },
  {
   "cell_type": "code",
   "execution_count": 3,
   "metadata": {},
   "outputs": [
    {
     "data": {
      "text/plain": [
       "2"
      ]
     },
     "execution_count": 3,
     "metadata": {},
     "output_type": "execute_result"
    }
   ],
   "source": [
    "Solution().maxDistance(grid=[[1,0,1],[0,0,0],[1,0,1]])"
   ]
  }
 ],
 "metadata": {
  "kernelspec": {
   "display_name": "Python 3",
   "language": "python",
   "name": "python3"
  },
  "language_info": {
   "codemirror_mode": {
    "name": "ipython",
    "version": 3
   },
   "file_extension": ".py",
   "mimetype": "text/x-python",
   "name": "python",
   "nbconvert_exporter": "python",
   "pygments_lexer": "ipython3",
   "version": "3.6.8"
  }
 },
 "nbformat": 4,
 "nbformat_minor": 2
}
