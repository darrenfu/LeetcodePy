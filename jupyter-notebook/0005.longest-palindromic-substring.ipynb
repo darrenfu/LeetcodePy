{
 "cells": [
  {
   "cell_type": "code",
   "execution_count": 33,
   "metadata": {},
   "outputs": [],
   "source": [
    "# Two Pointer + DP Memorization (Iteration)\n",
    "# Runtime: 3368 ms, faster than 37.60%\n",
    "# https://leetcode.com/problems/longest-palindromic-substring/discuss/2921/Share-my-Java-solution-using-dynamic-programming\n",
    "class Solution:\n",
    "    def longestPalindrome(self, s: str) -> str:\n",
    "        L = len(s)\n",
    "        dp = [[False] * L for _ in range(L)]\n",
    "        res = ''\n",
    "        for i in range(L-1, -1, -1):\n",
    "            for j in range(i, L):\n",
    "                # exit condition: s[i] == s[j] and j-i <= 2, to ignore shorter s palindrome cases like AXA, AA\n",
    "                # general formula: dp[i][j] = s[i] == s[j] and dp[i+1][j-1]\n",
    "                # dp[i][j] is True when s[i] == s[j] and s(i+1, ..., j-1) is palindrome substring\n",
    "                dp[i][j] = s[i] == s[j] and (j-i <= 2 or dp[i+1][j-1])\n",
    "                # if palindrome found (dp[i][j] == True),\n",
    "                # check if its length (j-i+1) is longer than current longest (len(res))\n",
    "                if dp[i][j] and (not res or j-i+1 > len(res)):\n",
    "                    res = s[i:j+1]\n",
    "        return res"
   ]
  },
  {
   "cell_type": "code",
   "execution_count": null,
   "metadata": {},
   "outputs": [],
   "source": [
    "# A more readable DP version\n",
    "class Solution:\n",
    "    def longestPalindrome(self, s: str) -> str:\n",
    "        L = len(s)\n",
    "        dp = [[False] * L for _ in range(L)]\n",
    "        res = ''\n",
    "        for i in range(L-1, -1, -1):\n",
    "            for j in range(i, L):\n",
    "                if s[i] == s[j]:\n",
    "                    if j-i <= 2:\n",
    "                        # exit condition\n",
    "                        dp[i][j] = True\n",
    "                    else:\n",
    "                        # formula\n",
    "                        dp[i][j] = dp[i+1][j-1]\n",
    "                # longest value update\n",
    "                if dp[i][j] and j-i+1 > len(res):\n",
    "                    res = s[i:j+1]\n",
    "        return res"
   ]
  },
  {
   "cell_type": "code",
   "execution_count": 9,
   "metadata": {},
   "outputs": [],
   "source": [
    "# Two pointer from center (odd/even case)\n",
    "# T: O(N^2)\n",
    "# Runtime: 824 ms, faster than 87.44% \n",
    "# https://leetcode.com/problems/longest-palindromic-substring/discuss/2954/Python-easy-to-understand-solution-with-comments-(from-middle-to-two-ends).\n",
    "class Solution:\n",
    "    def longestPalindrome(self, s: str) -> str:\n",
    "        def findLongest(l: int, r: int) -> str:\n",
    "            while 0 <= l and r < L and s[l] == s[r]:\n",
    "                l -= 1\n",
    "                r += 1\n",
    "            # l and r go one step beyond in the while-loop, we need to return the last step\n",
    "            # aka. s[l+1]->s[r-1]\n",
    "            return s[l+1:r]\n",
    "        \n",
    "        res = ''\n",
    "        L = len(s)\n",
    "        for i in range(L):\n",
    "            # odd|even case\n",
    "            res = max(findLongest(i, i), findLongest(i, i+1), res, key=len)\n",
    "        return res"
   ]
  },
  {
   "cell_type": "code",
   "execution_count": 10,
   "metadata": {},
   "outputs": [
    {
     "data": {
      "text/plain": [
       "'aba'"
      ]
     },
     "execution_count": 10,
     "metadata": {},
     "output_type": "execute_result"
    }
   ],
   "source": [
    "Solution().longestPalindrome(\"aba\")"
   ]
  },
  {
   "cell_type": "code",
   "execution_count": 11,
   "metadata": {},
   "outputs": [
    {
     "data": {
      "text/plain": [
       "''"
      ]
     },
     "execution_count": 11,
     "metadata": {},
     "output_type": "execute_result"
    }
   ],
   "source": [
    "Solution().longestPalindrome(\"\")"
   ]
  },
  {
   "cell_type": "code",
   "execution_count": 12,
   "metadata": {},
   "outputs": [
    {
     "data": {
      "text/plain": [
       "'aa'"
      ]
     },
     "execution_count": 12,
     "metadata": {},
     "output_type": "execute_result"
    }
   ],
   "source": [
    "Solution().longestPalindrome(\"aa\")"
   ]
  },
  {
   "cell_type": "code",
   "execution_count": 13,
   "metadata": {},
   "outputs": [
    {
     "data": {
      "text/plain": [
       "'aba'"
      ]
     },
     "execution_count": 13,
     "metadata": {},
     "output_type": "execute_result"
    }
   ],
   "source": [
    "Solution().longestPalindrome(\"babad\")"
   ]
  },
  {
   "cell_type": "code",
   "execution_count": 14,
   "metadata": {},
   "outputs": [
    {
     "data": {
      "text/plain": [
       "'bb'"
      ]
     },
     "execution_count": 14,
     "metadata": {},
     "output_type": "execute_result"
    }
   ],
   "source": [
    "Solution().longestPalindrome(\"cbbd\")"
   ]
  },
  {
   "cell_type": "code",
   "execution_count": 15,
   "metadata": {},
   "outputs": [
    {
     "data": {
      "text/plain": [
       "'f'"
      ]
     },
     "execution_count": 15,
     "metadata": {},
     "output_type": "execute_result"
    }
   ],
   "source": [
    "Solution().longestPalindrome(\"abcedf\")"
   ]
  },
  {
   "cell_type": "code",
   "execution_count": 16,
   "metadata": {},
   "outputs": [
    {
     "data": {
      "text/plain": [
       "'aaaa'"
      ]
     },
     "execution_count": 16,
     "metadata": {},
     "output_type": "execute_result"
    }
   ],
   "source": [
    "Solution().longestPalindrome(\"aaaa\")"
   ]
  },
  {
   "cell_type": "code",
   "execution_count": null,
   "metadata": {},
   "outputs": [],
   "source": []
  }
 ],
 "metadata": {
  "kernelspec": {
   "display_name": "Python 3",
   "language": "python",
   "name": "python3"
  },
  "language_info": {
   "codemirror_mode": {
    "name": "ipython",
    "version": 3
   },
   "file_extension": ".py",
   "mimetype": "text/x-python",
   "name": "python",
   "nbconvert_exporter": "python",
   "pygments_lexer": "ipython3",
   "version": "3.6.8"
  }
 },
 "nbformat": 4,
 "nbformat_minor": 2
}
