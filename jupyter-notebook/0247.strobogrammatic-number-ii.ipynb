{
 "cells": [
  {
   "cell_type": "markdown",
   "metadata": {},
   "source": [
    "### [247\\. Strobogrammatic Number II](https://leetcode.com/problems/strobogrammatic-number-ii/)\n",
    "\n",
    "Difficulty: **Medium**\n",
    "\n",
    "\n",
    "A strobogrammatic number is a number that looks the same when rotated 180 degrees (looked at upside down).\n",
    "\n",
    "Find all strobogrammatic numbers that are of length = n.\n",
    "\n",
    "**Example:**\n",
    "\n",
    "```\n",
    "Input:  n = 2\n",
    "Output: [\"11\",\"69\",\"88\",\"96\"]\n",
    "```"
   ]
  },
  {
   "cell_type": "code",
   "execution_count": 8,
   "metadata": {},
   "outputs": [],
   "source": [
    "# TLE when n = 10\n",
    "from typing import List\n",
    "from itertools import product\n",
    "\n",
    "class Solution:\n",
    "    def findStrobogrammatic(self, n: int) -> List[str]:\n",
    "        res = []\n",
    "        for s in product('01689', repeat=n):\n",
    "            if s[0] == '0': continue\n",
    "            rev = list(s[::-1])\n",
    "            for i, ch in enumerate(rev):\n",
    "                if ch == '6':\n",
    "                    rev[i] = '9'\n",
    "                elif ch == '9':\n",
    "                    rev[i] = '6'\n",
    "            if tuple(rev) == s: \n",
    "                res += ''.join(s),\n",
    "        return [\"0\"] + res if n == 1 else res "
   ]
  },
  {
   "cell_type": "code",
   "execution_count": 17,
   "metadata": {},
   "outputs": [],
   "source": [
    "# find patterns (recursion)\n",
    "# https://leetcode.com/problems/strobogrammatic-number-ii/discuss/67275/Python-recursive-solution-need-some-observation-so-far-97\n",
    "from typing import List\n",
    "\n",
    "class Solution:\n",
    "    def findStrobogrammatic(self, n: int) -> List[str]:\n",
    "        toInserts = [['00', '11', '88', '69', '96'], ['0', '1', '8']]\n",
    "        def ans(n: int) -> List[str]:\n",
    "            if n == 1:\n",
    "                return ['0', '1', '8']\n",
    "            if n == 2:\n",
    "                return ['11', '69', '88', '96']\n",
    "            res = []\n",
    "            prev = n-2 if n%2 == 0 else n-1\n",
    "            for num in ans(prev):\n",
    "                for toInsert in toInserts[n%2]:\n",
    "                    mid = prev//2\n",
    "                    res.append(num[:mid] + toInsert + num[mid:])\n",
    "            return res\n",
    "        return ans(n)"
   ]
  },
  {
   "cell_type": "code",
   "execution_count": 18,
   "metadata": {},
   "outputs": [
    {
     "data": {
      "text/plain": [
       "['1001',\n",
       " '1111',\n",
       " '1881',\n",
       " '1691',\n",
       " '1961',\n",
       " '6009',\n",
       " '6119',\n",
       " '6889',\n",
       " '6699',\n",
       " '6969',\n",
       " '8008',\n",
       " '8118',\n",
       " '8888',\n",
       " '8698',\n",
       " '8968',\n",
       " '9006',\n",
       " '9116',\n",
       " '9886',\n",
       " '9696',\n",
       " '9966']"
      ]
     },
     "execution_count": 18,
     "metadata": {},
     "output_type": "execute_result"
    }
   ],
   "source": [
    "Solution().findStrobogrammatic(n=4)"
   ]
  },
  {
   "cell_type": "code",
   "execution_count": 19,
   "metadata": {},
   "outputs": [
    {
     "data": {
      "text/plain": [
       "['101',\n",
       " '111',\n",
       " '181',\n",
       " '609',\n",
       " '619',\n",
       " '689',\n",
       " '808',\n",
       " '818',\n",
       " '888',\n",
       " '906',\n",
       " '916',\n",
       " '986']"
      ]
     },
     "execution_count": 19,
     "metadata": {},
     "output_type": "execute_result"
    }
   ],
   "source": [
    "Solution().findStrobogrammatic(n=3)"
   ]
  },
  {
   "cell_type": "code",
   "execution_count": null,
   "metadata": {},
   "outputs": [],
   "source": []
  }
 ],
 "metadata": {
  "kernelspec": {
   "display_name": "Python 3",
   "language": "python",
   "name": "python3"
  },
  "language_info": {
   "codemirror_mode": {
    "name": "ipython",
    "version": 3
   },
   "file_extension": ".py",
   "mimetype": "text/x-python",
   "name": "python",
   "nbconvert_exporter": "python",
   "pygments_lexer": "ipython3",
   "version": "3.6.8"
  }
 },
 "nbformat": 4,
 "nbformat_minor": 2
}
