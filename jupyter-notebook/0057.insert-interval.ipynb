{
 "cells": [
  {
   "cell_type": "markdown",
   "metadata": {},
   "source": [
    "*Intuition*  \n",
    "Seek the index l to insert new start into origin ends array;  \n",
    "then seek the index r to insert new end into origin starts array.  \n",
    "All the intervals in scope [l, r-1] need to merge with the new interval.  \n",
    "Then, concatenates merged interval with left and right non-overlap intervals.  \n",
    "Two edge cases: when the new interval is at the head (r == 0) or tail (l == n) with no overlap with the origin intervals"
   ]
  },
  {
   "cell_type": "code",
   "execution_count": 78,
   "metadata": {},
   "outputs": [],
   "source": [
    "# Binary Search\n",
    "# Runtime: 88 ms, faster than 92.98%\n",
    "from typing import List\n",
    "from bisect import *\n",
    "\n",
    "class Solution:\n",
    "    def insert(self, intervals: List[List[int]], newInterval: List[int]) -> List[List[int]]:\n",
    "        starts = [(t[0], i) for i, t in enumerate(intervals)]\n",
    "        ends   = [(t[1], i) for i, t in enumerate(intervals)]\n",
    "        start, end = newInterval\n",
    "        # seek the index to insert start into ends array\n",
    "        l = bisect_left(ends, (start,float('-inf')))\n",
    "        # seek the index to insert end into starts array\n",
    "        r = bisect_right(starts, (end,float('inf')))\n",
    "        r -= 1 # compare with ends[r-1]\n",
    "        n = len(intervals)\n",
    "        res = []\n",
    "        # 1. append left intervals\n",
    "        if l > 0:\n",
    "            res.extend(intervals[:l])\n",
    "        # 2. append intervals to merge\n",
    "#         print(starts[l][0], start, ends[r][0], end)\n",
    "        ele = [start, end] if l == n or r == -1 else [min(starts[l][0], start), max(ends[r][0], end)]\n",
    "        res.append(ele)\n",
    "        # 3. append right intervals\n",
    "        if r < n:\n",
    "            res.extend(intervals[r+1:])\n",
    "        return res"
   ]
  },
  {
   "cell_type": "code",
   "execution_count": 88,
   "metadata": {},
   "outputs": [],
   "source": [
    "# https://leetcode.com/problems/insert-interval/discuss/21622/7%2B-lines-3-easy-solutions\n",
    "# Runtime: 96 ms, faster than 56.05%\n",
    "from typing import List\n",
    "\n",
    "class Solution:\n",
    "    def insert(self, intervals: List[List[int]], newInterval: List[int]) -> List[List[int]]:\n",
    "        start, end = newInterval\n",
    "        l = [i for i in intervals if start > i[1]]\n",
    "        r = [i for i in intervals if end < i[0]]\n",
    "#         print(l, r)\n",
    "        if l + r != intervals: # overlap intervals exist\n",
    "            start = min(start, intervals[len(l)][0]) # intervals[l] is the leftmost overlapping interval\n",
    "            # ~r = -r-1\n",
    "            end   = max(end, intervals[~len(r)][1]) # intervals[~r] is the rightmost overlapping interval\n",
    "        return l + [[start, end]] + r"
   ]
  },
  {
   "cell_type": "code",
   "execution_count": 89,
   "metadata": {},
   "outputs": [
    {
     "name": "stdout",
     "output_type": "stream",
     "text": [
      "[] [[6, 9]]\n"
     ]
    },
    {
     "data": {
      "text/plain": [
       "[[1, 5], [6, 9]]"
      ]
     },
     "execution_count": 89,
     "metadata": {},
     "output_type": "execute_result"
    }
   ],
   "source": [
    "Solution().insert(intervals = [[1,3],[6,9]], newInterval = [2,5])"
   ]
  },
  {
   "cell_type": "code",
   "execution_count": 80,
   "metadata": {},
   "outputs": [
    {
     "data": {
      "text/plain": [
       "[[0, 10]]"
      ]
     },
     "execution_count": 80,
     "metadata": {},
     "output_type": "execute_result"
    }
   ],
   "source": [
    "Solution().insert(intervals = [[1,3],[6,9]], newInterval = [0,10])"
   ]
  },
  {
   "cell_type": "code",
   "execution_count": 90,
   "metadata": {},
   "outputs": [
    {
     "name": "stdout",
     "output_type": "stream",
     "text": [
      "[[1, 2]] [[12, 16]]\n"
     ]
    },
    {
     "data": {
      "text/plain": [
       "[[1, 2], [3, 10], [12, 16]]"
      ]
     },
     "execution_count": 90,
     "metadata": {},
     "output_type": "execute_result"
    }
   ],
   "source": [
    "Solution().insert(intervals = [[1,2],[3,5],[6,7],[8,10],[12,16]], newInterval = [4,8])"
   ]
  },
  {
   "cell_type": "code",
   "execution_count": 82,
   "metadata": {},
   "outputs": [
    {
     "data": {
      "text/plain": [
       "[[4, 8]]"
      ]
     },
     "execution_count": 82,
     "metadata": {},
     "output_type": "execute_result"
    }
   ],
   "source": [
    "Solution().insert(intervals = [], newInterval = [4,8])"
   ]
  },
  {
   "cell_type": "code",
   "execution_count": 83,
   "metadata": {},
   "outputs": [
    {
     "data": {
      "text/plain": [
       "[[0, 0], [1, 4]]"
      ]
     },
     "execution_count": 83,
     "metadata": {},
     "output_type": "execute_result"
    }
   ],
   "source": [
    "Solution().insert(intervals = [[1,4]], newInterval = [0,0])"
   ]
  },
  {
   "cell_type": "code",
   "execution_count": null,
   "metadata": {},
   "outputs": [],
   "source": []
  }
 ],
 "metadata": {
  "kernelspec": {
   "display_name": "Python 3",
   "language": "python",
   "name": "python3"
  },
  "language_info": {
   "codemirror_mode": {
    "name": "ipython",
    "version": 3
   },
   "file_extension": ".py",
   "mimetype": "text/x-python",
   "name": "python",
   "nbconvert_exporter": "python",
   "pygments_lexer": "ipython3",
   "version": "3.6.8"
  }
 },
 "nbformat": 4,
 "nbformat_minor": 2
}
