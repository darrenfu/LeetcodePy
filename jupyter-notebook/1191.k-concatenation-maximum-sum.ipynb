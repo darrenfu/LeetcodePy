{
 "cells": [
  {
   "cell_type": "code",
   "execution_count": 7,
   "metadata": {},
   "outputs": [],
   "source": [
    "from typing import List\n",
    "\n",
    "class Solution:\n",
    "    def kConcatenationMaxSum(self, arr: List[int], k: int) -> int:\n",
    "        # Kadane’s Algorithm\n",
    "        # T: O(N)\n",
    "        # https://www.geeksforgeeks.org/largest-sum-contiguous-subarray/\n",
    "        def max_subarray_sum(a: List[int]) -> int:\n",
    "            res = 0\n",
    "            presum = 0\n",
    "            # calculate presum, and check every presum in each index\n",
    "            for i, v in enumerate(a): \n",
    "                presum += v\n",
    "                if (res < presum): \n",
    "                    res = presum \n",
    "                # reset presum if negative\n",
    "                if presum < 0: \n",
    "                    presum = 0   \n",
    "            return res\n",
    "        if k >= 2:\n",
    "            # only care about max sum in two concat array\n",
    "            # 1. if sum of array <= 0, the sum of in-between k-2 arrays will be zero\n",
    "            # 2. if sum of array > 0, the sum of in-between arrays will be sum(arr) * (k-2)\n",
    "            # thus, we can combine two cases above\n",
    "            darr = arr * 2\n",
    "            max_sum = max_subarray_sum(darr)\n",
    "            # caculate the max sum among subarrays in doubled array\n",
    "            rest_sum = sum(arr) * (k-2)\n",
    "            if rest_sum < 0:\n",
    "                rest_sum = 0\n",
    "            return (max_sum + rest_sum) % (10**9 + 7)\n",
    "        else:\n",
    "            return max_subarray_sum(arr) % (10**9 + 7)"
   ]
  },
  {
   "cell_type": "code",
   "execution_count": 8,
   "metadata": {},
   "outputs": [
    {
     "data": {
      "text/plain": [
       "0"
      ]
     },
     "execution_count": 8,
     "metadata": {},
     "output_type": "execute_result"
    }
   ],
   "source": [
    "Solution().kConcatenationMaxSum(arr = [-1,-2], k = 7)"
   ]
  },
  {
   "cell_type": "code",
   "execution_count": 9,
   "metadata": {},
   "outputs": [
    {
     "data": {
      "text/plain": [
       "2"
      ]
     },
     "execution_count": 9,
     "metadata": {},
     "output_type": "execute_result"
    }
   ],
   "source": [
    "Solution().kConcatenationMaxSum(arr = [1,-2,1], k = 5)"
   ]
  },
  {
   "cell_type": "code",
   "execution_count": null,
   "metadata": {},
   "outputs": [],
   "source": []
  }
 ],
 "metadata": {
  "kernelspec": {
   "display_name": "Python 3",
   "language": "python",
   "name": "python3"
  },
  "language_info": {
   "codemirror_mode": {
    "name": "ipython",
    "version": 3
   },
   "file_extension": ".py",
   "mimetype": "text/x-python",
   "name": "python",
   "nbconvert_exporter": "python",
   "pygments_lexer": "ipython3",
   "version": "3.6.8"
  }
 },
 "nbformat": 4,
 "nbformat_minor": 2
}
