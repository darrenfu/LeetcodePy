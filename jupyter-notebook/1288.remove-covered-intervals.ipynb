{
 "cells": [
  {
   "cell_type": "markdown",
   "metadata": {},
   "source": [
    "### [1288\\. Remove Covered Intervals](https://leetcode.com/problems/remove-covered-intervals/)\n",
    "\n",
    "Difficulty: **Medium**\n",
    "\n",
    "\n",
    "Given a list of intervals, remove all intervals that are covered by another interval in the list. Interval `[a,b)` is covered by interval `[c,d)` if and only if `c <= a` and `b <= d`.\n",
    "\n",
    "After doing so, return the number of remaining intervals.\n",
    "\n",
    "**Example 1:**\n",
    "\n",
    "```\n",
    "Input: intervals = [[1,4],[3,6],[2,8]]\n",
    "Output: 2\n",
    "Explanation: Interval [3,6] is covered by [2,8], therefore it is removed.\n",
    "```\n",
    "\n",
    "**Constraints:**\n",
    "\n",
    "*   `1 <= intervals.length <= 1000`\n",
    "*   `0 <= intervals[i][0] < intervals[i][1] <= 10^5`\n",
    "*   `intervals[i] != intervals[j]` for all `i != j`"
   ]
  },
  {
   "cell_type": "code",
   "execution_count": 102,
   "metadata": {},
   "outputs": [],
   "source": [
    "# Two pointer solution\n",
    "from typing import List\n",
    "\n",
    "class Solution:\n",
    "    def removeCoveredIntervals(self, intervals: List[List[int]]) -> int:\n",
    "        intervals.sort(key=lambda x: (x[0], -x[1]))\n",
    "        N = len(intervals)\n",
    "        if N <= 1: return N\n",
    "        i = 0\n",
    "        covered = 0\n",
    "        #print(intervals)\n",
    "        while i < N:\n",
    "            smallerFound = False\n",
    "            j = i\n",
    "            while j < N-1:\n",
    "                j += 1\n",
    "                if intervals[i][1] >= intervals[j][1]:\n",
    "                    #print(intervals[i], intervals[j])\n",
    "                    covered += 1\n",
    "                    smallerFound = True\n",
    "                else:\n",
    "                    break\n",
    "            if smallerFound:\n",
    "                i = j\n",
    "            else:\n",
    "                i += 1\n",
    "        return N - covered"
   ]
  },
  {
   "cell_type": "code",
   "execution_count": 84,
   "metadata": {},
   "outputs": [],
   "source": [
    "# O(NLogN)\n",
    "from typing import List\n",
    "\n",
    "class Solution:\n",
    "    def removeCoveredIntervals(self, intervals: List[List[int]]) -> int:\n",
    "        res, right = 0, float('-inf')\n",
    "        for i in sorted(intervals, key=lambda x: (x[0], -x[1])):\n",
    "            s, e = i[0], i[1]\n",
    "            if e > right:\n",
    "                res += 1 # count the intervals covering others\n",
    "                right = e # maintain the local (covered) 'right'\n",
    "        return res"
   ]
  },
  {
   "cell_type": "code",
   "execution_count": 119,
   "metadata": {},
   "outputs": [],
   "source": [
    "# O(N^2)\n",
    "from typing import List\n",
    "\n",
    "class Solution:\n",
    "    def removeCoveredIntervals(self, intervals: List[List[int]]) -> int:\n",
    "        N = len(intervals)\n",
    "        ans = 0\n",
    "        for i in range(N):\n",
    "            covered = False\n",
    "            for j in range(N):\n",
    "                if i == j:\n",
    "                    continue\n",
    "                # find at least one interval (intervals[j]) covers intervals[i]\n",
    "                if intervals[j][0] <= intervals[i][0] and intervals[i][1] <= intervals[j][1]:\n",
    "                    covered = True\n",
    "                    break\n",
    "            ans += not covered\n",
    "        return ans"
   ]
  },
  {
   "cell_type": "code",
   "execution_count": 114,
   "metadata": {},
   "outputs": [],
   "source": [
    "# Incorrect - Boundary Counting doesn't work here?\n",
    "from typing import List\n",
    "\n",
    "class Solution:\n",
    "    def removeCoveredIntervals(self, intervals: List[List[int]]) -> int:\n",
    "        cnt = []\n",
    "        for i in intervals:\n",
    "            s, e = i[0], i[1]\n",
    "            cnt += [(s, 1), (e, -1)]\n",
    "        \n",
    "        res = 0\n",
    "        prev_presum, presum = 0, 0\n",
    "        for _, freq_1 in sorted(cnt):\n",
    "            presum += freq_1\n",
    "            if prev_presum <= 1 and presum > 0:\n",
    "                res += 1\n",
    "            prev_presum = presum\n",
    "        return res"
   ]
  },
  {
   "cell_type": "code",
   "execution_count": 120,
   "metadata": {},
   "outputs": [
    {
     "data": {
      "text/plain": [
       "1"
      ]
     },
     "execution_count": 120,
     "metadata": {},
     "output_type": "execute_result"
    }
   ],
   "source": [
    "Solution().removeCoveredIntervals([[1,4],[1,6]])"
   ]
  },
  {
   "cell_type": "code",
   "execution_count": 121,
   "metadata": {},
   "outputs": [
    {
     "data": {
      "text/plain": [
       "2"
      ]
     },
     "execution_count": 121,
     "metadata": {},
     "output_type": "execute_result"
    }
   ],
   "source": [
    "Solution().removeCoveredIntervals([[1,4],[3,6],[2,8]])"
   ]
  },
  {
   "cell_type": "code",
   "execution_count": 122,
   "metadata": {},
   "outputs": [
    {
     "data": {
      "text/plain": [
       "3"
      ]
     },
     "execution_count": 122,
     "metadata": {},
     "output_type": "execute_result"
    }
   ],
   "source": [
    "Solution().removeCoveredIntervals([[1,4],[4,5],[4,7],[3,6],[2,8],[4,9]])"
   ]
  },
  {
   "cell_type": "code",
   "execution_count": 123,
   "metadata": {},
   "outputs": [
    {
     "data": {
      "text/plain": [
       "3"
      ]
     },
     "execution_count": 123,
     "metadata": {},
     "output_type": "execute_result"
    }
   ],
   "source": [
    "Solution().removeCoveredIntervals([[66672,75156],[59890,65654],[92950,95965],[9103,31953],[54869,69855],[33272,92693],[52631,65356],[43332,89722],[4218,57729],[20993,92876]])"
   ]
  },
  {
   "cell_type": "code",
   "execution_count": 124,
   "metadata": {},
   "outputs": [
    {
     "data": {
      "text/plain": [
       "6"
      ]
     },
     "execution_count": 124,
     "metadata": {},
     "output_type": "execute_result"
    }
   ],
   "source": [
    "Solution().removeCoveredIntervals([[67541,79148],[67383,97590],[13010,52673],[26804,68064],[72881,97442],[67113,81811],[24671,56292],[46489,87771],[46192,84117],[26475,89094],[10514,96896],[28373,63689],[26672,27060],[17618,38133],[49877,53731],[60696,88403],[13787,49269],[3352,37462],[11813,67065],[50313,54836],[9611,77214],[16919,46087],[87509,93505],[21770,63192],[17497,35605],[16848,36374],[66905,95571],[64131,78790],[24831,58174],[50227,81628],[24680,72127],[48702,78781],[69063,82529],[12443,34339],[26759,62399],[37478,83116],[56866,89780],[17421,43042],[36251,70538],[64419,95718],[24638,51641],[36269,71891],[39077,60053],[38590,52666],[12895,84019],[31369,53360],[53451,83668],[58983,66570],[14728,18680],[32037,45371],[3341,73015],[12256,27546],[17169,64578],[4667,60423],[17188,36340],[33821,77200],[7873,49591],[46252,48686],[3176,13528],[88672,96597],[48035,68772],[22892,61301],[68706,82663],[26817,70504],[50909,51658],[42654,60785],[10286,10798],[54725,71901],[17036,66582],[47781,69127],[55485,65273],[13985,30495],[18342,74250],[39866,64770],[78642,80970],[73853,91081],[24103,54368],[49036,86336],[40678,86026],[23602,49454],[27620,36347],[15441,44139],[4985,76192],[5361,88807],[66329,86608],[35250,95081],[68270,70103],[31117,57617],[7105,54154],[21148,22809],[9165,34629],[28968,80416],[53102,94186],[3946,67005],[21822,68280],[4125,15354],[21252,82287],[17463,79629],[32826,34300],[6716,61254]])"
   ]
  },
  {
   "cell_type": "code",
   "execution_count": null,
   "metadata": {},
   "outputs": [],
   "source": []
  },
  {
   "cell_type": "code",
   "execution_count": null,
   "metadata": {},
   "outputs": [],
   "source": []
  }
 ],
 "metadata": {
  "kernelspec": {
   "display_name": "Python 3",
   "language": "python",
   "name": "python3"
  },
  "language_info": {
   "codemirror_mode": {
    "name": "ipython",
    "version": 3
   },
   "file_extension": ".py",
   "mimetype": "text/x-python",
   "name": "python",
   "nbconvert_exporter": "python",
   "pygments_lexer": "ipython3",
   "version": "3.6.8"
  }
 },
 "nbformat": 4,
 "nbformat_minor": 2
}
