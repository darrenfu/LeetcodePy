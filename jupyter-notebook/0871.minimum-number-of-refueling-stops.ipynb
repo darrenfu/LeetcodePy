{
 "cells": [
  {
   "cell_type": "markdown",
   "metadata": {},
   "source": [
    "### [871\\. Minimum Number of Refueling Stops](https://leetcode.com/problems/minimum-number-of-refueling-stops/)\n",
    "\n",
    "Difficulty: **Hard**\n",
    "\n",
    "\n",
    "A car travels from a starting position to a destination which is `target` miles east of the starting position.\n",
    "\n",
    "Along the way, there are gas stations.  Each `station[i]` represents a gas station that is `station[i][0]` miles east of the starting position, and has `station[i][1]` liters of gas.\n",
    "\n",
    "The car starts with an infinite tank of gas, which initially has `startFuel` liters of fuel in it.  It uses 1 liter of gas per 1 mile that it drives.\n",
    "\n",
    "When the car reaches a gas station, it may stop and refuel, transferring all the gas from the station into the car.\n",
    "\n",
    "What is the least number of refueling stops the car must make in order to reach its destination?  If it cannot reach the destination, return `-1`.\n",
    "\n",
    "Note that if the car reaches a gas station with 0 fuel left, the car can still refuel there.  If the car reaches the destination with 0 fuel left, it is still considered to have arrived.\n",
    "\n",
    "\n",
    "**Example 1:**\n",
    "\n",
    "```\n",
    "Input: target = 1, startFuel = 1, stations = []\n",
    "Output: 0\n",
    "Explanation: We can reach the target without refueling.\n",
    "```\n",
    "\n",
    "\n",
    "**Example 2:**\n",
    "\n",
    "```\n",
    "Input: target = 100, startFuel = 1, stations = [[10,100]]\n",
    "Output: -1\n",
    "Explanation: We can't reach the target (or even the first gas station).\n",
    "```\n",
    "\n",
    "\n",
    "**Example 3:**\n",
    "\n",
    "```\n",
    "Input: target = 100, startFuel = 10, stations = [[10,60],[20,30],[30,30],[60,40]]\n",
    "Output: 2\n",
    "Explanation: \n",
    "We start with 10 liters of fuel.\n",
    "We drive to position 10, expending 10 liters of fuel.  We refuel from 0 liters to 60 liters of gas.\n",
    "Then, we drive from position 10 to position 60 (expending 50 liters of fuel),\n",
    "and refuel from 10 liters to 50 liters of gas.  We then drive to and reach the target.\n",
    "We made 2 refueling stops along the way, so we return 2.\n",
    "```\n",
    "\n",
    "**Note:**\n",
    "\n",
    "1.  `1 <= target, startFuel, stations[i][1] <= 10^9`\n",
    "2.  `0 <= stations.length <= 500`\n",
    "3.  `0 < stations[0][0] < stations[1][0] < ... < stations[stations.length-1][0] < target`"
   ]
  },
  {
   "cell_type": "code",
   "execution_count": 11,
   "metadata": {},
   "outputs": [],
   "source": [
    "# DP - mutation of 0/1 knapsack problem\n",
    "# https://leetcode.com/problems/minimum-number-of-refueling-stops/discuss/149839/DP-O(N2)-and-Priority-Queue-O(NlogN)\n",
    "from typing import List\n",
    "\n",
    "class Solution:\n",
    "    def minRefuelStops(self, target: int, startFuel: int, stations: List[List[int]]) -> int:\n",
    "        N = len(stations)\n",
    "        dp = [startFuel] + [0] * N # dp[t] means the furthest distance that we can get with t times of refueling.\n",
    "        for i in range(N):\n",
    "#             for j in range(i+1, -1, -1):\n",
    "            for j in range(i+1)[::-1]:\n",
    "                # station[i] = (location, capacity)\n",
    "                if dp[j] >= stations[i][0]: # the mutation restriction condition: prev further distance vs next station's location\n",
    "                    dp[j+1] = max(dp[j+1], dp[j] + stations[i][1])\n",
    "        print(dp)\n",
    "        for t, d in enumerate(dp):\n",
    "            if d >= target:\n",
    "                return t\n",
    "        return -1"
   ]
  },
  {
   "cell_type": "code",
   "execution_count": 12,
   "metadata": {},
   "outputs": [
    {
     "name": "stdout",
     "output_type": "stream",
     "text": [
      "[10, 70, 110, 140, 170]\n"
     ]
    },
    {
     "data": {
      "text/plain": [
       "2"
      ]
     },
     "execution_count": 12,
     "metadata": {},
     "output_type": "execute_result"
    }
   ],
   "source": [
    "Solution().minRefuelStops(target = 100, startFuel = 10, stations = [[10,60],[20,30],[30,30],[60,40]])"
   ]
  },
  {
   "cell_type": "code",
   "execution_count": 13,
   "metadata": {},
   "outputs": [
    {
     "name": "stdout",
     "output_type": "stream",
     "text": [
      "[1, 0]\n"
     ]
    },
    {
     "data": {
      "text/plain": [
       "-1"
      ]
     },
     "execution_count": 13,
     "metadata": {},
     "output_type": "execute_result"
    }
   ],
   "source": [
    "Solution().minRefuelStops(target = 100, startFuel = 1, stations = [[10,100]])"
   ]
  },
  {
   "cell_type": "code",
   "execution_count": 14,
   "metadata": {},
   "outputs": [
    {
     "name": "stdout",
     "output_type": "stream",
     "text": [
      "[1]\n"
     ]
    },
    {
     "data": {
      "text/plain": [
       "0"
      ]
     },
     "execution_count": 14,
     "metadata": {},
     "output_type": "execute_result"
    }
   ],
   "source": [
    "Solution().minRefuelStops(target = 1, startFuel = 1, stations = [])"
   ]
  },
  {
   "cell_type": "code",
   "execution_count": null,
   "metadata": {},
   "outputs": [],
   "source": []
  }
 ],
 "metadata": {
  "kernelspec": {
   "display_name": "Python 3",
   "language": "python",
   "name": "python3"
  },
  "language_info": {
   "codemirror_mode": {
    "name": "ipython",
    "version": 3
   },
   "file_extension": ".py",
   "mimetype": "text/x-python",
   "name": "python",
   "nbconvert_exporter": "python",
   "pygments_lexer": "ipython3",
   "version": "3.6.8"
  }
 },
 "nbformat": 4,
 "nbformat_minor": 2
}
