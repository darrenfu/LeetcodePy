{
 "cells": [
  {
   "cell_type": "code",
   "execution_count": 1,
   "metadata": {},
   "outputs": [],
   "source": [
    "from typing import List\n",
    "from collections import Counter\n",
    "\n",
    "class Solution:\n",
    "    def countCharacters(self, words: List[str], chars: str) -> int:\n",
    "        cnt = Counter()\n",
    "        for c in chars:\n",
    "            cnt[c] += 1\n",
    "\n",
    "        res = 0\n",
    "        for w in words:\n",
    "            newCnt = cnt.copy()\n",
    "            notmatch = False\n",
    "            for c in w:\n",
    "                newCnt[c] -= 1\n",
    "                if newCnt[c] < 0:\n",
    "                    notmatch = True\n",
    "                    break\n",
    "            if not notmatch:\n",
    "                res += len(w)\n",
    "        return res"
   ]
  },
  {
   "cell_type": "code",
   "execution_count": 2,
   "metadata": {},
   "outputs": [
    {
     "data": {
      "text/plain": [
       "6"
      ]
     },
     "execution_count": 2,
     "metadata": {},
     "output_type": "execute_result"
    }
   ],
   "source": [
    "Solution().countCharacters(words = [\"cat\",\"bt\",\"hat\",\"tree\"], chars = \"atach\")"
   ]
  },
  {
   "cell_type": "code",
   "execution_count": 3,
   "metadata": {},
   "outputs": [
    {
     "data": {
      "text/plain": [
       "10"
      ]
     },
     "execution_count": 3,
     "metadata": {},
     "output_type": "execute_result"
    }
   ],
   "source": [
    "Solution().countCharacters(words = [\"hello\",\"world\",\"leetcode\"], chars = \"welldonehoneyr\")"
   ]
  }
 ],
 "metadata": {
  "kernelspec": {
   "display_name": "Python 3",
   "language": "python",
   "name": "python3"
  },
  "language_info": {
   "codemirror_mode": {
    "name": "ipython",
    "version": 3
   },
   "file_extension": ".py",
   "mimetype": "text/x-python",
   "name": "python",
   "nbconvert_exporter": "python",
   "pygments_lexer": "ipython3",
   "version": "3.6.8"
  }
 },
 "nbformat": 4,
 "nbformat_minor": 2
}
