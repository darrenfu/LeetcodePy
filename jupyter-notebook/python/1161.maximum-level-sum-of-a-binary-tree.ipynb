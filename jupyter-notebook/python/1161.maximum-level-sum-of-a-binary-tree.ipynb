{
 "cells": [
  {
   "cell_type": "code",
   "execution_count": 1,
   "metadata": {},
   "outputs": [],
   "source": [
    "import math\n",
    "from collections import defaultdict\n",
    "\n",
    "# Definition for a binary tree node.\n",
    "class TreeNode:\n",
    "    def __init__(self, x):\n",
    "        self.val = x\n",
    "        self.left = None\n",
    "        self.right = None\n",
    "\n",
    "class Solution:\n",
    "    def maxLevelSum(self, root: TreeNode) -> int:\n",
    "        if not root:\n",
    "            return 0\n",
    "        # bfs\n",
    "        lvl = 1\n",
    "        q = [(root, lvl)]\n",
    "        sumMap = defaultdict(int)\n",
    "        while q:\n",
    "            head, lvl = q.pop(0)\n",
    "            sumMap[lvl] += head.val\n",
    "            if head.left: q.append((head.left, lvl + 1))\n",
    "            if head.right: q.append((head.right, lvl + 1))\n",
    "        maxSum = - math.inf\n",
    "        res = 0\n",
    "        for lvl in sorted(sumMap.keys()):\n",
    "            if sumMap[lvl] > maxSum:\n",
    "                maxSum = sumMap[lvl]\n",
    "                res = lvl\n",
    "        return res"
   ]
  },
  {
   "cell_type": "code",
   "execution_count": null,
   "metadata": {},
   "outputs": [],
   "source": []
  }
 ],
 "metadata": {
  "kernelspec": {
   "display_name": "Python 3",
   "language": "python",
   "name": "python3"
  },
  "language_info": {
   "codemirror_mode": {
    "name": "ipython",
    "version": 3
   },
   "file_extension": ".py",
   "mimetype": "text/x-python",
   "name": "python",
   "nbconvert_exporter": "python",
   "pygments_lexer": "ipython3",
   "version": "3.6.8"
  }
 },
 "nbformat": 4,
 "nbformat_minor": 2
}
