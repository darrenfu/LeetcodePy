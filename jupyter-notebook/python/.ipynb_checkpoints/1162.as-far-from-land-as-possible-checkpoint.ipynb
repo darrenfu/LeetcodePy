{
 "cells": [
  {
   "cell_type": "code",
   "execution_count": 1,
   "metadata": {},
   "outputs": [],
   "source": [
    "from typing import List\n",
    "\n",
    "\n",
    "class Solution:\n",
    "    def maxDistance(self, grid: List[List[int]]) -> int:\n",
    "        def isValidMove(x: int, y: int) -> bool:\n",
    "            nonlocal M, N\n",
    "            return 0 <= x < M and 0 <= y < N\n",
    "\n",
    "        def checkSurroundings(i: int, j: int, searchVal: int) -> bool:\n",
    "            nonlocal M, N\n",
    "            for ii, jj in moves:\n",
    "                x, y = i + ii, j + jj\n",
    "                if isValidMove(x, y):\n",
    "                    if searchVal == grid[x][y]:\n",
    "                        return True\n",
    "            return False\n",
    "\n",
    "        M, N = len(grid), len(grid[0])\n",
    "        # check all 1s or all 0s, return false\n",
    "        initVal = grid[0][0]\n",
    "        allSame = True\n",
    "        for i in range(M):\n",
    "            for j in range(N):\n",
    "                if grid[i][j] != initVal:\n",
    "                    allSame = False\n",
    "                    break\n",
    "            if not allSame:\n",
    "                break\n",
    "        if allSame:\n",
    "            return -1\n",
    "\n",
    "        # init queue to get all 0s near 1s\n",
    "        moves = [(1, 0), (-1, 0), (0, 1), (0, -1)]\n",
    "        q = []\n",
    "        lvl = 1\n",
    "        for i in range(M):\n",
    "            for j in range(N):\n",
    "                if grid[i][j] == 0 and checkSurroundings(i, j, 1):\n",
    "                    q.append((i, j, lvl))\n",
    "        # bfs\n",
    "        traversed = dict()\n",
    "        for i, j, _ in q:\n",
    "            traversed[(i, j)] = 1\n",
    "        while q:\n",
    "            i, j, lvl = q.pop(0)\n",
    "            for ii, jj in moves:\n",
    "                x, y = i + ii, j + jj\n",
    "                if isValidMove(x, y) and (x, y) not in traversed and not checkSurroundings(x, y, 1):\n",
    "                    # print(x, y, lvl+1)\n",
    "                    q.append((x, y, lvl + 1))\n",
    "                    traversed[(x, y)] = 1\n",
    "        return lvl"
   ]
  },
  {
   "cell_type": "code",
   "execution_count": 2,
   "metadata": {},
   "outputs": [
    {
     "data": {
      "text/plain": [
       "-1"
      ]
     },
     "execution_count": 2,
     "metadata": {},
     "output_type": "execute_result"
    }
   ],
   "source": [
    "Solution().maxDistance(grid=[[0,0,0,0],[0,0,0,0],[0,0,0,0],[0,0,0,0]])"
   ]
  },
  {
   "cell_type": "code",
   "execution_count": 3,
   "metadata": {},
   "outputs": [
    {
     "data": {
      "text/plain": [
       "2"
      ]
     },
     "execution_count": 3,
     "metadata": {},
     "output_type": "execute_result"
    }
   ],
   "source": [
    "Solution().maxDistance(grid=[[1,0,1],[0,0,0],[1,0,1]])"
   ]
  }
 ],
 "metadata": {
  "kernelspec": {
   "display_name": "Python 3",
   "language": "python",
   "name": "python3"
  },
  "language_info": {
   "codemirror_mode": {
    "name": "ipython",
    "version": 3
   },
   "file_extension": ".py",
   "mimetype": "text/x-python",
   "name": "python",
   "nbconvert_exporter": "python",
   "pygments_lexer": "ipython3",
   "version": "3.6.8"
  }
 },
 "nbformat": 4,
 "nbformat_minor": 2
}
