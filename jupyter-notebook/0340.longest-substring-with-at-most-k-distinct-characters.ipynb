{
 "cells": [
  {
   "cell_type": "markdown",
   "metadata": {},
   "source": [
    "### [340\\. Longest Substring with At Most K Distinct Characters](https://leetcode.com/problems/longest-substring-with-at-most-k-distinct-characters/)\n",
    "\n",
    "Difficulty: **Hard**\n",
    "\n",
    "\n",
    "Given a string, find the length of the longest substring T that contains at most _k_ distinct characters.\n",
    "\n",
    "**Example 1:**\n",
    "\n",
    "\n",
    "```\n",
    "Input: s = \"eceba\", k = 2\n",
    "Output: 3\n",
    "Explanation: T is \"ece\" which its length is 3.\n",
    "```\n",
    "\n",
    "\n",
    "**Example 2:**\n",
    "\n",
    "```\n",
    "Input: s = \"aa\", k = 1\n",
    "Output: 2\n",
    "Explanation: T is \"aa\" which its length is 2.\n",
    "```"
   ]
  },
  {
   "cell_type": "code",
   "execution_count": 41,
   "metadata": {},
   "outputs": [],
   "source": [
    "from collections import defaultdict\n",
    "\n",
    "class Solution:\n",
    "    def lengthOfLongestSubstringKDistinct(self, s: str, k: int) -> int:\n",
    "        L = len(s)\n",
    "        c = defaultdict(int)\n",
    "        prev = 0\n",
    "        global_longest = 0\n",
    "        def swap_longest(s, e):\n",
    "            nonlocal global_longest\n",
    "            if e-s > global_longest:\n",
    "                global_longest = e-s\n",
    "                \n",
    "        for i, ch in enumerate(s):\n",
    "            c[ch] += 1\n",
    "            if len(c.keys()) > k:\n",
    "                c[s[prev]] -= 1\n",
    "                if c[s[prev]] == 0:\n",
    "                    del c[s[prev]]\n",
    "                swap_longest(prev, i)\n",
    "                prev += 1\n",
    "        if len(c.keys()) <= k:\n",
    "            swap_longest(prev, L)\n",
    "        return global_longest"
   ]
  },
  {
   "cell_type": "code",
   "execution_count": null,
   "metadata": {},
   "outputs": [],
   "source": [
    "# An optimization based on solution above - rather than store occurrence, we store latest index (save `prev` variable)\n",
    "# https://leetcode.com/problems/longest-substring-with-at-most-k-distinct-characters/discuss/80052/10-line-Python-Solution-using-dictionary-with-easy-to-understand-explanation\n",
    "class Solution:\n",
    "    def lengthOfLongestSubstringKDistinct(self, s: str, k: int) -> int:\n",
    "        # Use dictionary d to keep track of (character, location) pair,\n",
    "        # where location is the rightmost location that the character appears at\n",
    "        d = {}\n",
    "        low, ret = 0, 0\n",
    "        for i, c in enumerate(s):\n",
    "            d[c] = i\n",
    "            if len(d) > k:\n",
    "                low = min(d.values())\n",
    "                del d[s[low]]\n",
    "                low += 1\n",
    "            ret = max(i - low + 1, ret)\n",
    "        return ret"
   ]
  },
  {
   "cell_type": "code",
   "execution_count": 42,
   "metadata": {},
   "outputs": [
    {
     "data": {
      "text/plain": [
       "3"
      ]
     },
     "execution_count": 42,
     "metadata": {},
     "output_type": "execute_result"
    }
   ],
   "source": [
    "Solution().lengthOfLongestSubstringKDistinct(s = \"eceba\", k = 2)"
   ]
  },
  {
   "cell_type": "code",
   "execution_count": 43,
   "metadata": {},
   "outputs": [
    {
     "data": {
      "text/plain": [
       "2"
      ]
     },
     "execution_count": 43,
     "metadata": {},
     "output_type": "execute_result"
    }
   ],
   "source": [
    "Solution().lengthOfLongestSubstringKDistinct(s = \"aa\", k = 1)"
   ]
  },
  {
   "cell_type": "code",
   "execution_count": 44,
   "metadata": {},
   "outputs": [
    {
     "data": {
      "text/plain": [
       "3"
      ]
     },
     "execution_count": 44,
     "metadata": {},
     "output_type": "execute_result"
    }
   ],
   "source": [
    "Solution().lengthOfLongestSubstringKDistinct(\"bacc\", 2)"
   ]
  },
  {
   "cell_type": "code",
   "execution_count": null,
   "metadata": {},
   "outputs": [],
   "source": []
  },
  {
   "cell_type": "code",
   "execution_count": null,
   "metadata": {},
   "outputs": [],
   "source": []
  }
 ],
 "metadata": {
  "kernelspec": {
   "display_name": "Python 3",
   "language": "python",
   "name": "python3"
  },
  "language_info": {
   "codemirror_mode": {
    "name": "ipython",
    "version": 3
   },
   "file_extension": ".py",
   "mimetype": "text/x-python",
   "name": "python",
   "nbconvert_exporter": "python",
   "pygments_lexer": "ipython3",
   "version": "3.6.8"
  }
 },
 "nbformat": 4,
 "nbformat_minor": 2
}
