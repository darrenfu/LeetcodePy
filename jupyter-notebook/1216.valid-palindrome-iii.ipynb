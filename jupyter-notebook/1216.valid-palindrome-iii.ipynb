{
 "cells": [
  {
   "cell_type": "code",
   "execution_count": 3,
   "metadata": {},
   "outputs": [],
   "source": [
    "# Similar to #72. Edit Distance (where only deletion is allowed between s and reversed(s))\n",
    "# Runtime: 700 ms, faster than 40.93%\n",
    "# https://leetcode.com/problems/valid-palindrome-iii/discuss/397634/Python3-Edit-Distance\n",
    "class Solution:\n",
    "    def isValidPalindrome(self, s: str, k: int) -> bool:\n",
    "        L = len(s)\n",
    "        dp = [[0 for _ in range(L+1)] for _ in range(L+1)]\n",
    "        for i in range(1, L+1):\n",
    "            dp[i][0] = i\n",
    "            dp[0][i] = i\n",
    "        \n",
    "        for i in range(1,L+1):\n",
    "            for j in range(1,L+1):\n",
    "                if s[i-1] == s[L-j]: # is palindrome pair, e.g. i=1,j=1\n",
    "                    dp[i][j] = dp[i-1][j-1]\n",
    "                else:\n",
    "                    dp[i][j] = 1 + min(dp[i-1][j], dp[i][j-1])\n",
    "        return dp[L][L] <= k * 2"
   ]
  },
  {
   "cell_type": "code",
   "execution_count": 13,
   "metadata": {},
   "outputs": [],
   "source": [
    "# Top down Memorization (DP - recursion)\n",
    "# Runtime: 1768 ms, faster than 16.72% \n",
    "# T&S: O(N^2)\n",
    "# https://leetcode.com/problems/valid-palindrome-iii/discuss/397770/Python3-O(n2)-Top-Down-Memoization-DP-Solution-with-Explanation\n",
    "from functools import lru_cache\n",
    "class Solution:\n",
    "    def isValidPalindrome(self, s: str, k: int) -> bool:\n",
    "        # Two pointer\n",
    "        @lru_cache(None)\n",
    "        def isPalindrome(left: int, right: int, deletions: int) -> bool:\n",
    "            if deletions > k: return False # more than k deletions\n",
    "            if left >= right: return True # where left index meets the right index\n",
    "            # if is palindrome on next pair, no deletion required on the pair\n",
    "            if s[left] == s[right]: return isPalindrome(left+1, right-1, deletions)\n",
    "            # either delete left letter or right letter (deletions + 1)\n",
    "            return isPalindrome(left+1, right, deletions+1) or isPalindrome(left, right-1, deletions+1)\n",
    "        \n",
    "        # left index starts from head of s, right index starts from tail of s\n",
    "        return isPalindrome(left=0, right=len(s)-1, deletions=0)"
   ]
  },
  {
   "cell_type": "code",
   "execution_count": null,
   "metadata": {},
   "outputs": [],
   "source": [
    "# Similar to #516. Longest Palindromic Subsequence\n",
    "# https://leetcode.com/problems/valid-palindrome-iii/discuss/397606/Find-Longest-Palindromic-Subsequence."
   ]
  },
  {
   "cell_type": "code",
   "execution_count": 14,
   "metadata": {},
   "outputs": [
    {
     "data": {
      "text/plain": [
       "True"
      ]
     },
     "execution_count": 14,
     "metadata": {},
     "output_type": "execute_result"
    }
   ],
   "source": [
    "Solution().isValidPalindrome(s = \"abcdeca\", k = 2)"
   ]
  },
  {
   "cell_type": "code",
   "execution_count": null,
   "metadata": {},
   "outputs": [],
   "source": []
  }
 ],
 "metadata": {
  "kernelspec": {
   "display_name": "Python 3",
   "language": "python",
   "name": "python3"
  },
  "language_info": {
   "codemirror_mode": {
    "name": "ipython",
    "version": 3
   },
   "file_extension": ".py",
   "mimetype": "text/x-python",
   "name": "python",
   "nbconvert_exporter": "python",
   "pygments_lexer": "ipython3",
   "version": "3.6.8"
  }
 },
 "nbformat": 4,
 "nbformat_minor": 2
}
