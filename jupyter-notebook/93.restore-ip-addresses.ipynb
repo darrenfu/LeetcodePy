{
 "cells": [
  {
   "cell_type": "code",
   "execution_count": 82,
   "metadata": {},
   "outputs": [],
   "source": [
    "# DFS DP\n",
    "# Runtime: 32 ms, faster than 97.94%\n",
    "# https://leetcode.com/problems/restore-ip-addresses/discuss/30944/Very-simple-DFS-solution\n",
    "from typing import List\n",
    "\n",
    "class Solution:\n",
    "    def restoreIpAddresses(self, s: str) -> List[str]: \n",
    "        L = len(s)\n",
    "        IP_SEC = 4\n",
    "        MAX_DIGITS = 3\n",
    "        res = []\n",
    "        def dp(idx: int, stack: List[str]):\n",
    "            nonlocal L\n",
    "            nonlocal IP_SEC\n",
    "            nonlocal MAX_DIGITS\n",
    "            sl = len(stack)\n",
    "#             if sl > IP_SEC:\n",
    "#                 return\n",
    "            if sl == IP_SEC and idx == L:\n",
    "                res.append(\".\".join(stack))\n",
    "                return\n",
    "            \n",
    "            for l in range(1, IP_SEC):\n",
    "                # pruning\n",
    "                # L-idx: remaining s length open for recursion\n",
    "                # IP_SEC-sl: remaining ip digit count\n",
    "                # MAX_DIGITS: max digit number (len('255') = 3)\n",
    "                if l <= L-idx <= (IP_SEC-sl)*MAX_DIGITS:\n",
    "                    sub = s[idx:idx+l]\n",
    "                    if (l > 1 and s[idx] == \"0\") or (l == MAX_DIGITS and int(sub) >= 256):\n",
    "                        continue\n",
    "                    stack.append(sub)\n",
    "                    dp(idx+l, stack)\n",
    "                    stack.pop()\n",
    "                else: break\n",
    "        dp(0, [])\n",
    "        return res"
   ]
  },
  {
   "cell_type": "code",
   "execution_count": 115,
   "metadata": {},
   "outputs": [],
   "source": [
    "# pass substring instead of passing start_index of s into backtrack function\n",
    "# Runtime: 40 ms, faster than 74.24%\n",
    "# https://leetcode.com/problems/restore-ip-addresses/discuss/31140/Python-easy-to-understand-solution-with-comments-(backtracking).\n",
    "from typing import List\n",
    "\n",
    "class Solution:\n",
    "    def restoreIpAddresses(self, s: str) -> List[str]: \n",
    "        res = []\n",
    "        def backtrack(sub: str, stack: List[str]):\n",
    "            sl = len(stack)\n",
    "            if sl == 4:\n",
    "                if not sub:\n",
    "                    res.append(\".\".join(stack))\n",
    "                return # backtracking\n",
    "            for i in range(1, min(3, len(sub)) + 1):\n",
    "                if (i > 1 and sub[0] == \"0\") or (i == 3 and int(sub[:i]) >= 256):\n",
    "                    continue\n",
    "                stack.append(sub[:i])\n",
    "                backtrack(sub[i:], stack)\n",
    "                stack.pop()\n",
    "        backtrack(s, [])\n",
    "        return res"
   ]
  },
  {
   "cell_type": "code",
   "execution_count": 116,
   "metadata": {},
   "outputs": [],
   "source": [
    "# Runtime: 44 ms, faster than 45.04%\n",
    "# https://leetcode.com/problems/restore-ip-addresses/discuss/30972/WHO-CAN-BEAT-THIS-CODE\n",
    "from typing import List\n",
    "\n",
    "class Solution:\n",
    "    def restoreIpAddresses(self, s: str) -> List[str]: \n",
    "        MAX_DIGITS = 3\n",
    "        MAX_VALUE = 255\n",
    "        L = len(s)\n",
    "        res = []\n",
    "        for i1 in range(1, MAX_DIGITS+1):\n",
    "            for i2 in range(1, MAX_DIGITS+1):\n",
    "                for i3 in range(1, MAX_DIGITS+1):\n",
    "                    for i4 in range(1, MAX_DIGITS+1):\n",
    "                        if i1 + i2 + i3 + i4 == L:\n",
    "                            chs = s[:i1], s[i1:i1+i2], s[i1+i2:i1+i2+i3], s[i1+i2+i3:i1+i2+i3+i4]\n",
    "                            if all(map(lambda ch: int(ch) <= MAX_VALUE, chs)) and \\\n",
    "                                all(map(lambda ch: len(ch) == 1 or (len(ch) > 1 and ch[0] != '0'), chs)):\n",
    "                                l = sum(map(lambda ch: len(ch), chs))\n",
    "                                if l == L:\n",
    "                                    res.append(\".\".join(chs))\n",
    "        return res"
   ]
  },
  {
   "cell_type": "code",
   "execution_count": 117,
   "metadata": {},
   "outputs": [
    {
     "data": {
      "text/plain": [
       "['255.255.11.135', '255.255.111.35']"
      ]
     },
     "execution_count": 117,
     "metadata": {},
     "output_type": "execute_result"
    }
   ],
   "source": [
    "Solution().restoreIpAddresses(s=\"25525511135\")"
   ]
  },
  {
   "cell_type": "code",
   "execution_count": 118,
   "metadata": {},
   "outputs": [
    {
     "data": {
      "text/plain": [
       "['0.10.0.10', '0.100.1.0']"
      ]
     },
     "execution_count": 118,
     "metadata": {},
     "output_type": "execute_result"
    }
   ],
   "source": [
    "Solution().restoreIpAddresses(s=\"010010\")"
   ]
  },
  {
   "cell_type": "code",
   "execution_count": null,
   "metadata": {},
   "outputs": [],
   "source": []
  }
 ],
 "metadata": {
  "kernelspec": {
   "display_name": "Python 3",
   "language": "python",
   "name": "python3"
  },
  "language_info": {
   "codemirror_mode": {
    "name": "ipython",
    "version": 3
   },
   "file_extension": ".py",
   "mimetype": "text/x-python",
   "name": "python",
   "nbconvert_exporter": "python",
   "pygments_lexer": "ipython3",
   "version": "3.6.8"
  }
 },
 "nbformat": 4,
 "nbformat_minor": 2
}
