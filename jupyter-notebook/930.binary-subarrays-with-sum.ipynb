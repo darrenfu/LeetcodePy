{
 "cells": [
  {
   "cell_type": "code",
   "execution_count": 7,
   "metadata": {},
   "outputs": [],
   "source": [
    "# prefix sum\n",
    "# similar to #560\n",
    "# Runtime: 276 ms, faster than 96.92%\n",
    "# https://leetcode.com/problems/binary-subarrays-with-sum/discuss/186683/C%2B%2BJavaPython-Straight-Forward\n",
    "from typing import List\n",
    "\n",
    "class Solution:\n",
    "    def numSubarraysWithSum(self, A: List[int], S: int) -> int:\n",
    "        L = len(A)\n",
    "        # [L+1] array is optimized comparing to Counter solution because S will not exceed sum of array (max: 30000)\n",
    "        count = [0] * (L+1)\n",
    "        count[0] = 1\n",
    "        presum = 0\n",
    "        res = 0\n",
    "        for a in A:\n",
    "            presum += a\n",
    "            if presum - S >= 0:\n",
    "                # subarrays: A[presum-S : presum]\n",
    "                # sum[i, j] = sum[0, j] - sum[0, i - 1]\n",
    "                res += count[presum-S]\n",
    "            count[presum] += 1\n",
    "        return res"
   ]
  },
  {
   "cell_type": "code",
   "execution_count": 7,
   "metadata": {},
   "outputs": [],
   "source": [
    "# Sliding window for positive numbers\n",
    "#* https://leetcode.com/problems/binary-subarrays-with-sum/discuss/276976/C%2B%2B\n",
    "# better than #3 in https://leetcode.com/problems/binary-subarrays-with-sum/discuss/189034/Python-O(N)-and-O(1)-Memory-Solution-with-Explanations\n",
    "from typing import List\n",
    "\n",
    "class Solution:\n",
    "    def numSubarraysWithSum(self, A: List[int], S: int) -> int:\n",
    "        presum, left, res = 0, 0, 0\n",
    "        for i in range(len(A)):\n",
    "            presum += A[i]\n",
    "            while left < i and presum > S:\n",
    "                presum -= A[left]  # range presum - A[left:i]\n",
    "                left += 1\n",
    "            if presum < S: continue\n",
    "            if presum == S: res += 1\n",
    "            # great practice to introduce tmp index to solve the issue of slow/fast pointer cannot find all subarrays\n",
    "            tmp = left\n",
    "            while tmp < i and A[tmp] == 0:\n",
    "                res += 1\n",
    "                tmp += 1\n",
    "        return res"
   ]
  },
  {
   "cell_type": "code",
   "execution_count": 8,
   "metadata": {},
   "outputs": [
    {
     "data": {
      "text/plain": [
       "4"
      ]
     },
     "execution_count": 8,
     "metadata": {},
     "output_type": "execute_result"
    }
   ],
   "source": [
    "Solution().numSubarraysWithSum(A = [1,0,1,0,1], S = 2)"
   ]
  },
  {
   "cell_type": "code",
   "execution_count": null,
   "metadata": {},
   "outputs": [],
   "source": []
  }
 ],
 "metadata": {
  "kernelspec": {
   "display_name": "Python 3",
   "language": "python",
   "name": "python3"
  },
  "language_info": {
   "codemirror_mode": {
    "name": "ipython",
    "version": 3
   },
   "file_extension": ".py",
   "mimetype": "text/x-python",
   "name": "python",
   "nbconvert_exporter": "python",
   "pygments_lexer": "ipython3",
   "version": "3.6.8"
  }
 },
 "nbformat": 4,
 "nbformat_minor": 2
}
