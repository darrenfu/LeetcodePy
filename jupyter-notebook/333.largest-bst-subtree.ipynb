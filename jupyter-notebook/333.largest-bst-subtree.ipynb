{
 "cells": [
  {
   "cell_type": "code",
   "execution_count": 1,
   "metadata": {},
   "outputs": [],
   "source": [
    "import sys\n",
    "sys.path.append('..')\n",
    "from leetcode.tree.treenode import TreeNode"
   ]
  },
  {
   "cell_type": "code",
   "execution_count": 69,
   "metadata": {},
   "outputs": [],
   "source": [
    "# Runtime: 56 ms, faster than 80.93%\n",
    "from collections import defaultdict\n",
    "\n",
    "class Solution:\n",
    "    def largestBSTSubtree(self, root: TreeNode) -> int:\n",
    "        memo = {}\n",
    "        # return max and min val of node itself and its sub nodes.\n",
    "        # bst current max(node.left) < node.val < min(node.right)\n",
    "        def bst_min_max(n: TreeNode) -> (int, int, int):\n",
    "            nonlocal max_kids\n",
    "            if n.val in memo: return memo[n.val]\n",
    "            if not n.left and not n.right: \n",
    "                memo[n.val] = (n.val, n.val, 1)\n",
    "                return memo[n.val]\n",
    "            l_min, l_max, l_kids = bst_min_max(n.left) if n.left else (float('-inf'), float('-inf'), 0)\n",
    "            r_min, r_max, r_kids = bst_min_max(n.right) if n.right else (float('inf'), float('inf'), 0)\n",
    "            if l_kids != -1 and r_kids != -1 and l_max < n.val < r_min:\n",
    "                cur_min = l_min if l_min != float('-inf') else n.val\n",
    "                cur_max = r_max if r_max != float('inf') else n.val\n",
    "                memo[n.val] = (cur_min, cur_max, 1+l_kids+r_kids)\n",
    "            else:\n",
    "                memo[n.val] = (None, None, -1)\n",
    "            return memo[n.val]\n",
    "            \n",
    "#         def bfs(n: TreeNode) -> int:\n",
    "#             q = [n]\n",
    "#             max_kids = 0\n",
    "#             while q:\n",
    "#                 for _ in range(len(q)):\n",
    "#                     cur = q.pop(0)\n",
    "#                     _, _, kids = bst_min_max(cur)\n",
    "#                     if kids is not None: max_kids = max(max_kids, kids)\n",
    "#                     if cur.left: q.append(cur.left)\n",
    "#                     if cur.right: q.append(cur.right)\n",
    "#             return max_kids\n",
    "\n",
    "        if not root: \n",
    "            return 0\n",
    "        # postorder (kids first)\n",
    "        bst_min_max(root)\n",
    "        # traverse memo to get chidren of the largest sub-BST\n",
    "        max_kids = max(map(lambda x: x[2], memo.values()))\n",
    "        return max_kids"
   ]
  },
  {
   "cell_type": "code",
   "execution_count": 77,
   "metadata": {},
   "outputs": [],
   "source": [
    "# more elegant solution\n",
    "# Runtime: 72 ms, faster than 17.21%\n",
    "# https://leetcode.com/problems/largest-bst-subtree/discuss/78895/Short-Python-solution\n",
    "class Solution:\n",
    "    def largestBSTSubtree(self, root: TreeNode) -> int:\n",
    "        # return: \n",
    "        # children of current largest BST (similar to presum)\n",
    "        # children if BST, or negative infinity\n",
    "        # min if BST, or positive infinity\n",
    "        # max if BST, or negative infinity\n",
    "        def postorder(n: TreeNode) -> (int, int, int, int):\n",
    "            if not n: return (0, 0, float('inf'), float('-inf'))  # default: inf as min, -inf as max for comparing with n.val\n",
    "            LN, ln, lmin, lmax = postorder(n.left)\n",
    "            RN, rn, rmin, rmax = postorder(n.right)\n",
    "            N = ln + 1 + rn if lmax < n.val < rmin else float('-inf') # -inf for max() usage below\n",
    "            return max(LN, RN, N), N, min(lmin, n.val), max(rmax, n.val)\n",
    "        return postorder(root)[0]"
   ]
  },
  {
   "cell_type": "code",
   "execution_count": 78,
   "metadata": {},
   "outputs": [
    {
     "data": {
      "text/plain": [
       "3"
      ]
     },
     "execution_count": 78,
     "metadata": {},
     "output_type": "execute_result"
    }
   ],
   "source": [
    "root = TreeNode.deserialize('[10,5,15,1,8,null,7]')\n",
    "Solution().largestBSTSubtree(root)"
   ]
  },
  {
   "cell_type": "code",
   "execution_count": 79,
   "metadata": {},
   "outputs": [
    {
     "name": "stdout",
     "output_type": "stream",
     "text": [
      "TreeNode(val: 3, left: TreeNode(val: 2, left: None, right: None), right: TreeNode(val: 4, left: TreeNode(val: 1, left: None, right: None), right: None))\n"
     ]
    },
    {
     "data": {
      "text/plain": [
       "2"
      ]
     },
     "execution_count": 79,
     "metadata": {},
     "output_type": "execute_result"
    }
   ],
   "source": [
    "root = TreeNode.deserialize('[3,2,4,null,null,1]')\n",
    "print(root)\n",
    "Solution().largestBSTSubtree(root)"
   ]
  },
  {
   "cell_type": "code",
   "execution_count": 80,
   "metadata": {},
   "outputs": [
    {
     "name": "stdout",
     "output_type": "stream",
     "text": [
      "TreeNode(val: 37, left: TreeNode(val: -34, left: None, right: TreeNode(val: -100, left: None, right: None)), right: TreeNode(val: -48, left: TreeNode(val: -100, left: None, right: None), right: TreeNode(val: 48, left: TreeNode(val: -54, left: TreeNode(val: -71, left: None, right: None), right: TreeNode(val: -22, left: None, right: TreeNode(val: 8, left: None, right: None))), right: None)))\n"
     ]
    },
    {
     "data": {
      "text/plain": [
       "5"
      ]
     },
     "execution_count": 80,
     "metadata": {},
     "output_type": "execute_result"
    }
   ],
   "source": [
    "root = TreeNode.deserialize('[37,-34,-48,null,-100,-100,48,null,null,null,null,-54,null,-71,-22,null,null,null,8]')\n",
    "print(root)\n",
    "Solution().largestBSTSubtree(root)"
   ]
  },
  {
   "cell_type": "code",
   "execution_count": null,
   "metadata": {},
   "outputs": [],
   "source": []
  }
 ],
 "metadata": {
  "kernelspec": {
   "display_name": "Python 3",
   "language": "python",
   "name": "python3"
  },
  "language_info": {
   "codemirror_mode": {
    "name": "ipython",
    "version": 3
   },
   "file_extension": ".py",
   "mimetype": "text/x-python",
   "name": "python",
   "nbconvert_exporter": "python",
   "pygments_lexer": "ipython3",
   "version": "3.6.8"
  }
 },
 "nbformat": 4,
 "nbformat_minor": 2
}
