{
 "cells": [
  {
   "cell_type": "code",
   "execution_count": 102,
   "metadata": {},
   "outputs": [],
   "source": [
    "# T: O(N^2)\n",
    "\n",
    "# Edge cases:\n",
    "# * k < 0\n",
    "# * k == 0\n",
    "# * nums == []\n",
    "# * k < any diff (need pruning)\n",
    "\n",
    "# Runtime: 292 ms, faster than 14.77%\n",
    "from typing import List\n",
    "\n",
    "class Solution:\n",
    "    def findPairs(self, nums: List[int], k: int) -> int:\n",
    "        if not nums or k < 0:\n",
    "            return 0\n",
    "        \n",
    "        # 1. sort and dedupe array\n",
    "        n = len(nums)\n",
    "        nums.sort()\n",
    "        i = 0\n",
    "        prev = nums[i]\n",
    "        isset = False\n",
    "        dup = 0\n",
    "        while i < n-1:\n",
    "            i += 1\n",
    "            if nums[i] == prev:\n",
    "                nums[i] = float('inf')\n",
    "                if not isset:\n",
    "                    dup += 1\n",
    "                    isset = True\n",
    "            else:\n",
    "                prev = nums[i]\n",
    "                isset = False\n",
    "        if k == 0: # return # of numbers having duplicates\n",
    "            return dup\n",
    "        nums = [v for v in nums if v != float('inf')]\n",
    "        \n",
    "        # 2. calculate diff array between adjcent elements\n",
    "        n = len(nums)\n",
    "        diff = []\n",
    "        rs = set()\n",
    "        s = sorted(nums)\n",
    "        for i in range(1, n):\n",
    "            diff.append(s[i]-s[i-1])\n",
    "            \n",
    "        # 3. get all possible subarrays whose sum is K\n",
    "        def nsum():\n",
    "            nonlocal k\n",
    "            nonlocal n\n",
    "            l = n-1 # diff's size\n",
    "            presum = 0\n",
    "            psums = []\n",
    "            for d in diff:\n",
    "                presum += d\n",
    "                psums.append(presum)\n",
    "            for i in range(l):\n",
    "                if k < psums[i]:\n",
    "                    break\n",
    "                elif k == psums[i]:\n",
    "                    rs.add((s[i], s[i+1]))\n",
    "            for i in range(1, l):\n",
    "                for j in range(i-1, -1, -1):\n",
    "                    if k < psums[i] - psums[j]:\n",
    "                        break\n",
    "                    elif k == psums[i] - psums[j]:\n",
    "                        rs.add((s[j], s[i+1]))\n",
    "        nsum()\n",
    "        return len(rs)"
   ]
  },
  {
   "cell_type": "code",
   "execution_count": 103,
   "metadata": {},
   "outputs": [],
   "source": [
    "# Counter solution (similar to skip list)\n",
    "# T: O(N)\n",
    "# Runtime: 160 ms, faster than 35.55%\n",
    "# https://leetcode.com/problems/k-diff-pairs-in-an-array/discuss/100135/Easy-Understood-Python-Solution\n",
    "from typing import List\n",
    "from collections import Counter\n",
    "\n",
    "class Solution:\n",
    "    def findPairs(self, nums: List[int], k: int) -> int:\n",
    "        c = Counter(nums)\n",
    "        res = 0\n",
    "        for i in c.keys():\n",
    "            if (k > 0 and i+k in c) or (k == 0 and c[i] > 1):\n",
    "                res += 1\n",
    "        return res"
   ]
  },
  {
   "cell_type": "code",
   "execution_count": 104,
   "metadata": {},
   "outputs": [],
   "source": [
    "#* Two pointer\n",
    "# T: O(N*lgN)\n",
    "# S: O(1)\n",
    "# Runtime: 188 ms, faster than 20.77%\n",
    "# Memory Usage: 15.2 MB, less than 64.52%\n",
    "# comment in https://leetcode.com/problems/k-diff-pairs-in-an-array/discuss/100104/Two-pointer-Approach\n",
    "from typing import List\n",
    "\n",
    "class Solution:\n",
    "    def findPairs(self, nums: List[int], k: int) -> int:\n",
    "        nums.sort()\n",
    "        \n",
    "        n = len(nums)\n",
    "        s, e = 0, 1\n",
    "        res = 0\n",
    "        while e < n:\n",
    "            if s == e or nums[s] + k > nums[e]:\n",
    "                e += 1  # get two pointers farther (move e)\n",
    "            elif (s > 0 and nums[s] == nums[s-1]) or nums[s] + k < nums[e]:\n",
    "                s += 1  # get two pointers closer (move s)\n",
    "            else:\n",
    "                print(s, e)\n",
    "                s += 1\n",
    "                res += 1\n",
    "                # start\n",
    "                #  |\n",
    "                # [1, 1, ...., 8, 8]\n",
    "                #              |\n",
    "                #             end\n",
    "        return res"
   ]
  },
  {
   "cell_type": "code",
   "execution_count": 105,
   "metadata": {},
   "outputs": [
    {
     "name": "stdout",
     "output_type": "stream",
     "text": [
      "0 2\n",
      "2 4\n"
     ]
    },
    {
     "data": {
      "text/plain": [
       "2"
      ]
     },
     "execution_count": 105,
     "metadata": {},
     "output_type": "execute_result"
    }
   ],
   "source": [
    "Solution().findPairs(nums=[3, 1, 4, 1, 5], k = 2)"
   ]
  },
  {
   "cell_type": "code",
   "execution_count": 106,
   "metadata": {},
   "outputs": [
    {
     "name": "stdout",
     "output_type": "stream",
     "text": [
      "0 1\n",
      "1 2\n",
      "2 3\n",
      "3 4\n"
     ]
    },
    {
     "data": {
      "text/plain": [
       "4"
      ]
     },
     "execution_count": 106,
     "metadata": {},
     "output_type": "execute_result"
    }
   ],
   "source": [
    "Solution().findPairs(nums=[1, 2, 3, 4, 5], k = 1)"
   ]
  },
  {
   "cell_type": "code",
   "execution_count": 107,
   "metadata": {},
   "outputs": [
    {
     "name": "stdout",
     "output_type": "stream",
     "text": [
      "0 1\n"
     ]
    },
    {
     "data": {
      "text/plain": [
       "1"
      ]
     },
     "execution_count": 107,
     "metadata": {},
     "output_type": "execute_result"
    }
   ],
   "source": [
    "Solution().findPairs(nums=[1, 3, 1, 5, 4], k = 0)"
   ]
  },
  {
   "cell_type": "code",
   "execution_count": 108,
   "metadata": {},
   "outputs": [
    {
     "name": "stdout",
     "output_type": "stream",
     "text": [
      "0 3\n"
     ]
    },
    {
     "data": {
      "text/plain": [
       "1"
      ]
     },
     "execution_count": 108,
     "metadata": {},
     "output_type": "execute_result"
    }
   ],
   "source": [
    "Solution().findPairs(nums=[1,1,1,2,2], k=1)"
   ]
  },
  {
   "cell_type": "code",
   "execution_count": 109,
   "metadata": {},
   "outputs": [
    {
     "data": {
      "text/plain": [
       "0"
      ]
     },
     "execution_count": 109,
     "metadata": {},
     "output_type": "execute_result"
    }
   ],
   "source": [
    "Solution().findPairs(nums=[], k=1)"
   ]
  },
  {
   "cell_type": "code",
   "execution_count": null,
   "metadata": {},
   "outputs": [],
   "source": []
  }
 ],
 "metadata": {
  "kernelspec": {
   "display_name": "Python 3",
   "language": "python",
   "name": "python3"
  },
  "language_info": {
   "codemirror_mode": {
    "name": "ipython",
    "version": 3
   },
   "file_extension": ".py",
   "mimetype": "text/x-python",
   "name": "python",
   "nbconvert_exporter": "python",
   "pygments_lexer": "ipython3",
   "version": "3.6.8"
  }
 },
 "nbformat": 4,
 "nbformat_minor": 2
}
