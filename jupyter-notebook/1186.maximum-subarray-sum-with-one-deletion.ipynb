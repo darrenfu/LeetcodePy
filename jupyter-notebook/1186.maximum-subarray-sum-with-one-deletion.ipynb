{
 "cells": [
  {
   "cell_type": "code",
   "execution_count": 77,
   "metadata": {},
   "outputs": [],
   "source": [
    "#* https://leetcode.com/problems/maximum-subarray-sum-with-one-deletion/discuss/377373/Python-solution-with-Explanation-using-2-variables\n",
    "from typing import List\n",
    "\n",
    "class Solution:\n",
    "    def maximumSum(self, arr: List[int]) -> int:\n",
    "        if all([a < 0 for a in arr]):  # all negative numbers\n",
    "            return max(arr)\n",
    "        # two sum variables:\n",
    "        # one for consecutive positive numbers\n",
    "        # the other for consecutive positive numbers with one negative number\n",
    "        pos_sum = hasneg_sum = res = 0\n",
    "        for a in arr:\n",
    "            if a > 0:\n",
    "                pos_sum += a\n",
    "                hasneg_sum += a\n",
    "            else:\n",
    "                print(a, pos_sum, hasneg_sum)\n",
    "                pos_sum += a\n",
    "                pos_sum = max(pos_sum, hasneg_sum)\n",
    "                hasneg_sum += a\n",
    "                print(a, pos_sum, hasneg_sum)\n",
    "            res = max(res, pos_sum, hasneg_sum)\n",
    "            # reset sums\n",
    "            pos_sum = max(pos_sum, 0)\n",
    "            hasneg_sum = max(hasneg_sum, 0)\n",
    "        return res"
   ]
  },
  {
   "cell_type": "code",
   "execution_count": 106,
   "metadata": {},
   "outputs": [],
   "source": [
    "# Kadane’s Algorithm (DP)\n",
    "# similar to https://leetcode.com/problems/maximum-subarray-sum-with-one-deletion/discuss/377424/Simple-Python-DP-solution\n",
    "class Solution:\n",
    "    def maximumSum(self, arr: List[int]) -> int:\n",
    "        ans = arr[0]\n",
    "        s0, s1 = arr[0], 0\n",
    "#         print(\"a[0]={}, s0={}, s1={}\".format(arr[0], s0, s1))\n",
    "        for i in range(1, len(arr)):\n",
    "            s0, s1 = max(s0 + arr[i], arr[i]), max(s1 + arr[i], s0)\n",
    "#             print(\"a[{}]={}, s0={}, s1={}\".format(i, arr[i], s0, s1))\n",
    "            ans = max(ans, s0, s1)\n",
    "        return ans"
   ]
  },
  {
   "cell_type": "code",
   "execution_count": 81,
   "metadata": {},
   "outputs": [],
   "source": [
    "from typing import List\n",
    "\n",
    "class Solution:\n",
    "    def maximumSum(self, arr: List[int]) -> int:\n",
    "        mwc = []\n",
    "        ms = []\n",
    "        r = max(arr)\n",
    "        if r < 0:\n",
    "            return r\n",
    "        for n in arr:\n",
    "            if not mwc:\n",
    "                mwc.append(n)\n",
    "                ms.append(0)\n",
    "            else:\n",
    "                ms.append(max(ms[-1] + n, mwc[-1]))\n",
    "                mwc.append(max(n, n + mwc[-1]))\n",
    "                r = max([r, ms[-1], mwc[-1]])\n",
    "        return r"
   ]
  },
  {
   "cell_type": "code",
   "execution_count": 84,
   "metadata": {},
   "outputs": [],
   "source": [
    "# https://leetcode.com/problems/maximum-subarray-sum-with-one-deletion/discuss/377397/Intuitive-Java-Solution-With-Explanation\n",
    "from typing import List\n",
    "\n",
    "class Solution:\n",
    "    def maximumSum(self, arr: List[int]) -> int:\n",
    "        b = s = 0\n",
    "        pre = []\n",
    "        for i in arr:\n",
    "            s += i\n",
    "            pre.append(s - b)\n",
    "            b = min(b, s)\n",
    "            \n",
    "        b = s = 0\n",
    "        suf = []\n",
    "        for i in reversed(arr):\n",
    "            s += i\n",
    "            suf.append(s - b)\n",
    "            b = min(b, s)\n",
    "        suf.reverse()\n",
    "        \n",
    "        r = max(pre)\n",
    "        for i in range(1, len(arr) - 1):\n",
    "            r = max(r, pre[i-1] + suf[i+1])\n",
    "        return r"
   ]
  },
  {
   "cell_type": "code",
   "execution_count": 107,
   "metadata": {},
   "outputs": [
    {
     "name": "stdout",
     "output_type": "stream",
     "text": [
      "a[0]=11, s0=11, s1=0\n",
      "a[1]=-10, s0=1, s1=11\n",
      "a[2]=-11, s0=-10, s1=1\n",
      "a[3]=8, s0=8, s1=9\n",
      "a[4]=7, s0=15, s1=16\n",
      "a[5]=-1, s0=14, s1=15\n",
      "a[6]=-6, s0=8, s1=14\n",
      "a[7]=9, s0=17, s1=23\n",
      "a[8]=4, s0=21, s1=27\n",
      "a[9]=11, s0=32, s1=38\n",
      "a[10]=6, s0=38, s1=44\n",
      "a[11]=5, s0=43, s1=49\n",
      "a[12]=0, s0=43, s1=49\n"
     ]
    },
    {
     "data": {
      "text/plain": [
       "43"
      ]
     },
     "execution_count": 107,
     "metadata": {},
     "output_type": "execute_result"
    }
   ],
   "source": [
    "Solution().maximumSum(arr = [11,-10,-11,8,7,-1,-6,9,4,11,6,5,0])"
   ]
  },
  {
   "cell_type": "code",
   "execution_count": 70,
   "metadata": {},
   "outputs": [
    {
     "data": {
      "text/plain": [
       "17"
      ]
     },
     "execution_count": 70,
     "metadata": {},
     "output_type": "execute_result"
    }
   ],
   "source": [
    "Solution().maximumSum(arr = [8,-1,6,-7,-4,5,-4,7,-6])"
   ]
  },
  {
   "cell_type": "code",
   "execution_count": 71,
   "metadata": {},
   "outputs": [
    {
     "data": {
      "text/plain": [
       "3"
      ]
     },
     "execution_count": 71,
     "metadata": {},
     "output_type": "execute_result"
    }
   ],
   "source": [
    "Solution().maximumSum(arr = [1,-2,-2,3])"
   ]
  },
  {
   "cell_type": "code",
   "execution_count": 72,
   "metadata": {},
   "outputs": [
    {
     "data": {
      "text/plain": [
       "-1"
      ]
     },
     "execution_count": 72,
     "metadata": {},
     "output_type": "execute_result"
    }
   ],
   "source": [
    "Solution().maximumSum(arr = [-1,-1,-1,-1])"
   ]
  }
 ],
 "metadata": {
  "kernelspec": {
   "display_name": "Python 3",
   "language": "python",
   "name": "python3"
  },
  "language_info": {
   "codemirror_mode": {
    "name": "ipython",
    "version": 3
   },
   "file_extension": ".py",
   "mimetype": "text/x-python",
   "name": "python",
   "nbconvert_exporter": "python",
   "pygments_lexer": "ipython3",
   "version": "3.6.8"
  }
 },
 "nbformat": 4,
 "nbformat_minor": 2
}
