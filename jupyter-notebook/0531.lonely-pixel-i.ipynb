{
 "cells": [
  {
   "cell_type": "code",
   "execution_count": 6,
   "metadata": {},
   "outputs": [],
   "source": [
    "# Runtime: 496 ms, faster than 91.26%\n",
    "from typing import List\n",
    "\n",
    "class Solution:\n",
    "    def findLonelyPixel(self, picture: List[List[str]]) -> int:\n",
    "        R, C = len(picture), len(picture[0])\n",
    "        res = set()\n",
    "        def countRowsContainingOnlyOneB(A: List[List[str]], rowSize: int):\n",
    "            ones, freqs = {}, [0] * rowSize\n",
    "            for i in range(rowSize):\n",
    "                colIdxes = [j for j in range(len(A[i])) if A[i][j] == 'B']\n",
    "                l = len(colIdxes)\n",
    "                if l == 1:\n",
    "                    ones[i] = colIdxes[0]\n",
    "                freqs[i] = l\n",
    "            return ones, freqs\n",
    "        row_cache, row_freqs = countRowsContainingOnlyOneB(picture, R)\n",
    "        transposed = list(map(list, zip(*picture)))\n",
    "        col_cache, col_freqs = countRowsContainingOnlyOneB(transposed, C)\n",
    "        for r, c in row_cache.items():\n",
    "            if col_freqs[c] == 1 and r == col_cache[c]:\n",
    "                res.add((r, c))\n",
    "        for c, r in col_cache.items():\n",
    "            if row_freqs[r] == 1 and c == row_cache[r]:\n",
    "                res.add((r, c))\n",
    "        return len(res)"
   ]
  },
  {
   "cell_type": "code",
   "execution_count": 22,
   "metadata": {},
   "outputs": [],
   "source": [
    "from typing import List\n",
    "\n",
    "class Solution:\n",
    "    def findLonelyPixel(self, picture: List[List[str]]) -> int:\n",
    "        R, C = len(picture), len(picture[0])\n",
    "        def countRowsContainingOnlyOneB(A: List[List[str]], rowSize: int):\n",
    "            ones = {}\n",
    "            for i in range(rowSize):\n",
    "                hasOne = False\n",
    "                colIdxes = [j for j in range(len(A[i])) if A[i][j] == 'B']\n",
    "                if len(colIdxes) == 1:\n",
    "                    ones[i] = colIdxes[0]\n",
    "            return ones\n",
    "        row_cache = countRowsContainingOnlyOneB(picture, R)\n",
    "        transposed = list(map(list, zip(*picture)))\n",
    "        col_cache = countRowsContainingOnlyOneB(transposed, C)\n",
    "        return sum(1 for r, c in row_cache.items() if c in col_cache)"
   ]
  },
  {
   "cell_type": "code",
   "execution_count": 25,
   "metadata": {},
   "outputs": [],
   "source": [
    "# Go through the columns, count how many have exactly one black pixel and it's in a row that also has exactly one black pixel.\n",
    "# https://leetcode.com/problems/lonely-pixel-i/discuss/100039/1-liner-Python\n",
    "from typing import List\n",
    "\n",
    "class Solution:\n",
    "    def findLonelyPixel(self, picture: List[List[str]]) -> int:\n",
    "        transposed = list(map(list, zip(*picture)))\n",
    "        return sum(col.count('B') == 1 == picture[col.index('B')].count('B') for col in transposed)"
   ]
  },
  {
   "cell_type": "code",
   "execution_count": 26,
   "metadata": {},
   "outputs": [
    {
     "data": {
      "text/plain": [
       "3"
      ]
     },
     "execution_count": 26,
     "metadata": {},
     "output_type": "execute_result"
    }
   ],
   "source": [
    "Solution().findLonelyPixel(picture=\n",
    "[['W', 'W', 'B'],\n",
    " ['W', 'B', 'W'],\n",
    " ['B', 'W', 'W']])"
   ]
  },
  {
   "cell_type": "code",
   "execution_count": 27,
   "metadata": {},
   "outputs": [
    {
     "data": {
      "text/plain": [
       "0"
      ]
     },
     "execution_count": 27,
     "metadata": {},
     "output_type": "execute_result"
    }
   ],
   "source": [
    "Solution().findLonelyPixel(picture=[['B', 'B', 'B'], ['B', 'B', 'B'], ['B', 'B', 'B']])"
   ]
  },
  {
   "cell_type": "code",
   "execution_count": null,
   "metadata": {},
   "outputs": [],
   "source": []
  }
 ],
 "metadata": {
  "kernelspec": {
   "display_name": "Python 3",
   "language": "python",
   "name": "python3"
  },
  "language_info": {
   "codemirror_mode": {
    "name": "ipython",
    "version": 3
   },
   "file_extension": ".py",
   "mimetype": "text/x-python",
   "name": "python",
   "nbconvert_exporter": "python",
   "pygments_lexer": "ipython3",
   "version": "3.6.8"
  }
 },
 "nbformat": 4,
 "nbformat_minor": 2
}
