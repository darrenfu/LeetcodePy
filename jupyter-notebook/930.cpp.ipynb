{
 "cells": [
  {
   "cell_type": "code",
   "execution_count": 1,
   "metadata": {},
   "outputs": [],
   "source": [
    "#include <iostream>\n",
    "#include <vector>\n",
    "using namespace std; "
   ]
  },
  {
   "cell_type": "code",
   "execution_count": 2,
   "metadata": {},
   "outputs": [],
   "source": [
    "// https://leetcode.com/problems/binary-subarrays-with-sum/discuss/276976/C%2B%2B\n",
    "class Solution {\n",
    "public:\n",
    "    int numSubarraysWithSum(const vector<int> &A, int S) {\n",
    "        int left = 0, cnt = 0, n = A.size(), ans = 0;\n",
    "        for (int i = 0; i < n; i++) {\n",
    "            cnt += A[i];\n",
    "            while (left < i && cnt > S)cnt -= A[left++];\n",
    "            if (cnt < S)continue;\n",
    "            if (cnt == S)ans++;\n",
    "            int t = left;\n",
    "            while (t < i && A[t] == 0) {\n",
    "                t++, ans++;\n",
    "            }\n",
    "        }\n",
    "        return ans;\n",
    "    }\n",
    "};"
   ]
  },
  {
   "cell_type": "code",
   "execution_count": 3,
   "metadata": {},
   "outputs": [
    {
     "name": "stdout",
     "output_type": "stream",
     "text": [
      "4"
     ]
    }
   ],
   "source": [
    "vector<int> v = {1,0,1,0,1};\n",
    "Solution s;\n",
    "int res = s.numSubarraysWithSum(v, 2);\n",
    "cout << res;"
   ]
  },
  {
   "cell_type": "code",
   "execution_count": null,
   "metadata": {},
   "outputs": [],
   "source": []
  }
 ],
 "metadata": {
  "kernelspec": {
   "display_name": "C++11",
   "language": "C++11",
   "name": "xcpp11"
  },
  "language_info": {
   "codemirror_mode": "text/x-c++src",
   "file_extension": ".cpp",
   "mimetype": "text/x-c++src",
   "name": "c++",
   "version": "-std=c++11"
  }
 },
 "nbformat": 4,
 "nbformat_minor": 2
}
