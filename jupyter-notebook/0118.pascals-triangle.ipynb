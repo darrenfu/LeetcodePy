{
 "cells": [
  {
   "cell_type": "markdown",
   "metadata": {},
   "source": [
    "### [118\\. Pascal's Triangle](https://leetcode.com/problems/pascals-triangle/)\n",
    "\n",
    "Difficulty: **Easy**\n",
    "\n",
    "\n",
    "Given a non-negative integer _numRows_, generate the first _numRows_ of Pascal's triangle.\n",
    "\n",
    "![](https://upload.wikimedia.org/wikipedia/commons/0/0d/PascalTriangleAnimated2.gif)  \n",
    "<small style=\"display: inline;\">In Pascal's triangle, each number is the sum of the two numbers directly above it.</small>\n",
    "\n",
    "**Example:**\n",
    "\n",
    "```\n",
    "Input: 5\n",
    "Output:\n",
    "[\n",
    "     [1],\n",
    "    [1,1],\n",
    "   [1,2,1],\n",
    "  [1,3,3,1],\n",
    " [1,4,6,4,1]\n",
    "]\n",
    "```"
   ]
  },
  {
   "cell_type": "code",
   "execution_count": 1,
   "metadata": {},
   "outputs": [],
   "source": [
    "from typing import List\n",
    "\n",
    "class Solution:\n",
    "    def generate(self, numRows: int) -> List[List[int]]:\n",
    "        def nextRow(curRow: List[int]) -> List[int]:\n",
    "            if len(curRow) <= 1:\n",
    "                return curRow + [1]\n",
    "            return [1] + [prev + nxt for prev, nxt in zip(curRow, curRow[1:])] + [1]\n",
    "        \n",
    "        curRow = []\n",
    "        res = []\n",
    "        for _ in range(numRows):\n",
    "            curRow = nextRow(curRow)\n",
    "            res.append(curRow)\n",
    "        return res"
   ]
  },
  {
   "cell_type": "code",
   "execution_count": 6,
   "metadata": {},
   "outputs": [],
   "source": [
    "# Any row can be constructed using the offset sum of the previous row\n",
    "#     1 3 3 1 0 \n",
    "#  +  0 1 3 3 1\n",
    "#  =  1 4 6 4 1\n",
    "# https://leetcode.com/problems/pascals-triangle/discuss/38128/Python-4-lines-short-solution-using-map\n",
    "from typing import List\n",
    "from operator import add\n",
    "\n",
    "class Solution:\n",
    "    def generate(self, numRows: int) -> List[List[int]]:\n",
    "        if numRows == 0: return []\n",
    "        res = [[1]]\n",
    "        for _ in range(1, numRows):\n",
    "            res += list(map(add, [0] + res[-1], res[-1] + [0])),\n",
    "        return res"
   ]
  },
  {
   "cell_type": "code",
   "execution_count": 7,
   "metadata": {},
   "outputs": [
    {
     "data": {
      "text/plain": [
       "[[1], [1, 1], [1, 2, 1], [1, 3, 3, 1], [1, 4, 6, 4, 1]]"
      ]
     },
     "execution_count": 7,
     "metadata": {},
     "output_type": "execute_result"
    }
   ],
   "source": [
    "Solution().generate(5)"
   ]
  },
  {
   "cell_type": "code",
   "execution_count": 8,
   "metadata": {},
   "outputs": [
    {
     "data": {
      "text/plain": [
       "[[1]]"
      ]
     },
     "execution_count": 8,
     "metadata": {},
     "output_type": "execute_result"
    }
   ],
   "source": [
    "Solution().generate(1)"
   ]
  },
  {
   "cell_type": "code",
   "execution_count": null,
   "metadata": {},
   "outputs": [],
   "source": []
  }
 ],
 "metadata": {
  "kernelspec": {
   "display_name": "Python 3",
   "language": "python",
   "name": "python3"
  },
  "language_info": {
   "codemirror_mode": {
    "name": "ipython",
    "version": 3
   },
   "file_extension": ".py",
   "mimetype": "text/x-python",
   "name": "python",
   "nbconvert_exporter": "python",
   "pygments_lexer": "ipython3",
   "version": "3.6.8"
  }
 },
 "nbformat": 4,
 "nbformat_minor": 2
}
