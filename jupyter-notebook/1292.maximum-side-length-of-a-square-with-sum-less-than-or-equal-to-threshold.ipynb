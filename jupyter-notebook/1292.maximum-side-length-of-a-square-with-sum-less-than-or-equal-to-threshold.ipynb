{
 "cells": [
  {
   "cell_type": "markdown",
   "metadata": {},
   "source": [
    "### [1292\\. Maximum Side Length of a Square with Sum Less than or Equal to Threshold](https://leetcode.com/problems/maximum-side-length-of-a-square-with-sum-less-than-or-equal-to-threshold/)\n",
    "\n",
    "Difficulty: **Medium**\n",
    "\n",
    "\n",
    "Given a `m x n` matrix `mat` and an integer `threshold`. Return the maximum side-length of a square with a sum less than or equal to `threshold` or return **0** if there is no such square.\n",
    "\n",
    "**Example 1:**\n",
    "\n",
    "![](https://assets.leetcode.com/uploads/2019/12/05/e1.png)\n",
    "\n",
    "```\n",
    "Input: mat = [[1,1,3,2,4,3,2],[1,1,3,2,4,3,2],[1,1,3,2,4,3,2]], threshold = 4\n",
    "Output: 2\n",
    "Explanation: The maximum side length of square with sum less than 4 is 2 as shown.\n",
    "```\n",
    "\n",
    "**Example 2:**\n",
    "\n",
    "```\n",
    "Input: mat = [[2,2,2,2,2],[2,2,2,2,2],[2,2,2,2,2],[2,2,2,2,2],[2,2,2,2,2]], threshold = 1\n",
    "Output: 0\n",
    "```\n",
    "\n",
    "**Example 3:**\n",
    "\n",
    "```\n",
    "Input: mat = [[1,1,1,1],[1,0,0,0],[1,0,0,0],[1,0,0,0]], threshold = 6\n",
    "Output: 3\n",
    "```\n",
    "\n",
    "**Example 4:**\n",
    "\n",
    "```\n",
    "Input: mat = [[18,70],[61,1],[25,85],[14,40],[11,96],[97,96],[63,45]], threshold = 40184\n",
    "Output: 2\n",
    "```\n",
    "\n",
    "**Constraints:**\n",
    "\n",
    "*   `1 <= m, n <= 300`\n",
    "*   `m == mat.length`\n",
    "*   `n == mat[i].length`\n",
    "*   `0 <= mat[i][j] <= 10000`\n",
    "*   `0 <= threshold <= 10^5`"
   ]
  },
  {
   "cell_type": "code",
   "execution_count": 37,
   "metadata": {},
   "outputs": [],
   "source": [
    "from typing import List\n",
    "\n",
    "class Solution:\n",
    "    def maxSideLength(self, mat: List[List[int]], threshold: int) -> int:\n",
    "        def sumOfRestRect(i: int, j: int, k: int, presums: List[List[int]]):\n",
    "            return presums[i+k][j] + presums[i][j+k] - presums[i][j]\n",
    "            \n",
    "        # calculate all presums from (0, 0) to (i, j)\n",
    "        R, C = len(mat), len(mat[0])\n",
    "        presums = [[0] * (C+1) for _ in range(R+1)]\n",
    "        for i in range(1,R+1):\n",
    "            for j in range(1,C+1):\n",
    "                presums[i][j] = sumOfRestRect(i-1, j-1, 1, presums) + mat[i-1][j-1]\n",
    "        \n",
    "        # find maximum side-length of each square whose area <= threshold\n",
    "        # T: O(N^2 * LogN)\n",
    "        res = 0\n",
    "        for i in range(R+1):\n",
    "            for j in range(C+1):\n",
    "                # square areas are in increasing order from 0 to min(R-i,C-j), binary search\n",
    "                lo, hi = 0, min(R-i,C-j)\n",
    "                while lo <= hi:\n",
    "                    mid = (lo+hi)//2\n",
    "                    target = presums[i+mid][j+mid] - sumOfRestRect(i, j, mid, presums)\n",
    "                    if target <= threshold:\n",
    "                        lo = mid+1\n",
    "                    else:\n",
    "                        hi = mid-1\n",
    "                res = max(res, hi) # why hi?\n",
    "        return res"
   ]
  },
  {
   "cell_type": "code",
   "execution_count": 38,
   "metadata": {},
   "outputs": [
    {
     "data": {
      "text/plain": [
       "3"
      ]
     },
     "execution_count": 38,
     "metadata": {},
     "output_type": "execute_result"
    }
   ],
   "source": [
    "Solution().maxSideLength(mat = [[1,1,1,1],[1,0,0,0],[1,0,0,0],[1,0,0,0]], threshold = 6)"
   ]
  },
  {
   "cell_type": "code",
   "execution_count": 39,
   "metadata": {},
   "outputs": [
    {
     "data": {
      "text/plain": [
       "2"
      ]
     },
     "execution_count": 39,
     "metadata": {},
     "output_type": "execute_result"
    }
   ],
   "source": [
    "Solution().maxSideLength(mat = [[18,70],[61,1],[25,85],[14,40],[11,96],[97,96],[63,45]], threshold = 40184)"
   ]
  },
  {
   "cell_type": "code",
   "execution_count": null,
   "metadata": {},
   "outputs": [],
   "source": []
  }
 ],
 "metadata": {
  "kernelspec": {
   "display_name": "Python 3",
   "language": "python",
   "name": "python3"
  },
  "language_info": {
   "codemirror_mode": {
    "name": "ipython",
    "version": 3
   },
   "file_extension": ".py",
   "mimetype": "text/x-python",
   "name": "python",
   "nbconvert_exporter": "python",
   "pygments_lexer": "ipython3",
   "version": "3.6.8"
  }
 },
 "nbformat": 4,
 "nbformat_minor": 2
}
