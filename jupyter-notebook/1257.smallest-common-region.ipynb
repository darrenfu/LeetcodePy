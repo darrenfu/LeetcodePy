{
 "cells": [
  {
   "cell_type": "code",
   "execution_count": 59,
   "metadata": {},
   "outputs": [],
   "source": [
    "# Lowest common ancestor\n",
    "# https://www.geeksforgeeks.org/lowest-common-ancestor-binary-tree-set-1/\n",
    "from typing import List\n",
    "\n",
    "class Node:\n",
    "    def __init__(self, value: str, children: List[str]=None):\n",
    "        self.value = value\n",
    "        self.children = [Node(child) for child in children] if children else []\n",
    "    \n",
    "    def setChildren(self, children: List[str]):\n",
    "        self.children = [Node(child) for child in children]\n",
    "        \n",
    "class Solution:\n",
    "    def findSmallestRegion(self, regions: List[List[str]], region1: str, region2: str) -> str:\n",
    "        lookup = {region[0]:i for i, region in enumerate(regions)}\n",
    "        \n",
    "        def toNode(region: List[str]):\n",
    "            return Node(region[0], region[1:])\n",
    "        \n",
    "        def dfs(curnode: Node, value: str, path: List[Node], res: List[str]):\n",
    "            if curnode.value == value:\n",
    "                for n in path:\n",
    "                    res.append(n.value)\n",
    "                return\n",
    "            if not curnode.children:\n",
    "                if curnode.value in lookup:\n",
    "                    curnode.setChildren(regions[lookup[curnode.value]][1:])\n",
    "                else: # leaf node\n",
    "                    return\n",
    "            for i, child in enumerate(curnode.children):\n",
    "                dfs(child, value, path + [child], res)\n",
    "        \n",
    "        rootvalue = regions[0][0]\n",
    "        root = toNode(regions[0])\n",
    "        path1 = [rootvalue]\n",
    "        path2 = [rootvalue]\n",
    "        dfs(root, region1, [], path1)\n",
    "        dfs(root, region2, [], path2)\n",
    "        \n",
    "        # find lowest common ancestor\n",
    "        i, P1, P2 = 0, len(path1), len(path2)\n",
    "        while i < P1 and i < P2:\n",
    "            if path1[i] != path2[i]:\n",
    "                return path1[i-1]\n",
    "            i+=1\n",
    "        return (path1 if P1 < P2 else path2)[-1]"
   ]
  },
  {
   "cell_type": "code",
   "execution_count": 66,
   "metadata": {},
   "outputs": [],
   "source": [
    "# traverse from child to root\n",
    "# T: O(N*M) + O(logK1) + O(logK2), M is avg children number for each node\n",
    "# S: O(N*M)\n",
    "# @awice\n",
    "from typing import List\n",
    "\n",
    "class Solution:\n",
    "    def findSmallestRegion(self, regions: List[List[str]], region1: str, region2: str) -> str:\n",
    "        # build child-to-parent lookup\n",
    "        parents = {}\n",
    "        for region in regions:\n",
    "            parent = region.pop(0)\n",
    "            for child in region:\n",
    "                parents[child] = parent\n",
    "                \n",
    "        seen = {region1} # path from region1 to root\n",
    "        while region1 in parents: # until root who has no parent\n",
    "            region1 = parents[region1]\n",
    "            seen.add(region1)\n",
    "        \n",
    "        # find lowest common ancestor\n",
    "        while region2 not in seen: # not found common ancestor yet\n",
    "            region2 = parents[region2] # continue traversing to its parent\n",
    "        return region2"
   ]
  },
  {
   "cell_type": "code",
   "execution_count": 67,
   "metadata": {},
   "outputs": [
    {
     "data": {
      "text/plain": [
       "'North America'"
      ]
     },
     "execution_count": 67,
     "metadata": {},
     "output_type": "execute_result"
    }
   ],
   "source": [
    "Solution().findSmallestRegion(regions = [[\"Earth\",\"North America\",\"South America\"],\n",
    "[\"North America\",\"United States\",\"Canada\"],\n",
    "[\"United States\",\"New York\",\"Boston\"],\n",
    "[\"Canada\",\"Ontario\",\"Quebec\"],\n",
    "[\"South America\",\"Brazil\"]],\n",
    "region1 = \"Quebec\",\n",
    "region2 = \"New York\")"
   ]
  },
  {
   "cell_type": "code",
   "execution_count": 68,
   "metadata": {},
   "outputs": [
    {
     "data": {
      "text/plain": [
       "'Canada'"
      ]
     },
     "execution_count": 68,
     "metadata": {},
     "output_type": "execute_result"
    }
   ],
   "source": [
    "Solution().findSmallestRegion(regions = [[\"Earth\", \"North America\", \"South America\"],[\"North America\", \"United States\", \"Canada\"],[\"United States\", \"New York\", \"Boston\"],[\"Canada\", \"Ontario\", \"Quebec\"],[\"South America\", \"Brazil\"]],\n",
    "region1 = \"Canada\",\n",
    "region2 = \"Quebec\")"
   ]
  },
  {
   "cell_type": "code",
   "execution_count": 69,
   "metadata": {},
   "outputs": [
    {
     "data": {
      "text/plain": [
       "'Canada'"
      ]
     },
     "execution_count": 69,
     "metadata": {},
     "output_type": "execute_result"
    }
   ],
   "source": [
    "Solution().findSmallestRegion(regions = [[\"Earth\", \"North America\", \"South America\"],[\"North America\", \"United States\", \"Canada\"],[\"United States\", \"New York\", \"Boston\"],[\"Canada\", \"Ontario\", \"Quebec\"],[\"South America\", \"Brazil\"]],\n",
    "region1 = \"Quebec\",\n",
    "region2 = \"Canada\")"
   ]
  },
  {
   "cell_type": "code",
   "execution_count": 70,
   "metadata": {},
   "outputs": [
    {
     "data": {
      "text/plain": [
       "'GfAj'"
      ]
     },
     "execution_count": 70,
     "metadata": {},
     "output_type": "execute_result"
    }
   ],
   "source": [
    "Solution().findSmallestRegion(regions = [[\"zDkA\",\"GfAj\",\"lt\"],[\"GfAj\",\"rtupD\",\"og\",\"l\"],[\"rtupD\",\"IT\",\"jGcew\",\"ZwFqF\"],[\"og\",\"yVobt\",\"EjA\",\"piUyQ\"],[\"IT\",\"XFlc\",\"W\",\"rB\"],[\"l\",\"GwQg\",\"shco\",\"Dub\",\"KwgZq\"],[\"jGcew\",\"KH\",\"lbW\"],[\"KH\",\"BZ\",\"sauG\"],[\"yVobt\",\"Aa\",\"lJRmv\"],[\"BZ\",\"v\",\"zh\",\"oGg\",\"WP\"],[\"XFlc\",\"Sn\",\"ftXOZ\"],[\"sauG\",\"If\",\"nK\",\"HHOr\",\"yEH\",\"YWMgF\"],[\"GwQg\",\"Mfb\",\"gr\",\"S\",\"nQ\"],[\"shco\",\"xsUkW\"],[\"xsUkW\",\"Cssa\",\"TgPi\",\"qx\"],[\"v\",\"SAH\",\"Rjr\"],[\"lt\",\"Q\",\"fWB\",\"a\",\"Wk\",\"zpqU\"],[\"If\",\"e\",\"y\",\"quEA\",\"sNyV\"],[\"piUyQ\",\"G\",\"aTi\"],[\"Sn\",\"rVIh\",\"twv\",\"pYA\",\"Ywm\"],[\"zh\",\"PWeEf\"],[\"Mfb\",\"GEs\",\"XjpeC\",\"p\"],[\"GEs\",\"oXMG\",\"tNJYJ\"],[\"SAH\",\"bmFhM\"],[\"bmFhM\",\"SOvB\",\"RWsEM\",\"z\"],[\"SOvB\",\"iD\",\"pLGYN\",\"Zqk\"],[\"Dub\",\"PnGPY\"],[\"a\",\"TekG\",\"zp\"],[\"XjpeC\",\"vK\",\"aaO\",\"D\"],[\"pLGYN\",\"ldb\"],[\"oGg\",\"x\"],[\"nQ\",\"IOw\"],[\"Aa\",\"wmYF\"],[\"Zqk\",\"th\"],[\"ZwFqF\",\"GDl\"],[\"th\",\"JyOSt\",\"ALlyw\"],[\"lbW\",\"M\"],[\"yEH\",\"UY\",\"GIwLp\"],[\"JyOSt\",\"i\"],[\"x\",\"dclJ\"],[\"wmYF\",\"xreBK\"],[\"PnGPY\",\"Ev\",\"lI\"],[\"ALlyw\",\"jguyA\",\"Mi\"],[\"oXMG\",\"uqe\"],[\"sNyV\",\"WbrP\"]],\n",
    "region1=\"RWsEM\",\n",
    "region2=\"GfAj\")"
   ]
  },
  {
   "cell_type": "code",
   "execution_count": null,
   "metadata": {},
   "outputs": [],
   "source": []
  }
 ],
 "metadata": {
  "kernelspec": {
   "display_name": "Python 3",
   "language": "python",
   "name": "python3"
  },
  "language_info": {
   "codemirror_mode": {
    "name": "ipython",
    "version": 3
   },
   "file_extension": ".py",
   "mimetype": "text/x-python",
   "name": "python",
   "nbconvert_exporter": "python",
   "pygments_lexer": "ipython3",
   "version": "3.6.8"
  }
 },
 "nbformat": 4,
 "nbformat_minor": 2
}
