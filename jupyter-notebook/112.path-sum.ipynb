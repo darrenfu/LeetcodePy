{
 "cells": [
  {
   "cell_type": "code",
   "execution_count": 11,
   "metadata": {},
   "outputs": [],
   "source": [
    "import sys\n",
    "sys.path.append(\"..\")\n",
    "from leetcode.tree.treenode import TreeNode"
   ]
  },
  {
   "cell_type": "code",
   "execution_count": null,
   "metadata": {},
   "outputs": [],
   "source": [
    "# BFS\n",
    "class Solution:\n",
    "    def hasPathSum(self, root: TreeNode, sum: int) -> bool:\n",
    "        if not root: return False\n",
    "        q = [root]\n",
    "        while q:\n",
    "            for _ in range(len(q)):\n",
    "                node = q.pop()\n",
    "                if node.left:\n",
    "                    node.left.val += node.val\n",
    "                    q.insert(0, node.left)\n",
    "                if node.right:\n",
    "                    node.right.val += node.val\n",
    "                    q.insert(0, node.right)\n",
    "                if not node.left and not node.right and node.val == sum:\n",
    "                    return True\n",
    "        return False"
   ]
  },
  {
   "cell_type": "code",
   "execution_count": 13,
   "metadata": {},
   "outputs": [],
   "source": [
    "# LDR (DFS)\n",
    "# Runtime: 44 ms, faster than 96.52%\n",
    "# https://leetcode.com/problems/path-sum/discuss/36360/Short-Python-recursive-solution-O(n)\n",
    "class Solution:\n",
    "    def hasPathSum(self, root: TreeNode, sum: int) -> bool:\n",
    "        node = root\n",
    "        if not node: return False\n",
    "        if not node.left and not node.right and node.val == sum:\n",
    "            return True\n",
    "        # for the recursive method, deduct the leaf value from sum for sum-val compare\n",
    "        sum -= node.val\n",
    "        return self.hasPathSum(node.left, sum) or self.hasPathSum(node.right, sum)"
   ]
  },
  {
   "cell_type": "code",
   "execution_count": 14,
   "metadata": {},
   "outputs": [
    {
     "data": {
      "text/plain": [
       "True"
      ]
     },
     "execution_count": 14,
     "metadata": {},
     "output_type": "execute_result"
    }
   ],
   "source": [
    "root = TreeNode.deserialize('[5,4,8,11,null,13,4,7,2,null,null,null,1]')\n",
    "Solution().hasPathSum(root=root, sum=22)"
   ]
  }
 ],
 "metadata": {
  "kernelspec": {
   "display_name": "Python 3",
   "language": "python",
   "name": "python3"
  },
  "language_info": {
   "codemirror_mode": {
    "name": "ipython",
    "version": 3
   },
   "file_extension": ".py",
   "mimetype": "text/x-python",
   "name": "python",
   "nbconvert_exporter": "python",
   "pygments_lexer": "ipython3",
   "version": "3.6.8"
  }
 },
 "nbformat": 4,
 "nbformat_minor": 2
}
