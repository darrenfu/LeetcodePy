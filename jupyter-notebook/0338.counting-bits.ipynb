{
 "cells": [
  {
   "cell_type": "markdown",
   "metadata": {},
   "source": [
    "### [338\\. Counting Bits](https://leetcode.com/problems/counting-bits/)\n",
    "\n",
    "Difficulty: **Medium**\n",
    "\n",
    "\n",
    "Given a non negative integer number **num**. For every numbers **i** in the range **0 ≤ i ≤ num** calculate the number of 1's in their binary representation and return them as an array.\n",
    "\n",
    "**Example 1:**\n",
    "\n",
    "```\n",
    "Input: 2\n",
    "Output: [0,1,1]\n",
    "```\n",
    "\n",
    "**Example 2:**\n",
    "\n",
    "```\n",
    "Input: 5\n",
    "Output: [0,1,1,2,1,2]\n",
    "```\n",
    "\n",
    "**Follow up:**\n",
    "\n",
    "*   It is very easy to come up with a solution with run time **O(n*sizeof(integer))**. But can you do it in linear time **O(n)** /possibly in a single pass?\n",
    "*   Space complexity should be **O(n)**.\n",
    "*   Can you do it like a boss? Do it without using any builtin function like **__builtin_popcount** in c++ or in any other language."
   ]
  },
  {
   "cell_type": "code",
   "execution_count": 1,
   "metadata": {},
   "outputs": [],
   "source": [
    "# bit operation: n & (n-1) == 0 --> check if it is power of two\n",
    "from typing import List\n",
    "\n",
    "class Solution:\n",
    "    def countBits(self, num: int) -> List[int]:\n",
    "        def checkPowerOfTwo(n: int) -> int:\n",
    "            return n&n-1 # == 0 means is power of two\n",
    "        def countOnes(n: int) -> int:\n",
    "            cnt = 0\n",
    "            while n:\n",
    "                n = checkPowerOfTwo(n)\n",
    "                cnt += 1\n",
    "            return cnt\n",
    "        return [countOnes(i) for i in range(num+1)]"
   ]
  },
  {
   "cell_type": "code",
   "execution_count": 16,
   "metadata": {},
   "outputs": [],
   "source": [
    "# DP: d[i] = d[i-offset] + 1\n",
    "from typing import List\n",
    "\n",
    "class Solution:\n",
    "    def countBits(self, num: int) -> List[int]:\n",
    "        dp = [0] * (num+1)\n",
    "        offset = 1\n",
    "        for i in range(1, num+1):\n",
    "            if offset*2 == i:\n",
    "                offset *= 2\n",
    "            dp[i] = dp[i-offset] + 1\n",
    "        return dp"
   ]
  },
  {
   "cell_type": "code",
   "execution_count": 20,
   "metadata": {},
   "outputs": [],
   "source": [
    "# DP: odd vs even case\n",
    "# https://leetcode.com/problems/counting-bits/discuss/270693/Intermediate-processsolution-for-the-most-voted-solution-i.e.-no-simplificationtrick-hidden\n",
    "from typing import List\n",
    "\n",
    "class Solution:\n",
    "    def countBits(self, num: int) -> List[int]:\n",
    "        dp = [0] * (num+1)\n",
    "        for i in range(1, num+1):\n",
    "            if i & 1: # odd\n",
    "                dp[i] = dp[i-1] + 1\n",
    "            else: # even\n",
    "                dp[i] = dp[i>>1] # i//2\n",
    "        return dp"
   ]
  },
  {
   "cell_type": "code",
   "execution_count": 24,
   "metadata": {},
   "outputs": [],
   "source": [
    "# DP + Last set bit, which is the rightmost set bit\n",
    "# DP[i] = DP[i&(i-1)] + 1\n",
    "from typing import List\n",
    "\n",
    "class Solution:\n",
    "    def countBits(self, num: int) -> List[int]:\n",
    "        dp = [0] * (num+1)\n",
    "        for i in range(1, num+1):\n",
    "            dp[i] = dp[i&i-1] + 1 # next one is the next smaller power of two\n",
    "        return dp"
   ]
  },
  {
   "cell_type": "code",
   "execution_count": 25,
   "metadata": {},
   "outputs": [
    {
     "data": {
      "text/plain": [
       "[0, 1, 1]"
      ]
     },
     "execution_count": 25,
     "metadata": {},
     "output_type": "execute_result"
    }
   ],
   "source": [
    "Solution().countBits(2)"
   ]
  },
  {
   "cell_type": "code",
   "execution_count": 26,
   "metadata": {},
   "outputs": [
    {
     "data": {
      "text/plain": [
       "[0, 1, 1, 2, 1, 2]"
      ]
     },
     "execution_count": 26,
     "metadata": {},
     "output_type": "execute_result"
    }
   ],
   "source": [
    "Solution().countBits(5)"
   ]
  },
  {
   "cell_type": "code",
   "execution_count": 27,
   "metadata": {},
   "outputs": [
    {
     "data": {
      "text/plain": [
       "[0,\n",
       " 1,\n",
       " 1,\n",
       " 2,\n",
       " 1,\n",
       " 2,\n",
       " 2,\n",
       " 3,\n",
       " 1,\n",
       " 2,\n",
       " 2,\n",
       " 3,\n",
       " 2,\n",
       " 3,\n",
       " 3,\n",
       " 4,\n",
       " 1,\n",
       " 2,\n",
       " 2,\n",
       " 3,\n",
       " 2,\n",
       " 3,\n",
       " 3,\n",
       " 4,\n",
       " 2,\n",
       " 3,\n",
       " 3,\n",
       " 4,\n",
       " 3,\n",
       " 4,\n",
       " 4,\n",
       " 5,\n",
       " 1]"
      ]
     },
     "execution_count": 27,
     "metadata": {},
     "output_type": "execute_result"
    }
   ],
   "source": [
    "Solution().countBits(32)"
   ]
  },
  {
   "cell_type": "code",
   "execution_count": null,
   "metadata": {},
   "outputs": [],
   "source": []
  }
 ],
 "metadata": {
  "kernelspec": {
   "display_name": "Python 3",
   "language": "python",
   "name": "python3"
  },
  "language_info": {
   "codemirror_mode": {
    "name": "ipython",
    "version": 3
   },
   "file_extension": ".py",
   "mimetype": "text/x-python",
   "name": "python",
   "nbconvert_exporter": "python",
   "pygments_lexer": "ipython3",
   "version": "3.6.8"
  }
 },
 "nbformat": 4,
 "nbformat_minor": 2
}
