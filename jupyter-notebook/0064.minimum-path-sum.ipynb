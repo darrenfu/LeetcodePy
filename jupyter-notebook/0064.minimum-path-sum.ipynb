{
 "cells": [
  {
   "cell_type": "code",
   "execution_count": 11,
   "metadata": {},
   "outputs": [],
   "source": [
    "# similar to #62 Unique paths\n",
    "# https://leetcode.com/problems/minimum-path-sum/discuss/23471/DP-with-O(N*N)-space-complexity\n",
    "from typing import List\n",
    "\n",
    "class Solution:\n",
    "    def minPathSum(self, grid: List[List[int]]) -> int:\n",
    "        L1, L2 = len(grid), len(grid[0])\n",
    "        dp = [[0 for _ in range(L2)] for _ in range(L1)]\n",
    "        for i in range(L1):\n",
    "            for j in range(L2):\n",
    "                if i==0 and j==0:\n",
    "                    dp[i][j] = grid[i][j]\n",
    "                elif i==0:\n",
    "                    dp[i][j] = grid[i][j] + dp[i][j-1]\n",
    "                elif j==0:\n",
    "                    dp[i][j] = grid[i][j] + dp[i-1][j]\n",
    "                else:\n",
    "                    dp[i][j] = min(dp[i-1][j], dp[i][j-1]) + grid[i][j]\n",
    "        return dp[-1][-1]"
   ]
  },
  {
   "cell_type": "code",
   "execution_count": 19,
   "metadata": {},
   "outputs": [],
   "source": [
    "# In-place solution\n",
    "# Runtime: 108 ms, faster than 91.13%\n",
    "from typing import List\n",
    "\n",
    "class Solution:\n",
    "    def minPathSum(self, grid: List[List[int]]) -> int:\n",
    "        L1, L2 = len(grid), len(grid[0])\n",
    "        dp = [[0 for _ in range(L2)] for _ in range(L1)]\n",
    "        # init for first row and first column with presum\n",
    "        for i in range(1,L1):\n",
    "            grid[i][0] += grid[i-1][0] \n",
    "        for i in range(1,L2):\n",
    "            grid[0][i] += grid[0][i-1]\n",
    "            \n",
    "        for i in range(1, L1):\n",
    "            for j in range(1, L2):\n",
    "                grid[i][j] += min(grid[i-1][j], grid[i][j-1])\n",
    "        return grid[-1][-1]"
   ]
  },
  {
   "cell_type": "code",
   "execution_count": 20,
   "metadata": {},
   "outputs": [
    {
     "data": {
      "text/plain": [
       "7"
      ]
     },
     "execution_count": 20,
     "metadata": {},
     "output_type": "execute_result"
    }
   ],
   "source": [
    "Solution().minPathSum(grid=[\n",
    "  [1,3,1],\n",
    "  [1,5,1],\n",
    "  [4,2,1]\n",
    "])"
   ]
  }
 ],
 "metadata": {
  "kernelspec": {
   "display_name": "Python 3",
   "language": "python",
   "name": "python3"
  },
  "language_info": {
   "codemirror_mode": {
    "name": "ipython",
    "version": 3
   },
   "file_extension": ".py",
   "mimetype": "text/x-python",
   "name": "python",
   "nbconvert_exporter": "python",
   "pygments_lexer": "ipython3",
   "version": "3.6.8"
  }
 },
 "nbformat": 4,
 "nbformat_minor": 2
}
