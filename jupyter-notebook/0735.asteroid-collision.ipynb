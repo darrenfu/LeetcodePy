{
 "cells": [
  {
   "cell_type": "markdown",
   "metadata": {},
   "source": [
    "### [735\\. Asteroid Collision](https://leetcode.com/problems/asteroid-collision/)\n",
    "\n",
    "Difficulty: **Medium**\n",
    "\n",
    "\n",
    "We are given an array `asteroids` of integers representing asteroids in a row.\n",
    "\n",
    "For each asteroid, the absolute value represents its size, and the sign represents its direction (positive meaning right, negative meaning left). Each asteroid moves at the same speed.\n",
    "\n",
    "Find out the state of the asteroids after all collisions. If two asteroids meet, the smaller one will explode. If both are the same size, both will explode. Two asteroids moving in the same direction will never meet.\n",
    "\n",
    "**Example 1:**  \n",
    "\n",
    "```\n",
    "Input: \n",
    "asteroids = [5, 10, -5]\n",
    "Output: [5, 10]\n",
    "Explanation: \n",
    "The 10 and -5 collide resulting in 10\\.  The 5 and 10 never collide.\n",
    "```\n",
    "\n",
    "**Example 2:**  \n",
    "\n",
    "```\n",
    "Input: \n",
    "asteroids = [8, -8]\n",
    "Output: []\n",
    "Explanation: \n",
    "The 8 and -8 collide exploding each other.\n",
    "```\n",
    "\n",
    "**Example 3:**  \n",
    "\n",
    "```\n",
    "Input: \n",
    "asteroids = [10, 2, -5]\n",
    "Output: [10]\n",
    "Explanation: \n",
    "The 2 and -5 collide resulting in -5\\.  The 10 and -5 collide resulting in 10.\n",
    "```\n",
    "\n",
    "**Example 4:**  \n",
    "\n",
    "```\n",
    "Input: \n",
    "asteroids = [-2, -1, 1, 2]\n",
    "Output: [-2, -1, 1, 2]\n",
    "Explanation: \n",
    "The -2 and -1 are moving left, while the 1 and 2 are moving right.\n",
    "Asteroids moving the same direction never meet, so no asteroids will meet each other.\n",
    "```\n",
    "\n",
    "**Note:**\n",
    "\n",
    "*   The length of `asteroids` will be at most `10000`.*   Each asteroid will be a non-zero integer in the range `[-1000, 1000].`."
   ]
  },
  {
   "cell_type": "code",
   "execution_count": 22,
   "metadata": {},
   "outputs": [],
   "source": [
    "# stack\n",
    "from typing import List\n",
    "\n",
    "class Solution:\n",
    "    def asteroidCollision(self, asteroids: List[int]) -> List[int]:\n",
    "        stack = []\n",
    "        for a in asteroids:\n",
    "            if a >= 0:\n",
    "                stack += a,\n",
    "            else:\n",
    "                if not stack or stack[-1] < 0:\n",
    "                    stack += a,\n",
    "                else:\n",
    "                    diff = abs(a) - abs(stack[-1])\n",
    "                    if diff == 0:\n",
    "                        stack.pop() # both explode\n",
    "                    elif diff < 0:\n",
    "                        pass # negative explodes\n",
    "                    else:\n",
    "                        while stack and diff > 0:\n",
    "                            stack.pop()\n",
    "                            if not stack or stack[-1] < 0:\n",
    "                                stack += a,\n",
    "                                break\n",
    "                            diff = abs(a) - abs(stack[-1])\n",
    "                            if diff == 0:\n",
    "                                stack.pop()\n",
    "        return stack"
   ]
  },
  {
   "cell_type": "code",
   "execution_count": 32,
   "metadata": {},
   "outputs": [],
   "source": [
    "# https://leetcode.com/problems/asteroid-collision/discuss/109674/Iterative-python-solution-and-the-stack-based-version\n",
    "from typing import List\n",
    "\n",
    "class Solution:\n",
    "    def asteroidCollision(self, asteroids: List[int]) -> List[int]:\n",
    "        stack = []\n",
    "        for a in asteroids:\n",
    "            if a >= 0:\n",
    "                stack += a,\n",
    "            else:\n",
    "                while stack and stack[-1] >= 0 and stack[-1] < abs(a):\n",
    "                    stack.pop()\n",
    "                if not stack or stack[-1] < 0:\n",
    "                    stack += a,\n",
    "                elif stack[-1] == abs(a):\n",
    "                    stack.pop() # both explode\n",
    "        return stack"
   ]
  },
  {
   "cell_type": "code",
   "execution_count": 33,
   "metadata": {},
   "outputs": [
    {
     "data": {
      "text/plain": [
       "[5, 10]"
      ]
     },
     "execution_count": 33,
     "metadata": {},
     "output_type": "execute_result"
    }
   ],
   "source": [
    "Solution().asteroidCollision([5,10,-5])"
   ]
  },
  {
   "cell_type": "code",
   "execution_count": 34,
   "metadata": {},
   "outputs": [
    {
     "data": {
      "text/plain": [
       "[]"
      ]
     },
     "execution_count": 34,
     "metadata": {},
     "output_type": "execute_result"
    }
   ],
   "source": [
    "Solution().asteroidCollision([8,-8])"
   ]
  },
  {
   "cell_type": "code",
   "execution_count": 35,
   "metadata": {},
   "outputs": [
    {
     "data": {
      "text/plain": [
       "[10]"
      ]
     },
     "execution_count": 35,
     "metadata": {},
     "output_type": "execute_result"
    }
   ],
   "source": [
    "Solution().asteroidCollision([10,2,-5])"
   ]
  },
  {
   "cell_type": "code",
   "execution_count": 36,
   "metadata": {},
   "outputs": [
    {
     "data": {
      "text/plain": [
       "[-2, -1, 1, 2]"
      ]
     },
     "execution_count": 36,
     "metadata": {},
     "output_type": "execute_result"
    }
   ],
   "source": [
    "Solution().asteroidCollision([-2,-1,1,2])"
   ]
  },
  {
   "cell_type": "code",
   "execution_count": 37,
   "metadata": {},
   "outputs": [
    {
     "data": {
      "text/plain": [
       "[-2, -2, -2]"
      ]
     },
     "execution_count": 37,
     "metadata": {},
     "output_type": "execute_result"
    }
   ],
   "source": [
    "Solution().asteroidCollision([-2,-2,1,-2])"
   ]
  },
  {
   "cell_type": "code",
   "execution_count": 38,
   "metadata": {},
   "outputs": [
    {
     "data": {
      "text/plain": [
       "[-2]"
      ]
     },
     "execution_count": 38,
     "metadata": {},
     "output_type": "execute_result"
    }
   ],
   "source": [
    "Solution().asteroidCollision([-2,2,1,-2])"
   ]
  },
  {
   "cell_type": "code",
   "execution_count": null,
   "metadata": {},
   "outputs": [],
   "source": []
  }
 ],
 "metadata": {
  "kernelspec": {
   "display_name": "Python 3",
   "language": "python",
   "name": "python3"
  },
  "language_info": {
   "codemirror_mode": {
    "name": "ipython",
    "version": 3
   },
   "file_extension": ".py",
   "mimetype": "text/x-python",
   "name": "python",
   "nbconvert_exporter": "python",
   "pygments_lexer": "ipython3",
   "version": "3.6.8"
  }
 },
 "nbformat": 4,
 "nbformat_minor": 2
}
