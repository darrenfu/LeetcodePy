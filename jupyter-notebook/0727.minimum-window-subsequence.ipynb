{
 "cells": [
  {
   "cell_type": "markdown",
   "metadata": {},
   "source": [
    "### [727\\. Minimum Window Subsequence](https://leetcode.com/problems/minimum-window-subsequence/)\n",
    "\n",
    "Difficulty: **Hard**\n",
    "\n",
    "\n",
    "Given strings `S` and `T`, find the minimum (contiguous) **substring** `W` of `S`, so that `T` is a **subsequence** of `W`.\n",
    "\n",
    "If there is no such window in `S` that covers all characters in `T`, return the empty string `\"\"`. If there are multiple such minimum-length windows, return the one with the left-most starting index.\n",
    "\n",
    "**Example 1:**\n",
    "\n",
    "```\n",
    "Input: \n",
    "S = \"abcdebdde\", T = \"bde\"\n",
    "Output: \"bcde\"\n",
    "Explanation: \n",
    "\"bcde\" is the answer because it occurs before \"bdde\" which has the same length.\n",
    "\"deb\" is not a smaller window because the elements of T in the window must occur in order.\n",
    "```\n",
    "\n",
    "**Note:**\n",
    "\n",
    "*   All the strings in the input will only contain lowercase letters.\n",
    "*   The length of `S` will be in the range `[1, 20000]`.\n",
    "*   The length of `T` will be in the range `[1, 100]`."
   ]
  },
  {
   "cell_type": "code",
   "execution_count": 18,
   "metadata": {},
   "outputs": [],
   "source": [
    "# two pointer\n",
    "# T: O(M*N)\n",
    "class Solution:\n",
    "    def minWindow(self, S: str, T: str) -> str: \n",
    "        if not S or not T: return ''\n",
    "        i, j = 0, 0\n",
    "        SL, TL = len(S), len(T)\n",
    "        min_idx = [0, float('inf')]\n",
    "        def swap_min_length(s: int, e: int):\n",
    "            nonlocal min_idx\n",
    "            min_len = min_idx[1] - min_idx[0]\n",
    "            new_min_len = e-s\n",
    "            if min_len > new_min_len: # find a smaller window globally\n",
    "                min_idx = [s, e]\n",
    "        \n",
    "        # 1. two pointer i and j to compare S[i] and T[j]\n",
    "        # check feasibility from left to right of T\n",
    "        while i < SL:\n",
    "            if S[i] == T[j]:\n",
    "                j += 1\n",
    "                if j == TL: \n",
    "                    # 2. use two pointer ii and jj to reversely compare S[ii] and T[jj]\n",
    "                    # check optimization (min window) from right to left of T\n",
    "                    jj = TL-1\n",
    "                    for ii in range(i, -1, -1):\n",
    "                        if S[ii] == T[jj]:\n",
    "                            jj -= 1\n",
    "                            if jj == -1:\n",
    "                                swap_min_length(ii, i+1)\n",
    "                                # reset i, j to look forward for another potential global min window\n",
    "                                i = ii # Tricky part here! Must move after the previous min window's start_idx instead of end_idx\n",
    "                                j = 0\n",
    "                                break\n",
    "            i += 1\n",
    "        return '' if min_idx[1] == float('inf') else S[min_idx[0]:min_idx[1]]"
   ]
  },
  {
   "cell_type": "code",
   "execution_count": 19,
   "metadata": {},
   "outputs": [
    {
     "data": {
      "text/plain": [
       "'bcde'"
      ]
     },
     "execution_count": 19,
     "metadata": {},
     "output_type": "execute_result"
    }
   ],
   "source": [
    "Solution().minWindow(S = \"abcdebdde\", T = \"bde\")"
   ]
  },
  {
   "cell_type": "code",
   "execution_count": 20,
   "metadata": {},
   "outputs": [
    {
     "data": {
      "text/plain": [
       "'nevavyrpduigitmrimtaslzboauwbluvlfqquocxrzrbvvplsivujojscytmeyjolvvyzwizpuhejsdzkfwgqdbwinkxqypaph'"
      ]
     },
     "execution_count": 20,
     "metadata": {},
     "output_type": "execute_result"
    }
   ],
   "source": [
    "Solution().minWindow(\"ffynmlzesdshlvugsigobutgaetsnjlizvqjdpccdylclqcbghhixpjihximvhapymfkjxyyxfwvsfyctmhwmfjyjidnfryiyajmtakisaxwglwpqaxaicuprrvxybzdxunypzofhpclqiybgniqzsdeqwrdsfjyfkgmejxfqjkmukvgygafwokeoeglanevavyrpduigitmrimtaslzboauwbluvlfqquocxrzrbvvplsivujojscytmeyjolvvyzwizpuhejsdzkfwgqdbwinkxqypaphktonqwwanapouqyjdbptqfowhemsnsl\", \"ntimcimzah\")"
   ]
  },
  {
   "cell_type": "code",
   "execution_count": null,
   "metadata": {},
   "outputs": [],
   "source": []
  },
  {
   "cell_type": "code",
   "execution_count": null,
   "metadata": {},
   "outputs": [],
   "source": []
  }
 ],
 "metadata": {
  "kernelspec": {
   "display_name": "Python 3",
   "language": "python",
   "name": "python3"
  },
  "language_info": {
   "codemirror_mode": {
    "name": "ipython",
    "version": 3
   },
   "file_extension": ".py",
   "mimetype": "text/x-python",
   "name": "python",
   "nbconvert_exporter": "python",
   "pygments_lexer": "ipython3",
   "version": "3.6.8"
  }
 },
 "nbformat": 4,
 "nbformat_minor": 2
}
