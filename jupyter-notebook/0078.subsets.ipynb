{
 "cells": [
  {
   "cell_type": "code",
   "execution_count": 32,
   "metadata": {},
   "outputs": [],
   "source": [
    "# Runtime: 44 ms, faster than 43.24%\n",
    "from typing import List\n",
    "\n",
    "class Solution:\n",
    "    def subsets(self, nums: List[int]) -> List[List[int]]:\n",
    "        def dfs(nums: List[int], stack: List[int], res: List[List[int]]):\n",
    "            # exit condtion: len(nums) == 0\n",
    "            res.append(stack[:])\n",
    "            \n",
    "            for i, v in enumerate(nums):\n",
    "#                 if stack and v < stack[-1]: # combination instead of permutation\n",
    "#                     continue\n",
    "                stack.append(v)\n",
    "                dfs(nums[i+1:], stack, res)\n",
    "                stack.pop()\n",
    "            \n",
    "#         nums.sort()\n",
    "        res = []\n",
    "        dfs(nums, [], res)\n",
    "        return res"
   ]
  },
  {
   "cell_type": "code",
   "execution_count": 33,
   "metadata": {},
   "outputs": [
    {
     "data": {
      "text/plain": [
       "[[], [2], [2, 3], [2, 3, 1], [2, 1], [3], [3, 1], [1]]"
      ]
     },
     "execution_count": 33,
     "metadata": {},
     "output_type": "execute_result"
    }
   ],
   "source": [
    "Solution().subsets([2,3,1])"
   ]
  },
  {
   "cell_type": "code",
   "execution_count": null,
   "metadata": {},
   "outputs": [],
   "source": []
  }
 ],
 "metadata": {
  "kernelspec": {
   "display_name": "Python 3",
   "language": "python",
   "name": "python3"
  },
  "language_info": {
   "codemirror_mode": {
    "name": "ipython",
    "version": 3
   },
   "file_extension": ".py",
   "mimetype": "text/x-python",
   "name": "python",
   "nbconvert_exporter": "python",
   "pygments_lexer": "ipython3",
   "version": "3.6.8"
  }
 },
 "nbformat": 4,
 "nbformat_minor": 2
}
