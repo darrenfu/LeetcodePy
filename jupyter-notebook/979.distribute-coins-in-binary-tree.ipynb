{
 "cells": [
  {
   "cell_type": "code",
   "execution_count": 1,
   "metadata": {},
   "outputs": [],
   "source": [
    "import sys\n",
    "sys.path.append('..')\n",
    "from leetcode.tree.treenode import TreeNode"
   ]
  },
  {
   "cell_type": "code",
   "execution_count": 2,
   "metadata": {},
   "outputs": [],
   "source": [
    "# post-order traversal\n",
    "# https://leetcode.com/problems/distribute-coins-in-binary-tree/discuss/221939/C%2B%2B-with-picture-post-order-traversal\n",
    "class Solution:\n",
    "    def distributeCoins(self, root: TreeNode) -> int:\n",
    "        moves = 0\n",
    "        def dfs(r: TreeNode) -> int:\n",
    "            nonlocal moves\n",
    "            if r is None: return 0\n",
    "            L, R = dfs(r.left), dfs(r.right)\n",
    "            moves += abs(L) + abs(R)\n",
    "            return r.val + L + R - 1  # keep one coin for the Node r\n",
    "        dfs(root)\n",
    "        return moves"
   ]
  },
  {
   "cell_type": "code",
   "execution_count": 4,
   "metadata": {},
   "outputs": [
    {
     "data": {
      "text/plain": [
       "4"
      ]
     },
     "execution_count": 4,
     "metadata": {},
     "output_type": "execute_result"
    }
   ],
   "source": [
    "root = TreeNode.deserialize('[1,0,0,null,3]')\n",
    "Solution().distributeCoins(root)"
   ]
  },
  {
   "cell_type": "code",
   "execution_count": 5,
   "metadata": {},
   "outputs": [
    {
     "data": {
      "text/plain": [
       "2"
      ]
     },
     "execution_count": 5,
     "metadata": {},
     "output_type": "execute_result"
    }
   ],
   "source": [
    "root = TreeNode.deserialize('[3,0,0]')\n",
    "Solution().distributeCoins(root)"
   ]
  },
  {
   "cell_type": "code",
   "execution_count": null,
   "metadata": {},
   "outputs": [],
   "source": []
  }
 ],
 "metadata": {
  "kernelspec": {
   "display_name": "Python 3",
   "language": "python",
   "name": "python3"
  },
  "language_info": {
   "codemirror_mode": {
    "name": "ipython",
    "version": 3
   },
   "file_extension": ".py",
   "mimetype": "text/x-python",
   "name": "python",
   "nbconvert_exporter": "python",
   "pygments_lexer": "ipython3",
   "version": "3.6.8"
  }
 },
 "nbformat": 4,
 "nbformat_minor": 2
}
