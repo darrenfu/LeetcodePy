{
 "cells": [
  {
   "cell_type": "markdown",
   "metadata": {},
   "source": [
    "### [428\\. Serialize and Deserialize N-ary Tree](https://leetcode.com/problems/serialize-and-deserialize-n-ary-tree/)\n",
    "\n",
    "Difficulty: **Hard**\n",
    "\n",
    "\n",
    "Serialization is the process of converting a data structure or object into a sequence of bits so that it can be stored in a file or memory buffer, or transmitted across a network connection link to be reconstructed later in the same or another computer environment.\n",
    "\n",
    "Design an algorithm to serialize and deserialize an N-ary tree. An N-ary tree is a rooted tree in which each node has no more than N children. There is no restriction on how your serialization/deserialization algorithm should work. You just need to ensure that an N-ary tree can be serialized to a string and this string can be deserialized to the original tree structure.\n",
    "\n",
    "For example, you may serialize the following `3-ary` tree\n",
    "\n",
    "![](https://assets.leetcode.com/uploads/2018/10/12/narytreeexample.png)\n",
    "\n",
    "as `[1 [3[5 6] 2 4]]`. Note that this is just an example, you do not necessarily need to follow this format.\n",
    "\n",
    "Or you can follow LeetCode's level order traversal serialization format, where each group of children is separated by the null value.\n",
    "\n",
    "![](https://assets.leetcode.com/uploads/2019/11/08/sample_4_964.png)\n",
    "\n",
    "For example, the above tree may be serialized as `[1,null,2,3,4,5,null,null,6,7,null,8,null,9,10,null,null,11,null,12,null,13,null,null,14]`.\n",
    "\n",
    "You do not necessarily need to follow the above suggested formats, there are many more different formats that work so please be creative and come up with different approaches yourself.\n",
    "\n",
    "**Constraints:**\n",
    "\n",
    "*   The height of the n-ary tree is less than or equal to `1000`\n",
    "*   The total number of nodes is between `[0, 10^4]`\n",
    "*   Do not use class member/global/static variables to store states. Your encode and decode algorithms should be stateless."
   ]
  },
  {
   "cell_type": "code",
   "execution_count": 21,
   "metadata": {},
   "outputs": [],
   "source": [
    "class Node(object):\n",
    "    def __init__(self, val=None, children=None):\n",
    "        self.val = val\n",
    "        self.children = children\n",
    "        \n",
    "class Codec:\n",
    "\n",
    "    def serialize(self, root: 'Node') -> str:\n",
    "        \"\"\"Encodes a tree to a single string.\n",
    "        \n",
    "        :type root: Node\n",
    "        :rtype: str\n",
    "        \"\"\"\n",
    "        # preorder traverse\n",
    "        res = []\n",
    "        def dfs(node: Node):\n",
    "            if not node: \n",
    "                return\n",
    "            res.append(str(node.val))\n",
    "            if node.children:\n",
    "                for child in node.children:\n",
    "                    dfs(child)\n",
    "            res.append('#') # indicates no more children\n",
    "        dfs(root)\n",
    "        return ','.join(res)\n",
    "\n",
    "    def deserialize(self, data: str) -> 'Node':\n",
    "        \"\"\"Decodes your encoded data to tree.\n",
    "        \n",
    "        :type data: str\n",
    "        :rtype: Node\n",
    "        \"\"\"\n",
    "        vals = data.split(',')\n",
    "        if not vals: return None\n",
    "        \n",
    "        def dfs(vals):\n",
    "            if not vals: return None\n",
    "            val = vals.pop(0)\n",
    "            parent = Node(int(val))\n",
    "            children = []\n",
    "            while vals[0] != '#':\n",
    "                val = vals.pop(0)\n",
    "                if val != '#':\n",
    "                    children.append(Node(int(val)))\n",
    "            parent.children = children\n",
    "            print(parent.val)\n",
    "            print([c.val for c in children])\n",
    "            return parent\n",
    "        return dfs(vals)"
   ]
  },
  {
   "cell_type": "code",
   "execution_count": 22,
   "metadata": {},
   "outputs": [
    {
     "name": "stdout",
     "output_type": "stream",
     "text": [
      "1\n",
      "[2, 5]\n",
      "1,2,#,5,#,#\n"
     ]
    }
   ],
   "source": [
    "codec = Codec()\n",
    "root = codec.deserialize('1,2,5,#,6,#,#,3,9,#,#,4,10,#,11,#,#,#')\n",
    "# for c in root.children:\n",
    "#     print(c.val)\n",
    "print(codec.serialize(root))"
   ]
  },
  {
   "cell_type": "code",
   "execution_count": null,
   "metadata": {},
   "outputs": [],
   "source": []
  },
  {
   "cell_type": "code",
   "execution_count": null,
   "metadata": {},
   "outputs": [],
   "source": []
  }
 ],
 "metadata": {
  "kernelspec": {
   "display_name": "Python 3",
   "language": "python",
   "name": "python3"
  },
  "language_info": {
   "codemirror_mode": {
    "name": "ipython",
    "version": 3
   },
   "file_extension": ".py",
   "mimetype": "text/x-python",
   "name": "python",
   "nbconvert_exporter": "python",
   "pygments_lexer": "ipython3",
   "version": "3.6.8"
  }
 },
 "nbformat": 4,
 "nbformat_minor": 2
}
