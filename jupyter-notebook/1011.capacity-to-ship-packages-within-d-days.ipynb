{
 "cells": [
  {
   "cell_type": "code",
   "execution_count": 57,
   "metadata": {},
   "outputs": [],
   "source": [
    "# \"in the order given by weights.\"\n",
    "# https://leetcode.com/problems/capacity-to-ship-packages-within-d-days/discuss/256729/javacpython-binary-search/351188\n",
    "# https://leetcode.com/problems/capacity-to-ship-packages-within-d-days/discuss/256765/Python-Binary-search-with-detailed-explanation\n",
    "# Runtime: 604 ms, faster than 41.77% \n",
    "from typing import List\n",
    "\n",
    "class Solution:\n",
    "    def shipWithinDays(self, weights: List[int], D: int) -> int:\n",
    "        # returns the days to ship packages given the specific capacity\n",
    "        def split(capacity: int) -> int:\n",
    "            cur, cuts = 0, 1\n",
    "            for a in weights:\n",
    "                # if next total weights is larger than capacity, \n",
    "                # ship the current packages\n",
    "                if cur + a > capacity:\n",
    "                    cuts += 1\n",
    "                    cur = 0\n",
    "                cur += a\n",
    "            return cuts\n",
    "            \n",
    "        lo, hi = max(weights), sum(weights)\n",
    "        while lo < hi:\n",
    "            mid = (lo+hi)//2\n",
    "            if split(mid) > D: # condition \"within D days\" is not met, current max_capacity is not large enough. \n",
    "                # Go find a larger max_capacity in right part [mid+1, hi]\n",
    "                lo = mid+1\n",
    "            else: # condition is met, but we need a smaller max_capacity in left part [lo, mid], i.e. least weight capacity of the ship\n",
    "                hi = mid\n",
    "        return lo"
   ]
  },
  {
   "cell_type": "code",
   "execution_count": 58,
   "metadata": {},
   "outputs": [
    {
     "data": {
      "text/plain": [
       "15"
      ]
     },
     "execution_count": 58,
     "metadata": {},
     "output_type": "execute_result"
    }
   ],
   "source": [
    "Solution().shipWithinDays(weights=[1,2,3,4,5,6,7,8,9,10], D = 5)"
   ]
  },
  {
   "cell_type": "code",
   "execution_count": 59,
   "metadata": {},
   "outputs": [
    {
     "data": {
      "text/plain": [
       "6"
      ]
     },
     "execution_count": 59,
     "metadata": {},
     "output_type": "execute_result"
    }
   ],
   "source": [
    "Solution().shipWithinDays(weights = [3,2,2,4,1,4], D = 3)"
   ]
  },
  {
   "cell_type": "code",
   "execution_count": 60,
   "metadata": {},
   "outputs": [
    {
     "data": {
      "text/plain": [
       "3"
      ]
     },
     "execution_count": 60,
     "metadata": {},
     "output_type": "execute_result"
    }
   ],
   "source": [
    "Solution().shipWithinDays(weights = [1,2,3,1,1], D = 4)"
   ]
  },
  {
   "cell_type": "code",
   "execution_count": null,
   "metadata": {},
   "outputs": [],
   "source": []
  }
 ],
 "metadata": {
  "kernelspec": {
   "display_name": "Python 3",
   "language": "python",
   "name": "python3"
  },
  "language_info": {
   "codemirror_mode": {
    "name": "ipython",
    "version": 3
   },
   "file_extension": ".py",
   "mimetype": "text/x-python",
   "name": "python",
   "nbconvert_exporter": "python",
   "pygments_lexer": "ipython3",
   "version": "3.6.8"
  }
 },
 "nbformat": 4,
 "nbformat_minor": 2
}
