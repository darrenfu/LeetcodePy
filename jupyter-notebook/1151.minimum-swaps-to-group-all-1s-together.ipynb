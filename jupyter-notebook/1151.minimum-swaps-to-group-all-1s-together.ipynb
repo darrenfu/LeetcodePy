{
 "cells": [
  {
   "cell_type": "code",
   "execution_count": 1,
   "metadata": {},
   "outputs": [],
   "source": [
    "from typing import List\n",
    "\n",
    "class Solution:\n",
    "    \"\"\"\n",
    "    sliding window\n",
    "    https://leetcode.com/problems/minimum-swaps-to-group-all-1s-together/discuss/355445/Python-concise-and-readable\n",
    "    \"\"\"\n",
    "    def minSwaps(self, data: List[int]) -> int:\n",
    "        ones = data.count(1)\n",
    "        cur = zeros = data[:ones].count(0)\n",
    "        for i in range(ones, len(data)):\n",
    "            cur += not data[i]  # window move in\n",
    "            cur -= not data[i-ones]  # window move out (window length: ones)\n",
    "            zeros = min(zeros, cur)  # min zeros in target consecutive ones means the min swaps\n",
    "        return zeros"
   ]
  },
  {
   "cell_type": "code",
   "execution_count": 2,
   "metadata": {},
   "outputs": [
    {
     "data": {
      "text/plain": [
       "1"
      ]
     },
     "execution_count": 2,
     "metadata": {},
     "output_type": "execute_result"
    }
   ],
   "source": [
    "Solution().minSwaps(data=[1,0,1,0,1])"
   ]
  },
  {
   "cell_type": "code",
   "execution_count": 3,
   "metadata": {},
   "outputs": [
    {
     "data": {
      "text/plain": [
       "0"
      ]
     },
     "execution_count": 3,
     "metadata": {},
     "output_type": "execute_result"
    }
   ],
   "source": [
    "Solution().minSwaps(data=[0,0,0,1,0])"
   ]
  },
  {
   "cell_type": "code",
   "execution_count": 4,
   "metadata": {},
   "outputs": [
    {
     "data": {
      "text/plain": [
       "3"
      ]
     },
     "execution_count": 4,
     "metadata": {},
     "output_type": "execute_result"
    }
   ],
   "source": [
    "Solution().minSwaps(data=[1,0,1,0,1,0,0,1,1,0,1])"
   ]
  }
 ],
 "metadata": {
  "kernelspec": {
   "display_name": "Python 3",
   "language": "python",
   "name": "python3"
  },
  "language_info": {
   "codemirror_mode": {
    "name": "ipython",
    "version": 3
   },
   "file_extension": ".py",
   "mimetype": "text/x-python",
   "name": "python",
   "nbconvert_exporter": "python",
   "pygments_lexer": "ipython3",
   "version": "3.6.8"
  }
 },
 "nbformat": 4,
 "nbformat_minor": 2
}
