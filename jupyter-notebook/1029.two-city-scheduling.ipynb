{
 "cells": [
  {
   "cell_type": "code",
   "execution_count": 13,
   "metadata": {},
   "outputs": [],
   "source": [
    "# Greedy algo\n",
    "# always choose the minimum number in two from largest diff to smallest.\n",
    "# if one city is full, choose the other city blindly\n",
    "from typing import List\n",
    "\n",
    "class Solution:\n",
    "    def twoCitySchedCost(self, costs: List[List[int]]) -> int:\n",
    "        costs.sort(key=lambda arr:abs(arr[0]-arr[1]), reverse=True)\n",
    "        N = len(costs)//2\n",
    "        counts = [0, 0] # person number in City A and B\n",
    "        min_cost = 0\n",
    "        for cost in costs:\n",
    "            # two city are full, exit\n",
    "            if all(map(lambda c: c == N, counts)):\n",
    "                break\n",
    "                \n",
    "            # one city is full\n",
    "            continue_flag = False\n",
    "            for j, cnt in enumerate(counts):\n",
    "                if cnt == N:\n",
    "                    min_cost += cost[1-j]\n",
    "                    counts[1-j] += 1\n",
    "                    continue_flag = True\n",
    "                    break\n",
    "            if continue_flag: continue\n",
    "                \n",
    "            # greedily choose from smaller cost from the largest diff array\n",
    "            idx = 0 if cost[0] <= cost[1] else 1\n",
    "            if counts[idx] < N:\n",
    "                min_cost += cost[idx]\n",
    "                counts[idx] += 1\n",
    "        return min_cost"
   ]
  },
  {
   "cell_type": "code",
   "execution_count": 16,
   "metadata": {},
   "outputs": [],
   "source": [
    "# sort the array by the difference between costs for A and B. Then, we fly first N people to A, and the rest to B.\n",
    "# https://leetcode.com/problems/two-city-scheduling/discuss/278800/One-line-Python\n",
    "from typing import List\n",
    "\n",
    "class Solution:\n",
    "    def twoCitySchedCost(self, costs: List[List[int]]) -> int:\n",
    "        N = len(costs)//2\n",
    "        costs.sort(key=lambda arr:arr[0]-arr[1])\n",
    "        return sum(i[0] for i in costs[:N]) + sum(i[1] for i in costs[N:])"
   ]
  },
  {
   "cell_type": "code",
   "execution_count": 17,
   "metadata": {},
   "outputs": [
    {
     "data": {
      "text/plain": [
       "110"
      ]
     },
     "execution_count": 17,
     "metadata": {},
     "output_type": "execute_result"
    }
   ],
   "source": [
    "Solution().twoCitySchedCost([[10,20],[30,200],[400,50],[30,20]])"
   ]
  },
  {
   "cell_type": "code",
   "execution_count": 18,
   "metadata": {},
   "outputs": [
    {
     "data": {
      "text/plain": [
       "1859"
      ]
     },
     "execution_count": 18,
     "metadata": {},
     "output_type": "execute_result"
    }
   ],
   "source": [
    "Solution().twoCitySchedCost([[259,770],[448,54],[926,667],[184,139],[840,118],[577,469]])"
   ]
  },
  {
   "cell_type": "code",
   "execution_count": null,
   "metadata": {},
   "outputs": [],
   "source": []
  }
 ],
 "metadata": {
  "kernelspec": {
   "display_name": "Python 3",
   "language": "python",
   "name": "python3"
  },
  "language_info": {
   "codemirror_mode": {
    "name": "ipython",
    "version": 3
   },
   "file_extension": ".py",
   "mimetype": "text/x-python",
   "name": "python",
   "nbconvert_exporter": "python",
   "pygments_lexer": "ipython3",
   "version": "3.6.8"
  }
 },
 "nbformat": 4,
 "nbformat_minor": 2
}
