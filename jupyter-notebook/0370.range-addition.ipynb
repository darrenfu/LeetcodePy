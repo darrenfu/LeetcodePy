{
 "cells": [
  {
   "cell_type": "markdown",
   "metadata": {},
   "source": [
    "### [370\\. Range Addition](https://leetcode.com/problems/range-addition/)\n",
    "\n",
    "Difficulty: **Medium**\n",
    "\n",
    "\n",
    "Assume you have an array of length **_n_** initialized with all **0**'s and are given **_k_** update operations.\n",
    "\n",
    "Each operation is represented as a triplet: **[startIndex, endIndex, inc]** which increments each element of subarray **A[startIndex ... endIndex]** (startIndex and endIndex inclusive) with **inc**.\n",
    "\n",
    "Return the modified array after all **_k_** operations were executed.\n",
    "\n",
    "**Example:**\n",
    "\n",
    "```\n",
    "Input: length = 5, updates = [[1,3,2],[2,4,3],[0,2,-2]]\n",
    "Output: [-2,0,3,5,3]\n",
    "```\n",
    "\n",
    "**Explanation:**\n",
    "\n",
    "```\n",
    "Initial state:\n",
    "[0,0,0,0,0]\n",
    "\n",
    "After applying operation [1,3,2]:\n",
    "[0,2,2,2,0]\n",
    "\n",
    "After applying operation [2,4,3]:\n",
    "[0,2,5,5,3]\n",
    "\n",
    "After applying operation [0,2,-2]:\n",
    "[-2,0,3,5,3]\n",
    "```"
   ]
  },
  {
   "cell_type": "code",
   "execution_count": 2,
   "metadata": {},
   "outputs": [],
   "source": [
    "from collections import defaultdict\n",
    "from typing import List\n",
    "\n",
    "class Solution:\n",
    "    def getModifiedArray(self, length: int, updates: List[List[int]]) -> List[int]:\n",
    "        ans = [0] * length\n",
    "        if not updates:\n",
    "            return ans\n",
    "        cadences = defaultdict(list)\n",
    "        for i,j,k in sorted(updates, key=lambda b: (b[0], b[1])):\n",
    "            if i == j:\n",
    "                if not cadences[i]:\n",
    "                    cadences[i] = [0, 0, 0]\n",
    "                cadences[i][2] += k\n",
    "                continue\n",
    "            if not cadences[i]:\n",
    "                cadences[i] = [0, 0, 0]\n",
    "            cadences[i][0] += k\n",
    "            if not cadences[j]:\n",
    "                cadences[j] = [0, 0, 0]\n",
    "            cadences[j][1] += k\n",
    "            \n",
    "        keys = sorted(cadences.keys())\n",
    "        curSum = 0\n",
    "        for k1, k2 in zip(keys, keys[1:]):\n",
    "            curSum += cadences[k1][0]\n",
    "            ans[k1] = curSum + cadences[k1][2]\n",
    "            curSum -= cadences[k1][1]\n",
    "            for k in range(k1+1, k2):\n",
    "                ans[k] = curSum\n",
    "        ans[keys[-1]] = (cadences[keys[-1]][1] if curSum == 0 else curSum) + cadences[keys[-1]][2]\n",
    "        return ans"
   ]
  },
  {
   "cell_type": "code",
   "execution_count": 5,
   "metadata": {},
   "outputs": [],
   "source": [
    "from typing import List\n",
    "\n",
    "class Solution:\n",
    "    def getModifiedArray(self, length: int, updates: List[List[int]]) -> List[int]:\n",
    "        ans = [0] * (length+1)\n",
    "        for i,j,k in updates:\n",
    "            ans[i] += k\n",
    "            ans[j+1] -= k\n",
    "        \n",
    "        for i in range(1, length):\n",
    "            ans[i] += ans[i-1]\n",
    "        return ans[:-1]"
   ]
  },
  {
   "cell_type": "code",
   "execution_count": 6,
   "metadata": {},
   "outputs": [
    {
     "data": {
      "text/plain": [
       "[0]"
      ]
     },
     "execution_count": 6,
     "metadata": {},
     "output_type": "execute_result"
    }
   ],
   "source": [
    "Solution().getModifiedArray(1, [])"
   ]
  },
  {
   "cell_type": "code",
   "execution_count": 7,
   "metadata": {},
   "outputs": [
    {
     "data": {
      "text/plain": [
       "[-2, 0, 3, 5, 3]"
      ]
     },
     "execution_count": 7,
     "metadata": {},
     "output_type": "execute_result"
    }
   ],
   "source": [
    "Solution().getModifiedArray(length = 5, updates = [[1,3,2],[2,4,3],[0,2,-2]])"
   ]
  },
  {
   "cell_type": "code",
   "execution_count": null,
   "metadata": {},
   "outputs": [],
   "source": []
  }
 ],
 "metadata": {
  "kernelspec": {
   "display_name": "Python 3",
   "language": "python",
   "name": "python3"
  },
  "language_info": {
   "codemirror_mode": {
    "name": "ipython",
    "version": 3
   },
   "file_extension": ".py",
   "mimetype": "text/x-python",
   "name": "python",
   "nbconvert_exporter": "python",
   "pygments_lexer": "ipython3",
   "version": "3.6.8"
  }
 },
 "nbformat": 4,
 "nbformat_minor": 2
}
