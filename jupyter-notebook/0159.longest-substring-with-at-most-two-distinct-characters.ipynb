{
 "cells": [
  {
   "cell_type": "code",
   "execution_count": 3,
   "metadata": {},
   "outputs": [],
   "source": [
    "# Similar to #76\n",
    "from collections import Counter\n",
    "\n",
    "class Solution:\n",
    "    def lengthOfLongestSubstringTwoDistinct(self, s: str) -> int:\n",
    "        need = Counter()\n",
    "        uniq_cnt = 0\n",
    "        i = 0\n",
    "        res = 0\n",
    "        for j, char in enumerate(s, 1):\n",
    "            if need[char] == 0:\n",
    "                uniq_cnt += 1\n",
    "            need[char] += 1\n",
    "            while uniq_cnt > 2:\n",
    "                if need[s[i]] == 1:\n",
    "                    uniq_cnt -= 1\n",
    "                need[s[i]] -= 1\n",
    "                i += 1\n",
    "            res = max(res, j-i)\n",
    "        return res"
   ]
  },
  {
   "cell_type": "code",
   "execution_count": 9,
   "metadata": {},
   "outputs": [],
   "source": [
    "class Solution:\n",
    "    def lengthOfLongestSubstringTwoDistinct(self, s: str) -> int:\n",
    "        need = [0] * 52  # char range: [a-zA-Z]\n",
    "        uniq_cnt = 0\n",
    "        i = 0\n",
    "        res = 0\n",
    "        for j, char in enumerate(s, 1):\n",
    "            cj = ord(char) - 97\n",
    "            if need[cj] == 0:\n",
    "                uniq_cnt += 1\n",
    "            need[cj] += 1\n",
    "            while uniq_cnt > 2:  # move i till s only has two unique chars\n",
    "                ci = ord(s[i])-97\n",
    "                if need[ci] == 1:\n",
    "                    uniq_cnt -= 1\n",
    "                need[ci] -= 1\n",
    "                i += 1\n",
    "            res = max(res, j-i)\n",
    "        return res"
   ]
  },
  {
   "cell_type": "code",
   "execution_count": 10,
   "metadata": {},
   "outputs": [
    {
     "data": {
      "text/plain": [
       "3"
      ]
     },
     "execution_count": 10,
     "metadata": {},
     "output_type": "execute_result"
    }
   ],
   "source": [
    "Solution().lengthOfLongestSubstringTwoDistinct(s=\"eceba\")"
   ]
  },
  {
   "cell_type": "code",
   "execution_count": 11,
   "metadata": {},
   "outputs": [
    {
     "data": {
      "text/plain": [
       "5"
      ]
     },
     "execution_count": 11,
     "metadata": {},
     "output_type": "execute_result"
    }
   ],
   "source": [
    "Solution().lengthOfLongestSubstringTwoDistinct(s=\"ccaabbb\")"
   ]
  },
  {
   "cell_type": "code",
   "execution_count": null,
   "metadata": {},
   "outputs": [],
   "source": []
  }
 ],
 "metadata": {
  "kernelspec": {
   "display_name": "Python 3",
   "language": "python",
   "name": "python3"
  },
  "language_info": {
   "codemirror_mode": {
    "name": "ipython",
    "version": 3
   },
   "file_extension": ".py",
   "mimetype": "text/x-python",
   "name": "python",
   "nbconvert_exporter": "python",
   "pygments_lexer": "ipython3",
   "version": "3.6.8"
  }
 },
 "nbformat": 4,
 "nbformat_minor": 2
}
