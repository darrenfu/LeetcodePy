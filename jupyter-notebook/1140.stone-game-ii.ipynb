{
 "cells": [
  {
   "cell_type": "markdown",
   "metadata": {},
   "source": [
    "### [1140\\. Stone Game II](https://leetcode.com/problems/stone-game-ii/)\n",
    "\n",
    "Difficulty: **Medium**\n",
    "\n",
    "\n",
    "Alex and Lee continue their games with piles of stones.  There are a number of piles **arranged in a row**, and each pile has a positive integer number of stones `piles[i]`.  The objective of the game is to end with the most stones. \n",
    "\n",
    "Alex and Lee take turns, with Alex starting first.  Initially, `M = 1`.\n",
    "\n",
    "On each player's turn, that player can take **all the stones** in the **first** `X` remaining piles, where `1 <= X <= 2M`.  Then, we set `M = max(M, X)`.\n",
    "\n",
    "The game continues until all the stones have been taken.\n",
    "\n",
    "Assuming Alex and Lee play optimally, return the maximum number of stones Alex can get.\n",
    "\n",
    "**Example 1:**\n",
    "\n",
    "```\n",
    "Input: piles = [2,7,9,4,4]\n",
    "Output: 10\n",
    "Explanation:  If Alex takes one pile at the beginning, Lee takes two piles, then Alex takes 2 piles again. Alex can get 2 + 4 + 4 = 10 piles in total. If Alex takes two piles at the beginning, then Lee can take all three piles left. In this case, Alex get 2 + 7 = 9 piles in total. So we return 10 since it's larger. \n",
    "```\n",
    "\n",
    "**Constraints:**\n",
    "\n",
    "*   `1 <= piles.length <= 100`\n",
    "*   `1 <= piles[i] <= 10 ^ 4`"
   ]
  },
  {
   "cell_type": "code",
   "execution_count": null,
   "metadata": {},
   "outputs": [],
   "source": [
    "from typing import List\n",
    "\n",
    "class Solution:\n",
    "    def stoneGameII(self, piles: List[int]) -> int:\n",
    "        N = len(piles)\n",
    "        dp = [[0] * N for _ in range(N)]\n",
    "        for i in range(N):\n",
    "            dp[i][i] = piles[i]\n",
    "        \n",
    "        M = 1\n",
    "        for k in range(1, N):\n",
    "            for i in range(N-k):\n",
    "                j = k+i\n",
    "                x = 1\n",
    "                while x <= 2*M:\n",
    "                    piles[]\n",
    "                    x += 1\n",
    "                M = max(M, x)"
   ]
  }
 ],
 "metadata": {
  "kernelspec": {
   "display_name": "Python 3",
   "language": "python",
   "name": "python3"
  },
  "language_info": {
   "codemirror_mode": {
    "name": "ipython",
    "version": 3
   },
   "file_extension": ".py",
   "mimetype": "text/x-python",
   "name": "python",
   "nbconvert_exporter": "python",
   "pygments_lexer": "ipython3",
   "version": "3.6.8"
  }
 },
 "nbformat": 4,
 "nbformat_minor": 2
}
