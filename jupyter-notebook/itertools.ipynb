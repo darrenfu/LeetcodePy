{
 "cells": [
  {
   "cell_type": "code",
   "execution_count": 2,
   "metadata": {},
   "outputs": [],
   "source": [
    "from typing import List\n",
    "\n",
    "def combinations(word: str) -> List[str]:\n",
    "        bfs = [word[0]]\n",
    "        for ch in word[1:]:\n",
    "            bfs += [s + ch for s in bfs]\n",
    "        return bfs"
   ]
  },
  {
   "cell_type": "code",
   "execution_count": 3,
   "metadata": {},
   "outputs": [],
   "source": [
    "def permutations():\n",
    "    #TODO\n",
    "    pass"
   ]
  },
  {
   "cell_type": "code",
   "execution_count": null,
   "metadata": {},
   "outputs": [],
   "source": [
    "def product():\n",
    "    #TODO\n",
    "    pass"
   ]
  },
  {
   "cell_type": "code",
   "execution_count": 4,
   "metadata": {},
   "outputs": [
    {
     "data": {
      "text/plain": [
       "['e',\n",
       " 'ea',\n",
       " 'ea',\n",
       " 'eaa',\n",
       " 'eb',\n",
       " 'eba',\n",
       " 'eba',\n",
       " 'ebaa',\n",
       " 'ebc',\n",
       " 'ebca',\n",
       " 'ebca',\n",
       " 'ebcaa',\n",
       " 'ebcd',\n",
       " 'ebcda',\n",
       " 'ebcda',\n",
       " 'ebcdaa',\n",
       " 'ebd',\n",
       " 'ebda',\n",
       " 'ebda',\n",
       " 'ebdaa',\n",
       " 'ec',\n",
       " 'eca',\n",
       " 'eca',\n",
       " 'ecaa',\n",
       " 'ecd',\n",
       " 'ecda',\n",
       " 'ecda',\n",
       " 'ecdaa',\n",
       " 'ed',\n",
       " 'eda',\n",
       " 'eda',\n",
       " 'edaa']"
      ]
     },
     "execution_count": 4,
     "metadata": {},
     "output_type": "execute_result"
    }
   ],
   "source": [
    "sorted(combinations('ebcdaa'))"
   ]
  },
  {
   "cell_type": "code",
   "execution_count": null,
   "metadata": {},
   "outputs": [],
   "source": []
  }
 ],
 "metadata": {
  "kernelspec": {
   "display_name": "Python 3",
   "language": "python",
   "name": "python3"
  },
  "language_info": {
   "codemirror_mode": {
    "name": "ipython",
    "version": 3
   },
   "file_extension": ".py",
   "mimetype": "text/x-python",
   "name": "python",
   "nbconvert_exporter": "python",
   "pygments_lexer": "ipython3",
   "version": "3.6.8"
  }
 },
 "nbformat": 4,
 "nbformat_minor": 2
}
