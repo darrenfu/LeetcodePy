{
 "cells": [
  {
   "cell_type": "code",
   "execution_count": 16,
   "metadata": {},
   "outputs": [],
   "source": [
    "# prefix sum\n",
    "# TLE\n",
    "# T: O(N^2)\n",
    "from typing import List\n",
    "\n",
    "class Solution:\n",
    "    def subarraysDivByK(self, A: List[int], K: int) -> int:\n",
    "        presum, res = 0, 0\n",
    "        for i in range(len(A)):\n",
    "            presum += A[i]\n",
    "            rangesum = presum\n",
    "            for j in range(i+1):\n",
    "                if rangesum % K == 0:\n",
    "#                     print(A[j:i+1])\n",
    "                    res += 1\n",
    "                rangesum -= A[j]\n",
    "        return res"
   ]
  },
  {
   "cell_type": "code",
   "execution_count": 17,
   "metadata": {},
   "outputs": [],
   "source": [
    "# Similar to #560\n",
    "# Count freq of remainer\n",
    "# Runtime: 336 ms, faster than 90.65%\n",
    "# https://leetcode.com/problems/subarray-sums-divisible-by-k/discuss/217985/JavaC%2B%2B-Count-the-Remainder\n",
    "from typing import List\n",
    "\n",
    "class Solution:\n",
    "    def subarraysDivByK(self, A: List[int], K: int) -> int:\n",
    "        res, premod = 0, 0\n",
    "        freq = [1] + [0] * K  # Space: O(total_remainer_number = K)\n",
    "        for a in A:\n",
    "            # Python's mod will not be negative\n",
    "            # In C++/Java, need a trick to avoid negative:\n",
    "            # premod = (premod + a % K + K) % K\n",
    "            premod = (premod + a) % K\n",
    "            # if a - b = n*K, derive: a%K = b%K\n",
    "            res += freq[premod]\n",
    "            freq[premod] += 1\n",
    "        return res"
   ]
  },
  {
   "cell_type": "code",
   "execution_count": 18,
   "metadata": {},
   "outputs": [
    {
     "data": {
      "text/plain": [
       "7"
      ]
     },
     "execution_count": 18,
     "metadata": {},
     "output_type": "execute_result"
    }
   ],
   "source": [
    "Solution().subarraysDivByK(A = [4,5,0,-2,-3,1], K = 5)"
   ]
  },
  {
   "cell_type": "code",
   "execution_count": null,
   "metadata": {},
   "outputs": [],
   "source": []
  }
 ],
 "metadata": {
  "kernelspec": {
   "display_name": "Python 3",
   "language": "python",
   "name": "python3"
  },
  "language_info": {
   "codemirror_mode": {
    "name": "ipython",
    "version": 3
   },
   "file_extension": ".py",
   "mimetype": "text/x-python",
   "name": "python",
   "nbconvert_exporter": "python",
   "pygments_lexer": "ipython3",
   "version": "3.6.8"
  }
 },
 "nbformat": 4,
 "nbformat_minor": 2
}
