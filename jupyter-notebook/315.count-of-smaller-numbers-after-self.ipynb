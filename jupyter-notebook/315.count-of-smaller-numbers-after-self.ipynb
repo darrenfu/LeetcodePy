{
 "cells": [
  {
   "cell_type": "code",
   "execution_count": 31,
   "metadata": {},
   "outputs": [],
   "source": [
    "# T: O(N*logN)\n",
    "# merge sort solution\n",
    "from typing import List\n",
    "from bisect import bisect_left\n",
    "\n",
    "class Solution:\n",
    "    def countSmaller(self, nums: List[int]) -> List[int]:\n",
    "        snums, res = [], [0] * len(nums)\n",
    "        for i, v in enumerate(reversed(nums)):\n",
    "            idx = bisect_left(snums, v)\n",
    "            snums.insert(idx, v)\n",
    "            res[i] = idx\n",
    "        return res[::-1]"
   ]
  },
  {
   "cell_type": "code",
   "execution_count": 36,
   "metadata": {},
   "outputs": [],
   "source": [
    "# binary indexed tree\n",
    "# scenario: to balance the time cost between presum and update operation, which both take O(logN)\n",
    "# https://leetcode.com/problems/count-of-smaller-numbers-after-self/discuss/76657/3-ways-(Segment-Tree-Binary-Indexed-Tree-Binary-Search-Tree)-clean-python-code\n",
    "\n",
    "# T: O(N*logN)\n",
    "# Runtime: 188 ms, faster than 42.16%\n",
    "from typing import List\n",
    "\n",
    "class BinaryIndexedTree:\n",
    "    \n",
    "    def __init__(self, n: int):\n",
    "        self.sums = [0] * (n+1)\n",
    "    \n",
    "    def add(self, i: int):\n",
    "        while i < len(self.sums):\n",
    "            self.sums[i] += 1\n",
    "            i += BinaryIndexedTree._LSB(i)  # go to descendant\n",
    "        \n",
    "    def sum(self, i: int) -> int:\n",
    "        r = 0\n",
    "        while i > 0:\n",
    "            r += self.sums[i]\n",
    "            i -= BinaryIndexedTree._LSB(i)  # go to ancestors\n",
    "        return r\n",
    "    \n",
    "    @staticmethod\n",
    "    def _LSB(i: int) -> int: return i & -i\n",
    "\n",
    "class Solution:\n",
    "    def countSmaller(self, nums: List[int]) -> List[int]:\n",
    "        ch2idx = {v:i for i, v in enumerate((sorted(set(nums))))}\n",
    "        tree = BinaryIndexedTree(len(ch2idx))\n",
    "        res = []\n",
    "        for i in range(len(nums)-1, -1, -1): # scan from bottom of array\n",
    "            j = tree.sum(ch2idx[nums[i]])\n",
    "            res.append(j)\n",
    "            tree.add(ch2idx[nums[i]] + 1)\n",
    "        return res[::-1]"
   ]
  },
  {
   "cell_type": "code",
   "execution_count": 37,
   "metadata": {},
   "outputs": [
    {
     "data": {
      "text/plain": [
       "[2, 1, 1, 0]"
      ]
     },
     "execution_count": 37,
     "metadata": {},
     "output_type": "execute_result"
    }
   ],
   "source": [
    "Solution().countSmaller(nums=[5,2,6,1])"
   ]
  },
  {
   "cell_type": "code",
   "execution_count": 38,
   "metadata": {},
   "outputs": [
    {
     "data": {
      "text/plain": [
       "[0, 0, 1, 1, 0]"
      ]
     },
     "execution_count": 38,
     "metadata": {},
     "output_type": "execute_result"
    }
   ],
   "source": [
    "Solution().countSmaller(nums=[1,2,7,8,5])"
   ]
  },
  {
   "cell_type": "code",
   "execution_count": 39,
   "metadata": {},
   "outputs": [
    {
     "data": {
      "text/plain": [
       "[10,\n",
       " 27,\n",
       " 10,\n",
       " 35,\n",
       " 12,\n",
       " 22,\n",
       " 28,\n",
       " 8,\n",
       " 19,\n",
       " 2,\n",
       " 12,\n",
       " 2,\n",
       " 9,\n",
       " 6,\n",
       " 12,\n",
       " 5,\n",
       " 17,\n",
       " 9,\n",
       " 19,\n",
       " 12,\n",
       " 14,\n",
       " 6,\n",
       " 12,\n",
       " 5,\n",
       " 12,\n",
       " 3,\n",
       " 0,\n",
       " 10,\n",
       " 0,\n",
       " 7,\n",
       " 8,\n",
       " 4,\n",
       " 0,\n",
       " 0,\n",
       " 4,\n",
       " 3,\n",
       " 2,\n",
       " 0,\n",
       " 1,\n",
       " 0]"
      ]
     },
     "execution_count": 39,
     "metadata": {},
     "output_type": "execute_result"
    }
   ],
   "source": [
    "Solution().countSmaller(nums=[26,78,27,100,33,67,90,23,66,5,38,7,35,23,52,22,83,51,98,69,81,32,78,28,94,13,2,97,3,76,99,51,9,21,84,66,65,36,100,41])"
   ]
  },
  {
   "cell_type": "code",
   "execution_count": null,
   "metadata": {},
   "outputs": [],
   "source": []
  }
 ],
 "metadata": {
  "kernelspec": {
   "display_name": "Python 3",
   "language": "python",
   "name": "python3"
  },
  "language_info": {
   "codemirror_mode": {
    "name": "ipython",
    "version": 3
   },
   "file_extension": ".py",
   "mimetype": "text/x-python",
   "name": "python",
   "nbconvert_exporter": "python",
   "pygments_lexer": "ipython3",
   "version": "3.6.8"
  }
 },
 "nbformat": 4,
 "nbformat_minor": 2
}
