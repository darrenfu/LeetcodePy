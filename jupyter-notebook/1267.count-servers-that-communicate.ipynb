{
 "cells": [
  {
   "cell_type": "code",
   "execution_count": 14,
   "metadata": {},
   "outputs": [],
   "source": [
    "from typing import List\n",
    "\n",
    "class Solution:\n",
    "    def countServers(self, A: List[List[int]]) -> int:\n",
    "        if not A: return 0\n",
    "        res = set()\n",
    "        R, C = len(A), len(A[0])\n",
    "        # record all 1's column indexes for each row\n",
    "        rflags = [[j for j in range(C) if A[i][j] == 1] for i in range(R)]\n",
    "        # traverse those 1's coordinate, add to a set\n",
    "        for i, ones in enumerate(rflags):\n",
    "            if len(ones) >= 2:\n",
    "                for j in ones:\n",
    "                    res.add((i, j))\n",
    "                    \n",
    "        B = list(zip(*A))\n",
    "        # record all 1's row indexes for each column\n",
    "        cflags = [[j for j in range(R) if B[i][j] == 1] for i in range(C)]\n",
    "        # traverse those 1's coordinate, add to a set\n",
    "        for j, ones in enumerate(cflags):\n",
    "            if len(ones) >= 2:\n",
    "                for i in ones:\n",
    "                    res.add((i, j))\n",
    "        return len(res)"
   ]
  },
  {
   "cell_type": "code",
   "execution_count": 17,
   "metadata": {},
   "outputs": [],
   "source": [
    "# 1. use row array and column array to record how many 1s in the row (or column)\n",
    "# 2. traverse the matrix, if meet 1, check its 1's # in row array or in col array (if >=2, this 1 counts)\n",
    "from typing import List\n",
    "\n",
    "class Solution:\n",
    "    def countServers(self, A: List[List[int]]) -> int:\n",
    "        R, C = len(A), len(A[0])\n",
    "        rflags, cflags = [0] * R, [0] * C\n",
    "        for i in range(R):\n",
    "            for j in range(C):\n",
    "                if A[i][j] == 1:\n",
    "                    rflags[i] += 1\n",
    "                    cflags[j] += 1\n",
    "                    \n",
    "        return len([_ for i in range(R) for j in range(C) if A[i][j] == 1 and max(rflags[i], cflags[j]) >= 2])"
   ]
  },
  {
   "cell_type": "code",
   "execution_count": 18,
   "metadata": {},
   "outputs": [
    {
     "data": {
      "text/plain": [
       "4"
      ]
     },
     "execution_count": 18,
     "metadata": {},
     "output_type": "execute_result"
    }
   ],
   "source": [
    "Solution().countServers([[1,1,0,0],[0,0,1,0],[0,0,1,0],[0,0,0,1]])"
   ]
  },
  {
   "cell_type": "code",
   "execution_count": 19,
   "metadata": {},
   "outputs": [
    {
     "data": {
      "text/plain": [
       "3"
      ]
     },
     "execution_count": 19,
     "metadata": {},
     "output_type": "execute_result"
    }
   ],
   "source": [
    "Solution().countServers([[1,0],[1,1]])"
   ]
  },
  {
   "cell_type": "code",
   "execution_count": null,
   "metadata": {},
   "outputs": [],
   "source": []
  }
 ],
 "metadata": {
  "kernelspec": {
   "display_name": "Python 3",
   "language": "python",
   "name": "python3"
  },
  "language_info": {
   "codemirror_mode": {
    "name": "ipython",
    "version": 3
   },
   "file_extension": ".py",
   "mimetype": "text/x-python",
   "name": "python",
   "nbconvert_exporter": "python",
   "pygments_lexer": "ipython3",
   "version": "3.6.8"
  }
 },
 "nbformat": 4,
 "nbformat_minor": 2
}
