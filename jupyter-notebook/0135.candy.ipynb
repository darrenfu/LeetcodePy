{
 "cells": [
  {
   "cell_type": "code",
   "execution_count": 20,
   "metadata": {},
   "outputs": [],
   "source": [
    "from typing import List\n",
    "\n",
    "class Solution:\n",
    "    def candy(self, ratings: List[int]) -> int:\n",
    "        n = len(ratings)\n",
    "        if n <= 1: return n\n",
    "        lo_inflections = []\n",
    "        candies = [1] * n\n",
    "        # find all points that neighbors are greater or equal to them as start points\n",
    "        for i in range(n):\n",
    "            if (i-1<0 or ratings[i-1]>=ratings[i]) and (i+1>=n or ratings[i]<=ratings[i+1]):\n",
    "                lo_inflections.append(i)\n",
    "        top = (-1, 1) # track the previous monotonically increasing top point: (idx, value)\n",
    "        # traverse all low inflection points above,\n",
    "        # allocate candies to its left and right neighbors until its not monotonically increasing\n",
    "        for i in lo_inflections:\n",
    "            j = i-1\n",
    "            cnt = 1\n",
    "            while j >= 0 and ratings[j] > ratings[j+1]:\n",
    "                cnt += 1\n",
    "                candies[j] = cnt\n",
    "                j -= 1\n",
    "            if j < i-1 and top[0] == j+1:\n",
    "                # if prev monotonically increasing top point is the same as current monotonically increasing top point,\n",
    "                # choose the larger candies\n",
    "                # e.g. [1,2,3,4,2,1]\n",
    "                # top = (3, 4)\n",
    "                # candies[j+1] = max(3, 4)\n",
    "                candies[j+1] = max(candies[j+1], top[1])\n",
    "            top = (j+1, candies[j+1])\n",
    "            \n",
    "            k = i+1\n",
    "            cnt = 1\n",
    "            while k < n and ratings[k-1] < ratings[k]:\n",
    "                cnt += 1\n",
    "                candies[k] = cnt\n",
    "                k += 1\n",
    "            top = (k-1, candies[k-1])\n",
    "#         print(lo_inflections)\n",
    "#         print(candies)\n",
    "        return sum(candies)"
   ]
  },
  {
   "cell_type": "code",
   "execution_count": 30,
   "metadata": {},
   "outputs": [],
   "source": [
    "# One pass\n",
    "# Runtime: 176 ms, faster than 92.17%\n",
    "# https://leetcode.com/problems/candy/discuss/42770/One-pass-constant-space-Java-solution\n",
    "from typing import List\n",
    "\n",
    "class Solution:\n",
    "    def candy(self, ratings: List[int]) -> int:\n",
    "        def handle_countdown(prev: int, countdown: int) -> int:\n",
    "            res = 0\n",
    "            # descending order of candies excluding peak: N,N-1,...,2,1\n",
    "            # thus, sum=(N+1)*N/2\n",
    "            res += countdown*(countdown+1)//2 # arithmetic progression\n",
    "            # if previous ascending seq merges with current decending seq,\n",
    "            # update the peak with countdown+1\n",
    "            if countdown+1 > prev: res += countdown+1-prev\n",
    "            return res\n",
    "        \n",
    "        if not ratings: return 0\n",
    "        n = len(ratings)\n",
    "        total, prev, countdown = 1,1,0\n",
    "        \n",
    "        for i in range(1,n):\n",
    "            if ratings[i-1] > ratings[i]: # if decreasing, just count it\n",
    "                countdown += 1\n",
    "            else:\n",
    "                if countdown > 0: # if non-decreasing, handle the prev decreasing count\n",
    "                    total += handle_countdown(prev, countdown)\n",
    "                    countdown = 0\n",
    "                    prev = 1\n",
    "                if ratings[i] == ratings[i-1]:\n",
    "                    prev = 1\n",
    "                else:\n",
    "                    prev += 1\n",
    "                total += prev\n",
    "                \n",
    "        if countdown > 0: # descending at the end\n",
    "            total += handle_countdown(prev, countdown)\n",
    "        return total"
   ]
  },
  {
   "cell_type": "code",
   "execution_count": 35,
   "metadata": {},
   "outputs": [],
   "source": [
    "# Two passes\n",
    "# Runtime: 192 ms, faster than 54.11%\n",
    "#* https://leetcode.com/problems/candy/discuss/42769/A-simple-solution\n",
    "from typing import List\n",
    "\n",
    "class Solution:\n",
    "    def candy(self, ratings: List[int]) -> int:\n",
    "        n = len(ratings)\n",
    "        candies = [1] * n\n",
    "        for i in range(1, n):\n",
    "            if ratings[i-1] < ratings[i]: # ascending\n",
    "                candies[i] = candies[i-1] + 1\n",
    "        for i in range(n-1, 0, -1):\n",
    "            if ratings[i-1] > ratings[i]: # decending\n",
    "                # on peak, get the larger candy number from ascending and decending seq\n",
    "                candies[i-1] = max(candies[i-1],candies[i]+1)\n",
    "        return sum(candies)"
   ]
  },
  {
   "cell_type": "code",
   "execution_count": 36,
   "metadata": {},
   "outputs": [
    {
     "data": {
      "text/plain": [
       "5"
      ]
     },
     "execution_count": 36,
     "metadata": {},
     "output_type": "execute_result"
    }
   ],
   "source": [
    "Solution().candy([1,0,2])"
   ]
  },
  {
   "cell_type": "code",
   "execution_count": 37,
   "metadata": {},
   "outputs": [
    {
     "data": {
      "text/plain": [
       "4"
      ]
     },
     "execution_count": 37,
     "metadata": {},
     "output_type": "execute_result"
    }
   ],
   "source": [
    "Solution().candy([1,2,2])"
   ]
  },
  {
   "cell_type": "code",
   "execution_count": 38,
   "metadata": {},
   "outputs": [
    {
     "data": {
      "text/plain": [
       "10"
      ]
     },
     "execution_count": 38,
     "metadata": {},
     "output_type": "execute_result"
    }
   ],
   "source": [
    "Solution().candy([1,2,4,4,4,3])"
   ]
  },
  {
   "cell_type": "code",
   "execution_count": 39,
   "metadata": {},
   "outputs": [
    {
     "data": {
      "text/plain": [
       "9"
      ]
     },
     "execution_count": 39,
     "metadata": {},
     "output_type": "execute_result"
    }
   ],
   "source": [
    "Solution().candy([1,2,4,4,3])"
   ]
  },
  {
   "cell_type": "code",
   "execution_count": null,
   "metadata": {},
   "outputs": [],
   "source": []
  }
 ],
 "metadata": {
  "kernelspec": {
   "display_name": "Python 3",
   "language": "python",
   "name": "python3"
  },
  "language_info": {
   "codemirror_mode": {
    "name": "ipython",
    "version": 3
   },
   "file_extension": ".py",
   "mimetype": "text/x-python",
   "name": "python",
   "nbconvert_exporter": "python",
   "pygments_lexer": "ipython3",
   "version": "3.6.8"
  }
 },
 "nbformat": 4,
 "nbformat_minor": 2
}
