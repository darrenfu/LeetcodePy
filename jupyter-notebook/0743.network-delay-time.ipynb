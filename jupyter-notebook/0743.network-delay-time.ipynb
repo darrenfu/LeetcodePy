{
 "cells": [
  {
   "cell_type": "markdown",
   "metadata": {},
   "source": [
    "### [743\\. Network Delay Time](https://leetcode.com/problems/network-delay-time/)\n",
    "\n",
    "Difficulty: **Medium**\n",
    "\n",
    "\n",
    "There are `N` network nodes, labelled `1` to `N`.\n",
    "\n",
    "Given `times`, a list of travel times as **directed** edges `times[i] = (u, v, w)`, where `u` is the source node, `v` is the target node, and `w` is the time it takes for a signal to travel from source to target.\n",
    "\n",
    "Now, we send a signal from a certain node `K`. How long will it take for all nodes to receive the signal? If it is impossible, return `-1`.\n",
    "\n",
    "**Example 1:**\n",
    "\n",
    "![](https://assets.leetcode.com/uploads/2019/05/23/931_example_1.png)\n",
    "\n",
    "```\n",
    "Input: times = [[2,1,1],[2,3,1],[3,4,1]], N = 4, K = 2\n",
    "Output: 2\n",
    "```\n",
    "\n",
    "**Note:**\n",
    "\n",
    "1.  `N` will be in the range `[1, 100]`.\n",
    "2.  `K` will be in the range `[1, N]`.\n",
    "3.  The length of `times` will be in the range `[1, 6000]`.\n",
    "4.  All edges `times[i] = (u, v, w)` will have `1 <= u, v <= N` and `0 <= w <= 100`."
   ]
  },
  {
   "cell_type": "code",
   "execution_count": 38,
   "metadata": {},
   "outputs": [],
   "source": [
    "# Dijkstra-like Algorithm using min-heap (Single-source shortest path)\n",
    "from typing import List\n",
    "from collections import defaultdict\n",
    "from heapq import *\n",
    "\n",
    "class Solution:\n",
    "    def networkDelayTime(self, times: List[List[int]], N: int, K: int) -> int:\n",
    "        graph = defaultdict(list)\n",
    "        for edge in times:\n",
    "            u, v, d = edge[0], edge[1], edge[2]\n",
    "            graph[u] += (v, d),\n",
    "        \n",
    "        heap = [(K,0)]\n",
    "        visited = set()\n",
    "        INF = float('inf')\n",
    "        dp = [INF] * (N+1)\n",
    "        dp[K] = 0\n",
    "        while heap:\n",
    "            v, d = heappop(heap)\n",
    "            if (v, d) not in visited:\n",
    "                visited.add((v,d))\n",
    "            for nu, nd in graph[v]:\n",
    "                if (nu, nd) not in visited:\n",
    "                    newd = d + nd\n",
    "                    if dp[nu] > newd:\n",
    "                        dp[nu] = newd\n",
    "                        heappush(heap, (nu, newd))\n",
    "        dists = [dist for dist in dp if dist != INF]\n",
    "        return -1 if len(visited) < N else max(dists) # check all vertexes visited or not"
   ]
  },
  {
   "cell_type": "code",
   "execution_count": 39,
   "metadata": {},
   "outputs": [
    {
     "data": {
      "text/plain": [
       "2"
      ]
     },
     "execution_count": 39,
     "metadata": {},
     "output_type": "execute_result"
    }
   ],
   "source": [
    "Solution().networkDelayTime(times = [[2,1,1],[2,3,1],[3,4,1]], N = 4, K = 2)"
   ]
  },
  {
   "cell_type": "code",
   "execution_count": 40,
   "metadata": {},
   "outputs": [
    {
     "data": {
      "text/plain": [
       "-1"
      ]
     },
     "execution_count": 40,
     "metadata": {},
     "output_type": "execute_result"
    }
   ],
   "source": [
    "Solution().networkDelayTime([[1,2,1]], 2, 2)"
   ]
  },
  {
   "cell_type": "code",
   "execution_count": 41,
   "metadata": {},
   "outputs": [
    {
     "data": {
      "text/plain": [
       "-1"
      ]
     },
     "execution_count": 41,
     "metadata": {},
     "output_type": "execute_result"
    }
   ],
   "source": [
    "Solution().networkDelayTime([[1,2,1],[2,3,2],[1,3,1]], 3, 2) # 2 != => 1"
   ]
  },
  {
   "cell_type": "code",
   "execution_count": null,
   "metadata": {},
   "outputs": [],
   "source": []
  }
 ],
 "metadata": {
  "kernelspec": {
   "display_name": "Python 3",
   "language": "python",
   "name": "python3"
  },
  "language_info": {
   "codemirror_mode": {
    "name": "ipython",
    "version": 3
   },
   "file_extension": ".py",
   "mimetype": "text/x-python",
   "name": "python",
   "nbconvert_exporter": "python",
   "pygments_lexer": "ipython3",
   "version": "3.6.8"
  }
 },
 "nbformat": 4,
 "nbformat_minor": 2
}
