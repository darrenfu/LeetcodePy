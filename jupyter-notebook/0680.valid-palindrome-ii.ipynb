{
 "cells": [
  {
   "cell_type": "markdown",
   "metadata": {},
   "source": [
    "### [680\\. Valid Palindrome II](https://leetcode.com/problems/valid-palindrome-ii/)\n",
    "\n",
    "Difficulty: **Easy**\n",
    "\n",
    "\n",
    "Given a non-empty string `s`, you may delete **at most** one character. Judge whether you can make it a palindrome.\n",
    "\n",
    "**Example 1:**  \n",
    "\n",
    "```\n",
    "Input: \"aba\"\n",
    "Output: True\n",
    "```\n",
    "\n",
    "**Example 2:**  \n",
    "\n",
    "```\n",
    "Input: \"abca\"\n",
    "Output: True\n",
    "Explanation: You could delete the character 'c'.\n",
    "```\n",
    "\n",
    "**Note:**  \n",
    "\n",
    "1.  The string will only contain lowercase characters a-z. The maximum length of the string is 50000."
   ]
  },
  {
   "cell_type": "code",
   "execution_count": 1,
   "metadata": {},
   "outputs": [],
   "source": [
    "# Greedy\n",
    "class Solution:\n",
    "    def validPalindrome(self, s: str) -> bool:\n",
    "        def isPaliRange(i: int, j: int) -> bool:\n",
    "            return all(s[k] == s[j-k+i] for k in range(i, j))\n",
    "        L = len(s)\n",
    "        for i in range(L//2):\n",
    "            if s[i] != s[~i]:\n",
    "                j = L + (~i)\n",
    "                return isPaliRange(i+1, j) or isPaliRange(i, j-1)\n",
    "        return True"
   ]
  },
  {
   "cell_type": "code",
   "execution_count": null,
   "metadata": {},
   "outputs": [],
   "source": []
  }
 ],
 "metadata": {
  "kernelspec": {
   "display_name": "Python 3",
   "language": "python",
   "name": "python3"
  },
  "language_info": {
   "codemirror_mode": {
    "name": "ipython",
    "version": 3
   },
   "file_extension": ".py",
   "mimetype": "text/x-python",
   "name": "python",
   "nbconvert_exporter": "python",
   "pygments_lexer": "ipython3",
   "version": "3.6.8"
  }
 },
 "nbformat": 4,
 "nbformat_minor": 2
}
