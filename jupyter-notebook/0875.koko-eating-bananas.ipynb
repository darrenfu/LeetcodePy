{
 "cells": [
  {
   "cell_type": "code",
   "execution_count": 15,
   "metadata": {},
   "outputs": [],
   "source": [
    "# T: O(N*logM) \n",
    "# M: max(piles), aka. upper bound\n",
    "# N: len(piles)\n",
    "# Runtime: 660 ms, faster than 17.49%\n",
    "from typing import List\n",
    "import math\n",
    "\n",
    "class Solution:\n",
    "    def minEatingSpeed(self, piles: List[int], H: int) -> int:\n",
    "        # returns the hours to eat up all piles at speed of K/hour\n",
    "        def split(K: int) -> int:\n",
    "            # math.ceil(p/K) is the hours to eat up one pile of bananas at speed K/hour\n",
    "            return sum(math.ceil(p/K) for p in piles)\n",
    "        \n",
    "        lo, hi = 1, max(piles)\n",
    "        while lo < hi:\n",
    "            mid = (lo+hi) // 2\n",
    "            if split(mid) > H:\n",
    "                lo = mid + 1\n",
    "            else:\n",
    "                hi = mid\n",
    "        return lo"
   ]
  },
  {
   "cell_type": "code",
   "execution_count": 16,
   "metadata": {},
   "outputs": [
    {
     "data": {
      "text/plain": [
       "4"
      ]
     },
     "execution_count": 16,
     "metadata": {},
     "output_type": "execute_result"
    }
   ],
   "source": [
    "Solution().minEatingSpeed(piles = [3,6,7,11], H = 8)"
   ]
  },
  {
   "cell_type": "code",
   "execution_count": 17,
   "metadata": {},
   "outputs": [
    {
     "data": {
      "text/plain": [
       "30"
      ]
     },
     "execution_count": 17,
     "metadata": {},
     "output_type": "execute_result"
    }
   ],
   "source": [
    "Solution().minEatingSpeed(piles = [30,11,23,4,20], H = 5)"
   ]
  },
  {
   "cell_type": "code",
   "execution_count": 18,
   "metadata": {},
   "outputs": [
    {
     "data": {
      "text/plain": [
       "23"
      ]
     },
     "execution_count": 18,
     "metadata": {},
     "output_type": "execute_result"
    }
   ],
   "source": [
    "Solution().minEatingSpeed(piles = [30,11,23,4,20], H = 6)"
   ]
  },
  {
   "cell_type": "code",
   "execution_count": null,
   "metadata": {},
   "outputs": [],
   "source": []
  }
 ],
 "metadata": {
  "kernelspec": {
   "display_name": "Python 3",
   "language": "python",
   "name": "python3"
  },
  "language_info": {
   "codemirror_mode": {
    "name": "ipython",
    "version": 3
   },
   "file_extension": ".py",
   "mimetype": "text/x-python",
   "name": "python",
   "nbconvert_exporter": "python",
   "pygments_lexer": "ipython3",
   "version": "3.6.8"
  }
 },
 "nbformat": 4,
 "nbformat_minor": 2
}
