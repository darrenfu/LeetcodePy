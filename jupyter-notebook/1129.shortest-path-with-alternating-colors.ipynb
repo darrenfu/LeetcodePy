{
 "cells": [
  {
   "cell_type": "markdown",
   "metadata": {},
   "source": [
    "### [1129\\. Shortest Path with Alternating Colors](https://leetcode.com/problems/shortest-path-with-alternating-colors/)\n",
    "\n",
    "Difficulty: **Medium**\n",
    "\n",
    "\n",
    "Consider a directed graph, with nodes labelled `0, 1, ..., n-1`.  In this graph, each edge is either red or blue, and there could be self-edges or parallel edges.\n",
    "\n",
    "Each `[i, j]` in `red_edges` denotes a red directed edge from node `i` to node `j`.  Similarly, each `[i, j]` in `blue_edges` denotes a blue directed edge from node `i` to node `j`.\n",
    "\n",
    "Return an array `answer` of length `n`, where each `answer[X]` is the length of the shortest path from node `0` to node `X` such that the edge colors alternate along the path (or `-1` if such a path doesn't exist).\n",
    "\n",
    "**Example 1:**\n",
    "\n",
    "```\n",
    "Input: n = 3, red_edges = [[0,1],[1,2]], blue_edges = []\n",
    "Output: [0,1,-1]\n",
    "```\n",
    "\n",
    "**Example 2:**\n",
    "\n",
    "```\n",
    "Input: n = 3, red_edges = [[0,1]], blue_edges = [[2,1]]\n",
    "Output: [0,1,-1]\n",
    "```\n",
    "\n",
    "**Example 3:**\n",
    "\n",
    "```\n",
    "Input: n = 3, red_edges = [[1,0]], blue_edges = [[2,1]]\n",
    "Output: [0,-1,-1]\n",
    "```\n",
    "\n",
    "**Example 4:**\n",
    "\n",
    "```\n",
    "Input: n = 3, red_edges = [[0,1]], blue_edges = [[1,2]]\n",
    "Output: [0,1,2]\n",
    "```\n",
    "\n",
    "**Example 5:**\n",
    "\n",
    "```\n",
    "Input: n = 3, red_edges = [[0,1],[0,2]], blue_edges = [[1,0]]\n",
    "Output: [0,1,1]\n",
    "```\n",
    "\n",
    "**Constraints:**\n",
    "\n",
    "*   `1 <= n <= 100`\n",
    "*   `red_edges.length <= 400`\n",
    "*   `blue_edges.length <= 400`\n",
    "*   `red_edges[i].length == blue_edges[i].length == 2`\n",
    "*   `0 <= red_edges[i][j], blue_edges[i][j] < n`"
   ]
  },
  {
   "cell_type": "code",
   "execution_count": 69,
   "metadata": {},
   "outputs": [],
   "source": [
    "# Bellman-Ford\n",
    "from typing import List\n",
    "\n",
    "class Solution:\n",
    "    def shortestAlternatingPaths(self, n: int, red_edges: List[List[int]], blue_edges: List[List[int]]) -> List[int]:\n",
    "        INF = float('inf')\n",
    "        K = len(red_edges) + len(blue_edges) # note we have parallel edges and cycle, the max shortest path is not n-1 but L(red) + L(blue)\n",
    "        if K == 0:\n",
    "            return [0] + [-1] * (n-1)\n",
    "        dp = [[[INF] * 2 for _ in range(n)] for _ in range(K+1)]\n",
    "        for k in range(K+1):\n",
    "            dp[k][0][0] = 0\n",
    "            dp[k][0][1] = 0\n",
    "        \n",
    "        # Two possible start edge:\n",
    "        # 1. path starts with red edge:  dp[i][j][0]\n",
    "        # 2. path starts with blue edge: dp[i][j][1]\n",
    "        edges = [red_edges, blue_edges]\n",
    "        def generateShortestPaths(color: int):\n",
    "            for k in range(1, K+1):\n",
    "                for edge in edges[k%2^color^1]:\n",
    "                    u, v = edge[0], edge[1]\n",
    "                    if dp[k-1][u][color] != INF and dp[k-1][u][color] + 1 < dp[k][v][color]:\n",
    "                        dp[k][v][color] = dp[k-1][u][color] + 1\n",
    "                    \n",
    "        for i in (0,1):\n",
    "            generateShortestPaths(i)\n",
    "            \n",
    "        res = []\n",
    "        for v in range(n):\n",
    "            path = INF\n",
    "            for c in (0,1):\n",
    "                for k in range(v, K+1):\n",
    "                    if dp[k][v][c] != INF:\n",
    "                        path = min(path, dp[k][v][c])\n",
    "                        break\n",
    "            if path == INF:\n",
    "                path = -1\n",
    "            res += path,\n",
    "        return res"
   ]
  },
  {
   "cell_type": "code",
   "execution_count": 70,
   "metadata": {},
   "outputs": [
    {
     "data": {
      "text/plain": [
       "[0, -1, -1, -1, -1]"
      ]
     },
     "execution_count": 70,
     "metadata": {},
     "output_type": "execute_result"
    }
   ],
   "source": [
    "Solution().shortestAlternatingPaths(5, [], [[4,3]])"
   ]
  },
  {
   "cell_type": "code",
   "execution_count": 71,
   "metadata": {},
   "outputs": [
    {
     "data": {
      "text/plain": [
       "[0, 1, -1]"
      ]
     },
     "execution_count": 71,
     "metadata": {},
     "output_type": "execute_result"
    }
   ],
   "source": [
    "Solution().shortestAlternatingPaths(n = 3, red_edges = [[0,1],[1,2]], blue_edges = [])"
   ]
  },
  {
   "cell_type": "code",
   "execution_count": 72,
   "metadata": {},
   "outputs": [
    {
     "data": {
      "text/plain": [
       "[0, 1, 2]"
      ]
     },
     "execution_count": 72,
     "metadata": {},
     "output_type": "execute_result"
    }
   ],
   "source": [
    "Solution().shortestAlternatingPaths(n = 3, red_edges = [[0,1]], blue_edges = [[1,2]])"
   ]
  },
  {
   "cell_type": "code",
   "execution_count": 73,
   "metadata": {},
   "outputs": [
    {
     "data": {
      "text/plain": [
       "[0, 1, 1]"
      ]
     },
     "execution_count": 73,
     "metadata": {},
     "output_type": "execute_result"
    }
   ],
   "source": [
    "Solution().shortestAlternatingPaths(n = 3, red_edges = [[0,1],[0,2]], blue_edges = [[1,0]])"
   ]
  },
  {
   "cell_type": "code",
   "execution_count": 74,
   "metadata": {},
   "outputs": [
    {
     "data": {
      "text/plain": [
       "[0, 1, 2, 3, 7]"
      ]
     },
     "execution_count": 74,
     "metadata": {},
     "output_type": "execute_result"
    }
   ],
   "source": [
    "# has circle + parallel edges from src to dest\n",
    "Solution().shortestAlternatingPaths(n = 5, red_edges = [[0,1],[1,2],[2,3],[3,4]], blue_edges = [[1,2],[2,3],[3,1]])"
   ]
  },
  {
   "cell_type": "code",
   "execution_count": 67,
   "metadata": {},
   "outputs": [
    {
     "data": {
      "text/plain": [
       "[0,\n",
       " -1,\n",
       " -1,\n",
       " -1,\n",
       " -1,\n",
       " -1,\n",
       " -1,\n",
       " -1,\n",
       " -1,\n",
       " -1,\n",
       " -1,\n",
       " -1,\n",
       " -1,\n",
       " -1,\n",
       " -1,\n",
       " -1,\n",
       " -1,\n",
       " -1,\n",
       " -1,\n",
       " -1,\n",
       " -1,\n",
       " -1,\n",
       " -1,\n",
       " -1,\n",
       " -1,\n",
       " -1,\n",
       " -1,\n",
       " -1,\n",
       " -1,\n",
       " -1,\n",
       " -1,\n",
       " -1,\n",
       " -1,\n",
       " -1,\n",
       " -1,\n",
       " -1,\n",
       " -1,\n",
       " -1,\n",
       " -1,\n",
       " -1,\n",
       " -1,\n",
       " -1,\n",
       " -1,\n",
       " -1,\n",
       " -1,\n",
       " -1,\n",
       " -1,\n",
       " -1,\n",
       " -1,\n",
       " -1,\n",
       " -1,\n",
       " -1,\n",
       " -1,\n",
       " -1,\n",
       " -1,\n",
       " -1,\n",
       " -1,\n",
       " -1,\n",
       " -1,\n",
       " -1,\n",
       " -1,\n",
       " -1,\n",
       " -1,\n",
       " -1,\n",
       " -1,\n",
       " -1,\n",
       " -1,\n",
       " -1,\n",
       " -1,\n",
       " -1,\n",
       " -1,\n",
       " -1,\n",
       " -1,\n",
       " -1,\n",
       " -1,\n",
       " -1,\n",
       " -1,\n",
       " -1,\n",
       " -1,\n",
       " -1,\n",
       " -1,\n",
       " -1,\n",
       " -1,\n",
       " -1,\n",
       " -1,\n",
       " -1,\n",
       " -1,\n",
       " -1,\n",
       " -1,\n",
       " -1,\n",
       " -1,\n",
       " -1,\n",
       " -1,\n",
       " -1,\n",
       " -1,\n",
       " -1,\n",
       " -1,\n",
       " -1,\n",
       " -1,\n",
       " -1]"
      ]
     },
     "execution_count": 67,
     "metadata": {},
     "output_type": "execute_result"
    }
   ],
   "source": [
    "Solution().shortestAlternatingPaths(n=100, red_edges=[[25,9],[45,18],[1,18],[86,9],[61,24],[72,14],[16,19],[24,64],[67,29],[55,16],[33,44],[40,11],[32,7],[62,36],[78,71],[38,23],[72,41],[22,38],[42,58],[53,94],[99,96],[86,6],[2,29],[98,29],[39,0],[61,53],[98,34],[2,21],[58,13],[18,90],[43,19],[80,69],[69,33],[37,3],[65,98],[61,79],[61,13],[23,64],[8,52],[19,21],[19,43],[49,35],[73,46],[91,20],[88,91],[63,51],[13,14],[12,83],[8,35],[46,68],[49,10],[5,38],[81,88],[78,39],[15,22],[24,36],[87,81],[62,3],[24,14],[59,16],[36,27],[20,10],[24,29],[37,89],[71,38],[79,83],[82,95],[83,35],[20,48],[18,43],[99,67],[47,9],[74,91],[50,4],[60,19],[11,71],[69,44],[23,91],[47,8],[44,78],[54,71],[30,14],[75,5],[85,46],[59,8],[97,64],[53,86],[40,32],[59,46],[29,24],[87,35],[99,66],[48,32],[15,13],[65,33],[78,96],[35,54],[49,38],[25,97],[74,18],[5,85],[84,9],[44,25],[73,29],[4,25],[35,49],[37,38],[82,98],[96,23],[8,6],[93,62],[26,60],[20,93],[22,30],[14,51],[76,47],[10,43],[69,31],[86,32],[39,1],[3,86],[22,42],[66,29],[69,1],[92,30],[36,78],[90,53],[38,91],[31,51],[83,47],[90,95],[80,10],[28,1],[77,94],[52,10],[69,12],[86,96],[86,34],[64,20],[56,46],[14,10],[41,16],[81,30],[35,73],[32,83],[62,27],[94,28],[35,85],[60,91],[1,8],[5,30],[52,22],[18,49],[98,94],[52,94],[88,29],[98,43],[41,92],[28,94],[64,77],[26,58],[14,45],[95,83],[80,36],[80,28],[19,61],[90,47],[35,2],[41,38],[15,70],[12,43],[15,16],[49,67],[83,96],[6,67],[49,46],[56,94],[92,48],[96,62],[95,31],[89,12],[64,35],[21,97],[37,16],[78,72],[22,17],[44,38],[34,17],[79,29],[44,3],[13,97],[41,15],[41,79],[94,86],[9,40],[69,22],[3,47],[87,45],[29,38],[9,76],[85,24],[67,44],[71,75],[52,42],[10,3],[6,29],[83,53],[70,39],[5,36],[50,22],[81,81],[2,5],[31,61],[9,2],[15,57],[30,35],[21,48],[78,6],[87,43],[45,38],[82,60],[25,41],[6,86],[8,88],[21,33],[53,21],[48,56],[5,17],[42,49],[96,86],[60,28],[88,78],[47,42],[16,22],[63,1],[99,5],[23,46],[37,32],[20,39]], blue_edges=[[48,38],[32,24],[35,20],[13,57],[5,37],[60,58],[6,26],[5,84],[37,73],[54,97],[57,16],[57,94],[26,83],[16,98],[67,22],[5,15],[5,8],[96,17],[15,16],[14,10],[70,57],[82,29],[31,63],[27,15],[78,43],[72,84],[7,1],[41,41],[62,81],[69,49],[92,65],[41,67],[99,16],[19,83],[38,27],[19,37],[90,48],[76,2],[30,79],[40,9],[41,36],[88,93],[96,32],[98,30],[10,73],[53,1],[94,16],[6,29],[49,61],[59,55],[65,1]])"
   ]
  },
  {
   "cell_type": "code",
   "execution_count": null,
   "metadata": {},
   "outputs": [],
   "source": []
  }
 ],
 "metadata": {
  "kernelspec": {
   "display_name": "Python 3",
   "language": "python",
   "name": "python3"
  },
  "language_info": {
   "codemirror_mode": {
    "name": "ipython",
    "version": 3
   },
   "file_extension": ".py",
   "mimetype": "text/x-python",
   "name": "python",
   "nbconvert_exporter": "python",
   "pygments_lexer": "ipython3",
   "version": "3.6.8"
  }
 },
 "nbformat": 4,
 "nbformat_minor": 2
}
