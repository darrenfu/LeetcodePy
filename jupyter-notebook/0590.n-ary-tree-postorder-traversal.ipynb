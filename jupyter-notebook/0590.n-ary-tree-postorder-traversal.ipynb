{
 "cells": [
  {
   "cell_type": "markdown",
   "metadata": {},
   "source": [
    "### [590\\. N-ary Tree Postorder Traversal](https://leetcode.com/problems/n-ary-tree-postorder-traversal/)\n",
    "\n",
    "Difficulty: **Easy**\n",
    "\n",
    "\n",
    "Given an n-ary tree, return the _postorder_ traversal of its nodes' values.\n",
    "\n",
    "_Nary-Tree input serialization is represented in their level order traversal, each group of children is separated by the null value (See examples)._\n",
    "\n",
    "**Follow up:**\n",
    "\n",
    "Recursive solution is trivial, could you do it iteratively?\n",
    "\n",
    "**Example 1:**\n",
    "\n",
    "![](https://assets.leetcode.com/uploads/2018/10/12/narytreeexample.png)\n",
    "\n",
    "```\n",
    "Input: root = [1,null,3,2,4,null,5,6]\n",
    "Output: [5,6,3,2,4,1]\n",
    "```\n",
    "\n",
    "**Example 2:**\n",
    "\n",
    "![](https://assets.leetcode.com/uploads/2019/11/08/sample_4_964.png)\n",
    "\n",
    "```\n",
    "Input: root = [1,null,2,3,4,5,null,null,6,7,null,8,null,9,10,null,null,11,null,12,null,13,null,null,14]\n",
    "Output: [2,6,14,11,7,3,12,8,4,13,9,10,5,1]\n",
    "```\n",
    "\n",
    "**Constraints:**\n",
    "\n",
    "*   The height of the n-ary tree is less than or equal to `1000`\n",
    "*   The total number of nodes is between `[0, 10^4]`"
   ]
  },
  {
   "cell_type": "code",
   "execution_count": null,
   "metadata": {},
   "outputs": [],
   "source": [
    "class Solution:\n",
    "    def postorder(self, root: 'Node') -> List[int]:\n",
    "        stack = [(root, False)]\n",
    "        res = []\n",
    "        while stack:\n",
    "            node, visited = stack.pop()\n",
    "            if visited:\n",
    "                res += node.val,\n",
    "            else:\n",
    "                if node:\n",
    "                    stack.append((node, True)) \n",
    "                    for child in node.children[::-1]:\n",
    "                        stack.append((child, False))\n",
    "        return res"
   ]
  }
 ],
 "metadata": {
  "kernelspec": {
   "display_name": "Python 3",
   "language": "python",
   "name": "python3"
  },
  "language_info": {
   "codemirror_mode": {
    "name": "ipython",
    "version": 3
   },
   "file_extension": ".py",
   "mimetype": "text/x-python",
   "name": "python",
   "nbconvert_exporter": "python",
   "pygments_lexer": "ipython3",
   "version": "3.6.8"
  }
 },
 "nbformat": 4,
 "nbformat_minor": 2
}
