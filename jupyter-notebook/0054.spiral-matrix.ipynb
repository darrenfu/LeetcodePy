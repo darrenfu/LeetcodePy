{
 "cells": [
  {
   "cell_type": "code",
   "execution_count": 40,
   "metadata": {},
   "outputs": [],
   "source": [
    "# Matrix rotation + Recursion\n",
    "# Runtime: 40 ms, faster than 38.13%\n",
    "# Take the first row plus the spiral order of the rotated remaining matrix\n",
    "# https://leetcode.com/problems/spiral-matrix/discuss/20571/1-liner-in-Python-%2B-Ruby\n",
    "from typing import List\n",
    "class Solution:\n",
    "    def spiralOrder(self, matrix: List[List[int]]) -> List[int]:\n",
    "        return matrix and [*matrix.pop(0)] + self.spiralOrder([*zip(*matrix)][::-1])"
   ]
  },
  {
   "cell_type": "code",
   "execution_count": 47,
   "metadata": {},
   "outputs": [],
   "source": [
    "# Runtime: 36 ms, faster than 73.69%\n",
    "#https://leetcode.com/problems/spiral-matrix/discuss/20656/AC-Python-32ms-solution\n",
    "from typing import List\n",
    "class Solution:\n",
    "    def spiralOrder(self, matrix: List[List[int]]) -> List[int]:\n",
    "        if not matrix or not matrix[0]:\n",
    "            return []\n",
    "        res = []\n",
    "        R, C = len(matrix), len(matrix[0])\n",
    "        up, down, left, right = 0, R-1, 0, C-1\n",
    "        while left < right and up < down:\n",
    "            # a square loop\n",
    "            res.extend([matrix[up][j] for j in range(left, right)]) # 1,2,3\n",
    "            res.extend([matrix[i][right] for i in range(up, down)]) # 4,8\n",
    "            res.extend([matrix[down][j] for j in range(right, left, -1)]) # 12,11,10\n",
    "            res.extend([matrix[i][left] for i in range(down, up, -1)])    # 9,5\n",
    "            up, down, left, right = up+1, down-1, left+1, right-1\n",
    "            \n",
    "        # append last row/column\n",
    "        if left == right: # only case is C=1 (R * 1)\n",
    "            res.extend([matrix[i][left] for i in range(up, down+1)])\n",
    "        elif up == down:\n",
    "            res.extend([matrix[up][j] for j in range(left, right+1)]) # 6,7\n",
    "        return res"
   ]
  },
  {
   "cell_type": "code",
   "execution_count": 48,
   "metadata": {},
   "outputs": [
    {
     "data": {
      "text/plain": [
       "[1, 2, 3, 6, 9, 8, 7, 4, 5]"
      ]
     },
     "execution_count": 48,
     "metadata": {},
     "output_type": "execute_result"
    }
   ],
   "source": [
    "Solution().spiralOrder([\n",
    " [ 1, 2, 3 ],\n",
    " [ 4, 5, 6 ],\n",
    " [ 7, 8, 9 ]\n",
    "])"
   ]
  },
  {
   "cell_type": "code",
   "execution_count": 49,
   "metadata": {},
   "outputs": [
    {
     "data": {
      "text/plain": [
       "[1, 2, 3, 4, 8, 12, 11, 10, 9, 5, 6, 7]"
      ]
     },
     "execution_count": 49,
     "metadata": {},
     "output_type": "execute_result"
    }
   ],
   "source": [
    "Solution().spiralOrder([\n",
    "  [1, 2, 3, 4],\n",
    "  [5, 6, 7, 8],\n",
    "  [9,10,11,12]\n",
    "])"
   ]
  },
  {
   "cell_type": "code",
   "execution_count": 50,
   "metadata": {},
   "outputs": [
    {
     "data": {
      "text/plain": [
       "[3, 2]"
      ]
     },
     "execution_count": 50,
     "metadata": {},
     "output_type": "execute_result"
    }
   ],
   "source": [
    "Solution().spiralOrder([\n",
    " [ 3 ],\n",
    " [ 2 ]\n",
    "])"
   ]
  },
  {
   "cell_type": "code",
   "execution_count": null,
   "metadata": {},
   "outputs": [],
   "source": []
  }
 ],
 "metadata": {
  "kernelspec": {
   "display_name": "Python 3",
   "language": "python",
   "name": "python3"
  },
  "language_info": {
   "codemirror_mode": {
    "name": "ipython",
    "version": 3
   },
   "file_extension": ".py",
   "mimetype": "text/x-python",
   "name": "python",
   "nbconvert_exporter": "python",
   "pygments_lexer": "ipython3",
   "version": "3.6.8"
  }
 },
 "nbformat": 4,
 "nbformat_minor": 2
}
