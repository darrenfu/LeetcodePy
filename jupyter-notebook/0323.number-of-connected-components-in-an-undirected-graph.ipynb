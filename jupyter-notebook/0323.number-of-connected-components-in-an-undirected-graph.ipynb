{
 "cells": [
  {
   "cell_type": "code",
   "execution_count": 2,
   "metadata": {},
   "outputs": [],
   "source": [
    "# https://leetcode.com/problems/number-of-connected-components-in-an-undirected-graph/discuss/77638/Python-DFS-BFS-Union-Find-solutions\n",
    "from typing import List\n",
    "\n",
    "class UF:\n",
    "    def __init__(self, n: int):\n",
    "        self.parents = list(range(n))\n",
    "        self.cnt = n\n",
    "    \n",
    "    def find(self, v: int) -> int:\n",
    "        if self.parents[v] != v:\n",
    "            self.parents[v] = self.find(self.parents[v])\n",
    "        return self.parents[v]\n",
    "    \n",
    "    def union(self, u: int, v: int) -> bool:\n",
    "        uroot, vroot = self.find(u), self.find(v)\n",
    "        if uroot != vroot:\n",
    "            self.parents[uroot] = vroot\n",
    "            self.cnt -= 1\n",
    "        return uroot != vroot\n",
    "        \n",
    "class Solution:\n",
    "    def countComponents(self, n: int, edges: List[List[int]]) -> int:\n",
    "        uf = UF(n)\n",
    "        for edge in edges:\n",
    "            u, v = edge[0], edge[1]\n",
    "            uf.union(u, v)\n",
    "        return uf.cnt"
   ]
  },
  {
   "cell_type": "code",
   "execution_count": 58,
   "metadata": {},
   "outputs": [],
   "source": [
    "# BFS\n",
    "from typing import List\n",
    "\n",
    "class Solution:\n",
    "    def countComponents(self, n: int, edges: List[List[int]]) -> int:\n",
    "        # use a dict to track every vertex's neighbors\n",
    "        vmap = {v:[] for v in range(n)}\n",
    "        for edge in edges:\n",
    "            u, v = edge[0], edge[1]\n",
    "            vmap[u].append(v)\n",
    "            vmap[v].append(u)\n",
    "        \n",
    "        cnt = 0\n",
    "        for v in range(n):\n",
    "            q = [v]\n",
    "            if v in vmap:\n",
    "                cnt += 1 # find a new subcomponent\n",
    "            while q:\n",
    "                u = q.pop(0) # dequeue\n",
    "                if u in vmap:\n",
    "                    q += vmap[u] # enqueue neighbors\n",
    "                    del vmap[u] # remove its all connected vertexes from dict\n",
    "        return cnt"
   ]
  },
  {
   "cell_type": "code",
   "execution_count": 59,
   "metadata": {},
   "outputs": [
    {
     "data": {
      "text/plain": [
       "2"
      ]
     },
     "execution_count": 59,
     "metadata": {},
     "output_type": "execute_result"
    }
   ],
   "source": [
    "Solution().countComponents(n = 5, edges = [[0, 1], [1, 2], [3, 4]])"
   ]
  },
  {
   "cell_type": "code",
   "execution_count": 16,
   "metadata": {},
   "outputs": [
    {
     "data": {
      "text/plain": [
       "3"
      ]
     },
     "execution_count": 16,
     "metadata": {},
     "output_type": "execute_result"
    }
   ],
   "source": [
    "Solution().countComponents(n = 5, edges = [[0, 1], [1, 2], [2, 3], [3, 4]])"
   ]
  },
  {
   "cell_type": "code",
   "execution_count": null,
   "metadata": {},
   "outputs": [],
   "source": []
  }
 ],
 "metadata": {
  "kernelspec": {
   "display_name": "Python 3",
   "language": "python",
   "name": "python3"
  },
  "language_info": {
   "codemirror_mode": {
    "name": "ipython",
    "version": 3
   },
   "file_extension": ".py",
   "mimetype": "text/x-python",
   "name": "python",
   "nbconvert_exporter": "python",
   "pygments_lexer": "ipython3",
   "version": "3.6.8"
  }
 },
 "nbformat": 4,
 "nbformat_minor": 2
}
