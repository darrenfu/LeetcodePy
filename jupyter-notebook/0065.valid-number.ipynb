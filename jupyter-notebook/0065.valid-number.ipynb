{
 "cells": [
  {
   "cell_type": "code",
   "execution_count": 12,
   "metadata": {},
   "outputs": [],
   "source": [
    "# Tons of edge cases\n",
    "# Runtime: 44 ms, faster than 44.71%\n",
    "class Solution:\n",
    "    def isNumber(self, s: str) -> bool:\n",
    "        def issign(s: str) -> bool:\n",
    "            return s[0] in ('+', '-')\n",
    "        \n",
    "        def isnumeric(s: str) -> int:\n",
    "            i, L = 0, len(s)\n",
    "            while i < L and '0' <= s[i] <= '9':\n",
    "                i += 1\n",
    "            return i == L and L != 0\n",
    "        \n",
    "        def isnum(s: str, isdecimal: bool) -> bool:\n",
    "            L = len(s)\n",
    "            if L == 0: return False\n",
    "            valid = issign(s[:1])\n",
    "            if not isdecimal or s.find('.') == -1:\n",
    "                return valid and isnumeric(s[1:]) or (not valid and isnumeric(s))\n",
    "            else:\n",
    "                digits = (s[1:] if valid else s).split('.')\n",
    "                if len(digits) == 2:\n",
    "                    # 0.5, .5, or 5. valid\n",
    "                    # . invalid\n",
    "                    return all(map(lambda x: x == '' or isnumeric(x), digits)) and not all(map(lambda x: x == '', digits))\n",
    "            return False\n",
    "                      \n",
    "        s = s.strip()\n",
    "        if s.find('e') == -1: return isnum(s, isdecimal=True)\n",
    "        else:\n",
    "            digits = s.split('e')\n",
    "            if len(digits) == 2 and isnum(digits[0], isdecimal=True) and isnum(digits[1], isdecimal=False):\n",
    "                return True\n",
    "        return False"
   ]
  },
  {
   "cell_type": "code",
   "execution_count": 119,
   "metadata": {},
   "outputs": [],
   "source": [
    "#* DFA - Deterministic Finite Automaton\n",
    "# Runtime: 44 ms, faster than 44.71%\n",
    "# https://github.com/normanyahq/LeetCodeSolution/blob/master/Valid%20Number/valid_number_dfa.svg\n",
    "# https://leetcode.com/problems/valid-number/discuss/23728/A-simple-solution-in-Python-based-on-DFA\n",
    "class Solution:\n",
    "    def isNumber(self, s: str) -> bool:\n",
    "        #define DFA state transition tables\n",
    "        BLANK, SIGN, DIGIT, DOT, EXP = ['blank', 'sign', 'digit', '.', 'e']\n",
    "        # ending with BLANK:9 means can directly terminate under this state\n",
    "        state = [{}, # PLACEHOLDER\n",
    "                 # State (1) - initial state (scan ahead thru blanks)\n",
    "                 {BLANK: 1, SIGN: 2, DIGIT:3, DOT:4},\n",
    "                 # State (2) - found sign (expect digit/dot)\n",
    "                 {DIGIT:3, DOT:4},\n",
    "                 # State (3) - digit consumer (loop until non-digit)\n",
    "                 {DIGIT:3, DOT:5, EXP:6, BLANK:9},\n",
    "                 # State (4) - found dot (only a digit is valid)\n",
    "                 {DIGIT:5},\n",
    "                 # State (5) - after dot (expect digits, e, or end of valid input)\n",
    "                 {DIGIT:5, EXP:6, BLANK:9},\n",
    "                 # State (6) - found 'e' (only a sign or digit valid)\n",
    "                 {SIGN:7, DIGIT:8},\n",
    "                 # State (7) - sign after 'e' (only digit)\n",
    "                 {DIGIT:8},\n",
    "                 # State (8) - digit after 'e' (expect digits or end of valid input) \n",
    "                 {DIGIT:8, BLANK:9},\n",
    "                 # State (9) - Terminal state (fail if non-blank found)\n",
    "                 {BLANK:9}]\n",
    "        currentState = 1\n",
    "        for c in s:\n",
    "            # If char c is of a known class set it to the class name\n",
    "            if c in '0123456789':\n",
    "                c = DIGIT\n",
    "            elif c in ' \\t\\n':\n",
    "                c = BLANK\n",
    "            elif c in '+-':\n",
    "                c = SIGN\n",
    "            # If char/class is not in our state transition table it is invalid input\n",
    "            if c not in state[currentState]:\n",
    "                return False\n",
    "            # State transition (go to next possible state)\n",
    "            currentState = state[currentState][c]\n",
    "        # The only valid terminal states are end on digit, after dot, digit after e, or white space after valid input\n",
    "        if currentState not in [3,5,8,9]:\n",
    "            return False\n",
    "        return True"
   ]
  },
  {
   "cell_type": "code",
   "execution_count": 71,
   "metadata": {},
   "outputs": [],
   "source": [
    "# Regex\n",
    "# Runtime: 44 ms, faster than 44.71%\n",
    "# https://leetcode.com/problems/valid-number/discuss/23738/Clear-Java-solution-with-ifs\n",
    "import re\n",
    "class Solution:\n",
    "    def isNumber(self, s: str) -> bool:\n",
    "        valid = re.compile(r\"^[-+]?(\\d+\\.?|\\.\\d+)\\d*(e[-+]?\\d+)?$\")\n",
    "        return valid.match(s.strip()) is not None"
   ]
  },
  {
   "cell_type": "code",
   "execution_count": 107,
   "metadata": {},
   "outputs": [
    {
     "data": {
      "text/plain": [
       "True"
      ]
     },
     "execution_count": 107,
     "metadata": {},
     "output_type": "execute_result"
    }
   ],
   "source": [
    "Solution().isNumber(\" -90e3   \")"
   ]
  },
  {
   "cell_type": "code",
   "execution_count": 108,
   "metadata": {},
   "outputs": [
    {
     "data": {
      "text/plain": [
       "False"
      ]
     },
     "execution_count": 108,
     "metadata": {},
     "output_type": "execute_result"
    }
   ],
   "source": [
    "Solution().isNumber(\"1 a\")"
   ]
  },
  {
   "cell_type": "code",
   "execution_count": 109,
   "metadata": {},
   "outputs": [
    {
     "data": {
      "text/plain": [
       "True"
      ]
     },
     "execution_count": 109,
     "metadata": {},
     "output_type": "execute_result"
    }
   ],
   "source": [
    "Solution().isNumber(\"2e10\")"
   ]
  },
  {
   "cell_type": "code",
   "execution_count": 110,
   "metadata": {},
   "outputs": [
    {
     "data": {
      "text/plain": [
       "False"
      ]
     },
     "execution_count": 110,
     "metadata": {},
     "output_type": "execute_result"
    }
   ],
   "source": [
    "Solution().isNumber(\"2e10.5\")"
   ]
  },
  {
   "cell_type": "code",
   "execution_count": 111,
   "metadata": {},
   "outputs": [
    {
     "data": {
      "text/plain": [
       "True"
      ]
     },
     "execution_count": 111,
     "metadata": {},
     "output_type": "execute_result"
    }
   ],
   "source": [
    "Solution().isNumber(\".2e10\")"
   ]
  },
  {
   "cell_type": "code",
   "execution_count": 112,
   "metadata": {},
   "outputs": [
    {
     "data": {
      "text/plain": [
       "True"
      ]
     },
     "execution_count": 112,
     "metadata": {},
     "output_type": "execute_result"
    }
   ],
   "source": [
    "Solution().isNumber(\"5.e10\")"
   ]
  },
  {
   "cell_type": "code",
   "execution_count": 113,
   "metadata": {},
   "outputs": [
    {
     "data": {
      "text/plain": [
       "False"
      ]
     },
     "execution_count": 113,
     "metadata": {},
     "output_type": "execute_result"
    }
   ],
   "source": [
    "Solution().isNumber(\"+-10\")"
   ]
  },
  {
   "cell_type": "code",
   "execution_count": 114,
   "metadata": {},
   "outputs": [
    {
     "data": {
      "text/plain": [
       "False"
      ]
     },
     "execution_count": 114,
     "metadata": {},
     "output_type": "execute_result"
    }
   ],
   "source": [
    "Solution().isNumber(\"4e+\")"
   ]
  },
  {
   "cell_type": "code",
   "execution_count": 120,
   "metadata": {},
   "outputs": [
    {
     "data": {
      "text/plain": [
       "False"
      ]
     },
     "execution_count": 120,
     "metadata": {},
     "output_type": "execute_result"
    }
   ],
   "source": [
    "Solution().isNumber(\"3.\")"
   ]
  },
  {
   "cell_type": "code",
   "execution_count": 118,
   "metadata": {},
   "outputs": [
    {
     "data": {
      "text/plain": [
       "False"
      ]
     },
     "execution_count": 118,
     "metadata": {},
     "output_type": "execute_result"
    }
   ],
   "source": [
    "Solution().isNumber(\".e1\")"
   ]
  },
  {
   "cell_type": "code",
   "execution_count": null,
   "metadata": {},
   "outputs": [],
   "source": []
  }
 ],
 "metadata": {
  "kernelspec": {
   "display_name": "Python 3",
   "language": "python",
   "name": "python3"
  },
  "language_info": {
   "codemirror_mode": {
    "name": "ipython",
    "version": 3
   },
   "file_extension": ".py",
   "mimetype": "text/x-python",
   "name": "python",
   "nbconvert_exporter": "python",
   "pygments_lexer": "ipython3",
   "version": "3.6.8"
  }
 },
 "nbformat": 4,
 "nbformat_minor": 2
}
