{
 "cells": [
  {
   "cell_type": "markdown",
   "metadata": {},
   "source": [
    "### [312\\. Burst Balloons](https://leetcode.com/problems/burst-balloons/)\n",
    "\n",
    "Difficulty: **Hard**\n",
    "\n",
    "\n",
    "Given `n` balloons, indexed from `0` to `n-1`. Each balloon is painted with a number on it represented by array `nums`. You are asked to burst all the balloons. If the you burst balloon `i` you will get `nums[left] * nums[i] * nums[right]` coins. Here `left` and `right` are adjacent indices of `i`. After the burst, the `left` and `right` then becomes adjacent.\n",
    "\n",
    "Find the maximum coins you can collect by bursting the balloons wisely.\n",
    "\n",
    "**Note:**\n",
    "\n",
    "*   You may imagine `nums[-1] = nums[n] = 1`. They are not real therefore you can not burst them.\n",
    "*   0 ≤ `n` ≤ 500, 0 ≤ `nums[i]` ≤ 100\n",
    "\n",
    "**Example:**\n",
    "\n",
    "```\n",
    "Input: [3,1,5,8]\n",
    "Output: 167 \n",
    "Explanation: nums = [3,1,5,8] --> [3,5,8] -->   [3,8]   -->  [8]  --> []\n",
    "             coins =  3*1*5      +  3*5*8    +  1*3*8      + 1*8*1   = 167\n",
    "```"
   ]
  },
  {
   "cell_type": "code",
   "execution_count": 7,
   "metadata": {},
   "outputs": [],
   "source": [
    "# divide the problem by the last balloon to burst.\n",
    "from typing import List\n",
    "\n",
    "class Solution:\n",
    "    def maxCoins(self, nums: List[int]) -> int:\n",
    "        nums = [1] + nums + [1] # Hint given in Notes: You may imagine nums[-1] = nums[n] = 1. They are not real therefore you can not burst them.\n",
    "        L = len(nums)\n",
    "        dp = [[0] * L for _ in range(L)]\n",
    "        # O(N^3)\n",
    "        for gap in range(2,L):\n",
    "            for i in range(L-gap): # one side of gap\n",
    "                j = i+gap # the other side of gap\n",
    "                # at least one balloon (decided by gap) between balloon i and j\n",
    "                for k in range(i+1,j): # i+1 ~ j-1\n",
    "                    # k is the last balloon to burst between balloon i and j \n",
    "                    dp[i][j] = max(dp[i][j], nums[i]*nums[k]*nums[j] + dp[i][k] + dp[k][j])\n",
    "        return dp[0][-1] # i is first balloon while j is last balloon"
   ]
  },
  {
   "cell_type": "code",
   "execution_count": 11,
   "metadata": {},
   "outputs": [],
   "source": [
    "from typing import List\n",
    "\n",
    "class Solution:\n",
    "    def maxCoins(self, nums: List[int]) -> int:\n",
    "        nums = [1] + nums + [1]\n",
    "        L = len(nums)\n",
    "        dp = [[0] * L for _ in range(L)]\n",
    "        \n",
    "        def dfs(i: int, j: int) -> int:\n",
    "            if dp[i][j] > 0 or i+1 == j: # adjacent balloons \n",
    "                return dp[i][j]\n",
    "            res = 0\n",
    "            for k in range(i+1, j):\n",
    "                res = max(res, dfs(i,k) + dfs(k,j) + nums[i]*nums[k]*nums[j])\n",
    "            dp[i][j] = res\n",
    "            return res\n",
    "        return dfs(0,L-1)"
   ]
  },
  {
   "cell_type": "code",
   "execution_count": 15,
   "metadata": {},
   "outputs": [],
   "source": [
    "from typing import List\n",
    "from functools import lru_cache\n",
    "\n",
    "class Solution:\n",
    "    def maxCoins(self, nums: List[int]) -> int:\n",
    "        nums = [1] + nums + [1]\n",
    "        L = len(nums)\n",
    "        \n",
    "        @lru_cache(None)\n",
    "        def dfs(i: int, j: int) -> int:\n",
    "            if i+1 == j: # adjacent balloons \n",
    "                return 0\n",
    "            res = 0\n",
    "            for k in range(i+1, j):\n",
    "                res = max(res, dfs(i,k) + dfs(k,j) + nums[i]*nums[k]*nums[j])\n",
    "            return res\n",
    "        return dfs(0,L-1)"
   ]
  },
  {
   "cell_type": "code",
   "execution_count": 16,
   "metadata": {},
   "outputs": [
    {
     "data": {
      "text/plain": [
       "167"
      ]
     },
     "execution_count": 16,
     "metadata": {},
     "output_type": "execute_result"
    }
   ],
   "source": [
    "Solution().maxCoins(nums=[3,1,5,8])"
   ]
  },
  {
   "cell_type": "code",
   "execution_count": null,
   "metadata": {},
   "outputs": [],
   "source": []
  }
 ],
 "metadata": {
  "kernelspec": {
   "display_name": "Python 3",
   "language": "python",
   "name": "python3"
  },
  "language_info": {
   "codemirror_mode": {
    "name": "ipython",
    "version": 3
   },
   "file_extension": ".py",
   "mimetype": "text/x-python",
   "name": "python",
   "nbconvert_exporter": "python",
   "pygments_lexer": "ipython3",
   "version": "3.6.8"
  }
 },
 "nbformat": 4,
 "nbformat_minor": 2
}
