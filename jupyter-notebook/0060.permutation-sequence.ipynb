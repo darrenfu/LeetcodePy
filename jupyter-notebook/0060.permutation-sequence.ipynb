{
 "cells": [
  {
   "cell_type": "code",
   "execution_count": 36,
   "metadata": {},
   "outputs": [],
   "source": [
    "# Backtracking - TLE\n",
    "from typing import List\n",
    "\n",
    "class Solution:\n",
    "    def getPermutation(self, n: int, k: int) -> str:\n",
    "        def dfs(nums: List[int], stack: List[int]) -> List[int]:\n",
    "            nonlocal k\n",
    "            if len(stack) == n:\n",
    "                k -= 1\n",
    "                if k == 0:\n",
    "                    return stack[:]\n",
    "                return None\n",
    "            for i, v in enumerate(nums):\n",
    "                stack.append(v)\n",
    "                res = dfs(nums[:i] + nums[i+1:], stack)\n",
    "                if res:\n",
    "                    return res\n",
    "                stack.pop()\n",
    "            return None\n",
    "                \n",
    "        nums = [i for i in range(1, n+1)]\n",
    "        res = dfs(nums, [])\n",
    "        return \"\".join(map(lambda i: str(i), res))"
   ]
  },
  {
   "cell_type": "code",
   "execution_count": 51,
   "metadata": {},
   "outputs": [],
   "source": [
    "# div and mod repeatedly.\n",
    "# Runtime: 36 ms, faster than 80.80%\n",
    "# https://leetcode.com/problems/permutation-sequence/discuss/297433/python-8-ms-faster-than-100-of-solutions-10-lines-of-code\n",
    "import math\n",
    "\n",
    "class Solution:\n",
    "    def getPermutation(self, n: int, k: int) -> str:\n",
    "        nums = [str(i) for i in range(1, n+1)]\n",
    "        combination = math.factorial(n)\n",
    "        k -= 1 # Important! Solve the border, e.g. k=12, n=4, 12/(4-1)! = 2, nums[2] = 3, but we expect 2 (= nums[1])\n",
    "        # Because to get the k-th sequence, you only need to perform (k-1) transformation, \n",
    "        # as number is initialized as range(1, n+1) which is already the 1st term.\n",
    "        res = ''\n",
    "        for i in range(n, 0, -1):\n",
    "            combination //= i\n",
    "            idx, k = divmod(k, combination)\n",
    "            res += nums[idx]\n",
    "            del nums[idx]\n",
    "        return res"
   ]
  },
  {
   "cell_type": "code",
   "execution_count": 52,
   "metadata": {},
   "outputs": [
    {
     "data": {
      "text/plain": [
       "'213'"
      ]
     },
     "execution_count": 52,
     "metadata": {},
     "output_type": "execute_result"
    }
   ],
   "source": [
    "Solution().getPermutation(3,3)"
   ]
  },
  {
   "cell_type": "code",
   "execution_count": 53,
   "metadata": {},
   "outputs": [
    {
     "data": {
      "text/plain": [
       "'147869235'"
      ]
     },
     "execution_count": 53,
     "metadata": {},
     "output_type": "execute_result"
    }
   ],
   "source": [
    "Solution().getPermutation(9, 13531)"
   ]
  },
  {
   "cell_type": "code",
   "execution_count": null,
   "metadata": {},
   "outputs": [],
   "source": []
  }
 ],
 "metadata": {
  "kernelspec": {
   "display_name": "Python 3",
   "language": "python",
   "name": "python3"
  },
  "language_info": {
   "codemirror_mode": {
    "name": "ipython",
    "version": 3
   },
   "file_extension": ".py",
   "mimetype": "text/x-python",
   "name": "python",
   "nbconvert_exporter": "python",
   "pygments_lexer": "ipython3",
   "version": "3.6.8"
  }
 },
 "nbformat": 4,
 "nbformat_minor": 2
}
