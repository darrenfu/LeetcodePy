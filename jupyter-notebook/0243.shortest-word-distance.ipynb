{
 "cells": [
  {
   "cell_type": "code",
   "execution_count": 79,
   "metadata": {},
   "outputs": [],
   "source": [
    "# Two pointer\n",
    "# Runtime: 68 ms, faster than 96.80%\n",
    "from typing import List\n",
    "\n",
    "class Solution:\n",
    "    def shortestDistance(self, words: List[str], word1: str, word2: str) -> int:\n",
    "        idxes1 = [i for i, v in enumerate(words) if v == word1]\n",
    "        idxes2 = [i for i, v in enumerate(words) if v == word2]\n",
    "        # perf optimize: scan shorter array (M) and do binary search on longer array (N)\n",
    "        # T: O(M*logN)\n",
    "        p1, p2 = 0, 0\n",
    "        L = len(words)\n",
    "        shortest = L\n",
    "        while p1 < len(idxes1) and p2 < len(idxes2):\n",
    "            while p1 < len(idxes1) and idxes1[p1] < idxes2[p2]:\n",
    "                shortest = min(shortest, idxes2[p2]-idxes1[p1])\n",
    "                p1 += 1\n",
    "            while p2 < len(idxes2) and p1 < len(idxes1) and idxes1[p1] > idxes2[p2]:\n",
    "                shortest = min(shortest, idxes1[p1]-idxes2[p2])\n",
    "                p2 += 1\n",
    "        return shortest"
   ]
  },
  {
   "cell_type": "code",
   "execution_count": 22,
   "metadata": {},
   "outputs": [],
   "source": [
    "# For each a, we need to get the most recent position of b.\n",
    "# For each b, we need to get the most recent position of a.\n",
    "# T: O(N)\n",
    "# https://medium.com/@laioffer/facebook%E9%AB%98%E9%A2%91%E9%A2%98-shortest-word-distance%E7%9A%84%E5%A4%9A%E4%B8%AA%E5%8F%98%E7%A7%8D%E5%92%8C%E8%A7%A3%E6%B3%95-6851fc76e95f\n",
    "# Runtime: 72 ms, faster than 87.88%\n",
    "from typing import List\n",
    "\n",
    "class Solution:\n",
    "    def shortestDistance(self, words: List[str], word1: str, word2: str) -> int:\n",
    "        def scanForShortest(idxes: List[int], word: str):\n",
    "            LL = len(idxes)\n",
    "            i, j = 0, idxes[0]\n",
    "            shortest = L\n",
    "            while j < L:\n",
    "                if i+1 < LL and j == idxes[i+1]:\n",
    "                    i += 1\n",
    "                if words[j] == word and j-idxes[i] < shortest:\n",
    "                    shortest = j-idxes[i]\n",
    "                    if i+1 < LL:\n",
    "                        i += 1\n",
    "                        j = idxes[i]\n",
    "                else:\n",
    "                    j += 1\n",
    "            return shortest\n",
    "        L = len(words)\n",
    "        idxes1 = [i for i, v in enumerate(words) if v == word1]\n",
    "        idxes2 = [i for i, v in enumerate(words) if v == word2]\n",
    "        shortest = L\n",
    "        return min(scanForShortest(idxes1, word2), scanForShortest(idxes2, word1))"
   ]
  },
  {
   "cell_type": "code",
   "execution_count": 91,
   "metadata": {},
   "outputs": [],
   "source": [
    "# one scan\n",
    "# https://leetcode.com/problems/shortest-word-distance/discuss/66931/AC-Java-clean-solution\n",
    "# Runtime: 64 ms, faster than 99.12%\n",
    "from typing import List\n",
    "\n",
    "class Solution:\n",
    "    def shortestDistance(self, words: List[str], word1: str, word2: str) -> int:\n",
    "        idx1, idx2 = -1, -1\n",
    "        shortest = len(words)\n",
    "        for i, w in enumerate(words):\n",
    "            if w == word1:\n",
    "                idx1 = i\n",
    "                if idx2 != -1 and shortest > idx1-idx2:\n",
    "                    shortest = idx1-idx2\n",
    "            elif w == word2:\n",
    "                idx2 = i\n",
    "                if idx1 != -1 and shortest > idx2-idx1:\n",
    "                    shortest = idx2-idx1\n",
    "        return shortest"
   ]
  },
  {
   "cell_type": "markdown",
   "metadata": {},
   "source": [
    "### Follow up\n",
    "1. Multiple query with unlimited times  \n",
    "   244.Shortest Word Distance II\n",
    "1. Find the Shortest Word Distance among k Words  \n",
    "1. What if two words could be identical  \n",
    "   245.Shortest Word Distance III"
   ]
  },
  {
   "cell_type": "code",
   "execution_count": 92,
   "metadata": {},
   "outputs": [
    {
     "data": {
      "text/plain": [
       "3"
      ]
     },
     "execution_count": 92,
     "metadata": {},
     "output_type": "execute_result"
    }
   ],
   "source": [
    "Solution().shortestDistance(words = [\"practice\", \"makes\", \"perfect\", \"coding\", \"makes\"], word1='coding', word2='practice')"
   ]
  },
  {
   "cell_type": "code",
   "execution_count": 93,
   "metadata": {},
   "outputs": [
    {
     "data": {
      "text/plain": [
       "1"
      ]
     },
     "execution_count": 93,
     "metadata": {},
     "output_type": "execute_result"
    }
   ],
   "source": [
    "Solution().shortestDistance(words = [\"a\",\"c\",\"a\",\"b\"], word1='a', word2='b')"
   ]
  },
  {
   "cell_type": "code",
   "execution_count": 94,
   "metadata": {},
   "outputs": [
    {
     "data": {
      "text/plain": [
       "1"
      ]
     },
     "execution_count": 94,
     "metadata": {},
     "output_type": "execute_result"
    }
   ],
   "source": [
    "Solution().shortestDistance(words = [\"a\",\"b\"], word1='a', word2='b')"
   ]
  },
  {
   "cell_type": "code",
   "execution_count": 95,
   "metadata": {},
   "outputs": [
    {
     "data": {
      "text/plain": [
       "1"
      ]
     },
     "execution_count": 95,
     "metadata": {},
     "output_type": "execute_result"
    }
   ],
   "source": [
    "Solution().shortestDistance(words = [\"a\",\"c\",\"b\",\"a\"], word1='a', word2='b')"
   ]
  },
  {
   "cell_type": "code",
   "execution_count": 96,
   "metadata": {},
   "outputs": [
    {
     "data": {
      "text/plain": [
       "2"
      ]
     },
     "execution_count": 96,
     "metadata": {},
     "output_type": "execute_result"
    }
   ],
   "source": [
    "Solution().shortestDistance(words = [\"this\",\"is\",\"a\",\"long\",\"sentence\",\"is\",\"fun\",\"day\",\"today\",\"sunny\",\"weather\",\"is\",\"a\",\"day\",\"tuesday\",\"this\",\"sentence\",\"run\",\"running\",\"rainy\"], word1=\"sentence\", word2=\"a\")"
   ]
  },
  {
   "cell_type": "code",
   "execution_count": null,
   "metadata": {},
   "outputs": [],
   "source": []
  }
 ],
 "metadata": {
  "kernelspec": {
   "display_name": "Python 3",
   "language": "python",
   "name": "python3"
  },
  "language_info": {
   "codemirror_mode": {
    "name": "ipython",
    "version": 3
   },
   "file_extension": ".py",
   "mimetype": "text/x-python",
   "name": "python",
   "nbconvert_exporter": "python",
   "pygments_lexer": "ipython3",
   "version": "3.6.8"
  }
 },
 "nbformat": 4,
 "nbformat_minor": 2
}
