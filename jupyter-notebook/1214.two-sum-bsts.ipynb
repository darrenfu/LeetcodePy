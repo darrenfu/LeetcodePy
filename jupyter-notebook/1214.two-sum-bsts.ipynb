{
 "cells": [
  {
   "cell_type": "code",
   "execution_count": 1,
   "metadata": {},
   "outputs": [],
   "source": [
    "import sys\n",
    "sys.path.append('..')\n",
    "from leetcode.tree.treenode import TreeNode"
   ]
  },
  {
   "cell_type": "code",
   "execution_count": 6,
   "metadata": {},
   "outputs": [],
   "source": [
    "class Solution:\n",
    "    def twoSumBSTs(self, root1: TreeNode, root2: TreeNode, target: int) -> bool:\n",
    "        if not root1 or not root2: return False\n",
    "        def dfs1(node: TreeNode, target: int):\n",
    "            nonlocal root2\n",
    "            if not node: return False\n",
    "            if dfs2(root2, target-node.val): return True\n",
    "            return dfs1(node.left, target) or dfs1(node.right, target)\n",
    "        \n",
    "        def dfs2(node: TreeNode, val: int):\n",
    "            if not node: return False\n",
    "            if node.val == val: return True\n",
    "            if node.val > val: return dfs2(node.left, val)\n",
    "            return dfs2(node.right, val)\n",
    "        \n",
    "        return dfs1(root1, target)"
   ]
  },
  {
   "cell_type": "code",
   "execution_count": 7,
   "metadata": {},
   "outputs": [
    {
     "data": {
      "text/plain": [
       "False"
      ]
     },
     "execution_count": 7,
     "metadata": {},
     "output_type": "execute_result"
    }
   ],
   "source": [
    "root1=TreeNode.deserialize('[0,-10,10]')\n",
    "root2=TreeNode.deserialize('[5,1,7,0,2]')\n",
    "Solution().twoSumBSTs(root1,root2,18)"
   ]
  },
  {
   "cell_type": "code",
   "execution_count": 8,
   "metadata": {},
   "outputs": [
    {
     "data": {
      "text/plain": [
       "True"
      ]
     },
     "execution_count": 8,
     "metadata": {},
     "output_type": "execute_result"
    }
   ],
   "source": [
    "root1=TreeNode.deserialize('[0,-10,10]')\n",
    "root2=TreeNode.deserialize('[5,1,7,0,2]')\n",
    "Solution().twoSumBSTs(root1,root2,17)"
   ]
  },
  {
   "cell_type": "code",
   "execution_count": null,
   "metadata": {},
   "outputs": [],
   "source": []
  }
 ],
 "metadata": {
  "kernelspec": {
   "display_name": "Python 3",
   "language": "python",
   "name": "python3"
  },
  "language_info": {
   "codemirror_mode": {
    "name": "ipython",
    "version": 3
   },
   "file_extension": ".py",
   "mimetype": "text/x-python",
   "name": "python",
   "nbconvert_exporter": "python",
   "pygments_lexer": "ipython3",
   "version": "3.6.8"
  }
 },
 "nbformat": 4,
 "nbformat_minor": 2
}
