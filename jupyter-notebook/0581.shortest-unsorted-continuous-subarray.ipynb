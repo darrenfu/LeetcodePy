{
 "cells": [
  {
   "cell_type": "markdown",
   "metadata": {},
   "source": [
    "### [581\\. Shortest Unsorted Continuous Subarray](https://leetcode.com/problems/shortest-unsorted-continuous-subarray/)\n",
    "\n",
    "Difficulty: **Easy**\n",
    "\n",
    "\n",
    "Given an integer array, you need to find one **continuous subarray** that if you only sort this subarray in ascending order, then the whole array will be sorted in ascending order, too.\n",
    "\n",
    "You need to find the **shortest** such subarray and output its length.\n",
    "\n",
    "**Example 1:**  \n",
    "\n",
    "```\n",
    "Input: [2, 6, 4, 8, 10, 9, 15]\n",
    "Output: 5\n",
    "Explanation: You need to sort [6, 4, 8, 10, 9] in ascending order to make the whole array sorted in ascending order.\n",
    "```\n",
    "\n",
    "**Note:**  \n",
    "\n",
    "1.  Then length of the input array is in range [1, 10,000].\n",
    "2.  The input array may contain duplicates, so ascending order here means **<=**."
   ]
  },
  {
   "cell_type": "code",
   "execution_count": 55,
   "metadata": {},
   "outputs": [],
   "source": [
    "# O(N*LogN) solution\n",
    "from typing import List\n",
    "\n",
    "class Solution:\n",
    "    def findUnsortedSubarray(self, nums: List[int]) -> int:\n",
    "        start, end = -1, -2\n",
    "        for i, old_new in enumerate(zip(nums, sorted(nums))):\n",
    "            old, new = old_new\n",
    "            if start == -1 and old != new:\n",
    "                start = i\n",
    "            if old != new:\n",
    "                end = i\n",
    "        return end-start+1"
   ]
  },
  {
   "cell_type": "code",
   "execution_count": 17,
   "metadata": {},
   "outputs": [],
   "source": [
    "# monotonic stack\n",
    "from typing import List\n",
    "\n",
    "class Solution:\n",
    "    def findUnsortedSubarray(self, nums: List[int]) -> int:\n",
    "        def stacking(nums: List[int], isInc: bool) -> int:\n",
    "            stack = []\n",
    "            sign = 1 if isInc else -1\n",
    "            for i, v in enumerate(nums):\n",
    "                while stack and (nums[stack[-1]] - v) * sign <= 0:\n",
    "                    idx = stack.pop()\n",
    "                stack.append(i)\n",
    "                if len(stack) == 2:\n",
    "                    return stack[0]\n",
    "            return -1\n",
    "        l = stacking(nums, True)\n",
    "        r = stacking(nums[::-1], False)\n",
    "        real_r = len(nums)-1-r\n",
    "        return 0 if l == r == -1 or l == real_r else real_r-l+1"
   ]
  },
  {
   "cell_type": "code",
   "execution_count": 61,
   "metadata": {},
   "outputs": [],
   "source": [
    "# One-pass solution\n",
    "# https://leetcode.com/problems/shortest-unsorted-continuous-subarray/discuss/103057/java-on-time-o1-space\n",
    "from typing import List\n",
    "\n",
    "class Solution:\n",
    "    def findUnsortedSubarray(self, nums: List[int]) -> int:\n",
    "        L = len(nums)\n",
    "        maxn, minn = nums[0], nums[-1]\n",
    "        start, end = -1, -2\n",
    "        for i in range(1, L):\n",
    "            maxn = max(maxn, nums[i])\n",
    "            minn = min(minn, nums[L-1-i])\n",
    "            if maxn > nums[i]:\n",
    "                end = i\n",
    "            if nums[L-1-i] > minn:\n",
    "                start = L-1-i\n",
    "        return end - start + 1"
   ]
  },
  {
   "cell_type": "code",
   "execution_count": 62,
   "metadata": {},
   "outputs": [
    {
     "data": {
      "text/plain": [
       "5"
      ]
     },
     "execution_count": 62,
     "metadata": {},
     "output_type": "execute_result"
    }
   ],
   "source": [
    "Solution().findUnsortedSubarray([2, 6, 4, 8, 10, 9, 15])"
   ]
  },
  {
   "cell_type": "code",
   "execution_count": 63,
   "metadata": {},
   "outputs": [
    {
     "data": {
      "text/plain": [
       "0"
      ]
     },
     "execution_count": 63,
     "metadata": {},
     "output_type": "execute_result"
    }
   ],
   "source": [
    "Solution().findUnsortedSubarray([1, 2, 3, 4])"
   ]
  },
  {
   "cell_type": "code",
   "execution_count": 64,
   "metadata": {},
   "outputs": [
    {
     "data": {
      "text/plain": [
       "2"
      ]
     },
     "execution_count": 64,
     "metadata": {},
     "output_type": "execute_result"
    }
   ],
   "source": [
    "Solution().findUnsortedSubarray([1, 2, 3, 2, 4])"
   ]
  },
  {
   "cell_type": "code",
   "execution_count": 65,
   "metadata": {},
   "outputs": [
    {
     "data": {
      "text/plain": [
       "4"
      ]
     },
     "execution_count": 65,
     "metadata": {},
     "output_type": "execute_result"
    }
   ],
   "source": [
    "Solution().findUnsortedSubarray([1,3,2,2,2])"
   ]
  },
  {
   "cell_type": "code",
   "execution_count": 66,
   "metadata": {},
   "outputs": [
    {
     "data": {
      "text/plain": [
       "0"
      ]
     },
     "execution_count": 66,
     "metadata": {},
     "output_type": "execute_result"
    }
   ],
   "source": [
    "Solution().findUnsortedSubarray([1,2,3,3,3])"
   ]
  },
  {
   "cell_type": "code",
   "execution_count": null,
   "metadata": {},
   "outputs": [],
   "source": []
  }
 ],
 "metadata": {
  "kernelspec": {
   "display_name": "Python 3",
   "language": "python",
   "name": "python3"
  },
  "language_info": {
   "codemirror_mode": {
    "name": "ipython",
    "version": 3
   },
   "file_extension": ".py",
   "mimetype": "text/x-python",
   "name": "python",
   "nbconvert_exporter": "python",
   "pygments_lexer": "ipython3",
   "version": "3.6.8"
  }
 },
 "nbformat": 4,
 "nbformat_minor": 2
}
