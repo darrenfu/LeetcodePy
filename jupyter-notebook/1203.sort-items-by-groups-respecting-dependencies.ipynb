{
 "cells": [
  {
   "cell_type": "markdown",
   "metadata": {},
   "source": [
    "### [1203\\. Sort Items by Groups Respecting Dependencies](https://leetcode.com/problems/sort-items-by-groups-respecting-dependencies/)\n",
    "\n",
    "Difficulty: **Hard**\n",
    "\n",
    "\n",
    "There are `n` items each belonging to zero or one of `m` groups where `group[i]` is the group that the `i`-th item belongs to and it's equal to `-1` if the `i`-th item belongs to no group. The items and the groups are zero indexed. A group can have no item belonging to it.\n",
    "\n",
    "Return a sorted list of the items such that:\n",
    "\n",
    "*   The items that belong to the same group are next to each other in the sorted list.\n",
    "*   There are some relations between these items where `beforeItems[i]` is a list containing all the items that should come before the `i`-th item in the sorted array (to the left of the `i`-th item).\n",
    "\n",
    "Return any solution if there is more than one solution and return an **empty list** if there is no solution.\n",
    "\n",
    "**Example 1:**\n",
    "\n",
    "**![](https://assets.leetcode.com/uploads/2019/09/11/1359_ex1.png)**\n",
    "\n",
    "```\n",
    "Input: n = 8, m = 2, group = [-1,-1,1,0,0,1,0,-1], beforeItems = [[],[6],[5],[6],[3,6],[],[],[]]\n",
    "Output: [6,3,4,1,5,2,0,7]\n",
    "```\n",
    "\n",
    "**Example 2:**\n",
    "\n",
    "```\n",
    "Input: n = 8, m = 2, group = [-1,-1,1,0,0,1,0,-1], beforeItems = [[],[6],[5],[6],[3],[],[4],[]]\n",
    "Output: []\n",
    "Explanation: This is the same as example 1 except that 4 needs to be before 6 in the sorted list.\n",
    "```\n",
    "\n",
    "**Constraints:**\n",
    "\n",
    "*   `1 <= m <= n <= 3*10^4`\n",
    "*   `group.length == beforeItems.length == n`\n",
    "*   `-1 <= group[i] <= m-1`\n",
    "*   `0 <= beforeItems[i].length <= n-1`\n",
    "*   `0 <= beforeItems[i][j] <= n-1`\n",
    "*   `i != beforeItems[i][j]`\n",
    "*   `beforeItems[i] `does not contain duplicates elements."
   ]
  },
  {
   "cell_type": "code",
   "execution_count": 81,
   "metadata": {},
   "outputs": [],
   "source": [
    "# Hierarchy Topological sorting @neal_wu\n",
    "# aka. if there is a cycle in DAG\n",
    "# Easier problem: 207. Course Scheduling\n",
    "# 1) check DAG inside the group\n",
    "# 2) check DAG between groups (each group or ungrouped individual is a node)\n",
    "# Note: beforeItems -> the directed edges\n",
    "# Runtime: 844 ms\n",
    "# Memory Usage: 37.9 MB\n",
    "# https://leetcode.com/problems/sort-items-by-groups-respecting-dependencies/discuss/387601/chinesec-1203-tuo-bu-pai-xu-on\n",
    "# https://www.geeksforgeeks.org/topological-sorting-indegree-based-solution/\n",
    "from typing import List, Dict\n",
    "from collections import defaultdict\n",
    "\n",
    "class Solution:\n",
    "    def sortItems(self, n: int, m: int, group: List[int], beforeItems: List[List[int]]) -> List[int]:\n",
    "        # Kahn's algorithm\n",
    "        def tsort(vertices: List[int], edges: List[List[int]]) -> (List[int], bool):\n",
    "            neighbors = defaultdict(list)\n",
    "            for u, v in edges:\n",
    "                neighbors[u].append(v)\n",
    "            \n",
    "            indegree = defaultdict(int)\n",
    "            order = []\n",
    "            # find \"start nodes\" which have no incoming edges\n",
    "            for v in vertices:\n",
    "                for u in neighbors[v]:\n",
    "                    indegree[u] += 1\n",
    "            for v in vertices:\n",
    "                if indegree[v] == 0:\n",
    "                    order.insert(0, v) # enqueue\n",
    "            \n",
    "            cur = 0\n",
    "            while cur < len(order):\n",
    "                v = order[cur]\n",
    "                cur += 1\n",
    "                for u in neighbors[v]:\n",
    "                    indegree[u] -= 1\n",
    "                    if indegree[u] == 0:\n",
    "                        order.insert(0, u)\n",
    "            return (order, cur == len(vertices))\n",
    "        \n",
    "        # trick\n",
    "        for i in range(n):\n",
    "            if group[i] < 0: # each ungrouped individual (-1) is actually a seperate group\n",
    "                group[i] = m # regroup their group id from m, m+1, ...\n",
    "                m += 1\n",
    "        \n",
    "        # group # -> vertices\n",
    "        in_group_vertices = [[] for _ in range(m)]\n",
    "        for i, g in enumerate(group):\n",
    "            in_group_vertices[g].append(i)\n",
    "        \n",
    "        # classify edges to in-group-edge and cross-group-edge\n",
    "        in_group_edges = [[] for _ in range(m)] # in-groups of edges\n",
    "        group_edges = [] # across group edges\n",
    "        for i, (g, b4) in enumerate(zip(group, beforeItems)):\n",
    "            for b in b4:\n",
    "                if group[b] == g: # in group edge\n",
    "                    in_group_edges[g] += (i, b), # directed in-group edge: curNode i -> beforeNode b\n",
    "                else: # cross group edge\n",
    "                    group_edges += (g, group[b]), # directed cross-group edge: curGroup g -> beforeGroup group[b]\n",
    "        \n",
    "        # 1. in group tsort\n",
    "        in_group_ordering = [[] for _ in range(m)]\n",
    "        for g in range(m):\n",
    "            in_group_ordering[g], is_acyclic = tsort(in_group_vertices[g], in_group_edges[g])\n",
    "            if not is_acyclic: return []\n",
    "        \n",
    "        # 2. cross group tsort\n",
    "        group_vertices = [i for i in range(m)]\n",
    "        group_ordering, is_acyclic = tsort(group_vertices, group_edges)\n",
    "        if not is_acyclic: return []\n",
    "        \n",
    "        # flatten list of list, equivalent to: \n",
    "        # for g in group_ordering:\n",
    "        #     ans += in_group_ordering[g]\n",
    "        ans = [x for g in group_ordering for x in in_group_ordering[g]]\n",
    "        return ans"
   ]
  },
  {
   "cell_type": "code",
   "execution_count": 82,
   "metadata": {},
   "outputs": [
    {
     "data": {
      "text/plain": [
       "[6, 3, 4, 7, 1, 0, 5, 2]"
      ]
     },
     "execution_count": 82,
     "metadata": {},
     "output_type": "execute_result"
    }
   ],
   "source": [
    "Solution().sortItems(n = 8, m = 2, group = [-1,-1,1,0,0,1,0,-1], beforeItems = [[],[6],[5],[6],[3,6],[],[],[]])"
   ]
  },
  {
   "cell_type": "code",
   "execution_count": 83,
   "metadata": {},
   "outputs": [
    {
     "data": {
      "text/plain": [
       "[]"
      ]
     },
     "execution_count": 83,
     "metadata": {},
     "output_type": "execute_result"
    }
   ],
   "source": [
    "Solution().sortItems(n = 8, m = 2, group = [-1,-1,1,0,0,1,0,-1], beforeItems = [[],[6],[5],[6],[3],[],[4],[]])"
   ]
  },
  {
   "cell_type": "code",
   "execution_count": null,
   "metadata": {},
   "outputs": [],
   "source": []
  }
 ],
 "metadata": {
  "kernelspec": {
   "display_name": "Python 3",
   "language": "python",
   "name": "python3"
  },
  "language_info": {
   "codemirror_mode": {
    "name": "ipython",
    "version": 3
   },
   "file_extension": ".py",
   "mimetype": "text/x-python",
   "name": "python",
   "nbconvert_exporter": "python",
   "pygments_lexer": "ipython3",
   "version": "3.6.8"
  }
 },
 "nbformat": 4,
 "nbformat_minor": 2
}
