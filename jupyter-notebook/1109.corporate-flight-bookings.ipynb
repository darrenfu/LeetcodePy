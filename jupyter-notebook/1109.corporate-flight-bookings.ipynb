{
 "cells": [
  {
   "cell_type": "markdown",
   "metadata": {},
   "source": [
    "### [1109\\. Corporate Flight Bookings](https://leetcode.com/problems/corporate-flight-bookings/)\n",
    "\n",
    "Difficulty: **Medium**\n",
    "\n",
    "\n",
    "There are `n` flights, and they are labeled from `1` to `n`.\n",
    "\n",
    "We have a list of flight bookings.  The `i`-th booking `bookings[i] = [i, j, k]` means that we booked `k` seats from flights labeled `i` to `j` inclusive.\n",
    "\n",
    "Return an array `answer` of length `n`, representing the number of seats booked on each flight in order of their label.\n",
    "\n",
    "**Example 1:**\n",
    "\n",
    "```\n",
    "Input: bookings = [[1,2,10],[2,3,20],[2,5,25]], n = 5\n",
    "Output: [10,55,45,25,25]\n",
    "```\n",
    "\n",
    "**Constraints:**\n",
    "\n",
    "*   `1 <= bookings.length <= 20000`\n",
    "*   `1 <= bookings[i][0] <= bookings[i][1] <= n <= 20000`\n",
    "*   `1 <= bookings[i][2] <= 10000`"
   ]
  },
  {
   "cell_type": "code",
   "execution_count": 15,
   "metadata": {},
   "outputs": [],
   "source": [
    "# Same as #370. Range Addition\n",
    "# Boundary counting\n",
    "from collections import defaultdict\n",
    "from typing import List\n",
    "\n",
    "class Solution:\n",
    "    def corpFlightBookings(self, bookings: List[List[int]], n: int) -> List[int]:\n",
    "        ans = [0] * (n+1)\n",
    "        cadences = defaultdict(list)\n",
    "        for i,j,k in sorted(bookings, key=lambda b: (b[0], b[1])):\n",
    "            if i == j:\n",
    "                if not cadences[i]:\n",
    "                    cadences[i] = [0, 0, 0]\n",
    "                cadences[i][2] += k\n",
    "                continue\n",
    "            if not cadences[i]:\n",
    "                cadences[i] = [0, 0, 0]\n",
    "            cadences[i][0] += k\n",
    "            if not cadences[j]:\n",
    "                cadences[j] = [0, 0, 0]\n",
    "            cadences[j][1] += k\n",
    "            \n",
    "        #print(cadences)\n",
    "        keys = sorted(cadences.keys())\n",
    "        curSum = 0\n",
    "        for k1, k2 in zip(keys, keys[1:]):\n",
    "            curSum += cadences[k1][0]\n",
    "            ans[k1] = curSum + cadences[k1][2]\n",
    "            curSum -= cadences[k1][1]\n",
    "            for k in range(k1+1, k2):\n",
    "                ans[k] = curSum\n",
    "        ans[keys[-1]] = (cadences[keys[-1]][1] if curSum == 0 else curSum) + cadences[keys[-1]][2]\n",
    "        return ans[1:]"
   ]
  },
  {
   "cell_type": "code",
   "execution_count": 11,
   "metadata": {},
   "outputs": [],
   "source": [
    "from typing import List\n",
    "\n",
    "class Solution:\n",
    "    def corpFlightBookings(self, bookings: List[List[int]], n: int) -> List[int]:\n",
    "        ans = [0] * (n+1)\n",
    "        for i,j,k in bookings:\n",
    "            ans[i-1] += k\n",
    "            ans[j] -= k\n",
    "        \n",
    "        for i in range(1, n):\n",
    "            ans[i] += ans[i-1]\n",
    "        return ans[:-1]"
   ]
  },
  {
   "cell_type": "code",
   "execution_count": 16,
   "metadata": {},
   "outputs": [
    {
     "data": {
      "text/plain": [
       "[10, 55, 45, 25, 25]"
      ]
     },
     "execution_count": 16,
     "metadata": {},
     "output_type": "execute_result"
    }
   ],
   "source": [
    "Solution().corpFlightBookings(bookings = [[1,2,10],[2,3,20],[2,5,25]], n = 5)"
   ]
  },
  {
   "cell_type": "code",
   "execution_count": 17,
   "metadata": {},
   "outputs": [
    {
     "data": {
      "text/plain": [
       "[10, 25]"
      ]
     },
     "execution_count": 17,
     "metadata": {},
     "output_type": "execute_result"
    }
   ],
   "source": [
    "Solution().corpFlightBookings(bookings = [[1,2,10],[2,2,15]], n = 2)"
   ]
  },
  {
   "cell_type": "code",
   "execution_count": 18,
   "metadata": {},
   "outputs": [
    {
     "data": {
      "text/plain": [
       "[10]"
      ]
     },
     "execution_count": 18,
     "metadata": {},
     "output_type": "execute_result"
    }
   ],
   "source": [
    "Solution().corpFlightBookings(bookings = [[1,1,10]], n = 1)"
   ]
  },
  {
   "cell_type": "code",
   "execution_count": null,
   "metadata": {},
   "outputs": [],
   "source": []
  }
 ],
 "metadata": {
  "kernelspec": {
   "display_name": "Python 3",
   "language": "python",
   "name": "python3"
  },
  "language_info": {
   "codemirror_mode": {
    "name": "ipython",
    "version": 3
   },
   "file_extension": ".py",
   "mimetype": "text/x-python",
   "name": "python",
   "nbconvert_exporter": "python",
   "pygments_lexer": "ipython3",
   "version": "3.6.8"
  }
 },
 "nbformat": 4,
 "nbformat_minor": 2
}
