{
 "cells": [
  {
   "cell_type": "markdown",
   "metadata": {},
   "source": [
    "### [133\\. Clone Graph](https://leetcode.com/problems/clone-graph/)\n",
    "\n",
    "Difficulty: **Medium**\n",
    "\n",
    "\n",
    "Given a reference of a node in a  undirected graph, return a (clone) of the graph. Each node in the graph contains a val (`int`) and a list (`List[Node]`) of its neighbors.\n",
    "\n",
    "**Example:**\n",
    "\n",
    "![](https://assets.leetcode.com/uploads/2019/11/04/133_clone_graph_question.png)\n",
    "\n",
    "```\n",
    "Input:\n",
    "{\"$id\":\"1\",\"neighbors\":[{\"$id\":\"2\",\"neighbors\":[{\"$ref\":\"1\"},{\"$id\":\"3\",\"neighbors\":[{\"$ref\":\"2\"},{\"$id\":\"4\",\"neighbors\":[{\"$ref\":\"3\"},{\"$ref\":\"1\"}],\"val\":4}],\"val\":3}],\"val\":2},{\"$ref\":\"4\"}],\"val\":1}\n",
    "\n",
    "Explanation:\n",
    "Node 1's value is 1, and it has two neighbors: Node 2 and 4.\n",
    "Node 2's value is 2, and it has two neighbors: Node 1 and 3.\n",
    "Node 3's value is 3, and it has two neighbors: Node 2 and 4.\n",
    "Node 4's value is 4, and it has two neighbors: Node 1 and 3.\n",
    "```\n",
    "\n",
    "**Note:**\n",
    "\n",
    "1.  The number of nodes will be between 1 and 100.\n",
    "2.  The undirected graph is a , which means no repeated edges and no self-loops in the graph.\n",
    "3.  Since the graph is undirected, if node _p_ has node _q_ as neighbor, then node _q_ must have node _p_ as neighbor too.\n",
    "4.  You must return the **copy of the given node** as a reference to the cloned graph."
   ]
  },
  {
   "cell_type": "code",
   "execution_count": 2,
   "metadata": {},
   "outputs": [],
   "source": [
    "# Definition for a Node.\n",
    "class Node:\n",
    "    def __init__(self, val, neighbors):\n",
    "        self.val = val\n",
    "        self.neighbors = neighbors"
   ]
  },
  {
   "cell_type": "code",
   "execution_count": 4,
   "metadata": {},
   "outputs": [],
   "source": [
    "# https://leetcode.com/problems/clone-graph/discuss/42314/Python-solutions-(BFS-DFS-iteratively-DFS-recursively)\n",
    "# BFS - O(2V)\n",
    "class Solution:\n",
    "    def cloneGraph(self, node: 'Node') -> 'Node':\n",
    "        visited = {}\n",
    "        q = [node]\n",
    "        while q:\n",
    "            u = q.pop(0)\n",
    "            visited[u] = Node(u.val, None)\n",
    "            for v in u.neighbors:\n",
    "                if v not in visited:\n",
    "                    q.append(v)\n",
    "        for org, clone in visited.items():\n",
    "            clone.neighbors = [visited[nbr] for nbr in org.neighbors]\n",
    "        return visited[node]"
   ]
  },
  {
   "cell_type": "code",
   "execution_count": null,
   "metadata": {},
   "outputs": [],
   "source": [
    "# BFS - O(V)\n",
    "class Solution:\n",
    "    def cloneGraph(self, node: 'Node') -> 'Node':\n",
    "        ret = Node(node.val, [])\n",
    "        visited = {node: ret}\n",
    "        q = [node]\n",
    "        while q:\n",
    "            u = q.pop(0)\n",
    "            for v in u.neighbors:\n",
    "                if v not in visited:\n",
    "                    visited[v] = Node(v.val, [])\n",
    "                    q.append(v)\n",
    "                visited[u].neighbors.append(visited[v])\n",
    "        return ret"
   ]
  },
  {
   "cell_type": "code",
   "execution_count": null,
   "metadata": {},
   "outputs": [],
   "source": [
    "# DFS - O(V)\n",
    "class Solution:\n",
    "    def cloneGraph(self, node: 'Node') -> 'Node':\n",
    "        ret = Node(node.val, [])\n",
    "        visited = {node: ret}\n",
    "        stack = [node]\n",
    "        while stack:\n",
    "            u = stack.pop() # only difference from BFS\n",
    "            for v in u.neighbors:\n",
    "                if v not in visited:\n",
    "                    visited[v] = Node(v.val, [])\n",
    "                    stack.append(v)\n",
    "                visited[u].neighbors.append(visited[v])\n",
    "        return ret"
   ]
  },
  {
   "cell_type": "code",
   "execution_count": null,
   "metadata": {},
   "outputs": [],
   "source": [
    "# DFS - recursion\n",
    "class Solution:\n",
    "    def cloneGraph(self, node: 'Node') -> 'Node':\n",
    "        def dfs(u: Node):\n",
    "            for v in u.neighbors:\n",
    "                if v not in visited:\n",
    "                    visited[v] = Node(v.val, [])\n",
    "                    dfs(v) # instead of explicitedly using a stack, we use function stack recursively\n",
    "                visited[u].neighbors.append(visited[v])\n",
    "                \n",
    "        ret = Node(node.val, [])\n",
    "        visited = {node: ret}\n",
    "        dfs(node)\n",
    "        return ret"
   ]
  },
  {
   "cell_type": "code",
   "execution_count": null,
   "metadata": {},
   "outputs": [],
   "source": []
  }
 ],
 "metadata": {
  "kernelspec": {
   "display_name": "Python 3",
   "language": "python",
   "name": "python3"
  },
  "language_info": {
   "codemirror_mode": {
    "name": "ipython",
    "version": 3
   },
   "file_extension": ".py",
   "mimetype": "text/x-python",
   "name": "python",
   "nbconvert_exporter": "python",
   "pygments_lexer": "ipython3",
   "version": "3.6.8"
  }
 },
 "nbformat": 4,
 "nbformat_minor": 2
}
