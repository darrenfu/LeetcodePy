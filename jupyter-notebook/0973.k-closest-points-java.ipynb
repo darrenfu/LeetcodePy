{
 "cells": [
  {
   "cell_type": "code",
   "execution_count": 2,
   "metadata": {},
   "outputs": [
    {
     "data": {
      "text/plain": [
       "com.twosigma.beaker.javash.bkrf31cf6e1.Solution"
      ]
     },
     "execution_count": 2,
     "metadata": {},
     "output_type": "execute_result"
    }
   ],
   "source": [
    "import java.util.Arrays;\n",
    "    \n",
    "class Solution {\n",
    "    public int[][] kClosest(int[][] points, int K) {\n",
    "        int len =  points.length, l = 0, r = len - 1;\n",
    "        while (l <= r) {\n",
    "            int mid = helper(points, l, r);\n",
    "            if (mid == K) break;\n",
    "            if (mid < K) {\n",
    "                l = mid + 1;\n",
    "            } else {\n",
    "                r = mid - 1;\n",
    "            }\n",
    "        }\n",
    "        return Arrays.copyOfRange(points, 0, K);\n",
    "    }\n",
    "\n",
    "    private int helper(int[][] A, int l, int r) {\n",
    "        int[] pivot = A[l];\n",
    "        while (l < r) {\n",
    "            while (l < r && compare(A[r], pivot) >= 0) r--;\n",
    "            A[l] = A[r];\n",
    "            while (l < r && compare(A[l], pivot) <= 0) l++;\n",
    "            A[r] = A[l];\n",
    "        }\n",
    "        A[l] = pivot;\n",
    "        return l;\n",
    "    }\n",
    "\n",
    "    private int compare(int[] p1, int[] p2) {\n",
    "        return p1[0] * p1[0] + p1[1] * p1[1] - p2[0] * p2[0] - p2[1] * p2[1];\n",
    "    }\n",
    "}"
   ]
  },
  {
   "cell_type": "code",
   "execution_count": 14,
   "metadata": {},
   "outputs": [
    {
     "name": "stdout",
     "output_type": "stream",
     "text": [
      "3,3\n",
      "-2,4\n"
     ]
    },
    {
     "data": {
      "text/plain": [
       "null"
      ]
     },
     "execution_count": 14,
     "metadata": {},
     "output_type": "execute_result"
    }
   ],
   "source": [
    "Solution s = new Solution();\n",
    "int[][] ret = s.kClosest(new int[][] {{3,3},{5,-1},{-2,4}}, 2);\n",
    "for (int[] p : ret) {\n",
    "    System.out.println(p[0] + \",\" + p[1]);\n",
    "}"
   ]
  },
  {
   "cell_type": "code",
   "execution_count": null,
   "metadata": {},
   "outputs": [],
   "source": []
  }
 ],
 "metadata": {
  "kernelspec": {
   "display_name": "Java",
   "language": "java",
   "name": "java"
  },
  "language_info": {
   "codemirror_mode": "text/x-java",
   "file_extension": ".java",
   "mimetype": "",
   "name": "Java",
   "nbconverter_exporter": "",
   "version": "1.8.0_212"
  }
 },
 "nbformat": 4,
 "nbformat_minor": 2
}
