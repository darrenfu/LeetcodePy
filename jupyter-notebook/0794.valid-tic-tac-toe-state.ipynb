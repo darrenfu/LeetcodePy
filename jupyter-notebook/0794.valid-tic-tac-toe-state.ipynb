{
 "cells": [
  {
   "cell_type": "markdown",
   "metadata": {},
   "source": [
    "### [794\\. Valid Tic-Tac-Toe State](https://leetcode.com/problems/valid-tic-tac-toe-state/)\n",
    "\n",
    "Difficulty: **Medium**\n",
    "\n",
    "\n",
    "A Tic-Tac-Toe board is given as a string array `board`. Return True if and only if it is possible to reach this board position during the course of a valid tic-tac-toe game.\n",
    "\n",
    "The `board` is a 3 x 3 array, and consists of characters `\" \"`, `\"X\"`, and `\"O\"`.  The \" \" character represents an empty square.\n",
    "\n",
    "Here are the rules of Tic-Tac-Toe:\n",
    "\n",
    "*   Players take turns placing characters into empty squares (\" \").\n",
    "*   The first player always places \"X\" characters, while the second player always places \"O\" characters.\n",
    "*   \"X\" and \"O\" characters are always placed into empty squares, never filled ones.\n",
    "*   The game ends when there are 3 of the same (non-empty) character filling any row, column, or diagonal.\n",
    "*   The game also ends if all squares are non-empty.\n",
    "*   No more moves can be played if the game is over.\n",
    "\n",
    "```\n",
    "Example 1:\n",
    "Input: board = [\"O  \", \"   \", \"   \"]\n",
    "Output: false\n",
    "Explanation: The first player always plays \"X\".\n",
    "\n",
    "Example 2:\n",
    "Input: board = [\"XOX\", \" X \", \"   \"]\n",
    "Output: false\n",
    "Explanation: Players take turns making moves.\n",
    "\n",
    "Example 3:\n",
    "Input: board = [\"XXX\", \"   \", \"OOO\"]\n",
    "Output: false\n",
    "\n",
    "Example 4:\n",
    "Input: board = [\"XOX\", \"O O\", \"XOX\"]\n",
    "Output: true\n",
    "```\n",
    "\n",
    "**Note:**\n",
    "\n",
    "*   `board` is a length-3 array of strings, where each string `board[i]` has length 3.\n",
    "*   Each `board[i][j]` is a character in the set `{\" \", \"X\", \"O\"}`."
   ]
  },
  {
   "cell_type": "code",
   "execution_count": 58,
   "metadata": {},
   "outputs": [],
   "source": [
    "from typing import List\n",
    "\n",
    "class Solution:\n",
    "    def validTicTacToe(self, board: List[str]) -> bool:\n",
    "        board = [list(s) for s in board]\n",
    "        xcnt, ocnt = 0, 0\n",
    "        for r in board:\n",
    "            for cell in r:\n",
    "                if cell == 'X': xcnt += 1\n",
    "                elif cell == 'O': ocnt += 1\n",
    "        cnt_diff = xcnt - ocnt\n",
    "        if cnt_diff < 0 or cnt_diff > 1:\n",
    "            return False\n",
    "        \n",
    "        xwon, owon = False, False\n",
    "        for r in board:\n",
    "            xwon |= all(cell == 'X' for cell in r)\n",
    "            owon |= all(cell == 'O' for cell in r)\n",
    "        for c in zip(*board):\n",
    "            xwon |= all(cell == 'X' for cell in c)\n",
    "            owon |= all(cell == 'O' for cell in c)\n",
    "        n = 3\n",
    "        xwon |= all(board[d][d] == 'X' for d in range(n))\n",
    "        owon |= all(board[d][d] == 'O' for d in range(n))\n",
    "        xwon |= all(board[d][n-1-d] == 'X' for d in range(n))\n",
    "        owon |= all(board[d][n-1-d] == 'O' for d in range(n))\n",
    "        return not xwon if cnt_diff == 0 else not owon"
   ]
  },
  {
   "cell_type": "code",
   "execution_count": 59,
   "metadata": {},
   "outputs": [
    {
     "data": {
      "text/plain": [
       "False"
      ]
     },
     "execution_count": 59,
     "metadata": {},
     "output_type": "execute_result"
    }
   ],
   "source": [
    "Solution().validTicTacToe(board = [\"O  \", \"   \", \"   \"])"
   ]
  },
  {
   "cell_type": "code",
   "execution_count": 60,
   "metadata": {},
   "outputs": [
    {
     "data": {
      "text/plain": [
       "False"
      ]
     },
     "execution_count": 60,
     "metadata": {},
     "output_type": "execute_result"
    }
   ],
   "source": [
    "Solution().validTicTacToe(board = [\"XOX\", \" X \", \"   \"])"
   ]
  },
  {
   "cell_type": "code",
   "execution_count": 61,
   "metadata": {},
   "outputs": [
    {
     "data": {
      "text/plain": [
       "False"
      ]
     },
     "execution_count": 61,
     "metadata": {},
     "output_type": "execute_result"
    }
   ],
   "source": [
    "Solution().validTicTacToe(board = [\"XXX\", \"   \", \"OOO\"])"
   ]
  },
  {
   "cell_type": "code",
   "execution_count": 62,
   "metadata": {},
   "outputs": [
    {
     "data": {
      "text/plain": [
       "True"
      ]
     },
     "execution_count": 62,
     "metadata": {},
     "output_type": "execute_result"
    }
   ],
   "source": [
    "Solution().validTicTacToe(board = [\"XOX\", \"O O\", \"XOX\"])"
   ]
  },
  {
   "cell_type": "code",
   "execution_count": 63,
   "metadata": {},
   "outputs": [
    {
     "data": {
      "text/plain": [
       "True"
      ]
     },
     "execution_count": 63,
     "metadata": {},
     "output_type": "execute_result"
    }
   ],
   "source": [
    "Solution().validTicTacToe(board = [\"XXX\",\"OOX\",\"OOX\"])"
   ]
  },
  {
   "cell_type": "code",
   "execution_count": 64,
   "metadata": {},
   "outputs": [
    {
     "data": {
      "text/plain": [
       "False"
      ]
     },
     "execution_count": 64,
     "metadata": {},
     "output_type": "execute_result"
    }
   ],
   "source": [
    "Solution().validTicTacToe(board = [\"XXX\",\"XOO\",\"OO \"])"
   ]
  },
  {
   "cell_type": "code",
   "execution_count": null,
   "metadata": {},
   "outputs": [],
   "source": []
  }
 ],
 "metadata": {
  "kernelspec": {
   "display_name": "Python 3",
   "language": "python",
   "name": "python3"
  },
  "language_info": {
   "codemirror_mode": {
    "name": "ipython",
    "version": 3
   },
   "file_extension": ".py",
   "mimetype": "text/x-python",
   "name": "python",
   "nbconvert_exporter": "python",
   "pygments_lexer": "ipython3",
   "version": "3.6.8"
  }
 },
 "nbformat": 4,
 "nbformat_minor": 2
}
