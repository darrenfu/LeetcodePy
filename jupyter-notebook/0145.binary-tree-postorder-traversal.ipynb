{
 "cells": [
  {
   "cell_type": "markdown",
   "metadata": {},
   "source": [
    "### [145\\. Binary Tree Postorder Traversal](https://leetcode.com/problems/binary-tree-postorder-traversal/)\n",
    "\n",
    "Difficulty: **Hard**\n",
    "\n",
    "\n",
    "Given a binary tree, return the _postorder_ traversal of its nodes' values.\n",
    "\n",
    "**Example:**\n",
    "\n",
    "```\n",
    "Input: [1,null,2,3]\n",
    "   1\n",
    "    \\\n",
    "     2\n",
    "    /\n",
    "   3\n",
    "\n",
    "Output: [3,2,1]\n",
    "```\n",
    "\n",
    "**Follow up:** Recursive solution is trivial, could you do it iteratively?"
   ]
  },
  {
   "cell_type": "code",
   "execution_count": null,
   "metadata": {},
   "outputs": [],
   "source": [
    "# Reversing Preorder \n",
    "class Solution:\n",
    "    def postorderTraversal(self, root: TreeNode) -> List[int]:\n",
    "        stack = [root]\n",
    "        res = []\n",
    "        while stack:\n",
    "            node = stack.pop()\n",
    "            if not node:\n",
    "                continue\n",
    "            res += node.val,\n",
    "            stack.append(node.left)\n",
    "            stack.append(node.right)\n",
    "        return res[::-1] "
   ]
  },
  {
   "cell_type": "code",
   "execution_count": null,
   "metadata": {},
   "outputs": [],
   "source": [
    "class Solution:\n",
    "    def postorderTraversal(self, root: TreeNode) -> List[int]:\n",
    "        stack = [(root, False)]\n",
    "        res = []\n",
    "        while stack:\n",
    "            node, visited = stack.pop()\n",
    "            if visited:\n",
    "                res += node.val,\n",
    "            else:\n",
    "                if node:\n",
    "                    stack.append((node, True))\n",
    "                    stack.append((node.right, False))\n",
    "                    stack.append((node.left, False))\n",
    "        return res"
   ]
  }
 ],
 "metadata": {
  "kernelspec": {
   "display_name": "Python 3",
   "language": "python",
   "name": "python3"
  },
  "language_info": {
   "codemirror_mode": {
    "name": "ipython",
    "version": 3
   },
   "file_extension": ".py",
   "mimetype": "text/x-python",
   "name": "python",
   "nbconvert_exporter": "python",
   "pygments_lexer": "ipython3",
   "version": "3.6.8"
  }
 },
 "nbformat": 4,
 "nbformat_minor": 2
}
