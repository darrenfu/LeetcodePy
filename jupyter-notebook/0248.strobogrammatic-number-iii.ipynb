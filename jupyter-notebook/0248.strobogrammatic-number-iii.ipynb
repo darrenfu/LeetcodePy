{
 "cells": [
  {
   "cell_type": "markdown",
   "metadata": {},
   "source": [
    "### [248\\. Strobogrammatic Number III](https://leetcode.com/problems/strobogrammatic-number-iii/)\n",
    "\n",
    "Difficulty: **Hard**\n",
    "\n",
    "\n",
    "A strobogrammatic number is a number that looks the same when rotated 180 degrees (looked at upside down).\n",
    "\n",
    "Write a function to count the total strobogrammatic numbers that exist in the range of low <= num <= high.\n",
    "\n",
    "**Example:**\n",
    "\n",
    "```\n",
    "Input: low = \"50\", high = \"100\"\n",
    "Output: 3 \n",
    "Explanation: 69, 88, and 96 are three strobogrammatic numbers.\n",
    "```\n",
    "\n",
    "**Note:**  \n",
    "Because the range might be a large number, the _low_ and _high_ numbers are represented as string."
   ]
  },
  {
   "cell_type": "code",
   "execution_count": 10,
   "metadata": {},
   "outputs": [],
   "source": [
    "from typing import List\n",
    "from functools import lru_cache\n",
    "\n",
    "class Solution:\n",
    "    def strobogrammaticInRange(self, low: str, high: str) -> int:\n",
    "        toInserts = [['00', '11', '88', '69', '96'], ['0', '1', '8']]\n",
    "        @lru_cache(None)\n",
    "        def ans(n: int) -> List[str]:\n",
    "            if n == 1:\n",
    "                return ['0', '1', '8']\n",
    "            if n == 2:\n",
    "                return ['11', '69', '88', '96']\n",
    "            res = []\n",
    "            prev = n-2 if n%2 == 0 else n-1\n",
    "            for num in ans(prev):\n",
    "                for toInsert in toInserts[n%2]:\n",
    "                    mid = prev//2\n",
    "                    res.append(num[:mid] + toInsert + num[mid:])\n",
    "            return res\n",
    "        lo, hi = len(low), len(high)\n",
    "        res = 0\n",
    "        for i in range(lo+1, hi):\n",
    "            res += len(ans(i))\n",
    "        if lo < hi: \n",
    "            res += sum(1 for x in ans(lo) if x >= low)\n",
    "            res += sum(1 for x in ans(hi) if x <= high)\n",
    "        elif lo == hi:\n",
    "            res += sum(1 for x in ans(lo) if low <= x <= high) \n",
    "        else:\n",
    "            res = 0 \n",
    "        return res"
   ]
  },
  {
   "cell_type": "code",
   "execution_count": 11,
   "metadata": {},
   "outputs": [
    {
     "data": {
      "text/plain": [
       "7"
      ]
     },
     "execution_count": 11,
     "metadata": {},
     "output_type": "execute_result"
    }
   ],
   "source": [
    "Solution().strobogrammaticInRange(\"0\", \"100\")"
   ]
  },
  {
   "cell_type": "code",
   "execution_count": 12,
   "metadata": {},
   "outputs": [
    {
     "data": {
      "text/plain": [
       "0"
      ]
     },
     "execution_count": 12,
     "metadata": {},
     "output_type": "execute_result"
    }
   ],
   "source": [
    "Solution().strobogrammaticInRange(\"100\", \"50\")"
   ]
  },
  {
   "cell_type": "code",
   "execution_count": 13,
   "metadata": {},
   "outputs": [
    {
     "data": {
      "text/plain": [
       "3"
      ]
     },
     "execution_count": 13,
     "metadata": {},
     "output_type": "execute_result"
    }
   ],
   "source": [
    "Solution().strobogrammaticInRange(\"50\", \"100\")"
   ]
  },
  {
   "cell_type": "code",
   "execution_count": 14,
   "metadata": {},
   "outputs": [
    {
     "data": {
      "text/plain": [
       "2"
      ]
     },
     "execution_count": 14,
     "metadata": {},
     "output_type": "execute_result"
    }
   ],
   "source": [
    "Solution().strobogrammaticInRange(\"50\", \"95\")"
   ]
  },
  {
   "cell_type": "code",
   "execution_count": null,
   "metadata": {},
   "outputs": [],
   "source": []
  }
 ],
 "metadata": {
  "kernelspec": {
   "display_name": "Python 3",
   "language": "python",
   "name": "python3"
  },
  "language_info": {
   "codemirror_mode": {
    "name": "ipython",
    "version": 3
   },
   "file_extension": ".py",
   "mimetype": "text/x-python",
   "name": "python",
   "nbconvert_exporter": "python",
   "pygments_lexer": "ipython3",
   "version": "3.6.8"
  }
 },
 "nbformat": 4,
 "nbformat_minor": 2
}
