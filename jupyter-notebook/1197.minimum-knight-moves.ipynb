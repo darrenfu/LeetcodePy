{
 "cells": [
  {
   "cell_type": "code",
   "execution_count": 41,
   "metadata": {},
   "outputs": [],
   "source": [
    "# Greedy until near enough then BFS - TLE\n",
    "class Solution:\n",
    "    def minKnightMoves(self, x: int, y: int) -> int: \n",
    "        def isvalid(cx: int, cy: int, prevx: int, prevy: int) -> bool:\n",
    "            nonlocal x, y\n",
    "            if visited[tx + N][ty + N] == -2:\n",
    "                return False\n",
    "            dist = abs(prevx - x) + abs(prevy - y)\n",
    "            cur_dist = abs(cx - x) + abs(cy - y)\n",
    "            if dist >= 6:\n",
    "                return cur_dist < dist\n",
    "            return cur_dist <= dist + 2\n",
    "\n",
    "        dx = [2, 2, -2, -2, 1, 1, -1, -1]\n",
    "        dy = [1, -1, 1, -1, 2, -2, 2, -2]\n",
    "        q = [(0, 0, 0)]\n",
    "        N = 300\n",
    "        visited = [[-1] * (2*N + 1) for _ in range(2*N + 1)]\n",
    "        for i in range(2*N+1):\n",
    "            for j in range(2*N+1):\n",
    "                if abs(i-N) + abs(j-N) > 300:\n",
    "                    visited[i][j] = -2\n",
    "        while q:\n",
    "            cx, cy, moves = q.pop(0)\n",
    "            if cx == x and cy == y:\n",
    "                return moves\n",
    "            for i in range(8):\n",
    "                tx = cx + dx[i]\n",
    "                ty = cy + dy[i]\n",
    "                if isvalid(tx, ty, cx, cy):\n",
    "                    if visited[tx + N][ty + N] == -1:\n",
    "                        visited[tx + N][ty + N] = 1\n",
    "                        q.append((tx, ty, moves + 1))\n",
    "        return -1"
   ]
  },
  {
   "cell_type": "code",
   "execution_count": 74,
   "metadata": {},
   "outputs": [],
   "source": [
    "# BFS + 2d array memorization\n",
    "# Runtime: 776 ms\n",
    "# Memory Usage: 14.4 MB\n",
    "class Solution:\n",
    "    def minKnightMoves(self, x: int, y: int) -> int:\n",
    "        x, y = abs(x), abs(y)\n",
    "        def isvalid(cx: int, cy: int) -> bool:\n",
    "            nonlocal x, y\n",
    "            return -2<=cx<=x and -2<=cy<=y\n",
    "\n",
    "        dx = [2, 2, -2, -2, 1, 1, -1, -1]\n",
    "        dy = [1, -1, 1, -1, 2, -2, 2, -2]\n",
    "        N = 300\n",
    "        q = [(0, 0, 0)]\n",
    "        min_offset = 2\n",
    "        visited = [[-1] * (N+min_offset+1) for _ in range(N+min_offset+1)]\n",
    "        while q:\n",
    "            cx, cy, moves = q.pop(0)\n",
    "            for i in range(8):\n",
    "                tx = cx + dx[i]\n",
    "                ty = cy + dy[i]\n",
    "                if isvalid(tx, ty):\n",
    "                    if visited[tx + min_offset][ty + min_offset] == -1:\n",
    "                        visited[tx + min_offset][ty + min_offset] = moves + 1\n",
    "                        q.append((tx, ty, moves + 1))\n",
    "        return visited[x+min_offset][y+min_offset] if x!=0 or y!=0 else 0"
   ]
  },
  {
   "cell_type": "code",
   "execution_count": 59,
   "metadata": {},
   "outputs": [],
   "source": [
    "# BFS + dict memorization (@awice - python2 can pass)\n",
    "# Runtime: 808 ms\n",
    "# Memory Usage: 16.3 MB\n",
    "class Solution:\n",
    "    def minKnightMoves(self, x: int, y: int) -> int:\n",
    "        x, y = abs(x), abs(y)\n",
    "        def isvalid(cx: int, cy: int) -> bool:\n",
    "            nonlocal x, y\n",
    "            return -2 <= cx <= x and -2 <= cy <= y\n",
    "\n",
    "        dxdy = [(2, -1), (2, 1), (-2, -1), (-2, 1), (1, -2), (1, 2), (-1, -2), (-1, 2)]\n",
    "        q = [(0, 0, 0)]\n",
    "        memo = {(0,0): 0}\n",
    "        while q:\n",
    "            cx, cy, moves = q.pop(0)\n",
    "            for i in range(8):\n",
    "                tx = cx + dxdy[i][0]\n",
    "                ty = cy + dxdy[i][1]\n",
    "                if isvalid(tx, ty):\n",
    "                    if (tx, ty) not in memo:\n",
    "                        memo[tx,ty] = moves + 1\n",
    "                        q.append((tx, ty, moves + 1))\n",
    "        # Convert negative x, y coordinates to positive\n",
    "        return memo[x,y]"
   ]
  },
  {
   "cell_type": "code",
   "execution_count": 57,
   "metadata": {},
   "outputs": [],
   "source": [
    "# https://leetcode.com/problems/minimum-knight-moves/discuss/387006/Python-Convert-negative-x-y-coordinates-to-positive\n",
    "# Runtime: 1272 ms\n",
    "class Solution:\n",
    "    def minKnightMoves(self, x: int, y: int) -> int:\n",
    "        x, y = abs(x), abs(y) # Simplify problem by not worring about negative coordinates\n",
    "        dxdy = [(2, -1), (2, 1), (-2, -1), (-2, 1), (1, -2), (1, 2), (-1, -2), (-1, 2)]\n",
    "        q = [(0, 0, 0)]\n",
    "        visited = set()\n",
    "        while q:\n",
    "            cx, cy, moves = q.pop(0)\n",
    "            if cx == x and cy == y:\n",
    "                return moves\n",
    "            if (cx, cy) in visited:\n",
    "                continue\n",
    "            visited.add((cx, cy))\n",
    "            \n",
    "            for i in range(8):\n",
    "                tx = cx + dxdy[i][0]\n",
    "                ty = cy + dxdy[i][1]\n",
    "                if -2 <= tx <= x and -2 <= ty <= y:\n",
    "                    q.append((tx, ty, moves + 1))\n",
    "        return -1"
   ]
  },
  {
   "cell_type": "code",
   "execution_count": 75,
   "metadata": {},
   "outputs": [
    {
     "data": {
      "text/plain": [
       "1"
      ]
     },
     "execution_count": 75,
     "metadata": {},
     "output_type": "execute_result"
    }
   ],
   "source": [
    "Solution().minKnightMoves(2,1)"
   ]
  },
  {
   "cell_type": "code",
   "execution_count": 76,
   "metadata": {},
   "outputs": [
    {
     "data": {
      "text/plain": [
       "78"
      ]
     },
     "execution_count": 76,
     "metadata": {},
     "output_type": "execute_result"
    }
   ],
   "source": [
    "Solution().minKnightMoves(-34,-156)"
   ]
  },
  {
   "cell_type": "code",
   "execution_count": 77,
   "metadata": {},
   "outputs": [
    {
     "data": {
      "text/plain": [
       "83"
      ]
     },
     "execution_count": 77,
     "metadata": {},
     "output_type": "execute_result"
    }
   ],
   "source": [
    "Solution().minKnightMoves(-27,-166)"
   ]
  },
  {
   "cell_type": "code",
   "execution_count": 78,
   "metadata": {},
   "outputs": [
    {
     "data": {
      "text/plain": [
       "51"
      ]
     },
     "execution_count": 78,
     "metadata": {},
     "output_type": "execute_result"
    }
   ],
   "source": [
    "Solution().minKnightMoves(52,-99)"
   ]
  },
  {
   "cell_type": "code",
   "execution_count": 79,
   "metadata": {},
   "outputs": [
    {
     "data": {
      "text/plain": [
       "0"
      ]
     },
     "execution_count": 79,
     "metadata": {},
     "output_type": "execute_result"
    }
   ],
   "source": [
    "Solution().minKnightMoves(0,0)"
   ]
  },
  {
   "cell_type": "code",
   "execution_count": 80,
   "metadata": {},
   "outputs": [
    {
     "data": {
      "text/plain": [
       "3"
      ]
     },
     "execution_count": 80,
     "metadata": {},
     "output_type": "execute_result"
    }
   ],
   "source": [
    "Solution().minKnightMoves(0,-1)"
   ]
  }
 ],
 "metadata": {
  "kernelspec": {
   "display_name": "Python 3",
   "language": "python",
   "name": "python3"
  },
  "language_info": {
   "codemirror_mode": {
    "name": "ipython",
    "version": 3
   },
   "file_extension": ".py",
   "mimetype": "text/x-python",
   "name": "python",
   "nbconvert_exporter": "python",
   "pygments_lexer": "ipython3",
   "version": "3.6.8"
  }
 },
 "nbformat": 4,
 "nbformat_minor": 2
}
