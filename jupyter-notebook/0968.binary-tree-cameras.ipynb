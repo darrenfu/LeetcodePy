{
 "cells": [
  {
   "cell_type": "code",
   "execution_count": 2,
   "metadata": {},
   "outputs": [],
   "source": [
    "import sys\n",
    "sys.path.append('..')\n",
    "from leetcode.tree.treenode import TreeNode"
   ]
  },
  {
   "cell_type": "code",
   "execution_count": 3,
   "metadata": {},
   "outputs": [],
   "source": [
    "# Greedy\n",
    "# 1. Set cameras on all leaves' parents, then remove all covered nodes.\n",
    "# 2. Repeat step 1 until all nodes are covered.\n",
    "# https://leetcode.com/problems/binary-tree-cameras/discuss/211180/JavaC%2B%2BPython-Greedy-DFS\n",
    "class Solution:\n",
    "    def minCameraCover(self, root: TreeNode) -> int:\n",
    "        cameras = 0\n",
    "        def dfs(r: TreeNode) -> int:\n",
    "            nonlocal cameras\n",
    "            if not r: return 2 # placeholder\n",
    "            L, R = dfs(r.left), dfs(r.right)\n",
    "            if L == 0 or R == 0:\n",
    "                cameras += 1\n",
    "                return 1  # parent of leaf node, install a camera\n",
    "            if L == 1 or R == 1:\n",
    "                return 2  # covered without a camera\n",
    "            return 0  # leaf node\n",
    "        return (dfs(root) == 0) + cameras  # camera on root + rest cameras"
   ]
  },
  {
   "cell_type": "code",
   "execution_count": 4,
   "metadata": {},
   "outputs": [
    {
     "data": {
      "text/plain": [
       "1"
      ]
     },
     "execution_count": 4,
     "metadata": {},
     "output_type": "execute_result"
    }
   ],
   "source": [
    "root = TreeNode.deserialize('[0,0,null,0,0]')\n",
    "Solution().minCameraCover(root)"
   ]
  },
  {
   "cell_type": "code",
   "execution_count": 5,
   "metadata": {},
   "outputs": [
    {
     "data": {
      "text/plain": [
       "2"
      ]
     },
     "execution_count": 5,
     "metadata": {},
     "output_type": "execute_result"
    }
   ],
   "source": [
    "root = TreeNode.deserialize('[0,0,null,0,null,0,null,null,0]')\n",
    "Solution().minCameraCover(root)"
   ]
  },
  {
   "cell_type": "code",
   "execution_count": null,
   "metadata": {},
   "outputs": [],
   "source": []
  }
 ],
 "metadata": {
  "kernelspec": {
   "display_name": "Python 3",
   "language": "python",
   "name": "python3"
  },
  "language_info": {
   "codemirror_mode": {
    "name": "ipython",
    "version": 3
   },
   "file_extension": ".py",
   "mimetype": "text/x-python",
   "name": "python",
   "nbconvert_exporter": "python",
   "pygments_lexer": "ipython3",
   "version": "3.6.8"
  }
 },
 "nbformat": 4,
 "nbformat_minor": 2
}
