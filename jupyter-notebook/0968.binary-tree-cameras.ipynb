{
 "cells": [
  {
   "cell_type": "markdown",
   "metadata": {},
   "source": [
    "### [968\\. Binary Tree Cameras](https://leetcode.com/problems/binary-tree-cameras/)\n",
    "\n",
    "Difficulty: **Hard**\n",
    "\n",
    "\n",
    "Given a binary tree, we install cameras on the nodes of the tree. \n",
    "\n",
    "Each camera at a node can monitor **its parent, itself, and its immediate children**.\n",
    "\n",
    "Calculate the minimum number of cameras needed to monitor all nodes of the tree.\n",
    "\n",
    "**Example 1:**\n",
    "\n",
    "![](https://assets.leetcode.com/uploads/2018/12/29/bst_cameras_01.png)\n",
    "\n",
    "\n",
    "```\n",
    "Input: [0,0,null,0,0]\n",
    "Output: 1\n",
    "Explanation: One camera is enough to monitor all nodes if placed as shown.\n",
    "```\n",
    "\n",
    "\n",
    "**Example 2:**\n",
    "\n",
    "![](https://assets.leetcode.com/uploads/2018/12/29/bst_cameras_02.png)\n",
    "\n",
    "```\n",
    "Input: [0,0,null,0,null,0,null,null,0]\n",
    "Output: 2\n",
    "Explanation: At least two cameras are needed to monitor all nodes of the tree. The above image shows one of the valid configurations of camera placement.\n",
    "```\n",
    "\n",
    "**Note:**\n",
    "\n",
    "1.  The number of nodes in the given tree will be in the range `[1, 1000]`.\n",
    "2.  **Every** node has value 0."
   ]
  },
  {
   "cell_type": "code",
   "execution_count": 3,
   "metadata": {},
   "outputs": [],
   "source": [
    "import sys\n",
    "sys.path.append('..')\n",
    "from leetcode.tree.treenode import TreeNode"
   ]
  },
  {
   "cell_type": "code",
   "execution_count": 15,
   "metadata": {},
   "outputs": [],
   "source": [
    "# Greedy\n",
    "# 1. Set cameras on all leaves' parents, then remove all covered nodes.\n",
    "# 2. Repeat step 1 until all nodes are covered.\n",
    "# https://leetcode.com/problems/binary-tree-cameras/discuss/211180/JavaC%2B%2BPython-Greedy-DFS\n",
    "class Solution:\n",
    "    def minCameraCover(self, root: TreeNode) -> int:\n",
    "        cameras = 0\n",
    "        NOT_COVERED = 0\n",
    "        INSTALLED = 1 # a camera is installed on this node\n",
    "        COVERED = 2 # covered but without camera installed\n",
    "        def dfs(node: TreeNode) -> int:\n",
    "            nonlocal cameras\n",
    "            if not node: return COVERED # placeholder, why?\n",
    "            L, R = dfs(node.left), dfs(node.right)\n",
    "            if L == NOT_COVERED or R == NOT_COVERED: # if one of child is not covered, install one camera on parent\n",
    "                cameras += 1\n",
    "                return INSTALLED\n",
    "            if L == INSTALLED or R == INSTALLED: # if one of child has camera installed, return covered\n",
    "                return COVERED\n",
    "            return NOT_COVERED  # leaf node\n",
    "        return (dfs(root) == NOT_COVERED) + cameras # edge case: if root is not covered by camera"
   ]
  },
  {
   "cell_type": "code",
   "execution_count": 20,
   "metadata": {},
   "outputs": [],
   "source": [
    "# DP\n",
    "class Solution:\n",
    "    def minCameraCover(self, root: TreeNode) -> int:\n",
    "        "
   ]
  },
  {
   "cell_type": "code",
   "execution_count": 21,
   "metadata": {},
   "outputs": [
    {
     "data": {
      "text/plain": [
       "1"
      ]
     },
     "execution_count": 21,
     "metadata": {},
     "output_type": "execute_result"
    }
   ],
   "source": [
    "root = TreeNode.deserialize('[0,0,null,0,0]')\n",
    "Solution().minCameraCover(root)"
   ]
  },
  {
   "cell_type": "code",
   "execution_count": 22,
   "metadata": {},
   "outputs": [
    {
     "data": {
      "text/plain": [
       "0"
      ]
     },
     "execution_count": 22,
     "metadata": {},
     "output_type": "execute_result"
    }
   ],
   "source": [
    "root = TreeNode.deserialize('[0,0,null,0,null,0,null,null,0]')\n",
    "Solution().minCameraCover(root)"
   ]
  },
  {
   "cell_type": "code",
   "execution_count": null,
   "metadata": {},
   "outputs": [],
   "source": []
  }
 ],
 "metadata": {
  "kernelspec": {
   "display_name": "Python 3",
   "language": "python",
   "name": "python3"
  },
  "language_info": {
   "codemirror_mode": {
    "name": "ipython",
    "version": 3
   },
   "file_extension": ".py",
   "mimetype": "text/x-python",
   "name": "python",
   "nbconvert_exporter": "python",
   "pygments_lexer": "ipython3",
   "version": "3.6.8"
  }
 },
 "nbformat": 4,
 "nbformat_minor": 2
}
