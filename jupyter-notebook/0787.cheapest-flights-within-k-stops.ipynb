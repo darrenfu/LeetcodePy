{
 "cells": [
  {
   "cell_type": "markdown",
   "metadata": {},
   "source": [
    "### [787\\. Cheapest Flights Within K Stops](https://leetcode.com/problems/cheapest-flights-within-k-stops/)\n",
    "\n",
    "Difficulty: **Medium**\n",
    "\n",
    "\n",
    "There are `n` cities connected by `m` flights. Each fight starts from city `u` and arrives at `v` with a price `w`.\n",
    "\n",
    "Now given all the cities and flights, together with starting city `src` and the destination `dst`, your task is to find the cheapest price from `src` to `dst` with up to `k` stops. If there is no such route, output `-1`.\n",
    "\n",
    "```\n",
    "Example 1:\n",
    "Input: \n",
    "n = 3, edges = [[0,1,100],[1,2,100],[0,2,500]]\n",
    "src = 0, dst = 2, k = 1\n",
    "Output: 200\n",
    "Explanation: \n",
    "The graph looks like this:\n",
    "\n",
    "The cheapest price from city 0 to city 2 with at most 1 stop costs 200, as marked red in the picture.\n",
    "```\n",
    "\n",
    "```\n",
    "Example 2:\n",
    "Input: \n",
    "n = 3, edges = [[0,1,100],[1,2,100],[0,2,500]]\n",
    "src = 0, dst = 2, k = 0\n",
    "Output: 500\n",
    "Explanation: \n",
    "The graph looks like this:\n",
    "\n",
    "The cheapest price from city 0 to city 2 with at most 0 stop costs 500, as marked blue in the picture.\n",
    "```\n",
    "\n",
    "**Note:**\n",
    "\n",
    "*   The number of nodes `n` will be in range `[1, 100]`, with nodes labeled from `0` to `n` `- 1`.\n",
    "*   The size of `flights` will be in range `[0, n * (n - 1) / 2]`.\n",
    "*   The format of each flight will be `(src,` `dst``, price)`.\n",
    "*   The price of each flight will be in the range `[1, 10000]`.\n",
    "*   `k` is in the range of `[0, n - 1]`.\n",
    "*   There will not be any duplicated flights or self cycles.\n"
   ]
  },
  {
   "cell_type": "code",
   "execution_count": 66,
   "metadata": {},
   "outputs": [],
   "source": [
    "# Bellman-Ford\n",
    "# DP + Relaxation\n",
    "# https://leetcode.com/problems/cheapest-flights-within-k-stops/discuss/340911/Understanding-Bellman-Ford\n",
    "from typing import List\n",
    "\n",
    "class Solution:\n",
    "    def findCheapestPrice(self, n: int, edges: List[List[int]], src: int, dst: int, K: int) -> int:\n",
    "        # dp[k][j] means distance to reach City j using at most k edges from City src\n",
    "        # initially edge weight is +inifinite\n",
    "        INF = float('inf')\n",
    "        dp = [[INF] * (n+1) for _ in range(K+2)]\n",
    "        for k in range(K+2):\n",
    "            dp[k][src] = 0 # src->src weight is 0\n",
    "        \n",
    "        for k in range(1, K+2): # 1->K+1 => 1->N-1 in origin algorithm, which means a shortest path can have at most N−1 edges\n",
    "            for edge in edges:\n",
    "                u, v, w = edge[0], edge[1], edge[2]\n",
    "                # relaxation: du + w < dv\n",
    "                if dp[k-1][u] != INF and dp[k-1][u] + w < dp[k][v]:\n",
    "                    dp[k][v] = dp[k-1][u] + w\n",
    "        return -1 if dp[-1][dst] == INF else dp[-1][dst]"
   ]
  },
  {
   "cell_type": "code",
   "execution_count": 83,
   "metadata": {},
   "outputs": [],
   "source": [
    "# Dijkstra\n",
    "from typing import List\n",
    "from collections import defaultdict\n",
    "from heapq import heappush, heappop\n",
    "\n",
    "class Solution:\n",
    "    def findCheapestPrice(self, n: int, edges: List[List[int]], src: int, dst: int, K: int) -> int:\n",
    "        INF = float('inf')\n",
    "        graph = defaultdict(dict)\n",
    "        for u, v, w in edges:\n",
    "            graph[u][v] = w\n",
    "        heap = [(0,src,K+1)] # cost, city, stops\n",
    "        while heap:\n",
    "            cost, city, stops = heappop(heap)\n",
    "             # up to K stops means: up to K+1 steps including dst\n",
    "            if dst == city:\n",
    "                return cost\n",
    "            if stops <= 0:\n",
    "                continue\n",
    "            #print(f\"=={city}==\")\n",
    "            for nbr_city, nbr_cost in graph[city].items():\n",
    "                new_cost = cost + nbr_cost\n",
    "                new_stops = stops-1\n",
    "                heappush(heap, (new_cost, nbr_city, new_stops))\n",
    "            #print(heap)\n",
    "        return -1"
   ]
  },
  {
   "cell_type": "code",
   "execution_count": 126,
   "metadata": {},
   "outputs": [],
   "source": [
    "# Dijkstra - with better pruning\n",
    "# Follow-ups: \n",
    "# 1. print all paths with cheapest-price\n",
    "# 2. solve with multiple solutions\n",
    "from typing import List\n",
    "from collections import defaultdict\n",
    "from heapq import heappush, heappop\n",
    "\n",
    "class Solution:\n",
    "    def findCheapestPrice(self, n: int, edges: List[List[int]], src: int, dst: int, K: int) -> int:\n",
    "        INF = float('inf')\n",
    "        graph = defaultdict(dict)\n",
    "        for u, v, w in edges:\n",
    "            graph[u][v] = w\n",
    "        best = {} # key: (stops, city), value: cost\n",
    "        paths = {}\n",
    "        heap = [(0,src,K+1)] # cost, city, stops\n",
    "        res = []\n",
    "        final_cost = INF\n",
    "        while heap:\n",
    "            cost, city, stops = heappop(heap)\n",
    "            #print(cost, city, stops)\n",
    "             # up to K stops means: up to K+1 steps including dst\n",
    "            if cost > final_cost:\n",
    "                break\n",
    "            if dst == city:\n",
    "                final_cost = cost\n",
    "                for path in paths[stops, city]:\n",
    "                    res.append(path)\n",
    "            if stops <= 0 or cost > best.get((stops, city), INF): # pruning by two conditions\n",
    "                continue\n",
    "            for nbr_city, nbr_cost in graph[city].items():\n",
    "                new_cost = cost + nbr_cost\n",
    "                new_stops = stops-1\n",
    "                if new_cost < best.get((new_stops, nbr_city), INF):\n",
    "                    heappush(heap, (new_cost, nbr_city, new_stops))\n",
    "                    best[new_stops, nbr_city] = new_cost\n",
    "                    paths[new_stops, nbr_city] = [ path + [nbr_city] for path in paths.get((stops, city), [[]]) ]\n",
    "                elif new_cost == best.get((new_stops, nbr_city), INF):\n",
    "                    paths[new_stops, nbr_city].extend([ path + [nbr_city] for path in paths.get((stops, city), [[]]) ])\n",
    "            #print(heap)\n",
    "        return res"
   ]
  },
  {
   "cell_type": "code",
   "execution_count": 127,
   "metadata": {},
   "outputs": [
    {
     "data": {
      "text/plain": [
       "[[1, 2]]"
      ]
     },
     "execution_count": 127,
     "metadata": {},
     "output_type": "execute_result"
    }
   ],
   "source": [
    "Solution().findCheapestPrice(n = 3, edges = [[0,1,100],[1,2,100],[0,2,500]], src = 0, dst = 2, K = 1)"
   ]
  },
  {
   "cell_type": "code",
   "execution_count": 128,
   "metadata": {},
   "outputs": [
    {
     "data": {
      "text/plain": [
       "[[8, 7, 0]]"
      ]
     },
     "execution_count": 128,
     "metadata": {},
     "output_type": "execute_result"
    }
   ],
   "source": [
    "Solution().findCheapestPrice(n = 10, edges = [[3,4,4],[2,5,6],[4,7,10],[9,6,5],[7,4,4],[6,2,10],[6,8,6],[7,9,4],[1,5,4],[1,0,4],[9,7,3],[7,0,5],[6,5,8],[1,7,6],[4,0,9],[5,9,1],[8,7,3],[1,2,6],[4,1,5],[5,2,4],[1,9,1],[7,8,10],[0,4,2],[7,2,8]], src = 6, dst = 0, K = 7)"
   ]
  },
  {
   "cell_type": "code",
   "execution_count": 129,
   "metadata": {},
   "outputs": [
    {
     "data": {
      "text/plain": [
       "[[1, 2, 3], [4, 2, 3], [2, 3], [3]]"
      ]
     },
     "execution_count": 129,
     "metadata": {},
     "output_type": "execute_result"
    }
   ],
   "source": [
    "# multi-path case\n",
    "Solution().findCheapestPrice(n = 5, edges = [[0,1,1],[1,2,1],[0,4,1],[4,2,1],[0,2,2],[0,3,4],[2,3,2]], src = 0, dst = 3, K = 2)"
   ]
  },
  {
   "cell_type": "code",
   "execution_count": null,
   "metadata": {},
   "outputs": [],
   "source": []
  },
  {
   "cell_type": "code",
   "execution_count": null,
   "metadata": {},
   "outputs": [],
   "source": []
  }
 ],
 "metadata": {
  "kernelspec": {
   "display_name": "Python 3",
   "language": "python",
   "name": "python3"
  },
  "language_info": {
   "codemirror_mode": {
    "name": "ipython",
    "version": 3
   },
   "file_extension": ".py",
   "mimetype": "text/x-python",
   "name": "python",
   "nbconvert_exporter": "python",
   "pygments_lexer": "ipython3",
   "version": "3.6.8"
  }
 },
 "nbformat": 4,
 "nbformat_minor": 2
}
