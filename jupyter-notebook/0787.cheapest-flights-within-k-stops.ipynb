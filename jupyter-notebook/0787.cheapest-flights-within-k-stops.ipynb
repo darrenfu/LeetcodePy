{
 "cells": [
  {
   "cell_type": "markdown",
   "metadata": {},
   "source": [
    "### [787\\. Cheapest Flights Within K Stops](https://leetcode.com/problems/cheapest-flights-within-k-stops/)\n",
    "\n",
    "Difficulty: **Medium**\n",
    "\n",
    "\n",
    "There are `n` cities connected by `m` flights. Each fight starts from city `u` and arrives at `v` with a price `w`.\n",
    "\n",
    "Now given all the cities and flights, together with starting city `src` and the destination `dst`, your task is to find the cheapest price from `src` to `dst` with up to `k` stops. If there is no such route, output `-1`.\n",
    "\n",
    "```\n",
    "Example 1:\n",
    "Input: \n",
    "n = 3, edges = [[0,1,100],[1,2,100],[0,2,500]]\n",
    "src = 0, dst = 2, k = 1\n",
    "Output: 200\n",
    "Explanation: \n",
    "The graph looks like this:\n",
    "\n",
    "The cheapest price from city 0 to city 2 with at most 1 stop costs 200, as marked red in the picture.\n",
    "```\n",
    "\n",
    "```\n",
    "Example 2:\n",
    "Input: \n",
    "n = 3, edges = [[0,1,100],[1,2,100],[0,2,500]]\n",
    "src = 0, dst = 2, k = 0\n",
    "Output: 500\n",
    "Explanation: \n",
    "The graph looks like this:\n",
    "\n",
    "The cheapest price from city 0 to city 2 with at most 0 stop costs 500, as marked blue in the picture.\n",
    "```\n",
    "\n",
    "**Note:**\n",
    "\n",
    "*   The number of nodes `n` will be in range `[1, 100]`, with nodes labeled from `0` to `n` `- 1`.\n",
    "*   The size of `flights` will be in range `[0, n * (n - 1) / 2]`.\n",
    "*   The format of each flight will be `(src,` `dst``, price)`.\n",
    "*   The price of each flight will be in the range `[1, 10000]`.\n",
    "*   `k` is in the range of `[0, n - 1]`.\n",
    "*   There will not be any duplicated flights or self cycles.\n"
   ]
  },
  {
   "cell_type": "code",
   "execution_count": 7,
   "metadata": {},
   "outputs": [],
   "source": [
    "# Bellman-Ford\n",
    "# DP + Relaxation\n",
    "# https://leetcode.com/problems/cheapest-flights-within-k-stops/discuss/340911/Understanding-Bellman-Ford\n",
    "from typing import List\n",
    "\n",
    "class Solution:\n",
    "    def findCheapestPrice(self, n: int, edges: List[List[int]], src: int, dst: int, K: int) -> int:\n",
    "        # dp[k][j] means distance to reach City j using at most k edges from City src\n",
    "        # initially edge weight is +inifinite\n",
    "        INF = float('inf')\n",
    "        dp = [[INF] * (n+1) for _ in range(K+2)]\n",
    "        for k in range(K+2):\n",
    "            dp[k][src] = 0 # src->src weight is 0\n",
    "        \n",
    "        for k in range(1, K+2): # 1->K+1 => 1->N-1 in origin algorithm, which means a shortest path can have at most N−1 edges\n",
    "            for edge in edges:\n",
    "                u, v, w = edge[0], edge[1], edge[2]\n",
    "                # relaxation: du + w < dv\n",
    "                if dp[k-1][u] != INF and dp[k-1][u] + w < dp[k][v]:\n",
    "                    dp[k][v] = dp[k-1][u] + w\n",
    "        return -1 if dp[-1][dst] == INF else dp[-1][dst]"
   ]
  },
  {
   "cell_type": "code",
   "execution_count": 8,
   "metadata": {},
   "outputs": [
    {
     "data": {
      "text/plain": [
       "200"
      ]
     },
     "execution_count": 8,
     "metadata": {},
     "output_type": "execute_result"
    }
   ],
   "source": [
    "Solution().findCheapestPrice(n = 3, edges = [[0,1,100],[1,2,100],[0,2,500]], src = 0, dst = 2, K = 1)"
   ]
  },
  {
   "cell_type": "code",
   "execution_count": null,
   "metadata": {},
   "outputs": [],
   "source": []
  }
 ],
 "metadata": {
  "kernelspec": {
   "display_name": "Python 3",
   "language": "python",
   "name": "python3"
  },
  "language_info": {
   "codemirror_mode": {
    "name": "ipython",
    "version": 3
   },
   "file_extension": ".py",
   "mimetype": "text/x-python",
   "name": "python",
   "nbconvert_exporter": "python",
   "pygments_lexer": "ipython3",
   "version": "3.6.8"
  }
 },
 "nbformat": 4,
 "nbformat_minor": 2
}
