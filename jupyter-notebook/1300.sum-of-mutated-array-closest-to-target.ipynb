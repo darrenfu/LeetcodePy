{
 "cells": [
  {
   "cell_type": "markdown",
   "metadata": {},
   "source": [
    "### [1300\\. Sum of Mutated Array Closest to Target](https://leetcode.com/problems/sum-of-mutated-array-closest-to-target/)\n",
    "\n",
    "Difficulty: **Medium**\n",
    "\n",
    "\n",
    "Given an integer array `arr` and a target value `target`, return the integer `value` such that when we change all the integers larger than `value` in the given array to be equal to `value`, the sum of the array gets as close as possible (in absolute difference) to `target`.\n",
    "\n",
    "In case of a tie, return the minimum such integer.\n",
    "\n",
    "Notice that the answer is not neccesarilly a number from `arr`.\n",
    "\n",
    "**Example 1:**\n",
    "\n",
    "```\n",
    "Input: arr = [4,9,3], target = 10\n",
    "Output: 3\n",
    "Explanation: When using 3 arr converts to [3, 3, 3] which sums 9 and that's the optimal answer.\n",
    "```\n",
    "\n",
    "**Example 2:**\n",
    "\n",
    "```\n",
    "Input: arr = [2,3,5], target = 10\n",
    "Output: 5\n",
    "```\n",
    "\n",
    "**Example 3:**\n",
    "\n",
    "```\n",
    "Input: arr = [60864,25176,27249,21296,20204], target = 56803\n",
    "Output: 11361\n",
    "```\n",
    "\n",
    "**Constraints:**\n",
    "\n",
    "*   `1 <= arr.length <= 10^4`\n",
    "*   `1 <= arr[i], target <= 10^5`"
   ]
  },
  {
   "cell_type": "code",
   "execution_count": 1,
   "metadata": {},
   "outputs": [],
   "source": [
    "from bisect import *\n",
    "from typing import List\n",
    "\n",
    "class Solution:\n",
    "    def findBestValue(self, arr: List[int], target: int) -> int:\n",
    "        arr.sort()\n",
    "        if sum(arr) <= target:\n",
    "            return arr[-1]\n",
    "        L = len(arr)\n",
    "        lo, hi = 0, 100000\n",
    "        rangesum = 0\n",
    "        global_diff = float('inf')\n",
    "        res = float('inf')\n",
    "        while lo<hi:\n",
    "            mid = (lo+hi)//2\n",
    "            pos = bisect(arr, mid)\n",
    "            # optimize: cache presum results\n",
    "            rangesum = sum(arr[:pos]) if pos > 0 else 0\n",
    "            total = rangesum + mid*(L-pos)\n",
    "            #print(pos, mid, total)\n",
    "            diff = total - target\n",
    "            #print(diff, global_diff, total, lo, mid, hi)\n",
    "            if abs(diff) < global_diff:\n",
    "                global_diff = abs(diff)\n",
    "                res = mid\n",
    "            elif abs(diff) == global_diff:\n",
    "                res = min(res, mid)\n",
    "            if diff > 0:\n",
    "                #print(\"h\", lo, mid, hi)\n",
    "                hi = mid\n",
    "            else:\n",
    "                #print(\"l\", lo, mid, hi)\n",
    "                lo = mid+1\n",
    "        return res"
   ]
  },
  {
   "cell_type": "code",
   "execution_count": 2,
   "metadata": {},
   "outputs": [
    {
     "data": {
      "text/plain": [
       "3"
      ]
     },
     "execution_count": 2,
     "metadata": {},
     "output_type": "execute_result"
    }
   ],
   "source": [
    "Solution().findBestValue(arr = [4,9,3], target = 10)"
   ]
  },
  {
   "cell_type": "code",
   "execution_count": 3,
   "metadata": {},
   "outputs": [
    {
     "data": {
      "text/plain": [
       "5"
      ]
     },
     "execution_count": 3,
     "metadata": {},
     "output_type": "execute_result"
    }
   ],
   "source": [
    "Solution().findBestValue(arr = [2,3,5], target = 10)"
   ]
  },
  {
   "cell_type": "code",
   "execution_count": 4,
   "metadata": {},
   "outputs": [
    {
     "data": {
      "text/plain": [
       "11361"
      ]
     },
     "execution_count": 4,
     "metadata": {},
     "output_type": "execute_result"
    }
   ],
   "source": [
    "Solution().findBestValue(arr = [60864,25176,27249,21296,20204], target = 56803)"
   ]
  },
  {
   "cell_type": "code",
   "execution_count": 7,
   "metadata": {},
   "outputs": [
    {
     "data": {
      "text/plain": [
       "0"
      ]
     },
     "execution_count": 7,
     "metadata": {},
     "output_type": "execute_result"
    }
   ],
   "source": [
    "Solution().findBestValue(arr = [1,3,5], target = 1)"
   ]
  },
  {
   "cell_type": "code",
   "execution_count": null,
   "metadata": {},
   "outputs": [],
   "source": []
  }
 ],
 "metadata": {
  "kernelspec": {
   "display_name": "Python 3",
   "language": "python",
   "name": "python3"
  },
  "language_info": {
   "codemirror_mode": {
    "name": "ipython",
    "version": 3
   },
   "file_extension": ".py",
   "mimetype": "text/x-python",
   "name": "python",
   "nbconvert_exporter": "python",
   "pygments_lexer": "ipython3",
   "version": "3.6.8"
  }
 },
 "nbformat": 4,
 "nbformat_minor": 2
}
