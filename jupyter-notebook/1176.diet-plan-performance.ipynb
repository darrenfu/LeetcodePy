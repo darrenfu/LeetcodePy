{
 "cells": [
  {
   "cell_type": "code",
   "execution_count": 10,
   "metadata": {},
   "outputs": [],
   "source": [
    "%config IPCompleter.greedy=True"
   ]
  },
  {
   "cell_type": "code",
   "execution_count": 11,
   "metadata": {},
   "outputs": [],
   "source": [
    "from typing import List\n",
    "\n",
    "class Solution:\n",
    "    def dietPlanPerformance(self, calories: List[int], k: int, lower: int, upper: int) -> int:\n",
    "        s, e = 0, k\n",
    "        L = len(calories)\n",
    "        win_sum = sum(calories[s:e])\n",
    "        total_score = 0\n",
    "        def scoring(total_cal: int) -> int:\n",
    "            nonlocal lower\n",
    "            nonlocal upper\n",
    "            if total_cal < lower: return -1\n",
    "            if total_cal > upper: return 1\n",
    "            return 0\n",
    "        total_score += scoring(win_sum)\n",
    "        while e < L:\n",
    "            win_sum = win_sum - calories[s] + calories[e]\n",
    "            total_score += scoring(win_sum)\n",
    "            s += 1\n",
    "            e += 1\n",
    "        return total_score"
   ]
  },
  {
   "cell_type": "code",
   "execution_count": 12,
   "metadata": {},
   "outputs": [
    {
     "data": {
      "text/plain": [
       "1"
      ]
     },
     "execution_count": 12,
     "metadata": {},
     "output_type": "execute_result"
    }
   ],
   "source": [
    "Solution().dietPlanPerformance(calories = [3,2], k = 2, lower = 0, upper = 1)"
   ]
  },
  {
   "cell_type": "code",
   "execution_count": 13,
   "metadata": {},
   "outputs": [
    {
     "data": {
      "text/plain": [
       "0"
      ]
     },
     "execution_count": 13,
     "metadata": {},
     "output_type": "execute_result"
    }
   ],
   "source": [
    "Solution().dietPlanPerformance(calories = [6,5,0,0], k = 2, lower = 1, upper = 5)"
   ]
  }
 ],
 "metadata": {
  "kernelspec": {
   "display_name": "Python 3",
   "language": "python",
   "name": "python3"
  },
  "language_info": {
   "codemirror_mode": {
    "name": "ipython",
    "version": 3
   },
   "file_extension": ".py",
   "mimetype": "text/x-python",
   "name": "python",
   "nbconvert_exporter": "python",
   "pygments_lexer": "ipython3",
   "version": "3.6.8"
  }
 },
 "nbformat": 4,
 "nbformat_minor": 2
}
