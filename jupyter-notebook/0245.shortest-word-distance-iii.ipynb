{
 "cells": [
  {
   "cell_type": "code",
   "execution_count": 27,
   "metadata": {},
   "outputs": [],
   "source": [
    "# Runtime: 68 ms, faster than 97.13%\n",
    "from typing import List\n",
    "\n",
    "class Solution:\n",
    "    def shortestWordDistance(self, words: List[str], word1: str, word2: str) -> int:\n",
    "        idxes = [-1, -1]\n",
    "        j = 0\n",
    "        identical = word1 == word2\n",
    "        shortest = len(words)\n",
    "        for i, w in enumerate(words):\n",
    "            prev = cur = 0\n",
    "            if w == word1:\n",
    "                if identical: # handling word1 == word2 case\n",
    "                    idxes[j % 2] = i\n",
    "                    cur = idxes[j % 2]\n",
    "                    j += 1\n",
    "                    prev = idxes[j % 2]\n",
    "                else:\n",
    "                    idxes[0] = i\n",
    "                    cur, prev = idxes[0], idxes[1]\n",
    "            elif w == word2:\n",
    "                idxes[1] = i\n",
    "                prev, cur = idxes[0], idxes[1]\n",
    "            else:\n",
    "                continue\n",
    "#             print(prev, cur)\n",
    "            if prev != -1 and shortest > cur-prev:\n",
    "                shortest = cur-prev\n",
    "        return shortest"
   ]
  },
  {
   "cell_type": "code",
   "execution_count": 30,
   "metadata": {},
   "outputs": [],
   "source": [
    "# Short version (slower)\n",
    "# Runtime: 72 ms, faster than 87.00%\n",
    "# https://leetcode.com/problems/shortest-word-distance-iii/discuss/67097/12-16-lines-Java-C%2B%2B\n",
    "from typing import List\n",
    "\n",
    "class Solution:\n",
    "    def shortestWordDistance(self, words: List[str], word1: str, word2: str) -> int:\n",
    "        L = len(words)\n",
    "        shortest = L\n",
    "        i1, i2 = L, -L\n",
    "        identical = word1 == word2\n",
    "        shortest = len(words)\n",
    "        for i, w in enumerate(words):\n",
    "            if w == word1:\n",
    "                i1 = i\n",
    "            if w == word2:\n",
    "                if identical:\n",
    "                    i1 = i2\n",
    "                i2 = i\n",
    "            shortest = min(shortest, abs(i1-i2))\n",
    "        return shortest"
   ]
  },
  {
   "cell_type": "code",
   "execution_count": 31,
   "metadata": {},
   "outputs": [
    {
     "data": {
      "text/plain": [
       "1"
      ]
     },
     "execution_count": 31,
     "metadata": {},
     "output_type": "execute_result"
    }
   ],
   "source": [
    "Solution().shortestWordDistance(words = [\"practice\", \"makes\", \"perfect\", \"coding\", \"makes\"], word1=\"makes\", word2=\"coding\")"
   ]
  },
  {
   "cell_type": "code",
   "execution_count": 32,
   "metadata": {},
   "outputs": [
    {
     "data": {
      "text/plain": [
       "3"
      ]
     },
     "execution_count": 32,
     "metadata": {},
     "output_type": "execute_result"
    }
   ],
   "source": [
    "Solution().shortestWordDistance(words = [\"practice\", \"makes\", \"perfect\", \"coding\", \"makes\"], word1=\"makes\", word2=\"makes\")"
   ]
  },
  {
   "cell_type": "code",
   "execution_count": null,
   "metadata": {},
   "outputs": [],
   "source": []
  }
 ],
 "metadata": {
  "kernelspec": {
   "display_name": "Python 3",
   "language": "python",
   "name": "python3"
  },
  "language_info": {
   "codemirror_mode": {
    "name": "ipython",
    "version": 3
   },
   "file_extension": ".py",
   "mimetype": "text/x-python",
   "name": "python",
   "nbconvert_exporter": "python",
   "pygments_lexer": "ipython3",
   "version": "3.6.8"
  }
 },
 "nbformat": 4,
 "nbformat_minor": 2
}
