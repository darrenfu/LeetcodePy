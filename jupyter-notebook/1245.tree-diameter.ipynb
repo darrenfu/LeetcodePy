{
 "cells": [
  {
   "cell_type": "code",
   "execution_count": 48,
   "metadata": {},
   "outputs": [],
   "source": [
    "# BFS starting from leaf nodes traverse to the other side of the leaf nodes (the farthest is the answer)\n",
    "#* https://leetcode.com/problems/tree-diameter/discuss/418824/Python3-BFS\n",
    "# Similar problems: https://leetcode.com/problems/tree-diameter/discuss/418906/Python-bottom-up-DFS-solution-(similar-problems-listed)\n",
    "# Runtime: 532 ms\n",
    "from typing import List, Set, Tuple\n",
    "from collections import defaultdict\n",
    "\n",
    "class Solution:\n",
    "    def treeDiameter(self, edges: List[List[int]]) -> int:\n",
    "        graph = defaultdict(set)\n",
    "        for u, v in edges:\n",
    "            graph[u].add(v)\n",
    "            graph[v].add(u)\n",
    "        def bfs(q: Set[Tuple[int, int]]) -> int:\n",
    "            move = 0\n",
    "            while q:\n",
    "    #             print(q)\n",
    "                newq = set()\n",
    "#                 {(v, u) for u, pre in bfs for v in graph[u] if v != pre}\n",
    "                for node, prev in q:\n",
    "                    for neighbor in graph[node]:\n",
    "                        if neighbor != prev:\n",
    "                            newq.add((neighbor, node))\n",
    "                q = newq\n",
    "                move += 1\n",
    "            return move-1\n",
    "        q = {(k, -1) for k, v in graph.items() if len(v) == 1}\n",
    "        move = bfs(q)\n",
    "        return max(move,0)"
   ]
  },
  {
   "cell_type": "code",
   "execution_count": 52,
   "metadata": {},
   "outputs": [],
   "source": [
    "# BFS Twice (or DFS twice)\n",
    "# step 1: find the furthest node v from a random node u (say node 0)\n",
    "# step 2: find the furthest node w from node v\n",
    "# result: edge number between w and v\n",
    "# Runtime: 224 ms, faster than 40.00%\n",
    "from typing import List\n",
    "from collections import defaultdict\n",
    "\n",
    "class Solution:\n",
    "    def treeDiameter(self, edges: List[List[int]]) -> int:\n",
    "        if not edges: return 0\n",
    "        graph = defaultdict(set)\n",
    "        for u, v in edges:\n",
    "            graph[u].add(v)\n",
    "            graph[v].add(u)\n",
    "        def bfs(node: int) -> (int, int):\n",
    "            q = [node]\n",
    "            seen = set(q)\n",
    "            depth = 0\n",
    "            while q:\n",
    "                for _ in range(len(q)):\n",
    "                    node = q.pop()\n",
    "                    for neighbor in graph[node]:\n",
    "                        if neighbor not in seen:\n",
    "                            seen.add(neighbor)\n",
    "                            q.insert(0, neighbor)\n",
    "                depth += 1\n",
    "            return node, depth\n",
    "            \n",
    "        far1, _ = bfs(0) # find farthest node from any node\n",
    "        far2, res = bfs(far1) # find the other node at the other side of the tree diameter\n",
    "        return res-1"
   ]
  },
  {
   "cell_type": "code",
   "execution_count": 10,
   "metadata": {},
   "outputs": [],
   "source": [
    "# DFS\n",
    "# Runtime: 192 ms, faster than 97.51% \n",
    "from typing import List\n",
    "from collections import defaultdict\n",
    "\n",
    "class Solution:\n",
    "    def treeDiameter(self, edges: List[List[int]]) -> int:\n",
    "        if not edges: return 0\n",
    "        graph = defaultdict(set)\n",
    "        for u, v in edges:\n",
    "            graph[u].add(v)\n",
    "            graph[v].add(u)\n",
    "            \n",
    "        def dfs(node: int, parent: int) -> int:\n",
    "            nonlocal diameter\n",
    "            d1, d2 = 0, 0 # farthest and 2nd farthest\n",
    "            for v in graph[node]:\n",
    "                if v != parent:\n",
    "                    d = dfs(v, node)\n",
    "                    if d > d1: # farthest changed\n",
    "                        d1, d2 = d, d1 # update farthest and 2nd farthest\n",
    "                    elif d > d2: # second farthest changed\n",
    "                        d2 = d # update 2nd farthest\n",
    "            diameter = max(diameter, d1+d2+1)\n",
    "            return d1 + 1\n",
    "        diameter = 0\n",
    "        dfs(0, -1)\n",
    "        return diameter-1"
   ]
  },
  {
   "cell_type": "code",
   "execution_count": 11,
   "metadata": {},
   "outputs": [
    {
     "data": {
      "text/plain": [
       "4"
      ]
     },
     "execution_count": 11,
     "metadata": {},
     "output_type": "execute_result"
    }
   ],
   "source": [
    "Solution().treeDiameter([[0,1],[1,2],[2,3],[1,4],[4,5]])"
   ]
  },
  {
   "cell_type": "code",
   "execution_count": null,
   "metadata": {},
   "outputs": [],
   "source": []
  }
 ],
 "metadata": {
  "kernelspec": {
   "display_name": "Python 3",
   "language": "python",
   "name": "python3"
  },
  "language_info": {
   "codemirror_mode": {
    "name": "ipython",
    "version": 3
   },
   "file_extension": ".py",
   "mimetype": "text/x-python",
   "name": "python",
   "nbconvert_exporter": "python",
   "pygments_lexer": "ipython3",
   "version": "3.6.8"
  }
 },
 "nbformat": 4,
 "nbformat_minor": 2
}
