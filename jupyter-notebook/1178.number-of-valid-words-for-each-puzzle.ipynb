{
 "cells": [
  {
   "cell_type": "code",
   "execution_count": 1,
   "metadata": {},
   "outputs": [],
   "source": [
    "%config IPCompleter.greedy=True"
   ]
  },
  {
   "cell_type": "code",
   "execution_count": 44,
   "metadata": {},
   "outputs": [],
   "source": [
    "# TLE\n",
    "from typing import List\n",
    "\n",
    "class Solution:\n",
    "    def findNumOfValidWords(self, words: List[str], puzzles: List[str]) -> List[int]:\n",
    "        # convert list of string into list of dict (to improve performance, use bool[26] instead of dict())\n",
    "        def array2dicts(str_arr: List[str]) -> List[List[bool]]:\n",
    "            L = len(str_arr)\n",
    "            dicts = [[False] * 26 for _ in range(L)]\n",
    "            for i, w in enumerate(str_arr):\n",
    "                for ch in w:\n",
    "                    dicts[i][ord(ch) - ord('a')] = True\n",
    "            return dicts\n",
    "        wdicts = array2dicts(words)\n",
    "        pdicts = array2dicts(puzzles)\n",
    "        pfirsts = map(lambda p: ord(p[0])-ord('a'), puzzles)\n",
    "        res = []\n",
    "        for pdict, pfirst in zip(pdicts, pfirsts):\n",
    "            sm = 0\n",
    "            for wdict in wdicts:\n",
    "                # condition 1: if puzzle's first letter is in word\n",
    "                a = wdict[pfirst]\n",
    "                # condition 2: if word's every letter is in puzzle\n",
    "                # `not w` means this letter doesn't exist in word\n",
    "                # `or (w and p)` means this letter must exist in both word and puzzle\n",
    "                b = all((not w) or (w and p) for p, w in zip(pdict, wdict))\n",
    "                sm += (a and b)\n",
    "            res.append(sm)\n",
    "        return res"
   ]
  },
  {
   "cell_type": "code",
   "execution_count": 58,
   "metadata": {},
   "outputs": [],
   "source": [
    "# https://leetcode.com/problems/number-of-valid-words-for-each-puzzle/discuss/371864/Python-Solution\n",
    "# Runtime: 828 ms, faster than 73.58%\n",
    "from typing import List\n",
    "from collections import Counter\n",
    "import itertools\n",
    "\n",
    "class Solution:\n",
    "    def findNumOfValidWords(self, words: List[str], puzzles: List[str]) -> List[int]:\n",
    "        # Part I\n",
    "        # 1. for each word, calculate the set of word's letters\n",
    "        # 2. count the number of each unique set, save to a counter, e.g. 'a', 'aa' -> {frozenset('a'): 2}\n",
    "        # Step 2 dedupes the words, and greatly reduces the input number\n",
    "        # T: O(W), S: O(W)\n",
    "        count = Counter(frozenset(w) for w in words)\n",
    "        # Part II\n",
    "        # 1. calculate all subsets of puzzle[1:]\n",
    "        # 2. for each subset of puzzle[1:], check occurrence of frozenset(puzzle[0] + subset) in count above\n",
    "        # 3. add occurrence to final sum\n",
    "        # T: O(2^6 * P), S: O(1)\n",
    "        # 6 = len(puzzle) - first_letter = 7 - 1\n",
    "        # 2^n is for all combinations\n",
    "        ret = []\n",
    "        for p in puzzles:\n",
    "            cnt = 0\n",
    "            for i in range(len(p)): # index starting from 0 because we need to consider the case to concat p[0]\n",
    "                for tpl in itertools.combinations(p[1:], i):  # i is expected length (from 0 to L-1)\n",
    "                    cnt += count[frozenset((p[0],) + tpl)]  # (p[0],) equals to tuple(p[0])\n",
    "            ret += cnt,  # `ret += cnt,` equals to `ret.append(cnt)`\n",
    "        return ret"
   ]
  },
  {
   "cell_type": "code",
   "execution_count": 70,
   "metadata": {},
   "outputs": [],
   "source": [
    "# Same from https://leetcode.com/problems/number-of-valid-words-for-each-puzzle/discuss/371864/Python-Solution\n",
    "# BFS + Bitmask solution\n",
    "# Runtime: 772 ms, faster than 77.36%\n",
    "from typing import List\n",
    "from collections import Counter\n",
    "\n",
    "class Solution:\n",
    "    def findNumOfValidWords(self, words: List[str], puzzles: List[str]) -> List[int]:\n",
    "        def letter_index_binary(ch: str) -> int:\n",
    "            return 1 << (ord(ch) - ord('a'))\n",
    "        # Part I\n",
    "        cnt = Counter()\n",
    "        for w in words:\n",
    "            mask = 0\n",
    "            for ch in w:\n",
    "                # set existing letter digit as 1. Total mask digit number: 26\n",
    "                # e.g. 'ac' -> 00....0101\n",
    "                mask |= letter_index_binary(ch)\n",
    "            cnt[mask] += 1\n",
    "        # Part II\n",
    "        res = []\n",
    "        for p in puzzles:\n",
    "            # BFS to traverse all combinations\n",
    "            bfs = [letter_index_binary(p[0])]\n",
    "            for ch in p[1:]:\n",
    "                bfs += [mask | letter_index_binary(ch) for mask in bfs]\n",
    "            res += sum(cnt[mask] for mask in bfs),\n",
    "        return res"
   ]
  },
  {
   "cell_type": "code",
   "execution_count": 71,
   "metadata": {},
   "outputs": [
    {
     "data": {
      "text/plain": [
       "[1, 1, 3, 2, 4, 0]"
      ]
     },
     "execution_count": 71,
     "metadata": {},
     "output_type": "execute_result"
    }
   ],
   "source": [
    "Solution().findNumOfValidWords(words = [\"aaaa\",\"asas\",\"able\",\"ability\",\"actt\",\"actor\",\"access\"], puzzles = [\"aboveyz\",\"abrodyz\",\"abslute\",\"absoryz\",\"actresz\",\"gaswxyz\"])"
   ]
  },
  {
   "cell_type": "code",
   "execution_count": null,
   "metadata": {},
   "outputs": [],
   "source": []
  }
 ],
 "metadata": {
  "kernelspec": {
   "display_name": "Python 3",
   "language": "python",
   "name": "python3"
  },
  "language_info": {
   "codemirror_mode": {
    "name": "ipython",
    "version": 3
   },
   "file_extension": ".py",
   "mimetype": "text/x-python",
   "name": "python",
   "nbconvert_exporter": "python",
   "pygments_lexer": "ipython3",
   "version": "3.6.8"
  }
 },
 "nbformat": 4,
 "nbformat_minor": 2
}
