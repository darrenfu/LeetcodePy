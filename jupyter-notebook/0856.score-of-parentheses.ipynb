{
 "cells": [
  {
   "cell_type": "markdown",
   "metadata": {},
   "source": [
    "### [856\\. Score of Parentheses](https://leetcode.com/problems/score-of-parentheses/)\n",
    "\n",
    "Difficulty: **Medium**\n",
    "\n",
    "\n",
    "Given a balanced parentheses string `S`, compute the score of the string based on the following rule:\n",
    "\n",
    "*   `()` has score 1\n",
    "*   `AB` has score `A + B`, where A and B are balanced parentheses strings.\n",
    "*   `(A)` has score `2 * A`, where A is a balanced parentheses string.\n",
    "\n",
    "\n",
    "**Example 1:**\n",
    "\n",
    "```\n",
    "Input: \"()\"\n",
    "Output: 1\n",
    "```\n",
    "\n",
    "\n",
    "**Example 2:**\n",
    "\n",
    "```\n",
    "Input: \"(())\"\n",
    "Output: 2\n",
    "```\n",
    "\n",
    "\n",
    "**Example 3:**\n",
    "\n",
    "```\n",
    "Input: \"()()\"\n",
    "Output: 2\n",
    "```\n",
    "\n",
    "\n",
    "**Example 4:**\n",
    "\n",
    "```\n",
    "Input: \"(()(()))\"\n",
    "Output: 6\n",
    "```\n",
    "\n",
    "**Note:**\n",
    "\n",
    "1.  `S` is a balanced parentheses string, containing only `(` and `)`.\n",
    "2.  `2 <= S.length <= 50`"
   ]
  },
  {
   "cell_type": "code",
   "execution_count": 1,
   "metadata": {},
   "outputs": [],
   "source": [
    "class Solution:\n",
    "    def scoreOfParentheses(self, S: str) -> int:\n",
    "        stack = []\n",
    "        for p in S:\n",
    "            if p == '(':\n",
    "                stack.append(-1)\n",
    "            else:\n",
    "                top = stack.pop()\n",
    "                ele = 0\n",
    "                if top != -1:\n",
    "                    stack.pop() # -1\n",
    "                    ele = top * 2\n",
    "                else:\n",
    "                    ele = 1\n",
    "                if stack:\n",
    "                    if stack[-1] != -1:\n",
    "                        top3 = stack.pop()\n",
    "                        ele += top3\n",
    "                stack.append(ele) \n",
    "        return stack[-1]"
   ]
  },
  {
   "cell_type": "code",
   "execution_count": null,
   "metadata": {},
   "outputs": [],
   "source": [
    "# https://leetcode.com/problems/score-of-parentheses/discuss/141777/C%2B%2BJavaPython-O(1)-Space\n",
    "# Tree idea: https://leetcode.com/problems/score-of-parentheses/discuss/141777/C++JavaPython-O(1)-Space/304761\n",
    "class Solution:\n",
    "    def scoreOfParentheses(self, S: str) -> int:\n",
    "        stack, cur = [], 0\n",
    "        for i in S:\n",
    "            if i == '(':\n",
    "                stack.append(cur)\n",
    "                cur = 0\n",
    "            else:\n",
    "                cur += stack.pop() + max(cur, 1)\n",
    "        return cur"
   ]
  }
 ],
 "metadata": {
  "kernelspec": {
   "display_name": "Python 3",
   "language": "python",
   "name": "python3"
  },
  "language_info": {
   "codemirror_mode": {
    "name": "ipython",
    "version": 3
   },
   "file_extension": ".py",
   "mimetype": "text/x-python",
   "name": "python",
   "nbconvert_exporter": "python",
   "pygments_lexer": "ipython3",
   "version": "3.6.8"
  }
 },
 "nbformat": 4,
 "nbformat_minor": 2
}
