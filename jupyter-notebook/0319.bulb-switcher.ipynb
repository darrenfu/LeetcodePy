{
 "cells": [
  {
   "cell_type": "code",
   "execution_count": 1,
   "metadata": {},
   "outputs": [],
   "source": [
    "# Divisors come in pairs, e.g. i=12: 1 and 12, 2 and 6, 3 and 4\n",
    "# Only except when i is a square, e.g. i=36: 1 and 36, 6\n",
    "# https://leetcode.com/problems/bulb-switcher/discuss/77104/Math-solution..\n",
    "import math\n",
    "\n",
    "class Solution:\n",
    "    def bulbSwitch(self, n: int) -> int:\n",
    "        return int(math.sqrt(n))"
   ]
  },
  {
   "cell_type": "code",
   "execution_count": 5,
   "metadata": {},
   "outputs": [],
   "source": [
    "# TLE\n",
    "# https://leetcode.com/problems/bulb-switcher/discuss/77102/Python-Four-solutions-without-sqrt()\n",
    "class Solution:\n",
    "    def bulbSwitch(self, n: int) -> int:\n",
    "        a = [0] * (n+1)\n",
    "        for i in range(1, n+1):\n",
    "            for j in range(0,n+1,i): # step is i [1,n]\n",
    "                a[j] = 1-a[j]\n",
    "        return sum(a[1:])"
   ]
  },
  {
   "cell_type": "code",
   "execution_count": 6,
   "metadata": {},
   "outputs": [
    {
     "data": {
      "text/plain": [
       "3"
      ]
     },
     "execution_count": 6,
     "metadata": {},
     "output_type": "execute_result"
    }
   ],
   "source": [
    "# 1, 4, 9\n",
    "Solution().bulbSwitch(12)"
   ]
  },
  {
   "cell_type": "code",
   "execution_count": 7,
   "metadata": {},
   "outputs": [
    {
     "data": {
      "text/plain": [
       "6"
      ]
     },
     "execution_count": 7,
     "metadata": {},
     "output_type": "execute_result"
    }
   ],
   "source": [
    "# 1, 4, 9, 16, 25, 36\n",
    "Solution().bulbSwitch(36)"
   ]
  },
  {
   "cell_type": "code",
   "execution_count": null,
   "metadata": {},
   "outputs": [],
   "source": []
  }
 ],
 "metadata": {
  "kernelspec": {
   "display_name": "Python 3",
   "language": "python",
   "name": "python3"
  },
  "language_info": {
   "codemirror_mode": {
    "name": "ipython",
    "version": 3
   },
   "file_extension": ".py",
   "mimetype": "text/x-python",
   "name": "python",
   "nbconvert_exporter": "python",
   "pygments_lexer": "ipython3",
   "version": "3.6.8"
  }
 },
 "nbformat": 4,
 "nbformat_minor": 2
}
