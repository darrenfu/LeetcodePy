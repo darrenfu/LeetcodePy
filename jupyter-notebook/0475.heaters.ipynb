{
 "cells": [
  {
   "cell_type": "code",
   "execution_count": 3,
   "metadata": {},
   "outputs": [],
   "source": [
    "# Binary Search\n",
    "# 1. for each house, find (bisect) its position between those heaters (sorted)\n",
    "# 2. calculate the smaller distance between this house and left/right heater. \n",
    "#    Corner case: no left or right heater\n",
    "# 3. Get max value among distances in step above.\n",
    "# Runtime: 328 ms, faster than 65.47%\n",
    "# https://leetcode.com/problems/heaters/discuss/95886/Short-and-Clean-Java-Binary-Search-Solution\n",
    "from typing import List\n",
    "from bisect import *\n",
    "\n",
    "class Solution:\n",
    "    def findRadius(self, houses: List[int], heaters: List[int]) -> int:\n",
    "        heaters.sort()\n",
    "        res = float('-inf')\n",
    "        for house in houses:\n",
    "            idx = bisect_left(heaters, house)\n",
    "            # for Java's Arrays.binarySearch(heaters, house), need to convert idx for edge case\n",
    "#             idx = ~idx # tilde sign means: x = -x-1\n",
    "\n",
    "            # distance between left heater and house\n",
    "            # corner case: no left heater\n",
    "            dist1 = float('inf') if idx == 0 else house - heaters[idx-1]\n",
    "            # distance between house and right heater\n",
    "            # corner case: no right heater\n",
    "            dist2 = float('inf') if idx == len(heaters) else heaters[idx] - house\n",
    "            res = max(res, min(dist1, dist2))\n",
    "        return res"
   ]
  },
  {
   "cell_type": "code",
   "execution_count": 9,
   "metadata": {},
   "outputs": [],
   "source": [
    "# Self implemented bisect_left\n",
    "# Runtime: 452 ms, faster than 23.37% \n",
    "from typing import List\n",
    "\n",
    "class Solution:\n",
    "    def findRadius(self, houses: List[int], heaters: List[int]) -> int:\n",
    "        def bisect_left(A: List[int], pos: int) -> int:\n",
    "            lo, hi = 0, len(A)\n",
    "            while lo < hi:\n",
    "                mid = (lo+hi)//2\n",
    "                if A[mid] < pos: # pos is bigger, go to right part\n",
    "                    lo = mid+1\n",
    "                else:\n",
    "                    hi = mid\n",
    "            return hi\n",
    "            \n",
    "        heaters.sort()\n",
    "        res = float('-inf')\n",
    "        for house in houses:\n",
    "            idx = bisect_left(heaters, house)\n",
    "            # for Java's Arrays.binarySearch(heaters, house), need to convert idx for edge case\n",
    "#             idx = ~idx # tilde sign means: x = -x-1\n",
    "\n",
    "            # distance between left heater and house\n",
    "            # corner case: no left heater\n",
    "            dist1 = float('inf') if idx == 0 else house - heaters[idx-1]\n",
    "            # distance between house and right heater\n",
    "            # corner case: no right heater\n",
    "            dist2 = float('inf') if idx == len(heaters) else heaters[idx] - house\n",
    "            res = max(res, min(dist1, dist2))\n",
    "        return res"
   ]
  },
  {
   "cell_type": "code",
   "execution_count": 55,
   "metadata": {},
   "outputs": [],
   "source": [
    "# Two pointer\n",
    "# Runtime: 312 ms, faster than 89.24% \n",
    "# https://leetcode.com/problems/heaters/discuss/95881/Simple-Java-Solution-with-2-Pointers\n",
    "from typing import List\n",
    "\n",
    "class Solution:\n",
    "    def findRadius(self, houses: List[int], heaters: List[int]) -> int:\n",
    "        houses.sort()\n",
    "        heaters.sort()\n",
    "        res = 0\n",
    "        i = 0\n",
    "        for house in houses:\n",
    "            # find the closest heater to the house\n",
    "            while i < len(heaters)-1 and \\\n",
    "                heaters[i+1] - house < house-heaters[i]:\n",
    "#                 heaters[i] + heaters[i+1] <= house * 2:\n",
    "                i+=1\n",
    "            res = max(res, abs(house-heaters[i]))\n",
    "        return res"
   ]
  },
  {
   "cell_type": "code",
   "execution_count": 56,
   "metadata": {},
   "outputs": [
    {
     "data": {
      "text/plain": [
       "1"
      ]
     },
     "execution_count": 56,
     "metadata": {},
     "output_type": "execute_result"
    }
   ],
   "source": [
    "Solution().findRadius([1,2,3],[2])"
   ]
  },
  {
   "cell_type": "code",
   "execution_count": 57,
   "metadata": {},
   "outputs": [
    {
     "data": {
      "text/plain": [
       "1"
      ]
     },
     "execution_count": 57,
     "metadata": {},
     "output_type": "execute_result"
    }
   ],
   "source": [
    "Solution().findRadius([1,2,3,4],[1,4])"
   ]
  },
  {
   "cell_type": "code",
   "execution_count": 58,
   "metadata": {},
   "outputs": [
    {
     "data": {
      "text/plain": [
       "2"
      ]
     },
     "execution_count": 58,
     "metadata": {},
     "output_type": "execute_result"
    }
   ],
   "source": [
    "Solution().findRadius([1,3,4],[3,5]) # no left heater"
   ]
  },
  {
   "cell_type": "code",
   "execution_count": 59,
   "metadata": {},
   "outputs": [
    {
     "data": {
      "text/plain": [
       "2"
      ]
     },
     "execution_count": 59,
     "metadata": {},
     "output_type": "execute_result"
    }
   ],
   "source": [
    "Solution().findRadius([1,3,6],[0,4]) # no right heater"
   ]
  },
  {
   "cell_type": "code",
   "execution_count": null,
   "metadata": {},
   "outputs": [],
   "source": []
  }
 ],
 "metadata": {
  "kernelspec": {
   "display_name": "Python 3",
   "language": "python",
   "name": "python3"
  },
  "language_info": {
   "codemirror_mode": {
    "name": "ipython",
    "version": 3
   },
   "file_extension": ".py",
   "mimetype": "text/x-python",
   "name": "python",
   "nbconvert_exporter": "python",
   "pygments_lexer": "ipython3",
   "version": "3.6.8"
  }
 },
 "nbformat": 4,
 "nbformat_minor": 2
}
