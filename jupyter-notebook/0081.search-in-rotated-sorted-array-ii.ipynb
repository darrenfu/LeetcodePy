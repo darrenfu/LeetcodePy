{
 "cells": [
  {
   "cell_type": "code",
   "execution_count": 5,
   "metadata": {},
   "outputs": [],
   "source": [
    "from typing import List\n",
    "\n",
    "class Solution:\n",
    "    def search(self, nums: List[int], target: int) -> bool:\n",
    "        L = len(nums)\n",
    "        lo, hi = 0, L-1\n",
    "        while lo <= hi:\n",
    "            mid = lo + (hi-lo)//2\n",
    "            if nums[mid] == target:\n",
    "                return True\n",
    "            while lo < mid and nums[lo] == nums[mid]: # tricky part\n",
    "                lo += 1\n",
    "            # 1. mid in first part\n",
    "            if nums[lo] <= nums[mid]:\n",
    "                if nums[lo] <= target < nums[mid]:\n",
    "                    hi = mid-1\n",
    "                else:\n",
    "                    lo = mid+1\n",
    "            # 2. mid in 2nd part\n",
    "            else:\n",
    "                if nums[mid] < target <= nums[hi]:\n",
    "                    lo = mid+1\n",
    "                else:\n",
    "                    hi = mid-1\n",
    "        return False"
   ]
  },
  {
   "cell_type": "code",
   "execution_count": 6,
   "metadata": {},
   "outputs": [
    {
     "data": {
      "text/plain": [
       "True"
      ]
     },
     "execution_count": 6,
     "metadata": {},
     "output_type": "execute_result"
    }
   ],
   "source": [
    "Solution().search(nums = [2,5,6,0,0,1,2], target = 0)"
   ]
  },
  {
   "cell_type": "code",
   "execution_count": 7,
   "metadata": {},
   "outputs": [
    {
     "data": {
      "text/plain": [
       "False"
      ]
     },
     "execution_count": 7,
     "metadata": {},
     "output_type": "execute_result"
    }
   ],
   "source": [
    "Solution().search(nums = [2,5,6,0,0,1,2], target = 3)"
   ]
  },
  {
   "cell_type": "code",
   "execution_count": 8,
   "metadata": {},
   "outputs": [
    {
     "data": {
      "text/plain": [
       "True"
      ]
     },
     "execution_count": 8,
     "metadata": {},
     "output_type": "execute_result"
    }
   ],
   "source": [
    "Solution().search(nums = [1,3,1,1,1], target = 3) # tricky part logic dealing with this edge case - duplicates in both head and tail"
   ]
  },
  {
   "cell_type": "code",
   "execution_count": null,
   "metadata": {},
   "outputs": [],
   "source": []
  },
  {
   "cell_type": "code",
   "execution_count": null,
   "metadata": {},
   "outputs": [],
   "source": []
  }
 ],
 "metadata": {
  "kernelspec": {
   "display_name": "Python 3",
   "language": "python",
   "name": "python3"
  },
  "language_info": {
   "codemirror_mode": {
    "name": "ipython",
    "version": 3
   },
   "file_extension": ".py",
   "mimetype": "text/x-python",
   "name": "python",
   "nbconvert_exporter": "python",
   "pygments_lexer": "ipython3",
   "version": "3.6.8"
  }
 },
 "nbformat": 4,
 "nbformat_minor": 2
}
