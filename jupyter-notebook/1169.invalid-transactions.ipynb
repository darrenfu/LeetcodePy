{
 "cells": [
  {
   "cell_type": "code",
   "execution_count": 63,
   "metadata": {},
   "outputs": [],
   "source": [
    "# from @wengzhe  \n",
    "from typing import List\n",
    "from collections import defaultdict\n",
    "\n",
    "class Solution:\n",
    "    \"\"\" Brute force solution\n",
    "    \"\"\"\n",
    "    def invalidTransactions(self, transactions: List[str]) -> List[str]:\n",
    "        name_dct = defaultdict(list)\n",
    "        res = []\n",
    "        for t in transactions:\n",
    "            name, time, amount, city = t.split(',')\n",
    "            # name -> (time, amount, city)\n",
    "            name_dct[name].append((int(time), int(amount), city, t))\n",
    "        for k, v in name_dct.items():\n",
    "            arr = sorted(v)\n",
    "            invalid_set = set()\n",
    "            L = len(arr)\n",
    "            for i, (time, amount, city, _) in enumerate(arr):\n",
    "                # filter amount > 1000\n",
    "                if int(amount) > 1000:\n",
    "                    invalid_set.add(i)\n",
    "                for j in range(i-1, -1, -1):\n",
    "                    time2, amount2, city2, _ = arr[j]\n",
    "                    if time - time2 > 60:\n",
    "                        break\n",
    "                    if city2 != city:\n",
    "                        invalid_set.add(i)\n",
    "                        invalid_set.add(j)\n",
    "                for j in range(i+1, L):\n",
    "                    time2, amount2, city2, _ = arr[j]\n",
    "                    if time2 - time > 60:\n",
    "                        break\n",
    "                    if city2 != city:\n",
    "                        invalid_set.add(i)\n",
    "                        invalid_set.add(j)\n",
    "            for i in invalid_set:\n",
    "                res.append(arr[i][-1])\n",
    "        return res"
   ]
  },
  {
   "cell_type": "code",
   "execution_count": 68,
   "metadata": {},
   "outputs": [],
   "source": [
    "# from @neal_wu  \n",
    "from typing import List\n",
    "\n",
    "class Solution:\n",
    "    \"\"\" Brute force solution\n",
    "    \"\"\"\n",
    "    def invalidTransactions(self, transactions: List[str]) -> List[str]:\n",
    "        n = len(transactions)\n",
    "        possible = [False] * n\n",
    "\n",
    "        # zip(*arr) to transpose array from mxn to nxm\n",
    "        arr = [list(t) for t in zip(*[tr.split(',') for tr in transactions])]\n",
    "        names, times, amounts, cities = arr\n",
    "        def str2int(l: List[str]) -> List[int]:\n",
    "            return list(map(int, l))\n",
    "        times = str2int(times)\n",
    "        amounts = str2int(amounts)\n",
    "\n",
    "        for i in range(n):\n",
    "            possible[i] = amounts[i] > 1000\n",
    "            for j in range(n):\n",
    "                if abs(times[i] - times[j]) <= 60 and names[i] == names[j] and cities[i] != cities[j]:\n",
    "                    possible[i] = True\n",
    "\n",
    "        answer = []\n",
    "        for i in range(n):\n",
    "            if possible[i]:\n",
    "                answer.append(transactions[i])\n",
    "\n",
    "        return answer"
   ]
  },
  {
   "cell_type": "code",
   "execution_count": 65,
   "metadata": {},
   "outputs": [
    {
     "data": {
      "text/plain": [
       "['alice,20,800,mtv', 'alice,50,100,beijing']"
      ]
     },
     "execution_count": 65,
     "metadata": {},
     "output_type": "execute_result"
    }
   ],
   "source": [
    "Solution().invalidTransactions(transactions=[\"alice,20,800,mtv\",\"alice,50,100,beijing\"])"
   ]
  },
  {
   "cell_type": "code",
   "execution_count": 66,
   "metadata": {},
   "outputs": [
    {
     "data": {
      "text/plain": [
       "['bob,50,1200,mtv']"
      ]
     },
     "execution_count": 66,
     "metadata": {},
     "output_type": "execute_result"
    }
   ],
   "source": [
    "Solution().invalidTransactions(transactions=[\"alice,20,800,mtv\",\"bob,50,1200,mtv\"])"
   ]
  },
  {
   "cell_type": "code",
   "execution_count": 67,
   "metadata": {},
   "outputs": [
    {
     "data": {
      "text/plain": [
       "['xnova,261,1949,chicago',\n",
       " 'bob,206,1284,chicago',\n",
       " 'chalicefy,704,1269,chicago',\n",
       " 'chalicefy,763,857,chicago',\n",
       " 'lee,99,940,bangkok',\n",
       " 'bob,132,1219,barcelona',\n",
       " 'lee,69,857,barcelona',\n",
       " 'chalicefy,709,1171,amsterdam']"
      ]
     },
     "execution_count": 67,
     "metadata": {},
     "output_type": "execute_result"
    }
   ],
   "source": [
    "Solution().invalidTransactions(transactions=[\"xnova,261,1949,chicago\",\"bob,206,1284,chicago\",\"xnova,420,996,bangkok\",\"chalicefy,704,1269,chicago\",\"iris,124,329,bangkok\",\"xnova,791,700,amsterdam\",\"chalicefy,572,697,budapest\",\"chalicefy,231,310,chicago\",\"chalicefy,763,857,chicago\",\"maybe,837,198,amsterdam\",\"lee,99,940,bangkok\",\"bob,132,1219,barcelona\",\"lee,69,857,barcelona\",\"lee,607,275,budapest\",\"chalicefy,709,1171,amsterdam\"])"
   ]
  }
 ],
 "metadata": {
  "kernelspec": {
   "display_name": "Python 3",
   "language": "python",
   "name": "python3"
  },
  "language_info": {
   "codemirror_mode": {
    "name": "ipython",
    "version": 3
   },
   "file_extension": ".py",
   "mimetype": "text/x-python",
   "name": "python",
   "nbconvert_exporter": "python",
   "pygments_lexer": "ipython3",
   "version": "3.6.8"
  }
 },
 "nbformat": 4,
 "nbformat_minor": 2
}
