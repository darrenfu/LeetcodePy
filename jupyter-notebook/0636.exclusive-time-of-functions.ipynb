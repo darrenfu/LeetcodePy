{
 "cells": [
  {
   "cell_type": "markdown",
   "metadata": {},
   "source": [
    "### [636\\. Exclusive Time of Functions](https://leetcode.com/problems/exclusive-time-of-functions/)\n",
    "\n",
    "Difficulty: **Medium**\n",
    "\n",
    "\n",
    "On a **single threaded** CPU, we execute some functions.  Each function has a unique id between `0` and `N-1`.\n",
    "\n",
    "We store logs in timestamp order that describe when a function is entered or exited.\n",
    "\n",
    "Each log is a string with this format: `\"{function_id}:{\"start\" | \"end\"}:{timestamp}\"`.  For example, `\"0:start:3\"` means the function with id `0` **started at the beginning** of timestamp `3`.  `\"1:end:2\"` means the function with id `1` **ended at the end** of timestamp `2`.\n",
    "\n",
    "A function's _exclusive time_ is the number of units of time spent in this function.  Note that this does **not** include any recursive calls to child functions.\n",
    "\n",
    "The CPU is **single threaded** which means that only one function is being executed at a given time unit.\n",
    "\n",
    "Return the exclusive time of each function, sorted by their function id.\n",
    "\n",
    "**Example 1:**\n",
    "\n",
    "**![](https://assets.leetcode.com/uploads/2019/04/05/diag1b.png)**\n",
    "\n",
    "```\n",
    "Input:\n",
    "n = 2\n",
    "logs = [\"0:start:0\",\"1:start:2\",\"1:end:5\",\"0:end:6\"]\n",
    "Output: [3, 4]\n",
    "Explanation:\n",
    "Function 0 starts at the beginning of time 0, then it executes 2 units of time and reaches the end of time 1.\n",
    "Now function 1 starts at the beginning of time 2, executes 4 units of time and ends at time 5.\n",
    "Function 0 is running again at the beginning of time 6, and also ends at the end of time 6, thus executing for 1 unit of time. \n",
    "So function 0 spends 2 + 1 = 3 units of total time executing, and function 1 spends 4 units of total time executing.\n",
    "```\n",
    "\n",
    "**Note:**\n",
    "\n",
    "1.  `1 <= n <= 100`\n",
    "2.  Two functions won't start or end at the same time.\n",
    "3.  Functions will always log when they exit."
   ]
  },
  {
   "cell_type": "code",
   "execution_count": 1,
   "metadata": {},
   "outputs": [],
   "source": [
    "# Stack\n",
    "from typing import List\n",
    "\n",
    "class Solution:\n",
    "    def exclusiveTime(self, n: int, logs: List[str]) -> List[int]:\n",
    "        stack = []\n",
    "        res = [0] * n\n",
    "        for log in logs:\n",
    "            fid, action, ts = log.split(\":\")\n",
    "            fid, ts = int(fid), int(ts)\n",
    "            if action == \"start\":\n",
    "                stack += [fid, ts, 0],\n",
    "            else:\n",
    "                # prev_elapse is the total elapse occupied by other functions interrupting prev_fid\n",
    "                prev_fid, prev_ts, prev_elapse = stack.pop()\n",
    "                elapse = ts - prev_ts + 1 # must add 1 because `ts` is inclusive\n",
    "                res[fid] += (elapse - prev_elapse) # add to the total elapse of each function\n",
    "                if stack:\n",
    "                    stack[-1][2] += elapse # add elapse to the parent function it interrupted\n",
    "        return res"
   ]
  },
  {
   "cell_type": "code",
   "execution_count": 2,
   "metadata": {},
   "outputs": [
    {
     "data": {
      "text/plain": [
       "[6]"
      ]
     },
     "execution_count": 2,
     "metadata": {},
     "output_type": "execute_result"
    }
   ],
   "source": [
    "Solution().exclusiveTime(1, [\"0:start:0\",\"0:start:1\",\"0:start:2\",\"0:end:3\",\"0:end:4\",\"0:end:5\"])"
   ]
  },
  {
   "cell_type": "code",
   "execution_count": 3,
   "metadata": {},
   "outputs": [
    {
     "data": {
      "text/plain": [
       "[3, 4]"
      ]
     },
     "execution_count": 3,
     "metadata": {},
     "output_type": "execute_result"
    }
   ],
   "source": [
    "Solution().exclusiveTime(2, [\"0:start:0\",\"1:start:2\",\"1:end:5\",\"0:end:6\"])"
   ]
  },
  {
   "cell_type": "code",
   "execution_count": null,
   "metadata": {},
   "outputs": [],
   "source": []
  }
 ],
 "metadata": {
  "kernelspec": {
   "display_name": "Python 3",
   "language": "python",
   "name": "python3"
  },
  "language_info": {
   "codemirror_mode": {
    "name": "ipython",
    "version": 3
   },
   "file_extension": ".py",
   "mimetype": "text/x-python",
   "name": "python",
   "nbconvert_exporter": "python",
   "pygments_lexer": "ipython3",
   "version": "3.6.8"
  }
 },
 "nbformat": 4,
 "nbformat_minor": 2
}
