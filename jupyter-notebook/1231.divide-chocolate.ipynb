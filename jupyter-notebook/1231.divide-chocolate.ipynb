{
 "cells": [
  {
   "cell_type": "code",
   "execution_count": 50,
   "metadata": {},
   "outputs": [],
   "source": [
    "#* Runtime: 300 ms\n",
    "#https://leetcode.com/problems/divide-chocolate/discuss/408448/Similar-to-problem-no-%3A-1101-and-410\n",
    "from typing import List\n",
    "class Solution:\n",
    "    def maximizeSweetness(self, sweetness: List[int], K: int) -> int:\n",
    "        # returns the cuts given the minimum total sweetness (self)\n",
    "        def split(minSweetness: int) -> int:\n",
    "            totalSweetness, cuts = 0, 0\n",
    "            for s in sweetness:\n",
    "                totalSweetness += s # why not if totalSweetness + s >= minSweetness\n",
    "                if totalSweetness >= minSweetness: # why not > minSweetness\n",
    "                    # make a cut\n",
    "                    cuts += 1\n",
    "                    totalSweetness = 0\n",
    "            return cuts\n",
    "        \n",
    "        lo, hi = min(sweetness), sum(sweetness)\n",
    "        while lo < hi:\n",
    "            # mid is a guess of final return value here\n",
    "            mid = (lo+hi+1)//2 # why not (lo+hi)//2\n",
    "            if split(mid) > K:\n",
    "                # seek a larger total sweetness cap\n",
    "                lo = mid # why not lo = mid + 1\n",
    "            else:\n",
    "                hi = mid-1\n",
    "        return lo"
   ]
  },
  {
   "cell_type": "markdown",
   "metadata": {},
   "source": [
    "#### Binary Search Summary: https://www.cnblogs.com/grandyang/p/6854825.html\n",
    "# https://leetcode.com/problems/divide-chocolate/discuss/408503/JavaC%2B%2BPython-Binary-Search\n",
    "# initial scope could be different:\n",
    "# 1. [1, sum/(K+1)]\n",
    "# 2. [1, upper_limit(len(sweetness)) * upper_limit(sweetness[i])], aka. [1, 10^4 * 10^5]\n",
    "# 3. [0, sum]\n",
    "# 4. [min, sum]\n",
    "# Runtime: 264 ms\n",
    "# Similar BS problums:\n",
    "# 1011. Capacity To Ship Packages In N Days\n",
    "# 875. Koko Eating Bananas\n",
    "# 774. Minimize Max Distance to Gas Station\n",
    "# 410. Split Array Largest Sum\n",
    "from typing import List\n",
    "class Solution:\n",
    "    def maximizeSweetness(self, sweetness: List[int], K: int) -> int:\n",
    "        def split(mid: int) -> int:\n",
    "            cur = cuts = 0\n",
    "            for s in sweetness:\n",
    "                cur += s\n",
    "                if cur >= mid:\n",
    "                    cuts += 1\n",
    "                    cur = 0\n",
    "            return cuts\n",
    "            \n",
    "        lo, hi = 1, sum(sweetness) // (K+1) # avg sweetness each can get\n",
    "        while lo < hi:\n",
    "            mid = (lo+hi+1)//2 # (lo+hi+1)//2 means always get the next idx after mid when even, get mid when odd\n",
    "            if split(mid) >= K+1:\n",
    "                lo = mid\n",
    "            else:\n",
    "                hi = mid-1\n",
    "        return lo"
   ]
  },
  {
   "cell_type": "code",
   "execution_count": 51,
   "metadata": {},
   "outputs": [
    {
     "data": {
      "text/plain": [
       "6"
      ]
     },
     "execution_count": 51,
     "metadata": {},
     "output_type": "execute_result"
    }
   ],
   "source": [
    "Solution().maximizeSweetness([1,2,3,4,5,6,7,8,9], K = 5)"
   ]
  },
  {
   "cell_type": "code",
   "execution_count": 52,
   "metadata": {},
   "outputs": [
    {
     "data": {
      "text/plain": [
       "1"
      ]
     },
     "execution_count": 52,
     "metadata": {},
     "output_type": "execute_result"
    }
   ],
   "source": [
    "Solution().maximizeSweetness([5,6,7,8,9,1,2,3,4], K = 8)"
   ]
  },
  {
   "cell_type": "code",
   "execution_count": 53,
   "metadata": {},
   "outputs": [
    {
     "data": {
      "text/plain": [
       "5"
      ]
     },
     "execution_count": 53,
     "metadata": {},
     "output_type": "execute_result"
    }
   ],
   "source": [
    "Solution().maximizeSweetness([1,2,2,1,2,2,1,2,2], K = 2)"
   ]
  },
  {
   "cell_type": "code",
   "execution_count": null,
   "metadata": {},
   "outputs": [],
   "source": []
  }
 ],
 "metadata": {
  "kernelspec": {
   "display_name": "Python 3",
   "language": "python",
   "name": "python3"
  },
  "language_info": {
   "codemirror_mode": {
    "name": "ipython",
    "version": 3
   },
   "file_extension": ".py",
   "mimetype": "text/x-python",
   "name": "python",
   "nbconvert_exporter": "python",
   "pygments_lexer": "ipython3",
   "version": "3.6.8"
  }
 },
 "nbformat": 4,
 "nbformat_minor": 2
}
