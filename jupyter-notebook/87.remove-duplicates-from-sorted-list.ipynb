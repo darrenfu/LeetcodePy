{
 "cells": [
  {
   "cell_type": "code",
   "execution_count": 1,
   "metadata": {},
   "outputs": [],
   "source": [
    "import sys\n",
    "sys.path.append('..')\n",
    "from leetcode.list.listnode import ListNode"
   ]
  },
  {
   "cell_type": "code",
   "execution_count": null,
   "metadata": {},
   "outputs": [],
   "source": [
    "class Solution:\n",
    "    def deleteDuplicates(self, head: ListNode) -> ListNode:\n",
    "        # LinkedList is sorted, which means the duplicates will only be repeated\n",
    "        prev = cur = dummy = ListNode(0)\n",
    "        dummy.next = head\n",
    "        cur = cur.next\n",
    "        seen = set()\n",
    "        while cur:\n",
    "            if cur.val in seen:\n",
    "                prev.next = cur.next\n",
    "            else:\n",
    "                seen.add(cur.val)\n",
    "                prev = prev.next\n",
    "            cur = cur.next\n",
    "        return dummy.next"
   ]
  },
  {
   "cell_type": "code",
   "execution_count": null,
   "metadata": {},
   "outputs": [],
   "source": [
    "class Solution:\n",
    "    def deleteDuplicates(self, head: ListNode) -> ListNode:\n",
    "        cur = dummy = ListNode(0)\n",
    "        dummy.next = head\n",
    "        if not dummy.next: return None\n",
    "        prev = cur = cur.next\n",
    "        seen = cur.val\n",
    "        while cur:\n",
    "            if cur.val != seen:\n",
    "                prev.next = cur\n",
    "                seen = cur.val\n",
    "                prev = prev.next\n",
    "            elif not cur.next:\n",
    "                prev.next = None\n",
    "            cur = cur.next\n",
    "        return dummy.next"
   ]
  },
  {
   "cell_type": "code",
   "execution_count": null,
   "metadata": {},
   "outputs": [],
   "source": [
    "#https://leetcode.com/problems/remove-duplicates-from-sorted-list/discuss/28621/Simple-iterative-Python-6-lines-60-ms\n",
    "class Solution:\n",
    "    def deleteDuplicates(self, head: ListNode) -> ListNode:\n",
    "        cur = head\n",
    "        while cur:\n",
    "            while cur.next and cur.next.val == cur.val:\n",
    "                cur.next = cur.next.next     # skip duplicated node\n",
    "            cur = cur.next     # not duplicate of current node, move to next node\n",
    "        return head"
   ]
  },
  {
   "cell_type": "code",
   "execution_count": null,
   "metadata": {},
   "outputs": [],
   "source": [
    "# Recursion solution\n",
    "# comment in https://leetcode.com/problems/remove-duplicates-from-sorted-list/discuss/28621/Simple-iterative-Python-6-lines-60-ms\n",
    "class Solution:\n",
    "    def deleteDuplicates(self, head: ListNode) -> ListNode:\n",
    "        # check curnode and nextnode recursively\n",
    "        if head and head.next:\n",
    "            # explain:\n",
    "            # whether `head.next = (head.next or head.next.next)` is decided by whether `head.next.val = head.val`\n",
    "            head.next = self.deleteDuplicates(head.next)\n",
    "            return head.next if head.next.val == head.val else head\n",
    "        return head"
   ]
  }
 ],
 "metadata": {
  "kernelspec": {
   "display_name": "Python 3",
   "language": "python",
   "name": "python3"
  },
  "language_info": {
   "codemirror_mode": {
    "name": "ipython",
    "version": 3
   },
   "file_extension": ".py",
   "mimetype": "text/x-python",
   "name": "python",
   "nbconvert_exporter": "python",
   "pygments_lexer": "ipython3",
   "version": "3.6.8"
  }
 },
 "nbformat": 4,
 "nbformat_minor": 2
}
