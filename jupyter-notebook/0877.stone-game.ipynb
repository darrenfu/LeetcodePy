{
 "cells": [
  {
   "cell_type": "markdown",
   "metadata": {},
   "source": [
    "### [877\\. Stone Game](https://leetcode.com/problems/stone-game/)\n",
    "\n",
    "Difficulty: **Medium**\n",
    "\n",
    "\n",
    "Alex and Lee play a game with piles of stones.  There are an even number of piles **arranged in a row**, and each pile has a positive integer number of stones `piles[i]`.\n",
    "\n",
    "The objective of the game is to end with the most stones.  The total number of stones is odd, so there are no ties.\n",
    "\n",
    "Alex and Lee take turns, with Alex starting first.  Each turn, a player takes the entire pile of stones from either the beginning or the end of the row.  This continues until there are no more piles left, at which point the person with the most stones wins.\n",
    "\n",
    "Assuming Alex and Lee play optimally, return `True` if and only if Alex wins the game.\n",
    "\n",
    "**Example 1:**\n",
    "\n",
    "```\n",
    "Input: [5,3,4,5]\n",
    "Output: true\n",
    "Explanation: \n",
    "Alex starts first, and can only take the first 5 or the last 5.\n",
    "Say he takes the first 5, so that the row becomes [3, 4, 5].\n",
    "If Lee takes 3, then the board is [4, 5], and Alex takes 5 to win with 10 points.\n",
    "If Lee takes the last 5, then the board is [3, 4], and Alex takes 4 to win with 9 points.\n",
    "This demonstrated that taking the first 5 was a winning move for Alex, so we return true.\n",
    "```\n",
    "\n",
    "**Note:**\n",
    "\n",
    "1.  `2 <= piles.length <= 500`\n",
    "2.  `piles.length` is even.\n",
    "3.  `1 <= piles[i] <= 500`\n",
    "4.  `sum(piles)` is odd."
   ]
  },
  {
   "cell_type": "markdown",
   "metadata": {},
   "source": [
    "**Follow-ups:**  \n",
    "1. What if piles.length is odd?\n",
    "1. What if we want to know exactly the difference of score?"
   ]
  },
  {
   "cell_type": "code",
   "execution_count": 6,
   "metadata": {},
   "outputs": [],
   "source": [
    "# DP - readable version\n",
    "# state transition function: dp[i][j] = max(piles[i] - dp[i + 1][j], piles[j] - dp[i][j - 1])\n",
    "# https://leetcode-cn.com/problems/stone-game/solution/jie-jue-bo-yi-wen-ti-de-dong-tai-gui-hua-tong-yong/\n",
    "from typing import List\n",
    "\n",
    "class Solution:\n",
    "    def stoneGame(self, piles: List[int]) -> bool:\n",
    "        N = len(piles)\n",
    "        # here dp[i][j][k] means the biggest number of stones the player can get picking piles in piles[i] ~ piles[j] after this turn (k=0: first; k=1: second)\n",
    "        dp = [[[0,0] for _ in range(N)] for _ in range(N)]\n",
    "        # init diagonal values\n",
    "        for i in range(N):\n",
    "            dp[i][i][0] = piles[i] # when only one pile left, which is the only choice for who goes first\n",
    "        \n",
    "        # traverse diagonal line by diagonal line\n",
    "        # x . . .     . x . .     . . x .     . . . x <- dp[0][N-1]\n",
    "        # . x . .     . . x .     . . . x     . . . .\n",
    "        # . . x .  => . . . x  => . . . .  => . . . .\n",
    "        # . . . x     . . . .     . . . .     . . . . \n",
    "        for k in range(1, N):\n",
    "            for i in range(N-1):\n",
    "                j = k+i\n",
    "                if j > N-1: # boundary check\n",
    "                    break\n",
    "#                 print(i, j)\n",
    "                # first player's turn\n",
    "                l = piles[i] + dp[i+1][j][1] # first player chooses leftmost pile\n",
    "                r = piles[j] + dp[i][j-1][1] # first player chooses rightmost pile\n",
    "                if l > r:\n",
    "                    dp[i][j][0] = l\n",
    "                    dp[i][j][1] = dp[i+1][j][0] # second player takes over after first player chose leftmost pile\n",
    "                else:\n",
    "                    dp[i][j][0] = r\n",
    "                    dp[i][j][1] = dp[i][j-1][0] # second player takes over after first player chose rightmost pile\n",
    "        return dp[0][N-1][0] > dp[0][N-1][1]"
   ]
  },
  {
   "cell_type": "code",
   "execution_count": 14,
   "metadata": {},
   "outputs": [],
   "source": [
    "# DP - shorter version\n",
    "# https://leetcode.com/problems/stone-game/discuss/154610/DP-or-Just-return-true\n",
    "from typing import List\n",
    "\n",
    "class Solution:\n",
    "    def stoneGame(self, piles: List[int]) -> bool:\n",
    "        N = len(piles)\n",
    "        # here dp[i][j] means the biggest number of stones you can get more than opponent picking piles in piles[i] ~ piles[j] (i.e. the difference)\n",
    "        dp = [[0 for _ in range(N)] for _ in range(N)]\n",
    "        for i in range(N):\n",
    "            dp[i][i] = piles[i]\n",
    "        \n",
    "        for k in range(1, N):\n",
    "            for i in range(N-k):\n",
    "                j = k+i\n",
    "                # piles[x] - dp[y][z], here subtraction instead of addition is because we need the score difference?\n",
    "                dp[i][j] = max(piles[i] - dp[i+1][j], piles[j] - dp[i][j-1])\n",
    "#         print(dp)\n",
    "        return dp[0][-1] > 0"
   ]
  },
  {
   "cell_type": "code",
   "execution_count": 15,
   "metadata": {},
   "outputs": [
    {
     "name": "stdout",
     "output_type": "stream",
     "text": [
      "[[5, 2, 4, 1], [0, 3, 1, 4], [0, 0, 4, 1], [0, 0, 0, 5]]\n"
     ]
    },
    {
     "data": {
      "text/plain": [
       "True"
      ]
     },
     "execution_count": 15,
     "metadata": {},
     "output_type": "execute_result"
    }
   ],
   "source": [
    "Solution().stoneGame([5,3,4,5])"
   ]
  },
  {
   "cell_type": "code",
   "execution_count": 16,
   "metadata": {},
   "outputs": [
    {
     "name": "stdout",
     "output_type": "stream",
     "text": [
      "[[3, 6, -5, 7], [0, 9, 8, 8], [0, 0, 1, 1], [0, 0, 0, 2]]\n"
     ]
    },
    {
     "data": {
      "text/plain": [
       "True"
      ]
     },
     "execution_count": 16,
     "metadata": {},
     "output_type": "execute_result"
    }
   ],
   "source": [
    "Solution().stoneGame([3,9,1,2])"
   ]
  },
  {
   "cell_type": "code",
   "execution_count": null,
   "metadata": {},
   "outputs": [],
   "source": []
  }
 ],
 "metadata": {
  "kernelspec": {
   "display_name": "Python 3",
   "language": "python",
   "name": "python3"
  },
  "language_info": {
   "codemirror_mode": {
    "name": "ipython",
    "version": 3
   },
   "file_extension": ".py",
   "mimetype": "text/x-python",
   "name": "python",
   "nbconvert_exporter": "python",
   "pygments_lexer": "ipython3",
   "version": "3.6.8"
  }
 },
 "nbformat": 4,
 "nbformat_minor": 2
}
