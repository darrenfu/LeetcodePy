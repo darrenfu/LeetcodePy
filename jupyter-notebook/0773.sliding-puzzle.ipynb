{
 "cells": [
  {
   "cell_type": "markdown",
   "metadata": {},
   "source": [
    "### [773\\. Sliding Puzzle](https://leetcode.com/problems/sliding-puzzle/)\n",
    "\n",
    "Difficulty: **Hard**\n",
    "\n",
    "\n",
    "On a 2x3 `board`, there are 5 tiles represented by the integers 1 through 5, and an empty square represented by 0.\n",
    "\n",
    "A move consists of choosing `0` and a 4-directionally adjacent number and swapping it.\n",
    "\n",
    "The state of the board is _solved_ if and only if the `board` is `[[1,2,3],[4,5,0]].`\n",
    "\n",
    "Given a puzzle board, return the least number of moves required so that the state of the board is solved. If it is impossible for the state of the board to be solved, return -1.\n",
    "\n",
    "**Examples:**\n",
    "\n",
    "```\n",
    "Input: board = [[1,2,3],[4,0,5]]\n",
    "Output: 1\n",
    "Explanation: Swap the 0 and the 5 in one move.\n",
    "```\n",
    "\n",
    "```\n",
    "Input: board = [[1,2,3],[5,4,0]]\n",
    "Output: -1\n",
    "Explanation: No number of moves will make the board solved.\n",
    "```\n",
    "\n",
    "```\n",
    "Input: board = [[4,1,2],[5,0,3]]\n",
    "Output: 5\n",
    "Explanation: 5 is the smallest number of moves that solves the board.\n",
    "An example path:\n",
    "After move 0: [[4,1,2],[5,0,3]]\n",
    "After move 1: [[4,1,2],[0,5,3]]\n",
    "After move 2: [[0,1,2],[4,5,3]]\n",
    "After move 3: [[1,0,2],[4,5,3]]\n",
    "After move 4: [[1,2,0],[4,5,3]]\n",
    "After move 5: [[1,2,3],[4,5,0]]\n",
    "```\n",
    "\n",
    "```\n",
    "Input: board = [[3,2,4],[1,5,0]]\n",
    "Output: 14\n",
    "```\n",
    "\n",
    "**Note:**\n",
    "\n",
    "*   `board` will be a 2 x 3 array as described above.\n",
    "*   `board[i][j]` will be a permutation of `[0, 1, 2, 3, 4, 5]`."
   ]
  },
  {
   "cell_type": "code",
   "execution_count": 39,
   "metadata": {},
   "outputs": [],
   "source": [
    "# BFS\n",
    "from typing import List, Tuple\n",
    "from itertools import chain\n",
    "\n",
    "class Solution:\n",
    "    def slidingPuzzle(self, board: List[List[int]]) -> int:\n",
    "        def to1d(board: List[List[int]]):\n",
    "            return tuple(chain(*board))\n",
    "        def neighbors(pos: int):\n",
    "            for delta in (-1, 1, -C, C):\n",
    "                nei = pos + delta\n",
    "                # |R1-R2| + |C1-C2| == 1 means neighbor\n",
    "                if abs(pos//C-nei//C) + abs(pos%C-nei%C) == 1 and 0 <= nei < R*C:\n",
    "                    yield(nei)\n",
    "        def nextBoard(board: Tuple[int], pos: int, nei: int) -> Tuple[int]:\n",
    "            nei_board = list(board) # make a copy\n",
    "            nei_board[nei], nei_board[pos] = nei_board[pos], nei_board[nei] # slide one of zero's neighbor to zero position\n",
    "            return tuple(nei_board)\n",
    "                    \n",
    "        R, C = len(board), len(board[0])\n",
    "        src, dst = to1d(board), tuple(list(range(1, R*C)) + [0])\n",
    "        q = [(src, src.index(0), 0)]\n",
    "        visited = set([src])\n",
    "        while q:\n",
    "            board, pos, steps = q.pop(0)\n",
    "            if board == dst:\n",
    "                return steps\n",
    "            for nei in neighbors(pos):\n",
    "                nei_board = nextBoard(board, pos, nei)\n",
    "                if nei_board not in visited:\n",
    "                    visited.add(nei_board)\n",
    "                    q.append((tuple(nei_board), nei, steps+1))\n",
    "        return -1"
   ]
  },
  {
   "cell_type": "code",
   "execution_count": 55,
   "metadata": {},
   "outputs": [],
   "source": [
    "# bidirectional BFS\n",
    "from typing import List, Tuple\n",
    "from itertools import chain\n",
    "\n",
    "class Solution:\n",
    "    def slidingPuzzle(self, board: List[List[int]]) -> int:\n",
    "        def to1d(board: List[List[int]]):\n",
    "            return tuple(chain(*board))\n",
    "        def neighbors(pos: int):\n",
    "            for delta in (-1, 1, -C, C):\n",
    "                nei = pos + delta\n",
    "                # |R1-R2| + |C1-C2| == 1 means neighbor\n",
    "                if abs(pos//C-nei//C) + abs(pos%C-nei%C) == 1 and 0 <= nei < R*C:\n",
    "                    yield(nei)\n",
    "        def nextBoard(board: Tuple[int], pos: int, nei: int) -> Tuple[int]:\n",
    "            nei_board = list(board) # make a copy\n",
    "            nei_board[nei], nei_board[pos] = nei_board[pos], nei_board[nei] # slide one of zero's neighbor to zero position\n",
    "            return tuple(nei_board)\n",
    "                    \n",
    "        R, C = len(board), len(board[0])\n",
    "        src, dst = to1d(board), tuple(list(range(1, R*C)) + [0])\n",
    "        if src == dst:\n",
    "            return 0\n",
    "        q1, q2 = set([(src, src.index(0))]), set([(dst, R*C-1)])\n",
    "        visited = set([src, dst])\n",
    "        steps = 0\n",
    "        while q1 and q2:\n",
    "            if len(q1) > len(q2):\n",
    "                q1, q2 = q2, q1\n",
    "            steps += 1\n",
    "            tmpQ = set()\n",
    "            for board, pos in q1:\n",
    "                for nei in neighbors(pos):\n",
    "                    nei_board = nextBoard(board, pos, nei)\n",
    "                    if (nei_board, nei) in q2: # two sets intersect, shortest path found\n",
    "                        return steps\n",
    "                    if nei_board not in visited:\n",
    "                        visited.add(nei_board)\n",
    "                        tmpQ.add((nei_board, nei))\n",
    "            q1 = tmpQ\n",
    "        return -1"
   ]
  },
  {
   "cell_type": "code",
   "execution_count": 56,
   "metadata": {},
   "outputs": [
    {
     "data": {
      "text/plain": [
       "1"
      ]
     },
     "execution_count": 56,
     "metadata": {},
     "output_type": "execute_result"
    }
   ],
   "source": [
    "Solution().slidingPuzzle([[1,2,3],[4,0,5]])"
   ]
  },
  {
   "cell_type": "code",
   "execution_count": 57,
   "metadata": {},
   "outputs": [
    {
     "data": {
      "text/plain": [
       "-1"
      ]
     },
     "execution_count": 57,
     "metadata": {},
     "output_type": "execute_result"
    }
   ],
   "source": [
    "Solution().slidingPuzzle(board = [[1,2,3],[5,4,0]])"
   ]
  },
  {
   "cell_type": "code",
   "execution_count": 58,
   "metadata": {},
   "outputs": [
    {
     "data": {
      "text/plain": [
       "14"
      ]
     },
     "execution_count": 58,
     "metadata": {},
     "output_type": "execute_result"
    }
   ],
   "source": [
    "Solution().slidingPuzzle(board = [[3,2,4],[1,5,0]])"
   ]
  },
  {
   "cell_type": "code",
   "execution_count": 59,
   "metadata": {},
   "outputs": [
    {
     "data": {
      "text/plain": [
       "0"
      ]
     },
     "execution_count": 59,
     "metadata": {},
     "output_type": "execute_result"
    }
   ],
   "source": [
    "Solution().slidingPuzzle(board = [[1,2,3],[4,5,0]])"
   ]
  },
  {
   "cell_type": "code",
   "execution_count": null,
   "metadata": {},
   "outputs": [],
   "source": []
  }
 ],
 "metadata": {
  "kernelspec": {
   "display_name": "Python 3",
   "language": "python",
   "name": "python3"
  },
  "language_info": {
   "codemirror_mode": {
    "name": "ipython",
    "version": 3
   },
   "file_extension": ".py",
   "mimetype": "text/x-python",
   "name": "python",
   "nbconvert_exporter": "python",
   "pygments_lexer": "ipython3",
   "version": "3.6.8"
  }
 },
 "nbformat": 4,
 "nbformat_minor": 2
}
