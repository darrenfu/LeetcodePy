{
 "cells": [
  {
   "cell_type": "code",
   "execution_count": 26,
   "metadata": {},
   "outputs": [],
   "source": [
    "# https://leetcode.com/problems/search-in-rotated-sorted-array/discuss/14425/Concise-O(log-N)-Binary-search-solution\n",
    "from typing import List\n",
    "\n",
    "class Solution:\n",
    "    def search(self, nums: List[int], target: int) -> int:\n",
    "        # 1. find smallest element index\n",
    "        N = len(nums)\n",
    "        lo, hi = 0, N-1\n",
    "        while lo < hi: # low=mid+1; hi=mid\n",
    "            mid = (lo+hi)//2\n",
    "            if nums[mid] > nums[hi]:\n",
    "                lo = mid+1\n",
    "            else:\n",
    "                hi = mid\n",
    "        rot = lo\n",
    "        \n",
    "        # 2. normal binary search\n",
    "        lo, hi = 0, N-1\n",
    "        while lo <= hi: # low=mid+1; hi=mid-1\n",
    "            mid = (lo+hi)//2\n",
    "            # add offset: rot\n",
    "            real_mid = (mid+rot) % N\n",
    "            if target == nums[real_mid]:\n",
    "                return real_mid\n",
    "            elif target > nums[real_mid]:\n",
    "                lo = mid + 1\n",
    "            else:\n",
    "                hi = mid - 1\n",
    "        return -1"
   ]
  },
  {
   "cell_type": "code",
   "execution_count": 59,
   "metadata": {},
   "outputs": [],
   "source": [
    "# observation: If nums[mid] and target are \"on the same side\" of nums[0], just take nums[mid]\n",
    "# https://leetcode.com/problems/search-in-rotated-sorted-array/discuss/14435/Clever-idea-making-it-simple\n",
    "from typing import List\n",
    "\n",
    "class Solution:\n",
    "    def search(self, nums: List[int], target: int) -> int:\n",
    "        N = len(nums)\n",
    "        lo, hi = 0, N\n",
    "        while lo < hi:\n",
    "            mid = (lo+hi)//2\n",
    "            # 1) 0, ..., mid/target, (bigger), ...\n",
    "            # 2) 0, ..., target, (biggest), mid, ... => 0, ..., target, (biggest), inf, inf, ...\n",
    "            # 3) 0, ..., mid, (biggest), target, ... => ..., -inf, -inf(biggest), ..., target, (bigger), ...\n",
    "            if (nums[mid] < nums[0]) == (target < nums[0]): #1\n",
    "                if nums[mid] < target:\n",
    "                    lo = mid+1\n",
    "                elif nums[mid] > target:\n",
    "                    hi = mid\n",
    "                else:\n",
    "                    return mid\n",
    "            elif target < nums[0]: #2\n",
    "                lo = mid+1\n",
    "            else: #3\n",
    "                hi = mid\n",
    "        return -1"
   ]
  },
  {
   "cell_type": "code",
   "execution_count": null,
   "metadata": {},
   "outputs": [],
   "source": [
    "class Solution:\n",
    "    def search(self, nums: List[int], target: int) -> int:\n",
    "        lo, hi = 0, len(nums)-1\n",
    "        while lo <= hi:\n",
    "            mid = lo + (hi-lo) //2\n",
    "            if target == nums[mid]:\n",
    "                return mid\n",
    "            # 1. mid in first part\n",
    "            if nums[lo] <= nums[mid]:\n",
    "                if nums[lo] <= target < nums[mid]:\n",
    "                    hi = mid - 1\n",
    "                else:\n",
    "                    lo = mid + 1\n",
    "            else:\n",
    "            # 2. mid in 2nd part\n",
    "                if nums[mid] < target <= nums[hi]:\n",
    "                    lo = mid + 1\n",
    "                else:\n",
    "                    hi = mid - 1\n",
    "        return -1"
   ]
  },
  {
   "cell_type": "code",
   "execution_count": 60,
   "metadata": {},
   "outputs": [
    {
     "data": {
      "text/plain": [
       "4"
      ]
     },
     "execution_count": 60,
     "metadata": {},
     "output_type": "execute_result"
    }
   ],
   "source": [
    "Solution().search(nums = [4,5,6,7,0,1,2], target = 0)"
   ]
  },
  {
   "cell_type": "code",
   "execution_count": 61,
   "metadata": {},
   "outputs": [
    {
     "data": {
      "text/plain": [
       "-1"
      ]
     },
     "execution_count": 61,
     "metadata": {},
     "output_type": "execute_result"
    }
   ],
   "source": [
    "Solution().search(nums = [4,5,6,7,0,1,2], target = 3)"
   ]
  },
  {
   "cell_type": "code",
   "execution_count": 62,
   "metadata": {},
   "outputs": [
    {
     "data": {
      "text/plain": [
       "0"
      ]
     },
     "execution_count": 62,
     "metadata": {},
     "output_type": "execute_result"
    }
   ],
   "source": [
    "Solution().search(nums = [1], target = 1)"
   ]
  },
  {
   "cell_type": "code",
   "execution_count": 63,
   "metadata": {},
   "outputs": [
    {
     "data": {
      "text/plain": [
       "0"
      ]
     },
     "execution_count": 63,
     "metadata": {},
     "output_type": "execute_result"
    }
   ],
   "source": [
    "Solution().search(nums = [5,1,3], target = 5)"
   ]
  },
  {
   "cell_type": "code",
   "execution_count": null,
   "metadata": {},
   "outputs": [],
   "source": []
  }
 ],
 "metadata": {
  "kernelspec": {
   "display_name": "Python 3",
   "language": "python",
   "name": "python3"
  },
  "language_info": {
   "codemirror_mode": {
    "name": "ipython",
    "version": 3
   },
   "file_extension": ".py",
   "mimetype": "text/x-python",
   "name": "python",
   "nbconvert_exporter": "python",
   "pygments_lexer": "ipython3",
   "version": "3.6.8"
  }
 },
 "nbformat": 4,
 "nbformat_minor": 2
}
