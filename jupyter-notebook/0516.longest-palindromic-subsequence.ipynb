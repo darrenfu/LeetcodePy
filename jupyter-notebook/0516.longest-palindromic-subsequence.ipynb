{
 "cells": [
  {
   "cell_type": "code",
   "execution_count": 68,
   "metadata": {},
   "outputs": [],
   "source": [
    "# Close to #1216\n",
    "# Make a palindrome by deleting the minimum elements\n",
    "# TLE\n",
    "class Solution:\n",
    "    def longestPalindromeSubseq(self, s: str) -> int:\n",
    "        L = len(s)\n",
    "        dp = [[0]*(L+1) for _ in range(L+1)]\n",
    "        for i in range(1, L+1):\n",
    "            dp[i][0] = i\n",
    "            dp[0][i] = i\n",
    "        for i in range(1, L+1):\n",
    "            for j in range(1, L+1):\n",
    "                if s[i-1] == s[L-j]:\n",
    "                    dp[i][j] = dp[i-1][j-1]\n",
    "                else:\n",
    "                    dp[i][j] = min(dp[i][j-1], dp[i-1][j]) + 1\n",
    "        return L - dp[L][L]//2"
   ]
  },
  {
   "cell_type": "code",
   "execution_count": 118,
   "metadata": {},
   "outputs": [],
   "source": [
    "# count longest seq\n",
    "# TLE\n",
    "# https://leetcode.com/problems/longest-palindromic-subsequence/discuss/99101/Straight-forward-Java-DP-solution\n",
    "class Solution:\n",
    "    def longestPalindromeSubseq(self, s: str) -> int:\n",
    "        L = len(s)\n",
    "        dp = [[0]*(L+1) for _ in range(L+1)]\n",
    "        for i in range(1, L+1):\n",
    "            dp[i][0] = 1\n",
    "            dp[0][i] = 1\n",
    "        for i in range(1, L+1):\n",
    "            for j in range(1, L+1):\n",
    "                if s[i-1] == s[L-j]:\n",
    "                    # if palindrome pair found, += 2\n",
    "                    dp[i][j] = 2+dp[i-1][j-1]\n",
    "                else:\n",
    "                    # if not, get the longer one from left-subseq or right-subseq\n",
    "                    dp[i][j] = max(dp[i][j-1], dp[i-1][j])\n",
    "        return dp[L][L]//2"
   ]
  },
  {
   "cell_type": "code",
   "execution_count": 112,
   "metadata": {},
   "outputs": [],
   "source": [
    "# Recursion\n",
    "# Runtime: 956 ms, faster than 83.68% \n",
    "# https://leetcode.com/problems/longest-palindromic-subsequence/discuss/295139/Python3-Accepted-DP-solution\n",
    "from functools import lru_cache\n",
    "class Solution:\n",
    "    def longestPalindromeSubseq(self, s: str) -> int:\n",
    "        L = len(s)\n",
    "        @lru_cache(None)\n",
    "        def traverse(left: int, right: int):\n",
    "            if left == right: return 1\n",
    "            if left > right: return 0\n",
    "            if s[left] == s[right]: return traverse(left+1, right-1) + 2\n",
    "            else: return max(traverse(left+1, right), traverse(left, right-1))\n",
    "        return traverse(0, L-1)"
   ]
  },
  {
   "cell_type": "code",
   "execution_count": 119,
   "metadata": {},
   "outputs": [
    {
     "data": {
      "text/plain": [
       "4"
      ]
     },
     "execution_count": 119,
     "metadata": {},
     "output_type": "execute_result"
    }
   ],
   "source": [
    "Solution().longestPalindromeSubseq(s=\"bbbab\")"
   ]
  },
  {
   "cell_type": "code",
   "execution_count": 120,
   "metadata": {},
   "outputs": [
    {
     "data": {
      "text/plain": [
       "1"
      ]
     },
     "execution_count": 120,
     "metadata": {},
     "output_type": "execute_result"
    }
   ],
   "source": [
    "Solution().longestPalindromeSubseq(s=\"abcdef\")"
   ]
  },
  {
   "cell_type": "code",
   "execution_count": 121,
   "metadata": {},
   "outputs": [
    {
     "data": {
      "text/plain": [
       "2"
      ]
     },
     "execution_count": 121,
     "metadata": {},
     "output_type": "execute_result"
    }
   ],
   "source": [
    "Solution().longestPalindromeSubseq(s=\"cbbd\")"
   ]
  },
  {
   "cell_type": "code",
   "execution_count": 122,
   "metadata": {},
   "outputs": [
    {
     "data": {
      "text/plain": [
       "5"
      ]
     },
     "execution_count": 122,
     "metadata": {},
     "output_type": "execute_result"
    }
   ],
   "source": [
    "Solution().longestPalindromeSubseq(s = \"abcdeca\")"
   ]
  },
  {
   "cell_type": "code",
   "execution_count": 123,
   "metadata": {},
   "outputs": [
    {
     "data": {
      "text/plain": [
       "9"
      ]
     },
     "execution_count": 123,
     "metadata": {},
     "output_type": "execute_result"
    }
   ],
   "source": [
    "Solution().longestPalindromeSubseq(s = \"aaaaaaaaa\")"
   ]
  },
  {
   "cell_type": "code",
   "execution_count": null,
   "metadata": {},
   "outputs": [],
   "source": []
  }
 ],
 "metadata": {
  "kernelspec": {
   "display_name": "Python 3",
   "language": "python",
   "name": "python3"
  },
  "language_info": {
   "codemirror_mode": {
    "name": "ipython",
    "version": 3
   },
   "file_extension": ".py",
   "mimetype": "text/x-python",
   "name": "python",
   "nbconvert_exporter": "python",
   "pygments_lexer": "ipython3",
   "version": "3.6.8"
  }
 },
 "nbformat": 4,
 "nbformat_minor": 2
}
