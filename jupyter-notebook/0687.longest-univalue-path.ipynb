{
 "cells": [
  {
   "cell_type": "code",
   "execution_count": 4,
   "metadata": {},
   "outputs": [],
   "source": [
    "import sys\n",
    "sys.path.append('..')\n",
    "from leetcode.tree.treenode import TreeNode"
   ]
  },
  {
   "cell_type": "code",
   "execution_count": 11,
   "metadata": {},
   "outputs": [],
   "source": [
    "# Similar to #250\n",
    "# Runtime: 420 ms, faster than 80.98%\n",
    "class Solution:\n",
    "    def longestUnivaluePath(self, root: TreeNode) -> int:\n",
    "        def dfs(node: TreeNode) -> int:\n",
    "            nonlocal max_nodes\n",
    "            if not node:\n",
    "                return 0\n",
    "            l = dfs(node.left)\n",
    "            r = dfs(node.right)\n",
    "            if not node.left or node.left.val != node.val: # if child's value is not equal to parent, ignore that child\n",
    "                l = 0\n",
    "            if not node.right or node.right.val != node.val:\n",
    "                r = 0\n",
    "            if l+r+1 > max_nodes:\n",
    "                max_nodes = l+r+1\n",
    "            return max(l, r) + 1\n",
    "        \n",
    "        max_nodes = 0\n",
    "        dfs(root)\n",
    "        return max(max_nodes-1, 0)"
   ]
  },
  {
   "cell_type": "code",
   "execution_count": 12,
   "metadata": {},
   "outputs": [
    {
     "data": {
      "text/plain": [
       "2"
      ]
     },
     "execution_count": 12,
     "metadata": {},
     "output_type": "execute_result"
    }
   ],
   "source": [
    "root = TreeNode.deserialize('[5,4,5,1,1,5]')\n",
    "Solution().longestUnivaluePath(root)"
   ]
  },
  {
   "cell_type": "code",
   "execution_count": null,
   "metadata": {},
   "outputs": [],
   "source": []
  }
 ],
 "metadata": {
  "kernelspec": {
   "display_name": "Python 3",
   "language": "python",
   "name": "python3"
  },
  "language_info": {
   "codemirror_mode": {
    "name": "ipython",
    "version": 3
   },
   "file_extension": ".py",
   "mimetype": "text/x-python",
   "name": "python",
   "nbconvert_exporter": "python",
   "pygments_lexer": "ipython3",
   "version": "3.6.8"
  }
 },
 "nbformat": 4,
 "nbformat_minor": 2
}
