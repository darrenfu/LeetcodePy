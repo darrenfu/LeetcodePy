{
 "cells": [
  {
   "cell_type": "code",
   "execution_count": 38,
   "metadata": {},
   "outputs": [],
   "source": [
    "import sys\n",
    "sys.path.append('..')\n",
    "from leetcode.unionfind.uf import UF\n",
    "from typing import List\n",
    "\n",
    "\n",
    "class Solution:\n",
    "    \"\"\"Kruskal's minimum spanning tree algo (greedy algo)\n",
    "       (Expanding from smallest weighted edge, edge by edge)\n",
    "    \"\"\"\n",
    "    def minimumCost(self, N: int, connections: List[List[int]]) -> int:\n",
    "        connections.sort(key=lambda edge: edge[2])  # sort by edge weight\n",
    "        # use UnionFind here to check if graph is cyclic\n",
    "        uf = UF(N)\n",
    "        # vertex index in UF starts from 0, but input starts from 1\n",
    "        min_cost = sum(w for v1, v2, w in connections if uf.union(v1-1, v2-1))\n",
    "        return min_cost if uf.count == 1 else -1"
   ]
  },
  {
   "cell_type": "code",
   "execution_count": 39,
   "metadata": {},
   "outputs": [
    {
     "data": {
      "text/plain": [
       "6"
      ]
     },
     "execution_count": 39,
     "metadata": {},
     "output_type": "execute_result"
    }
   ],
   "source": [
    "Solution().minimumCost(N=3,connections=[[1,2,5],[1,3,6],[2,3,1]])"
   ]
  },
  {
   "cell_type": "code",
   "execution_count": 40,
   "metadata": {},
   "outputs": [
    {
     "data": {
      "text/plain": [
       "-1"
      ]
     },
     "execution_count": 40,
     "metadata": {},
     "output_type": "execute_result"
    }
   ],
   "source": [
    "Solution().minimumCost(N=4,connections=[[1,2,3],[3,4,4]])"
   ]
  },
  {
   "cell_type": "code",
   "execution_count": 58,
   "metadata": {},
   "outputs": [],
   "source": [
    "from typing import List\n",
    "from collections import defaultdict\n",
    "from heapq import *\n",
    "\n",
    "class Solution:\n",
    "    \"\"\"Prim's minimum spanning tree algo (greedy algo)\n",
    "       (Init from one node, expanding to its smallest weighted edge, node by node)\n",
    "       https://leetcode.com/problems/connecting-cities-with-minimum-cost/discuss/344816/Python-3-Primes-algorithm-from-Wikipedia\n",
    "       https://leetcode.com/problems/connecting-cities-with-minimum-cost/discuss/348271/python3-dictionary-and-min_heap-to-implement-Prim's-algorithm\n",
    "    \"\"\"\n",
    "    def minimumCost(self, N: int, connections: List[List[int]]) -> int:\n",
    "        graph = defaultdict(list)\n",
    "        for v1,v2,w in connections:\n",
    "            graph[v1].append((v2, w))\n",
    "            graph[v2].append((v1, w))\n",
    "            \n",
    "        # 1 is root of min spanning tree\n",
    "        min_heap = [(0, 1)]  # (weight, vertex)\n",
    "        #mst = []  # minimum spanning tree\n",
    "        visited = set()\n",
    "        min_cost = 0\n",
    "        def add_vertex(v1: int) -> int:\n",
    "            for v2, w in graph[v1]:\n",
    "                if v2 not in visited:\n",
    "                    heappush(min_heap, (w, v2))\n",
    "        while min_heap and len(visited) < N:\n",
    "            w, v = heappop(min_heap)\n",
    "            if v in visited:\n",
    "                continue\n",
    "            #mst.append(v)\n",
    "            visited.add(v)\n",
    "            add_vertex(v)\n",
    "            min_cost += w\n",
    "        return min_cost if len(visited) == N else -1"
   ]
  },
  {
   "cell_type": "code",
   "execution_count": 59,
   "metadata": {},
   "outputs": [
    {
     "data": {
      "text/plain": [
       "6"
      ]
     },
     "execution_count": 59,
     "metadata": {},
     "output_type": "execute_result"
    }
   ],
   "source": [
    "Solution().minimumCost(N=3,connections=[[1,2,5],[1,3,6],[2,3,1]])"
   ]
  },
  {
   "cell_type": "code",
   "execution_count": 60,
   "metadata": {},
   "outputs": [
    {
     "data": {
      "text/plain": [
       "-1"
      ]
     },
     "execution_count": 60,
     "metadata": {},
     "output_type": "execute_result"
    }
   ],
   "source": [
    "Solution().minimumCost(N=4,connections=[[1,2,3],[3,4,4]])"
   ]
  }
 ],
 "metadata": {
  "kernelspec": {
   "display_name": "Python 3",
   "language": "python",
   "name": "python3"
  },
  "language_info": {
   "codemirror_mode": {
    "name": "ipython",
    "version": 3
   },
   "file_extension": ".py",
   "mimetype": "text/x-python",
   "name": "python",
   "nbconvert_exporter": "python",
   "pygments_lexer": "ipython3",
   "version": "3.6.8"
  }
 },
 "nbformat": 4,
 "nbformat_minor": 2
}
