{
 "cells": [
  {
   "cell_type": "markdown",
   "metadata": {},
   "source": [
    "### [5296\\. All Elements in Two Binary Search Trees](https://leetcode.com/problems/all-elements-in-two-binary-search-trees/)\n",
    "\n",
    "Difficulty: **Medium**\n",
    "\n",
    "\n",
    "Given two binary search trees `root1` and `root2`.\n",
    "\n",
    "Return a list containing _all the integers_ from _both trees_ sorted in **ascending** order.\n",
    "\n",
    "**Example 1:**\n",
    "\n",
    "![](https://assets.leetcode.com/uploads/2019/12/18/q2-e1.png)\n",
    "\n",
    "```\n",
    "Input: root1 = [2,1,4], root2 = [1,0,3]\n",
    "Output: [0,1,1,2,3,4]\n",
    "```\n",
    "\n",
    "**Example 2:**\n",
    "\n",
    "```\n",
    "Input: root1 = [0,-10,10], root2 = [5,1,7,0,2]\n",
    "Output: [-10,0,0,1,2,5,7,10]\n",
    "```\n",
    "\n",
    "**Example 3:**\n",
    "\n",
    "```\n",
    "Input: root1 = [], root2 = [5,1,7,0,2]\n",
    "Output: [0,1,2,5,7]\n",
    "```\n",
    "\n",
    "**Example 4:**\n",
    "\n",
    "```\n",
    "Input: root1 = [0,-10,10], root2 = []\n",
    "Output: [-10,0,10]\n",
    "```\n",
    "\n",
    "**Example 5:**\n",
    "\n",
    "![](https://assets.leetcode.com/uploads/2019/12/18/q2-e5-.png)\n",
    "\n",
    "```\n",
    "Input: root1 = [1,null,8], root2 = [8,1]\n",
    "Output: [1,1,8,8]\n",
    "```\n",
    "\n",
    "**Constraints:**\n",
    "\n",
    "*   Each tree has at most `5000` nodes.\n",
    "*   Each node's value is between `[-10^5, 10^5]`."
   ]
  },
  {
   "cell_type": "code",
   "execution_count": 1,
   "metadata": {},
   "outputs": [],
   "source": [
    "import sys\n",
    "sys.path.append('..')\n",
    "from leetcode.tree.treenode import TreeNode"
   ]
  },
  {
   "cell_type": "code",
   "execution_count": 3,
   "metadata": {},
   "outputs": [],
   "source": [
    "from typing import List\n",
    "\n",
    "class Solution:\n",
    "    def getAllElements(self, root1: TreeNode, root2: TreeNode) -> List[int]:\n",
    "        def dfs(node: TreeNode, stack: List[int]):\n",
    "            if not node:\n",
    "                return\n",
    "            dfs(node.left, stack)\n",
    "            stack.append(node.val)\n",
    "            dfs(node.right, stack)\n",
    "        # inorder traversal to generate the ascending vals of each tree\n",
    "        vals1 = []\n",
    "        vals2 = []\n",
    "        dfs(root1, vals1)\n",
    "        dfs(root2, vals2)\n",
    "        # merge sort with two head pointers\n",
    "        i = 0\n",
    "        j = 0\n",
    "        res = []\n",
    "        while i < len(vals1) and j < len(vals2):\n",
    "            if vals1[i] < vals2[j]:\n",
    "                res += vals1[i],\n",
    "                i += 1\n",
    "            else:\n",
    "                res += vals2[j],\n",
    "                j += 1\n",
    "        if i == len(vals1):\n",
    "            res += vals2[j:]\n",
    "        else:\n",
    "            res += vals1[i:]\n",
    "        return res"
   ]
  },
  {
   "cell_type": "code",
   "execution_count": 8,
   "metadata": {},
   "outputs": [],
   "source": [
    "from typing import List\n",
    "import heapq\n",
    "\n",
    "class Solution:\n",
    "    def getAllElements(self, root1: TreeNode, root2: TreeNode) -> List[int]:\n",
    "        def dfs(node: TreeNode, stack: List[int]):\n",
    "            if not node:\n",
    "                return\n",
    "            dfs(node.left, stack)\n",
    "            stack.append(node.val)\n",
    "            dfs(node.right, stack)\n",
    "        # inorder traversal to generate the ascending vals of each tree\n",
    "        vals1 = []\n",
    "        vals2 = []\n",
    "        dfs(root1, vals1)\n",
    "        dfs(root2, vals2)\n",
    "        # merge sort\n",
    "        return list(heapq.merge(vals1, vals2))"
   ]
  },
  {
   "cell_type": "code",
   "execution_count": 9,
   "metadata": {},
   "outputs": [
    {
     "data": {
      "text/plain": [
       "[-10, 0, 0, 1, 2, 5, 7, 10]"
      ]
     },
     "execution_count": 9,
     "metadata": {},
     "output_type": "execute_result"
    }
   ],
   "source": [
    "root1 = TreeNode.deserialize('[0,-10,10]')\n",
    "root2 = TreeNode.deserialize('[5,1,7,0,2]')\n",
    "Solution().getAllElements(root1=root1, root2=root2)"
   ]
  },
  {
   "cell_type": "code",
   "execution_count": 10,
   "metadata": {},
   "outputs": [
    {
     "data": {
      "text/plain": [
       "[1, 1, 8, 8]"
      ]
     },
     "execution_count": 10,
     "metadata": {},
     "output_type": "execute_result"
    }
   ],
   "source": [
    "root1 = TreeNode.deserialize('[1,null,8]')\n",
    "root2 = TreeNode.deserialize('[8,1]')\n",
    "Solution().getAllElements(root1=root1, root2=root2)"
   ]
  },
  {
   "cell_type": "code",
   "execution_count": 11,
   "metadata": {},
   "outputs": [
    {
     "data": {
      "text/plain": [
       "[-10, 0, 10]"
      ]
     },
     "execution_count": 11,
     "metadata": {},
     "output_type": "execute_result"
    }
   ],
   "source": [
    "root1 = TreeNode.deserialize('[0,-10,10]')\n",
    "root2 = None\n",
    "Solution().getAllElements(root1=root1, root2=root2)"
   ]
  },
  {
   "cell_type": "code",
   "execution_count": null,
   "metadata": {},
   "outputs": [],
   "source": []
  }
 ],
 "metadata": {
  "kernelspec": {
   "display_name": "Python 3",
   "language": "python",
   "name": "python3"
  },
  "language_info": {
   "codemirror_mode": {
    "name": "ipython",
    "version": 3
   },
   "file_extension": ".py",
   "mimetype": "text/x-python",
   "name": "python",
   "nbconvert_exporter": "python",
   "pygments_lexer": "ipython3",
   "version": "3.6.8"
  }
 },
 "nbformat": 4,
 "nbformat_minor": 2
}
