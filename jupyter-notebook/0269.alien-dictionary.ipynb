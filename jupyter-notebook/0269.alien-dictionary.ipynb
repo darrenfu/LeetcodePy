{
 "cells": [
  {
   "cell_type": "markdown",
   "metadata": {},
   "source": [
    "### [269\\. Alien Dictionary](https://leetcode.com/problems/alien-dictionary/)\n",
    "\n",
    "Difficulty: **Hard**\n",
    "\n",
    "\n",
    "There is a new alien language which uses the latin alphabet. However, the order among letters are unknown to you. You receive a list of **non-empty** words from the dictionary, where **words are sorted lexicographically by the rules of this new language**. Derive the order of letters in this language.\n",
    "\n",
    "**Example 1:**\n",
    "\n",
    "```\n",
    "Input:\n",
    "[\n",
    "  \"wrt\",\n",
    "  \"wrf\",\n",
    "  \"er\",\n",
    "  \"ett\",\n",
    "  \"rftt\"\n",
    "]\n",
    "\n",
    "Output: \"wertf\"\n",
    "```\n",
    "\n",
    "**Example 2:**\n",
    "\n",
    "```\n",
    "Input:\n",
    "[\n",
    "  \"z\",\n",
    "  \"x\"\n",
    "]\n",
    "\n",
    "Output: \"zx\"\n",
    "```\n",
    "\n",
    "**Example 3:**\n",
    "\n",
    "```\n",
    "Input:\n",
    "[\n",
    "  \"z\",\n",
    "  \"x\",\n",
    "  \"z\"\n",
    "] \n",
    "\n",
    "Output: \"\" \n",
    "\n",
    "Explanation: The order is invalid, so return \"\".\n",
    "```\n",
    "\n",
    "**Note:**\n",
    "\n",
    "1.  You may assume all letters are in lowercase.\n",
    "2.  You may assume that if a is a prefix of b, then a must appear before b in the given dictionary.\n",
    "3.  If the order is invalid, return an empty string.\n",
    "4.  There may be multiple valid order of letters, return any one of them is fine."
   ]
  },
  {
   "cell_type": "code",
   "execution_count": 51,
   "metadata": {},
   "outputs": [],
   "source": [
    "# https://leetcode.com/problems/alien-dictionary/discuss/70137/1618-lines-Python-30-lines-C%2B%2B\n",
    "from typing import List\n",
    "\n",
    "class Solution:\n",
    "    def alienOrder(self, words: List[str]) -> str:\n",
    "        # get all in-order pairs\n",
    "        pairs = []\n",
    "        for two_words in zip(words, words[1:]):\n",
    "            for ch1, ch2 in zip(*two_words):\n",
    "                if ch1 != ch2:\n",
    "                    pairs += ch1+ch2,\n",
    "                    break # word1 and word2 differs at this char comparasion\n",
    "        \n",
    "        # suffix array\n",
    "        charset = set(''.join(words))\n",
    "        chardict = []\n",
    "        while pairs:\n",
    "            remain = charset - set(list(zip(*pairs))[1]) # ending letters in pairs\n",
    "            if not remain: return '' # if circle found, the remain set might be empty\n",
    "            chardict += remain\n",
    "            # DP by excluding non-ending letters\n",
    "            pairs = list(filter(remain.isdisjoint, pairs)) # letter in set remain but not in pairs\n",
    "            charset -= remain\n",
    "        return ''.join(chardict + list(charset))"
   ]
  },
  {
   "cell_type": "code",
   "execution_count": 43,
   "metadata": {},
   "outputs": [],
   "source": [
    "# BFS topological sorting using predecessor and successor sets\n",
    "from typing import List\n",
    "from collections import defaultdict\n",
    "\n",
    "class Solution:\n",
    "    def alienOrder(self, words: List[str]) -> str:\n",
    "        # get all in-order pairs\n",
    "        pre, suc = defaultdict(set), defaultdict(set)\n",
    "        for two_words in zip(words, words[1:]):\n",
    "            for ch1, ch2 in zip(*two_words):\n",
    "                if ch1 != ch2:\n",
    "                    suc[ch1].add(ch2)\n",
    "                    pre[ch2].add(ch1)\n",
    "                    break # word1 and word2 differs at this char comparasion\n",
    "        \n",
    "        charset = set(''.join(words))\n",
    "        remain = charset - set(pre.keys()) # ch without dependencies, same as topological sorting's initial queue\n",
    "        order = ''\n",
    "        while remain:\n",
    "            a = remain.pop() # remove a random element from set\n",
    "            order += a\n",
    "            for b in suc[a]:\n",
    "                pre[b].discard(a) # discard() will ignore not present error\n",
    "                if not pre[b]: # is empty set\n",
    "                    remain.add(b)\n",
    "        #return order * (set(order) == charset)\n",
    "        return order if all(map(lambda s: not s, pre.values())) else ''"
   ]
  },
  {
   "cell_type": "code",
   "execution_count": 84,
   "metadata": {},
   "outputs": [],
   "source": [
    "# BFS topological sorting\n",
    "# Follow-ups:\n",
    "# 1. what if has cycle\n",
    "# 2. print all possible orders\n",
    "# 3. solve with DFS\n",
    "# https://leetcode.com/problems/alien-dictionary/discuss/156130/Python-Solution-with-Detailed-Explanation-(91)\n",
    "from typing import List\n",
    "from collections import defaultdict\n",
    "from itertools import product\n",
    "\n",
    "class Solution:\n",
    "    def alienOrder(self, words: List[str]) -> str:\n",
    "        # calculate all edges (u->v, in which u must be ahead of v in alien dictionary)\n",
    "        edges = defaultdict(set)\n",
    "        degrees = defaultdict(int) # in-degrees\n",
    "        for w1, w2 in zip(words, words[1:]):\n",
    "            for ch1, ch2 in zip(w1, w2):#zip(*two_words):\n",
    "                if ch1 != ch2:\n",
    "                    if ch2 not in edges[ch1]:\n",
    "                        edges[ch1].add(ch2) # ch2 depends on (is after) ch1; new edge: ch1 -> ch2; degree[ch2]++\n",
    "                        degrees[ch2] += 1\n",
    "                    break\n",
    "        \n",
    "        charset = set(''.join(words)) # get all vertices\n",
    "        q = [ch for ch in charset if ch not in degrees] # degree=0 as start nodes\n",
    "#         print(q, edges, degrees)\n",
    "        res = []\n",
    "        #visited = set(q)\n",
    "        while q:\n",
    "            res.append([e for e in q])\n",
    "            for _ in range(len(q)):\n",
    "                ch = q.pop(0)\n",
    "                for ch2 in edges[ch]:\n",
    "                    #if ch2 in visited:\n",
    "                        #print(\"cycle detected!\", visited, ch2)\n",
    "                    #else:\n",
    "                        #visited.add(ch2)\n",
    "                    degrees[ch2] -= 1\n",
    "                    if degrees[ch2] == 0:\n",
    "                        q.append(ch2)\n",
    "                        del degrees[ch2]\n",
    "        #if all(map(lambda d: d==0, degrees.values())):\n",
    "        if not degrees:\n",
    "            #return ''.join(res)\n",
    "            return list(product(*res, repeat=1))\n",
    "        return ''"
   ]
  },
  {
   "cell_type": "code",
   "execution_count": 85,
   "metadata": {},
   "outputs": [
    {
     "data": {
      "text/plain": [
       "[('w', 'e', 'r', 't', 'f')]"
      ]
     },
     "execution_count": 85,
     "metadata": {},
     "output_type": "execute_result"
    }
   ],
   "source": [
    "Solution().alienOrder(words=[\n",
    "  \"wrt\",\n",
    "  \"wrf\",\n",
    "  \"er\",\n",
    "  \"ett\",\n",
    "  \"rftt\"\n",
    "])"
   ]
  },
  {
   "cell_type": "code",
   "execution_count": 75,
   "metadata": {},
   "outputs": [
    {
     "data": {
      "text/plain": [
       "[('z', 'x')]"
      ]
     },
     "execution_count": 75,
     "metadata": {},
     "output_type": "execute_result"
    }
   ],
   "source": [
    "Solution().alienOrder(words=[\n",
    "  \"z\",\n",
    "  \"x\"\n",
    "])"
   ]
  },
  {
   "cell_type": "code",
   "execution_count": 76,
   "metadata": {},
   "outputs": [
    {
     "data": {
      "text/plain": [
       "[()]"
      ]
     },
     "execution_count": 76,
     "metadata": {},
     "output_type": "execute_result"
    }
   ],
   "source": [
    "Solution().alienOrder(words=[\n",
    "  \"z\",\n",
    "  \"x\",\n",
    "  \"z\"\n",
    "])"
   ]
  },
  {
   "cell_type": "code",
   "execution_count": 77,
   "metadata": {},
   "outputs": [
    {
     "data": {
      "text/plain": [
       "[('d',)]"
      ]
     },
     "execution_count": 77,
     "metadata": {},
     "output_type": "execute_result"
    }
   ],
   "source": [
    "Solution().alienOrder(words=[\n",
    "  \"ab\",\n",
    "  \"ac\",\n",
    "  \"bcd\",\n",
    "  \"ac\"\n",
    "])"
   ]
  },
  {
   "cell_type": "code",
   "execution_count": 78,
   "metadata": {},
   "outputs": [
    {
     "data": {
      "text/plain": [
       "[('z', 'c'), ('z', 'b'), ('a', 'c'), ('a', 'b')]"
      ]
     },
     "execution_count": 78,
     "metadata": {},
     "output_type": "execute_result"
    }
   ],
   "source": [
    "Solution().alienOrder(words=[\"za\",\"zb\",\"ca\",\"cb\"])"
   ]
  },
  {
   "cell_type": "code",
   "execution_count": 79,
   "metadata": {},
   "outputs": [
    {
     "data": {
      "text/plain": [
       "[('l', 'x', 'q'),\n",
       " ('l', 'h', 'q'),\n",
       " ('c', 'x', 'q'),\n",
       " ('c', 'h', 'q'),\n",
       " ('a', 'x', 'q'),\n",
       " ('a', 'h', 'q'),\n",
       " ('n', 'x', 'q'),\n",
       " ('n', 'h', 'q'),\n",
       " ('y', 'x', 'q'),\n",
       " ('y', 'h', 'q'),\n",
       " ('g', 'x', 'q'),\n",
       " ('g', 'h', 'q'),\n",
       " ('w', 'x', 'q'),\n",
       " ('w', 'h', 'q'),\n",
       " ('s', 'x', 'q'),\n",
       " ('s', 'h', 'q'),\n",
       " ('u', 'x', 'q'),\n",
       " ('u', 'h', 'q'),\n",
       " ('r', 'x', 'q'),\n",
       " ('r', 'h', 'q'),\n",
       " ('m', 'x', 'q'),\n",
       " ('m', 'h', 'q'),\n",
       " ('t', 'x', 'q'),\n",
       " ('t', 'h', 'q'),\n",
       " ('i', 'x', 'q'),\n",
       " ('i', 'h', 'q'),\n",
       " ('b', 'x', 'q'),\n",
       " ('b', 'h', 'q'),\n",
       " ('v', 'x', 'q'),\n",
       " ('v', 'h', 'q'),\n",
       " ('z', 'x', 'q'),\n",
       " ('z', 'h', 'q')]"
      ]
     },
     "execution_count": 79,
     "metadata": {},
     "output_type": "execute_result"
    }
   ],
   "source": [
    "Solution().alienOrder(words=[\"ri\",\"xz\",\"qxf\",\"jhsguaw\",\"dztqrbwbm\",\"dhdqfb\",\"jdv\",\"fcgfsilnb\",\"ooby\"])"
   ]
  },
  {
   "cell_type": "code",
   "execution_count": null,
   "metadata": {},
   "outputs": [],
   "source": []
  }
 ],
 "metadata": {
  "kernelspec": {
   "display_name": "Python 3",
   "language": "python",
   "name": "python3"
  },
  "language_info": {
   "codemirror_mode": {
    "name": "ipython",
    "version": 3
   },
   "file_extension": ".py",
   "mimetype": "text/x-python",
   "name": "python",
   "nbconvert_exporter": "python",
   "pygments_lexer": "ipython3",
   "version": "3.6.8"
  }
 },
 "nbformat": 4,
 "nbformat_minor": 2
}
