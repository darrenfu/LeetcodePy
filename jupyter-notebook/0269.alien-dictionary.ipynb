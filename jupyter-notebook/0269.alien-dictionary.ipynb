{
 "cells": [
  {
   "cell_type": "code",
   "execution_count": 51,
   "metadata": {},
   "outputs": [],
   "source": [
    "# Runtime: 44 ms, faster than 43.51%\n",
    "# https://leetcode.com/problems/alien-dictionary/discuss/70137/1618-lines-Python-30-lines-C%2B%2B\n",
    "from typing import List\n",
    "\n",
    "class Solution:\n",
    "    def alienOrder(self, words: List[str]) -> str:\n",
    "        # get all in-order pairs\n",
    "        pairs = []\n",
    "        for two_words in zip(words, words[1:]):\n",
    "            for ch1, ch2 in zip(*two_words):\n",
    "                if ch1 != ch2:\n",
    "                    pairs += ch1+ch2,\n",
    "                    break # word1 and word2 differs at this char comparasion\n",
    "        \n",
    "        # suffix array\n",
    "        charset = set(''.join(words))\n",
    "        chardict = []\n",
    "        while pairs:\n",
    "            remain = charset - set(list(zip(*pairs))[1]) # ending letters in pairs\n",
    "            if not remain: return '' # if circle found, the remain set might be empty\n",
    "            chardict += remain\n",
    "            # DP by excluding non-ending letters\n",
    "            pairs = list(filter(remain.isdisjoint, pairs)) # letter in set remain but not in pairs\n",
    "            charset -= remain\n",
    "        return ''.join(chardict + list(charset))"
   ]
  },
  {
   "cell_type": "code",
   "execution_count": 42,
   "metadata": {},
   "outputs": [],
   "source": [
    "# Runtime: 36 ms, faster than 92.53%\n",
    "# Use predecessor and successor sets\n",
    "from typing import List\n",
    "from collections import defaultdict\n",
    "\n",
    "class Solution:\n",
    "    def alienOrder(self, words: List[str]) -> str:\n",
    "        # get all in-order pairs\n",
    "        pre, suc = defaultdict(set), defaultdict(set)\n",
    "        for two_words in zip(words, words[1:]):\n",
    "            for ch1, ch2 in zip(*two_words):\n",
    "                if ch1 != ch2:\n",
    "                    suc[ch1].add(ch2)\n",
    "                    pre[ch2].add(ch1)\n",
    "                    break # word1 and word2 differs at this char comparasion\n",
    "        \n",
    "        charset = set(''.join(words))\n",
    "        remain = charset - set(pre.keys())\n",
    "        order = ''\n",
    "        while remain:\n",
    "            a = remain.pop() # remove a random element from set\n",
    "            order += a\n",
    "            for b in suc[a]:\n",
    "                pre[b].discard(a) # discard() will ignore not present error\n",
    "                if not pre[b]:\n",
    "                    remain.add(b)\n",
    "        return order * (set(order) == charset)"
   ]
  },
  {
   "cell_type": "code",
   "execution_count": 64,
   "metadata": {},
   "outputs": [],
   "source": [
    "# BFS topological sorting\n",
    "# Runtime: 52 ms, faster than 8.26% \n",
    "# https://leetcode.com/problems/alien-dictionary/discuss/156130/Python-Solution-with-Detailed-Explanation-(91)\n",
    "from typing import List\n",
    "from collections import defaultdict\n",
    "\n",
    "class Solution:\n",
    "    def alienOrder(self, words: List[str]) -> str:\n",
    "        # calculate all edges (u->v, in which u must be ahead of v in alien dictionary)\n",
    "        edges = defaultdict(set)\n",
    "        degrees = defaultdict(int)\n",
    "        for two_words in zip(words, words[1:]):\n",
    "            for ch1, ch2 in zip(*two_words):\n",
    "                if ch1 != ch2: # ch1 -> ch2 (degree[ch2]++)\n",
    "                    edges[ch1].add(ch2) # ch2 depends on (is after) ch1\n",
    "                    break \n",
    "        # calculate in-degrees for all vertices\n",
    "        for ch in edges.keys():\n",
    "            for ch2 in edges[ch]:\n",
    "                degrees[ch2] += 1\n",
    "        \n",
    "        charset = set(''.join(words)) # get all vertices\n",
    "        q = [ch for ch in charset if ch not in degrees] # degree=0 as start nodes\n",
    "#         print(q, edges, degrees)\n",
    "        res = []\n",
    "        while q:\n",
    "            ch = q.pop(0)\n",
    "            res.append(ch)\n",
    "            for ch2 in edges[ch]:\n",
    "                degrees[ch2] -= 1\n",
    "                if degrees[ch2] == 0:\n",
    "                    q.append(ch2)\n",
    "        if all(map(lambda d: d==0, degrees.values())):\n",
    "            return ''.join(res)\n",
    "        return ''"
   ]
  },
  {
   "cell_type": "code",
   "execution_count": 65,
   "metadata": {},
   "outputs": [
    {
     "data": {
      "text/plain": [
       "'wertf'"
      ]
     },
     "execution_count": 65,
     "metadata": {},
     "output_type": "execute_result"
    }
   ],
   "source": [
    "Solution().alienOrder(words=[\n",
    "  \"wrt\",\n",
    "  \"wrf\",\n",
    "  \"er\",\n",
    "  \"ett\",\n",
    "  \"rftt\"\n",
    "])"
   ]
  },
  {
   "cell_type": "code",
   "execution_count": 66,
   "metadata": {},
   "outputs": [
    {
     "data": {
      "text/plain": [
       "'zx'"
      ]
     },
     "execution_count": 66,
     "metadata": {},
     "output_type": "execute_result"
    }
   ],
   "source": [
    "Solution().alienOrder(words=[\n",
    "  \"z\",\n",
    "  \"x\"\n",
    "])"
   ]
  },
  {
   "cell_type": "code",
   "execution_count": 67,
   "metadata": {},
   "outputs": [
    {
     "data": {
      "text/plain": [
       "''"
      ]
     },
     "execution_count": 67,
     "metadata": {},
     "output_type": "execute_result"
    }
   ],
   "source": [
    "Solution().alienOrder(words=[\n",
    "  \"z\",\n",
    "  \"x\",\n",
    "  \"z\"\n",
    "])"
   ]
  },
  {
   "cell_type": "code",
   "execution_count": 68,
   "metadata": {},
   "outputs": [
    {
     "data": {
      "text/plain": [
       "''"
      ]
     },
     "execution_count": 68,
     "metadata": {},
     "output_type": "execute_result"
    }
   ],
   "source": [
    "Solution().alienOrder(words=[\n",
    "  \"ab\",\n",
    "  \"ac\",\n",
    "  \"bcd\",\n",
    "  \"ac\"\n",
    "])"
   ]
  },
  {
   "cell_type": "code",
   "execution_count": 69,
   "metadata": {},
   "outputs": [
    {
     "data": {
      "text/plain": [
       "'zacb'"
      ]
     },
     "execution_count": 69,
     "metadata": {},
     "output_type": "execute_result"
    }
   ],
   "source": [
    "Solution().alienOrder(words=[\"za\",\"zb\",\"ca\",\"cb\"])"
   ]
  },
  {
   "cell_type": "code",
   "execution_count": 70,
   "metadata": {},
   "outputs": [
    {
     "data": {
      "text/plain": [
       "''"
      ]
     },
     "execution_count": 70,
     "metadata": {},
     "output_type": "execute_result"
    }
   ],
   "source": [
    "Solution().alienOrder(words=[\"ri\",\"xz\",\"qxf\",\"jhsguaw\",\"dztqrbwbm\",\"dhdqfb\",\"jdv\",\"fcgfsilnb\",\"ooby\"])"
   ]
  },
  {
   "cell_type": "code",
   "execution_count": null,
   "metadata": {},
   "outputs": [],
   "source": []
  }
 ],
 "metadata": {
  "kernelspec": {
   "display_name": "Python 3",
   "language": "python",
   "name": "python3"
  },
  "language_info": {
   "codemirror_mode": {
    "name": "ipython",
    "version": 3
   },
   "file_extension": ".py",
   "mimetype": "text/x-python",
   "name": "python",
   "nbconvert_exporter": "python",
   "pygments_lexer": "ipython3",
   "version": "3.6.8"
  }
 },
 "nbformat": 4,
 "nbformat_minor": 2
}
