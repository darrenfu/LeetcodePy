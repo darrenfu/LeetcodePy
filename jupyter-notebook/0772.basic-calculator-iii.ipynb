{
 "cells": [
  {
   "cell_type": "markdown",
   "metadata": {},
   "source": [
    "### [772\\. Basic Calculator III](https://leetcode.com/problems/basic-calculator-iii/)\n",
    "\n",
    "Difficulty: **Hard**\n",
    "\n",
    "\n",
    "Implement a basic calculator to evaluate a simple expression string.\n",
    "\n",
    "The expression string may contain open `(` and closing parentheses `)`, the plus `+` or minus sign `-`, **non-negative** integers and empty spaces .\n",
    "\n",
    "The expression string contains only non-negative integers, `+`, `-`, `*`, `/` operators , open `(` and closing parentheses `)` and empty spaces . The integer division should truncate toward zero.\n",
    "\n",
    "You may assume that the given expression is always valid. All intermediate results will be in the range of `[-2147483648, 2147483647]`.\n",
    "\n",
    "Some examples:\n",
    "\n",
    "```\n",
    "\"1 + 1\" = 2\n",
    "\" 6-4 / 2 \" = 4\n",
    "\"2*(5+5*2)/3+(6/2+8)\" = 21\n",
    "\"(2+6* 3+5- (3*14/7+2)*5)+3\"=-12\n",
    "```\n",
    "\n",
    "**Note:** **Do not** use the `eval` built-in library function."
   ]
  },
  {
   "cell_type": "code",
   "execution_count": 34,
   "metadata": {},
   "outputs": [],
   "source": [
    "# Reverse Polish Notation (RPN)\n",
    "# need to special handle unary operator (-), e.g. 1-(-7)\n",
    "from typing import List\n",
    "\n",
    "class Solution:\n",
    "    def calculate(self, s: str) -> int:\n",
    "        # shunting-yard algorithm\n",
    "        def infix2postfix(exp: str) -> List[str]:\n",
    "            PRECEDENCE = {'(': 0, '+': 1, '-': 1, '*': 2, '/': 2, ')': 3}\n",
    "            stack, q, digit_cache = [], [], []\n",
    "            prev_isdigit = False\n",
    "            for ch in exp:\n",
    "                if ch == ' ': # skip whitespaces\n",
    "                    continue\n",
    "                elif ch not in '()+-*/': # add integer into queue\n",
    "                    digit_cache.append(ch)\n",
    "                    prev_isdigit = True\n",
    "                else:\n",
    "                    # if ch is a '+' or '-' sign before a number, the prev valid ch should be either a number or a ')'\n",
    "                    if not prev_isdigit and ch in '+-':\n",
    "                        digit_cache.append(ch)\n",
    "                        continue\n",
    "                    _addDigit(digit_cache, q)\n",
    "                    if ch == ')':\n",
    "                        while stack and stack[-1] != '(':\n",
    "                            q.append(stack.pop())\n",
    "                        stack.pop() # remove '('\n",
    "                        prev_isdigit = True\n",
    "                        continue\n",
    "                    elif ch in '+-*/':\n",
    "                        while stack and PRECEDENCE[stack[-1]] >= PRECEDENCE[ch]:\n",
    "                            q.append(stack.pop())\n",
    "                        stack.append(ch)\n",
    "                    elif ch == '(':\n",
    "                        stack.append(ch)\n",
    "                    prev_isdigit = False\n",
    "                        \n",
    "            _addDigit(digit_cache, q)\n",
    "            # important: pop all remaining operators from stack and add to the queue\n",
    "            while stack:\n",
    "                q.append(stack.pop())\n",
    "            return q\n",
    "        \n",
    "        def _addDigit(digit_cache: List[str], queue: List[str]):\n",
    "            if digit_cache:\n",
    "                queue.append(''.join(digit_cache))\n",
    "                digit_cache.clear()\n",
    "            \n",
    "        def evalPostfix(exp: List[str]) -> int:\n",
    "            stack = []\n",
    "            for token in exp:\n",
    "                if token not in '+-*/': # integer\n",
    "                    stack.append(int(token))\n",
    "                else:\n",
    "                    n2, n1 = stack.pop(), stack.pop()# if stack else None\n",
    "                    #n3 = _sign(n2, token) if n1 is None else _calc(n1, n2, token)\n",
    "                    n3 = _calc(n1, n2, token)\n",
    "                    stack.append(n3)\n",
    "            return stack[-1]\n",
    "        \n",
    "        def _sign(n: int, sign: str) -> int:\n",
    "            if sign == '+':\n",
    "                return n\n",
    "            elif sign == '-':\n",
    "                return -n\n",
    "            \n",
    "        def _calc(n1: int, n2: int, op: str) -> int:\n",
    "            if op == '+':\n",
    "                return n1 + n2\n",
    "            elif op == '-':\n",
    "                return n1 - n2\n",
    "            elif op == '*':\n",
    "                return n1 * n2\n",
    "            elif op == '/':\n",
    "                return n1 // n2\n",
    "            else:\n",
    "                raise Exception(\"Operator isn't supported {}\".format(op))\n",
    "        \n",
    "        postfix = infix2postfix(s)\n",
    "        print(\"postfix: {}\".format(postfix))\n",
    "        return evalPostfix(postfix)"
   ]
  },
  {
   "cell_type": "code",
   "execution_count": 35,
   "metadata": {},
   "outputs": [
    {
     "name": "stdout",
     "output_type": "stream",
     "text": [
      "postfix: ['2', '4', '5', '/', '2', '+', '+', '3', '-', '6', '8', '+', '*']\n"
     ]
    },
    {
     "data": {
      "text/plain": [
       "14"
      ]
     },
     "execution_count": 35,
     "metadata": {},
     "output_type": "execute_result"
    }
   ],
   "source": [
    "Solution().calculate(\"(2+(4/5+2)-3)*(6+8)\")"
   ]
  },
  {
   "cell_type": "code",
   "execution_count": 36,
   "metadata": {},
   "outputs": [
    {
     "name": "stdout",
     "output_type": "stream",
     "text": [
      "postfix: ['10', '40', '50', '+', '/']\n"
     ]
    },
    {
     "data": {
      "text/plain": [
       "0"
      ]
     },
     "execution_count": 36,
     "metadata": {},
     "output_type": "execute_result"
    }
   ],
   "source": [
    "Solution().calculate(\"10 / (40+50)\")"
   ]
  },
  {
   "cell_type": "code",
   "execution_count": 37,
   "metadata": {},
   "outputs": [
    {
     "name": "stdout",
     "output_type": "stream",
     "text": [
      "postfix: ['-1', '4', '3', '*', '3', '/', '3', '/', '+']\n"
     ]
    },
    {
     "data": {
      "text/plain": [
       "0"
      ]
     },
     "execution_count": 37,
     "metadata": {},
     "output_type": "execute_result"
    }
   ],
   "source": [
    "Solution().calculate(\"-1+4*3/3/3\")"
   ]
  },
  {
   "cell_type": "code",
   "execution_count": 38,
   "metadata": {},
   "outputs": [
    {
     "name": "stdout",
     "output_type": "stream",
     "text": [
      "postfix: ['-1', '-4', '3', '3', '/', '3', '/', '+', '+']\n"
     ]
    },
    {
     "data": {
      "text/plain": [
       "-5"
      ]
     },
     "execution_count": 38,
     "metadata": {},
     "output_type": "execute_result"
    }
   ],
   "source": [
    "Solution().calculate(\"-1+(-4+3/3/3)\")"
   ]
  },
  {
   "cell_type": "code",
   "execution_count": 39,
   "metadata": {},
   "outputs": [
    {
     "name": "stdout",
     "output_type": "stream",
     "text": [
      "postfix: ['1', '-7', '-']\n"
     ]
    },
    {
     "data": {
      "text/plain": [
       "8"
      ]
     },
     "execution_count": 39,
     "metadata": {},
     "output_type": "execute_result"
    }
   ],
   "source": [
    "Solution().calculate(\"1-(-7)\")"
   ]
  },
  {
   "cell_type": "code",
   "execution_count": 40,
   "metadata": {},
   "outputs": [
    {
     "name": "stdout",
     "output_type": "stream",
     "text": [
      "postfix: ['2', '6', '3', '*', '+', '5', '+', '3', '14', '*', '7', '/', '2', '+', '5', '*', '-', '3', '+']\n"
     ]
    },
    {
     "data": {
      "text/plain": [
       "-12"
      ]
     },
     "execution_count": 40,
     "metadata": {},
     "output_type": "execute_result"
    }
   ],
   "source": [
    "Solution().calculate(\"(2+6* 3+5- (3*14/7+2)*5)+3\")"
   ]
  },
  {
   "cell_type": "code",
   "execution_count": null,
   "metadata": {},
   "outputs": [],
   "source": []
  }
 ],
 "metadata": {
  "kernelspec": {
   "display_name": "Python 3",
   "language": "python",
   "name": "python3"
  },
  "language_info": {
   "codemirror_mode": {
    "name": "ipython",
    "version": 3
   },
   "file_extension": ".py",
   "mimetype": "text/x-python",
   "name": "python",
   "nbconvert_exporter": "python",
   "pygments_lexer": "ipython3",
   "version": "3.6.8"
  }
 },
 "nbformat": 4,
 "nbformat_minor": 2
}
