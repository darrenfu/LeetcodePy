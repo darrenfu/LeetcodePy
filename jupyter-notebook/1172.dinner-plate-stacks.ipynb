{
 "cells": [
  {
   "cell_type": "code",
   "execution_count": 1,
   "metadata": {},
   "outputs": [],
   "source": [
    "# https://leetcode.com/problems/dinner-plate-stacks/discuss/366331/C%2B%2BPython-Solution\n",
    "from heapq import *\n",
    "\n",
    "class DinnerPlates:\n",
    "\n",
    "    def __init__(self, capacity: int):\n",
    "        self.CAPACITY = capacity\n",
    "        self.q = []  # min heap storing all of the non-full (non-empty) stacks\n",
    "        self.stacks = []\n",
    "\n",
    "    def push(self, val: int) -> None:\n",
    "        while self.q and self.q[0] < len(self.stacks) and len(self.stacks[self.q[0]]) == self.CAPACITY:\n",
    "            heappop(self.q)  # Find the leftmost smallest available index\n",
    "        if not self.q:\n",
    "            heappush(self.q, len(self.stacks))\n",
    "            self.stacks.append([])  # append [] if the rightmost stack is full\n",
    "        self.stacks[self.q[0]].append(val)\n",
    "\n",
    "    def pop(self) -> int:\n",
    "        while self.stacks and not self.stacks[-1]:\n",
    "            self.stacks.pop()\n",
    "        return self.popAtStack(len(self.stacks) - 1)\n",
    "        \n",
    "\n",
    "    def popAtStack(self, index: int) -> int:\n",
    "        if 0 <= index < len(self.stacks) and self.stacks[index]:\n",
    "            heappush(self.q, index)\n",
    "            return self.stacks[index].pop()\n",
    "        return -1\n",
    "\n",
    "\n",
    "# Your DinnerPlates object will be instantiated and called as such:\n",
    "# obj = DinnerPlates(capacity)\n",
    "# obj.push(val)\n",
    "# param_2 = obj.pop()\n",
    "# param_3 = obj.popAtStack(index)"
   ]
  }
 ],
 "metadata": {
  "kernelspec": {
   "display_name": "Python 3",
   "language": "python",
   "name": "python3"
  },
  "language_info": {
   "codemirror_mode": {
    "name": "ipython",
    "version": 3
   },
   "file_extension": ".py",
   "mimetype": "text/x-python",
   "name": "python",
   "nbconvert_exporter": "python",
   "pygments_lexer": "ipython3",
   "version": "3.6.8"
  }
 },
 "nbformat": 4,
 "nbformat_minor": 2
}
