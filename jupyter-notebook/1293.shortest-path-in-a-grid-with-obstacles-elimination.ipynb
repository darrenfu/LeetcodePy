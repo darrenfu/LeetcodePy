{
 "cells": [
  {
   "cell_type": "markdown",
   "metadata": {},
   "source": [
    "### [1293\\. Shortest Path in a Grid with Obstacles Elimination](https://leetcode.com/problems/shortest-path-in-a-grid-with-obstacles-elimination/)\n",
    "\n",
    "Difficulty: **Hard**\n",
    "\n",
    "\n",
    "Given a `m * n` grid, where each cell is either `0` (empty) or `1` (obstacle). In one step, you can move up, down, left or right from and to an empty cell.\n",
    "\n",
    "Return the minimum number of steps to walk from the upper left corner `(0, 0)` to the lower right corner `(m-1, n-1)` given that you can eliminate **at most** `k` obstacles. If it is not possible to find such walk return -1.\n",
    "\n",
    "**Example 1:**\n",
    "\n",
    "```\n",
    "Input: \n",
    "grid = \n",
    "[[0,0,0],\n",
    " [1,1,0],\n",
    " [0,0,0],\n",
    " [0,1,1],\n",
    " [0,0,0]], \n",
    "k = 1\n",
    "Output: 6\n",
    "Explanation: \n",
    "The shortest path without eliminating any obstacle is 10. \n",
    "The shortest path with one obstacle elimination at position (3,2) is 6\\. Such path is (0,0) -> (0,1) -> (0,2) -> (1,2) -> (2,2) -> (3,2) -> (4,2).\n",
    "```\n",
    "\n",
    "**Example 2:**\n",
    "\n",
    "```\n",
    "Input: \n",
    "grid = \n",
    "[[0,1,1],\n",
    " [1,1,1],\n",
    " [1,0,0]], \n",
    "k = 1\n",
    "Output: -1\n",
    "Explanation: \n",
    "We need to eliminate at least two obstacles to find such a walk.\n",
    "```\n",
    "\n",
    "**Constraints:**\n",
    "\n",
    "*   `grid.length == m`\n",
    "*   `grid[0].length == n`\n",
    "*   `1 <= m, n <= 40`\n",
    "*   `1 <= k <= m*n`\n",
    "*   `grid[i][j] == 0 **or** 1`\n",
    "*   `grid[0][0] == grid[m-1][n-1] == 0`"
   ]
  },
  {
   "cell_type": "code",
   "execution_count": 19,
   "metadata": {},
   "outputs": [],
   "source": [
    "# min-heap (@awice)\n",
    "# T: O(N^3 * logN)\n",
    "from typing import List\n",
    "from heapq import *\n",
    "\n",
    "class Solution:\n",
    "    def shortestPath(self, grid: List[List[int]], k: int) -> int:\n",
    "        def neighbors(r: int, c: int, kk: int):\n",
    "            for nr, nc in ((r-1,c),(r+1,c),(r,c-1),(r,c+1)):\n",
    "                if 0<=nr<R and 0<=nc<C:\n",
    "                    # additional check: if cell is obstacle, check whether can eliminate it\n",
    "                    nk = kk + grid[nr][nc]\n",
    "                    if nk <= k:\n",
    "                        yield(nr, nc, nk)\n",
    "                        \n",
    "        R, C = len(grid), len(grid[0])\n",
    "        # eliminated obstacles = 0 -> 正推\n",
    "        heap = [(0,0,0,0)] # dist, r, c, eliminated obstacles\n",
    "        dp = {(0,0,0):0} # (r,c,eliminated obstacles) -> min_dist\n",
    "        INF = float('inf')\n",
    "        while heap:\n",
    "            d, r, c, kk = heappop(heap)\n",
    "            if dp.get((r,c,kk), INF) < d: continue\n",
    "            if r == R-1 and c == C-1: return d\n",
    "            for nei in neighbors(r, c, kk):\n",
    "                if dp.get(nei, INF) > d+1:\n",
    "                    dp[nei] = d+1\n",
    "                    print(nei, d+1)\n",
    "                    heappush(heap, (d+1,)+nei) # two tuple concatination\n",
    "        return -1"
   ]
  },
  {
   "cell_type": "code",
   "execution_count": 41,
   "metadata": {},
   "outputs": [],
   "source": [
    "# BFS\n",
    "# We don't need to keep track of the steps because remember we are using BFS for the shortest path. \n",
    "# https://leetcode.com/problems/shortest-path-in-a-grid-with-obstacles-elimination/discuss/451787/Python-O(m*n*k)-BFS-Solution-with-Explanation\n",
    "from typing import List\n",
    "\n",
    "class Solution:\n",
    "    def shortestPath(self, grid: List[List[int]], k: int) -> int:\n",
    "        def neighbors(r: int, c: int, kk: int):\n",
    "            for nr, nc in ((r-1,c),(r+1,c),(r,c-1),(r,c+1)):\n",
    "                if 0<=nr<R and 0<=nc<C:\n",
    "                    # additional check: if cell is obstacle, check whether can eliminate it\n",
    "                    nk = kk - grid[nr][nc]\n",
    "                    if nk >= 0:\n",
    "                        yield(nr, nc, nk)\n",
    "                        \n",
    "        R, C = len(grid), len(grid[0])\n",
    "        # eliminated obstacles = k -> 倒推\n",
    "        q = [(0,0,0,k)] # dist, r, c, eliminated obstacles\n",
    "        visited = set([(0,0,k)])\n",
    "        while q:\n",
    "            d, r, c, kk = q.pop(0)\n",
    "            if r == R-1 and c == C-1: return d\n",
    "            for nr, nc, nk in neighbors(r,c,kk):\n",
    "                if (nr, nc, nk) not in visited:\n",
    "                    #if nr == R-1 and nc == C-1: return d+1\n",
    "                    q += (d+1,nr,nc,nk),\n",
    "                    visited.add((nr, nc, nk))\n",
    "        return -1"
   ]
  },
  {
   "cell_type": "code",
   "execution_count": 42,
   "metadata": {},
   "outputs": [
    {
     "data": {
      "text/plain": [
       "6"
      ]
     },
     "execution_count": 42,
     "metadata": {},
     "output_type": "execute_result"
    }
   ],
   "source": [
    "Solution().shortestPath([\n",
    "    [0,0,0],\n",
    "    [1,1,0],\n",
    "    [0,0,0],\n",
    "    [0,1,1],\n",
    "    [0,0,0]], 1)"
   ]
  },
  {
   "cell_type": "code",
   "execution_count": 43,
   "metadata": {},
   "outputs": [
    {
     "data": {
      "text/plain": [
       "-1"
      ]
     },
     "execution_count": 43,
     "metadata": {},
     "output_type": "execute_result"
    }
   ],
   "source": [
    "Solution().shortestPath([\n",
    "    [0,1,0],\n",
    "    [0,1,1],\n",
    "    [1,1,0]], 1)"
   ]
  },
  {
   "cell_type": "code",
   "execution_count": 44,
   "metadata": {},
   "outputs": [
    {
     "data": {
      "text/plain": [
       "11"
      ]
     },
     "execution_count": 44,
     "metadata": {},
     "output_type": "execute_result"
    }
   ],
   "source": [
    "Solution().shortestPath([\n",
    "    [0,1,1,0,0,0],\n",
    "    [0,1,1,0,1,0],\n",
    "    [0,1,0,0,1,0]], 1)"
   ]
  },
  {
   "cell_type": "code",
   "execution_count": 45,
   "metadata": {},
   "outputs": [
    {
     "data": {
      "text/plain": [
       "13"
      ]
     },
     "execution_count": 45,
     "metadata": {},
     "output_type": "execute_result"
    }
   ],
   "source": [
    "Solution().shortestPath([\n",
    "    [0,1,0,0,0,1,0,0],\n",
    "    [0,1,0,1,0,1,0,1],\n",
    "    [0,0,0,1,0,0,1,0]], 1)"
   ]
  },
  {
   "cell_type": "code",
   "execution_count": null,
   "metadata": {},
   "outputs": [],
   "source": []
  }
 ],
 "metadata": {
  "kernelspec": {
   "display_name": "Python 3",
   "language": "python",
   "name": "python3"
  },
  "language_info": {
   "codemirror_mode": {
    "name": "ipython",
    "version": 3
   },
   "file_extension": ".py",
   "mimetype": "text/x-python",
   "name": "python",
   "nbconvert_exporter": "python",
   "pygments_lexer": "ipython3",
   "version": "3.6.8"
  }
 },
 "nbformat": 4,
 "nbformat_minor": 2
}
