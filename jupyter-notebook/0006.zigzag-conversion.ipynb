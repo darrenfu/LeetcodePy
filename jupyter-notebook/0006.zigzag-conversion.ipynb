{
 "cells": [
  {
   "cell_type": "code",
   "execution_count": 1,
   "metadata": {},
   "outputs": [],
   "source": [
    "# Runtime: 88 ms, faster than 23.40% \n",
    "class Solution:\n",
    "    def convert(self, s: str, numRows: int) -> str:\n",
    "        def zigzag(s: str, numRows: int):\n",
    "            i, L = 0, len(s)\n",
    "            while True:\n",
    "                # downwards\n",
    "                for r in range(0, numRows-1):\n",
    "                    if i == L:\n",
    "                        return\n",
    "                    res[r].append(s[i])\n",
    "                    i += 1\n",
    "                # upwards\n",
    "                for r in range(numRows-1, 0, -1):\n",
    "                    if i == L:\n",
    "                        return\n",
    "                    res[r].append(s[i])\n",
    "                    i += 1\n",
    "        if not s: return '' # Edge case I\n",
    "        if numRows == 1: return s # Edge case II\n",
    "        if numRows >= len(s): return s # Edge case III\n",
    "        res = [[] for _ in range(numRows)]\n",
    "        zigzag(s, numRows)\n",
    "        return ''.join([''.join(line) for line in res])"
   ]
  },
  {
   "cell_type": "code",
   "execution_count": 10,
   "metadata": {},
   "outputs": [],
   "source": [
    "# Runtime: 44 ms, faster than 99.90% \n",
    "# https://leetcode.com/problems/zigzag-conversion/discuss/3404/Python-O(n)-Solution-in-96ms-(99.43)\n",
    "class Solution:\n",
    "    def convert(self, s: str, numRows: int) -> str:\n",
    "        L = len(s)\n",
    "        if numRows == 1 or numRows >= L: return s # Edge cases if there is only one horizontal/vertical line\n",
    "        res = [''] * numRows\n",
    "        idx, step = 0, -1\n",
    "        for ch in s:\n",
    "            res[idx] += ch\n",
    "            # change iteration direction\n",
    "            if idx == 0 or idx == numRows-1:\n",
    "                step *= -1\n",
    "            idx += step\n",
    "        return ''.join(res)"
   ]
  },
  {
   "cell_type": "code",
   "execution_count": 11,
   "metadata": {},
   "outputs": [
    {
     "data": {
      "text/plain": [
       "'PAHNAPLSIIGYIR'"
      ]
     },
     "execution_count": 11,
     "metadata": {},
     "output_type": "execute_result"
    }
   ],
   "source": [
    "Solution().convert(s=\"PAYPALISHIRING\", numRows=3)"
   ]
  },
  {
   "cell_type": "code",
   "execution_count": 12,
   "metadata": {},
   "outputs": [
    {
     "data": {
      "text/plain": [
       "'PINALSIGYAHRPI'"
      ]
     },
     "execution_count": 12,
     "metadata": {},
     "output_type": "execute_result"
    }
   ],
   "source": [
    "Solution().convert(s = \"PAYPALISHIRING\", numRows = 4)"
   ]
  },
  {
   "cell_type": "code",
   "execution_count": null,
   "metadata": {},
   "outputs": [],
   "source": []
  }
 ],
 "metadata": {
  "kernelspec": {
   "display_name": "Python 3",
   "language": "python",
   "name": "python3"
  },
  "language_info": {
   "codemirror_mode": {
    "name": "ipython",
    "version": 3
   },
   "file_extension": ".py",
   "mimetype": "text/x-python",
   "name": "python",
   "nbconvert_exporter": "python",
   "pygments_lexer": "ipython3",
   "version": "3.6.8"
  }
 },
 "nbformat": 4,
 "nbformat_minor": 2
}
