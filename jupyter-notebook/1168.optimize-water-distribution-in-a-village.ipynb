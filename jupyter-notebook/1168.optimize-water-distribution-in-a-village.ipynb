{
 "cells": [
  {
   "cell_type": "code",
   "execution_count": 57,
   "metadata": {},
   "outputs": [],
   "source": [
    "# from @yihuikang  \n",
    "from typing import List\n",
    "from heapq import *\n",
    "\n",
    "class Solution:\n",
    "    \"\"\" min_heap\n",
    "    \"\"\"\n",
    "    def minCostToSupplyWater(self, n: int, wells: List[int], pipes: List[List[int]]) -> int:\n",
    "        edge = [[] for i in range(n)]\n",
    "        for p in pipes:\n",
    "            # v1 -> (v2, weight)\n",
    "            edge[p[0]-1].append((p[1]-1, p[2]))\n",
    "            edge[p[1]-1].append((p[0]-1, p[2]))\n",
    "        \n",
    "        q = []\n",
    "        dis = wells.copy()\n",
    "        visited = [False for i in range(n)]\n",
    "        q = [(w, i) for i, w in enumerate(wells)]\n",
    "        heapify(q)\n",
    "\n",
    "        ans = 0\n",
    "        for _ in range(n):\n",
    "            dx, x = heappop(q)\n",
    "            while visited[x]:  # go through all pushed edge weights till we meet next vertex\n",
    "                dx, x = heappop(q)\n",
    "            ans += dx\n",
    "            visited[x] = True\n",
    "            # check weight of all related edges from this vertex\n",
    "            for y, dy in edge[x]:\n",
    "                # edge weight overwrite origin weight (either well value or previous edge weight)\n",
    "                if dis[y] > dy:\n",
    "                    dis[y] = dy\n",
    "                    heappush(q, (dy, y))\n",
    "        return ans"
   ]
  },
  {
   "cell_type": "code",
   "execution_count": 58,
   "metadata": {},
   "outputs": [
    {
     "data": {
      "text/plain": [
       "3"
      ]
     },
     "execution_count": 58,
     "metadata": {},
     "output_type": "execute_result"
    }
   ],
   "source": [
    "Solution().minCostToSupplyWater(n = 3, wells = [1,2,2], pipes = [[1,2,1],[2,3,1]])"
   ]
  },
  {
   "cell_type": "code",
   "execution_count": 59,
   "metadata": {},
   "outputs": [],
   "source": [
    "# https://leetcode.com/problems/optimize-water-distribution-in-a-village/discuss/366005/Python-Solutions-of-Prim's-and-Kruskal's-minimum-spanning-tree-algorithms-with-optimization\n",
    "import sys\n",
    "sys.path.append('..')\n",
    "from leetcode.unionfind.uf import UF\n",
    "from typing import List\n",
    "\n",
    "class Solution:\n",
    "    \"\"\" Kruskal with Union Find\n",
    "    Close to 1135.connecting-cities-with-minimum-cost \n",
    "    except that we need an extra hidden well to connect to all wells.\n",
    "    We need to make the village a connected graph (MST)\n",
    "    \"\"\"\n",
    "    def minCostToSupplyWater(self, n: int, wells: List[int], pipes: List[List[int]]) -> int:\n",
    "        uf = UF(n+1)\n",
    "        # 0 is a hidden well[0] connected to all wells, which converts well costs to edge costs\n",
    "        # (cost, v1, v2)\n",
    "        w = [[c, 0, i] for i, c in enumerate(wells, start=1)]\n",
    "        p = [[c, i, j] for i, j, c in pipes]\n",
    "        res = 0\n",
    "        for c, v1, v2 in sorted(w + p):\n",
    "            if uf.union(v1, v2):\n",
    "                res += c\n",
    "            if uf.count == 1:\n",
    "                return res\n",
    "        return res"
   ]
  },
  {
   "cell_type": "code",
   "execution_count": 60,
   "metadata": {},
   "outputs": [
    {
     "data": {
      "text/plain": [
       "3"
      ]
     },
     "execution_count": 60,
     "metadata": {},
     "output_type": "execute_result"
    }
   ],
   "source": [
    "Solution().minCostToSupplyWater(n = 3, wells = [1,2,2], pipes = [[1,2,1],[2,3,1]])"
   ]
  },
  {
   "cell_type": "code",
   "execution_count": 61,
   "metadata": {},
   "outputs": [
    {
     "data": {
      "text/plain": [
       "362782"
      ]
     },
     "execution_count": 61,
     "metadata": {},
     "output_type": "execute_result"
    }
   ],
   "source": [
    "Solution().minCostToSupplyWater(n = 9, wells = [58732,77988,55446,79246,8265,30789,39905,79968,61679], pipes = [[2,1,45475],[3,2,41579],[4,1,79418],[5,2,17589],[7,5,4371],[8,5,82103],[9,7,55500]])"
   ]
  },
  {
   "cell_type": "code",
   "execution_count": 62,
   "metadata": {},
   "outputs": [],
   "source": [
    "# https://leetcode.com/problems/optimize-water-distribution-in-a-village/discuss/365853/C%2B%2BPythonJava-Hidden-Well-in-House-0 \n",
    "from typing import List\n",
    "from collections import defaultdict\n",
    "from heapq import *\n",
    "\n",
    "class Solution:\n",
    "    \"\"\"Prim with heap\n",
    "    \"\"\"\n",
    "    def minCostToSupplyWater(self, n: int, wells: List[int], pipes: List[List[int]]) -> int:\n",
    "        graph = defaultdict(list)\n",
    "        for v1,v2,c in pipes:\n",
    "            graph[v1].append((c, v1, v2))\n",
    "            graph[v2].append((c, v2, v1))\n",
    "        for i,c in enumerate(wells):\n",
    "            # No need to point back to 0\n",
    "            graph[0].append((c, 0, i+1))\n",
    "        \n",
    "        # hidden house (0) is MST's root\n",
    "        min_heap = graph[0]  # (weight, vertex1, vertex2)\n",
    "        heapify(min_heap)\n",
    "        visited = set()\n",
    "        min_cost = 0\n",
    "        def add_vertex(v1: int) -> int:\n",
    "            for c, u, v in graph[v1]:\n",
    "                if v not in visited:\n",
    "                    heappush(min_heap, (c, u, v))\n",
    "        while min_heap and len(visited) <= n:\n",
    "            c, v1, v2 = heappop(min_heap)\n",
    "            if v2 in visited:\n",
    "                continue\n",
    "            visited.add(v2)  # 0 will never be added to visited set because it is always source vertex\n",
    "            add_vertex(v2)\n",
    "            min_cost += c\n",
    "        return min_cost"
   ]
  },
  {
   "cell_type": "code",
   "execution_count": 63,
   "metadata": {},
   "outputs": [
    {
     "data": {
      "text/plain": [
       "3"
      ]
     },
     "execution_count": 63,
     "metadata": {},
     "output_type": "execute_result"
    }
   ],
   "source": [
    "Solution().minCostToSupplyWater(n = 3, wells = [1,2,2], pipes = [[1,2,1],[2,3,1]])"
   ]
  },
  {
   "cell_type": "code",
   "execution_count": 64,
   "metadata": {},
   "outputs": [
    {
     "data": {
      "text/plain": [
       "362782"
      ]
     },
     "execution_count": 64,
     "metadata": {},
     "output_type": "execute_result"
    }
   ],
   "source": [
    "Solution().minCostToSupplyWater(n = 9, wells = [58732,77988,55446,79246,8265,30789,39905,79968,61679], pipes = [[2,1,45475],[3,2,41579],[4,1,79418],[5,2,17589],[7,5,4371],[8,5,82103],[9,7,55500]])"
   ]
  }
 ],
 "metadata": {
  "kernelspec": {
   "display_name": "Python 3",
   "language": "python",
   "name": "python3"
  },
  "language_info": {
   "codemirror_mode": {
    "name": "ipython",
    "version": 3
   },
   "file_extension": ".py",
   "mimetype": "text/x-python",
   "name": "python",
   "nbconvert_exporter": "python",
   "pygments_lexer": "ipython3",
   "version": "3.6.8"
  }
 },
 "nbformat": 4,
 "nbformat_minor": 2
}
