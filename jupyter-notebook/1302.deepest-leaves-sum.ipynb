{
 "cells": [
  {
   "cell_type": "markdown",
   "metadata": {},
   "source": [
    "### [1302\\. Deepest Leaves Sum](https://leetcode.com/problems/deepest-leaves-sum/)\n",
    "\n",
    "Difficulty: **Medium**\n",
    "\n",
    "Given a binary tree, return the sum of values of its deepest leaves.\n",
    "\n",
    "**Example 1:**\n",
    "\n",
    "**![](https://assets.leetcode.com/uploads/2019/07/31/1483_ex1.png)**\n",
    "\n",
    "```\n",
    "Input: root = [1,2,3,4,5,null,6,7,null,null,null,null,8]\n",
    "Output: 15\n",
    "```\n",
    "\n",
    "**Constraints:**\n",
    "\n",
    "*   The number of nodes in the tree is between `1` and `10^4`.\n",
    "*   The value of nodes is between `1` and `100`."
   ]
  },
  {
   "cell_type": "code",
   "execution_count": 2,
   "metadata": {},
   "outputs": [],
   "source": [
    "import sys\n",
    "sys.path.append(\"..\")\n",
    "from leetcode.tree.treenode import TreeNode"
   ]
  },
  {
   "cell_type": "code",
   "execution_count": 3,
   "metadata": {},
   "outputs": [],
   "source": [
    "class Solution:\n",
    "    def deepestLeavesSum(self, root: TreeNode) -> int:\n",
    "        if not root: return 0\n",
    "        q = [root]\n",
    "        total = 0\n",
    "        while q:\n",
    "            total = 0\n",
    "            for _ in range(len(q)):\n",
    "                node = q.pop(0)\n",
    "                total += node.val\n",
    "                if node.left:\n",
    "                    q += node.left,\n",
    "                if node.right:\n",
    "                    q += node.right,\n",
    "        return total"
   ]
  },
  {
   "cell_type": "code",
   "execution_count": 4,
   "metadata": {},
   "outputs": [
    {
     "data": {
      "text/plain": [
       "15"
      ]
     },
     "execution_count": 4,
     "metadata": {},
     "output_type": "execute_result"
    }
   ],
   "source": [
    "root = TreeNode.deserialize('[1,2,3,4,5,null,6,7,null,null,null,null,8]')\n",
    "Solution().deepestLeavesSum(root)"
   ]
  },
  {
   "cell_type": "code",
   "execution_count": null,
   "metadata": {},
   "outputs": [],
   "source": []
  }
 ],
 "metadata": {
  "kernelspec": {
   "display_name": "Python 3",
   "language": "python",
   "name": "python3"
  },
  "language_info": {
   "codemirror_mode": {
    "name": "ipython",
    "version": 3
   },
   "file_extension": ".py",
   "mimetype": "text/x-python",
   "name": "python",
   "nbconvert_exporter": "python",
   "pygments_lexer": "ipython3",
   "version": "3.6.8"
  }
 },
 "nbformat": 4,
 "nbformat_minor": 2
}
