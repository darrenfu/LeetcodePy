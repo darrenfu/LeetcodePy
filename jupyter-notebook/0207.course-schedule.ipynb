{
 "cells": [
  {
   "cell_type": "code",
   "execution_count": 30,
   "metadata": {},
   "outputs": [],
   "source": [
    "# Topological Sort\n",
    "# Kahn's algorithm + BFS\n",
    "# Runtime: 112 ms, faster than 81.48%\n",
    "# Memory Usage: 15.2 MB, less than 65.31%\n",
    "# https://leetcode.com/problems/course-schedule/discuss/267234/python-solutions-with-kahns-algorithms-and-tarjan-algorithms\n",
    "from typing import List\n",
    "from collections import defaultdict\n",
    "\n",
    "class Solution:\n",
    "    def canFinish(self, numCourses: int, prerequisites: List[List[int]]) -> bool:\n",
    "        def tsort(edges: List[List[int]]) -> bool:\n",
    "            indegree = defaultdict(int)\n",
    "            neighbors = defaultdict(list)\n",
    "            # those start courses whose in_degree==0 have no prerequisites\n",
    "            for u, v in edges: # v -> u\n",
    "                neighbors[v].append(u) # Course u depends on Course v\n",
    "                indegree[u] += 1\n",
    "            q = [v for v in neighbors.keys() if not indegree[v]] # vertices whose in degree is zero\n",
    "            while q:\n",
    "                v = q.pop()\n",
    "                for u in neighbors[v]:\n",
    "                    indegree[u] -= 1\n",
    "                    if not indegree[u]:\n",
    "                        q.append(u)\n",
    "            # return is acyclic - all node's in_degree must be equal to zero\n",
    "            # There are several ways of doing it:\n",
    "            # 1. by traversing indegree values\n",
    "            # 2. by adding a counter for all in_degree==0 nodes during BFS, and compare with vertex number\n",
    "            return all(map(lambda d: d==0, indegree.values()))\n",
    "        \n",
    "        return tsort(prerequisites)"
   ]
  },
  {
   "cell_type": "code",
   "execution_count": 31,
   "metadata": {},
   "outputs": [
    {
     "data": {
      "text/plain": [
       "True"
      ]
     },
     "execution_count": 31,
     "metadata": {},
     "output_type": "execute_result"
    }
   ],
   "source": [
    "Solution().canFinish(2, [[1,0]])"
   ]
  },
  {
   "cell_type": "code",
   "execution_count": 32,
   "metadata": {},
   "outputs": [
    {
     "data": {
      "text/plain": [
       "False"
      ]
     },
     "execution_count": 32,
     "metadata": {},
     "output_type": "execute_result"
    }
   ],
   "source": [
    "Solution().canFinish(2, [[1,0],[0,1]])"
   ]
  }
 ],
 "metadata": {
  "kernelspec": {
   "display_name": "Python 3",
   "language": "python",
   "name": "python3"
  },
  "language_info": {
   "codemirror_mode": {
    "name": "ipython",
    "version": 3
   },
   "file_extension": ".py",
   "mimetype": "text/x-python",
   "name": "python",
   "nbconvert_exporter": "python",
   "pygments_lexer": "ipython3",
   "version": "3.6.8"
  }
 },
 "nbformat": 4,
 "nbformat_minor": 2
}
