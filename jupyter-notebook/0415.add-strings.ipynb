{
 "cells": [
  {
   "cell_type": "markdown",
   "metadata": {},
   "source": [
    "### [415\\. Add Strings](https://leetcode.com/problems/add-strings/)\n",
    "\n",
    "Difficulty: **Easy**\n",
    "\n",
    "\n",
    "Given two non-negative integers `num1` and `num2` represented as string, return the sum of `num1` and `num2`.\n",
    "\n",
    "**Note:**\n",
    "\n",
    "1.  The length of both `num1` and `num2` is < 5100.\n",
    "2.  Both `num1` and `num2` contains only digits `0-9`.\n",
    "3.  Both `num1` and `num2` does not contain any leading zero.\n",
    "4.  You **must not use any built-in BigInteger library** or **convert the inputs to integer** directly."
   ]
  },
  {
   "cell_type": "code",
   "execution_count": 1,
   "metadata": {},
   "outputs": [],
   "source": [
    "class Solution:\n",
    "    def addStrings(self, num1: str, num2: str) -> str:\n",
    "        nums1 = list(num1)\n",
    "        nums2 = list(num2)\n",
    "        res, carry = [], 0\n",
    "        while nums1 or nums2:\n",
    "            n1 = n2 = 0\n",
    "            # scan from tail to head\n",
    "            if nums1: n1 = ord(nums1.pop()) - ord('0')\n",
    "            if nums2: n2 = ord(nums2.pop()) - ord('0')\n",
    "            carry, remainder = divmod(n1 + n2 + carry, 10)\n",
    "            res.append(remainder)\n",
    "        if carry:\n",
    "            res.append(carry)\n",
    "        return ''.join(str(d) for d in res[::-1])"
   ]
  },
  {
   "cell_type": "code",
   "execution_count": 2,
   "metadata": {},
   "outputs": [
    {
     "data": {
      "text/plain": [
       "'12710'"
      ]
     },
     "execution_count": 2,
     "metadata": {},
     "output_type": "execute_result"
    }
   ],
   "source": [
    "Solution().addStrings(num1 = \"12679\", num2 = \"31\")"
   ]
  },
  {
   "cell_type": "code",
   "execution_count": 4,
   "metadata": {},
   "outputs": [
    {
     "data": {
      "text/plain": [
       "'100710'"
      ]
     },
     "execution_count": 4,
     "metadata": {},
     "output_type": "execute_result"
    }
   ],
   "source": [
    "Solution().addStrings(num1 = \"12679\", num2 = \"88031\")"
   ]
  },
  {
   "cell_type": "code",
   "execution_count": null,
   "metadata": {},
   "outputs": [],
   "source": []
  }
 ],
 "metadata": {
  "kernelspec": {
   "display_name": "Python 3",
   "language": "python",
   "name": "python3"
  },
  "language_info": {
   "codemirror_mode": {
    "name": "ipython",
    "version": 3
   },
   "file_extension": ".py",
   "mimetype": "text/x-python",
   "name": "python",
   "nbconvert_exporter": "python",
   "pygments_lexer": "ipython3",
   "version": "3.6.8"
  }
 },
 "nbformat": 4,
 "nbformat_minor": 2
}
