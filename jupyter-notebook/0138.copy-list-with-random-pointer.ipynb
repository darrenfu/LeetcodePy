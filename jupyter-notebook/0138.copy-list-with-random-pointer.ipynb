{
 "cells": [
  {
   "cell_type": "markdown",
   "metadata": {},
   "source": [
    "### [138\\. Copy List with Random Pointer](https://leetcode.com/problems/copy-list-with-random-pointer/)\n",
    "\n",
    "Difficulty: **Medium**\n",
    "\n",
    "\n",
    "A linked list is given such that each node contains an additional random pointer which could point to any node in the list or null.\n",
    "\n",
    "Return a of the list.\n",
    "\n",
    "The Linked List is represented in the input/output as a list of `n` nodes. Each node is represented as a pair of `[val, random_index]` where:\n",
    "\n",
    "*   `val`: an integer representing `Node.val`\n",
    "*   `random_index`: the index of the node (range from `0` to `n-1`) where random pointer points to, or `null` if it does not point to any node.\n",
    "\n",
    "**Example 1:**\n",
    "\n",
    "![](https://assets.leetcode.com/uploads/2019/12/18/e1.png)\n",
    "\n",
    "```\n",
    "Input: head = [[7,null],[13,0],[11,4],[10,2],[1,0]]\n",
    "Output: [[7,null],[13,0],[11,4],[10,2],[1,0]]\n",
    "```\n",
    "\n",
    "**Example 2:**\n",
    "\n",
    "![](https://assets.leetcode.com/uploads/2019/12/18/e2.png)\n",
    "\n",
    "```\n",
    "Input: head = [[1,1],[2,1]]\n",
    "Output: [[1,1],[2,1]]\n",
    "```\n",
    "\n",
    "**Example 3:**\n",
    "\n",
    "**![](https://assets.leetcode.com/uploads/2019/12/18/e3.png)**\n",
    "\n",
    "```\n",
    "Input: head = [[3,null],[3,0],[3,null]]\n",
    "Output: [[3,null],[3,0],[3,null]]\n",
    "```\n",
    "\n",
    "**Example 4:**\n",
    "\n",
    "```\n",
    "Input: head = []\n",
    "Output: []\n",
    "Explanation: Given linked list is empty (null pointer), so return null.\n",
    "```\n",
    "\n",
    "**Constraints:**\n",
    "\n",
    "*   `-10000 <= Node.val <= 10000`\n",
    "*   `Node.random` is null or pointing to a node in the linked list.\n",
    "*   Number of Nodes will not exceed 1000."
   ]
  },
  {
   "cell_type": "code",
   "execution_count": 1,
   "metadata": {},
   "outputs": [],
   "source": [
    "# Definition for a Node.\n",
    "class Node:\n",
    "    def __init__(self, x: int, next: 'Node' = None, random: 'Node' = None):\n",
    "        self.val = int(x)\n",
    "        self.next = next\n",
    "        self.random = random"
   ]
  },
  {
   "cell_type": "code",
   "execution_count": 2,
   "metadata": {},
   "outputs": [],
   "source": [
    "# https://leetcode.com/problems/copy-list-with-random-pointer/discuss/43485/Clear-and-short-python-O(2n)-and-O(n)-solution\n",
    "# O(2N)\n",
    "class Solution:\n",
    "    def copyRandomList(self, head: 'Node') -> 'Node':\n",
    "        dic = {}\n",
    "        m = n = head\n",
    "        # step 1: traverse the list and create every node with its value, and put in a dict in which key is origin node, value is new node\n",
    "        while m:\n",
    "            dic[m] = Node(m.val)\n",
    "            m = m.next\n",
    "        # step 2: link two pointers to the correct node: .next and .random\n",
    "        while n:\n",
    "            dic[n].next = dic.get(n.next)\n",
    "            dic[n].random = dic.get(n.random)\n",
    "            n = n.next\n",
    "        return dic.get(head)"
   ]
  },
  {
   "cell_type": "code",
   "execution_count": null,
   "metadata": {},
   "outputs": [],
   "source": [
    "# O(N)\n",
    "from collections import defaultdict\n",
    "\n",
    "class Solution:\n",
    "    def copyRandomList(self, head: 'Node') -> 'Node':\n",
    "        dic = defaultdict(lambda: Node(0))\n",
    "        dic[None] = None\n",
    "        m = head\n",
    "        while m:\n",
    "            dic[m].val = m.val # lazily create new node and assign (or update) value\n",
    "            dic[m].next = dic[m.next] # if dic[m.next or m.random] does not exist, create a new node (value assignment will happen in the line above)\n",
    "            dic[m].random = dic[m.random]\n",
    "            m = m.next\n",
    "        return dic[head]"
   ]
  }
 ],
 "metadata": {
  "kernelspec": {
   "display_name": "Python 3",
   "language": "python",
   "name": "python3"
  },
  "language_info": {
   "codemirror_mode": {
    "name": "ipython",
    "version": 3
   },
   "file_extension": ".py",
   "mimetype": "text/x-python",
   "name": "python",
   "nbconvert_exporter": "python",
   "pygments_lexer": "ipython3",
   "version": "3.6.8"
  }
 },
 "nbformat": 4,
 "nbformat_minor": 2
}
