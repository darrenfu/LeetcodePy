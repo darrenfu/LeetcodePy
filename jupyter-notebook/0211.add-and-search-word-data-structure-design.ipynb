{
 "cells": [
  {
   "cell_type": "code",
   "execution_count": 5,
   "metadata": {},
   "outputs": [],
   "source": [
    "from collections import defaultdict\n",
    "\n",
    "class TrieNode:\n",
    "    def __init__(self):\n",
    "        self.children = defaultdict(TrieNode)\n",
    "        self.isLeaf = False\n",
    "    \n",
    "class WordDictionary:\n",
    "\n",
    "    def __init__(self):\n",
    "        \"\"\"\n",
    "        Initialize your data structure here.\n",
    "        \"\"\"\n",
    "        self.root = TrieNode()\n",
    "        \n",
    "\n",
    "    def addWord(self, word: str) -> None:\n",
    "        \"\"\"\n",
    "        Adds a word into the data structure.\n",
    "        \"\"\"\n",
    "        node = self.root\n",
    "        for ch in word:\n",
    "            node = node.children[ch]\n",
    "        node.isLeaf = True\n",
    "        \n",
    "\n",
    "    def search(self, word: str) -> bool:\n",
    "        \"\"\"\n",
    "        Returns if the word is in the data structure. A word could contain the dot character '.' to represent any one letter.\n",
    "        \"\"\"\n",
    "        return self.dfs(self.root, word)\n",
    "    \n",
    "    def dfs(self, node: TrieNode, word: str) -> bool:\n",
    "        if not node:\n",
    "            return False\n",
    "        if not word:\n",
    "            return node.isLeaf\n",
    "        ch = word[0]\n",
    "        if ch == '.':\n",
    "            return any(self.dfs(node.children[key], word[1:]) for key in node.children.keys())\n",
    "        return self.dfs(node.children.get(ch), word[1:])"
   ]
  },
  {
   "cell_type": "code",
   "execution_count": 6,
   "metadata": {},
   "outputs": [
    {
     "name": "stdout",
     "output_type": "stream",
     "text": [
      "False\n",
      "True\n",
      "True\n",
      "True\n"
     ]
    }
   ],
   "source": [
    "# Your WordDictionary object will be instantiated and called as such:\n",
    "obj = WordDictionary()\n",
    "obj.addWord(\"bad\")\n",
    "obj.addWord(\"dad\")\n",
    "obj.addWord(\"mad\")\n",
    "print(obj.search(\"pad\"))\n",
    "print(obj.search(\"bad\"))\n",
    "print(obj.search(\".ad\"))\n",
    "print(obj.search(\"b..\"))"
   ]
  },
  {
   "cell_type": "code",
   "execution_count": null,
   "metadata": {},
   "outputs": [],
   "source": []
  }
 ],
 "metadata": {
  "kernelspec": {
   "display_name": "Python 3",
   "language": "python",
   "name": "python3"
  },
  "language_info": {
   "codemirror_mode": {
    "name": "ipython",
    "version": 3
   },
   "file_extension": ".py",
   "mimetype": "text/x-python",
   "name": "python",
   "nbconvert_exporter": "python",
   "pygments_lexer": "ipython3",
   "version": "3.6.8"
  }
 },
 "nbformat": 4,
 "nbformat_minor": 2
}
