{
 "cells": [
  {
   "cell_type": "code",
   "execution_count": 10,
   "metadata": {},
   "outputs": [],
   "source": [
    "import sys\n",
    "sys.path.append(\"..\")\n",
    "from leetcode.tree.treenode import TreeNode\n",
    "\n",
    "# Wrong LC originally\n",
    "# https://leetcode.com/problems/insufficient-nodes-in-root-to-leaf-paths/discuss/308326/JavaC%2B%2BPython-Easy-and-Concise-Recursion\n",
    "class Solution:\n",
    "    def sufficientSubset(self, root: TreeNode, limit: int) -> TreeNode:\n",
    "        if root.left == root.right:  # if root is leaf, compare root.val and limit\n",
    "            return None if root.val < limit else root\n",
    "        if root.left:\n",
    "            root.left = self.sufficientSubset(root.left, limit - root.val)\n",
    "        if root.right:\n",
    "            root.right = self.sufficientSubset(root.right, limit - root.val)\n",
    "        return root if root.left or root.right else None"
   ]
  },
  {
   "cell_type": "code",
   "execution_count": 11,
   "metadata": {},
   "outputs": [
    {
     "name": "stdout",
     "output_type": "stream",
     "text": [
      "TreeNode(val: 1, left: TreeNode(val: 2, left: TreeNode(val: 4, left: TreeNode(val: 8, left: None, right: None), right: TreeNode(val: 9, left: None, right: None)), right: TreeNode(val: -99, left: TreeNode(val: -99, left: None, right: None), right: TreeNode(val: -99, left: None, right: None))), right: TreeNode(val: 3, left: TreeNode(val: -99, left: TreeNode(val: 12, left: None, right: None), right: TreeNode(val: 13, left: None, right: None)), right: TreeNode(val: 7, left: TreeNode(val: -99, left: None, right: None), right: TreeNode(val: 14, left: None, right: None))))\n"
     ]
    },
    {
     "data": {
      "text/plain": [
       "TreeNode(val: 1, left: TreeNode(val: 2, left: TreeNode(val: 4, left: TreeNode(val: 8, left: None, right: None), right: TreeNode(val: 9, left: None, right: None)), right: None), right: TreeNode(val: 3, left: None, right: TreeNode(val: 7, left: None, right: TreeNode(val: 14, left: None, right: None))))"
      ]
     },
     "execution_count": 11,
     "metadata": {},
     "output_type": "execute_result"
    }
   ],
   "source": [
    "root=TreeNode.deserialize('[1,2,3,4,-99,-99,7,8,9,-99,-99,12,13,-99,14]')\n",
    "print(root)\n",
    "Solution().sufficientSubset(root=root, limit=1)"
   ]
  },
  {
   "cell_type": "code",
   "execution_count": 12,
   "metadata": {},
   "outputs": [
    {
     "name": "stdout",
     "output_type": "stream",
     "text": [
      "TreeNode(val: 5, left: TreeNode(val: 4, left: TreeNode(val: 11, left: TreeNode(val: 7, left: None, right: None), right: TreeNode(val: 1, left: None, right: None)), right: None), right: TreeNode(val: 8, left: TreeNode(val: 17, left: None, right: None), right: TreeNode(val: 4, left: TreeNode(val: 5, left: None, right: None), right: TreeNode(val: 3, left: None, right: None))))\n"
     ]
    },
    {
     "data": {
      "text/plain": [
       "TreeNode(val: 5, left: TreeNode(val: 4, left: TreeNode(val: 11, left: TreeNode(val: 7, left: None, right: None), right: None), right: None), right: TreeNode(val: 8, left: TreeNode(val: 17, left: None, right: None), right: TreeNode(val: 4, left: TreeNode(val: 5, left: None, right: None), right: None)))"
      ]
     },
     "execution_count": 12,
     "metadata": {},
     "output_type": "execute_result"
    }
   ],
   "source": [
    "root=TreeNode.deserialize('[5,4,8,11,null,17,4,7,1,null,null,5,3]')\n",
    "print(root)\n",
    "Solution().sufficientSubset(root=root, limit=22)"
   ]
  },
  {
   "cell_type": "code",
   "execution_count": 13,
   "metadata": {},
   "outputs": [
    {
     "name": "stdout",
     "output_type": "stream",
     "text": [
      "TreeNode(val: 1, left: TreeNode(val: 2, left: TreeNode(val: -5, left: None, right: None), right: None), right: TreeNode(val: -3, left: TreeNode(val: 4, left: None, right: None), right: None))\n"
     ]
    },
    {
     "data": {
      "text/plain": [
       "TreeNode(val: 1, left: None, right: TreeNode(val: -3, left: TreeNode(val: 4, left: None, right: None), right: None))"
      ]
     },
     "execution_count": 13,
     "metadata": {},
     "output_type": "execute_result"
    }
   ],
   "source": [
    "root=TreeNode.deserialize('[1,2,-3,-5,null,4,null]')\n",
    "print(root)\n",
    "Solution().sufficientSubset(root=root, limit=-1)"
   ]
  },
  {
   "cell_type": "code",
   "execution_count": null,
   "metadata": {},
   "outputs": [],
   "source": []
  }
 ],
 "metadata": {
  "kernelspec": {
   "display_name": "Python 3",
   "language": "python",
   "name": "python3"
  },
  "language_info": {
   "codemirror_mode": {
    "name": "ipython",
    "version": 3
   },
   "file_extension": ".py",
   "mimetype": "text/x-python",
   "name": "python",
   "nbconvert_exporter": "python",
   "pygments_lexer": "ipython3",
   "version": "3.6.8"
  }
 },
 "nbformat": 4,
 "nbformat_minor": 2
}
