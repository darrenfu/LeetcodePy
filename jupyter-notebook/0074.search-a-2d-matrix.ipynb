{
 "cells": [
  {
   "cell_type": "code",
   "execution_count": 1,
   "metadata": {},
   "outputs": [],
   "source": [
    "# O(Log(M*N))\n",
    "# treat it as a sorted array\n",
    "from typing import List\n",
    "\n",
    "class Solution:\n",
    "    def searchMatrix(self, matrix: List[List[int]], target: int) -> bool:\n",
    "        def bsearch(A: List[int]) -> bool:\n",
    "            lo, hi = 0, len(A)\n",
    "            while lo < hi:\n",
    "                mid = (lo+hi)//2\n",
    "                if target == A[mid]:\n",
    "                    return True\n",
    "                if target < A[mid]:\n",
    "                    hi = mid\n",
    "                else:\n",
    "                    lo = mid+1\n",
    "            return False\n",
    "        \n",
    "        A = [cell for r in matrix for cell in r]\n",
    "        return bsearch(A)"
   ]
  },
  {
   "cell_type": "code",
   "execution_count": 10,
   "metadata": {},
   "outputs": [],
   "source": [
    "# in-place search\n",
    "from typing import List\n",
    "\n",
    "class Solution:\n",
    "    def searchMatrix(self, matrix: List[List[int]], target: int) -> bool:\n",
    "        if not matrix: return False\n",
    "        R, C = len(matrix), len(matrix[0])\n",
    "        lo, hi = 0, R*C\n",
    "        while lo < hi:\n",
    "            mid = lo+(hi-lo)//2 # avoid overflow\n",
    "            div, mod = divmod(mid, C)\n",
    "            cmp = matrix[div][mod] # important! div is row #, mod is col #\n",
    "            if target == cmp:\n",
    "                return True\n",
    "            elif target < cmp:\n",
    "                hi = mid\n",
    "            else:\n",
    "                lo = mid+1\n",
    "        return False"
   ]
  },
  {
   "cell_type": "code",
   "execution_count": 11,
   "metadata": {},
   "outputs": [
    {
     "data": {
      "text/plain": [
       "True"
      ]
     },
     "execution_count": 11,
     "metadata": {},
     "output_type": "execute_result"
    }
   ],
   "source": [
    "Solution().searchMatrix(matrix = [\n",
    "  [1,   3,  5,  7],\n",
    "  [10, 11, 16, 20],\n",
    "  [23, 30, 34, 50]\n",
    "], target = 3)"
   ]
  },
  {
   "cell_type": "code",
   "execution_count": 12,
   "metadata": {},
   "outputs": [
    {
     "data": {
      "text/plain": [
       "False"
      ]
     },
     "execution_count": 12,
     "metadata": {},
     "output_type": "execute_result"
    }
   ],
   "source": [
    "Solution().searchMatrix(matrix = [\n",
    "  [1,   3,  5,  7],\n",
    "  [10, 11, 16, 20],\n",
    "  [23, 30, 34, 50]\n",
    "], target = 13)"
   ]
  },
  {
   "cell_type": "code",
   "execution_count": null,
   "metadata": {},
   "outputs": [],
   "source": []
  }
 ],
 "metadata": {
  "kernelspec": {
   "display_name": "Python 3",
   "language": "python",
   "name": "python3"
  },
  "language_info": {
   "codemirror_mode": {
    "name": "ipython",
    "version": 3
   },
   "file_extension": ".py",
   "mimetype": "text/x-python",
   "name": "python",
   "nbconvert_exporter": "python",
   "pygments_lexer": "ipython3",
   "version": "3.6.8"
  }
 },
 "nbformat": 4,
 "nbformat_minor": 2
}
