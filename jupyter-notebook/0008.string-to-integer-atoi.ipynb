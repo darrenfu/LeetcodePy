{
 "cells": [
  {
   "cell_type": "code",
   "execution_count": 63,
   "metadata": {},
   "outputs": [],
   "source": [
    "# Edge cases:\n",
    "# 1. discards all leading whitespaces\n",
    "# 2. sign of the number\n",
    "# 3. overflow\n",
    "# 4. invalid input\n",
    "\n",
    "# Too many edge cases: find symbol, then digits\n",
    "# Runtime: 40 ms, faster than 75.81%\n",
    "class Solution:\n",
    "    def myAtoi(self, str: str) -> int:\n",
    "        symbol_found, digit_found = False, False\n",
    "        stop_idx = -1\n",
    "        for i, ch in enumerate(str):\n",
    "            if not symbol_found:\n",
    "                if ch not in (' ', '+', '-') and (ch < '0' or ch > '9'):\n",
    "                    break\n",
    "                elif ch == ' ':\n",
    "                    continue\n",
    "                else:\n",
    "                    symbol_found = True\n",
    "                    if '0' <= ch <= '9':\n",
    "                        digit_found = True\n",
    "                        stop_idx = i+1\n",
    "            else:\n",
    "                if ch < '0' or ch > '9':\n",
    "                    if digit_found: stop_idx = i\n",
    "                    break\n",
    "                else:\n",
    "                    digit_found = True\n",
    "                    stop_idx = i+1\n",
    "        if symbol_found and stop_idx > -1:\n",
    "            res = int(str[:stop_idx])\n",
    "            if res >= 2**31: res = 2**31-1\n",
    "            elif res < -2**31: res = -2**31\n",
    "            return res\n",
    "        return 0"
   ]
  },
  {
   "cell_type": "code",
   "execution_count": 106,
   "metadata": {},
   "outputs": [],
   "source": [
    "# Runtime: 36 ms, faster than 92.69%\n",
    "# https://leetcode.com/problems/string-to-integer-atoi/discuss/4654/My-simple-solution\n",
    "class Solution:\n",
    "    def myAtoi(self, str: str) -> int:\n",
    "        sign, base, i = 1, 0, 0\n",
    "        INT_MAX = 2**31\n",
    "        L = len(str)\n",
    "        while i < L and str[i] == ' ': \n",
    "            i += 1\n",
    "        if i < L and str[i] in ('+', '-'):\n",
    "            sign = 1-2*(str[i] == '-')\n",
    "            i += 1\n",
    "        while i < L and '0' <= str[i] <= '9':\n",
    "            base *= 10\n",
    "            base += ord(str[i])-ord('0')\n",
    "            if base >= INT_MAX and sign==1: return INT_MAX-1\n",
    "            if base > INT_MAX and sign==-1: return -INT_MAX\n",
    "            i += 1\n",
    "        return base * sign"
   ]
  },
  {
   "cell_type": "code",
   "execution_count": 107,
   "metadata": {},
   "outputs": [
    {
     "data": {
      "text/plain": [
       "-42"
      ]
     },
     "execution_count": 107,
     "metadata": {},
     "output_type": "execute_result"
    }
   ],
   "source": [
    "Solution().myAtoi(\"   -42\")"
   ]
  },
  {
   "cell_type": "code",
   "execution_count": 108,
   "metadata": {},
   "outputs": [
    {
     "data": {
      "text/plain": [
       "0"
      ]
     },
     "execution_count": 108,
     "metadata": {},
     "output_type": "execute_result"
    }
   ],
   "source": [
    "Solution().myAtoi(\"+-2\")"
   ]
  },
  {
   "cell_type": "code",
   "execution_count": 109,
   "metadata": {},
   "outputs": [
    {
     "data": {
      "text/plain": [
       "0"
      ]
     },
     "execution_count": 109,
     "metadata": {},
     "output_type": "execute_result"
    }
   ],
   "source": [
    "Solution().myAtoi(\"+\")"
   ]
  },
  {
   "cell_type": "code",
   "execution_count": 110,
   "metadata": {},
   "outputs": [
    {
     "data": {
      "text/plain": [
       "4193"
      ]
     },
     "execution_count": 110,
     "metadata": {},
     "output_type": "execute_result"
    }
   ],
   "source": [
    "Solution().myAtoi(\"4193 with words\")"
   ]
  },
  {
   "cell_type": "code",
   "execution_count": 111,
   "metadata": {},
   "outputs": [
    {
     "data": {
      "text/plain": [
       "0"
      ]
     },
     "execution_count": 111,
     "metadata": {},
     "output_type": "execute_result"
    }
   ],
   "source": [
    "Solution().myAtoi(\"words and 987\")"
   ]
  },
  {
   "cell_type": "code",
   "execution_count": 112,
   "metadata": {},
   "outputs": [
    {
     "data": {
      "text/plain": [
       "1"
      ]
     },
     "execution_count": 112,
     "metadata": {},
     "output_type": "execute_result"
    }
   ],
   "source": [
    "Solution().myAtoi(\"1\")"
   ]
  },
  {
   "cell_type": "code",
   "execution_count": 113,
   "metadata": {},
   "outputs": [
    {
     "data": {
      "text/plain": [
       "-2147483648"
      ]
     },
     "execution_count": 113,
     "metadata": {},
     "output_type": "execute_result"
    }
   ],
   "source": [
    "Solution().myAtoi(\"-91283472332\")"
   ]
  },
  {
   "cell_type": "code",
   "execution_count": 114,
   "metadata": {},
   "outputs": [
    {
     "data": {
      "text/plain": [
       "2147483647"
      ]
     },
     "execution_count": 114,
     "metadata": {},
     "output_type": "execute_result"
    }
   ],
   "source": [
    "Solution().myAtoi(\"2147483648\")"
   ]
  },
  {
   "cell_type": "code",
   "execution_count": 115,
   "metadata": {},
   "outputs": [
    {
     "data": {
      "text/plain": [
       "3"
      ]
     },
     "execution_count": 115,
     "metadata": {},
     "output_type": "execute_result"
    }
   ],
   "source": [
    "Solution().myAtoi(\"3.14\")"
   ]
  },
  {
   "cell_type": "code",
   "execution_count": 116,
   "metadata": {},
   "outputs": [
    {
     "data": {
      "text/plain": [
       "0"
      ]
     },
     "execution_count": 116,
     "metadata": {},
     "output_type": "execute_result"
    }
   ],
   "source": [
    "Solution().myAtoi(\".314\")"
   ]
  },
  {
   "cell_type": "code",
   "execution_count": null,
   "metadata": {},
   "outputs": [],
   "source": []
  }
 ],
 "metadata": {
  "kernelspec": {
   "display_name": "Python 3",
   "language": "python",
   "name": "python3"
  },
  "language_info": {
   "codemirror_mode": {
    "name": "ipython",
    "version": 3
   },
   "file_extension": ".py",
   "mimetype": "text/x-python",
   "name": "python",
   "nbconvert_exporter": "python",
   "pygments_lexer": "ipython3",
   "version": "3.6.8"
  }
 },
 "nbformat": 4,
 "nbformat_minor": 2
}
