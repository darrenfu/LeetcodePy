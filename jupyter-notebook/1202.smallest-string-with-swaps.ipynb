{
 "cells": [
  {
   "cell_type": "code",
   "execution_count": 87,
   "metadata": {},
   "outputs": [],
   "source": [
    "import sys\n",
    "sys.path.append('..')\n",
    "from leetcode.unionfind.uf import UF"
   ]
  },
  {
   "cell_type": "code",
   "execution_count": 88,
   "metadata": {},
   "outputs": [],
   "source": [
    "# Union Find\n",
    "# we can build connected components where each component is a list of indices that can be exchanged with any of them. \n",
    "# Runtime: 1472 ms\n",
    "# Memory Usage: 50.4 MB\n",
    "# https://leetcode.com/problems/smallest-string-with-swaps/discuss/387524/Short-Python-Union-find-solution-w-Explanation\n",
    "from typing import List\n",
    "from collections import defaultdict\n",
    "\n",
    "class Solution:\n",
    "    def smallestStringWithSwaps(self, s: str, pairs: List[List[int]]) -> str:\n",
    "        n = len(s)\n",
    "        uf = UF(n)\n",
    "        res = []\n",
    "        m = defaultdict(list)\n",
    "        # O(E*logN)\n",
    "        # In Union find terms, we simply iterate through each pair, and do a union on the indices in the pair.\n",
    "        for u, v in pairs:\n",
    "            uf.union(u,v)\n",
    "        # At the end of the union of all the pairs, we have built connected component of indices that can be exchanged with each other.\n",
    "        \n",
    "        # Then we build a sorted list of characters for every connected component.\n",
    "        for i, ch in enumerate(s):\n",
    "            # key: root node, value: connected component (list)\n",
    "            m[uf.find(i)].append(ch)\n",
    "        for comp_id in m.keys():\n",
    "            m[comp_id].sort()\n",
    "        # we iterate through all the indices, and for each index we locate its component id \n",
    "        # and find the sorted list correspondng to that component and grab the next lowest character from that list.\n",
    "        for i in range(n):\n",
    "            res.append(m[uf.find(i)].pop(0))\n",
    "        return \"\".join(res)"
   ]
  },
  {
   "cell_type": "code",
   "execution_count": 82,
   "metadata": {},
   "outputs": [],
   "source": [
    "# TLE - Kruskal's algo\n",
    "from typing import List\n",
    "\n",
    "class Solution:\n",
    "    def smallestStringWithSwaps(self, s: str, pairs: List[List[int]]) -> str:\n",
    "        dags = []\n",
    "        dagdict = {} # S: O(E)\n",
    "        for u, v in pairs:\n",
    "            if u == v:\n",
    "                continue\n",
    "            uf = u in dagdict\n",
    "            vf = v in dagdict\n",
    "            if not uf and not vf:\n",
    "                newdag = set([u,v])\n",
    "                dags += newdag,\n",
    "                dagdict[u] = dagdict[v] = len(dags) - 1\n",
    "            elif uf and vf:\n",
    "                if dagdict[u] == dagdict[v]:\n",
    "                    continue\n",
    "                else:\n",
    "                    # merge two dags\n",
    "                    mergeddag = dags[dagdict[u]] | dags[dagdict[v]]\n",
    "                    dags[dagdict[u]] = None\n",
    "                    dags[dagdict[v]] = None\n",
    "                    dags += mergeddag,\n",
    "                    for i in mergeddag:\n",
    "                        dagdict[i] = len(dags) - 1\n",
    "            elif uf and not vf:\n",
    "                u, v = v, u\n",
    "            if not u in dagdict and v in dagdict:\n",
    "                dags[dagdict[v]].add(u)\n",
    "                dagdict[u] = dagdict[v]\n",
    "                        \n",
    "        # sort chars in each set (DAG)\n",
    "        sdags = [[] for _ in dags]\n",
    "        for i, dag in enumerate(dags):\n",
    "            if not dag:\n",
    "                continue\n",
    "            #O(N*logN)\n",
    "            sdags[i] = sorted([s[v] for v in dag])\n",
    "            \n",
    "        # O(N)\n",
    "        # merge N sets (DAGs)\n",
    "        res = []\n",
    "        for i in range(len(s)):\n",
    "            if i in dagdict:\n",
    "                dagidx = dagdict[i]\n",
    "                substr = sdags[dagidx]\n",
    "                res += substr.pop(0),\n",
    "            else:\n",
    "                res += s[i],\n",
    "        return \"\".join(res)"
   ]
  },
  {
   "cell_type": "code",
   "execution_count": 89,
   "metadata": {},
   "outputs": [
    {
     "data": {
      "text/plain": [
       "'bacd'"
      ]
     },
     "execution_count": 89,
     "metadata": {},
     "output_type": "execute_result"
    }
   ],
   "source": [
    "Solution().smallestStringWithSwaps(s = \"dcab\", pairs = [[0,3],[1,2]])"
   ]
  },
  {
   "cell_type": "code",
   "execution_count": 90,
   "metadata": {},
   "outputs": [
    {
     "data": {
      "text/plain": [
       "'abcd'"
      ]
     },
     "execution_count": 90,
     "metadata": {},
     "output_type": "execute_result"
    }
   ],
   "source": [
    "Solution().smallestStringWithSwaps(\"dcab\", pairs = [[0,3],[1,2],[0,2]])"
   ]
  },
  {
   "cell_type": "code",
   "execution_count": 91,
   "metadata": {},
   "outputs": [
    {
     "data": {
      "text/plain": [
       "'abc'"
      ]
     },
     "execution_count": 91,
     "metadata": {},
     "output_type": "execute_result"
    }
   ],
   "source": [
    "Solution().smallestStringWithSwaps(\"cba\", pairs = [[0,1],[1,2]])"
   ]
  },
  {
   "cell_type": "code",
   "execution_count": 92,
   "metadata": {},
   "outputs": [
    {
     "data": {
      "text/plain": [
       "'dcab'"
      ]
     },
     "execution_count": 92,
     "metadata": {},
     "output_type": "execute_result"
    }
   ],
   "source": [
    "Solution().smallestStringWithSwaps(s = \"dcab\", pairs = [])"
   ]
  },
  {
   "cell_type": "code",
   "execution_count": null,
   "metadata": {},
   "outputs": [],
   "source": []
  }
 ],
 "metadata": {
  "kernelspec": {
   "display_name": "Python 3",
   "language": "python",
   "name": "python3"
  },
  "language_info": {
   "codemirror_mode": {
    "name": "ipython",
    "version": 3
   },
   "file_extension": ".py",
   "mimetype": "text/x-python",
   "name": "python",
   "nbconvert_exporter": "python",
   "pygments_lexer": "ipython3",
   "version": "3.6.8"
  }
 },
 "nbformat": 4,
 "nbformat_minor": 2
}
