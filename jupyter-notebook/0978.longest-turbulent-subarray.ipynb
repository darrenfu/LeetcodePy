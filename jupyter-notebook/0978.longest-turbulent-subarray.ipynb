{
 "cells": [
  {
   "cell_type": "code",
   "execution_count": 1,
   "metadata": {},
   "outputs": [],
   "source": [
    "# Kadane's algorithm\n",
    "# also see #53. Maximum Subarray\n",
    "# https://leetcode.com/problems/longest-turbulent-subarray/discuss/222146/PythonJavaC%2B%2B-O(n)-time-O(1)-space-Simple-and-Clean-solution\n",
    "from typing import List\n",
    "\n",
    "class Solution:\n",
    "    def maxTurbulenceSize(self, A: List[int]) -> int:\n",
    "        curlen, maxlen = 0, 0\n",
    "        for i in range(len(A)):\n",
    "            if i >= 2 and (A[i-2]<A[i-1]>A[i] or A[i-2]>A[i-1]<A[i]):\n",
    "                curlen += 1\n",
    "            elif i >= 1 and A[i-1] != A[i]:\n",
    "                curlen = 2\n",
    "            else:\n",
    "                curlen = 1\n",
    "            maxlen = max(maxlen, curlen)\n",
    "        return maxlen"
   ]
  },
  {
   "cell_type": "code",
   "execution_count": 2,
   "metadata": {},
   "outputs": [
    {
     "data": {
      "text/plain": [
       "5"
      ]
     },
     "execution_count": 2,
     "metadata": {},
     "output_type": "execute_result"
    }
   ],
   "source": [
    "Solution().maxTurbulenceSize([9,4,2,10,7,8,8,1,9])"
   ]
  },
  {
   "cell_type": "code",
   "execution_count": 3,
   "metadata": {},
   "outputs": [
    {
     "data": {
      "text/plain": [
       "2"
      ]
     },
     "execution_count": 3,
     "metadata": {},
     "output_type": "execute_result"
    }
   ],
   "source": [
    "Solution().maxTurbulenceSize([4,8,12,16])"
   ]
  },
  {
   "cell_type": "code",
   "execution_count": 4,
   "metadata": {},
   "outputs": [
    {
     "data": {
      "text/plain": [
       "1"
      ]
     },
     "execution_count": 4,
     "metadata": {},
     "output_type": "execute_result"
    }
   ],
   "source": [
    "Solution().maxTurbulenceSize([100])"
   ]
  },
  {
   "cell_type": "code",
   "execution_count": null,
   "metadata": {},
   "outputs": [],
   "source": []
  }
 ],
 "metadata": {
  "kernelspec": {
   "display_name": "Python 3",
   "language": "python",
   "name": "python3"
  },
  "language_info": {
   "codemirror_mode": {
    "name": "ipython",
    "version": 3
   },
   "file_extension": ".py",
   "mimetype": "text/x-python",
   "name": "python",
   "nbconvert_exporter": "python",
   "pygments_lexer": "ipython3",
   "version": "3.6.8"
  }
 },
 "nbformat": 4,
 "nbformat_minor": 2
}
