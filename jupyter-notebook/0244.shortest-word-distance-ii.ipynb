{
 "cells": [
  {
   "cell_type": "code",
   "execution_count": 4,
   "metadata": {},
   "outputs": [],
   "source": [
    "# Use a dictionary to store word->indexes mapping\n",
    "# Then it is simplified to Problem #243\n",
    "# Runtime: 124 ms, faster than 11.57% (similar running time to the 2nd solution)\n",
    "from typing import List\n",
    "from collections import defaultdict\n",
    "\n",
    "class WordDistance:\n",
    "\n",
    "    def __init__(self, words: List[str]):\n",
    "        self.dic = defaultdict(list)\n",
    "        for i, w in enumerate(words):\n",
    "            self.dic[w].append(i)\n",
    "\n",
    "    def shortest(self, word1: str, word2: str) -> int:\n",
    "        idxes1 = self.dic[word1]\n",
    "        idxes2 = self.dic[word2]\n",
    "        shortest = float('inf')\n",
    "        # Two pointer\n",
    "        p1, p2 = 0, 0\n",
    "        while p1 < len(idxes1) and p2 < len(idxes2):\n",
    "            while p1 < len(idxes1) and idxes1[p1] < idxes2[p2]:\n",
    "                shortest = min(shortest, idxes2[p2]-idxes1[p1])\n",
    "                p1 += 1\n",
    "            while p1 < len(idxes1) and p2 < len(idxes2) and idxes1[p1] > idxes2[p2]:\n",
    "                shortest = min(shortest, idxes1[p1]-idxes2[p2])\n",
    "                p2 += 1\n",
    "        return shortest"
   ]
  },
  {
   "cell_type": "code",
   "execution_count": 8,
   "metadata": {},
   "outputs": [],
   "source": [
    "# Runtime: 104 ms, faster than 93.40%\n",
    "from typing import List\n",
    "from collections import defaultdict\n",
    "\n",
    "class WordDistance:\n",
    "\n",
    "    def __init__(self, words: List[str]):\n",
    "        self.dic = defaultdict(list)\n",
    "        for i, w in enumerate(words):\n",
    "            self.dic[w].append(i)\n",
    "\n",
    "    def shortest(self, word1: str, word2: str) -> int:\n",
    "        idxes1 = self.dic[word1]\n",
    "        idxes2 = self.dic[word2]\n",
    "        shortest = float('inf')\n",
    "        # Two pointer\n",
    "        p1, p2 = 0, 0\n",
    "        while p1 < len(idxes1) and p2 < len(idxes2):\n",
    "            dis = abs(idxes2[p2]-idxes1[p1])\n",
    "            if shortest > dis:\n",
    "                shortest = dis\n",
    "            if idxes1[p1] < idxes2[p2]:\n",
    "                p1 += 1\n",
    "            elif idxes1[p1] > idxes2[p2]:\n",
    "                p2 += 1\n",
    "        return shortest"
   ]
  },
  {
   "cell_type": "code",
   "execution_count": 9,
   "metadata": {},
   "outputs": [
    {
     "data": {
      "text/plain": [
       "3"
      ]
     },
     "execution_count": 9,
     "metadata": {},
     "output_type": "execute_result"
    }
   ],
   "source": [
    "# Your WordDistance object will be instantiated and called as such:\n",
    "obj = WordDistance(words = [\"practice\", \"makes\", \"perfect\", \"coding\", \"makes\"])\n",
    "obj.shortest(word1 = \"coding\", word2 = \"practice\")"
   ]
  },
  {
   "cell_type": "code",
   "execution_count": 10,
   "metadata": {},
   "outputs": [
    {
     "data": {
      "text/plain": [
       "1"
      ]
     },
     "execution_count": 10,
     "metadata": {},
     "output_type": "execute_result"
    }
   ],
   "source": [
    "obj.shortest(word1 = \"makes\", word2 = \"coding\")"
   ]
  },
  {
   "cell_type": "code",
   "execution_count": null,
   "metadata": {},
   "outputs": [],
   "source": []
  }
 ],
 "metadata": {
  "kernelspec": {
   "display_name": "Python 3",
   "language": "python",
   "name": "python3"
  },
  "language_info": {
   "codemirror_mode": {
    "name": "ipython",
    "version": 3
   },
   "file_extension": ".py",
   "mimetype": "text/x-python",
   "name": "python",
   "nbconvert_exporter": "python",
   "pygments_lexer": "ipython3",
   "version": "3.6.8"
  }
 },
 "nbformat": 4,
 "nbformat_minor": 2
}
