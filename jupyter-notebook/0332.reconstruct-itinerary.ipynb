{
 "cells": [
  {
   "cell_type": "code",
   "execution_count": 54,
   "metadata": {},
   "outputs": [],
   "source": [
    "# DFS + Heap version.\n",
    "# Hierholzer's algorithm to solve Eulerian path\n",
    "# Greedy traversal. If no route, backtrack to previous vertex. For any traversed edge, remove it from graph hashmap\n",
    "# Runtime: 80 ms, faster than 98.66%\n",
    "# T: Construct graph: O(NlgN), Hierholzer DFS: O(N) -> O(NlogN)\n",
    "# S: Graph: O(N), stack: O(N) -> O(N)\n",
    "# https://zhuanlan.zhihu.com/p/37693521\n",
    "from collections import defaultdict\n",
    "from heapq import *\n",
    "from typing import List\n",
    "\n",
    "class Solution:\n",
    "    def findItinerary(self, tickets: List[List[str]]) -> List[str]:\n",
    "        def dfs(vertex: str):\n",
    "            heap = graph[vertex]\n",
    "            while heap:\n",
    "                # in lex order - heap top is the smallest\n",
    "                neighbor = heappop(heap) # remove this child to avoid repeated traverse\n",
    "                # post-order traversal\n",
    "                dfs(neighbor)\n",
    "            path.insert(0, vertex)\n",
    "        \n",
    "        graph = defaultdict(list)\n",
    "        for t in tickets:\n",
    "            s, e = t[0], t[1]\n",
    "            heap = graph[s]\n",
    "            heapify(heap)\n",
    "            heappush(heap, e)\n",
    "        path = []\n",
    "        dfs('JFK')\n",
    "        return path"
   ]
  },
  {
   "cell_type": "code",
   "execution_count": 42,
   "metadata": {},
   "outputs": [],
   "source": [
    "# Binary search version\n",
    "from collections import defaultdict\n",
    "from bisect import *\n",
    "from typing import List\n",
    "\n",
    "class Solution:\n",
    "    def findItinerary(self, tickets: List[List[str]]) -> List[str]:\n",
    "        def dfs(vertex: str):\n",
    "            arr = graph[vertex]\n",
    "            while arr:\n",
    "                # list head is the smallest\n",
    "                neighbor = arr.pop(0)\n",
    "                dfs(neighbor)\n",
    "            # prepend current airport to the final route: [cur] + [sublist returned from dfs stack]\n",
    "            path.insert(0, vertex)\n",
    "        \n",
    "        graph = defaultdict(list)\n",
    "        for t in tickets:\n",
    "            s, e = t[0], t[1]\n",
    "            neighbors = graph[s]\n",
    "            insort_left(neighbors, e)\n",
    "        path = []\n",
    "        dfs('JFK')\n",
    "        return path"
   ]
  },
  {
   "cell_type": "code",
   "execution_count": 46,
   "metadata": {},
   "outputs": [],
   "source": [
    "# presort version\n",
    "# https://leetcode.com/problems/reconstruct-itinerary/discuss/78768/Short-Ruby-Python-Java-C%2B%2B\n",
    "from collections import defaultdict\n",
    "from typing import List\n",
    "\n",
    "class Solution:\n",
    "    def findItinerary(self, tickets: List[List[str]]) -> List[str]:\n",
    "        def dfs(vertex: str):\n",
    "            arr = graph[vertex]\n",
    "            while arr:\n",
    "                neighbor = arr.pop(0)\n",
    "                dfs(neighbor)\n",
    "            path.insert(0, vertex)\n",
    "        \n",
    "        graph = defaultdict(list)\n",
    "        for t in sorted(tickets):\n",
    "            s, e = t[0], t[1]\n",
    "            graph[s].append(e)\n",
    "        path = []\n",
    "        dfs('JFK')\n",
    "        return path"
   ]
  },
  {
   "cell_type": "code",
   "execution_count": 52,
   "metadata": {},
   "outputs": [],
   "source": [
    "# Iterative version\n",
    "from collections import defaultdict\n",
    "from typing import List\n",
    "\n",
    "class Solution:\n",
    "    def findItinerary(self, tickets: List[List[str]]) -> List[str]:\n",
    "        graph = defaultdict(list)\n",
    "        for t in sorted(tickets):\n",
    "            s, e = t[0], t[1]\n",
    "            graph[s].append(e)\n",
    "        path, stack = [], ['JFK']\n",
    "        while stack:\n",
    "            while graph[stack[-1]]:\n",
    "                neighbor = graph[stack[-1]].pop(0)\n",
    "                stack.append(neighbor)\n",
    "            path.insert(0, stack.pop())\n",
    "        return path"
   ]
  },
  {
   "cell_type": "code",
   "execution_count": 53,
   "metadata": {},
   "outputs": [
    {
     "data": {
      "text/plain": [
       "['JFK', 'ATL', 'JFK', 'SFO', 'ATL', 'SFO']"
      ]
     },
     "execution_count": 53,
     "metadata": {},
     "output_type": "execute_result"
    }
   ],
   "source": [
    "Solution().findItinerary([[\"JFK\",\"SFO\"],[\"JFK\",\"ATL\"],[\"SFO\",\"ATL\"],[\"ATL\",\"JFK\"],[\"ATL\",\"SFO\"]])"
   ]
  },
  {
   "cell_type": "code",
   "execution_count": null,
   "metadata": {},
   "outputs": [],
   "source": []
  }
 ],
 "metadata": {
  "kernelspec": {
   "display_name": "Python 3",
   "language": "python",
   "name": "python3"
  },
  "language_info": {
   "codemirror_mode": {
    "name": "ipython",
    "version": 3
   },
   "file_extension": ".py",
   "mimetype": "text/x-python",
   "name": "python",
   "nbconvert_exporter": "python",
   "pygments_lexer": "ipython3",
   "version": "3.6.8"
  }
 },
 "nbformat": 4,
 "nbformat_minor": 2
}
