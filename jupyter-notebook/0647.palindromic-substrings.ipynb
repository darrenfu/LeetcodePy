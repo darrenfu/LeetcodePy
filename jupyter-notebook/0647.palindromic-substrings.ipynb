{
 "cells": [
  {
   "cell_type": "markdown",
   "metadata": {},
   "source": [
    "### [647\\. Palindromic Substrings](https://leetcode.com/problems/palindromic-substrings/)\n",
    "\n",
    "Difficulty: **Medium**\n",
    "\n",
    "\n",
    "Given a string, your task is to count how many palindromic substrings in this string.\n",
    "\n",
    "The substrings with different start indexes or end indexes are counted as different substrings even they consist of same characters.\n",
    "\n",
    "**Example 1:**\n",
    "\n",
    "```\n",
    "Input: \"abc\"\n",
    "Output: 3\n",
    "Explanation: Three palindromic strings: \"a\", \"b\", \"c\".\n",
    "```\n",
    "\n",
    "**Example 2:**\n",
    "\n",
    "```\n",
    "Input: \"aaa\"\n",
    "Output: 6\n",
    "Explanation: Six palindromic strings: \"a\", \"a\", \"a\", \"aa\", \"aa\", \"aaa\".\n",
    "```\n",
    "\n",
    "**Note:**\n",
    "\n",
    "1.  The input string length won't exceed 1000."
   ]
  },
  {
   "cell_type": "code",
   "execution_count": 16,
   "metadata": {},
   "outputs": [],
   "source": [
    "# Close to #5. Longest Palindromic substring\n",
    "# Runtime: 268 ms, faster than 37.17%\n",
    "# https://leetcode.com/problems/palindromic-substrings/discuss/105707/Java-DP-solution-based-on-longest-palindromic-substring\n",
    "class Solution:\n",
    "    def countSubstrings(self, s: str) -> int:\n",
    "        L = len(s)\n",
    "        dp = [[False] * L for _ in range(L)]\n",
    "        res = 0\n",
    "        for i in range(L-1, -1, -1):\n",
    "            for j in range(i, L):\n",
    "                # dp[i][j] is True when s[i] == s[j] and s(i+1, ..., j-1) is palindrome substring\n",
    "                # j-i < 3 is to ignore shorter s palindrome cases like AXA, AA\n",
    "                dp[i][j] = s[i] == s[j] and (j-i < 3 or dp[i+1][j-1])\n",
    "                if dp[i][j]:\n",
    "                    res += 1\n",
    "        return res"
   ]
  },
  {
   "cell_type": "code",
   "execution_count": 19,
   "metadata": {},
   "outputs": [],
   "source": [
    "# Runtime: 116 ms, faster than 88.06%\n",
    "class Solution:\n",
    "    def countSubstrings(self, s: str) -> int:\n",
    "        def findPalidrome(l: int, r: int) -> int:\n",
    "            nonlocal s, L\n",
    "            res = 0\n",
    "            while 0 <= l and r < L and s[l] == s[r]:\n",
    "                res += 1\n",
    "                l -= 1\n",
    "                r += 1\n",
    "            return res\n",
    "        \n",
    "        L = len(s)\n",
    "        res = 0\n",
    "        for i in range(L):\n",
    "            res += findPalidrome(i, i)\n",
    "            res += findPalidrome(i, i+1)\n",
    "        return res"
   ]
  },
  {
   "cell_type": "code",
   "execution_count": null,
   "metadata": {},
   "outputs": [],
   "source": [
    "class Solution:\n",
    "    def countSubstrings(self, s: str) -> int:\n",
    "        L = len(s)\n",
    "        res = 0\n",
    "        for i in range(L*2-1): # double the size to cover both odd and even case\n",
    "            l = i//2\n",
    "            r = (i+1)//2\n",
    "            while s[l] == s[r] and l >= 0 and r < L:\n",
    "                l-= 1\n",
    "                r+= 1\n",
    "                res += 0\n",
    "        return res"
   ]
  },
  {
   "cell_type": "code",
   "execution_count": 20,
   "metadata": {},
   "outputs": [
    {
     "data": {
      "text/plain": [
       "3"
      ]
     },
     "execution_count": 20,
     "metadata": {},
     "output_type": "execute_result"
    }
   ],
   "source": [
    "Solution().countSubstrings(\"abc\")"
   ]
  },
  {
   "cell_type": "code",
   "execution_count": 21,
   "metadata": {},
   "outputs": [
    {
     "data": {
      "text/plain": [
       "6"
      ]
     },
     "execution_count": 21,
     "metadata": {},
     "output_type": "execute_result"
    }
   ],
   "source": [
    "Solution().countSubstrings(\"aaa\")"
   ]
  },
  {
   "cell_type": "code",
   "execution_count": null,
   "metadata": {},
   "outputs": [],
   "source": []
  }
 ],
 "metadata": {
  "kernelspec": {
   "display_name": "Python 3",
   "language": "python",
   "name": "python3"
  },
  "language_info": {
   "codemirror_mode": {
    "name": "ipython",
    "version": 3
   },
   "file_extension": ".py",
   "mimetype": "text/x-python",
   "name": "python",
   "nbconvert_exporter": "python",
   "pygments_lexer": "ipython3",
   "version": "3.6.8"
  }
 },
 "nbformat": 4,
 "nbformat_minor": 2
}
