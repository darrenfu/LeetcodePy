{
 "cells": [
  {
   "cell_type": "markdown",
   "metadata": {},
   "source": [
    "### [785\\. Is Graph Bipartite?](https://leetcode.com/problems/is-graph-bipartite/)\n",
    "\n",
    "Difficulty: **Medium**\n",
    "\n",
    "\n",
    "Given an undirected `graph`, return `true` if and only if it is bipartite.\n",
    "\n",
    "Recall that a graph is _bipartite_ if we can split it's set of nodes into two independent subsets A and B such that every edge in the graph has one node in A and another node in B.\n",
    "\n",
    "The graph is given in the following form: `graph[i]` is a list of indexes `j` for which the edge between nodes `i` and `j` exists.  Each node is an integer between `0` and `graph.length - 1`.  There are no self edges or parallel edges: `graph[i]` does not contain `i`, and it doesn't contain any element twice.\n",
    "\n",
    "```\n",
    "Example 1:\n",
    "Input: [[1,3], [0,2], [1,3], [0,2]]\n",
    "Output: true\n",
    "Explanation: \n",
    "The graph looks like this:\n",
    "0----1\n",
    "|    |\n",
    "|    |\n",
    "3----2\n",
    "We can divide the vertices into two groups: {0, 2} and {1, 3}.\n",
    "```\n",
    "\n",
    "```\n",
    "Example 2:\n",
    "Input: [[1,2,3], [0,2], [0,1,3], [0,2]]\n",
    "Output: false\n",
    "Explanation: \n",
    "The graph looks like this:\n",
    "0----1\n",
    "| \\  |\n",
    "|  \\ |\n",
    "3----2\n",
    "We cannot find a way to divide the set of nodes into two independent subsets.\n",
    "```\n",
    "\n",
    "**Note:**\n",
    "\n",
    "*   `graph` will have length in range `[1, 100]`.\n",
    "*   `graph[i]` will contain integers in range `[0, graph.length - 1]`.\n",
    "*   `graph[i]` will not contain `i` or duplicate values.\n",
    "*   The graph is undirected: if any element `j` is in `graph[i]`, then `i` will be in `graph[j]`."
   ]
  },
  {
   "cell_type": "code",
   "execution_count": 63,
   "metadata": {},
   "outputs": [],
   "source": [
    "# To color adjacent neighbor vertexes with two different colors\n",
    "# DFS\n",
    "# https://leetcode.com/problems/is-graph-bipartite/discuss/115493/Python-7-lines-DFS-graph-coloring-w-graph-and-Explanation\n",
    "from typing import List\n",
    "\n",
    "class Solution:\n",
    "    def isBipartite(self, graph: List[List[int]]) -> bool:\n",
    "        WHITE, GRAY, BLACK = -1, 0, 1\n",
    "        colors = [WHITE] * len(graph)\n",
    "        def dfs(v: int, cur_color: int) -> bool:\n",
    "            if colors[v] != WHITE: return colors[v] == cur_color # if colors[v] != cur_color, adjacent same color nodes found, return False\n",
    "            colors[v] = cur_color\n",
    "            return all(dfs(neighbor, cur_color^1) for neighbor in graph[v])\n",
    "        \n",
    "        return all(dfs(v, GRAY) for v in range(len(graph)) if colors[v] == WHITE) # must add condition colors[v] == -1 to avoid visited nodes"
   ]
  },
  {
   "cell_type": "code",
   "execution_count": 60,
   "metadata": {},
   "outputs": [],
   "source": [
    "# BFS\n",
    "from typing import List\n",
    "\n",
    "class Solution:\n",
    "    def isBipartite(self, graph: List[List[int]]) -> bool:\n",
    "        visited = {} # aka. vertex->color dict\n",
    "        for v in range(len(graph)): # need to check every vertex to avoid orphan vertex\n",
    "            if v in visited: continue\n",
    "            q = [(v, 0)]\n",
    "            visited[v] = 0\n",
    "            while q:\n",
    "                u, color = q.pop(0)\n",
    "                visited[u] = color\n",
    "                for neighbor in graph[u]:\n",
    "                    if neighbor not in visited:\n",
    "                        q += (neighbor, color^1),\n",
    "                    elif visited[neighbor] == color:\n",
    "                        return False\n",
    "        return True"
   ]
  },
  {
   "cell_type": "code",
   "execution_count": 64,
   "metadata": {},
   "outputs": [
    {
     "data": {
      "text/plain": [
       "True"
      ]
     },
     "execution_count": 64,
     "metadata": {},
     "output_type": "execute_result"
    }
   ],
   "source": [
    "Solution().isBipartite(graph=[[1,3], [0,2], [1,3], [0,2]])"
   ]
  },
  {
   "cell_type": "code",
   "execution_count": 65,
   "metadata": {},
   "outputs": [
    {
     "data": {
      "text/plain": [
       "True"
      ]
     },
     "execution_count": 65,
     "metadata": {},
     "output_type": "execute_result"
    }
   ],
   "source": [
    "Solution().isBipartite(graph=[[4],[],[4],[4],[0,2,3]])"
   ]
  },
  {
   "cell_type": "code",
   "execution_count": null,
   "metadata": {},
   "outputs": [],
   "source": []
  }
 ],
 "metadata": {
  "kernelspec": {
   "display_name": "Python 3",
   "language": "python",
   "name": "python3"
  },
  "language_info": {
   "codemirror_mode": {
    "name": "ipython",
    "version": 3
   },
   "file_extension": ".py",
   "mimetype": "text/x-python",
   "name": "python",
   "nbconvert_exporter": "python",
   "pygments_lexer": "ipython3",
   "version": "3.6.8"
  }
 },
 "nbformat": 4,
 "nbformat_minor": 2
}
