{
 "cells": [
  {
   "cell_type": "code",
   "execution_count": 47,
   "metadata": {},
   "outputs": [],
   "source": [
    "# Wrong answer\n",
    "# convert every word as a bit\n",
    "# s1 and s2 are unique means s1_bit & s2_bit == 0\n",
    "# https://leetcode.com/problems/maximum-length-of-a-concatenated-string-with-unique-characters/discuss/414188/python-solution-with-explanation\n",
    "# Runtime: 36 ms\n",
    "from typing import List\n",
    "from collections import defaultdict\n",
    "\n",
    "class Solution:\n",
    "    def maxLength(self, arr: List[str]) -> int:\n",
    "        # remove words with duplicate letters\n",
    "        arr = [s for s in arr if len(s) == len(set(s))]\n",
    "        # cache every word in bit format (at most 26 digits)\n",
    "        bit_cache = defaultdict(int)\n",
    "        for s in arr:\n",
    "            sbit = 0\n",
    "            for c in s:\n",
    "                cbit = 1 << ord(c)-ord('a')\n",
    "                sbit |= cbit\n",
    "            bit_cache[s] = sbit\n",
    "        # brute force to traverse arr x arr (O(N^2)) to get max count of 1s\n",
    "        res = 0\n",
    "        for s1, sbit1 in bit_cache.items():\n",
    "            l1 = len(s1)\n",
    "            for s2 in arr:\n",
    "                sbit2 = bit_cache[s2]\n",
    "                if sbit1 & sbit2 == 0: # no overlap 1s in the same digit, so it's unique when multiple s are concatenated\n",
    "                    sbit1 |= sbit2 # if no overlap, sbit1 union sbit2\n",
    "#                     print()\n",
    "                    l2 = len(s2)\n",
    "                    l1 += l2\n",
    "                res = max(res, l1)\n",
    "        return res"
   ]
  },
  {
   "cell_type": "code",
   "execution_count": 53,
   "metadata": {},
   "outputs": [],
   "source": [
    "# Counter merge - TLE\n",
    "from typing import List\n",
    "from collections import Counter\n",
    "\n",
    "class Solution:\n",
    "    def maxLength(self, arr: List[str]) -> int:\n",
    "        counters = [Counter(s) for s in arr]\n",
    "        def isUnique(counter: Counter) -> bool:\n",
    "            return not any(list(map(lambda x: x > 1, counter.values())))\n",
    "        \n",
    "        def dp(c):\n",
    "            if not c:\n",
    "                return (0, Counter())\n",
    "            if len(c) == 1:\n",
    "                if isUnique(c[0]):\n",
    "                    return (0, Counter())\n",
    "                else:\n",
    "                    return (len(c[0]), c[0])\n",
    "            maxres = (0, Counter())\n",
    "            for i in range(len(c)):\n",
    "                res, counter = dp(c[:i] + c[i+1:])\n",
    "                newcounter = c[i] + counter\n",
    "                ele = (len(c[i])+res, newcounter) if isUnique(newcounter) else (res, counter)\n",
    "                if ele[0] > maxres[0]:\n",
    "                    maxres = ele\n",
    "            return maxres\n",
    "        return dp(counters)[0]"
   ]
  },
  {
   "cell_type": "code",
   "execution_count": 72,
   "metadata": {},
   "outputs": [],
   "source": [
    "from typing import List\n",
    "\n",
    "class Solution:\n",
    "    def maxLength(self, arr: List[str]) -> int:\n",
    "        global ans\n",
    "        ans = 0\n",
    "        def dfs(current, now):\n",
    "            new = current + arr[now]\n",
    "            if len(new) == len(set(new)):\n",
    "                global ans\n",
    "                ans = max(ans, len(new))\n",
    "                if now < len(arr) - 1:\n",
    "                    dfs(new, now + 1)\n",
    "            if now < len(arr) - 1:\n",
    "                dfs(current, now + 1)\n",
    "        dfs(\"\", 0)\n",
    "        return ans"
   ]
  },
  {
   "cell_type": "code",
   "execution_count": 61,
   "metadata": {},
   "outputs": [
    {
     "data": {
      "text/plain": [
       "6"
      ]
     },
     "execution_count": 61,
     "metadata": {},
     "output_type": "execute_result"
    }
   ],
   "source": [
    "Solution().maxLength([\"cha\",\"r\",\"act\",\"ers\"])"
   ]
  },
  {
   "cell_type": "code",
   "execution_count": 62,
   "metadata": {},
   "outputs": [
    {
     "data": {
      "text/plain": [
       "4"
      ]
     },
     "execution_count": 62,
     "metadata": {},
     "output_type": "execute_result"
    }
   ],
   "source": [
    "Solution().maxLength([\"un\",\"iq\",\"ue\"])"
   ]
  },
  {
   "cell_type": "code",
   "execution_count": 63,
   "metadata": {},
   "outputs": [
    {
     "data": {
      "text/plain": [
       "9"
      ]
     },
     "execution_count": 63,
     "metadata": {},
     "output_type": "execute_result"
    }
   ],
   "source": [
    "Solution().maxLength([\"cha\",\"r\",\"act\",\"ers\",\"ibx\",\"r\"])"
   ]
  },
  {
   "cell_type": "code",
   "execution_count": 68,
   "metadata": {},
   "outputs": [
    {
     "data": {
      "text/plain": [
       "6"
      ]
     },
     "execution_count": 68,
     "metadata": {},
     "output_type": "execute_result"
    }
   ],
   "source": [
    "Solution().maxLength([\"c\", \"bc\", \"ae\", \"ab\", \"cd\", \"ef\"])"
   ]
  },
  {
   "cell_type": "code",
   "execution_count": 73,
   "metadata": {},
   "outputs": [
    {
     "name": "stdout",
     "output_type": "stream",
     "text": [
      "['a', 'b', 'c', 'd', 'e', 'f', 'g', 'h', 'i', 'j', 'k', 'l', 'm', 'n', 'o', 'p', 'q', 'r', 's', 't', 'u', 'v', 'w', 'x', 'y', 'z']\n"
     ]
    },
    {
     "data": {
      "text/plain": [
       "26"
      ]
     },
     "execution_count": 73,
     "metadata": {},
     "output_type": "execute_result"
    }
   ],
   "source": [
    "arr = [chr(i+97) for i in range(26)]\n",
    "print(arr)\n",
    "Solution().maxLength(arr)"
   ]
  },
  {
   "cell_type": "code",
   "execution_count": null,
   "metadata": {},
   "outputs": [],
   "source": []
  }
 ],
 "metadata": {
  "kernelspec": {
   "display_name": "Python 3",
   "language": "python",
   "name": "python3"
  },
  "language_info": {
   "codemirror_mode": {
    "name": "ipython",
    "version": 3
   },
   "file_extension": ".py",
   "mimetype": "text/x-python",
   "name": "python",
   "nbconvert_exporter": "python",
   "pygments_lexer": "ipython3",
   "version": "3.6.8"
  }
 },
 "nbformat": 4,
 "nbformat_minor": 2
}
