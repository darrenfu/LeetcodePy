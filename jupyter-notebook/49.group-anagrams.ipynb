{
 "cells": [
  {
   "cell_type": "code",
   "execution_count": 34,
   "metadata": {},
   "outputs": [],
   "source": [
    "from typing import List\n",
    "from collections import defaultdict\n",
    "\n",
    "class Solution:\n",
    "    def groupAnagrams(self, strs: List[str]) -> List[List[str]]:\n",
    "        cnt2idx_dict = defaultdict(list)\n",
    "        for i, s in enumerate(strs):\n",
    "            # tuple is hashable as dict key\n",
    "            cnt2idx_dict[tuple(sorted(s))].append(i)\n",
    "        res = []\n",
    "        for v in cnt2idx_dict.values():\n",
    "            anagrams = []\n",
    "            for idx in v:\n",
    "                anagrams.append(strs[idx])\n",
    "            res.append(anagrams)\n",
    "        return res"
   ]
  },
  {
   "cell_type": "code",
   "execution_count": 38,
   "metadata": {},
   "outputs": [],
   "source": [
    "# T: O(m*n) m is avg length of each word\n",
    "# https://leetcode.com/problems/group-anagrams/discuss/19202/5-line-Python-solution-easy-to-understand\n",
    "from typing import List\n",
    "from collections import defaultdict\n",
    "\n",
    "class Solution:\n",
    "    def groupAnagrams(self, strs: List[str]) -> List[List[str]]:\n",
    "        cnt2idx_dict = defaultdict(list)\n",
    "        for s in strs:\n",
    "            key = tuple(sorted(s))\n",
    "            cnt2idx_dict[key].append(s)\n",
    "        return list(cnt2idx_dict.values())"
   ]
  },
  {
   "cell_type": "code",
   "execution_count": 42,
   "metadata": {},
   "outputs": [],
   "source": [
    "# T: O(lgn*n) m is avg length of each word\n",
    "# https://leetcode.com/problems/group-anagrams/discuss/19202/5-line-Python-solution-easy-to-understand\n",
    "from typing import List\n",
    "from collections import defaultdict\n",
    "\n",
    "class Solution:\n",
    "    def groupAnagrams(self, strs: List[str]) -> List[List[str]]:\n",
    "        cnt2idx_dict = defaultdict(list)\n",
    "        for s in strs:\n",
    "            freq = [0] * 26 # replace key from sorted str to hash of int[26]\n",
    "            # or use 26-len prime array for bit mismatch (*=)\n",
    "            for ch in s:\n",
    "                freq[ord(ch)-ord('a')] += 1\n",
    "            key = hash(tuple(freq))\n",
    "            cnt2idx_dict[key].append(s)\n",
    "        return list(cnt2idx_dict.values())"
   ]
  },
  {
   "cell_type": "code",
   "execution_count": null,
   "metadata": {},
   "outputs": [],
   "source": [
    "from typing import List\n",
    "import itertools\n",
    "\n",
    "class Solution:\n",
    "    def groupAnagrams(self, strs: List[str]) -> List[List[str]]:\n",
    "        groups = itertools.groupby(sorted(strs, key=sorted), sorted)\n",
    "        return sorted(members)"
   ]
  },
  {
   "cell_type": "code",
   "execution_count": 43,
   "metadata": {},
   "outputs": [
    {
     "data": {
      "text/plain": [
       "[['eat', 'tea', 'ate'], ['tan', 'nat'], ['bat']]"
      ]
     },
     "execution_count": 43,
     "metadata": {},
     "output_type": "execute_result"
    }
   ],
   "source": [
    "Solution().groupAnagrams([\"eat\", \"tea\", \"tan\", \"ate\", \"nat\", \"bat\"])"
   ]
  },
  {
   "cell_type": "code",
   "execution_count": null,
   "metadata": {},
   "outputs": [],
   "source": []
  }
 ],
 "metadata": {
  "kernelspec": {
   "display_name": "Python 3",
   "language": "python",
   "name": "python3"
  },
  "language_info": {
   "codemirror_mode": {
    "name": "ipython",
    "version": 3
   },
   "file_extension": ".py",
   "mimetype": "text/x-python",
   "name": "python",
   "nbconvert_exporter": "python",
   "pygments_lexer": "ipython3",
   "version": "3.6.8"
  }
 },
 "nbformat": 4,
 "nbformat_minor": 2
}
