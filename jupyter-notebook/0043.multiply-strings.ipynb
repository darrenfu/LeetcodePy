{
 "cells": [
  {
   "cell_type": "code",
   "execution_count": 23,
   "metadata": {},
   "outputs": [],
   "source": [
    "# Runtime: 132 ms, faster than 51.48%\n",
    "class Solution:\n",
    "    def multiply(self, num1: str, num2: str) -> str:\n",
    "        if num1 == '0' or num2 == '0': return '0'\n",
    "        # Important: the product max length = len(num1) + len(num2)\n",
    "        res = [0] * (len(num1) + len(num2))\n",
    "        for i, n1 in enumerate(num1[::-1]):\n",
    "            carry = 0\n",
    "            d1 = ord(n1) - ord('0')\n",
    "            for j, n2 in enumerate(num2[::-1]):\n",
    "                d2 = ord(n2) - ord('0')\n",
    "                product = d1 * d2\n",
    "                newval = res[i+j] + product % 10\n",
    "                res[i+j+1] += product // 10 + newval // 10\n",
    "                res[i+j] = newval % 10\n",
    "        return ''.join([str(d) for d in res[::-1]]).lstrip('0') # remove prepended zeros"
   ]
  },
  {
   "cell_type": "code",
   "execution_count": 24,
   "metadata": {},
   "outputs": [
    {
     "data": {
      "text/plain": [
       "'195615'"
      ]
     },
     "execution_count": 24,
     "metadata": {},
     "output_type": "execute_result"
    }
   ],
   "source": [
    "Solution().multiply(\"345\", \"567\")"
   ]
  },
  {
   "cell_type": "code",
   "execution_count": 25,
   "metadata": {},
   "outputs": [
    {
     "data": {
      "text/plain": [
       "'1725'"
      ]
     },
     "execution_count": 25,
     "metadata": {},
     "output_type": "execute_result"
    }
   ],
   "source": [
    "Solution().multiply(\"345\", \"5\")"
   ]
  },
  {
   "cell_type": "code",
   "execution_count": 28,
   "metadata": {},
   "outputs": [
    {
     "data": {
      "text/plain": [
       "'1200'"
      ]
     },
     "execution_count": 28,
     "metadata": {},
     "output_type": "execute_result"
    }
   ],
   "source": [
    "Solution().multiply(\"10\", \"120\")"
   ]
  },
  {
   "cell_type": "code",
   "execution_count": null,
   "metadata": {},
   "outputs": [],
   "source": []
  }
 ],
 "metadata": {
  "kernelspec": {
   "display_name": "Python 3",
   "language": "python",
   "name": "python3"
  },
  "language_info": {
   "codemirror_mode": {
    "name": "ipython",
    "version": 3
   },
   "file_extension": ".py",
   "mimetype": "text/x-python",
   "name": "python",
   "nbconvert_exporter": "python",
   "pygments_lexer": "ipython3",
   "version": "3.6.8"
  }
 },
 "nbformat": 4,
 "nbformat_minor": 2
}
