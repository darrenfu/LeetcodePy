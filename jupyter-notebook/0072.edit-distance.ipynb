{
 "cells": [
  {
   "cell_type": "markdown",
   "metadata": {},
   "source": [
    "### [72\\. Edit Distance](https://leetcode.com/problems/edit-distance/)\n",
    "\n",
    "Difficulty: **Hard**\n",
    "\n",
    "\n",
    "Given two words _word1_ and _word2_, find the minimum number of operations required to convert _word1_ to _word2_.\n",
    "\n",
    "You have the following 3 operations permitted on a word:\n",
    "\n",
    "1.  Insert a character\n",
    "2.  Delete a character\n",
    "3.  Replace a character\n",
    "\n",
    "**Example 1:**\n",
    "\n",
    "```\n",
    "Input: word1 = \"horse\", word2 = \"ros\"\n",
    "Output: 3\n",
    "Explanation: \n",
    "horse -> rorse (replace 'h' with 'r')\n",
    "rorse -> rose (remove 'r')\n",
    "rose -> ros (remove 'e')\n",
    "```\n",
    "\n",
    "**Example 2:**\n",
    "\n",
    "```\n",
    "Input: word1 = \"intention\", word2 = \"execution\"\n",
    "Output: 5\n",
    "Explanation: \n",
    "intention -> inention (remove 't')\n",
    "inention -> enention (replace 'i' with 'e')\n",
    "enention -> exention (replace 'n' with 'x')\n",
    "exention -> exection (replace 'n' with 'c')\n",
    "exection -> execution (insert 'u')\n",
    "```"
   ]
  },
  {
   "cell_type": "code",
   "execution_count": 21,
   "metadata": {},
   "outputs": [],
   "source": [
    "# https://en.wikipedia.org/wiki/Levenshtein_distance\n",
    "# Iterative with full matrix\n",
    "# Wagner–Fischer algorithm\n",
    "# Runtime: 180 ms, faster than 66.81%\n",
    "# Runtime: 208 ms, faster than 27.83%\n",
    "class Solution:\n",
    "    def minDistance(self, word1: str, word2: str) -> int:\n",
    "        L1, L2 = len(word1), len(word2)\n",
    "        dp = [[0 for _ in range(L2+1)] for _ in range(L1+1)]\n",
    "        # source prefixes can be transformed into empty string by deleting all chars\n",
    "        for i in range(1, L1+1):\n",
    "            dp[i][0] = i # if word2 is empty, need i steps to turn word1 into word2\n",
    "        # target prefixes can be reached from empty source prefix by inserting every char\n",
    "        for j in range(1, L2+1):\n",
    "            dp[0][j] = j\n",
    "        \n",
    "        for i in range(1, L1+1):\n",
    "            for j in range(1, L2+1):\n",
    "                # substritution_cost\n",
    "                # deletion_cost, insert_cost\n",
    "                dp[i][j] = min(dp[i-1][j-1] + (word1[i-1] != word2[j-1]), \\\n",
    "                               dp[i-1][j]+1, dp[i][j-1]+1)\n",
    "        return dp[L1][L2]"
   ]
  },
  {
   "cell_type": "code",
   "execution_count": 2,
   "metadata": {},
   "outputs": [],
   "source": [
    "# iterative with two matrix rows\n",
    "# Runtime: 160 ms, faster than 83.06%\n",
    "class Solution:\n",
    "    def minDistance(self, word1: str, word2: str) -> int:\n",
    "        L1, L2 = len(word1), len(word2)\n",
    "        dp0 = [i for i in range(L2+1)]  # prev row\n",
    "        dp1 = [0 for _ in range(L2+1)]  # cur row\n",
    "        \n",
    "        for i in range(L1):\n",
    "            # To delete (i+1) chars from s to match empty t\n",
    "            dp1[0] = i + 1  # dp[i+1][0] = i+1\n",
    "            for j in range(L2):\n",
    "                del_cost = dp0[j+1] + 1  # =dp[i][j+1]+1, in which dp[i] is prev row\n",
    "                ins_cost = dp1[j] + 1    # =dp[i+1][j]+1, in which dp[i+1] is cur row\n",
    "                sub_cost = dp0[j] + (word1[i] != word2[j]) # =dp[i][j] + (...)\n",
    "                dp1[j+1] = min(del_cost, ins_cost, sub_cost)\n",
    "            # Important! Swap dp1 (current row) with dp0 (prev row) for next iteration\n",
    "            dp0, dp1 = dp1, dp0\n",
    "        # after last swap, results of dp1 are now in dp0\n",
    "        return dp0[L2]"
   ]
  },
  {
   "cell_type": "code",
   "execution_count": 11,
   "metadata": {},
   "outputs": [],
   "source": [
    "# Recursion\n",
    "# Runtime: 112 ms, faster than 93.01%\n",
    "# https://www.youtube.com/watch?v=Q4i_rqON2-E\n",
    "from functools import lru_cache\n",
    "class Solution:\n",
    "    def minDistance(self, word1: str, word2: str) -> int:\n",
    "        @lru_cache(None)\n",
    "        def editDistance(w1: str, w2: str) -> int:\n",
    "            if not w1: return len(w2)\n",
    "            if not w2: return len(w1)\n",
    "            res = 0\n",
    "            if w1[-1] == w2[-1]:\n",
    "                # replace\n",
    "                return editDistance(w1[:-1], w2[:-1])\n",
    "            else:\n",
    "                # replace or insertion or deletion\n",
    "                return 1 + min(editDistance(w1[:-1], w2[:-1]), \\\n",
    "                             editDistance(w1[:-1], w2), \\\n",
    "                             editDistance(w1, w2[:-1]))\n",
    "        return editDistance(word1, word2)"
   ]
  },
  {
   "cell_type": "code",
   "execution_count": 1,
   "metadata": {},
   "outputs": [],
   "source": [
    "# A more readable version of Iterative DP Solution\n",
    "class Solution:\n",
    "    def minDistance(self, word1: str, word2: str) -> int:\n",
    "        M, N = len(word1), len(word2)\n",
    "        dp = [[0] * (N+1) for _ in range(M+1)]\n",
    "        for i in range(1, M+1):\n",
    "            dp[i][0] = i\n",
    "        for j in range(1, N+1):\n",
    "            dp[0][j] = j\n",
    "        for i in range(1, M+1):\n",
    "            for j in range(1, N+1):\n",
    "                if word1[i-1] == word2[j-1]:\n",
    "                    dp[i][j] = dp[i-1][j-1]\n",
    "                else:\n",
    "                    dp[i][j] = 1 + min(dp[i-1][j-1], dp[i-1][j], dp[i][j-1])\n",
    "        return dp[-1][-1]"
   ]
  },
  {
   "cell_type": "code",
   "execution_count": 2,
   "metadata": {},
   "outputs": [
    {
     "data": {
      "text/plain": [
       "3"
      ]
     },
     "execution_count": 2,
     "metadata": {},
     "output_type": "execute_result"
    }
   ],
   "source": [
    "Solution().minDistance(word1 = \"horse\", word2 = \"ros\")"
   ]
  },
  {
   "cell_type": "code",
   "execution_count": 3,
   "metadata": {},
   "outputs": [
    {
     "data": {
      "text/plain": [
       "5"
      ]
     },
     "execution_count": 3,
     "metadata": {},
     "output_type": "execute_result"
    }
   ],
   "source": [
    "Solution().minDistance(word1 = \"intention\", word2 = \"execution\")"
   ]
  },
  {
   "cell_type": "code",
   "execution_count": 4,
   "metadata": {},
   "outputs": [
    {
     "data": {
      "text/plain": [
       "3"
      ]
     },
     "execution_count": 4,
     "metadata": {},
     "output_type": "execute_result"
    }
   ],
   "source": [
    "Solution().minDistance(word1 = \"saturday\", word2 = \"sunday\")"
   ]
  },
  {
   "cell_type": "code",
   "execution_count": 5,
   "metadata": {},
   "outputs": [
    {
     "data": {
      "text/plain": [
       "3"
      ]
     },
     "execution_count": 5,
     "metadata": {},
     "output_type": "execute_result"
    }
   ],
   "source": [
    "Solution().minDistance(word1 = \"kitten\", word2 = \"sitting\")"
   ]
  },
  {
   "cell_type": "code",
   "execution_count": null,
   "metadata": {},
   "outputs": [],
   "source": []
  }
 ],
 "metadata": {
  "kernelspec": {
   "display_name": "Python 3",
   "language": "python",
   "name": "python3"
  },
  "language_info": {
   "codemirror_mode": {
    "name": "ipython",
    "version": 3
   },
   "file_extension": ".py",
   "mimetype": "text/x-python",
   "name": "python",
   "nbconvert_exporter": "python",
   "pygments_lexer": "ipython3",
   "version": "3.6.8"
  }
 },
 "nbformat": 4,
 "nbformat_minor": 2
}
