{
 "cells": [
  {
   "cell_type": "markdown",
   "metadata": {},
   "source": [
    "### [754\\. Reach a Number](https://leetcode.com/problems/reach-a-number/)\n",
    "\n",
    "Difficulty: **Medium**\n",
    "\n",
    "\n",
    "You are standing at position `0` on an infinite number line. There is a goal at position `target`.\n",
    "\n",
    "On each move, you can either go left or right. During the _n_-th move (starting from 1), you take _n_ steps.\n",
    "\n",
    "Return the minimum number of steps required to reach the destination.\n",
    "\n",
    "**Example 1:**  \n",
    "\n",
    "```\n",
    "Input: target = 3\n",
    "Output: 2\n",
    "Explanation:\n",
    "On the first move we step from 0 to 1.\n",
    "On the second step we step from 1 to 3.\n",
    "```\n",
    "\n",
    "**Example 2:**  \n",
    "\n",
    "```\n",
    "Input: target = 2\n",
    "Output: 3\n",
    "Explanation:\n",
    "On the first move we step from 0 to 1.\n",
    "On the second move we step  from 1 to -1.\n",
    "On the third move we step from -1 to 2.\n",
    "```\n",
    "\n",
    "**Note:**  \n",
    "\n",
    "*   `target` will be a non-zero integer in the range `[-10^9, 10^9]`."
   ]
  },
  {
   "cell_type": "code",
   "execution_count": null,
   "metadata": {},
   "outputs": [],
   "source": [
    "# Math - recursion\n",
    "# all sum - 2*n (n is one element)\n",
    "class Solution:\n",
    "    def reachNumber(self, target: int) -> int:\n",
    "        target = abs(target)\n",
    "        def dfs(sm: int, step: int) -> int:\n",
    "            if sm >= target and (sm-target) % 2 == 0:\n",
    "                return step-1\n",
    "            return dfs(sm+step, step+1)\n",
    "        return dfs(0, 1)"
   ]
  }
 ],
 "metadata": {
  "kernelspec": {
   "display_name": "Python 3",
   "language": "python",
   "name": "python3"
  },
  "language_info": {
   "codemirror_mode": {
    "name": "ipython",
    "version": 3
   },
   "file_extension": ".py",
   "mimetype": "text/x-python",
   "name": "python",
   "nbconvert_exporter": "python",
   "pygments_lexer": "ipython3",
   "version": "3.6.8"
  }
 },
 "nbformat": 4,
 "nbformat_minor": 2
}
