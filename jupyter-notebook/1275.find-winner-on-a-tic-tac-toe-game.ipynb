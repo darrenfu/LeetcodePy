{
 "cells": [
  {
   "cell_type": "markdown",
   "metadata": {},
   "source": [
    "### [1275\\. Find Winner on a Tic Tac Toe Game](https://leetcode.com/problems/find-winner-on-a-tic-tac-toe-game/)\n",
    "\n",
    "Difficulty: **Easy**\n",
    "\n",
    "\n",
    "Tic-tac-toe is played by two players _A_ and _B_ on a _3_ x _3_ grid.\n",
    "\n",
    "Here are the rules of Tic-Tac-Toe:\n",
    "\n",
    "*   Players take turns placing characters into empty squares (\" \").\n",
    "*   The first player _A_ always places \"X\" characters, while the second player _B_ always places \"O\" characters.\n",
    "*   \"X\" and \"O\" characters are always placed into empty squares, never on filled ones.\n",
    "*   The game ends when there are 3 of the same (non-empty) character filling any row, column, or diagonal.\n",
    "*   The game also ends if all squares are non-empty.\n",
    "*   No more moves can be played if the game is over.\n",
    "\n",
    "Given an array `moves` where each element is another array of size 2 corresponding to the row and column of the grid where they mark their respective character in the order in which _A_ and _B_ play.\n",
    "\n",
    "Return the winner of the game if it exists (_A_ or _B_), in case the game ends in a draw return \"Draw\", if there are still movements to play return \"Pending\".\n",
    "\n",
    "You can assume that `moves` is **valid** (It follows the rules of Tic-Tac-Toe), the grid is initially empty and _A_ will play **first**.\n",
    "\n",
    "**Example 1:**\n",
    "\n",
    "```\n",
    "Input: moves = [[0,0],[2,0],[1,1],[2,1],[2,2]]\n",
    "Output: \"A\"\n",
    "Explanation: \"A\" wins, he always plays first.\n",
    "\"X  \"    \"X  \"    \"X  \"    \"X  \"    \"X  \"\n",
    "\"   \" -> \"   \" -> \" X \" -> \" X \" -> \" X \"\n",
    "\"   \"    \"O  \"    \"O  \"    \"OO \"    \"OOX\"\n",
    "```\n",
    "\n",
    "**Example 2:**\n",
    "\n",
    "```\n",
    "Input: moves = [[0,0],[1,1],[0,1],[0,2],[1,0],[2,0]]\n",
    "Output: \"B\"\n",
    "Explanation: \"B\" wins.\n",
    "\"X  \"    \"X  \"    \"XX \"    \"XXO\"    \"XXO\"    \"XXO\"\n",
    "\"   \" -> \" O \" -> \" O \" -> \" O \" -> \"XO \" -> \"XO \" \n",
    "\"   \"    \"   \"    \"   \"    \"   \"    \"   \"    \"O  \"\n",
    "```\n",
    "\n",
    "**Example 3:**\n",
    "\n",
    "```\n",
    "Input: moves = [[0,0],[1,1],[2,0],[1,0],[1,2],[2,1],[0,1],[0,2],[2,2]]\n",
    "Output: \"Draw\"\n",
    "Explanation: The game ends in a draw since there are no moves to make.\n",
    "\"XXO\"\n",
    "\"OOX\"\n",
    "\"XOX\"\n",
    "```\n",
    "\n",
    "**Example 4:**\n",
    "\n",
    "```\n",
    "Input: moves = [[0,0],[1,1]]\n",
    "Output: \"Pending\"\n",
    "Explanation: The game has not finished yet.\n",
    "\"X  \"\n",
    "\" O \"\n",
    "\"   \"\n",
    "```\n",
    "\n",
    "**Constraints:**\n",
    "\n",
    "*   `1 <= moves.length <= 9`\n",
    "*   `moves[i].length == 2`\n",
    "*   `0 <= moves[i][j] <= 2`\n",
    "*   There are no repeated elements on `moves`.\n",
    "*   `moves` follow the rules of tic tac toe."
   ]
  },
  {
   "cell_type": "code",
   "execution_count": 21,
   "metadata": {},
   "outputs": [],
   "source": [
    "from typing import List\n",
    "from collections import Counter\n",
    "\n",
    "class Solution:\n",
    "    def tictactoe(self, moves: List[List[int]]) -> str:\n",
    "        def wins(moves: List[int]) -> bool:\n",
    "            hcnt,vcnt,dcnt1,dcnt2 = Counter(), Counter(), 0, 0\n",
    "            for m in moves:\n",
    "                x,y = m[0],m[1]\n",
    "                hcnt[x] += 1\n",
    "                vcnt[y] += 1\n",
    "                if x == y: # Main Diagonal: http://mathworld.wolfram.com/Diagonal.html\n",
    "                    dcnt1 += 1\n",
    "                if x+y == 2: # Main Skew diagonal: http://mathworld.wolfram.com/SkewDiagonal.html\n",
    "                    dcnt2 += 1\n",
    "                if hcnt[x] == 3 or vcnt[y] == 3 or dcnt1 == 3 or dcnt2 == 3:\n",
    "                    return True\n",
    "            return False\n",
    "        amoves = [m for i,m in enumerate(moves) if i % 2 == 0]\n",
    "        bmoves = [m for i,m in enumerate(moves) if i % 2 == 1]\n",
    "        if wins(amoves): return 'A'\n",
    "        if wins(bmoves): return 'B'\n",
    "        return 'Draw' if len(moves) == 9 else 'Pending'"
   ]
  },
  {
   "cell_type": "code",
   "execution_count": 22,
   "metadata": {},
   "outputs": [
    {
     "data": {
      "text/plain": [
       "'A'"
      ]
     },
     "execution_count": 22,
     "metadata": {},
     "output_type": "execute_result"
    }
   ],
   "source": [
    "Solution().tictactoe(moves=[[0,0],[2,0],[1,1],[2,1],[2,2]])"
   ]
  },
  {
   "cell_type": "code",
   "execution_count": 23,
   "metadata": {},
   "outputs": [
    {
     "data": {
      "text/plain": [
       "'B'"
      ]
     },
     "execution_count": 23,
     "metadata": {},
     "output_type": "execute_result"
    }
   ],
   "source": [
    "Solution().tictactoe(moves=[[0,0],[1,1],[0,1],[0,2],[1,0],[2,0]])"
   ]
  },
  {
   "cell_type": "code",
   "execution_count": 24,
   "metadata": {},
   "outputs": [
    {
     "data": {
      "text/plain": [
       "'Draw'"
      ]
     },
     "execution_count": 24,
     "metadata": {},
     "output_type": "execute_result"
    }
   ],
   "source": [
    "Solution().tictactoe(moves=[[0,0],[1,1],[2,0],[1,0],[1,2],[2,1],[0,1],[0,2],[2,2]])"
   ]
  },
  {
   "cell_type": "code",
   "execution_count": 25,
   "metadata": {},
   "outputs": [
    {
     "data": {
      "text/plain": [
       "'Pending'"
      ]
     },
     "execution_count": 25,
     "metadata": {},
     "output_type": "execute_result"
    }
   ],
   "source": [
    "Solution().tictactoe(moves=[[0,0],[1,1]])"
   ]
  },
  {
   "cell_type": "code",
   "execution_count": null,
   "metadata": {},
   "outputs": [],
   "source": []
  }
 ],
 "metadata": {
  "kernelspec": {
   "display_name": "Python 3",
   "language": "python",
   "name": "python3"
  },
  "language_info": {
   "codemirror_mode": {
    "name": "ipython",
    "version": 3
   },
   "file_extension": ".py",
   "mimetype": "text/x-python",
   "name": "python",
   "nbconvert_exporter": "python",
   "pygments_lexer": "ipython3",
   "version": "3.6.8"
  }
 },
 "nbformat": 4,
 "nbformat_minor": 2
}
