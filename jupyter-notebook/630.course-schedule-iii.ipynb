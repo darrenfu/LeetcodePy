{
 "cells": [
  {
   "cell_type": "code",
   "execution_count": 5,
   "metadata": {},
   "outputs": [],
   "source": [
    "# Greedy + Priority queue\n",
    "# T: O(NlogN), S: O(N)\n",
    "# https://leetcode.com/problems/course-schedule-iii/discuss/104847/Python-Straightforward-with-Explanation\n",
    "# See proof of greedy algo in @shuhua's comment in the link above\n",
    "# For more solutions, check https://leetcode.com/articles/course-schedule-iii/\n",
    "from typing import List\n",
    "from heapq import *\n",
    "class Solution:\n",
    "    def scheduleCourse(self, courses: List[List[int]]) -> int:\n",
    "        pq = []\n",
    "        start = 0\n",
    "        # sort courses by end day\n",
    "        for t, end in sorted(courses, key=lambda tpl: tpl[1]):\n",
    "            start += t # greedy\n",
    "            heappush(pq, -t) # negative as a python trick to construct max heap\n",
    "            if start > end: # the total duration of first K courses is out of end day\n",
    "                # greedily remove largest course from max heap\n",
    "                start += heappop(pq) # -> start -= (-heappop(pq))\n",
    "        return len(pq)"
   ]
  },
  {
   "cell_type": "code",
   "execution_count": 6,
   "metadata": {},
   "outputs": [
    {
     "data": {
      "text/plain": [
       "3"
      ]
     },
     "execution_count": 6,
     "metadata": {},
     "output_type": "execute_result"
    }
   ],
   "source": [
    "Solution().scheduleCourse([[100, 200], [200, 1300], [1000, 1250], [2000, 3200]])"
   ]
  },
  {
   "cell_type": "code",
   "execution_count": null,
   "metadata": {},
   "outputs": [],
   "source": []
  }
 ],
 "metadata": {
  "kernelspec": {
   "display_name": "Python 3",
   "language": "python",
   "name": "python3"
  },
  "language_info": {
   "codemirror_mode": {
    "name": "ipython",
    "version": 3
   },
   "file_extension": ".py",
   "mimetype": "text/x-python",
   "name": "python",
   "nbconvert_exporter": "python",
   "pygments_lexer": "ipython3",
   "version": "3.6.8"
  }
 },
 "nbformat": 4,
 "nbformat_minor": 2
}
