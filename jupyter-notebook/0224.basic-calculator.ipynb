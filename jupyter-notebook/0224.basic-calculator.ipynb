{
 "cells": [
  {
   "cell_type": "markdown",
   "metadata": {},
   "source": [
    "### [224\\. Basic Calculator](https://leetcode.com/problems/basic-calculator/)\n",
    "\n",
    "Difficulty: **Hard**\n",
    "\n",
    "\n",
    "Implement a basic calculator to evaluate a simple expression string.\n",
    "\n",
    "The expression string may contain open `(` and closing parentheses `)`, the plus `+` or minus sign `-`, **non-negative** integers and empty spaces .\n",
    "\n",
    "**Example 1:**\n",
    "\n",
    "```\n",
    "Input: \"1 + 1\"\n",
    "Output: 2\n",
    "```\n",
    "\n",
    "**Example 2:**\n",
    "\n",
    "```\n",
    "Input: \" 2-1 + 2 \"\n",
    "Output: 3\n",
    "```\n",
    "\n",
    "**Example 3:**\n",
    "\n",
    "```\n",
    "Input: \"(1+(4+5+2)-3)+(6+8)\"\n",
    "Output: 23\n",
    "```\n",
    "\n",
    "**Note:**\n",
    "\n",
    "*   You may assume that the given expression is always valid.\n",
    "*   **Do not** use the `eval` built-in library function."
   ]
  },
  {
   "cell_type": "code",
   "execution_count": 36,
   "metadata": {},
   "outputs": [],
   "source": [
    "# Reverse Polish Notation (RPN)\n",
    "from typing import List\n",
    "\n",
    "class Solution:\n",
    "    def calculate(self, s: str) -> int:\n",
    "        # shunting-yard algorithm\n",
    "        def infix2postfix(exp: str) -> List[str]:\n",
    "            PRECEDENCE = {'(': 0, '+': 1, '-': 1, ')': 2}\n",
    "            stack, q, digit_cache = [], [], []\n",
    "            for ch in exp:\n",
    "                if ch == ' ': # skip whitespaces\n",
    "                    continue\n",
    "                elif ch not in '()+-': # add integer into queue\n",
    "                    digit_cache.append(ch)\n",
    "                else:\n",
    "                    _addDigit(digit_cache, q)\n",
    "                    if ch == ')':\n",
    "                        while stack and stack[-1] != '(':\n",
    "                            q.append(stack.pop())\n",
    "                        stack.pop() # remove '('\n",
    "                    elif ch in '+-':\n",
    "                        while stack and PRECEDENCE[stack[-1]] >= PRECEDENCE[ch]:\n",
    "                            q.append(stack.pop())\n",
    "                        stack.append(ch)\n",
    "                    elif ch == '(':\n",
    "                        stack.append(ch)\n",
    "                        \n",
    "            _addDigit(digit_cache, q)\n",
    "            # important: pop all remaining operators from stack and add to the queue\n",
    "            while stack:\n",
    "                q.append(stack.pop())\n",
    "            return q\n",
    "        \n",
    "        def _addDigit(digit_cache: List[str], queue: List[str]):\n",
    "            if digit_cache:\n",
    "                queue.append(''.join(digit_cache))\n",
    "                digit_cache.clear()\n",
    "            \n",
    "        def evalPostfix(exp: List[str]) -> int:\n",
    "            stack = []\n",
    "            for token in exp:\n",
    "                if token not in '+-': # integer\n",
    "                    stack.append(int(token))\n",
    "                else:\n",
    "                    n2, n1 = stack.pop(), stack.pop()\n",
    "                    n3 = _calc(n1, n2, token)\n",
    "                    stack.append(n3)\n",
    "            return stack[-1]\n",
    "            \n",
    "        def _calc(n1: int, n2: int, op: str) -> int:\n",
    "            if op == '+':\n",
    "                return n1 + n2\n",
    "            elif op == '-':\n",
    "                return n1 - n2\n",
    "            else:\n",
    "                raise Exception(\"Operator isn't supported {}\".format(op))\n",
    "        \n",
    "        postfix = infix2postfix(s)\n",
    "        print(\"postfix: {}\".format(postfix))\n",
    "        return evalPostfix(postfix)"
   ]
  },
  {
   "cell_type": "code",
   "execution_count": 37,
   "metadata": {},
   "outputs": [
    {
     "name": "stdout",
     "output_type": "stream",
     "text": [
      "postfix: ['1', '4', '5', '+', '2', '+', '+', '3', '-', '6', '8', '+', '+']\n"
     ]
    },
    {
     "data": {
      "text/plain": [
       "23"
      ]
     },
     "execution_count": 37,
     "metadata": {},
     "output_type": "execute_result"
    }
   ],
   "source": [
    "Solution().calculate(\"(1+(4+5+2)-3)+(6+8)\")"
   ]
  },
  {
   "cell_type": "code",
   "execution_count": 39,
   "metadata": {},
   "outputs": [
    {
     "name": "stdout",
     "output_type": "stream",
     "text": [
      "postfix: ['10', '40', '50', '+', '-']\n"
     ]
    },
    {
     "data": {
      "text/plain": [
       "-80"
      ]
     },
     "execution_count": 39,
     "metadata": {},
     "output_type": "execute_result"
    }
   ],
   "source": [
    "Solution().calculate(\"10 - (40+50)\")"
   ]
  },
  {
   "cell_type": "code",
   "execution_count": null,
   "metadata": {},
   "outputs": [],
   "source": []
  }
 ],
 "metadata": {
  "kernelspec": {
   "display_name": "Python 3",
   "language": "python",
   "name": "python3"
  },
  "language_info": {
   "codemirror_mode": {
    "name": "ipython",
    "version": 3
   },
   "file_extension": ".py",
   "mimetype": "text/x-python",
   "name": "python",
   "nbconvert_exporter": "python",
   "pygments_lexer": "ipython3",
   "version": "3.6.8"
  }
 },
 "nbformat": 4,
 "nbformat_minor": 2
}
