{
 "cells": [
  {
   "cell_type": "markdown",
   "metadata": {},
   "source": [
    "### [1319\\. Number of Operations to Make Network Connected](https://leetcode.com/problems/number-of-operations-to-make-network-connected/)\n",
    "\n",
    "Difficulty: **Medium**\n",
    "\n",
    "\n",
    "There are `n` computers numbered from `0` to `n-1` connected by ethernet cables `connections` forming a network where `connections[i] = [a, b]` represents a connection between computers `a` and `b`. Any computer can reach any other computer directly or indirectly through the network.\n",
    "\n",
    "Given an initial computer network `connections`. You can extract certain cables between two directly connected computers, and place them between any pair of disconnected computers to make them directly connected. Return the _minimum number of times_ you need to do this in order to make all the computers connected. If it's not possible, return -1. \n",
    "\n",
    "**Example 1:**\n",
    "\n",
    "**![](https://assets.leetcode.com/uploads/2020/01/02/sample_1_1677.png)**\n",
    "\n",
    "```\n",
    "Input: n = 4, connections = [[0,1],[0,2],[1,2]]\n",
    "Output: 1\n",
    "Explanation: Remove cable between computer 1 and 2 and place between computers 1 and 3.\n",
    "```\n",
    "\n",
    "**Example 2:**\n",
    "\n",
    "**![](https://assets.leetcode.com/uploads/2020/01/02/sample_2_1677.png)**\n",
    "\n",
    "```\n",
    "Input: n = 6, connections = [[0,1],[0,2],[0,3],[1,2],[1,3]]\n",
    "Output: 2\n",
    "```\n",
    "\n",
    "**Example 3:**\n",
    "\n",
    "```\n",
    "Input: n = 6, connections = [[0,1],[0,2],[0,3],[1,2]]\n",
    "Output: -1\n",
    "Explanation: There are not enough cables.\n",
    "```\n",
    "\n",
    "**Example 4:**\n",
    "\n",
    "```\n",
    "Input: n = 5, connections = [[0,1],[0,2],[3,4],[2,3]]\n",
    "Output: 0\n",
    "```\n",
    "\n",
    "**Constraints:**\n",
    "\n",
    "*   `1 <= n <= 10^5`\n",
    "*   `1 <= connections.length <= min(n*(n-1)/2, 10^5)`\n",
    "*   `connections[i].length == 2`\n",
    "*   `0 <= connections[i][0], connections[i][1] < n`\n",
    "*   `connections[i][0] != connections[i][1]`\n",
    "*   There are no repeated connections.\n",
    "*   No two computers are connected by more than one cable."
   ]
  },
  {
   "cell_type": "code",
   "execution_count": 2,
   "metadata": {},
   "outputs": [],
   "source": [
    "from typing import List\n",
    "\n",
    "class UF:\n",
    "    def __init__(self, n: int):\n",
    "        # index must start from 0\n",
    "        self.parents = [i for i in range(n)]\n",
    "\n",
    "    def find(self, i: int) -> int:\n",
    "        if self.parents[i] != i:  # i is not root\n",
    "            # path compression: point all non-root nodes in that chain to root node (flat tree)\n",
    "            self.parents[i] = self.find(self.parents[i])\n",
    "        return self.parents[i]\n",
    "\n",
    "    def union(self, i: int, j: int) -> bool:\n",
    "        a, b = self.find(i), self.find(j)\n",
    "        ret = a != b\n",
    "        if ret:  # optimization: to record how many unions if a and b don't have the same root\n",
    "            self.parents[a] = b\n",
    "        return ret\n",
    "    \n",
    "class Solution:\n",
    "    def makeConnected(self, n: int, connections: List[List[int]]) -> int:\n",
    "        uf = UF(n)\n",
    "        loops = 0\n",
    "        subcomps = n\n",
    "        for u, v in connections:\n",
    "            if uf.union(u, v):\n",
    "                subcomps -= 1\n",
    "            else:\n",
    "                loops += 1\n",
    "        #subcomps = len({ uf.find(v) for v in range(n)}) \n",
    "        return -1 if loops < subcomps-1 else subcomps-1"
   ]
  },
  {
   "cell_type": "code",
   "execution_count": 3,
   "metadata": {},
   "outputs": [
    {
     "data": {
      "text/plain": [
       "2"
      ]
     },
     "execution_count": 3,
     "metadata": {},
     "output_type": "execute_result"
    }
   ],
   "source": [
    "Solution().makeConnected(n = 6, connections = [[0,1],[0,2],[0,3],[1,2],[1,3]])"
   ]
  },
  {
   "cell_type": "code",
   "execution_count": 4,
   "metadata": {},
   "outputs": [
    {
     "data": {
      "text/plain": [
       "-1"
      ]
     },
     "execution_count": 4,
     "metadata": {},
     "output_type": "execute_result"
    }
   ],
   "source": [
    "Solution().makeConnected(n = 6, connections = [[0,1],[0,2],[0,3],[1,2]])"
   ]
  },
  {
   "cell_type": "markdown",
   "metadata": {},
   "source": []
  }
 ],
 "metadata": {
  "kernelspec": {
   "display_name": "Python 3",
   "language": "python",
   "name": "python3"
  },
  "language_info": {
   "codemirror_mode": {
    "name": "ipython",
    "version": 3
   },
   "file_extension": ".py",
   "mimetype": "text/x-python",
   "name": "python",
   "nbconvert_exporter": "python",
   "pygments_lexer": "ipython3",
   "version": "3.6.8"
  }
 },
 "nbformat": 4,
 "nbformat_minor": 2
}
