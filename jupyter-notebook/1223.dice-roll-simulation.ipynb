{
 "cells": [
  {
   "cell_type": "code",
   "execution_count": 1,
   "metadata": {},
   "outputs": [],
   "source": [
    "# DFS + LRU cache\n",
    "# @awice\n",
    "# Runtime: 2080 ms\n",
    "from typing import List\n",
    "from functools import lru_cache\n",
    "\n",
    "class Solution:\n",
    "    def dieSimulator(self, n: int, rollMax: List[int]) -> int:\n",
    "        MOD = 10 ** 9 + 7\n",
    "        @lru_cache(None)\n",
    "        def dp(i: int, j: int, k: int) -> int:\n",
    "            nonlocal MOD\n",
    "            # i rolls, recently rolled j for k times\n",
    "            if i == 0:\n",
    "                return 1\n",
    "            res = 0\n",
    "            for dice in range(6):\n",
    "                if dice != j: # reset: a different new rolled value\n",
    "                    res += dp(i-1, dice, 1)\n",
    "                elif k < rollMax[dice]: # within rollMax constraint\n",
    "                    res += dp(i-1, dice, k+1)\n",
    "            res %= MOD\n",
    "            return res\n",
    "        \n",
    "        # start from any of [1,6] initially\n",
    "        return dp(n, -1, 0) % MOD"
   ]
  },
  {
   "cell_type": "code",
   "execution_count": 11,
   "metadata": {},
   "outputs": [],
   "source": [
    "# DFS + Memorization\n",
    "# Runtime: 2816 ms\n",
    "# https://leetcode.com/problems/dice-roll-simulation/discuss/403736/ChineseC%2B%2B-1223.\n",
    "from typing import List\n",
    "\n",
    "class Solution:\n",
    "    def dieSimulator(self, n: int, rollMax: List[int]) -> int:\n",
    "        def dp(i: int, j: int, k: int) -> int:\n",
    "            nonlocal MOD\n",
    "            # i rolls, recently rolled j for k times\n",
    "            if i == 0:\n",
    "                return 1\n",
    "            if cache[i][k][j] != -1: return cache[i][k][j]\n",
    "            res = 0\n",
    "            for dice in range(6):\n",
    "                if dice != j: # reset: a different new rolled value\n",
    "                    res += dp(i-1, dice, 1)\n",
    "                elif k < rollMax[dice]: # within rollMax constraint\n",
    "                    res += dp(i-1, dice, k+1)\n",
    "            cache[i][k][j] = res % MOD\n",
    "            return cache[i][k][j]\n",
    "        \n",
    "        MOD = 10**9 + 7\n",
    "        # 1st dimension: i (more rolls)\n",
    "        # 2nd dimension: k (consecutive times)\n",
    "        # 3rd dimension: j (rolled dice value)\n",
    "        cache = [[[-1 for _ in range(6)] for _ in range(max(rollMax)+1)] for _ in range(n+2)]\n",
    "        # start from any of [1,6] initially\n",
    "        return dp(n, -1, 0) % MOD"
   ]
  },
  {
   "cell_type": "code",
   "execution_count": 21,
   "metadata": {},
   "outputs": [],
   "source": [
    "#* Iterative DP\n",
    "# https://leetcode.com/problems/dice-roll-simulation/discuss/403654/Python-DP-solution\n",
    "from typing import List\n",
    "\n",
    "class Solution:\n",
    "    def dieSimulator(self, n: int, rollMax: List[int]) -> int:\n",
    "        MOD = 10**9 + 7\n",
    "        # dp[i][k] is a 6x17 matrix, in which:\n",
    "        # i is the last element/dice;\n",
    "        # k is the consecutive times of (the last element/dice i)\n",
    "        dp = [([0, 1] + [0] * 15) for _ in range(6)]\n",
    "        for _ in range(n - 1):\n",
    "            dp2 = [[0] * 17 for _ in range(6)]\n",
    "            for i in range(6):\n",
    "                for k in range(1, rollMax[i] + 1):\n",
    "                    for j in range(6):\n",
    "                        if i == j:\n",
    "                            if k < rollMax[i]:\n",
    "                                dp2[j][k + 1] += dp[i][k] % MOD\n",
    "                        else:\n",
    "                            dp2[j][1] += dp[i][k] % MOD\n",
    "            dp = dp2\n",
    "        return sum(sum(row) for row in dp) % MOD"
   ]
  },
  {
   "cell_type": "code",
   "execution_count": 22,
   "metadata": {},
   "outputs": [
    {
     "data": {
      "text/plain": [
       "34"
      ]
     },
     "execution_count": 22,
     "metadata": {},
     "output_type": "execute_result"
    }
   ],
   "source": [
    "Solution().dieSimulator(n = 2, rollMax = [1,1,2,2,2,3])"
   ]
  },
  {
   "cell_type": "code",
   "execution_count": 23,
   "metadata": {},
   "outputs": [
    {
     "data": {
      "text/plain": [
       "30"
      ]
     },
     "execution_count": 23,
     "metadata": {},
     "output_type": "execute_result"
    }
   ],
   "source": [
    "Solution().dieSimulator(n = 2, rollMax = [1,1,1,1,1,1])"
   ]
  },
  {
   "cell_type": "code",
   "execution_count": 20,
   "metadata": {},
   "outputs": [
    {
     "data": {
      "text/plain": [
       "181"
      ]
     },
     "execution_count": 20,
     "metadata": {},
     "output_type": "execute_result"
    }
   ],
   "source": [
    "Solution().dieSimulator(n = 3, rollMax = [1,1,1,2,2,3])"
   ]
  },
  {
   "cell_type": "code",
   "execution_count": null,
   "metadata": {},
   "outputs": [],
   "source": []
  }
 ],
 "metadata": {
  "kernelspec": {
   "display_name": "Python 3",
   "language": "python",
   "name": "python3"
  },
  "language_info": {
   "codemirror_mode": {
    "name": "ipython",
    "version": 3
   },
   "file_extension": ".py",
   "mimetype": "text/x-python",
   "name": "python",
   "nbconvert_exporter": "python",
   "pygments_lexer": "ipython3",
   "version": "3.6.8"
  }
 },
 "nbformat": 4,
 "nbformat_minor": 2
}
