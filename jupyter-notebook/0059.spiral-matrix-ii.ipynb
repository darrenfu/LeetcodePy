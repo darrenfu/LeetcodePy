{
 "cells": [
  {
   "cell_type": "code",
   "execution_count": 16,
   "metadata": {},
   "outputs": [],
   "source": [
    "# Inspired by solution 2 for Spiral Matrix I\n",
    "# Runtime: 40 ms, faster than 57.93%\n",
    "from typing import List\n",
    "\n",
    "class Solution:\n",
    "    def generateMatrix(self, n: int) -> List[List[int]]:\n",
    "        # init with all zeros\n",
    "        A = [[0] * n for _ in range(n)]\n",
    "        u, d, l, r = 0, n-1, 0, n-1\n",
    "        cnt = 1\n",
    "        while u < d and l < r:\n",
    "            for i in range(l, r):\n",
    "                A[u][i] = cnt\n",
    "                cnt += 1\n",
    "            for j in range(u, d):\n",
    "                A[j][r] = cnt\n",
    "                cnt += 1\n",
    "            for i in range(r, l, -1):\n",
    "                A[d][i] = cnt\n",
    "                cnt += 1\n",
    "            for j in range(d, u, -1):\n",
    "                A[j][l] = cnt\n",
    "                cnt += 1\n",
    "            u, d, l, r = u+1, d-1, l+1, r-1\n",
    "        if u == d:\n",
    "            for i in range(l, r+1):\n",
    "                A[u][i] = cnt\n",
    "                cnt += 1\n",
    "        return A"
   ]
  },
  {
   "cell_type": "code",
   "execution_count": 42,
   "metadata": {},
   "outputs": [],
   "source": [
    "# Another smarter way to walk the spiral\n",
    "# Runtime: 40 ms, faster than 57.93%\n",
    "#https://leetcode.com/problems/spiral-matrix-ii/discuss/22282/4-9-lines-Python-solutions\n",
    "from typing import List\n",
    "\n",
    "class Solution:\n",
    "    def generateMatrix(self, n: int) -> List[List[int]]:\n",
    "        A = [[0] * n for _ in range(n)]\n",
    "        i, j, di, dj = 0, 0, 0, 1\n",
    "        for c in range(n*n):\n",
    "            A[i][j] = c+1\n",
    "            if A[(i+di)%n][(j+dj)%n] != 0: # finish this line, aka. reach non-zero element in this line\n",
    "                # swap row and column,\n",
    "                # swap first row(column) and last column(row)\n",
    "                # (0,1) -> (1,0) -> (0,-1) -> (-1,0) -> ...\n",
    "                di, dj = dj, -di\n",
    "            i += di\n",
    "            j += dj\n",
    "        return A"
   ]
  },
  {
   "cell_type": "code",
   "execution_count": 65,
   "metadata": {},
   "outputs": [],
   "source": [
    "# Always rotate the matrix clockwise and add a top row:\n",
    "# ||  =>  |9|  =>  |8|      |6 7|      |4 5|      |1 2 3|\n",
    "#                  |9|  =>  |9 8|  =>  |9 6|  =>  |8 9 4|\n",
    "#                                      |8 7|      |7 6 5|\n",
    "# Runtime: 40 ms, faster than 57.93%\n",
    "from typing import List\n",
    "\n",
    "class Solution:\n",
    "    def generateMatrix(self, n: int) -> List[List[int]]:\n",
    "        A = [[n*n]]\n",
    "        lo = n*n\n",
    "        while lo > 1:\n",
    "            # calculate total row number: len(A) (aka. rotated column number) for the potential row to prepend\n",
    "            lo, hi = lo - len(A), lo\n",
    "#             print(A)\n",
    "            # prepend first row on rotated A\n",
    "            A = [[i for i in range(lo, hi)]] + [list(j) for j in zip(*A[::-1])]\n",
    "        return A"
   ]
  },
  {
   "cell_type": "code",
   "execution_count": 66,
   "metadata": {},
   "outputs": [
    {
     "name": "stdout",
     "output_type": "stream",
     "text": [
      "[[9]]\n",
      "[[8], [9]]\n",
      "[[6, 7], [9, 8]]\n",
      "[[4, 5], [9, 6], [8, 7]]\n"
     ]
    },
    {
     "data": {
      "text/plain": [
       "[[1, 2, 3], [8, 9, 4], [7, 6, 5]]"
      ]
     },
     "execution_count": 66,
     "metadata": {},
     "output_type": "execute_result"
    }
   ],
   "source": [
    "Solution().generateMatrix(3)"
   ]
  },
  {
   "cell_type": "code",
   "execution_count": null,
   "metadata": {},
   "outputs": [],
   "source": [
    "Solution().generateMatrix(5)"
   ]
  },
  {
   "cell_type": "code",
   "execution_count": null,
   "metadata": {},
   "outputs": [],
   "source": []
  }
 ],
 "metadata": {
  "kernelspec": {
   "display_name": "Python 3",
   "language": "python",
   "name": "python3"
  },
  "language_info": {
   "codemirror_mode": {
    "name": "ipython",
    "version": 3
   },
   "file_extension": ".py",
   "mimetype": "text/x-python",
   "name": "python",
   "nbconvert_exporter": "python",
   "pygments_lexer": "ipython3",
   "version": "3.6.8"
  }
 },
 "nbformat": 4,
 "nbformat_minor": 2
}
