{
 "cells": [
  {
   "cell_type": "code",
   "execution_count": 44,
   "metadata": {},
   "outputs": [],
   "source": [
    "# Binary search\n",
    "from typing import List\n",
    "class Solution:\n",
    "    def missingNumber(self, arr: List[int]) -> int:\n",
    "        diff = min(abs(arr[0]-arr[1]), abs(arr[1]-arr[2]))\n",
    "        N = len(arr)\n",
    "        lo, hi = 0, N-1\n",
    "        isEven = N%2 == 0\n",
    "        lastmid = -1\n",
    "        while lo < hi-1:\n",
    "            mid = (lo+hi)//2\n",
    "            himid = mid+1 if isEven else mid\n",
    "            ldiff, rdiff = abs(arr[mid]-arr[lo]), abs(arr[himid]-arr[hi])\n",
    "            if ldiff < rdiff: # always choose the bigger diff side\n",
    "                lo = himid\n",
    "                lastmid = himid\n",
    "            else:\n",
    "                hi = mid\n",
    "                lastmid = mid\n",
    "        if abs(arr[lastmid] - arr[lastmid-1]) > diff:\n",
    "            return max(arr[lastmid], arr[lastmid-1]) - diff\n",
    "        else:\n",
    "            return max(arr[lastmid], arr[lastmid+1]) - diff"
   ]
  },
  {
   "cell_type": "code",
   "execution_count": 53,
   "metadata": {},
   "outputs": [],
   "source": [
    "# @awice\n",
    "from typing import List\n",
    "class Solution:\n",
    "    def missingNumber(self, arr: List[int]) -> int:\n",
    "        N = len(arr)\n",
    "        # in an effort to calculate diff, fill that missing number by dividing N instead of N-1\n",
    "        diff = (arr[-1] - arr[0]) // N \n",
    "        if diff == 0:\n",
    "            return arr[0]\n",
    "        # store origin arr as a set\n",
    "        seen = set(arr)\n",
    "        for i in range(N):\n",
    "            next_val = arr[0] + i*diff\n",
    "            # the missing number is the one we can't find when traverse by diff step from start\n",
    "            if next_val not in seen:\n",
    "                return next_val\n",
    "        return 0"
   ]
  },
  {
   "cell_type": "code",
   "execution_count": 54,
   "metadata": {},
   "outputs": [
    {
     "data": {
      "text/plain": [
       "14"
      ]
     },
     "execution_count": 54,
     "metadata": {},
     "output_type": "execute_result"
    }
   ],
   "source": [
    "Solution().missingNumber(arr=[15,13,12,11])"
   ]
  },
  {
   "cell_type": "code",
   "execution_count": 55,
   "metadata": {},
   "outputs": [
    {
     "data": {
      "text/plain": [
       "13"
      ]
     },
     "execution_count": 55,
     "metadata": {},
     "output_type": "execute_result"
    }
   ],
   "source": [
    "Solution().missingNumber(arr=[15,14,12,11,10])"
   ]
  },
  {
   "cell_type": "code",
   "execution_count": 56,
   "metadata": {},
   "outputs": [
    {
     "data": {
      "text/plain": [
       "14"
      ]
     },
     "execution_count": 56,
     "metadata": {},
     "output_type": "execute_result"
    }
   ],
   "source": [
    "Solution().missingNumber(arr=[10,11,12,13,15])"
   ]
  },
  {
   "cell_type": "code",
   "execution_count": 57,
   "metadata": {},
   "outputs": [
    {
     "data": {
      "text/plain": [
       "12"
      ]
     },
     "execution_count": 57,
     "metadata": {},
     "output_type": "execute_result"
    }
   ],
   "source": [
    "Solution().missingNumber(arr=[10,11,13])"
   ]
  },
  {
   "cell_type": "code",
   "execution_count": null,
   "metadata": {},
   "outputs": [],
   "source": []
  }
 ],
 "metadata": {
  "kernelspec": {
   "display_name": "Python 3",
   "language": "python",
   "name": "python3"
  },
  "language_info": {
   "codemirror_mode": {
    "name": "ipython",
    "version": 3
   },
   "file_extension": ".py",
   "mimetype": "text/x-python",
   "name": "python",
   "nbconvert_exporter": "python",
   "pygments_lexer": "ipython3",
   "version": "3.6.8"
  }
 },
 "nbformat": 4,
 "nbformat_minor": 2
}
