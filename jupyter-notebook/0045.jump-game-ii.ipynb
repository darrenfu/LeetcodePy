{
 "cells": [
  {
   "cell_type": "code",
   "execution_count": 70,
   "metadata": {},
   "outputs": [],
   "source": [
    "# Greedy - Every one more jump, you want to jump as far as possible.\n",
    "# That is to say, to find further index I can reach using 2 jumps.\n",
    "#https://leetcode.com/problems/jump-game-ii/discuss/170518/8-Lines-in-Python!-Easiest-Solution!\n",
    "# In Jump Game I, when you at position i, you care about what is the furthest position could be reached from i th position. \n",
    "# In Jump Game II, instead you care about what would be the next furthest jump could be made when you could reach as far as \n",
    "# ith position from last jump. So you iterate all positions could be reached from last jump till i th position to find it out.\n",
    "# Runtime: 116 ms, faster than 46.24%\n",
    "from typing import List\n",
    "\n",
    "class Solution:\n",
    "    def jump(self, nums: List[int]) -> int:\n",
    "        if len(nums) <= 1: return 0\n",
    "        l, r = 0, nums[0]\n",
    "        res = 1\n",
    "        while r < len(nums)-1:\n",
    "            res += 1\n",
    "            nxt = max([i + nums[i] for i in range(l, r+1)])\n",
    "            l, r = r, nxt\n",
    "        return res"
   ]
  },
  {
   "cell_type": "code",
   "execution_count": 56,
   "metadata": {},
   "outputs": [],
   "source": [
    "# Recursion DP will lead to stack overflow\n",
    "from typing import List\n",
    "from functools import lru_cache\n",
    "\n",
    "class Solution:\n",
    "    def jump(self, nums: List[int]) -> int:\n",
    "        N = len(nums)\n",
    "        @lru_cache(None)\n",
    "        def dp(i: int) -> int:\n",
    "            nonlocal N\n",
    "            if i == N-1:\n",
    "                return 0\n",
    "            if nums[i] == 0:\n",
    "                return float('inf')\n",
    "            res = float('inf')\n",
    "            for step in range(1, nums[i]+1):\n",
    "                if step >= N-i:\n",
    "                    break\n",
    "                else:\n",
    "                    res = min(res, dp(i+step))\n",
    "            return 1 + res\n",
    "        return dp(0)"
   ]
  },
  {
   "cell_type": "code",
   "execution_count": 78,
   "metadata": {},
   "outputs": [],
   "source": [
    "# Recursion DP with memorization\n",
    "# MLE\n",
    "class Solution:\n",
    "    def jump(self, nums: List[int]) -> int:\n",
    "        memo = [-1] * (len(nums)+1)\n",
    "        def dp(A: List[int]) -> int:\n",
    "            N = len(A)\n",
    "            if N == 1:\n",
    "                return 0\n",
    "            if A[0] == 0:\n",
    "                return float('inf')\n",
    "#             print(A)\n",
    "            if memo[N] != -1: return memo[N]\n",
    "            res = float('inf')\n",
    "            for step in range(1, A[0]+1):\n",
    "                if step >= N:\n",
    "                    break\n",
    "                else:\n",
    "                    res = min(res, dp(A[step:]))\n",
    "#             res = 1 + min([dp(A[step:]) for step in range(1, A[0]+1) if step < N])\n",
    "            memo[N] = 1 + res\n",
    "            return memo[N]\n",
    "        return dp(nums)"
   ]
  },
  {
   "cell_type": "code",
   "execution_count": 79,
   "metadata": {},
   "outputs": [
    {
     "data": {
      "text/plain": [
       "2"
      ]
     },
     "execution_count": 79,
     "metadata": {},
     "output_type": "execute_result"
    }
   ],
   "source": [
    "Solution().jump([2,3,1,1,4])"
   ]
  },
  {
   "cell_type": "code",
   "execution_count": 80,
   "metadata": {},
   "outputs": [
    {
     "data": {
      "text/plain": [
       "2"
      ]
     },
     "execution_count": 80,
     "metadata": {},
     "output_type": "execute_result"
    }
   ],
   "source": [
    "Solution().jump([2,3,0,1,4])"
   ]
  },
  {
   "cell_type": "code",
   "execution_count": 81,
   "metadata": {},
   "outputs": [
    {
     "data": {
      "text/plain": [
       "1"
      ]
     },
     "execution_count": 81,
     "metadata": {},
     "output_type": "execute_result"
    }
   ],
   "source": [
    "Solution().jump([2,1])"
   ]
  },
  {
   "cell_type": "code",
   "execution_count": null,
   "metadata": {},
   "outputs": [],
   "source": []
  }
 ],
 "metadata": {
  "kernelspec": {
   "display_name": "Python 3",
   "language": "python",
   "name": "python3"
  },
  "language_info": {
   "codemirror_mode": {
    "name": "ipython",
    "version": 3
   },
   "file_extension": ".py",
   "mimetype": "text/x-python",
   "name": "python",
   "nbconvert_exporter": "python",
   "pygments_lexer": "ipython3",
   "version": "3.6.8"
  }
 },
 "nbformat": 4,
 "nbformat_minor": 2
}
