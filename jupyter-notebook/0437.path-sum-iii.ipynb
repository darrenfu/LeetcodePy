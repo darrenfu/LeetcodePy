{
 "cells": [
  {
   "cell_type": "code",
   "execution_count": 2,
   "metadata": {},
   "outputs": [],
   "source": [
    "import sys\n",
    "sys.path.append(\"..\")\n",
    "from leetcode.tree.treenode import TreeNode"
   ]
  },
  {
   "cell_type": "code",
   "execution_count": 4,
   "metadata": {},
   "outputs": [],
   "source": [
    "# Two layers of DFS\n",
    "\n",
    "# First layer O(N)\n",
    "# Second layer O(logN) (balanced tree) ~ O(N) (one sided tree)\n",
    "# Total Time complexity: O(NlogN) ~ O(N^2)\n",
    "# Runtime: 956 ms, faster than 40.42%\n",
    "\n",
    "# https://leetcode.com/problems/path-sum-iii/discuss/141424/Python-step-by-step-walk-through.-Easy-to-understand.-Two-solutions-comparison.-%3A-)\n",
    "# This problem should be medium instead of easy\n",
    "class Solution:\n",
    "    def pathSum(self, root: TreeNode, sum: int) -> int:\n",
    "        path_cnt = 0\n",
    "        def test(root: TreeNode, sum: int):\n",
    "            nonlocal path_cnt\n",
    "            if root:\n",
    "                if root.val == sum:\n",
    "                    path_cnt += 1\n",
    "                test(root.left, sum - root.val)\n",
    "                test(root.right, sum - root.val)\n",
    "                \n",
    "        def dfs(root: TreeNode, sum: int):\n",
    "            if root:\n",
    "                test(root, sum)\n",
    "                dfs(root.left, sum)\n",
    "                dfs(root.right, sum)\n",
    "        \n",
    "        dfs(root, sum)\n",
    "        return path_cnt"
   ]
  },
  {
   "cell_type": "code",
   "execution_count": 13,
   "metadata": {},
   "outputs": [],
   "source": [
    "# Memorization (*hard to understand)\n",
    "# T: O(N)\n",
    "# Runtime: 60 ms, faster than 84.81% using dict\n",
    "# Runtime: 56 ms, faster than 93.67% using Counter\n",
    "# https://leetcode.com/problems/path-sum-iii/discuss/91878/17-ms-on-java-prefix-sum-method\n",
    "from collections import Counter\n",
    "\n",
    "class Solution:\n",
    "    def pathSum(self, root: TreeNode, sum: int) -> int:\n",
    "        # saves all the path sum (from root to current node) and their frequency.\n",
    "        prefixsum_freq = Counter()\n",
    "        prefixsum_freq[0] = 1\n",
    "        def dfs(root: TreeNode, cur_prefixsum: int, target: int) -> int:\n",
    "            if not root: return 0\n",
    "            cur_prefixsum += root.val\n",
    "            # most difficult checkpoint: cur_prefixsum - target\n",
    "            # Within this path, if there is a valid solution, then there must be a old_path_sum such that:\n",
    "            # cur_prefixsum - old_path_sum = target\n",
    "            # Thus, added up old_path_sum to result\n",
    "            res = prefixsum_freq[cur_prefixsum - target]\n",
    "            # for children, increase cur_prefixsum freq by 1\n",
    "            prefixsum_freq[cur_prefixsum] += 1\n",
    "            res += dfs(root.left, cur_prefixsum, target) + dfs(root.right, cur_prefixsum, target)\n",
    "            # another difficult checkpoint\n",
    "            # when move to a different branch, the cur_sum is no longer available, hence freq -= 1\n",
    "            # (similar to stack operation)\n",
    "            prefixsum_freq[cur_prefixsum] -= 1\n",
    "            return res\n",
    "        return dfs(root, 0, sum)"
   ]
  },
  {
   "cell_type": "code",
   "execution_count": 14,
   "metadata": {},
   "outputs": [
    {
     "name": "stdout",
     "output_type": "stream",
     "text": [
      "TreeNode(val: 10, left: TreeNode(val: 5, left: TreeNode(val: 3, left: TreeNode(val: 3, left: None, right: None), right: TreeNode(val: -2, left: None, right: None)), right: TreeNode(val: 2, left: None, right: TreeNode(val: 1, left: None, right: None))), right: TreeNode(val: -3, left: None, right: TreeNode(val: 11, left: None, right: None)))\n"
     ]
    },
    {
     "data": {
      "text/plain": [
       "3"
      ]
     },
     "execution_count": 14,
     "metadata": {},
     "output_type": "execute_result"
    }
   ],
   "source": [
    "root = TreeNode.deserialize('[10,5,-3,3,2,null,11,3,-2,null,1]')\n",
    "print(root)\n",
    "Solution().pathSum(root = root, sum = 8)"
   ]
  },
  {
   "cell_type": "code",
   "execution_count": null,
   "metadata": {},
   "outputs": [],
   "source": []
  }
 ],
 "metadata": {
  "kernelspec": {
   "display_name": "Python 3",
   "language": "python",
   "name": "python3"
  },
  "language_info": {
   "codemirror_mode": {
    "name": "ipython",
    "version": 3
   },
   "file_extension": ".py",
   "mimetype": "text/x-python",
   "name": "python",
   "nbconvert_exporter": "python",
   "pygments_lexer": "ipython3",
   "version": "3.6.8"
  }
 },
 "nbformat": 4,
 "nbformat_minor": 2
}
