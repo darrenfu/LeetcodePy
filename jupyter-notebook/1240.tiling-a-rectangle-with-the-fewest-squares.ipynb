{
 "cells": [
  {
   "cell_type": "markdown",
   "metadata": {},
   "source": [
    "This problem is way too hard  \n",
    "Reference:  \n",
    "[矩阵谱分解](https://blog.csdn.net/qq_23997101/article/details/74562696)  \n",
    "[stackexchange post](https://math.stackexchange.com/questions/163070/the-most-efficient-way-to-tile-a-rectangle-with-squares)"
   ]
  },
  {
   "cell_type": "code",
   "execution_count": null,
   "metadata": {},
   "outputs": [],
   "source": [
    "class Solution:\n",
    "    def tilingRectangle(self, n: int, m: int) -> int:\n",
    "        pass"
   ]
  }
 ],
 "metadata": {
  "kernelspec": {
   "display_name": "Python 3",
   "language": "python",
   "name": "python3"
  },
  "language_info": {
   "codemirror_mode": {
    "name": "ipython",
    "version": 3
   },
   "file_extension": ".py",
   "mimetype": "text/x-python",
   "name": "python",
   "nbconvert_exporter": "python",
   "pygments_lexer": "ipython3",
   "version": "3.6.8"
  }
 },
 "nbformat": 4,
 "nbformat_minor": 2
}
