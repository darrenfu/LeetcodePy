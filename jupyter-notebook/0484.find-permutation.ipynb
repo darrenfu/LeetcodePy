{
 "cells": [
  {
   "cell_type": "code",
   "execution_count": 15,
   "metadata": {},
   "outputs": [],
   "source": [
    "from typing import List\n",
    "\n",
    "class Solution:\n",
    "    def findPermutation(self, s: str) -> List[int]:\n",
    "        if not s: return []\n",
    "        s = 'I' + s\n",
    "        n = len(s)\n",
    "        res = []\n",
    "        i, next_val = 0, 1\n",
    "        while i < n-1:\n",
    "            if s[i] == 'I' and s[i+1] == 'D':\n",
    "                dcnt = 1\n",
    "                i += 1\n",
    "                while i < n and s[i] == 'D': # if IDDDD... is met, move i to after last D\n",
    "                    dcnt += 1\n",
    "                    i += 1\n",
    "                res += reversed([j for j in range(next_val, next_val+dcnt)])\n",
    "                next_val += dcnt\n",
    "            else: # III...\n",
    "                res += next_val,\n",
    "                i += 1\n",
    "                next_val += 1\n",
    "        if s[n-1] == 'I': res += next_val,\n",
    "        return res"
   ]
  },
  {
   "cell_type": "code",
   "execution_count": 24,
   "metadata": {},
   "outputs": [],
   "source": [
    "# if there are streaks of D, then just reverse the number streak under each\n",
    "# Runtime: 96 ms, faster than 91.27%\n",
    "# https://leetcode.com/problems/find-permutation/discuss/96624/1-liner-and-5-liner-visual-explanation\n",
    "from typing import List\n",
    "import re\n",
    "\n",
    "class Solution:\n",
    "    def findPermutation(self, s: str) -> List[int]:\n",
    "        n = len(s)\n",
    "        res = [i for i in range(1, n+2)]\n",
    "        for m in re.finditer('D+', s):\n",
    "            lo, hi = m.start(), m.end()+1 # +1 because the previous I is also included\n",
    "            res[lo:hi] = res[lo:hi][::-1]\n",
    "        return res"
   ]
  },
  {
   "cell_type": "code",
   "execution_count": 25,
   "metadata": {},
   "outputs": [
    {
     "data": {
      "text/plain": [
       "[1, 2]"
      ]
     },
     "execution_count": 25,
     "metadata": {},
     "output_type": "execute_result"
    }
   ],
   "source": [
    "Solution().findPermutation(s='I')"
   ]
  },
  {
   "cell_type": "code",
   "execution_count": 26,
   "metadata": {},
   "outputs": [
    {
     "data": {
      "text/plain": [
       "[2, 1, 3]"
      ]
     },
     "execution_count": 26,
     "metadata": {},
     "output_type": "execute_result"
    }
   ],
   "source": [
    "Solution().findPermutation(s='DI')"
   ]
  },
  {
   "cell_type": "code",
   "execution_count": 27,
   "metadata": {},
   "outputs": [
    {
     "data": {
      "text/plain": [
       "[3, 2, 1, 4, 5, 8, 7, 6, 10, 9, 12, 11, 15, 14, 13]"
      ]
     },
     "execution_count": 27,
     "metadata": {},
     "output_type": "execute_result"
    }
   ],
   "source": [
    "Solution().findPermutation(s='DDIIIDDIDIDIDD')"
   ]
  },
  {
   "cell_type": "code",
   "execution_count": null,
   "metadata": {},
   "outputs": [],
   "source": []
  }
 ],
 "metadata": {
  "kernelspec": {
   "display_name": "Python 3",
   "language": "python",
   "name": "python3"
  },
  "language_info": {
   "codemirror_mode": {
    "name": "ipython",
    "version": 3
   },
   "file_extension": ".py",
   "mimetype": "text/x-python",
   "name": "python",
   "nbconvert_exporter": "python",
   "pygments_lexer": "ipython3",
   "version": "3.6.8"
  }
 },
 "nbformat": 4,
 "nbformat_minor": 2
}
