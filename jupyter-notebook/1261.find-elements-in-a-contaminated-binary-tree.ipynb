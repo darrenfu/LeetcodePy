{
 "cells": [
  {
   "cell_type": "code",
   "execution_count": 2,
   "metadata": {},
   "outputs": [],
   "source": [
    "import sys\n",
    "sys.path.append('..')\n",
    "from leetcode.tree.treenode import TreeNode"
   ]
  },
  {
   "cell_type": "code",
   "execution_count": 18,
   "metadata": {},
   "outputs": [],
   "source": [
    "class FindElements:\n",
    "\n",
    "    def __init__(self, root: TreeNode):\n",
    "        self.root = root\n",
    "        self.vals = set([0])\n",
    "        self.dfs(self.root, 0)\n",
    "    \n",
    "    def dfs(self, node: TreeNode, value: int):\n",
    "        node.val = value\n",
    "        self.vals.add(value)\n",
    "        if node.left: self.dfs(node.left, value*2+1)\n",
    "        if node.right: self.dfs(node.right, value*2+2)\n",
    "\n",
    "    def find(self, target: int) -> bool:\n",
    "        return target in self.vals"
   ]
  },
  {
   "cell_type": "code",
   "execution_count": 22,
   "metadata": {},
   "outputs": [
    {
     "data": {
      "text/plain": [
       "False"
      ]
     },
     "execution_count": 22,
     "metadata": {},
     "output_type": "execute_result"
    }
   ],
   "source": [
    "root = TreeNode.deserialize('[-1,null,-1,-1,null,-1]')\n",
    "fe = FindElements(root)\n",
    "fe.find(10)"
   ]
  },
  {
   "cell_type": "code",
   "execution_count": null,
   "metadata": {},
   "outputs": [],
   "source": []
  }
 ],
 "metadata": {
  "kernelspec": {
   "display_name": "Python 3",
   "language": "python",
   "name": "python3"
  },
  "language_info": {
   "codemirror_mode": {
    "name": "ipython",
    "version": 3
   },
   "file_extension": ".py",
   "mimetype": "text/x-python",
   "name": "python",
   "nbconvert_exporter": "python",
   "pygments_lexer": "ipython3",
   "version": "3.6.8"
  }
 },
 "nbformat": 4,
 "nbformat_minor": 2
}
