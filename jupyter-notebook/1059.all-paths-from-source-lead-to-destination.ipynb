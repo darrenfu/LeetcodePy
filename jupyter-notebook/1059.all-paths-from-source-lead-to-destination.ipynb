{
 "cells": [
  {
   "cell_type": "markdown",
   "metadata": {},
   "source": [
    "### [1059\\. All Paths from Source Lead to Destination](https://leetcode.com/problems/all-paths-from-source-lead-to-destination/)\n",
    "\n",
    "Difficulty: **Medium**\n",
    "\n",
    "\n",
    "Given the `edges` of a directed graph, and two nodes `source` and `destination` of this graph, determine whether or not all paths starting from `source` eventually end at `destination`, that is:\n",
    "\n",
    "*   At least one path exists from the `source` node to the `destination` node\n",
    "*   If a path exists from the `source` node to a node with no outgoing edges, then that node is equal to `destination`.\n",
    "*   The number of possible paths from `source` to `destination` is a finite number.\n",
    "\n",
    "Return `true` if and only if all roads from `source` lead to `destination`.\n",
    "\n",
    "**Example 1:**\n",
    "\n",
    "![](https://assets.leetcode.com/uploads/2019/03/16/485_example_1.png)\n",
    "\n",
    "```\n",
    "Input: n = 3, edges = [[0,1],[0,2]], source = 0, destination = 2\n",
    "Output: false\n",
    "Explanation: It is possible to reach and get stuck on both node 1 and node 2.\n",
    "```\n",
    "\n",
    "**Example 2:**\n",
    "\n",
    "![](https://assets.leetcode.com/uploads/2019/03/16/485_example_2.png)\n",
    "\n",
    "```\n",
    "Input: n = 4, edges = [[0,1],[0,3],[1,2],[2,1]], source = 0, destination = 3\n",
    "Output: false\n",
    "Explanation: We have two possibilities: to end at node 3, or to loop over node 1 and node 2 indefinitely.\n",
    "```\n",
    "\n",
    "**Example 3:**\n",
    "\n",
    "![](https://assets.leetcode.com/uploads/2019/03/16/485_example_3.png)\n",
    "\n",
    "```\n",
    "Input: n = 4, edges = [[0,1],[0,2],[1,3],[2,3]], source = 0, destination = 3\n",
    "Output: true\n",
    "```\n",
    "\n",
    "**Example 4:**\n",
    "\n",
    "![](https://assets.leetcode.com/uploads/2019/03/16/485_example_4.png)\n",
    "\n",
    "```\n",
    "Input: n = 3, edges = [[0,1],[1,1],[1,2]], source = 0, destination = 2\n",
    "Output: false\n",
    "Explanation: All paths from the source node end at the destination node, but there are an infinite number of paths, such as 0-1-2, 0-1-1-2, 0-1-1-1-2, 0-1-1-1-1-2, and so on.\n",
    "```\n",
    "\n",
    "**Example 5:**\n",
    "\n",
    "![](https://assets.leetcode.com/uploads/2019/03/16/485_example_5.png)\n",
    "\n",
    "```\n",
    "Input: n = 2, edges = [[0,1],[1,1]], source = 0, destination = 1\n",
    "Output: false\n",
    "Explanation: There is infinite self-loop at destination node.\n",
    "```\n",
    "\n",
    "**Note:**\n",
    "\n",
    "1.  <italic style=\"display: inline;\">The given graph may have self loops and parallel edges.</italic>\n",
    "2.  The number of nodes `n` in the graph is between `1` and `10000`\n",
    "3.  The number of edges in the graph is between `0` and `10000`\n",
    "4.  `0 <= edges.length <= 10000`\n",
    "5.  `edges[i].length == 2`\n",
    "6.  `0 <= source <= n - 1`\n",
    "7.  `0 <= destination <= n - 1`"
   ]
  },
  {
   "cell_type": "code",
   "execution_count": 20,
   "metadata": {},
   "outputs": [],
   "source": [
    "# tricolor DFS\n",
    "from typing import List\n",
    "from collections import defaultdict\n",
    "\n",
    "class Solution:\n",
    "    def leadsToDestination(self, n: int, edges: List[List[int]], source: int, destination: int) -> bool:\n",
    "        WHITE, GRAY, BLACK = -1, 0, 1\n",
    "        colors = [WHITE] * n\n",
    "        graph = defaultdict(set)\n",
    "        for edge in edges:\n",
    "            graph[edge[0]].add(edge[1])\n",
    "            \n",
    "        def dfs(u: int) -> bool: # return False means has cycle or has other dests than destination\n",
    "            colors[u] = GRAY\n",
    "            for v in graph[u]:\n",
    "                if colors[v] == GRAY or (colors[v] == WHITE and not dfs(v)):\n",
    "                    return False\n",
    "            colors[u] = BLACK\n",
    "            return len(graph[u]) > 0 or u == destination # find one node whose out_degree = 0\n",
    "        return dfs(source)"
   ]
  },
  {
   "cell_type": "code",
   "execution_count": 21,
   "metadata": {},
   "outputs": [
    {
     "data": {
      "text/plain": [
       "False"
      ]
     },
     "execution_count": 21,
     "metadata": {},
     "output_type": "execute_result"
    }
   ],
   "source": [
    "Solution().leadsToDestination(n = 4, edges = [[0,1],[0,3],[1,2],[2,1]], source = 0, destination = 3)"
   ]
  },
  {
   "cell_type": "code",
   "execution_count": 22,
   "metadata": {},
   "outputs": [
    {
     "data": {
      "text/plain": [
       "False"
      ]
     },
     "execution_count": 22,
     "metadata": {},
     "output_type": "execute_result"
    }
   ],
   "source": [
    "Solution().leadsToDestination(n = 3, edges = [[0,1],[0,2]], source = 0, destination = 2)"
   ]
  },
  {
   "cell_type": "code",
   "execution_count": 23,
   "metadata": {},
   "outputs": [
    {
     "data": {
      "text/plain": [
       "True"
      ]
     },
     "execution_count": 23,
     "metadata": {},
     "output_type": "execute_result"
    }
   ],
   "source": [
    "Solution().leadsToDestination(n = 4, edges = [[0,1],[0,2],[1,3],[2,3]], source = 0, destination = 3)"
   ]
  },
  {
   "cell_type": "code",
   "execution_count": null,
   "metadata": {},
   "outputs": [],
   "source": []
  }
 ],
 "metadata": {
  "kernelspec": {
   "display_name": "Python 3",
   "language": "python",
   "name": "python3"
  },
  "language_info": {
   "codemirror_mode": {
    "name": "ipython",
    "version": 3
   },
   "file_extension": ".py",
   "mimetype": "text/x-python",
   "name": "python",
   "nbconvert_exporter": "python",
   "pygments_lexer": "ipython3",
   "version": "3.6.8"
  }
 },
 "nbformat": 4,
 "nbformat_minor": 2
}
