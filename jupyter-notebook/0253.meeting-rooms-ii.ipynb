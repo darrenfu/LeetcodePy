{
 "cells": [
  {
   "cell_type": "markdown",
   "metadata": {},
   "source": [
    "### [253\\. Meeting Rooms II](https://leetcode.com/problems/meeting-rooms-ii/)\n",
    "\n",
    "Difficulty: **Medium**\n",
    "\n",
    "\n",
    "Given an array of meeting time intervals consisting of start and end times `[[s1,e1],[s2,e2],...]` (s<sub style=\"display: inline;\">i</sub> < e<sub style=\"display: inline;\">i</sub>), find the minimum number of conference rooms required.\n",
    "\n",
    "**Example 1:**\n",
    "\n",
    "```\n",
    "Input: [[0, 30],[5, 10],[15, 20]]\n",
    "Output: 2\n",
    "```\n",
    "\n",
    "**Example 2:**\n",
    "\n",
    "```\n",
    "Input: [[7,10],[2,4]]\n",
    "Output: 1\n",
    "```\n",
    "\n",
    "**NOTE:** input types have been changed on April 15, 2019\\. Please reset to default code definition to get new method signature."
   ]
  },
  {
   "cell_type": "code",
   "execution_count": 3,
   "metadata": {},
   "outputs": [],
   "source": [
    "# TreeMap / Boundary counting\n",
    "#* https://leetcode.com/problems/meeting-rooms-ii/discuss/203658/HashMapTreeMap-resolves-Scheduling-Problem\n",
    "# T: O(N*LogN)\n",
    "# S: O(N)\n",
    "from typing import List\n",
    "from collections import Counter\n",
    "\n",
    "class Solution:\n",
    "    def minMeetingRooms(self, intervals: List[List[int]]) -> int:\n",
    "        cnt = Counter()\n",
    "        for itv in intervals:\n",
    "            s, e = itv[0], itv[1]\n",
    "            cnt[s] += 1 # valley to peak\n",
    "            cnt[e] -= 1 # peak to valley\n",
    "        \n",
    "        cur_rooms = 0\n",
    "        max_rooms = 0\n",
    "        for key in sorted(cnt.keys()):\n",
    "            cur_rooms += cnt[key] # add freq\n",
    "            max_rooms = max(max_rooms, cur_rooms)\n",
    "        return max_rooms"
   ]
  },
  {
   "cell_type": "code",
   "execution_count": 16,
   "metadata": {},
   "outputs": [],
   "source": [
    "# heap\n",
    "# https://leetcode.com/problems/meeting-rooms-ii/discuss/67917/Python-heap-solution-with-comments\n",
    "from typing import List\n",
    "from heapq import *\n",
    "\n",
    "class Solution:\n",
    "    def minMeetingRooms(self, intervals: List[List[int]]) -> int:\n",
    "        intervals.sort(key=lambda t: t[0])\n",
    "        minheap = []\n",
    "        for itv in intervals:\n",
    "            if not minheap or itv[0] <= minheap[0]: # min end on heap top\n",
    "                heappush(minheap, itv[1]) # heap size + 1 because we need another meeting room\n",
    "            else:\n",
    "                heapreplace(minheap, itv[1]) # heap size keep the same because two intervals can share the same meeting room\n",
    "        return len(minheap)"
   ]
  },
  {
   "cell_type": "code",
   "execution_count": 2,
   "metadata": {},
   "outputs": [],
   "source": [
    "# Chronological Ordering\n",
    "from typing import List\n",
    "\n",
    "class Solution:\n",
    "    def minMeetingRooms(self, intervals: List[List[int]]) -> int:\n",
    "        starts = sorted([t[0] for t in intervals], key=lambda x: x)\n",
    "        ends = sorted([t[1] for t in intervals], key=lambda x: x)\n",
    "        s, e = 0, 0\n",
    "        L = len(intervals)\n",
    "        rooms = 0\n",
    "        while s < L:\n",
    "            if starts[s] >= ends[e]:\n",
    "                rooms -= 1 # one room released and can be reused\n",
    "                e += 1\n",
    "            rooms += 1\n",
    "            s += 1\n",
    "        return rooms"
   ]
  },
  {
   "cell_type": "code",
   "execution_count": 3,
   "metadata": {},
   "outputs": [
    {
     "data": {
      "text/plain": [
       "2"
      ]
     },
     "execution_count": 3,
     "metadata": {},
     "output_type": "execute_result"
    }
   ],
   "source": [
    "Solution().minMeetingRooms(intervals = [[0,30], [5,10], [15,20]])"
   ]
  },
  {
   "cell_type": "code",
   "execution_count": 4,
   "metadata": {},
   "outputs": [
    {
     "data": {
      "text/plain": [
       "3"
      ]
     },
     "execution_count": 4,
     "metadata": {},
     "output_type": "execute_result"
    }
   ],
   "source": [
    "Solution().minMeetingRooms(intervals = [[0,30], [5,16], [15,20]])"
   ]
  },
  {
   "cell_type": "code",
   "execution_count": null,
   "metadata": {},
   "outputs": [],
   "source": []
  }
 ],
 "metadata": {
  "kernelspec": {
   "display_name": "Python 3",
   "language": "python",
   "name": "python3"
  },
  "language_info": {
   "codemirror_mode": {
    "name": "ipython",
    "version": 3
   },
   "file_extension": ".py",
   "mimetype": "text/x-python",
   "name": "python",
   "nbconvert_exporter": "python",
   "pygments_lexer": "ipython3",
   "version": "3.6.8"
  }
 },
 "nbformat": 4,
 "nbformat_minor": 2
}
