{
 "cells": [
  {
   "cell_type": "markdown",
   "metadata": {},
   "source": [
    "### [381\\. Insert Delete GetRandom O(1) - Duplicates allowed](https://leetcode.com/problems/insert-delete-getrandom-o1-duplicates-allowed/)\n",
    "\n",
    "Difficulty: **Hard**\n",
    "\n",
    "\n",
    "Design a data structure that supports all following operations in _average_ **O(1)** time.\n",
    "\n",
    "**Note: Duplicate elements are allowed.**\n",
    "\n",
    "1.  `insert(val)`: Inserts an item val to the collection.\n",
    "2.  `remove(val)`: Removes an item val from the collection if present.\n",
    "3.  `getRandom`: Returns a random element from current collection of elements. The probability of each element being returned is **linearly related** to the number of same value the collection contains.\n",
    "\n",
    "**Example:**\n",
    "\n",
    "```\n",
    "// Init an empty collection.\n",
    "RandomizedCollection collection = new RandomizedCollection();\n",
    "\n",
    "// Inserts 1 to the collection. Returns true as the collection did not contain 1.\n",
    "collection.insert(1);\n",
    "\n",
    "// Inserts another 1 to the collection. Returns false as the collection contained 1\\. Collection now contains [1,1].\n",
    "collection.insert(1);\n",
    "\n",
    "// Inserts 2 to the collection, returns true. Collection now contains [1,1,2].\n",
    "collection.insert(2);\n",
    "\n",
    "// getRandom should return 1 with the probability 2/3, and returns 2 with the probability 1/3.\n",
    "collection.getRandom();\n",
    "\n",
    "// Removes 1 from the collection, returns true. Collection now contains [1,2].\n",
    "collection.remove(1);\n",
    "\n",
    "// getRandom should return 1 and 2 both equally likely.\n",
    "collection.getRandom();\n",
    "```"
   ]
  },
  {
   "cell_type": "code",
   "execution_count": 7,
   "metadata": {},
   "outputs": [],
   "source": [
    "import random\n",
    "from collections import defaultdict\n",
    "\n",
    "class RandomizedCollection:\n",
    "\n",
    "    def __init__(self):\n",
    "        \"\"\"\n",
    "        Initialize your data structure here.\n",
    "        \"\"\"\n",
    "        self.pos = defaultdict(set) # comparing to #380: we need to store a set of indexes rather than one index as value in dict\n",
    "        self.vals = []\n",
    "        \n",
    "\n",
    "    def insert(self, val: int) -> bool:\n",
    "        \"\"\"\n",
    "        Inserts a value to the collection. Returns true if the collection did not already contain the specified element.\n",
    "        \"\"\"\n",
    "        res = not self.pos[val]\n",
    "        self.vals.append(val)\n",
    "        self.pos[val].add(len(self.vals) - 1)\n",
    "        return res\n",
    "        \n",
    "\n",
    "    def remove(self, val: int) -> bool:\n",
    "        \"\"\"\n",
    "        Removes a value from the collection. Returns true if the collection contained the specified element.\n",
    "        \"\"\"\n",
    "        if self.pos[val]: # length of set is non-zero\n",
    "            delIdx = self.pos[val].pop() # removes a random element from the set\n",
    "            last = self.vals[-1]\n",
    "            # swap last element with to-be-removed element\n",
    "            self.pos[last].add(delIdx)\n",
    "            self.pos[last].discard(len(self.vals)-1)\n",
    "            self.vals[delIdx] = last\n",
    "            self.vals.pop()\n",
    "            return True\n",
    "        return False\n",
    "        \n",
    "\n",
    "    def getRandom(self) -> int:\n",
    "        \"\"\"\n",
    "        Get a random element from the collection.\n",
    "        \"\"\"\n",
    "        # O(1) for random.choice(), see https://stackoverflow.com/questions/40143157/q-what-is-big-o-complexity-of-random-choicelist-in-python3/40143399#40143399\n",
    "        return random.choice(self.vals)"
   ]
  },
  {
   "cell_type": "code",
   "execution_count": 8,
   "metadata": {},
   "outputs": [
    {
     "data": {
      "text/plain": [
       "2"
      ]
     },
     "execution_count": 8,
     "metadata": {},
     "output_type": "execute_result"
    }
   ],
   "source": [
    "rs = RandomizedCollection()\n",
    "rs.insert(0)\n",
    "rs.insert(1)\n",
    "rs.remove(0)\n",
    "rs.insert(2)\n",
    "rs.remove(1)\n",
    "rs.getRandom()"
   ]
  },
  {
   "cell_type": "code",
   "execution_count": 9,
   "metadata": {},
   "outputs": [
    {
     "name": "stdout",
     "output_type": "stream",
     "text": [
      "0\n"
     ]
    },
    {
     "data": {
      "text/plain": [
       "True"
      ]
     },
     "execution_count": 9,
     "metadata": {},
     "output_type": "execute_result"
    }
   ],
   "source": [
    "rs = RandomizedCollection()\n",
    "rs.remove(0)\n",
    "rs.remove(0)\n",
    "rs.insert(0)\n",
    "print(rs.getRandom())\n",
    "rs.remove(0)\n",
    "rs.insert(0)"
   ]
  },
  {
   "cell_type": "code",
   "execution_count": null,
   "metadata": {},
   "outputs": [],
   "source": []
  }
 ],
 "metadata": {
  "kernelspec": {
   "display_name": "Python 3",
   "language": "python",
   "name": "python3"
  },
  "language_info": {
   "codemirror_mode": {
    "name": "ipython",
    "version": 3
   },
   "file_extension": ".py",
   "mimetype": "text/x-python",
   "name": "python",
   "nbconvert_exporter": "python",
   "pygments_lexer": "ipython3",
   "version": "3.6.8"
  }
 },
 "nbformat": 4,
 "nbformat_minor": 2
}
