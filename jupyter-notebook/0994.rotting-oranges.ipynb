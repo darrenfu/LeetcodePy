{
 "cells": [
  {
   "cell_type": "markdown",
   "metadata": {},
   "source": [
    "### [994\\. Rotting Oranges](https://leetcode.com/problems/rotting-oranges/)\n",
    "\n",
    "Difficulty: **Easy**\n",
    "\n",
    "\n",
    "In a given grid, each cell can have one of three values:\n",
    "\n",
    "*   the value `0` representing an empty cell;\n",
    "*   the value `1` representing a fresh orange;\n",
    "*   the value `2` representing a rotten orange.\n",
    "\n",
    "Every minute, any fresh orange that is adjacent (4-directionally) to a rotten orange becomes rotten.\n",
    "\n",
    "Return the minimum number of minutes that must elapse until no cell has a fresh orange.  If this is impossible, return `-1` instead.\n",
    "\n",
    "\n",
    "**Example 1:**\n",
    "\n",
    "**![](https://assets.leetcode.com/uploads/2019/02/16/oranges.png)**\n",
    "\n",
    "```\n",
    "Input: [[2,1,1],[1,1,0],[0,1,1]]\n",
    "Output: 4\n",
    "```\n",
    "\n",
    "\n",
    "**Example 2:**\n",
    "\n",
    "```\n",
    "Input: [[2,1,1],[0,1,1],[1,0,1]]\n",
    "Output: -1\n",
    "Explanation:  The orange in the bottom left corner (row 2, column 0) is never rotten, because rotting only happens 4-directionally.\n",
    "```\n",
    "\n",
    "\n",
    "**Example 3:**\n",
    "\n",
    "```\n",
    "Input: [[0,2]]\n",
    "Output: 0\n",
    "Explanation:  Since there are already no fresh oranges at minute 0, the answer is just 0.\n",
    "```\n",
    "\n",
    "**Note:**\n",
    "\n",
    "1.  `1 <= grid.length <= 10`\n",
    "2.  `1 <= grid[0].length <= 10`\n",
    "3.  `grid[i][j]` is only `0`, `1`, or `2`."
   ]
  },
  {
   "cell_type": "code",
   "execution_count": 23,
   "metadata": {},
   "outputs": [],
   "source": [
    "from typing import List\n",
    "\n",
    "class Solution:\n",
    "    def orangesRotting(self, grid: List[List[int]]) -> int:\n",
    "        def neighbors(x: int, y: int):\n",
    "            for dx, dy in ((1,0), (-1,0), (0,1), (0,-1)):\n",
    "                if 0<=x+dx<R and 0<=y+dy<C and grid[x+dx][y+dy] == 1:\n",
    "                    yield(x+dx, y+dy)\n",
    "        def all_rotten() -> bool:\n",
    "            return all(grid[i][j] != 1 for i in range(R) for j in range(C))\n",
    "                    \n",
    "        R, C = len(grid), len(grid[0])\n",
    "        # initialize BFS queue with rotten oranges\n",
    "        q = [(i, j) for i in range(R) for j in range(C) if grid[i][j] == 2]\n",
    "        if not q and all_rotten():\n",
    "            return 0\n",
    "        elapse = -1\n",
    "        visited = set(q)\n",
    "        while q:\n",
    "            for _ in range(len(q)):\n",
    "                i, j = q.pop(0)\n",
    "                for x, y in neighbors(i, j):\n",
    "                    if (x,y) not in visited:\n",
    "                        visited.add((x,y))\n",
    "                        q.append((x,y))\n",
    "                        grid[x][y] = 2\n",
    "            elapse += 1\n",
    "        return elapse if all_rotten() else -1"
   ]
  },
  {
   "cell_type": "code",
   "execution_count": 53,
   "metadata": {},
   "outputs": [],
   "source": [
    "# create two sets. For each iteration, move affected rotten organges from fresh set to rotten set\n",
    "# comment @SunnyvaleCA https://leetcode.com/problems/rotting-oranges/discuss/238540/python-simple-bfs-solution\n",
    "from typing import List\n",
    "\n",
    "class Solution:\n",
    "    def orangesRotting(self, grid: List[List[int]]) -> int:\n",
    "        def createSet(value: int):\n",
    "            return set([(i, j) for i in range(R) for j in range(C) if grid[i][j] == value])\n",
    "        \n",
    "        def neighbors(x: int, y: int, rotten):\n",
    "            for i, j in ((x+1,y), (x-1,y), (x,y+1), (x,y-1)):\n",
    "                #if 0<=i<R and 0<=j<C and grid[i][j] == 2:\n",
    "                if (i, j) in rotten: # skip boundary check\n",
    "                    yield(i, j)\n",
    "                    \n",
    "        R, C = len(grid), len(grid[0])\n",
    "        fresh, rotten = createSet(1), createSet(2)\n",
    "        elapse = 0\n",
    "        while fresh:\n",
    "            turned = set()\n",
    "            for i, j in fresh:\n",
    "                if [1 for _ in neighbors(i, j, rotten)]: # check whether there is any rotten organge adjacently\n",
    "                    turned.add((i, j))\n",
    "            if not turned:\n",
    "                return -1\n",
    "            #for i, j in turned:\n",
    "            #    grid[i][j] = 2\n",
    "            fresh.difference_update(turned) # A - B\n",
    "            rotten.update(turned) # A + B\n",
    "            elapse += 1\n",
    "        return elapse"
   ]
  },
  {
   "cell_type": "code",
   "execution_count": 54,
   "metadata": {},
   "outputs": [
    {
     "data": {
      "text/plain": [
       "4"
      ]
     },
     "execution_count": 54,
     "metadata": {},
     "output_type": "execute_result"
    }
   ],
   "source": [
    "Solution().orangesRotting(grid= [[2,1,1],[1,1,0],[0,1,1]])"
   ]
  },
  {
   "cell_type": "code",
   "execution_count": 55,
   "metadata": {},
   "outputs": [
    {
     "data": {
      "text/plain": [
       "-1"
      ]
     },
     "execution_count": 55,
     "metadata": {},
     "output_type": "execute_result"
    }
   ],
   "source": [
    "Solution().orangesRotting(grid= [[2,1,1],[0,1,1],[1,0,1]])"
   ]
  },
  {
   "cell_type": "code",
   "execution_count": 56,
   "metadata": {},
   "outputs": [
    {
     "data": {
      "text/plain": [
       "0"
      ]
     },
     "execution_count": 56,
     "metadata": {},
     "output_type": "execute_result"
    }
   ],
   "source": [
    "Solution().orangesRotting(grid= [[0,2]])"
   ]
  },
  {
   "cell_type": "code",
   "execution_count": 57,
   "metadata": {},
   "outputs": [
    {
     "data": {
      "text/plain": [
       "0"
      ]
     },
     "execution_count": 57,
     "metadata": {},
     "output_type": "execute_result"
    }
   ],
   "source": [
    "Solution().orangesRotting(grid= [[0]])"
   ]
  },
  {
   "cell_type": "code",
   "execution_count": 58,
   "metadata": {},
   "outputs": [
    {
     "data": {
      "text/plain": [
       "-1"
      ]
     },
     "execution_count": 58,
     "metadata": {},
     "output_type": "execute_result"
    }
   ],
   "source": [
    "Solution().orangesRotting(grid= [[0,1]])"
   ]
  },
  {
   "cell_type": "code",
   "execution_count": null,
   "metadata": {},
   "outputs": [],
   "source": []
  }
 ],
 "metadata": {
  "kernelspec": {
   "display_name": "Python 3",
   "language": "python",
   "name": "python3"
  },
  "language_info": {
   "codemirror_mode": {
    "name": "ipython",
    "version": 3
   },
   "file_extension": ".py",
   "mimetype": "text/x-python",
   "name": "python",
   "nbconvert_exporter": "python",
   "pygments_lexer": "ipython3",
   "version": "3.6.8"
  }
 },
 "nbformat": 4,
 "nbformat_minor": 2
}
