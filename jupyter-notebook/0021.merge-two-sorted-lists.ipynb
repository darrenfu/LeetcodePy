{
 "cells": [
  {
   "cell_type": "code",
   "execution_count": 1,
   "metadata": {},
   "outputs": [],
   "source": [
    "import sys\n",
    "sys.path.append('..')\n",
    "from leetcode.list.listnode import ListNode"
   ]
  },
  {
   "cell_type": "code",
   "execution_count": 2,
   "metadata": {},
   "outputs": [],
   "source": [
    "class Solution:\n",
    "    def mergeTwoLists(self, l1: ListNode, l2: ListNode) -> ListNode:\n",
    "        n1 = l1\n",
    "        n2 = l2\n",
    "        # res.next is the output pointing to the first node\n",
    "        res = start = ListNode(-1)  # head node\n",
    "        while n1 and n2:\n",
    "            if n1.val <= n2.val:\n",
    "                start.next = n1\n",
    "                n1 = n1.next\n",
    "            else:\n",
    "                start.next = n2\n",
    "                n2 = n2.next\n",
    "            start = start.next\n",
    "        start.next = n1 if not n2 else n2\n",
    "        return res.next"
   ]
  },
  {
   "cell_type": "code",
   "execution_count": null,
   "metadata": {},
   "outputs": [],
   "source": [
    "class Solution:\n",
    "    def mergeTwoLists(self, l1: ListNode, l2: ListNode) -> ListNode:\n",
    "        if not l1:\n",
    "            return l2  # return the first node of the remaining non-empty list\n",
    "        if not l2:\n",
    "            return l1\n",
    "        if l1.val < l2.val:\n",
    "            l1.next = self.mergeTwoLists(l1.next, l2)  # l1[0] + mergeTwoLists(l1[1:], l2)\n",
    "            return l1  # return first node of l1\n",
    "        else:\n",
    "            l2.next = self.mergeTwoLists(l1, l2.next)  # l2[0] + mergeTwoLists(l1, l2[1:])\n",
    "            return l2  # return first node of l2"
   ]
  },
  {
   "cell_type": "code",
   "execution_count": null,
   "metadata": {},
   "outputs": [],
   "source": [
    "# in place\n",
    "# Runtime: 40 ms, faster than 87.96%\n",
    "class Solution:\n",
    "    def mergeTwoLists(self, l1: ListNode, l2: ListNode) -> ListNode:\n",
    "        if not l1 or not l2:\n",
    "            return l1 or l2\n",
    "        res = start = ListNode(-1)\n",
    "        start.next = l1\n",
    "        while l1 and l2:\n",
    "            if l1.val < l2.val:\n",
    "                l1 = l1.next\n",
    "            else:\n",
    "                # l1-> l1.next\n",
    "                # l2 -> l2.next\n",
    "                # merge into: l1 -> l2 -> l1.next, l2.next\n",
    "                nxt = start.next  # start = l1\n",
    "                start.next = l2\n",
    "                tmp = l2.next\n",
    "                l2.next = nxt\n",
    "                l2 = tmp\n",
    "            start = start.next\n",
    "        start.next = l1 or l2\n",
    "        return res.next"
   ]
  }
 ],
 "metadata": {
  "kernelspec": {
   "display_name": "Python 3",
   "language": "python",
   "name": "python3"
  },
  "language_info": {
   "codemirror_mode": {
    "name": "ipython",
    "version": 3
   },
   "file_extension": ".py",
   "mimetype": "text/x-python",
   "name": "python",
   "nbconvert_exporter": "python",
   "pygments_lexer": "ipython3",
   "version": "3.6.8"
  }
 },
 "nbformat": 4,
 "nbformat_minor": 2
}
