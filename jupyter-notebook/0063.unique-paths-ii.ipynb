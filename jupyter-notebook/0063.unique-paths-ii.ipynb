{
 "cells": [
  {
   "cell_type": "code",
   "execution_count": 24,
   "metadata": {},
   "outputs": [],
   "source": [
    "# 2d array for memorization: (M+1) * (N+1)\n",
    "# Simpler than Solution 2 with M*N array below\n",
    "# Runtime: 52 ms, faster than 84.11%\n",
    "# https://leetcode.com/problems/unique-paths-ii/discuss/23248/My-C%2B%2B-Dp-solution-very-simple!\n",
    "from typing import List\n",
    "\n",
    "class Solution:\n",
    "    def uniquePathsWithObstacles(self, obstacleGrid: List[List[int]]) -> int:\n",
    "        L1, L2 = len(obstacleGrid), len(obstacleGrid[0])\n",
    "        # init dp memorization with len+1 because there could be obstacles in the row[0] or col[0]\n",
    "        dp = [[0 for j in range(L2+1)] for i in range(L1+1)]\n",
    "        # dp[1][0] = 1 works the same as the line below\n",
    "        dp[0][1] = 1 # trick to help dp[1][1] = 1. \n",
    "        for i in range(1, L1+1):\n",
    "            for j in range(1, L2+1):\n",
    "                # check location[i][j] is not obstacle\n",
    "                if obstacleGrid[i-1][j-1] == 0:\n",
    "                    # dp's index is one bigger than obstacleGrid (dp[i][j] vs obstacleGrid[i-1][j-1])\n",
    "                    dp[i][j] = dp[i-1][j] + dp[i][j-1]\n",
    "        return dp[-1][-1]"
   ]
  },
  {
   "cell_type": "code",
   "execution_count": 25,
   "metadata": {},
   "outputs": [],
   "source": [
    "# 2d array for memorization: M * N\n",
    "# https://leetcode.com/problems/unique-paths-ii/discuss/23410/Python-different-solutions-(O(m*n)-O(n)-in-place).\n",
    "from typing import List\n",
    "\n",
    "class Solution:\n",
    "    def uniquePathsWithObstacles(self, obstacleGrid: List[List[int]]) -> int:\n",
    "        if not obstacleGrid: return 0\n",
    "        def dpValue(i: int, j: int) -> int:\n",
    "            return 1 - obstacleGrid[i][j]\n",
    "        L1, L2 = len(obstacleGrid), len(obstacleGrid[0])\n",
    "        dp = [[0 for j in range(L2)] for i in range(L1)]\n",
    "        dp[0][0] = dpValue(0, 0)\n",
    "        for i in range(1, L1):\n",
    "            dp[i][0] = dp[i-1][0] * dpValue(i, 0)\n",
    "        for i in range(1, L2):\n",
    "            dp[0][i] = dp[0][i-1] * dpValue(0, i)\n",
    "            \n",
    "        for i in range(1, L1):\n",
    "            for j in range(1, L2):\n",
    "                dp[i][j] = (dp[i-1][j] + dp[i][j-1]) * dpValue(i, j)\n",
    "        return dp[-1][-1]"
   ]
  },
  {
   "cell_type": "code",
   "execution_count": 26,
   "metadata": {},
   "outputs": [
    {
     "data": {
      "text/plain": [
       "2"
      ]
     },
     "execution_count": 26,
     "metadata": {},
     "output_type": "execute_result"
    }
   ],
   "source": [
    "Solution().uniquePathsWithObstacles(obstacleGrid=[\n",
    "  [0,0,0],\n",
    "  [0,1,0],\n",
    "  [0,0,0]\n",
    "])"
   ]
  },
  {
   "cell_type": "code",
   "execution_count": 27,
   "metadata": {},
   "outputs": [
    {
     "data": {
      "text/plain": [
       "0"
      ]
     },
     "execution_count": 27,
     "metadata": {},
     "output_type": "execute_result"
    }
   ],
   "source": [
    "Solution().uniquePathsWithObstacles(obstacleGrid=[[1]])"
   ]
  },
  {
   "cell_type": "code",
   "execution_count": 28,
   "metadata": {},
   "outputs": [
    {
     "data": {
      "text/plain": [
       "0"
      ]
     },
     "execution_count": 28,
     "metadata": {},
     "output_type": "execute_result"
    }
   ],
   "source": [
    "Solution().uniquePathsWithObstacles(obstacleGrid=[[0,0],[0,1]])"
   ]
  },
  {
   "cell_type": "code",
   "execution_count": 29,
   "metadata": {},
   "outputs": [
    {
     "data": {
      "text/plain": [
       "0"
      ]
     },
     "execution_count": 29,
     "metadata": {},
     "output_type": "execute_result"
    }
   ],
   "source": [
    "Solution().uniquePathsWithObstacles(obstacleGrid=[[1,0]])"
   ]
  },
  {
   "cell_type": "code",
   "execution_count": null,
   "metadata": {},
   "outputs": [],
   "source": []
  }
 ],
 "metadata": {
  "kernelspec": {
   "display_name": "Python 3",
   "language": "python",
   "name": "python3"
  },
  "language_info": {
   "codemirror_mode": {
    "name": "ipython",
    "version": 3
   },
   "file_extension": ".py",
   "mimetype": "text/x-python",
   "name": "python",
   "nbconvert_exporter": "python",
   "pygments_lexer": "ipython3",
   "version": "3.6.8"
  }
 },
 "nbformat": 4,
 "nbformat_minor": 2
}
