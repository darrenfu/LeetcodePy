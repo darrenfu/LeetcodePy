{
 "cells": [
  {
   "cell_type": "markdown",
   "metadata": {},
   "source": [
    "### [304\\. Range Sum Query 2D - Immutable](https://leetcode.com/problems/range-sum-query-2d-immutable/)\n",
    "\n",
    "Difficulty: **Medium**\n",
    "\n",
    "\n",
    "Given a 2D matrix _matrix_, find the sum of the elements inside the rectangle defined by its upper left corner (_row_1, _col_1) and lower right corner (_row_2, _col_2).\n",
    "\n",
    "![Range Sum Query 2D](https://leetcode.com/static/images/courses/range_sum_query_2d.png)  \n",
    "<small style=\"display: inline;\">The above rectangle (with the red border) is defined by (row1, col1) = **(2, 1)** and (row2, col2) = **(4, 3)**, which contains sum = **8**.</small>\n",
    "\n",
    "**Example:**  \n",
    "\n",
    "```\n",
    "Given matrix = [\n",
    "  [3, 0, 1, 4, 2],\n",
    "  [5, 6, 3, 2, 1],\n",
    "  [1, 2, 0, 1, 5],\n",
    "  [4, 1, 0, 1, 7],\n",
    "  [1, 0, 3, 0, 5]\n",
    "]\n",
    "\n",
    "sumRegion(2, 1, 4, 3) -> 8\n",
    "sumRegion(1, 1, 2, 2) -> 11\n",
    "sumRegion(1, 2, 2, 4) -> 12\n",
    "```\n",
    "\n",
    "**Note:**  \n",
    "\n",
    "1.  You may assume that the matrix does not change.\n",
    "2.  There are many calls to _sumRegion_ function.\n",
    "3.  You may assume that _row_1 ≤ _row_2 and _col_1 ≤ _col_2."
   ]
  },
  {
   "cell_type": "code",
   "execution_count": 5,
   "metadata": {},
   "outputs": [],
   "source": [
    "from typing import List\n",
    "\n",
    "class NumMatrix:\n",
    "\n",
    "    def __init__(self, matrix: List[List[int]]):\n",
    "        R, C = len(matrix), len(matrix[0]) if matrix else 0\n",
    "        self.presums = [[0] * (C+1) for _ in range(R+1)]\n",
    "        for i in range(1, R+1):\n",
    "            for j in range(1, C+1):\n",
    "                self.presums[i][j] = matrix[i-1][j-1] + self.presums[i-1][j] + self.presums[i][j-1] - self.presums[i-1][j-1]\n",
    "\n",
    "    def sumRegion(self, row1: int, col1: int, row2: int, col2: int) -> int:\n",
    "        return self.presums[row2+1][col2+1] - self.presums[row1][col2+1] - self.presums[row2+1][col1] + self.presums[row1][col1]"
   ]
  },
  {
   "cell_type": "code",
   "execution_count": 7,
   "metadata": {},
   "outputs": [
    {
     "name": "stdout",
     "output_type": "stream",
     "text": [
      "8\n",
      "11\n",
      "12\n"
     ]
    }
   ],
   "source": [
    "nm = NumMatrix(matrix=[\n",
    "  [3, 0, 1, 4, 2],\n",
    "  [5, 6, 3, 2, 1],\n",
    "  [1, 2, 0, 1, 5],\n",
    "  [4, 1, 0, 1, 7],\n",
    "  [1, 0, 3, 0, 5]\n",
    "])\n",
    "print(nm.sumRegion(2, 1, 4, 3))\n",
    "print(nm.sumRegion(1, 1, 2, 2))\n",
    "print(nm.sumRegion(1, 2, 2, 4))"
   ]
  },
  {
   "cell_type": "code",
   "execution_count": null,
   "metadata": {},
   "outputs": [],
   "source": []
  }
 ],
 "metadata": {
  "kernelspec": {
   "display_name": "Python 3",
   "language": "python",
   "name": "python3"
  },
  "language_info": {
   "codemirror_mode": {
    "name": "ipython",
    "version": 3
   },
   "file_extension": ".py",
   "mimetype": "text/x-python",
   "name": "python",
   "nbconvert_exporter": "python",
   "pygments_lexer": "ipython3",
   "version": "3.6.8"
  }
 },
 "nbformat": 4,
 "nbformat_minor": 2
}
