{
 "cells": [
  {
   "cell_type": "code",
   "execution_count": 1,
   "metadata": {},
   "outputs": [],
   "source": [
    "# Runtime: 88 ms, faster than 87.23%\n",
    "# https://leetcode.com/problems/word-abbreviation/discuss/99781/Python-Straightforward-with-Explanation\n",
    "from typing import List\n",
    "from collections import defaultdict\n",
    "class Solution:\n",
    "    def wordsAbbreviation(self, dict: List[str]) -> List[str]:\n",
    "#         def diffAbbr(wordIdxes: List[int]) -> Dict[int, str]:\n",
    "#             res = {}\n",
    "#             reversed_pairs = [dict[idx][1:-2][::-1] for idx in wordIdxes]\n",
    "#             excepts = set()\n",
    "#             for i, ch_pair in enumerate(zip(*reversed_pairs)):\n",
    "#                 idx = wordIdxes[i]\n",
    "#                 cnt = Counter(ch_pair)\n",
    "#                 for k in cnt:\n",
    "#                     if len(cnt[k]) == 1:\n",
    "#                         excepts.add(ch_pair.find(k))\n",
    "#                         res[idx] = \n",
    "            \n",
    "        def longest_common_prefix(a, b):\n",
    "            i = 0\n",
    "            while i < len(a) and i < len(b) and a[i] == b[i]:\n",
    "                i += 1\n",
    "            return i\n",
    "    \n",
    "        memo = defaultdict(list)\n",
    "        for i, w in enumerate(dict):\n",
    "            l = len(w)\n",
    "            if l > 3:\n",
    "                memo[w[0], w[-1], l].append((w, i))\n",
    "        res = [w for w in dict]\n",
    "        for (first, last, size), words in memo.items():\n",
    "            words.sort()\n",
    "            # only check longest common prefix of two adjacent words\n",
    "            lcp = [0] * len(words)\n",
    "            for i, (word1, _) in enumerate(words):\n",
    "                if i > 0:\n",
    "                    word2, _ = words[i-1]\n",
    "                    p = longest_common_prefix(word1, word2)\n",
    "                    lcp[i] = max(lcp[i], p)\n",
    "                    lcp[i-1] = max(lcp[i-1], p)\n",
    "            for (word, index), p in zip(words, lcp):\n",
    "                delta = size-2-p\n",
    "                # ???\n",
    "#                 if delta > 1:\n",
    "                if delta > max(1, len(str(delta))-1):\n",
    "                    res[index] = f\"{word[:p+1]}{delta}{last}\"\n",
    "        return res"
   ]
  },
  {
   "cell_type": "code",
   "execution_count": null,
   "metadata": {},
   "outputs": [],
   "source": []
  }
 ],
 "metadata": {
  "kernelspec": {
   "display_name": "Python 3",
   "language": "python",
   "name": "python3"
  },
  "language_info": {
   "codemirror_mode": {
    "name": "ipython",
    "version": 3
   },
   "file_extension": ".py",
   "mimetype": "text/x-python",
   "name": "python",
   "nbconvert_exporter": "python",
   "pygments_lexer": "ipython3",
   "version": "3.6.8"
  }
 },
 "nbformat": 4,
 "nbformat_minor": 2
}
