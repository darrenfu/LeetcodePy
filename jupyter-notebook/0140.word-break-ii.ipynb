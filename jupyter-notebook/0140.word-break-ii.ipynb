{
 "cells": [
  {
   "cell_type": "markdown",
   "metadata": {},
   "source": [
    "### [140\\. Word Break II](https://leetcode.com/problems/word-break-ii/)\n",
    "\n",
    "Difficulty: **Hard**\n",
    "\n",
    "\n",
    "Given a **non-empty** string _s_ and a dictionary _wordDict_ containing a list of **non-empty** words, add spaces in _s_ to construct a sentence where each word is a valid dictionary word. Return all such possible sentences.\n",
    "\n",
    "**Note:**\n",
    "\n",
    "*   The same word in the dictionary may be reused multiple times in the segmentation.\n",
    "*   You may assume the dictionary does not contain duplicate words.\n",
    "\n",
    "**Example 1:**\n",
    "\n",
    "```\n",
    "Input:\n",
    "s = \"catsanddog\"\n",
    "wordDict = [\"cat\", \"cats\", \"and\", \"sand\", \"dog\"]\n",
    "Output:\n",
    "[\n",
    "  \"cats and dog\",\n",
    "  \"cat sand dog\"\n",
    "]\n",
    "```\n",
    "\n",
    "**Example 2:**\n",
    "\n",
    "```\n",
    "Input:\n",
    "s = \"pineapplepenapple\"\n",
    "wordDict = [\"apple\", \"pen\", \"applepen\", \"pine\", \"pineapple\"]\n",
    "Output:\n",
    "[\n",
    "  \"pine apple pen apple\",\n",
    "  \"pineapple pen apple\",\n",
    "  \"pine applepen apple\"\n",
    "]\n",
    "Explanation: Note that you are allowed to reuse a dictionary word.\n",
    "```\n",
    "\n",
    "**Example 3:**\n",
    "\n",
    "```\n",
    "Input:\n",
    "s = \"catsandog\"\n",
    "wordDict = [\"cats\", \"dog\", \"sand\", \"and\", \"cat\"]\n",
    "Output:\n",
    "[]\n",
    "```"
   ]
  },
  {
   "cell_type": "code",
   "execution_count": 8,
   "metadata": {},
   "outputs": [],
   "source": [
    "# Backtracking\n",
    "# To avoid TLE, use wordbreak solution to check breakable or not before backtracking/DP\n",
    "# https://leetcode.com/problems/word-break-ii/discuss/44185/Getting-rid-of-TLE\n",
    "from typing import List\n",
    "\n",
    "class Solution:\n",
    "    def wordBreak(self, s: str, wordDict: List[str]) -> List[str]:\n",
    "        wordDict = set(wordDict)\n",
    "        def breakable() -> bool:\n",
    "            q = [0]\n",
    "            visited = set(q)\n",
    "            while q:\n",
    "                cur = q.pop()\n",
    "                for i in range(cur, L+1):\n",
    "                    if i in visited:\n",
    "                        continue\n",
    "                    if s[cur:i] in wordDict:\n",
    "                        if i == L:\n",
    "                            return True\n",
    "                        q.insert(0, i)\n",
    "                        visited.add(i)\n",
    "            return False\n",
    "    \n",
    "        def dfs(cur: int, stack: List[int], res: List[str]):\n",
    "            if cur == L:\n",
    "                ans = []\n",
    "                for i, j in zip(stack, stack[1:]):\n",
    "                    ans += s[i:j],\n",
    "                res.append(' '.join(ans))\n",
    "                return\n",
    "            for i in range(cur, L+1):\n",
    "                if s[cur:i] in wordDict:\n",
    "                    dfs(i, stack + [i], res)\n",
    "                \n",
    "        L = len(s)\n",
    "        res = []\n",
    "        if breakable():\n",
    "            dfs(0, [0], res)\n",
    "        return res"
   ]
  },
  {
   "cell_type": "code",
   "execution_count": 9,
   "metadata": {},
   "outputs": [
    {
     "data": {
      "text/plain": [
       "['pine apple pen apple', 'pine applepen apple', 'pineapple pen apple']"
      ]
     },
     "execution_count": 9,
     "metadata": {},
     "output_type": "execute_result"
    }
   ],
   "source": [
    "Solution().wordBreak(s = \"pineapplepenapple\", wordDict = [\"apple\", \"pen\", \"applepen\", \"pine\", \"pineapple\"])"
   ]
  },
  {
   "cell_type": "code",
   "execution_count": 10,
   "metadata": {},
   "outputs": [
    {
     "data": {
      "text/plain": [
       "['cat sand dog', 'cats and dog']"
      ]
     },
     "execution_count": 10,
     "metadata": {},
     "output_type": "execute_result"
    }
   ],
   "source": [
    "Solution().wordBreak(s = \"catsanddog\", wordDict = [\"cat\", \"cats\", \"and\", \"sand\", \"dog\"])"
   ]
  },
  {
   "cell_type": "code",
   "execution_count": 11,
   "metadata": {},
   "outputs": [
    {
     "data": {
      "text/plain": [
       "[]"
      ]
     },
     "execution_count": 11,
     "metadata": {},
     "output_type": "execute_result"
    }
   ],
   "source": [
    "Solution().wordBreak(s = \"catsandog\", wordDict = [\"cats\", \"dog\", \"sand\", \"and\", \"cat\"])"
   ]
  },
  {
   "cell_type": "code",
   "execution_count": 12,
   "metadata": {},
   "outputs": [
    {
     "data": {
      "text/plain": [
       "[]"
      ]
     },
     "execution_count": 12,
     "metadata": {},
     "output_type": "execute_result"
    }
   ],
   "source": [
    "Solution().wordBreak(s = \"aaaaaaaaaaaaaaaaaaaaaaaaaaaaaaaaaaaaaaaaaaaaaaaaaaaaaaaaaaaaaaaaaaaaaaaaaaabaaaaaaaaaaaaaaaaaaaaaaaaaaaaaaaaaaaaaaaaaaaaaaaaaaaaaaaaaaaaaaaaaaaaaaaaaaa\", wordDict = [\"a\",\"aa\",\"aaa\",\"aaaa\",\"aaaaa\",\"aaaaaa\",\"aaaaaaa\",\"aaaaaaaa\",\"aaaaaaaaa\",\"aaaaaaaaaa\"])"
   ]
  },
  {
   "cell_type": "code",
   "execution_count": null,
   "metadata": {},
   "outputs": [],
   "source": []
  }
 ],
 "metadata": {
  "kernelspec": {
   "display_name": "Python 3",
   "language": "python",
   "name": "python3"
  },
  "language_info": {
   "codemirror_mode": {
    "name": "ipython",
    "version": 3
   },
   "file_extension": ".py",
   "mimetype": "text/x-python",
   "name": "python",
   "nbconvert_exporter": "python",
   "pygments_lexer": "ipython3",
   "version": "3.6.8"
  }
 },
 "nbformat": 4,
 "nbformat_minor": 2
}
