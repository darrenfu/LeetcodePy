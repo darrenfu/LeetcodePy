{
 "cells": [
  {
   "cell_type": "markdown",
   "metadata": {},
   "source": [
    "### [126\\. Word Ladder II](https://leetcode.com/problems/word-ladder-ii/)\n",
    "\n",
    "Difficulty: **Hard**\n",
    "\n",
    "\n",
    "Given two words (_beginWord_ and _endWord_), and a dictionary's word list, find all shortest transformation sequence(s) from _beginWord_ to _endWord_, such that:\n",
    "\n",
    "1.  Only one letter can be changed at a time\n",
    "2.  Each transformed word must exist in the word list. Note that _beginWord_ is _not_ a transformed word.\n",
    "\n",
    "**Note:**\n",
    "\n",
    "*   Return an empty list if there is no such transformation sequence.\n",
    "*   All words have the same length.\n",
    "*   All words contain only lowercase alphabetic characters.\n",
    "*   You may assume no duplicates in the word list.\n",
    "*   You may assume _beginWord_ and _endWord_ are non-empty and are not the same.\n",
    "\n",
    "**Example 1:**\n",
    "\n",
    "```\n",
    "Input:\n",
    "beginWord = \"hit\",\n",
    "endWord = \"cog\",\n",
    "wordList = [\"hot\",\"dot\",\"dog\",\"lot\",\"log\",\"cog\"]\n",
    "\n",
    "Output:\n",
    "[\n",
    "  [\"hit\",\"hot\",\"dot\",\"dog\",\"cog\"],\n",
    "  [\"hit\",\"hot\",\"lot\",\"log\",\"cog\"]\n",
    "]\n",
    "```\n",
    "\n",
    "**Example 2:**\n",
    "\n",
    "```\n",
    "Input:\n",
    "beginWord = \"hit\"\n",
    "endWord = \"cog\"\n",
    "wordList = [\"hot\",\"dot\",\"dog\",\"lot\",\"log\"]\n",
    "\n",
    "Output: []\n",
    "\n",
    "Explanation: The endWord \"cog\" is not in wordList, therefore no possible transformation.\n",
    "```"
   ]
  },
  {
   "cell_type": "code",
   "execution_count": 23,
   "metadata": {},
   "outputs": [],
   "source": [
    "# BFS - TLE\n",
    "from typing import List\n",
    "\n",
    "class Solution:\n",
    "    def findLadders(self, beginWord: str, endWord: str, wordList: List[str]) -> List[List[str]]:\n",
    "        wordset = set(wordList)\n",
    "        if endWord not in wordset:\n",
    "            return []\n",
    "        q = [ [beginWord] ] # difference #1: store the path in queue instead of word\n",
    "        wlen = len(beginWord)\n",
    "        lastLayer = False\n",
    "        visited = set([beginWord])\n",
    "        res = []\n",
    "        while q and not lastLayer:\n",
    "            curVisited = set()\n",
    "            for _ in range(len(q)):\n",
    "                path = q.pop(0)\n",
    "                curWord = path[-1]\n",
    "                if curWord == endWord:\n",
    "                    res.append(path)\n",
    "                    # difference #2: if one shortest path is found, do not return the path instantly, but continue finish the traverse on the current layer\n",
    "                    lastLayer = True\n",
    "                for i in range(wlen):\n",
    "                    for j in range(26):\n",
    "                        ch = chr(ord('a') + j)\n",
    "                        if ch == curWord[i]:\n",
    "                            continue\n",
    "                        nextWord = curWord[:i] + ch + curWord[i+1:]\n",
    "                        # difference #3: check exisitence in `curVisited` instead of `visited` because we might have multiple paths in the same layer\n",
    "                        if nextWord in wordset and nextWord not in visited:\n",
    "                            curVisited.add(nextWord)\n",
    "                            q.append(path + [nextWord])\n",
    "            visited.update(curVisited)\n",
    "        return res"
   ]
  },
  {
   "cell_type": "code",
   "execution_count": 41,
   "metadata": {},
   "outputs": [],
   "source": [
    "# BFS\n",
    "# https://leetcode.com/problems/word-ladder-ii/discuss/40482/Python-simple-BFS-layer-by-layer\n",
    "from typing import List\n",
    "from collections import defaultdict\n",
    "\n",
    "class Solution:\n",
    "    def findLadders(self, beginWord: str, endWord: str, wordList: List[str]) -> List[List[str]]:\n",
    "        wordset = set(wordList)\n",
    "        if endWord not in wordset:\n",
    "            return []\n",
    "        q = { beginWord: [[beginWord]] } # stores current word (key) to all possible paths (value) mapping\n",
    "        wlen = len(beginWord)\n",
    "        while q:\n",
    "            new_q = defaultdict(list)\n",
    "            for w in q:\n",
    "                if w == endWord:\n",
    "                    return q[w]\n",
    "                else:\n",
    "                    for i in range(wlen):\n",
    "                        for j in range(26):\n",
    "                            nextW = w[:i] + chr(ord('a') + j) + w[i+1:]\n",
    "                            if nextW in wordset:\n",
    "                                new_q[nextW] += [path + [nextW] for path in q[w]] # form a new layer - like suffix tree\n",
    "            wordset.difference_update(new_q.keys()) # prevent loops\n",
    "            q = new_q\n",
    "        return []"
   ]
  },
  {
   "cell_type": "code",
   "execution_count": 42,
   "metadata": {},
   "outputs": [
    {
     "data": {
      "text/plain": [
       "[['hit', 'hot', 'dot', 'dog', 'cog'], ['hit', 'hot', 'lot', 'log', 'cog']]"
      ]
     },
     "execution_count": 42,
     "metadata": {},
     "output_type": "execute_result"
    }
   ],
   "source": [
    "Solution().findLadders(\"hit\", \"cog\", [\"hot\",\"dot\",\"dog\",\"lot\",\"log\",\"cog\"])"
   ]
  },
  {
   "cell_type": "code",
   "execution_count": null,
   "metadata": {},
   "outputs": [],
   "source": []
  }
 ],
 "metadata": {
  "kernelspec": {
   "display_name": "Python 3",
   "language": "python",
   "name": "python3"
  },
  "language_info": {
   "codemirror_mode": {
    "name": "ipython",
    "version": 3
   },
   "file_extension": ".py",
   "mimetype": "text/x-python",
   "name": "python",
   "nbconvert_exporter": "python",
   "pygments_lexer": "ipython3",
   "version": "3.6.8"
  }
 },
 "nbformat": 4,
 "nbformat_minor": 2
}
