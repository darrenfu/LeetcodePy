{
 "cells": [
  {
   "cell_type": "markdown",
   "metadata": {},
   "source": [
    "### [329\\. Longest Increasing Path in a Matrix](https://leetcode.com/problems/longest-increasing-path-in-a-matrix/)\n",
    "\n",
    "Difficulty: **Hard**\n",
    "\n",
    "\n",
    "Given an integer matrix, find the length of the longest increasing path.\n",
    "\n",
    "From each cell, you can either move to four directions: left, right, up or down. You may NOT move diagonally or move outside of the boundary (i.e. wrap-around is not allowed).\n",
    "\n",
    "**Example 1:**\n",
    "\n",
    "```\n",
    "Input: nums = \n",
    "[\n",
    "  [9,9,4],\n",
    "  [6,6,8],\n",
    "  [2,1,1]\n",
    "] \n",
    "Output: 4 \n",
    "Explanation: The longest increasing path is [1, 2, 6, 9].\n",
    "```\n",
    "\n",
    "**Example 2:**\n",
    "\n",
    "```\n",
    "Input: nums = \n",
    "[\n",
    "  [3,4,5],\n",
    "  [3,2,6],\n",
    "  [2,2,1]\n",
    "] \n",
    "Output: 4 \n",
    "Explanation: The longest increasing path is [3, 4, 5, 6]. Moving diagonally is not allowed.\n",
    "```"
   ]
  },
  {
   "cell_type": "markdown",
   "metadata": {},
   "source": [
    "Intuition:  \n",
    "Each cell can be seen as a vertex in a graph GG. If two adjacent cells have value a < ba<b, i.e. increasing then we have a directed edge (a, b)(a,b). The problem then becomes:\n",
    "\n",
    "Search the longest path in the directed graph GG."
   ]
  },
  {
   "cell_type": "code",
   "execution_count": 26,
   "metadata": {},
   "outputs": [],
   "source": [
    "# Topological sorting using Peeling Onion \n",
    "# http://www.allenlipeng47.com/blog/index.php/2016/01/22/longest-increasing-path-in-a-matrix/\n",
    "from typing import List\n",
    "from collections import defaultdict\n",
    "\n",
    "class Solution:\n",
    "    def longestIncreasingPath(self, matrix: List[List[int]]) -> int:\n",
    "        def neighbors(i, j):\n",
    "            for x, y in ((i+1,j),(i-1,j),(i,j+1),(i,j-1)):\n",
    "                if 0<=x<M and 0<=y<N:\n",
    "                    yield(x,y)\n",
    "        if not matrix or not matrix[0]: return 0\n",
    "        M, N = len(matrix), len(matrix[0])\n",
    "        ingraph = defaultdict(set)\n",
    "        outgraph = defaultdict(set)\n",
    "        for i in range(M):\n",
    "            for j in range(N):\n",
    "                for x, y in neighbors(i,j):\n",
    "                    if matrix[x][y] > matrix[i][j]: # directed edge (i,j) -> (x,y)\n",
    "                        ingraph[(x,y)].add((i,j))\n",
    "                        outgraph[(i,j)].add((x,y))\n",
    "        q = list(ingraph.keys() - outgraph.keys()) # start points: zero-out-degree points\n",
    "        res = 1\n",
    "        while q:\n",
    "            for _ in range(len(q)):\n",
    "                v = q.pop()\n",
    "                for u in ingraph[v]:\n",
    "                    outgraph[u].remove(v)\n",
    "                    if not outgraph[u]:\n",
    "                        del outgraph[u]\n",
    "                del ingraph[v]\n",
    "            q = list(ingraph.keys() - outgraph.keys())\n",
    "            res += 1\n",
    "        return res"
   ]
  },
  {
   "cell_type": "code",
   "execution_count": 27,
   "metadata": {},
   "outputs": [],
   "source": [
    "# DP (DFS)\n",
    "# If we define the longest increasing path starting from cell (i, j) as a function f(i, j)\n",
    "# then we have the following transition function:\n",
    "# f(i, j) = max\\{f(x, y)| (x, y)~\\mathrm{is~a~neighbor~of} (i, j)~\\mathrm{and} ~\\mathrm{matrix}[x][y] \\gt \\mathrm{matrix}[i][j]\\} + 1f(i,j)=max{f(x,y)∣(x,y) is a neighbor of(i,j) and matrix[x][y]>matrix[i][j]}+1\n",
    "from typing import List\n",
    "from functools import lru_cache\n",
    "\n",
    "class Solution:\n",
    "    def longestIncreasingPath(self, matrix: List[List[int]]) -> int:\n",
    "        @lru_cache(None)\n",
    "        def dfs(i, j):\n",
    "            val = matrix[i][j]\n",
    "            return 1 + max(\n",
    "                dfs(i - 1, j) if i and val < matrix[i - 1][j] else 0,\n",
    "                dfs(i + 1, j) if i < M - 1 and val < matrix[i + 1][j] else 0,\n",
    "                dfs(i, j - 1) if j and val < matrix[i][j - 1] else 0,\n",
    "                dfs(i, j + 1) if j < N - 1 and val < matrix[i][j + 1] else 0)\n",
    "        \n",
    "        if not matrix or not matrix[0]: return 0\n",
    "        M, N = len(matrix), len(matrix[0])\n",
    "        return max(dfs(x, y) for x in range(M) for y in range(N))"
   ]
  },
  {
   "cell_type": "code",
   "execution_count": 28,
   "metadata": {},
   "outputs": [
    {
     "data": {
      "text/plain": [
       "4"
      ]
     },
     "execution_count": 28,
     "metadata": {},
     "output_type": "execute_result"
    }
   ],
   "source": [
    "Solution().longestIncreasingPath(matrix = \n",
    "[\n",
    "  [3,4,5],\n",
    "  [3,2,6],\n",
    "  [2,2,1]\n",
    "] )"
   ]
  },
  {
   "cell_type": "code",
   "execution_count": 29,
   "metadata": {},
   "outputs": [
    {
     "data": {
      "text/plain": [
       "4"
      ]
     },
     "execution_count": 29,
     "metadata": {},
     "output_type": "execute_result"
    }
   ],
   "source": [
    "Solution().longestIncreasingPath(matrix = \n",
    "[\n",
    "  [9,9,4],\n",
    "  [6,6,8],\n",
    "  [2,1,1]\n",
    "] )"
   ]
  },
  {
   "cell_type": "code",
   "execution_count": 30,
   "metadata": {},
   "outputs": [
    {
     "data": {
      "text/plain": [
       "4"
      ]
     },
     "execution_count": 30,
     "metadata": {},
     "output_type": "execute_result"
    }
   ],
   "source": [
    "Solution().longestIncreasingPath(matrix = \n",
    "[\n",
    "  [7,7,5],\n",
    "  [2,4,6],\n",
    "  [8,2,0]\n",
    "] )"
   ]
  },
  {
   "cell_type": "code",
   "execution_count": null,
   "metadata": {},
   "outputs": [],
   "source": []
  }
 ],
 "metadata": {
  "kernelspec": {
   "display_name": "Python 3",
   "language": "python",
   "name": "python3"
  },
  "language_info": {
   "codemirror_mode": {
    "name": "ipython",
    "version": 3
   },
   "file_extension": ".py",
   "mimetype": "text/x-python",
   "name": "python",
   "nbconvert_exporter": "python",
   "pygments_lexer": "ipython3",
   "version": "3.6.8"
  }
 },
 "nbformat": 4,
 "nbformat_minor": 2
}
