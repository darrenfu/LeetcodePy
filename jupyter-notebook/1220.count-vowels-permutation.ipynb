{
 "cells": [
  {
   "cell_type": "code",
   "execution_count": 42,
   "metadata": {},
   "outputs": [],
   "source": [
    "# BFS\n",
    "# https://leetcode.com/problems/count-vowels-permutation/discuss/398177/Short-Python-DP-solution\n",
    "from collections import defaultdict\n",
    "class Solution:\n",
    "    def countVowelPermutation(self, n: int) -> int:\n",
    "        prevfreq = {'a':1, 'e':1, 'o':1, 'i':1, 'u':1}\n",
    "        vmap = {'a':['e'], 'e':['a','i'], 'i':['a','e','o','u'], 'o':['i','u'], 'u':['a']}\n",
    "        for i in range(1, n):\n",
    "            curfreq = defaultdict(int)\n",
    "            for v, freq in prevfreq.items():\n",
    "                for nextv in vmap[v]:\n",
    "                    curfreq[nextv] += freq\n",
    "            prevfreq = curfreq\n",
    "        return sum(prevfreq.values()) % (10**9+7)"
   ]
  },
  {
   "cell_type": "code",
   "execution_count": 43,
   "metadata": {},
   "outputs": [
    {
     "data": {
      "text/plain": [
       "68"
      ]
     },
     "execution_count": 43,
     "metadata": {},
     "output_type": "execute_result"
    }
   ],
   "source": [
    "Solution().countVowelPermutation(5)"
   ]
  },
  {
   "cell_type": "code",
   "execution_count": 44,
   "metadata": {},
   "outputs": [
    {
     "data": {
      "text/plain": [
       "18208803"
      ]
     },
     "execution_count": 44,
     "metadata": {},
     "output_type": "execute_result"
    }
   ],
   "source": [
    "Solution().countVowelPermutation(144)"
   ]
  },
  {
   "cell_type": "code",
   "execution_count": 45,
   "metadata": {},
   "outputs": [
    {
     "data": {
      "text/plain": [
       "5"
      ]
     },
     "execution_count": 45,
     "metadata": {},
     "output_type": "execute_result"
    }
   ],
   "source": [
    "Solution().countVowelPermutation(1)"
   ]
  }
 ],
 "metadata": {
  "kernelspec": {
   "display_name": "Python 3",
   "language": "python",
   "name": "python3"
  },
  "language_info": {
   "codemirror_mode": {
    "name": "ipython",
    "version": 3
   },
   "file_extension": ".py",
   "mimetype": "text/x-python",
   "name": "python",
   "nbconvert_exporter": "python",
   "pygments_lexer": "ipython3",
   "version": "3.6.8"
  }
 },
 "nbformat": 4,
 "nbformat_minor": 2
}
