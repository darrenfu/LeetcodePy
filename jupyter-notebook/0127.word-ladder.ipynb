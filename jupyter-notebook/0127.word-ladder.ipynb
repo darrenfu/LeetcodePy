{
 "cells": [
  {
   "cell_type": "markdown",
   "metadata": {},
   "source": [
    "### [127\\. Word Ladder](https://leetcode.com/problems/word-ladder/)\n",
    "\n",
    "Difficulty: **Medium**\n",
    "\n",
    "\n",
    "Given two words (_beginWord_ and _endWord_), and a dictionary's word list, find the length of shortest transformation sequence from _beginWord_ to _endWord_, such that:\n",
    "\n",
    "1.  Only one letter can be changed at a time.\n",
    "2.  Each transformed word must exist in the word list. Note that _beginWord_ is _not_ a transformed word.\n",
    "\n",
    "**Note:**\n",
    "\n",
    "*   Return 0 if there is no such transformation sequence.\n",
    "*   All words have the same length.\n",
    "*   All words contain only lowercase alphabetic characters.\n",
    "*   You may assume no duplicates in the word list.\n",
    "*   You may assume _beginWord_ and _endWord_ are non-empty and are not the same.\n",
    "\n",
    "**Example 1:**\n",
    "\n",
    "```\n",
    "Input:\n",
    "beginWord = \"hit\",\n",
    "endWord = \"cog\",\n",
    "wordList = [\"hot\",\"dot\",\"dog\",\"lot\",\"log\",\"cog\"]\n",
    "\n",
    "Output: 5\n",
    "\n",
    "Explanation: As one shortest transformation is \"hit\" -> \"hot\" -> \"dot\" -> \"dog\" -> \"cog\",\n",
    "return its length 5.\n",
    "```\n",
    "\n",
    "**Example 2:**\n",
    "\n",
    "```\n",
    "Input:\n",
    "beginWord = \"hit\"\n",
    "endWord = \"cog\"\n",
    "wordList = [\"hot\",\"dot\",\"dog\",\"lot\",\"log\"]\n",
    "\n",
    "Output: 0\n",
    "\n",
    "Explanation: The endWord \"cog\" is not in wordList, therefore no possible transformation.\n",
    "```"
   ]
  },
  {
   "cell_type": "code",
   "execution_count": 13,
   "metadata": {},
   "outputs": [],
   "source": [
    "# BFS\n",
    "# O(b^d)\n",
    "from typing import List\n",
    "from collections import defaultdict\n",
    "\n",
    "class Solution:\n",
    "    def ladderLength(self, beginWord: str, endWord: str, wordList: List[str]) -> int:\n",
    "        if endWord not in wordList:\n",
    "            return 0\n",
    "        \n",
    "        #def isTransformable(w1: str, w2: str) -> bool:\n",
    "        #    return len([1 for ch1, ch2 in zip(w1, w2) if ch1 == ch2]) == wlen - 1\n",
    "        def getWordPattern(word: str, idx: int) -> str:\n",
    "            return word[:idx] + '*' + word[idx+1:]\n",
    "        \n",
    "        patterns = defaultdict(list)\n",
    "        wlen = len(beginWord)\n",
    "        # instead of comparing each pair of words (O(N^2)), we can cache the word pattern to word list mapping\n",
    "        for word in wordList:\n",
    "            for i in range(wlen):\n",
    "                pattern = getWordPattern(word, i)\n",
    "                patterns[pattern].append(word)\n",
    "        \n",
    "        q = [beginWord]\n",
    "        visited = set(q)\n",
    "        steps = 0\n",
    "        while q:\n",
    "            steps += 1\n",
    "            for _ in range(len(q)):\n",
    "                w1 = q.pop(0)\n",
    "                if w1 == endWord:\n",
    "                    return steps\n",
    "                #for w2 in wordList:\n",
    "                    #if isTransformable(w1, w2):\n",
    "                for i in range(wlen):\n",
    "                    pattern = getWordPattern(w1, i)\n",
    "                    for w2 in patterns[pattern]:\n",
    "                        if w2 not in visited:\n",
    "                            visited.add(w2)\n",
    "                            q.append(w2)\n",
    "        return 0"
   ]
  },
  {
   "cell_type": "code",
   "execution_count": 19,
   "metadata": {},
   "outputs": [],
   "source": [
    "# BFS variation\n",
    "from typing import List\n",
    "\n",
    "class Solution:\n",
    "    def ladderLength(self, beginWord: str, endWord: str, wordList: List[str]) -> int:\n",
    "        wordSet = set(wordList)\n",
    "        if endWord not in wordSet:\n",
    "            return 0\n",
    "        wlen = len(beginWord)\n",
    "        q = [(beginWord, 1)]\n",
    "        while q:\n",
    "            for _ in range(len(q)):\n",
    "                w, steps = q.pop(0)\n",
    "                if w == endWord:\n",
    "                    return steps\n",
    "                for i in range(wlen):\n",
    "                    for j in range(26): # try all 26 possibilities at each position of the word\n",
    "                        neighborW = w[:i] + chr(ord('a') + j) + w[i+1:]\n",
    "                        if neighborW in wordSet:\n",
    "                            wordSet.remove(neighborW) # the word is already used, remove it from set\n",
    "                            q.append((neighborW, steps+1))\n",
    "        return 0"
   ]
  },
  {
   "cell_type": "code",
   "execution_count": 2,
   "metadata": {},
   "outputs": [],
   "source": [
    "# Bidirectional BFS\n",
    "# O(b^(d/2))\n",
    "# where b is branching factor (avg children #); d is the distance between two words\n",
    "from typing import List\n",
    "\n",
    "class Solution:\n",
    "    def ladderLength(self, beginWord: str, endWord: str, wordList: List[str]) -> int:\n",
    "        wordSet = set(wordList)\n",
    "        if endWord not in wordSet:\n",
    "            return 0\n",
    "        wordSet.remove(endWord)\n",
    "        wlen = len(beginWord)\n",
    "        q1, q2 = set([beginWord]), set([endWord])\n",
    "        steps = 0\n",
    "        while q1 and q2:\n",
    "            if len(q1) > len(q2):\n",
    "                q1, q2 = q2, q1\n",
    "            steps += 1\n",
    "            tmpQ = set()\n",
    "            for w in q1:\n",
    "                for i in range(wlen):\n",
    "                    for j in range(26):\n",
    "                        nextW = w[:i] + chr(ord('a') + j) + w[i+1:]\n",
    "                        if nextW in q2:\n",
    "                            return steps + 1\n",
    "                        if nextW in wordSet:\n",
    "                            wordSet.remove(nextW)\n",
    "                            tmpQ.add(nextW)\n",
    "            q1 = tmpQ\n",
    "        return 0"
   ]
  },
  {
   "cell_type": "code",
   "execution_count": 3,
   "metadata": {},
   "outputs": [
    {
     "data": {
      "text/plain": [
       "5"
      ]
     },
     "execution_count": 3,
     "metadata": {},
     "output_type": "execute_result"
    }
   ],
   "source": [
    "Solution().ladderLength(\"hit\", \"cog\", [\"hot\",\"dot\",\"dog\",\"lot\",\"log\",\"cog\"])"
   ]
  },
  {
   "cell_type": "code",
   "execution_count": 4,
   "metadata": {},
   "outputs": [
    {
     "data": {
      "text/plain": [
       "0"
      ]
     },
     "execution_count": 4,
     "metadata": {},
     "output_type": "execute_result"
    }
   ],
   "source": [
    "Solution().ladderLength(\"hit\", \"cog\", [\"hot\",\"dot\",\"dog\",\"lot\",\"log\"])"
   ]
  },
  {
   "cell_type": "code",
   "execution_count": null,
   "metadata": {},
   "outputs": [],
   "source": []
  }
 ],
 "metadata": {
  "kernelspec": {
   "display_name": "Python 3",
   "language": "python",
   "name": "python3"
  },
  "language_info": {
   "codemirror_mode": {
    "name": "ipython",
    "version": 3
   },
   "file_extension": ".py",
   "mimetype": "text/x-python",
   "name": "python",
   "nbconvert_exporter": "python",
   "pygments_lexer": "ipython3",
   "version": "3.6.8"
  }
 },
 "nbformat": 4,
 "nbformat_minor": 2
}
