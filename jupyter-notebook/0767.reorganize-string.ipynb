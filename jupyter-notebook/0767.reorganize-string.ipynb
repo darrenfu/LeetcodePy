{
 "cells": [
  {
   "cell_type": "code",
   "execution_count": 45,
   "metadata": {},
   "outputs": [],
   "source": [
    "# Heap + Round Robin\n",
    "# Runtime: 36 ms, faster than 87.52%\n",
    "from heapq import *\n",
    "\n",
    "class Solution:\n",
    "    def reorganizeString(self, S: str) -> str:\n",
    "        cache = [0] * 26\n",
    "        for ch in S:\n",
    "            idx = ord(ch)-ord('a')\n",
    "            cache[idx] += 1\n",
    "                \n",
    "        heap = []\n",
    "        heapify(heap)\n",
    "        for i, v in enumerate(cache):\n",
    "            # max heap, element: (-freq, ch2int)\n",
    "            if v > 0:\n",
    "                heappush(heap, (-v, i))\n",
    "        #print(cache, heap)\n",
    "        \n",
    "        # pop max element\n",
    "        nv, idx = heappop(heap)\n",
    "        max_letter = chr(idx+ord('a'))\n",
    "        max_freq = -nv\n",
    "        \n",
    "        if max_freq * 2 <= len(S)+1:\n",
    "            res = [max_letter] * max_freq\n",
    "            #print(res)\n",
    "            # Round Robin\n",
    "            # e.g. aaaabbbccd -> abcdabcdabcaba (from highest freq (a) to least freq (d))\n",
    "            last_offset = 0\n",
    "            while len(heap):\n",
    "                nv, idx = heappop(heap)\n",
    "                #print(chr(idx+ord('a')), nv)\n",
    "                #TOOD stack\n",
    "                local_offset = 0\n",
    "                for i in range(-nv):\n",
    "                    local_offset = (i+last_offset) % (len(res))\n",
    "                    res[local_offset] += chr(idx+ord('a'))\n",
    "                last_offset = local_offset + 1\n",
    "            return ''.join(res)\n",
    "        return \"\""
   ]
  },
  {
   "cell_type": "code",
   "execution_count": 46,
   "metadata": {},
   "outputs": [
    {
     "data": {
      "text/plain": [
       "'aba'"
      ]
     },
     "execution_count": 46,
     "metadata": {},
     "output_type": "execute_result"
    }
   ],
   "source": [
    "Solution().reorganizeString(S = \"aab\")"
   ]
  },
  {
   "cell_type": "code",
   "execution_count": 47,
   "metadata": {},
   "outputs": [
    {
     "data": {
      "text/plain": [
       "''"
      ]
     },
     "execution_count": 47,
     "metadata": {},
     "output_type": "execute_result"
    }
   ],
   "source": [
    "Solution().reorganizeString(S = \"aaab\")"
   ]
  },
  {
   "cell_type": "code",
   "execution_count": 48,
   "metadata": {},
   "outputs": [
    {
     "data": {
      "text/plain": [
       "'ababaca'"
      ]
     },
     "execution_count": 48,
     "metadata": {},
     "output_type": "execute_result"
    }
   ],
   "source": [
    "Solution().reorganizeString(S = \"aaaabbc\")"
   ]
  },
  {
   "cell_type": "code",
   "execution_count": 49,
   "metadata": {},
   "outputs": [
    {
     "data": {
      "text/plain": [
       "'abcabdabac'"
      ]
     },
     "execution_count": 49,
     "metadata": {},
     "output_type": "execute_result"
    }
   ],
   "source": [
    "Solution().reorganizeString(S = \"aaaabbbccd\")"
   ]
  },
  {
   "cell_type": "code",
   "execution_count": 50,
   "metadata": {},
   "outputs": [
    {
     "data": {
      "text/plain": [
       "'abababacacada'"
      ]
     },
     "execution_count": 50,
     "metadata": {},
     "output_type": "execute_result"
    }
   ],
   "source": [
    "Solution().reorganizeString(S = \"aaaaaaabbbccd\")"
   ]
  },
  {
   "cell_type": "code",
   "execution_count": 51,
   "metadata": {},
   "outputs": [
    {
     "data": {
      "text/plain": [
       "'hmoyz'"
      ]
     },
     "execution_count": 51,
     "metadata": {},
     "output_type": "execute_result"
    }
   ],
   "source": [
    "Solution().reorganizeString(S = \"zhmyo\") # \"hymzo\""
   ]
  },
  {
   "cell_type": "code",
   "execution_count": null,
   "metadata": {},
   "outputs": [],
   "source": []
  }
 ],
 "metadata": {
  "kernelspec": {
   "display_name": "Python 3",
   "language": "python",
   "name": "python3"
  },
  "language_info": {
   "codemirror_mode": {
    "name": "ipython",
    "version": 3
   },
   "file_extension": ".py",
   "mimetype": "text/x-python",
   "name": "python",
   "nbconvert_exporter": "python",
   "pygments_lexer": "ipython3",
   "version": "3.6.8"
  }
 },
 "nbformat": 4,
 "nbformat_minor": 2
}
