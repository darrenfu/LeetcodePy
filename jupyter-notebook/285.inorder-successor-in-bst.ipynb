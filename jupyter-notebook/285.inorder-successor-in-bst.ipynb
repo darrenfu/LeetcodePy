{
 "cells": [
  {
   "cell_type": "code",
   "execution_count": 2,
   "metadata": {},
   "outputs": [],
   "source": [
    "import sys\n",
    "sys.path.append('..')\n",
    "from leetcode.tree.treenode import TreeNode"
   ]
  },
  {
   "cell_type": "code",
   "execution_count": 16,
   "metadata": {},
   "outputs": [],
   "source": [
    "# To find a successor, you just need to find the smallest one that \n",
    "# is larger than the given value since there are no duplicate values in a BST. \n",
    "\n",
    "# just like the binary search in a sorted list.\n",
    "\n",
    "# T: O(H) where LogN <= H <= N\n",
    "# https://leetcode.com/problems/inorder-successor-in-bst/discuss/72656/JavaPython-solution-O(h)-time-and-O(1)-space-iterative\n",
    "class Solution:\n",
    "    def inorderSuccessor(self, root: 'TreeNode', p: 'TreeNode') -> 'TreeNode':\n",
    "        cur = root\n",
    "        suc = None  # points to the possible successor\n",
    "        while cur:\n",
    "            if p.val < cur.val:\n",
    "                suc = cur\n",
    "                cur = cur.left\n",
    "            else:\n",
    "                cur = cur.right\n",
    "        return suc"
   ]
  },
  {
   "cell_type": "code",
   "execution_count": 17,
   "metadata": {},
   "outputs": [
    {
     "name": "stdout",
     "output_type": "stream",
     "text": [
      "TreeNode(val: 2, left: TreeNode(val: 1, left: None, right: None), right: TreeNode(val: 3, left: None, right: None))\n"
     ]
    },
    {
     "data": {
      "text/plain": [
       "2"
      ]
     },
     "execution_count": 17,
     "metadata": {},
     "output_type": "execute_result"
    }
   ],
   "source": [
    "root = TreeNode.deserialize('[2,1,3]')\n",
    "print(root)\n",
    "res = Solution().inorderSuccessor(root=root, p=TreeNode(1))\n",
    "res.val if res else 'null'"
   ]
  },
  {
   "cell_type": "code",
   "execution_count": 18,
   "metadata": {},
   "outputs": [
    {
     "name": "stdout",
     "output_type": "stream",
     "text": [
      "TreeNode(val: 5, left: TreeNode(val: 3, left: TreeNode(val: 2, left: TreeNode(val: 1, left: None, right: None), right: None), right: TreeNode(val: 4, left: None, right: None)), right: TreeNode(val: 6, left: None, right: None))\n"
     ]
    },
    {
     "data": {
      "text/plain": [
       "'null'"
      ]
     },
     "execution_count": 18,
     "metadata": {},
     "output_type": "execute_result"
    }
   ],
   "source": [
    "root = TreeNode.deserialize('[5,3,6,2,4,null,null,1]')\n",
    "print(root)\n",
    "res = Solution().inorderSuccessor(root=root, p=TreeNode(6))\n",
    "res.val if res else 'null'"
   ]
  },
  {
   "cell_type": "code",
   "execution_count": null,
   "metadata": {},
   "outputs": [],
   "source": []
  }
 ],
 "metadata": {
  "kernelspec": {
   "display_name": "Python 3",
   "language": "python",
   "name": "python3"
  },
  "language_info": {
   "codemirror_mode": {
    "name": "ipython",
    "version": 3
   },
   "file_extension": ".py",
   "mimetype": "text/x-python",
   "name": "python",
   "nbconvert_exporter": "python",
   "pygments_lexer": "ipython3",
   "version": "3.6.8"
  }
 },
 "nbformat": 4,
 "nbformat_minor": 2
}
