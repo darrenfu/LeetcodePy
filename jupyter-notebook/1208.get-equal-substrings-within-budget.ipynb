{
 "cells": [
  {
   "cell_type": "code",
   "execution_count": 60,
   "metadata": {},
   "outputs": [],
   "source": [
    "# Binary search\n",
    "# Runtime: 340 ms, faster than 10.00%\n",
    "from bisect import *\n",
    "class Solution:\n",
    "    def equalSubstring(self, s: str, t: str, maxCost: int) -> int:\n",
    "        diff = [abs(ord(c1)-ord(c2)) for c1, c2 in zip(s, t)]\n",
    "        presums = []\n",
    "        presum = 0\n",
    "        for d in diff:\n",
    "            presum += d\n",
    "            presums += presum,\n",
    "        isr_idx = bisect_right(presums, maxCost)\n",
    "        res = isr_idx\n",
    "        for i in range(isr_idx+1,len(presums)):\n",
    "            lo, hi = 0, i-res\n",
    "            newlen = res\n",
    "            while lo < hi:\n",
    "                mid = (lo+hi)//2\n",
    "                if presums[i]-presums[mid] <= maxCost:\n",
    "                    newlen = i-mid\n",
    "                    hi = mid\n",
    "                else: lo = mid+1\n",
    "            res = max(res, newlen)\n",
    "        return res"
   ]
  },
  {
   "cell_type": "code",
   "execution_count": 62,
   "metadata": {},
   "outputs": [],
   "source": [
    "# Sliding window + suffix array @wice\n",
    "# O(N)\n",
    "# Runtime: 88 ms, faster than 100.00%\n",
    "class Solution:\n",
    "    def equalSubstring(self, S: str, T: str, maxCost: int) -> int:\n",
    "        N = len(S)\n",
    "        A = [abs(ord(S[i]) - ord(T[i])) for i in range(N)]\n",
    "        left = 0\n",
    "        windowsum = 0\n",
    "        ans = 0\n",
    "        for right, x in enumerate(A):\n",
    "            windowsum += x\n",
    "            # given right, move left to the rightmost\n",
    "            while windowsum > maxCost and left <= right:\n",
    "                windowsum -= A[left]\n",
    "                left += 1\n",
    "            cand = right - left + 1\n",
    "            # if sliding window is larger than previous window, use the new sliding window\n",
    "            if cand > ans: ans = cand\n",
    "        return ans"
   ]
  },
  {
   "cell_type": "code",
   "execution_count": 64,
   "metadata": {},
   "outputs": [
    {
     "data": {
      "text/plain": [
       "1"
      ]
     },
     "execution_count": 64,
     "metadata": {},
     "output_type": "execute_result"
    }
   ],
   "source": [
    "Solution().equalSubstring(\"abcd\", \"cdef\", maxCost = 3)"
   ]
  },
  {
   "cell_type": "code",
   "execution_count": 65,
   "metadata": {},
   "outputs": [
    {
     "data": {
      "text/plain": [
       "1"
      ]
     },
     "execution_count": 65,
     "metadata": {},
     "output_type": "execute_result"
    }
   ],
   "source": [
    "Solution().equalSubstring(\"abcd\", \"acde\", maxCost = 0)"
   ]
  },
  {
   "cell_type": "code",
   "execution_count": 66,
   "metadata": {},
   "outputs": [
    {
     "data": {
      "text/plain": [
       "3"
      ]
     },
     "execution_count": 66,
     "metadata": {},
     "output_type": "execute_result"
    }
   ],
   "source": [
    "Solution().equalSubstring(\"abcd\", \"bcdf\", maxCost = 3)"
   ]
  },
  {
   "cell_type": "code",
   "execution_count": 67,
   "metadata": {},
   "outputs": [
    {
     "data": {
      "text/plain": [
       "1834"
      ]
     },
     "execution_count": 67,
     "metadata": {},
     "output_type": "execute_result"
    }
   ],
   "source": [
    "Solution().equalSubstring(\"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\", \"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\", 15423)"
   ]
  },
  {
   "cell_type": "code",
   "execution_count": 63,
   "metadata": {},
   "outputs": [
    {
     "data": {
      "text/plain": [
       "0"
      ]
     },
     "execution_count": 63,
     "metadata": {},
     "output_type": "execute_result"
    }
   ],
   "source": [
    "Solution().equalSubstring(\"abcd\", \"cdef\", 1)"
   ]
  },
  {
   "cell_type": "code",
   "execution_count": null,
   "metadata": {},
   "outputs": [],
   "source": []
  }
 ],
 "metadata": {
  "kernelspec": {
   "display_name": "Python 3",
   "language": "python",
   "name": "python3"
  },
  "language_info": {
   "codemirror_mode": {
    "name": "ipython",
    "version": 3
   },
   "file_extension": ".py",
   "mimetype": "text/x-python",
   "name": "python",
   "nbconvert_exporter": "python",
   "pygments_lexer": "ipython3",
   "version": "3.6.8"
  }
 },
 "nbformat": 4,
 "nbformat_minor": 2
}
