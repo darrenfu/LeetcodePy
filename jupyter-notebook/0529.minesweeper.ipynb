{
 "cells": [
  {
   "cell_type": "code",
   "execution_count": 25,
   "metadata": {},
   "outputs": [],
   "source": [
    "# BFS\n",
    "# Runtime: 204 ms, faster than 96.75%\n",
    "# https://leetcode.com/problems/minesweeper/discuss/284461/Python-BFS\n",
    "# https://leetcode.com/problems/minesweeper/discuss/99897/10-line-python-solution\n",
    "from typing import List, Generator\n",
    "\n",
    "class Solution:\n",
    "    def updateBoard(self, board: List[List[str]], click: List[int]) -> List[List[str]]:\n",
    "        R, C = len(board), len(board[0])\n",
    "        delta = [(-1, 0), (1, 0), (0, 1), (0, -1), (-1, 1), (-1, -1), (1, 1), (1, -1)]\n",
    "        q = [tuple(click)]\n",
    "        visited = set([tuple(click)])\n",
    "        # click 'B', 'M', 'X', or '1'-'9'\n",
    "        r, c = q[-1]\n",
    "        if board[r][c] != 'E':\n",
    "            if board[r][c] == 'M':\n",
    "                board[r][c] = 'X'\n",
    "            return board\n",
    "        \n",
    "        # click 'E'\n",
    "        while q:\n",
    "            r, c = q.pop(0)\n",
    "            neighbors = [(r+dr, c+dc) for dr, dc in delta if 0 <= r+dr < R and 0 <= c+dc < C]\n",
    "            # with at least one adjacent mine\n",
    "            mine_cnt = sum(board[nr][nc] == 'M' for nr, nc in neighbors)\n",
    "            board[r][c] = str(mine_cnt or 'B') # if no mine arouset it to 'B'\n",
    "            if mine_cnt == 0: # with no adjacent mine, enqueue\n",
    "                for nr, nc in neighbors: # enqueue valid neighbors only\n",
    "                    if (nr, nc) not in visited:\n",
    "                        q.append((nr, nc))\n",
    "                        visited.add((nr, nc))\n",
    "        return board"
   ]
  },
  {
   "cell_type": "code",
   "execution_count": 5,
   "metadata": {},
   "outputs": [],
   "source": [
    "# DFS\n",
    "# Runtime: 216 ms, faster than 63.70%\n",
    "from typing import List, Generator\n",
    "\n",
    "class Solution:\n",
    "    def updateBoard(self, board: List[List[str]], click: List[int]) -> List[List[str]]:\n",
    "        R, C = len(board), len(board[0])\n",
    "        delta = [(-1, 0), (1, 0), (0, 1), (0, -1), (-1, 1), (-1, -1), (1, 1), (1, -1)]\n",
    "        \n",
    "        r, c = click[0], click[1]\n",
    "        if board[r][c] != 'E':\n",
    "            if board[r][c] == 'M':\n",
    "                board[r][c] = 'X'\n",
    "            return board\n",
    "        \n",
    "        def dfs(r: int, c: int):\n",
    "            nonlocal R, C\n",
    "            if board[r][c] != 'E': return\n",
    "            neighbors = [(r+dr, c+dc) for dr, dc in delta if 0 <= r+dr < R and 0 <= c+dc < C]\n",
    "            mine_cnt = sum(board[nr][nc] == 'M' for nr, nc in neighbors)\n",
    "            if mine_cnt > 0:\n",
    "                board[r][c] = str(mine_cnt)\n",
    "                return\n",
    "            board[r][c] = 'B'\n",
    "            for nr, nc in neighbors:\n",
    "                dfs(nr, nc)\n",
    "        \n",
    "        dfs(r, c)\n",
    "        return board"
   ]
  },
  {
   "cell_type": "code",
   "execution_count": 6,
   "metadata": {},
   "outputs": [
    {
     "data": {
      "text/plain": [
       "[['B', '1', 'E', '1', 'B'],\n",
       " ['B', '1', 'M', '1', 'B'],\n",
       " ['B', '1', '1', '1', 'B'],\n",
       " ['B', 'B', 'B', 'B', 'B']]"
      ]
     },
     "execution_count": 6,
     "metadata": {},
     "output_type": "execute_result"
    }
   ],
   "source": [
    "Solution().updateBoard(board=[['E', 'E', 'E', 'E', 'E'],\n",
    " ['E', 'E', 'M', 'E', 'E'],\n",
    " ['E', 'E', 'E', 'E', 'E'],\n",
    " ['E', 'E', 'E', 'E', 'E']], click=[3,0])"
   ]
  },
  {
   "cell_type": "code",
   "execution_count": 7,
   "metadata": {},
   "outputs": [
    {
     "data": {
      "text/plain": [
       "[['B', '1', 'E', '1', 'B'],\n",
       " ['B', '1', 'X', '1', 'B'],\n",
       " ['B', '1', '1', '1', 'B'],\n",
       " ['B', 'B', 'B', 'B', 'B']]"
      ]
     },
     "execution_count": 7,
     "metadata": {},
     "output_type": "execute_result"
    }
   ],
   "source": [
    "Solution().updateBoard(board=[['B', '1', 'E', '1', 'B'],\n",
    " ['B', '1', 'M', '1', 'B'],\n",
    " ['B', '1', '1', '1', 'B'],\n",
    " ['B', 'B', 'B', 'B', 'B']], click=[1,2])"
   ]
  },
  {
   "cell_type": "code",
   "execution_count": null,
   "metadata": {},
   "outputs": [],
   "source": []
  }
 ],
 "metadata": {
  "kernelspec": {
   "display_name": "Python 3",
   "language": "python",
   "name": "python3"
  },
  "language_info": {
   "codemirror_mode": {
    "name": "ipython",
    "version": 3
   },
   "file_extension": ".py",
   "mimetype": "text/x-python",
   "name": "python",
   "nbconvert_exporter": "python",
   "pygments_lexer": "ipython3",
   "version": "3.6.8"
  }
 },
 "nbformat": 4,
 "nbformat_minor": 2
}
