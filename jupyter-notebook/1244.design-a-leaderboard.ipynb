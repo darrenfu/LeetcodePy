{
 "cells": [
  {
   "cell_type": "code",
   "execution_count": 102,
   "metadata": {},
   "outputs": [],
   "source": [
    "from collections import Counter\n",
    "\n",
    "class Leaderboard:\n",
    "\n",
    "    def __init__(self):\n",
    "        self.C = Counter()\n",
    "\n",
    "    # O(1)\n",
    "    def addScore(self, playerId: int, score: int) -> None:\n",
    "        self.C[playerId] += score\n",
    "\n",
    "    # O(N)\n",
    "    def top(self, K: int) -> int:\n",
    "        return sum(score for _, score in self.C.most_common(K))\n",
    "    \n",
    "    # O(1)\n",
    "    def reset(self, playerId: int) -> None:\n",
    "        self.C[playerId] = 0"
   ]
  },
  {
   "cell_type": "code",
   "execution_count": 103,
   "metadata": {},
   "outputs": [
    {
     "name": "stdout",
     "output_type": "stream",
     "text": [
      "73\n",
      "141\n",
      "2.7 ms ± 0 ns per loop (mean ± std. dev. of 1 run, 1 loop each)\n"
     ]
    }
   ],
   "source": [
    "%%timeit -r 1 -n 1\n",
    "# Your Leaderboard object will be instantiated and called as such:\n",
    "obj = Leaderboard()\n",
    "obj.addScore(1,73)\n",
    "obj.addScore(2,56)\n",
    "obj.addScore(3,39)\n",
    "obj.addScore(4,51)\n",
    "obj.addScore(5,4)\n",
    "print(obj.top(1))\n",
    "obj.reset(1)\n",
    "obj.reset(2)\n",
    "obj.addScore(2,51)\n",
    "print(obj.top(3))"
   ]
  },
  {
   "cell_type": "code",
   "execution_count": 104,
   "metadata": {},
   "outputs": [
    {
     "name": "stdout",
     "output_type": "stream",
     "text": [
      "73\n",
      "153\n"
     ]
    }
   ],
   "source": [
    "obj = Leaderboard()\n",
    "obj.addScore(1,73)\n",
    "obj.addScore(2,56)\n",
    "obj.addScore(3,39)\n",
    "obj.addScore(4,51)\n",
    "obj.addScore(5,4)\n",
    "obj.addScore(6,51)\n",
    "print(obj.top(1))\n",
    "obj.reset(1)\n",
    "obj.reset(2)\n",
    "obj.addScore(2,51)\n",
    "print(obj.top(3))"
   ]
  },
  {
   "cell_type": "code",
   "execution_count": 99,
   "metadata": {},
   "outputs": [],
   "source": [
    "# HashMap + TreeMap (array + dict)\n",
    "# Runtime: 56 ms, faster than 97.84%\n",
    "# https://leetcode.com/problems/design-a-leaderboard/discuss/419015/Optimal-Solution-with-some-explanation%3A-HashMap-%2B-TreeMap\n",
    "from bisect import *\n",
    "from collections import defaultdict\n",
    "\n",
    "class Leaderboard:\n",
    "\n",
    "    def __init__(self):\n",
    "        self.scores = []\n",
    "        self.score2cnt = defaultdict(int)\n",
    "        self.pid2score = defaultdict(int)\n",
    "\n",
    "    # O(logN)\n",
    "    def addScore(self, playerId: int, score: int) -> None:\n",
    "        org_score = self.pid2score[playerId]\n",
    "        new_score = org_score + score\n",
    "        new_cnt = self.score2cnt[new_score]\n",
    "        if self.pid2score[playerId] > 0: # player found\n",
    "            self.score2cnt[org_score] -= 1\n",
    "            if self.score2cnt[org_score] == 0: # that is the last org_score found\n",
    "                idx = bisect_left(self.scores, org_score)\n",
    "                del self.scores[idx]\n",
    "        if new_cnt == 0: # no new_score found in dict\n",
    "            insort(self.scores, new_score)\n",
    "        self.score2cnt[new_score] += 1\n",
    "        self.pid2score[playerId] = new_score\n",
    "\n",
    "    # O(K)\n",
    "    def top(self, K: int) -> int:\n",
    "        total = 0\n",
    "        res = 0\n",
    "        for score in self.scores[::-1]:\n",
    "            cnt = self.score2cnt[score]\n",
    "            if total + cnt >= K:\n",
    "                res += score * (K-total)\n",
    "                break\n",
    "            else:\n",
    "                res += score * cnt\n",
    "            total += cnt\n",
    "        return res\n",
    "    \n",
    "    # O(logN)\n",
    "    def reset(self, playerId: int) -> None:\n",
    "        score = self.pid2score[playerId]\n",
    "        self.score2cnt[score] -= 1\n",
    "        if not self.score2cnt[score]:\n",
    "            idx = bisect_left(self.scores, score)\n",
    "            del self.scores[idx]\n",
    "        self.pid2score[playerId] = 0"
   ]
  },
  {
   "cell_type": "code",
   "execution_count": 100,
   "metadata": {},
   "outputs": [
    {
     "name": "stdout",
     "output_type": "stream",
     "text": [
      "73\n",
      "141\n",
      "1.44 ms ± 0 ns per loop (mean ± std. dev. of 1 run, 1 loop each)\n"
     ]
    }
   ],
   "source": [
    "%%timeit -r 1 -n 1\n",
    "# Your Leaderboard object will be instantiated and called as such:\n",
    "obj = Leaderboard()\n",
    "obj.addScore(1,73)\n",
    "obj.addScore(2,56)\n",
    "obj.addScore(3,39)\n",
    "obj.addScore(4,51)\n",
    "obj.addScore(5,4)\n",
    "print(obj.top(1))\n",
    "obj.reset(1)\n",
    "obj.reset(2)\n",
    "obj.addScore(2,51)\n",
    "print(obj.top(3))"
   ]
  },
  {
   "cell_type": "code",
   "execution_count": 101,
   "metadata": {},
   "outputs": [
    {
     "name": "stdout",
     "output_type": "stream",
     "text": [
      "73\n",
      "153\n"
     ]
    }
   ],
   "source": [
    "obj = Leaderboard()\n",
    "obj.addScore(1,73)\n",
    "obj.addScore(2,56)\n",
    "obj.addScore(3,39)\n",
    "obj.addScore(4,51)\n",
    "obj.addScore(5,4)\n",
    "obj.addScore(6,51)\n",
    "print(obj.top(1))\n",
    "obj.reset(1)\n",
    "obj.reset(2)\n",
    "obj.addScore(2,51)\n",
    "print(obj.top(3))"
   ]
  },
  {
   "cell_type": "code",
   "execution_count": null,
   "metadata": {},
   "outputs": [],
   "source": []
  }
 ],
 "metadata": {
  "kernelspec": {
   "display_name": "Python 3",
   "language": "python",
   "name": "python3"
  },
  "language_info": {
   "codemirror_mode": {
    "name": "ipython",
    "version": 3
   },
   "file_extension": ".py",
   "mimetype": "text/x-python",
   "name": "python",
   "nbconvert_exporter": "python",
   "pygments_lexer": "ipython3",
   "version": "3.6.8"
  }
 },
 "nbformat": 4,
 "nbformat_minor": 2
}
