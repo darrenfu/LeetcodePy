{
 "cells": [
  {
   "cell_type": "markdown",
   "metadata": {},
   "source": [
    "### [1301\\. Number of Paths with Max Score](https://leetcode.com/problems/number-of-paths-with-max-score/)\n",
    "\n",
    "Difficulty: **Hard**\n",
    "\n",
    "\n",
    "You are given a square `board` of characters. You can move on the board starting at the bottom right square marked with the character `'S'`.\n",
    "\n",
    "You need to reach the top left square marked with the character `'E'`. The rest of the squares are labeled either with a numeric character `1, 2, ..., 9` or with an obstacle `'X'`. In one move you can go up, left or up-left (diagonally) only if there is no obstacle there.\n",
    "\n",
    "Return a list of two integers: the first integer is the maximum sum of numeric characters you can collect, and the second is the number of such paths that you can take to get that maximum sum, **taken modulo `10^9 + 7`**.\n",
    "\n",
    "In case there is no path, return `[0, 0]`.\n",
    "\n",
    "**Example 1:**\n",
    "\n",
    "```\n",
    "Input: board = [\"E23\",\"2X2\",\"12S\"]\n",
    "Output: [7,1]\n",
    "```\n",
    "\n",
    "**Example 2:**\n",
    "\n",
    "```\n",
    "Input: board = [\"E12\",\"1X1\",\"21S\"]\n",
    "Output: [4,2]\n",
    "```\n",
    "\n",
    "**Example 3:**\n",
    "\n",
    "```\n",
    "Input: board = [\"E11\",\"XXX\",\"11S\"]\n",
    "Output: [0,0]\n",
    "```\n",
    "\n",
    "**Constraints:**\n",
    "\n",
    "*   `2 <= board.length == board[i].length <= 100`"
   ]
  },
  {
   "cell_type": "code",
   "execution_count": null,
   "metadata": {},
   "outputs": [],
   "source": [
    "class Solution:\n",
    "    def pathsWithMaxScore(self, board: List[str]) -> List[int]:\n",
    "        def toInts(board: List[str]) -> List[List[int]]:\n",
    "            ss = map(list, board)\n",
    "            ss[0][0] = 0\n",
    "            ss[-1][-1] = 0\n",
    "            for r in range(R):\n",
    "                for c in range(C):\n",
    "                    if board[r][c] == 'X':\n",
    "                        board[r][c] = '-1'\n",
    "            return [map(int, board[r]) for r in range(R)]\n",
    "                        \n",
    "        def neighbors(x:int, y:int):\n",
    "            for dx,dy in ((x+1,y),(x,y+1),(x+1,y+1)):\n",
    "                if dx < R and dy < C and board[dx][dy] != -1:\n",
    "                    yield(dx,dy)\n",
    "        R, C = len(board), len(board[0])\n",
    "        B = toInts(board)\n",
    "        # max sum, number of paths to get max sum\n",
    "        dp = [[0, 0] * (C+1) for _ in range(R+1)]\n",
    "        dp[0][0][1] = \n",
    "        q = [(0,0)]\n",
    "        visited = set(q)\n",
    "        while q:\n",
    "            x, y = q.pop(0)\n",
    "            for dx, dy in neighbors(x,y):\n",
    "                if (dx,dy) not in visited:\n",
    "                    visited.add((dx,dy))\n",
    "                dp[dx][dy] = max(dp[dx][dy], dp[x][y] + int(board[dx][dy]))\n",
    "                q += (dx,dy),\n",
    "        return dp[-1][-1]"
   ]
  }
 ],
 "metadata": {
  "kernelspec": {
   "display_name": "Python 3",
   "language": "python",
   "name": "python3"
  },
  "language_info": {
   "codemirror_mode": {
    "name": "ipython",
    "version": 3
   },
   "file_extension": ".py",
   "mimetype": "text/x-python",
   "name": "python",
   "nbconvert_exporter": "python",
   "pygments_lexer": "ipython3",
   "version": "3.6.8"
  }
 },
 "nbformat": 4,
 "nbformat_minor": 2
}
