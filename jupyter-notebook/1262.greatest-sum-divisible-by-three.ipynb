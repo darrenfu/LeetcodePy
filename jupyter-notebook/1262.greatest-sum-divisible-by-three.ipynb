{
 "cells": [
  {
   "cell_type": "code",
   "execution_count": 57,
   "metadata": {},
   "outputs": [],
   "source": [
    "# TLE: heap pop is O(logN)\n",
    "# total is: O(N*(logN)^2)\n",
    "\n",
    "# even if we use sorted array, still O(N*logN)\n",
    "from typing import List\n",
    "from heapq import *\n",
    "\n",
    "class Solution:\n",
    "    def maxSumDivThree(self, nums: List[int]) -> int:\n",
    "        cnts = [0] * 3\n",
    "        res = 0\n",
    "        heaps = [[],[],[]]\n",
    "        \n",
    "        for v in nums:\n",
    "            mod = v % 3\n",
    "            cnts[mod] += 1\n",
    "            if mod == 0:\n",
    "                res += v\n",
    "            else:\n",
    "                heaps[mod].append(v)\n",
    "                heaps[mod].sort()\n",
    "#                 heappush(heaps[mod], -v)\n",
    "                \n",
    "        def dp(heap1: List[int], heap2: List[int], sm: int):\n",
    "            nonlocal max_res\n",
    "            if (not heap1 and len(heap2) < 3) or (not heap2 and len(heap1) < 3):\n",
    "                if sm > max_res:\n",
    "                    max_res = sm\n",
    "                return\n",
    "            if len(heap1) >= 3:# and (not heap2 or heap1[-3] > heap2[-1]):\n",
    "                h1 = heap1[:]\n",
    "                h2 = heap2\n",
    "                v = sum(h1[-3:])\n",
    "#                 v = heappop(h1) + heappop(h1) + heappop(h1)\n",
    "                dp(h1[:-3], h2, sm+v)\n",
    "                if (not heap2 or heap1[-3] > heap2[-1]):\n",
    "                    return\n",
    "            if len(heap2) >= 3:# and (not heap1 or heap2[-3] > heap1[-1]):\n",
    "                h1 = heap1\n",
    "                h2 = heap2[:]\n",
    "                v = sum(h2[-3:])\n",
    "#                 v = heappop(h2) + heappop(h2) + heappop(h2)\n",
    "                dp(h1, h2[:-3], sm+v)\n",
    "                if (not heap1 or heap2[-3] > heap1[-1]):\n",
    "                    return\n",
    "            if heap1 and heap2:\n",
    "                h1 = heap1[:]\n",
    "                h2 = heap2[:]\n",
    "                v = h1[-1] + h2[-1]\n",
    "#                 v = heappop(h1) + heappop(h2)\n",
    "                dp(h1[:-1], h2[:-1], sm+v)\n",
    "                \n",
    "        max_res = 0\n",
    "        dp(heaps[1], heaps[2], 0)\n",
    "        return res + max_res"
   ]
  },
  {
   "cell_type": "code",
   "execution_count": 67,
   "metadata": {},
   "outputs": [],
   "source": [
    "# math solution\n",
    "# https://leetcode.com/problems/greatest-sum-divisible-by-three/discuss/431057/Python-Math-Solution\n",
    "from typing import List\n",
    "\n",
    "class Solution:\n",
    "    def maxSumDivThree(self, nums: List[int]) -> int:\n",
    "        res, remove = 0, float('inf')\n",
    "        mods1, mods2 = [], []\n",
    "        for v in nums:\n",
    "            mod = v % 3\n",
    "            if mod == 0:\n",
    "                res += v\n",
    "            elif mod == 1:\n",
    "                mods1.append(v)\n",
    "            else:\n",
    "                mods2.append(v)\n",
    "        mods1.sort(reverse=True)\n",
    "        mods2.sort(reverse=True)\n",
    "        tmp = sum(mods1) + sum(mods2)\n",
    "        mod = tmp % 3\n",
    "        if mod == 0:\n",
    "            return res + tmp\n",
    "        elif mod == 1:\n",
    "            # should remove one smallest element from mods1 or two smallest ones from mods2\n",
    "            if len(mods1) > 0: remove = min(remove, mods1[-1])\n",
    "            if len(mods2) >= 2: remove = min(remove, mods2[-1] + mods2[-2])\n",
    "        else:\n",
    "            if len(mods2) > 0: remove = min(remove, mods2[-1])\n",
    "            if len(mods1) >= 2: remove = min(remove, mods1[-1] + mods1[-2])\n",
    "        return res + tmp - remove"
   ]
  },
  {
   "cell_type": "code",
   "execution_count": 68,
   "metadata": {},
   "outputs": [
    {
     "data": {
      "text/plain": [
       "18"
      ]
     },
     "execution_count": 68,
     "metadata": {},
     "output_type": "execute_result"
    }
   ],
   "source": [
    "Solution().maxSumDivThree(nums = [3,6,5,1,8])"
   ]
  },
  {
   "cell_type": "code",
   "execution_count": 69,
   "metadata": {},
   "outputs": [
    {
     "data": {
      "text/plain": [
       "60"
      ]
     },
     "execution_count": 69,
     "metadata": {},
     "output_type": "execute_result"
    }
   ],
   "source": [
    "Solution().maxSumDivThree(nums = [3,6,5,1,8,11,14,17])"
   ]
  },
  {
   "cell_type": "code",
   "execution_count": 70,
   "metadata": {},
   "outputs": [
    {
     "data": {
      "text/plain": [
       "12"
      ]
     },
     "execution_count": 70,
     "metadata": {},
     "output_type": "execute_result"
    }
   ],
   "source": [
    "Solution().maxSumDivThree(nums = [1,2,3,4,4])"
   ]
  },
  {
   "cell_type": "code",
   "execution_count": 71,
   "metadata": {},
   "outputs": [
    {
     "data": {
      "text/plain": [
       "0"
      ]
     },
     "execution_count": 71,
     "metadata": {},
     "output_type": "execute_result"
    }
   ],
   "source": [
    "Solution().maxSumDivThree(nums = [4])"
   ]
  },
  {
   "cell_type": "code",
   "execution_count": 72,
   "metadata": {},
   "outputs": [
    {
     "data": {
      "text/plain": [
       "50487"
      ]
     },
     "execution_count": 72,
     "metadata": {},
     "output_type": "execute_result"
    }
   ],
   "source": [
    "Solution().maxSumDivThree([366,809,6,792,822,181,210,588,344,618,341,410,121,864,191,749,637,169,123,472,358,908,235,914,322,946,738,754,908,272,267,326,587,267,803,281,586,707,94,627,724,469,568,57,103,984,787,552,14,545,866,494,263,157,479,823,835,100,495,773,729,921,348,871,91,386,183,979,716,806,639,290,612,322,289,910,484,300,195,546,499,213,8,623,490,473,603,721,793,418,551,331,598,670,960,483,154,317,834,352])"
   ]
  },
  {
   "cell_type": "code",
   "execution_count": null,
   "metadata": {},
   "outputs": [],
   "source": []
  }
 ],
 "metadata": {
  "kernelspec": {
   "display_name": "Python 3",
   "language": "python",
   "name": "python3"
  },
  "language_info": {
   "codemirror_mode": {
    "name": "ipython",
    "version": 3
   },
   "file_extension": ".py",
   "mimetype": "text/x-python",
   "name": "python",
   "nbconvert_exporter": "python",
   "pygments_lexer": "ipython3",
   "version": "3.6.8"
  }
 },
 "nbformat": 4,
 "nbformat_minor": 2
}
