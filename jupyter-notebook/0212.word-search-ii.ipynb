{
 "cells": [
  {
   "cell_type": "markdown",
   "metadata": {},
   "source": [
    "### [212\\. Word Search II](https://leetcode.com/problems/word-search-ii/)\n",
    "\n",
    "Difficulty: **Hard**\n",
    "\n",
    "\n",
    "Given a 2D board and a list of words from the dictionary, find all words in the board.\n",
    "\n",
    "Each word must be constructed from letters of sequentially adjacent cell, where \"adjacent\" cells are those horizontally or vertically neighboring. The same letter cell may not be used more than once in a word.\n",
    "\n",
    "**Example:**\n",
    "\n",
    "```\n",
    "Input: \n",
    "board = [\n",
    "  ['o','a','a','n'],\n",
    "  ['e','t','a','e'],\n",
    "  ['i','h','k','r'],\n",
    "  ['i','f','l','v']\n",
    "]\n",
    "words = [\"oath\",\"pea\",\"eat\",\"rain\"]\n",
    "\n",
    "Output: [\"eat\",\"oath\"]\n",
    "```\n",
    "\n",
    "**Note:**\n",
    "\n",
    "1.  All inputs are consist of lowercase letters `a-z`.\n",
    "2.  The values of `words` are distinct."
   ]
  },
  {
   "cell_type": "code",
   "execution_count": 6,
   "metadata": {},
   "outputs": [],
   "source": [
    "from collections import defaultdict\n",
    "\n",
    "class TrieNode:\n",
    "    def __init__(self):\n",
    "        self.children = defaultdict(TrieNode)\n",
    "        self.isWord = False\n",
    "        \n",
    "class Trie:\n",
    "    def __init__(self):\n",
    "        self.root = TrieNode()\n",
    "    \n",
    "    def insert(self, word: str) -> None:\n",
    "        node = self.root\n",
    "        for ch in word:\n",
    "            node = node.children[ch]\n",
    "        node.isWord = True"
   ]
  },
  {
   "cell_type": "code",
   "execution_count": 19,
   "metadata": {},
   "outputs": [],
   "source": [
    "# Trie (incorrect with third test case)\n",
    "# https://leetcode.com/problems/word-search-ii/discuss/59790/Python-dfs-solution-(directly-use-Trie-implemented)\n",
    "from typing import List,Generator\n",
    "\n",
    "class Solution:\n",
    "    def findWords(self, board: List[List[str]], words: List[str]) -> List[str]:\n",
    "        # construct a Trie from words candidates\n",
    "        trie = Trie()\n",
    "        for w in words:\n",
    "            trie.insert(w)\n",
    "            \n",
    "        def neighbors(i: int, j: int) -> Generator:\n",
    "            for x, y in ((i+1,j),(i-1,j),(i,j+1),(i,j-1)):\n",
    "                # move boundary check to dfs() to fix 1-length edge case\n",
    "                yield(x,y)\n",
    "        \n",
    "        def dfs(i: int, j: int, node: TrieNode, stack: List[str], res: List[str]):\n",
    "            if node.isWord:\n",
    "                res.append(''.join(stack))\n",
    "                node.isWord = False # mark this leaf node as visited\n",
    "                return\n",
    "            if not (0<=i<R and 0<=j<C): # boundary check\n",
    "                return\n",
    "            tmp = board[i][j]\n",
    "            node = node.children.get(tmp)\n",
    "            if not node:\n",
    "                return\n",
    "            board[i][j] = '#'\n",
    "            for x, y in neighbors(i, j):\n",
    "                dfs(x, y, node, stack + [tmp], res)\n",
    "            board[i][j] = tmp\n",
    "            \n",
    "        if not board: return []\n",
    "        R, C = len(board), len(board[0])\n",
    "        res = []\n",
    "        for i in range(R):\n",
    "            for j in range(C):\n",
    "                dfs(i, j, trie.root, [], res) # root is a placeholder\n",
    "        return res"
   ]
  },
  {
   "cell_type": "code",
   "execution_count": 23,
   "metadata": {},
   "outputs": [],
   "source": [
    "# faster solution\n",
    "from typing import List,Generator\n",
    "\n",
    "class Solution:\n",
    "    def findWords(self, board: List[List[str]], words: List[str]) -> List[str]:\n",
    "        # construct a Trie from words candidates\n",
    "        trie = Trie()\n",
    "        for w in words:\n",
    "            trie.insert(w)\n",
    "            \n",
    "        def neighbors(i: int, j: int) -> Generator:\n",
    "            for x, y in ((i+1,j),(i-1,j),(i,j+1),(i,j-1)):\n",
    "                if 0<=x<R and 0<=y<C:\n",
    "                    yield(x,y)\n",
    "        \n",
    "        def dfs(i: int, j: int, node: TrieNode, stack: List[str], res: List[str]):\n",
    "            # board[i][j] is the key to access TrieNode (value) in the children dict\n",
    "            if not node: # if key not found in parentNode.children, backtrack\n",
    "                return\n",
    "            if node.isWord:\n",
    "                res.append(''.join(stack))\n",
    "                node.isWord = False # mark this leaf node as visited\n",
    "                # do not return here - edge case: [oat, oath] (some word is the prefix of the other word)\n",
    "            tmp = board[i][j]\n",
    "            board[i][j] = '#'\n",
    "            for x, y in neighbors(i, j):\n",
    "                dfs(x, y, node.children.get(board[x][y]), stack + [board[x][y]], res)\n",
    "            board[i][j] = tmp\n",
    "            \n",
    "        if not board: return []\n",
    "        R, C = len(board), len(board[0])\n",
    "        res = []\n",
    "        for i in range(R):\n",
    "            for j in range(C):\n",
    "                dfs(i, j, trie.root.children.get(board[i][j]), [board[i][j]], res) # root is a placeholder\n",
    "        return res"
   ]
  },
  {
   "cell_type": "code",
   "execution_count": 24,
   "metadata": {},
   "outputs": [
    {
     "data": {
      "text/plain": [
       "['oath', 'eat']"
      ]
     },
     "execution_count": 24,
     "metadata": {},
     "output_type": "execute_result"
    }
   ],
   "source": [
    "Solution().findWords(board = [\n",
    "  ['o','a','a','n'],\n",
    "  ['e','t','a','e'],\n",
    "  ['i','h','k','r'],\n",
    "  ['i','f','l','v']\n",
    "], words = [\"oath\",\"pea\",\"eat\",\"rain\"])"
   ]
  },
  {
   "cell_type": "code",
   "execution_count": 25,
   "metadata": {},
   "outputs": [
    {
     "data": {
      "text/plain": [
       "['a']"
      ]
     },
     "execution_count": 25,
     "metadata": {},
     "output_type": "execute_result"
    }
   ],
   "source": [
    "Solution().findWords(board = [ ['a'] ], words = [\"a\"])"
   ]
  },
  {
   "cell_type": "code",
   "execution_count": 26,
   "metadata": {},
   "outputs": [
    {
     "data": {
      "text/plain": [
       "['oat', 'oath', 'eat']"
      ]
     },
     "execution_count": 26,
     "metadata": {},
     "output_type": "execute_result"
    }
   ],
   "source": [
    "Solution().findWords(board = [\n",
    "  ['o','a','a','n'],\n",
    "  ['e','t','a','e'],\n",
    "  ['i','h','k','r'],\n",
    "  ['i','f','l','v']\n",
    "], words = [\"oath\",\"pea\",\"eat\",\"rain\",\"oat\"])"
   ]
  },
  {
   "cell_type": "code",
   "execution_count": null,
   "metadata": {},
   "outputs": [],
   "source": []
  }
 ],
 "metadata": {
  "kernelspec": {
   "display_name": "Python 3",
   "language": "python",
   "name": "python3"
  },
  "language_info": {
   "codemirror_mode": {
    "name": "ipython",
    "version": 3
   },
   "file_extension": ".py",
   "mimetype": "text/x-python",
   "name": "python",
   "nbconvert_exporter": "python",
   "pygments_lexer": "ipython3",
   "version": "3.6.8"
  }
 },
 "nbformat": 4,
 "nbformat_minor": 2
}
