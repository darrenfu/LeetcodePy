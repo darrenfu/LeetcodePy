{
 "cells": [
  {
   "cell_type": "code",
   "execution_count": 68,
   "metadata": {},
   "outputs": [],
   "source": [
    "from collections import defaultdict\n",
    "from typing import List\n",
    "\n",
    "class TrieNode:\n",
    "    def __init__(self):\n",
    "        self.children = [None] * 26\n",
    "        self.isWord = 0 # use int rather than bool to count duplicate words\n",
    "        self.suggestions = []\n",
    "        \n",
    "class Trie:\n",
    "    def __init__(self):\n",
    "        self.root = TrieNode()\n",
    "        \n",
    "    def __getIdx(self, ch: str) -> int:\n",
    "        return ord(ch) - ord('a')\n",
    "    \n",
    "    def __toChr(self, i: int) -> str:\n",
    "        return chr(i+97)\n",
    "    \n",
    "    def insert(self, word: str):\n",
    "        node = self.root\n",
    "        for ch in word:\n",
    "            i = self.__getIdx(ch)\n",
    "            if not node.children[i]:\n",
    "                node.children[i] = TrieNode()\n",
    "            node = node.children[i]\n",
    "        node.isWord += 1\n",
    "        \n",
    "    def startsWith(self, prefix: str) -> List[str]:\n",
    "        node = self.root\n",
    "        res = []\n",
    "        for ch in prefix:\n",
    "            i = self.__getIdx(ch)\n",
    "            if not node.children[i]:\n",
    "                return res\n",
    "            node = node.children[i]\n",
    "        words = self.dfs(node, list(prefix))\n",
    "        return words\n",
    "        \n",
    "    def dfs(self, node: TrieNode, path: List[str], k: int = 3):\n",
    "        words = []\n",
    "        if not node:\n",
    "            return []\n",
    "        if node.suggestions:\n",
    "            return node.suggestions\n",
    "        if node.isWord:\n",
    "            w = ''.join(path)\n",
    "            words += [w] * node.isWord\n",
    "        for i, c in enumerate(node.children):\n",
    "            ws = self.dfs(c, path + [self.__toChr(i)], k)\n",
    "            words += ws\n",
    "            if len(words) >= k:\n",
    "                node.suggestions = words[:k]\n",
    "                return node.suggestions\n",
    "        node.suggestions = words\n",
    "        return node.suggestions\n",
    "\n",
    "class Solution:\n",
    "    def suggestedProducts(self, products: List[str], searchWord: str) -> List[List[str]]:\n",
    "        trie = Trie()\n",
    "        for w in products:\n",
    "            trie.insert(w)\n",
    "        return [trie.startsWith(searchWord[:i]) for i in range(1, len(searchWord)+1)]"
   ]
  },
  {
   "cell_type": "code",
   "execution_count": null,
   "metadata": {},
   "outputs": [],
   "source": [
    "#TODO:\n",
    "# https://leetcode.com/problems/search-suggestions-system/discuss/436183/Python-Trie-Solution\n",
    "from collections import defaultdict\n",
    "from typing import List\n",
    "\n",
    "class TrieNode:\n",
    "    def __init__(self):\n",
    "        self.children = [None] * 26\n",
    "        self.isWord = 0 # use int rather than bool to count duplicate words\n",
    "        self.suggestions = []\n",
    "        \n",
    "class Trie:\n",
    "    def __init__(self):\n",
    "        self.root = TrieNode()\n",
    "        \n",
    "    def __getIdx(self, ch: str) -> int:\n",
    "        return ord(ch) - ord('a')\n",
    "    \n",
    "    def __toChr(self, i: int) -> str:\n",
    "        return chr(i+97)\n",
    "    \n",
    "    def insert(self, word: str):\n",
    "        node = self.root\n",
    "        for ch in word:\n",
    "            i = self.__getIdx(ch)\n",
    "            if not node.children[i]:\n",
    "                node.children[i] = TrieNode()\n",
    "            node = node.children[i]\n",
    "        node.isWord += 1\n",
    "        \n",
    "    def startsWith(self, prefix: str) -> List[str]:\n",
    "        node = self.root\n",
    "        res = []\n",
    "        for ch in prefix:\n",
    "            i = self.__getIdx(ch)\n",
    "            if not node.children[i]:\n",
    "                return res\n",
    "            node = node.children[i]\n",
    "        words = self.dfs(node, list(prefix))\n",
    "        return words\n",
    "        \n",
    "    def dfs(self, node: TrieNode, path: List[str], k: int = 3):\n",
    "        words = []\n",
    "        if not node:\n",
    "            return []\n",
    "        if node.suggestions:\n",
    "            return node.suggestions\n",
    "        if node.isWord:\n",
    "            w = ''.join(path)\n",
    "            words += [w] * node.isWord\n",
    "        for i, c in enumerate(node.children):\n",
    "            ws = self.dfs(c, path + [self.__toChr(i)], k)\n",
    "            words += ws\n",
    "            if len(words) >= k:\n",
    "                node.suggestions = words[:k]\n",
    "                return node.suggestions\n",
    "        node.suggestions = words\n",
    "        return node.suggestions\n",
    "\n",
    "class Solution:\n",
    "    def suggestedProducts(self, products: List[str], searchWord: str) -> List[List[str]]:\n",
    "        trie = Trie()\n",
    "        for w in products:\n",
    "            trie.insert(w)\n",
    "        return [trie.startsWith(searchWord[:i]) for i in range(1, len(searchWord)+1)]"
   ]
  },
  {
   "cell_type": "code",
   "execution_count": 69,
   "metadata": {},
   "outputs": [
    {
     "data": {
      "text/plain": [
       "[['mobile', 'moneypot', 'monitor'],\n",
       " ['mobile', 'moneypot', 'monitor'],\n",
       " ['mouse', 'mousepad'],\n",
       " ['mouse', 'mousepad'],\n",
       " ['mouse', 'mousepad']]"
      ]
     },
     "execution_count": 69,
     "metadata": {},
     "output_type": "execute_result"
    }
   ],
   "source": [
    "Solution().suggestedProducts(products = [\"mobile\",\"mouse\",\"moneypot\",\"monitor\",\"mousepad\"], searchWord = \"mouse\")"
   ]
  },
  {
   "cell_type": "code",
   "execution_count": 70,
   "metadata": {},
   "outputs": [
    {
     "data": {
      "text/plain": [
       "[['mase', 'mase', 'mobile'],\n",
       " ['mobile', 'moneypot', 'monitor'],\n",
       " ['mouse', 'mouseapple', 'mousepad'],\n",
       " ['mouse', 'mouseapple', 'mousepad'],\n",
       " ['mouse', 'mouseapple', 'mousepad']]"
      ]
     },
     "execution_count": 70,
     "metadata": {},
     "output_type": "execute_result"
    }
   ],
   "source": [
    "# duplicates\n",
    "Solution().suggestedProducts(products = [\"mobile\",\"mouse\",\"moneypot\",\"monitor\",\"mousepad\", \"mase\", \"mase\", \"mouseapple\"], searchWord = \"mouse\")"
   ]
  },
  {
   "cell_type": "code",
   "execution_count": 62,
   "metadata": {},
   "outputs": [
    {
     "data": {
      "text/plain": [
       "[['havana'], ['havana'], ['havana'], ['havana'], ['havana'], ['havana']]"
      ]
     },
     "execution_count": 62,
     "metadata": {},
     "output_type": "execute_result"
    }
   ],
   "source": [
    "Solution().suggestedProducts(products = [\"havana\"], searchWord = \"havana\")"
   ]
  },
  {
   "cell_type": "code",
   "execution_count": 63,
   "metadata": {},
   "outputs": [
    {
     "data": {
      "text/plain": [
       "[['baggage', 'bags', 'banner'],\n",
       " ['baggage', 'bags', 'banner'],\n",
       " ['baggage', 'bags'],\n",
       " ['bags']]"
      ]
     },
     "execution_count": 63,
     "metadata": {},
     "output_type": "execute_result"
    }
   ],
   "source": [
    "Solution().suggestedProducts(products = [\"bags\",\"baggage\",\"banner\",\"box\",\"cloths\"], searchWord = \"bags\")"
   ]
  },
  {
   "cell_type": "code",
   "execution_count": 64,
   "metadata": {},
   "outputs": [
    {
     "data": {
      "text/plain": [
       "[[], [], [], [], [], [], []]"
      ]
     },
     "execution_count": 64,
     "metadata": {},
     "output_type": "execute_result"
    }
   ],
   "source": [
    "Solution().suggestedProducts(products = [\"havana\"], searchWord = \"tatiana\")"
   ]
  },
  {
   "cell_type": "code",
   "execution_count": null,
   "metadata": {},
   "outputs": [],
   "source": []
  }
 ],
 "metadata": {
  "kernelspec": {
   "display_name": "Python 3",
   "language": "python",
   "name": "python3"
  },
  "language_info": {
   "codemirror_mode": {
    "name": "ipython",
    "version": 3
   },
   "file_extension": ".py",
   "mimetype": "text/x-python",
   "name": "python",
   "nbconvert_exporter": "python",
   "pygments_lexer": "ipython3",
   "version": "3.6.8"
  }
 },
 "nbformat": 4,
 "nbformat_minor": 2
}
