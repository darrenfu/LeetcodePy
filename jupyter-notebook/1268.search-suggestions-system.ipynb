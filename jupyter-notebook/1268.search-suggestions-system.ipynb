{
 "cells": [
  {
   "cell_type": "code",
   "execution_count": 68,
   "metadata": {},
   "outputs": [],
   "source": [
    "from typing import List\n",
    "\n",
    "class TrieNode:\n",
    "    def __init__(self):\n",
    "        self.children = [None] * 26\n",
    "        self.isWord = 0 # use int rather than bool to count duplicate words\n",
    "        self.suggestions = []\n",
    "        \n",
    "class Trie:\n",
    "    def __init__(self):\n",
    "        self.root = TrieNode()\n",
    "        \n",
    "    def __getIdx(self, ch: str) -> int:\n",
    "        return ord(ch) - ord('a')\n",
    "    \n",
    "    def __toChr(self, i: int) -> str:\n",
    "        return chr(i+97)\n",
    "    \n",
    "    def insert(self, word: str):\n",
    "        node = self.root\n",
    "        for ch in word:\n",
    "            i = self.__getIdx(ch)\n",
    "            if not node.children[i]:\n",
    "                node.children[i] = TrieNode()\n",
    "            node = node.children[i]\n",
    "        node.isWord += 1\n",
    "        \n",
    "    def startsWith(self, prefix: str) -> List[str]:\n",
    "        node = self.root\n",
    "        res = []\n",
    "        for ch in prefix:\n",
    "            i = self.__getIdx(ch)\n",
    "            if not node.children[i]:\n",
    "                return res\n",
    "            node = node.children[i]\n",
    "        words = self.dfs(node, list(prefix))\n",
    "        return words\n",
    "        \n",
    "    def dfs(self, node: TrieNode, path: List[str], k: int = 3):\n",
    "        words = []\n",
    "        if not node:\n",
    "            return []\n",
    "        if node.suggestions:\n",
    "            return node.suggestions\n",
    "        if node.isWord:\n",
    "            w = ''.join(path)\n",
    "            words += [w] * node.isWord\n",
    "        for i, c in enumerate(node.children):\n",
    "            ws = self.dfs(c, path + [self.__toChr(i)], k)\n",
    "            words += ws\n",
    "            if len(words) >= k:\n",
    "                node.suggestions = words[:k]\n",
    "                return node.suggestions\n",
    "        node.suggestions = words\n",
    "        return node.suggestions\n",
    "\n",
    "class Solution:\n",
    "    def suggestedProducts(self, products: List[str], searchWord: str) -> List[List[str]]:\n",
    "        trie = Trie()\n",
    "        for w in products:\n",
    "            trie.insert(w)\n",
    "        return [trie.startsWith(searchWord[:i]) for i in range(1, len(searchWord)+1)]"
   ]
  },
  {
   "cell_type": "code",
   "execution_count": 120,
   "metadata": {},
   "outputs": [],
   "source": [
    "# Optimized Trie solution\n",
    "# 1. use max-heap to store top 3 suggestions in trie node (memorization)\n",
    "# 2. record last typed char's TrieNode in searchWord, which saves traversing from root everytime\n",
    "# Runtime: 332 ms\n",
    "# https://leetcode.com/problems/search-suggestions-system/discuss/436183/Python-Trie-Solution\n",
    "from typing import List\n",
    "\n",
    "class TrieNode:\n",
    "    def __init__(self):\n",
    "        self.children = [None] * 26\n",
    "        self.suggestions = []\n",
    "        \n",
    "class Trie:\n",
    "    def __init__(self):\n",
    "        self.root = TrieNode()\n",
    "        \n",
    "    def __getIdx(self, ch: str) -> int:\n",
    "        return ord(ch) - ord('a')\n",
    "    \n",
    "    def insert(self, word: str):\n",
    "        node = self.root\n",
    "        for ch in word:\n",
    "            i = self.__getIdx(ch)\n",
    "            if not node.children[i]:\n",
    "                node.children[i] = TrieNode()\n",
    "            node = node.children[i]\n",
    "            # for every node in the path (prefix node), add this word to its suggestions\n",
    "            # max_heap is another solution besides array sorting\n",
    "            node.suggestions.append(word)\n",
    "            node.suggestions = sorted(node.suggestions)[:3]\n",
    "        \n",
    "    def startsWith(self, prefix: str) -> List[str]:\n",
    "        node = self.root\n",
    "        res = []\n",
    "        for ch in prefix:\n",
    "            suggestions, node = self.nextNode(node, ch)\n",
    "            res.append(suggestions)\n",
    "        return res\n",
    "    \n",
    "    def nextNode(self, node: TrieNode, ch: str) -> (List[str], TrieNode):\n",
    "        if not node: return ([], None)\n",
    "        i = self.__getIdx(ch)\n",
    "        if not node.children[i]:\n",
    "            return ([], None)\n",
    "        node = node.children[i]\n",
    "        return (node.suggestions, node)\n",
    "\n",
    "class Solution:\n",
    "    def suggestedProducts(self, products: List[str], searchWord: str) -> List[List[str]]:\n",
    "        trie = Trie()\n",
    "        for w in products:\n",
    "            trie.insert(w)\n",
    "        return trie.startsWith(searchWord)"
   ]
  },
  {
   "cell_type": "code",
   "execution_count": 138,
   "metadata": {},
   "outputs": [],
   "source": [
    "# Binary Search\n",
    "# Runtime: 64 ms\n",
    "from typing import List\n",
    "from bisect import *\n",
    "\n",
    "class Solution:\n",
    "    def suggestedProducts(self, products: List[str], searchWord: str) -> List[List[str]]:\n",
    "        products.sort()\n",
    "        L = len(products)\n",
    "        res = []\n",
    "        for i in range(1, len(searchWord)+1):\n",
    "            # find first prefix match idx\n",
    "            sw = searchWord[:i]\n",
    "            idx = bisect_left(products, sw)\n",
    "            # scan for another 3 elements - check match\n",
    "            res.append([w for w in products[idx:idx+3] if w.find(sw) == 0])\n",
    "#             matches = []\n",
    "#             j = 0\n",
    "#             while idx < L and products[idx].find(searchWord[:i]) == 0 and j < 3:\n",
    "#                 matches.append(products[idx])\n",
    "#                 idx += 1\n",
    "#                 j += 1\n",
    "#             res.append(matches)\n",
    "        return res"
   ]
  },
  {
   "cell_type": "code",
   "execution_count": 139,
   "metadata": {},
   "outputs": [
    {
     "data": {
      "text/plain": [
       "[['mobile', 'moneypot', 'monitor'],\n",
       " ['mobile', 'moneypot', 'monitor'],\n",
       " ['mouse', 'mousepad'],\n",
       " ['mouse', 'mousepad'],\n",
       " ['mouse', 'mousepad']]"
      ]
     },
     "execution_count": 139,
     "metadata": {},
     "output_type": "execute_result"
    }
   ],
   "source": [
    "Solution().suggestedProducts(products = [\"mobile\",\"mouse\",\"moneypot\",\"monitor\",\"mousepad\"], searchWord = \"mouse\")"
   ]
  },
  {
   "cell_type": "code",
   "execution_count": 140,
   "metadata": {},
   "outputs": [
    {
     "data": {
      "text/plain": [
       "[['mase', 'mase', 'mobile'],\n",
       " ['mobile', 'moneypot', 'monitor'],\n",
       " ['mouse', 'mouseapple', 'mousepad'],\n",
       " ['mouse', 'mouseapple', 'mousepad'],\n",
       " ['mouse', 'mouseapple', 'mousepad']]"
      ]
     },
     "execution_count": 140,
     "metadata": {},
     "output_type": "execute_result"
    }
   ],
   "source": [
    "# duplicates\n",
    "Solution().suggestedProducts(products = [\"mobile\",\"mouse\",\"moneypot\",\"monitor\",\"mousepad\", \"mase\", \"mase\", \"mouseapple\"], searchWord = \"mouse\")"
   ]
  },
  {
   "cell_type": "code",
   "execution_count": 141,
   "metadata": {},
   "outputs": [
    {
     "data": {
      "text/plain": [
       "[['havana'], ['havana'], ['havana'], ['havana'], ['havana'], ['havana']]"
      ]
     },
     "execution_count": 141,
     "metadata": {},
     "output_type": "execute_result"
    }
   ],
   "source": [
    "Solution().suggestedProducts(products = [\"havana\"], searchWord = \"havana\")"
   ]
  },
  {
   "cell_type": "code",
   "execution_count": 142,
   "metadata": {},
   "outputs": [
    {
     "data": {
      "text/plain": [
       "[['baggage', 'bags', 'banner'],\n",
       " ['baggage', 'bags', 'banner'],\n",
       " ['baggage', 'bags'],\n",
       " ['bags']]"
      ]
     },
     "execution_count": 142,
     "metadata": {},
     "output_type": "execute_result"
    }
   ],
   "source": [
    "Solution().suggestedProducts(products = [\"bags\",\"baggage\",\"banner\",\"box\",\"cloths\"], searchWord = \"bags\")"
   ]
  },
  {
   "cell_type": "code",
   "execution_count": 143,
   "metadata": {},
   "outputs": [
    {
     "data": {
      "text/plain": [
       "[[], [], [], [], [], [], []]"
      ]
     },
     "execution_count": 143,
     "metadata": {},
     "output_type": "execute_result"
    }
   ],
   "source": [
    "Solution().suggestedProducts(products = [\"havana\"], searchWord = \"tatiana\")"
   ]
  },
  {
   "cell_type": "code",
   "execution_count": null,
   "metadata": {},
   "outputs": [],
   "source": []
  }
 ],
 "metadata": {
  "kernelspec": {
   "display_name": "Python 3",
   "language": "python",
   "name": "python3"
  },
  "language_info": {
   "codemirror_mode": {
    "name": "ipython",
    "version": 3
   },
   "file_extension": ".py",
   "mimetype": "text/x-python",
   "name": "python",
   "nbconvert_exporter": "python",
   "pygments_lexer": "ipython3",
   "version": "3.6.8"
  }
 },
 "nbformat": 4,
 "nbformat_minor": 2
}
