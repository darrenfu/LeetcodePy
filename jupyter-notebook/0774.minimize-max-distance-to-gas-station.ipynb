{
 "cells": [
  {
   "cell_type": "code",
   "execution_count": 13,
   "metadata": {},
   "outputs": [],
   "source": [
    "# Runtime: 712 ms, faster than 63.98% \n",
    "# https://leetcode.com/articles/minimize-max-distance-to-gas-station/\n",
    "import math\n",
    "from typing import List\n",
    "\n",
    "class Solution:\n",
    "    def minmaxGasDist(self, stations: List[int], K: int) -> float:\n",
    "        def splits(maxDistance: float) -> int:\n",
    "            stationsToAdd = 0\n",
    "            for pos1, pos2 in zip(stations, stations[1:]):\n",
    "                # adjcent distance = pos2-pos1\n",
    "                # if adjcent distance < maxDistance (our guess), stationsToAdd=0\n",
    "                stationsToAdd += math.ceil((pos2-pos1)/maxDistance) - 1\n",
    "            return stationsToAdd\n",
    "        \n",
    "        # scope: [min distance, max distance]\n",
    "        lo, hi = 0, stations[-1]-stations[0]\n",
    "        while lo + 1e-6 < hi:\n",
    "            # here mid is an answer candidate (minimized max distance)\n",
    "            mid = (lo+hi)/2 # mid is a float\n",
    "            if splits(mid) > K:\n",
    "                lo = mid\n",
    "            else:\n",
    "                hi = mid\n",
    "        return lo"
   ]
  },
  {
   "cell_type": "code",
   "execution_count": 14,
   "metadata": {},
   "outputs": [
    {
     "data": {
      "text/plain": [
       "0.4999997019767761"
      ]
     },
     "execution_count": 14,
     "metadata": {},
     "output_type": "execute_result"
    }
   ],
   "source": [
    "Solution().minmaxGasDist([1, 2, 3, 4, 5, 6, 7, 8, 9, 10], K = 9)"
   ]
  },
  {
   "cell_type": "code",
   "execution_count": null,
   "metadata": {},
   "outputs": [],
   "source": []
  }
 ],
 "metadata": {
  "kernelspec": {
   "display_name": "Python 3",
   "language": "python",
   "name": "python3"
  },
  "language_info": {
   "codemirror_mode": {
    "name": "ipython",
    "version": 3
   },
   "file_extension": ".py",
   "mimetype": "text/x-python",
   "name": "python",
   "nbconvert_exporter": "python",
   "pygments_lexer": "ipython3",
   "version": "3.6.8"
  }
 },
 "nbformat": 4,
 "nbformat_minor": 2
}
