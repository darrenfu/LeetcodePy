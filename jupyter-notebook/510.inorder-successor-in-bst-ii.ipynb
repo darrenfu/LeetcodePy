{
 "cells": [
  {
   "cell_type": "code",
   "execution_count": 1,
   "metadata": {},
   "outputs": [],
   "source": [
    "# Definition for a Node.\n",
    "class Node:\n",
    "    def __init__(self, val, left, right, parent):\n",
    "        self.val = val\n",
    "        self.left = left\n",
    "        self.right = right\n",
    "        self.parent = parent"
   ]
  },
  {
   "cell_type": "code",
   "execution_count": 3,
   "metadata": {},
   "outputs": [],
   "source": [
    "# T: O(logN)\n",
    "# Intuition:\n",
    "# * if node.right, find the most left node in the right subtree of the node;\n",
    "# * otherwise, find a parent upward that contains the node in its left subtree \n",
    "# (and thus the node is the most right one in the left subtree).\n",
    "# https://leetcode.com/problems/inorder-successor-in-bst-ii/discuss/232213/Python-Iterative-O(logN)\n",
    "class Solution:\n",
    "    def inorderSuccessor(self, node: 'Node') -> 'Node':\n",
    "        def getLeftmostChild(n: Node) -> Node:\n",
    "            if n.right:\n",
    "                n = n.right\n",
    "                while n.left:\n",
    "                    n = n.left\n",
    "                return n\n",
    "            return None\n",
    "        \n",
    "        def getAncestorAsRight(n: Node) -> Node:\n",
    "            while n.parent and n.parent.right == n:\n",
    "                n = n.parent\n",
    "            return n.parent\n",
    "        \n",
    "        child = getLeftmostChild(node)\n",
    "        if child: return child\n",
    "        parent = getAncestorAsRight(node)\n",
    "        return parent"
   ]
  },
  {
   "cell_type": "code",
   "execution_count": null,
   "metadata": {},
   "outputs": [],
   "source": []
  }
 ],
 "metadata": {
  "kernelspec": {
   "display_name": "Python 3",
   "language": "python",
   "name": "python3"
  },
  "language_info": {
   "codemirror_mode": {
    "name": "ipython",
    "version": 3
   },
   "file_extension": ".py",
   "mimetype": "text/x-python",
   "name": "python",
   "nbconvert_exporter": "python",
   "pygments_lexer": "ipython3",
   "version": "3.6.8"
  }
 },
 "nbformat": 4,
 "nbformat_minor": 2
}
