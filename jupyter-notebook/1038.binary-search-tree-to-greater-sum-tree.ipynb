{
 "cells": [
  {
   "cell_type": "code",
   "execution_count": 1,
   "metadata": {},
   "outputs": [],
   "source": [
    "import sys\n",
    "sys.path.append(\"..\")\n",
    "from leetcode.tree.treenode import TreeNode\n",
    "\n",
    "class Solution:\n",
    "    def bstToGst(self, root: TreeNode) -> TreeNode:\n",
    "        self.last_sum = 0\n",
    "        if not root: return root\n",
    "\n",
    "        def dfs(node):\n",
    "            if node.right: dfs(node.right)\n",
    "            node.val += self.last_sum\n",
    "            self.last_sum = node.val\n",
    "            if node.left: dfs(node.left)\n",
    "\n",
    "        dfs(root)\n",
    "        return root"
   ]
  },
  {
   "cell_type": "code",
   "execution_count": 4,
   "metadata": {},
   "outputs": [
    {
     "name": "stdout",
     "output_type": "stream",
     "text": [
      "TreeNode(val: 4, left: TreeNode(val: 1, left: TreeNode(val: 0, left: None, right: None), right: TreeNode(val: 2, left: None, right: TreeNode(val: 3, left: None, right: None))), right: TreeNode(val: 6, left: TreeNode(val: 5, left: None, right: None), right: TreeNode(val: 7, left: None, right: TreeNode(val: 8, left: None, right: None))))\n"
     ]
    },
    {
     "data": {
      "text/plain": [
       "TreeNode(val: 30, left: TreeNode(val: 36, left: TreeNode(val: 36, left: None, right: None), right: TreeNode(val: 35, left: None, right: TreeNode(val: 33, left: None, right: None))), right: TreeNode(val: 21, left: TreeNode(val: 26, left: None, right: None), right: TreeNode(val: 15, left: None, right: TreeNode(val: 8, left: None, right: None))))"
      ]
     },
     "execution_count": 4,
     "metadata": {},
     "output_type": "execute_result"
    }
   ],
   "source": [
    "root=TreeNode.deserialize('[4,1,6,0,2,5,7,null,null,null,3,null,null,null,8]')\n",
    "print(root)\n",
    "Solution().bstToGst(root=root)"
   ]
  },
  {
   "cell_type": "code",
   "execution_count": null,
   "metadata": {},
   "outputs": [],
   "source": []
  }
 ],
 "metadata": {
  "kernelspec": {
   "display_name": "Python 3",
   "language": "python",
   "name": "python3"
  },
  "language_info": {
   "codemirror_mode": {
    "name": "ipython",
    "version": 3
   },
   "file_extension": ".py",
   "mimetype": "text/x-python",
   "name": "python",
   "nbconvert_exporter": "python",
   "pygments_lexer": "ipython3",
   "version": "3.6.8"
  }
 },
 "nbformat": 4,
 "nbformat_minor": 2
}
