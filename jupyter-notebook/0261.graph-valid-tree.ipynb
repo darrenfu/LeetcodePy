{
 "cells": [
  {
   "cell_type": "code",
   "execution_count": 10,
   "metadata": {},
   "outputs": [],
   "source": [
    "# * Has n-1 edges and is acyclic.\n",
    "# * Has n-1 edges and is connected.\n",
    "# Union Find Solution\n",
    "# Runtime: 108 ms, faster than 77.66%\n",
    "# https://leetcode.com/problems/graph-valid-tree/discuss/69020/8-10-lines-Union-Find-DFS-and-BFS\n",
    "import sys\n",
    "sys.path.append('..')\n",
    "from leetcode.unionfind.uf import UF\n",
    "\n",
    "from typing import List\n",
    "\n",
    "class Solution:\n",
    "    def validTree(self, n: int, edges: List[List[int]]) -> bool:\n",
    "        uf = UF(n)\n",
    "        return len(edges) == n-1 and all(map(lambda edge: uf.union(edge[0], edge[1]), edges))"
   ]
  },
  {
   "cell_type": "code",
   "execution_count": 2,
   "metadata": {},
   "outputs": [],
   "source": [
    "from typing import List\n",
    "\n",
    "class Solution:\n",
    "    def validTree(self, n: int, edges: List[List[int]]) -> bool:\n",
    "        uf = UF(n)\n",
    "        for edge in edges:\n",
    "            u, v = edge[0], edge[1]\n",
    "            if not uf.union(u, v):\n",
    "                return False # cycle found\n",
    "        return uf.count == 1"
   ]
  },
  {
   "cell_type": "code",
   "execution_count": 12,
   "metadata": {},
   "outputs": [],
   "source": [
    "# DFS\n",
    "# Runtime: 132 ms, faster than 9.86% \n",
    "from typing import List\n",
    "\n",
    "class Solution:\n",
    "    def validTree(self, n: int, edges: List[List[int]]) -> bool:\n",
    "        neighbors = {i: [] for i in range(n)}\n",
    "        for u, v in edges:\n",
    "            neighbors[u] += v,\n",
    "            neighbors[v] += u,\n",
    "        # DFS\n",
    "        def visit(v: int) -> List[int]:\n",
    "            return list(map(visit, neighbors.pop(v, []))) # remove v from dict, if not exists, return []\n",
    "        visit(0) # start node\n",
    "        return len(edges) == n-1 and not neighbors"
   ]
  },
  {
   "cell_type": "code",
   "execution_count": 83,
   "metadata": {},
   "outputs": [],
   "source": [
    "# BFS\n",
    "# Runtime: 116 ms, faster than 35.60%\n",
    "from typing import List\n",
    "\n",
    "class Solution:\n",
    "    def validTree(self, n: int, edges: List[List[int]]) -> bool:\n",
    "        neighbors = {i: [] for i in range(n)}\n",
    "        for u, v in edges:\n",
    "            neighbors[u] += v,\n",
    "            neighbors[v] += u,\n",
    "        # BFS\n",
    "        q = [0] # start node\n",
    "#         for v in q:\n",
    "#             q += neighbors.pop(v, [])\n",
    "        while q:\n",
    "            v = q.pop(0)\n",
    "            for u in neighbors.pop(v, []):\n",
    "                q += u,\n",
    "        return len(edges) == n-1 and not neighbors"
   ]
  },
  {
   "cell_type": "code",
   "execution_count": 3,
   "metadata": {},
   "outputs": [
    {
     "data": {
      "text/plain": [
       "True"
      ]
     },
     "execution_count": 3,
     "metadata": {},
     "output_type": "execute_result"
    }
   ],
   "source": [
    "Solution().validTree(n = 5, edges = [[0,1], [0,2], [0,3], [1,4]])"
   ]
  },
  {
   "cell_type": "code",
   "execution_count": 4,
   "metadata": {},
   "outputs": [
    {
     "data": {
      "text/plain": [
       "False"
      ]
     },
     "execution_count": 4,
     "metadata": {},
     "output_type": "execute_result"
    }
   ],
   "source": [
    "Solution().validTree(n = 5, edges = [[0,1], [1,2], [2,3], [1,3], [1,4]])"
   ]
  },
  {
   "cell_type": "code",
   "execution_count": 5,
   "metadata": {},
   "outputs": [
    {
     "data": {
      "text/plain": [
       "False"
      ]
     },
     "execution_count": 5,
     "metadata": {},
     "output_type": "execute_result"
    }
   ],
   "source": [
    "Solution().validTree(n = 5, edges = [[0,1], [0,2]])"
   ]
  },
  {
   "cell_type": "code",
   "execution_count": 6,
   "metadata": {},
   "outputs": [
    {
     "data": {
      "text/plain": [
       "True"
      ]
     },
     "execution_count": 6,
     "metadata": {},
     "output_type": "execute_result"
    }
   ],
   "source": [
    "Solution().validTree(n = 1, edges = [])"
   ]
  },
  {
   "cell_type": "code",
   "execution_count": 7,
   "metadata": {},
   "outputs": [
    {
     "data": {
      "text/plain": [
       "False"
      ]
     },
     "execution_count": 7,
     "metadata": {},
     "output_type": "execute_result"
    }
   ],
   "source": [
    "Solution().validTree(n = 4, edges = [[0,1],[2,3]])"
   ]
  },
  {
   "cell_type": "code",
   "execution_count": 8,
   "metadata": {},
   "outputs": [
    {
     "data": {
      "text/plain": [
       "False"
      ]
     },
     "execution_count": 8,
     "metadata": {},
     "output_type": "execute_result"
    }
   ],
   "source": [
    "Solution().validTree(n = 2, edges = [])"
   ]
  },
  {
   "cell_type": "code",
   "execution_count": 13,
   "metadata": {},
   "outputs": [
    {
     "data": {
      "text/plain": [
       "False"
      ]
     },
     "execution_count": 13,
     "metadata": {},
     "output_type": "execute_result"
    }
   ],
   "source": [
    "Solution().validTree(n = 5, edges = [[0,1],[0,4],[1,4],[2,3]])"
   ]
  },
  {
   "cell_type": "code",
   "execution_count": null,
   "metadata": {},
   "outputs": [],
   "source": []
  }
 ],
 "metadata": {
  "kernelspec": {
   "display_name": "Python 3",
   "language": "python",
   "name": "python3"
  },
  "language_info": {
   "codemirror_mode": {
    "name": "ipython",
    "version": 3
   },
   "file_extension": ".py",
   "mimetype": "text/x-python",
   "name": "python",
   "nbconvert_exporter": "python",
   "pygments_lexer": "ipython3",
   "version": "3.6.8"
  }
 },
 "nbformat": 4,
 "nbformat_minor": 2
}
