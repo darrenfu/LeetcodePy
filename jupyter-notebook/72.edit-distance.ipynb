{
 "cells": [
  {
   "cell_type": "code",
   "execution_count": 1,
   "metadata": {},
   "outputs": [],
   "source": [
    "# https://en.wikipedia.org/wiki/Levenshtein_distance\n",
    "# Iterative with full matrix\n",
    "# Wagner–Fischer algorithm\n",
    "# Runtime: 180 ms, faster than 66.81%\n",
    "class Solution:\n",
    "    def minDistance(self, word1: str, word2: str) -> int:\n",
    "        L1, L2 = len(word1), len(word2)\n",
    "        dp = [[0 for _ in range(L2+1)] for _ in range(L1+1)]\n",
    "        # source prefixes can be transformed into empty string by deleting all chars\n",
    "        for i in range(1, L1+1):\n",
    "            dp[i][0] = i\n",
    "        # target prefixes can be reached from empty source prefix by inserting every char\n",
    "        for i in range(1, L2+1):\n",
    "            dp[0][i] = i\n",
    "        \n",
    "        for j in range(L2):\n",
    "            for i in range(L1):\n",
    "                # deletion_cost, insert_cost, substritution_cost\n",
    "                dp[i+1][j+1] = min(dp[i][j+1]+1, dp[i+1][j]+1, dp[i][j] + (word1[i] != word2[j]))\n",
    "        return dp[L1][L2]"
   ]
  },
  {
   "cell_type": "code",
   "execution_count": 2,
   "metadata": {},
   "outputs": [],
   "source": [
    "# iterative with two matrix rows\n",
    "# Runtime: 160 ms, faster than 83.06%\n",
    "class Solution:\n",
    "    def minDistance(self, word1: str, word2: str) -> int:\n",
    "        L1, L2 = len(word1), len(word2)\n",
    "        dp0 = [i for i in range(L2+1)]  # prev row\n",
    "        dp1 = [0 for _ in range(L2+1)]  # cur row\n",
    "        \n",
    "        for i in range(L1):\n",
    "            # To delete (i+1) chars from s to match empty t\n",
    "            dp1[0] = i + 1  # dp[i+1][0] = i+1\n",
    "            for j in range(L2):\n",
    "                del_cost = dp0[j+1] + 1  # =dp[i][j+1]+1, in which dp[i] is prev row\n",
    "                ins_cost = dp1[j] + 1    # =dp[i+1][j]+1, in which dp[i+1] is cur row\n",
    "                sub_cost = dp0[j] + (word1[i] != word2[j]) # =dp[i][j] + (...)\n",
    "                dp1[j+1] = min(del_cost, ins_cost, sub_cost)\n",
    "            # Important! Swap dp1 (current row) with dp0 (prev row) for next iteration\n",
    "            dp0, dp1 = dp1, dp0\n",
    "        # after last swap, results of dp1 are now in dp0\n",
    "        return dp0[L2]"
   ]
  },
  {
   "cell_type": "code",
   "execution_count": 3,
   "metadata": {},
   "outputs": [
    {
     "data": {
      "text/plain": [
       "3"
      ]
     },
     "execution_count": 3,
     "metadata": {},
     "output_type": "execute_result"
    }
   ],
   "source": [
    "Solution().minDistance(word1 = \"horse\", word2 = \"ros\")"
   ]
  },
  {
   "cell_type": "code",
   "execution_count": 4,
   "metadata": {},
   "outputs": [
    {
     "data": {
      "text/plain": [
       "5"
      ]
     },
     "execution_count": 4,
     "metadata": {},
     "output_type": "execute_result"
    }
   ],
   "source": [
    "Solution().minDistance(word1 = \"intention\", word2 = \"execution\")"
   ]
  },
  {
   "cell_type": "code",
   "execution_count": 5,
   "metadata": {},
   "outputs": [
    {
     "data": {
      "text/plain": [
       "3"
      ]
     },
     "execution_count": 5,
     "metadata": {},
     "output_type": "execute_result"
    }
   ],
   "source": [
    "Solution().minDistance(word1 = \"saturday\", word2 = \"sunday\")"
   ]
  },
  {
   "cell_type": "code",
   "execution_count": 6,
   "metadata": {},
   "outputs": [
    {
     "data": {
      "text/plain": [
       "3"
      ]
     },
     "execution_count": 6,
     "metadata": {},
     "output_type": "execute_result"
    }
   ],
   "source": [
    "Solution().minDistance(word1 = \"kitten\", word2 = \"sitting\")"
   ]
  },
  {
   "cell_type": "code",
   "execution_count": null,
   "metadata": {},
   "outputs": [],
   "source": []
  }
 ],
 "metadata": {
  "kernelspec": {
   "display_name": "Python 3",
   "language": "python",
   "name": "python3"
  },
  "language_info": {
   "codemirror_mode": {
    "name": "ipython",
    "version": 3
   },
   "file_extension": ".py",
   "mimetype": "text/x-python",
   "name": "python",
   "nbconvert_exporter": "python",
   "pygments_lexer": "ipython3",
   "version": "3.6.8"
  }
 },
 "nbformat": 4,
 "nbformat_minor": 2
}
