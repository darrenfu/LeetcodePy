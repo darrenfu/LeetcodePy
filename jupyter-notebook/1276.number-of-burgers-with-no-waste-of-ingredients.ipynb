{
 "cells": [
  {
   "cell_type": "markdown",
   "metadata": {},
   "source": [
    "### [1276\\. Number of Burgers with No Waste of Ingredients](https://leetcode.com/problems/number-of-burgers-with-no-waste-of-ingredients/)\n",
    "\n",
    "Difficulty: **Medium**\n",
    "\n",
    "\n",
    "Given two integers `tomatoSlices` and `cheeseSlices`. The ingredients of different burgers are as follows:\n",
    "\n",
    "*   **Jumbo Burger:** 4 tomato slices and 1 cheese slice.\n",
    "*   **Small Burger:** 2 Tomato slices and 1 cheese slice.\n",
    "\n",
    "Return `[total_jumbo, total_small]` so that the number of remaining `tomatoSlices` equal to 0 and the number of remaining `cheeseSlices` equal to 0\\. If it is not possible to make the remaining `tomatoSlices` and `cheeseSlices` equal to 0 return `[]`.\n",
    "\n",
    "**Example 1:**\n",
    "\n",
    "```\n",
    "Input: tomatoSlices = 16, cheeseSlices = 7\n",
    "Output: [1,6]\n",
    "Explantion: To make one jumbo burger and 6 small burgers we need 4*1 + 2*6 = 16 tomato and 1 + 6 = 7 cheese. There will be no remaining ingredients.\n",
    "```\n",
    "\n",
    "**Example 2:**\n",
    "\n",
    "```\n",
    "Input: tomatoSlices = 17, cheeseSlices = 4\n",
    "Output: []\n",
    "Explantion: There will be no way to use all ingredients to make small and jumbo burgers.\n",
    "```\n",
    "\n",
    "**Example 3:**\n",
    "\n",
    "```\n",
    "Input: tomatoSlices = 4, cheeseSlices = 17\n",
    "Output: []\n",
    "Explantion: Making 1 jumbo burger there will be 16 cheese remaining and making 2 small burgers there will be 15 cheese remaining.\n",
    "```\n",
    "\n",
    "**Example 4:**\n",
    "\n",
    "```\n",
    "Input: tomatoSlices = 0, cheeseSlices = 0\n",
    "Output: [0,0]\n",
    "```\n",
    "\n",
    "**Example 5:**\n",
    "\n",
    "```\n",
    "Input: tomatoSlices = 2, cheeseSlices = 1\n",
    "Output: [0,1]\n",
    "```\n",
    "\n",
    "**Constraints:**\n",
    "\n",
    "*   `0 <= tomatoSlices <= 10^7`\n",
    "*   `0 <= cheeseSlices <= 10^7`"
   ]
  },
  {
   "cell_type": "code",
   "execution_count": 1,
   "metadata": {},
   "outputs": [],
   "source": [
    "# Math\n",
    "from typing import List\n",
    "\n",
    "class Solution:\n",
    "    def numOfBurgers(self, tomatoSlices: int, cheeseSlices: int) -> List[int]:\n",
    "        # From:\n",
    "        # J + S = cheese\n",
    "        # 4J + 2S = tomato\n",
    "        # We can get:\n",
    "        # J = T/2 - C >= 0\n",
    "        # S = 2C - T/2 >= 0\n",
    "        if tomatoSlices % 2 == 0 and 2*cheeseSlices <= tomatoSlices <= 4*cheeseSlices:\n",
    "            return [tomatoSlices//2-cheeseSlices, 2*cheeseSlices-tomatoSlices//2]\n",
    "        return []"
   ]
  },
  {
   "cell_type": "code",
   "execution_count": 2,
   "metadata": {},
   "outputs": [
    {
     "data": {
      "text/plain": [
       "[1, 6]"
      ]
     },
     "execution_count": 2,
     "metadata": {},
     "output_type": "execute_result"
    }
   ],
   "source": [
    "Solution().numOfBurgers(tomatoSlices=16, cheeseSlices=7)"
   ]
  },
  {
   "cell_type": "code",
   "execution_count": 3,
   "metadata": {},
   "outputs": [
    {
     "data": {
      "text/plain": [
       "[]"
      ]
     },
     "execution_count": 3,
     "metadata": {},
     "output_type": "execute_result"
    }
   ],
   "source": [
    "Solution().numOfBurgers(tomatoSlices=4, cheeseSlices=17)"
   ]
  },
  {
   "cell_type": "code",
   "execution_count": 4,
   "metadata": {},
   "outputs": [
    {
     "data": {
      "text/plain": [
       "[0, 0]"
      ]
     },
     "execution_count": 4,
     "metadata": {},
     "output_type": "execute_result"
    }
   ],
   "source": [
    "Solution().numOfBurgers(tomatoSlices=0, cheeseSlices=0)"
   ]
  },
  {
   "cell_type": "code",
   "execution_count": 5,
   "metadata": {},
   "outputs": [
    {
     "data": {
      "text/plain": [
       "[0, 1]"
      ]
     },
     "execution_count": 5,
     "metadata": {},
     "output_type": "execute_result"
    }
   ],
   "source": [
    "Solution().numOfBurgers(tomatoSlices=2, cheeseSlices=1)"
   ]
  },
  {
   "cell_type": "code",
   "execution_count": null,
   "metadata": {},
   "outputs": [],
   "source": []
  }
 ],
 "metadata": {
  "kernelspec": {
   "display_name": "Python 3",
   "language": "python",
   "name": "python3"
  },
  "language_info": {
   "codemirror_mode": {
    "name": "ipython",
    "version": 3
   },
   "file_extension": ".py",
   "mimetype": "text/x-python",
   "name": "python",
   "nbconvert_exporter": "python",
   "pygments_lexer": "ipython3",
   "version": "3.6.8"
  }
 },
 "nbformat": 4,
 "nbformat_minor": 2
}
