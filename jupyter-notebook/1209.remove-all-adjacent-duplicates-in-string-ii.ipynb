{
 "cells": [
  {
   "cell_type": "code",
   "execution_count": 21,
   "metadata": {},
   "outputs": [],
   "source": [
    "# Brute force (delete K consecutive duplicates and restart from start until no K duplicates in S)\n",
    "# Runtime: 160 ms, faster than 33.33%\n",
    "class Solution:\n",
    "    def removeDuplicates(self, s: str, k: int) -> str:\n",
    "        L = len(s)\n",
    "        q = []\n",
    "        first = True\n",
    "        ss = [c for c in s]\n",
    "        while q or first:\n",
    "            if first: first = False\n",
    "            for del_idx in q:\n",
    "                del ss[del_idx:del_idx+k]\n",
    "            q = []\n",
    "                \n",
    "            i = 0\n",
    "            L = len(ss)\n",
    "            while i < L:\n",
    "                if i == 0 or ss[i]!=ss[i-1]:\n",
    "                    j = i\n",
    "                    while j < min(i+k, L) and ss[j] == ss[i]:\n",
    "                        j += 1\n",
    "                    if j == i+k:\n",
    "                        q.insert(0, i)\n",
    "                    i = j\n",
    "                else:\n",
    "                    i += 1\n",
    "        return ''.join(ss)"
   ]
  },
  {
   "cell_type": "code",
   "execution_count": 24,
   "metadata": {},
   "outputs": [],
   "source": [
    "# Stack solution\n",
    "# O(N)\n",
    "# Runtime: 76 ms, faster than 100.00%\n",
    "class Solution:\n",
    "    def removeDuplicates(self, S: str, K: int) -> str:\n",
    "        stack = []\n",
    "        for c in S:\n",
    "            if not stack or stack[-1][0] != c: # stack top != new element\n",
    "                stack.append([c, 1]) # push (ele, freq) to stack\n",
    "            elif stack[-1][1] + 1 < K: # met consecutive duplicates\n",
    "                stack[-1][1] += 1 # freq ++\n",
    "            else: # K consecutive duplicates found, pop\n",
    "                stack.pop()\n",
    "        \n",
    "        ans = []\n",
    "        # concatenate remaining elements in stack (bottom <first-in> to top <last-in>)\n",
    "        for c,ct in stack:\n",
    "            ans += [c] * ct\n",
    "        return \"\".join(ans)"
   ]
  },
  {
   "cell_type": "code",
   "execution_count": 26,
   "metadata": {},
   "outputs": [
    {
     "data": {
      "text/plain": [
       "'ps'"
      ]
     },
     "execution_count": 26,
     "metadata": {},
     "output_type": "execute_result"
    }
   ],
   "source": [
    "Solution().removeDuplicates(\"pbbcggttciiippooaais\", 2)"
   ]
  },
  {
   "cell_type": "code",
   "execution_count": 27,
   "metadata": {},
   "outputs": [
    {
     "data": {
      "text/plain": [
       "'aa'"
      ]
     },
     "execution_count": 27,
     "metadata": {},
     "output_type": "execute_result"
    }
   ],
   "source": [
    "Solution().removeDuplicates(\"deeedbbcccbdaa\", 3)"
   ]
  },
  {
   "cell_type": "code",
   "execution_count": null,
   "metadata": {},
   "outputs": [],
   "source": []
  }
 ],
 "metadata": {
  "kernelspec": {
   "display_name": "Python 3",
   "language": "python",
   "name": "python3"
  },
  "language_info": {
   "codemirror_mode": {
    "name": "ipython",
    "version": 3
   },
   "file_extension": ".py",
   "mimetype": "text/x-python",
   "name": "python",
   "nbconvert_exporter": "python",
   "pygments_lexer": "ipython3",
   "version": "3.6.8"
  }
 },
 "nbformat": 4,
 "nbformat_minor": 2
}
