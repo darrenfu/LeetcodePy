{
 "cells": [
  {
   "cell_type": "code",
   "execution_count": 2,
   "metadata": {},
   "outputs": [],
   "source": [
    "# Runtime: 36 ms, faster than 77.85%\n",
    "class Solution:\n",
    "    def reverseWords(self, s: str) -> str:\n",
    "        return ' '.join([w[::-1] for w in s[::-1].split()]) # split will strip the head and tail spaces"
   ]
  },
  {
   "cell_type": "code",
   "execution_count": 27,
   "metadata": {},
   "outputs": [],
   "source": [
    "# no builtin strip/split/join/reverse solution\n",
    "# Runtime: 88 ms, faster than 5.18%\n",
    "# https://leetcode.com/problems/reverse-words-in-a-string/discuss/172258/Python-or-Two-Pointers-%2B-No-Cheating-tm\n",
    "from typing import List\n",
    "class Solution:\n",
    "    def reverseWords(self, s: str) -> str:\n",
    "        def reverseStr(arr: List[str], lo: int, hi: int):\n",
    "            # Two pointer\n",
    "            while lo < hi:\n",
    "                arr[lo], arr[hi] = arr[hi], arr[lo]\n",
    "                lo += 1\n",
    "                hi -= 1\n",
    "        def reverseWords(arr: List[str]):\n",
    "            l, r = 0, 0\n",
    "            while r < len(arr):\n",
    "                # find the last non-space letter before any space, and reverse word: arr[l:r-1]\n",
    "                while r < len(arr) and not arr[r].isspace():\n",
    "                    r += 1\n",
    "                reverseStr(arr, l, r-1)\n",
    "                r += 1\n",
    "                l = r\n",
    "        def trim(arr: List[str]):\n",
    "            # Edge case\n",
    "            if ''.join(arr).isspace(): return []\n",
    "            l, r = 0, len(arr)-1\n",
    "            # find the leftmost non-space index\n",
    "            while l < r and arr[l].isspace():\n",
    "                l += 1\n",
    "            # find the rightmost non-space index\n",
    "            while l < r and arr[r].isspace():\n",
    "                r -= 1\n",
    "            return arr[l:r+1]\n",
    "        def trimWords(arr):\n",
    "            # Edge case\n",
    "            if not arr: return []\n",
    "            res = [arr[0]]\n",
    "            for i in range(1, len(arr)):\n",
    "                # consecutive spaces found, skip it\n",
    "                if res[-1].isspace() and arr[i].isspace():\n",
    "                    continue\n",
    "                res.append(arr[i])\n",
    "            return res\n",
    "            \n",
    "        arr = list(s)\n",
    "        reverseStr(arr, 0, len(arr)-1)\n",
    "        reverseWords(arr)\n",
    "        arr = trim(arr)\n",
    "        arr = trimWords(arr)\n",
    "        return ''.join(arr)"
   ]
  },
  {
   "cell_type": "code",
   "execution_count": 28,
   "metadata": {},
   "outputs": [
    {
     "data": {
      "text/plain": [
       "'world! hello'"
      ]
     },
     "execution_count": 28,
     "metadata": {},
     "output_type": "execute_result"
    }
   ],
   "source": [
    "Solution().reverseWords(\"  hello  world!  \")"
   ]
  },
  {
   "cell_type": "code",
   "execution_count": 29,
   "metadata": {},
   "outputs": [
    {
     "data": {
      "text/plain": [
       "'blue is sky the'"
      ]
     },
     "execution_count": 29,
     "metadata": {},
     "output_type": "execute_result"
    }
   ],
   "source": [
    "Solution().reverseWords(\"the sky is blue\")"
   ]
  },
  {
   "cell_type": "code",
   "execution_count": 30,
   "metadata": {},
   "outputs": [
    {
     "data": {
      "text/plain": [
       "''"
      ]
     },
     "execution_count": 30,
     "metadata": {},
     "output_type": "execute_result"
    }
   ],
   "source": [
    "Solution().reverseWords(\"   \")"
   ]
  },
  {
   "cell_type": "code",
   "execution_count": null,
   "metadata": {},
   "outputs": [],
   "source": []
  }
 ],
 "metadata": {
  "kernelspec": {
   "display_name": "Python 3",
   "language": "python",
   "name": "python3"
  },
  "language_info": {
   "codemirror_mode": {
    "name": "ipython",
    "version": 3
   },
   "file_extension": ".py",
   "mimetype": "text/x-python",
   "name": "python",
   "nbconvert_exporter": "python",
   "pygments_lexer": "ipython3",
   "version": "3.6.8"
  }
 },
 "nbformat": 4,
 "nbformat_minor": 2
}
