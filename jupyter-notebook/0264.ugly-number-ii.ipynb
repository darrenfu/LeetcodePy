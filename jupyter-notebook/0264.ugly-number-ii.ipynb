{
 "cells": [
  {
   "cell_type": "markdown",
   "metadata": {},
   "source": [
    "### [264\\. Ugly Number II](https://leetcode.com/problems/ugly-number-ii/)\n",
    "\n",
    "Difficulty: **Medium**\n",
    "\n",
    "\n",
    "Write a program to find the `n`-th ugly number.\n",
    "\n",
    "Ugly numbers are **positive numbers** whose prime factors only include `2, 3, 5`. \n",
    "\n",
    "**Example:**\n",
    "\n",
    "```\n",
    "Input: n = 10\n",
    "Output: 12\n",
    "Explanation: 1, 2, 3, 4, 5, 6, 8, 9, 10, 12 is the sequence of the first 10 ugly numbers.\n",
    "```\n",
    "\n",
    "**Note:**  \n",
    "\n",
    "1.  `1` is typically treated as an ugly number.\n",
    "2.  `n` **does not exceed 1690**."
   ]
  },
  {
   "cell_type": "code",
   "execution_count": 4,
   "metadata": {},
   "outputs": [],
   "source": [
    "# N-pointer solution\n",
    "# https://leetcode.com/problems/ugly-number-ii/discuss/69384/My-expressive-Python-solution\n",
    "class Solution:\n",
    "    def nthUglyNumber(self, n: int) -> int:\n",
    "        ugly = [1] # ugly number list expected\n",
    "        primes = [2,3,5]\n",
    "        ptrs = [0 for _ in range(len(primes))]\n",
    "        while n > 1:\n",
    "            candidates = [primes[i]*ugly[ptrs[i]] for i in range(len(primes))]\n",
    "            print(candidates, ugly)\n",
    "            can_min = min(candidates)\n",
    "            for i, c in enumerate(candidates):\n",
    "                if c == can_min: # if duplicate min values found, move all the pointers forward\n",
    "                    ptrs[i] += 1\n",
    "            ugly.append(can_min)\n",
    "            n -= 1\n",
    "        return ugly[-1]"
   ]
  },
  {
   "cell_type": "code",
   "execution_count": 5,
   "metadata": {},
   "outputs": [
    {
     "name": "stdout",
     "output_type": "stream",
     "text": [
      "[2, 3, 5] [1]\n",
      "[4, 3, 5] [1, 2]\n",
      "[4, 6, 5] [1, 2, 3]\n",
      "[6, 6, 5] [1, 2, 3, 4]\n",
      "[6, 6, 10] [1, 2, 3, 4, 5]\n",
      "[8, 9, 10] [1, 2, 3, 4, 5, 6]\n",
      "[10, 9, 10] [1, 2, 3, 4, 5, 6, 8]\n",
      "[10, 12, 10] [1, 2, 3, 4, 5, 6, 8, 9]\n",
      "[12, 12, 15] [1, 2, 3, 4, 5, 6, 8, 9, 10]\n"
     ]
    },
    {
     "data": {
      "text/plain": [
       "12"
      ]
     },
     "execution_count": 5,
     "metadata": {},
     "output_type": "execute_result"
    }
   ],
   "source": [
    "Solution().nthUglyNumber(n=10)"
   ]
  },
  {
   "cell_type": "code",
   "execution_count": 3,
   "metadata": {},
   "outputs": [
    {
     "name": "stdout",
     "output_type": "stream",
     "text": [
      "[2, 3, 5]\n",
      "[4, 3, 5]\n",
      "[4, 6, 5]\n",
      "[6, 6, 5]\n",
      "[6, 6, 10]\n",
      "[8, 9, 10]\n",
      "[10, 9, 10]\n",
      "[10, 12, 10]\n",
      "[12, 12, 15]\n",
      "[16, 15, 15]\n"
     ]
    },
    {
     "data": {
      "text/plain": [
       "15"
      ]
     },
     "execution_count": 3,
     "metadata": {},
     "output_type": "execute_result"
    }
   ],
   "source": [
    "Solution().nthUglyNumber(n=11)"
   ]
  },
  {
   "cell_type": "code",
   "execution_count": null,
   "metadata": {},
   "outputs": [],
   "source": []
  }
 ],
 "metadata": {
  "kernelspec": {
   "display_name": "Python 3",
   "language": "python",
   "name": "python3"
  },
  "language_info": {
   "codemirror_mode": {
    "name": "ipython",
    "version": 3
   },
   "file_extension": ".py",
   "mimetype": "text/x-python",
   "name": "python",
   "nbconvert_exporter": "python",
   "pygments_lexer": "ipython3",
   "version": "3.6.8"
  }
 },
 "nbformat": 4,
 "nbformat_minor": 2
}
