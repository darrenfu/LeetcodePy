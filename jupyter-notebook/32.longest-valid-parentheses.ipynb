{
 "cells": [
  {
   "cell_type": "code",
   "execution_count": 5,
   "metadata": {},
   "outputs": [],
   "source": [
    "%config IPCompleter.greedy=True"
   ]
  },
  {
   "cell_type": "code",
   "execution_count": 6,
   "metadata": {},
   "outputs": [],
   "source": [
    "# stack\n",
    "# Runtime: 52 ms, faster than 69.72%\n",
    "class Solution:\n",
    "    def longestValidParentheses(self, s: str) -> int:\n",
    "        L = len(s)\n",
    "        stack = []\n",
    "        for i, ch in enumerate(s):\n",
    "            if ch == '(':\n",
    "                stack.append(i)\n",
    "            elif ch == ')':\n",
    "                if not stack or s[stack[-1]] != '(':\n",
    "                    stack.append(i)\n",
    "                else:\n",
    "                    stack.pop()\n",
    "        if not stack: return L\n",
    "        b, e = 0, 0\n",
    "        longest = 0\n",
    "        for idx in stack:\n",
    "            e = idx\n",
    "            longest = max(longest, e-b)\n",
    "            b = e+1\n",
    "        e = L\n",
    "        longest = max(longest, e-b)\n",
    "        return longest"
   ]
  },
  {
   "cell_type": "code",
   "execution_count": 7,
   "metadata": {},
   "outputs": [],
   "source": [
    "# dp\n",
    "# Runtime: 68 ms, faster than 14.11%\n",
    "# https://leetcode.com/problems/longest-valid-parentheses/discuss/14312/My-ten-lines-python-solution\n",
    "class Solution:\n",
    "    def longestValidParentheses(self, s: str) -> int:\n",
    "        dp, stack = [0] * (len(s) + 1), []\n",
    "        for idx, ch in enumerate(s):\n",
    "            if ch == '(':\n",
    "                stack.append(idx)\n",
    "            elif stack:\n",
    "                sidx = stack.pop()\n",
    "                dp[idx+1] = dp[sidx] + idx - sidx + 1\n",
    "        return max(dp)"
   ]
  },
  {
   "cell_type": "code",
   "execution_count": 11,
   "metadata": {},
   "outputs": [],
   "source": [
    "# stack trick\n",
    "# Runtime: 52 ms, faster than 69.72%\n",
    "# https://leetcode.com/problems/longest-valid-parentheses/discuss/123926/Best-Python-Solution-(Beats-100)\n",
    "class Solution:\n",
    "    def longestValidParentheses(self, s: str) -> int:\n",
    "        stack = [0]\n",
    "        longest = 0\n",
    "        for c in s:\n",
    "            if c == '(':\n",
    "                # value of the rightmost '(' to its first left ')' is 0\n",
    "                # )((()))\n",
    "                # ^^^^\n",
    "                # ||||\n",
    "                # 0420\n",
    "                stack.append(0)\n",
    "            else:\n",
    "                if len(stack) > 1:\n",
    "                    val = stack.pop()\n",
    "                    # a pair found, accumulate 2 to previous stack top (like dp)\n",
    "                    stack[-1] += val + 2\n",
    "                    longest = max(longest, stack[-1])\n",
    "                else:\n",
    "                    stack = [0] # reset stack and longest value if invalid ')' found\n",
    "        return longest"
   ]
  },
  {
   "cell_type": "code",
   "execution_count": 12,
   "metadata": {},
   "outputs": [
    {
     "data": {
      "text/plain": [
       "4"
      ]
     },
     "execution_count": 12,
     "metadata": {},
     "output_type": "execute_result"
    }
   ],
   "source": [
    "Solution().longestValidParentheses(s=\")()())\")"
   ]
  },
  {
   "cell_type": "code",
   "execution_count": 13,
   "metadata": {},
   "outputs": [
    {
     "data": {
      "text/plain": [
       "0"
      ]
     },
     "execution_count": 13,
     "metadata": {},
     "output_type": "execute_result"
    }
   ],
   "source": [
    "Solution().longestValidParentheses(s=\"(\")"
   ]
  },
  {
   "cell_type": "code",
   "execution_count": 14,
   "metadata": {},
   "outputs": [
    {
     "data": {
      "text/plain": [
       "2"
      ]
     },
     "execution_count": 14,
     "metadata": {},
     "output_type": "execute_result"
    }
   ],
   "source": [
    "Solution().longestValidParentheses(s=\"())\")"
   ]
  }
 ],
 "metadata": {
  "kernelspec": {
   "display_name": "Python 3",
   "language": "python",
   "name": "python3"
  },
  "language_info": {
   "codemirror_mode": {
    "name": "ipython",
    "version": 3
   },
   "file_extension": ".py",
   "mimetype": "text/x-python",
   "name": "python",
   "nbconvert_exporter": "python",
   "pygments_lexer": "ipython3",
   "version": "3.6.8"
  }
 },
 "nbformat": 4,
 "nbformat_minor": 2
}
