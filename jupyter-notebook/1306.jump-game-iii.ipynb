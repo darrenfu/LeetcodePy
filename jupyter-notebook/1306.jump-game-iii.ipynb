{
 "cells": [
  {
   "cell_type": "markdown",
   "metadata": {},
   "source": [
    "### [1306\\. Jump Game III](https://leetcode.com/contest/weekly-contest-169/problems/jump-game-iii/)\n",
    "\n",
    "Difficulty: **Medium**\n",
    "\n",
    "Given an array of non-negative integers `arr`, you are initially positioned at `start` index of the array. When you are at index `i`, you can jump to `i + arr[i]` or `i - arr[i]`, check if you can reach to **any** index with value 0.\n",
    "\n",
    "Notice that you can not jump outside of the array at any time.\n",
    "\n",
    "**Example 1:**\n",
    "\n",
    "```\n",
    "Input: arr = [4,2,3,0,3,1,2], start = 5\n",
    "Output: true\n",
    "Explanation: \n",
    "All possible ways to reach at index 3 with value 0 are: \n",
    "index 5 -> index 4 -> index 1 -> index 3 \n",
    "index 5 -> index 6 -> index 4 -> index 1 -> index 3 \n",
    "```\n",
    "\n",
    "**Example 2:**\n",
    "\n",
    "```\n",
    "Input: arr = [4,2,3,0,3,1,2], start = 0\n",
    "Output: true \n",
    "Explanation: \n",
    "One possible way to reach at index 3 with value 0 is: \n",
    "index 0 -> index 4 -> index 1 -> index 3\n",
    "```\n",
    "\n",
    "**Example 3:**\n",
    "\n",
    "```\n",
    "Input: arr = [3,0,2,1,2], start = 2\n",
    "Output: false\n",
    "Explanation: There is no way to reach at index 1 with value 0.\n",
    "```\n",
    "\n",
    "**Constraints:**\n",
    "\n",
    "*   `1 <= arr.length <= 5 * 10^4`\n",
    "*   `0 <= arr[i] < arr.length`\n",
    "*   `0 <= start < arr.length`"
   ]
  },
  {
   "cell_type": "code",
   "execution_count": 26,
   "metadata": {},
   "outputs": [],
   "source": [
    "# recursive\n",
    "from typing import List\n",
    "\n",
    "class Solution:\n",
    "    def canReach(self, arr: List[int], start: int) -> bool:\n",
    "        L = len(arr)\n",
    "        visited = [False] * L\n",
    "        def nextStep(cur: int):\n",
    "            if cur >= L or cur < 0:\n",
    "                return False\n",
    "            if arr[cur] == 0:\n",
    "                return True\n",
    "            if visited[cur]:\n",
    "                return False\n",
    "            visited[cur] = True\n",
    "            return nextStep(cur + arr[cur]) or nextStep(cur - arr[cur])\n",
    "        return nextStep(start)"
   ]
  },
  {
   "cell_type": "code",
   "execution_count": 30,
   "metadata": {},
   "outputs": [],
   "source": [
    "# iterative\n",
    "from typing import List\n",
    "\n",
    "class Solution:\n",
    "    def canReach(self, arr: List[int], start: int) -> bool:\n",
    "        def neighbors(cur: int):\n",
    "            for idx in (cur+arr[cur], cur-arr[cur]):\n",
    "                if 0 <= idx < L and not visited[idx]:\n",
    "                    yield(idx)\n",
    "        L = len(arr)\n",
    "        visited = [False] * L\n",
    "        visited[start] = True\n",
    "        stack = [start]\n",
    "        while stack:\n",
    "            cur = stack.pop()\n",
    "            if arr[cur] == 0: return True\n",
    "            for idx in neighbors(cur):\n",
    "                visited[idx] = True\n",
    "                stack.append(idx)\n",
    "        return False"
   ]
  },
  {
   "cell_type": "code",
   "execution_count": 31,
   "metadata": {},
   "outputs": [
    {
     "data": {
      "text/plain": [
       "True"
      ]
     },
     "execution_count": 31,
     "metadata": {},
     "output_type": "execute_result"
    }
   ],
   "source": [
    "Solution().canReach(arr = [4,2,3,0,3,1,2], start = 5)"
   ]
  },
  {
   "cell_type": "code",
   "execution_count": 32,
   "metadata": {},
   "outputs": [
    {
     "data": {
      "text/plain": [
       "True"
      ]
     },
     "execution_count": 32,
     "metadata": {},
     "output_type": "execute_result"
    }
   ],
   "source": [
    "Solution().canReach(arr = [4,2,3,0,3,1,2], start = 0)"
   ]
  },
  {
   "cell_type": "code",
   "execution_count": 33,
   "metadata": {},
   "outputs": [
    {
     "data": {
      "text/plain": [
       "False"
      ]
     },
     "execution_count": 33,
     "metadata": {},
     "output_type": "execute_result"
    }
   ],
   "source": [
    "Solution().canReach(arr = [3,0,2,1,2], start = 2)"
   ]
  },
  {
   "cell_type": "code",
   "execution_count": null,
   "metadata": {},
   "outputs": [],
   "source": []
  }
 ],
 "metadata": {
  "kernelspec": {
   "display_name": "Python 3",
   "language": "python",
   "name": "python3"
  },
  "language_info": {
   "codemirror_mode": {
    "name": "ipython",
    "version": 3
   },
   "file_extension": ".py",
   "mimetype": "text/x-python",
   "name": "python",
   "nbconvert_exporter": "python",
   "pygments_lexer": "ipython3",
   "version": "3.6.8"
  }
 },
 "nbformat": 4,
 "nbformat_minor": 2
}
