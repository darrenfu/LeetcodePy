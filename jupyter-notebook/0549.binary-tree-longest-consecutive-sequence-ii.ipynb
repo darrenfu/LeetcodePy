{
 "cells": [
  {
   "cell_type": "code",
   "execution_count": 1,
   "metadata": {},
   "outputs": [],
   "source": [
    "import sys\n",
    "sys.path.append('..')\n",
    "from leetcode.tree.treenode import TreeNode"
   ]
  },
  {
   "cell_type": "code",
   "execution_count": null,
   "metadata": {},
   "outputs": [],
   "source": [
    "# Traverse the tree once and record two values for each node v: \n",
    "# the length icr (dcr) of the longest increasing (decreasing) consecutive sequence that ends with v. \n",
    "# If icr + dcr + 1 for some particular v is larger than longest, then we update longest to be icr + dcr + 1.\n",
    "# Runtime: 56 ms, faster than 94.10%\n",
    "# similar to https://leetcode.com/problems/binary-tree-longest-consecutive-sequence-ii/discuss/175750/Python-solution\n",
    "class Solution:\n",
    "    def longestConsecutive(self, root: TreeNode) -> int:\n",
    "        def dfs(node: TreeNode) -> (int, int):\n",
    "            nonlocal longest\n",
    "            if not node: return 0, 0\n",
    "            ld, li = dfs(node.left)\n",
    "            rd, ri = dfs(node.right)\n",
    "            l, r = 0, 0\n",
    "            # -1 means parent_node.val = child_node.val + 1 (decreasing path from ancestor to descendant)\n",
    "            # +1 means parent_node.val = child_node.val - 1 (increasing path from ancestor to descendant)\n",
    "            # 0 means child_node doesn't exist or |parent_node.val| > |child_node.val| + 1\n",
    "            if node.left:\n",
    "                if node.val == node.left.val+1:\n",
    "                    l -= 1\n",
    "                    if ld < 0 or li < 0:\n",
    "                        l -= -min(ld, li)\n",
    "                elif node.val == node.left.val-1:\n",
    "                    l += 1\n",
    "                    if ld > 0 or li > 0:\n",
    "                        l += max(ll, li)\n",
    "            if node.right:\n",
    "                if node.val == node.right.val+1:\n",
    "                    r -= 1\n",
    "                    if rd < 0 or ri < 0:\n",
    "                        r -= -min(rd, ri)\n",
    "                elif node.val == node.right.val-1:\n",
    "                    r += 1\n",
    "                    if rd > 0 or ri > 0:\n",
    "                        r += max(rd, ri)\n",
    "                        \n",
    "            # if l & r are both positive or negative, it means path will not pass through parent node, gets max(|l| + |r|)\n",
    "            # if one negative and the other positive, it means path will pass through parent node, gets |l| + |r|\n",
    "            path_len = abs(l-r) if l * r < 0 else max(abs(l), abs(r))\n",
    "#             print(node.val, path_len, l, r)\n",
    "            if path_len+1 > longest:\n",
    "                longest = path_len+1 # add node itself\n",
    "            return l, r\n",
    "        \n",
    "        longest = 0\n",
    "        dfs(root)\n",
    "        return longest"
   ]
  },
  {
   "cell_type": "code",
   "execution_count": 67,
   "metadata": {},
   "outputs": [],
   "source": [
    "# compare curNode and parentNode (no left or right node check comparing to the solution above)\n",
    "# Runtime: 40 ms, faster than 100.00%\n",
    "# https://leetcode.com/problems/binary-tree-longest-consecutive-sequence-ii/discuss/101520/DFS-C%2B%2B-Python-solutions\n",
    "class Solution:\n",
    "    def longestConsecutive(self, root: TreeNode) -> int:\n",
    "        \"\"\"\n",
    "        return (consecutive decreasing number, consecutive increasing number)\n",
    "        \"\"\"\n",
    "        def dfs(node: TreeNode, parent: TreeNode) -> (int, int):\n",
    "            nonlocal longest\n",
    "            if not node: return 0, 0\n",
    "            ld, li = dfs(node.left, node)\n",
    "            rd, ri = dfs(node.right, node)\n",
    "            longest = max(longest, ld+ri+1, li+rd+1)\n",
    "            if node.val == parent.val-1: # decreasing\n",
    "                return max(ld,rd)+1, 0\n",
    "            if node.val == parent.val+1: # increasing\n",
    "                return 0, max(li,ri)+1\n",
    "            return 0, 0\n",
    "        \n",
    "        longest = 0\n",
    "        dfs(root, root)\n",
    "        return longest"
   ]
  },
  {
   "cell_type": "code",
   "execution_count": 68,
   "metadata": {},
   "outputs": [
    {
     "data": {
      "text/plain": [
       "4"
      ]
     },
     "execution_count": 68,
     "metadata": {},
     "output_type": "execute_result"
    }
   ],
   "source": [
    "root = TreeNode.deserialize('[2,1,3,null,null,null,4]')\n",
    "Solution().longestConsecutive(root)"
   ]
  },
  {
   "cell_type": "code",
   "execution_count": 63,
   "metadata": {},
   "outputs": [
    {
     "data": {
      "text/plain": [
       "4"
      ]
     },
     "execution_count": 63,
     "metadata": {},
     "output_type": "execute_result"
    }
   ],
   "source": [
    "root = TreeNode.deserialize('[-1,-2,null,-3,null,-4]')\n",
    "Solution().longestConsecutive(root)"
   ]
  },
  {
   "cell_type": "code",
   "execution_count": 64,
   "metadata": {},
   "outputs": [
    {
     "data": {
      "text/plain": [
       "2"
      ]
     },
     "execution_count": 64,
     "metadata": {},
     "output_type": "execute_result"
    }
   ],
   "source": [
    "root = TreeNode.deserialize('[1,null,2]')\n",
    "Solution().longestConsecutive(root)"
   ]
  },
  {
   "cell_type": "code",
   "execution_count": 65,
   "metadata": {},
   "outputs": [
    {
     "data": {
      "text/plain": [
       "3"
      ]
     },
     "execution_count": 65,
     "metadata": {},
     "output_type": "execute_result"
    }
   ],
   "source": [
    "root = TreeNode.deserialize('[2,1,3]')\n",
    "Solution().longestConsecutive(root)"
   ]
  },
  {
   "cell_type": "code",
   "execution_count": 66,
   "metadata": {},
   "outputs": [
    {
     "data": {
      "text/plain": [
       "2"
      ]
     },
     "execution_count": 66,
     "metadata": {},
     "output_type": "execute_result"
    }
   ],
   "source": [
    "root = TreeNode.deserialize('[1,2,3]')\n",
    "Solution().longestConsecutive(root)"
   ]
  },
  {
   "cell_type": "code",
   "execution_count": null,
   "metadata": {},
   "outputs": [],
   "source": []
  }
 ],
 "metadata": {
  "kernelspec": {
   "display_name": "Python 3",
   "language": "python",
   "name": "python3"
  },
  "language_info": {
   "codemirror_mode": {
    "name": "ipython",
    "version": 3
   },
   "file_extension": ".py",
   "mimetype": "text/x-python",
   "name": "python",
   "nbconvert_exporter": "python",
   "pygments_lexer": "ipython3",
   "version": "3.6.8"
  }
 },
 "nbformat": 4,
 "nbformat_minor": 2
}
