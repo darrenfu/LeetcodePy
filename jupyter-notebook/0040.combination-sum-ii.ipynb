{
 "cells": [
  {
   "cell_type": "code",
   "execution_count": 38,
   "metadata": {},
   "outputs": [],
   "source": [
    "# Backtracking: a follow-up on #39\n",
    "# Runtime: 52 ms, faster than 88.47%\n",
    "# https://leetcode.com/problems/combination-sum-ii/discuss/16944/Beating-98-Python-solution-using-recursion-with-comments\n",
    "from typing import List\n",
    "\n",
    "class Solution:\n",
    "    def combinationSum2(self, candidates: List[int], target: int) -> List[List[int]]:\n",
    "        def dfs(candidates: List[int], stack: List[int], res: List[List[int]], remaining: int) -> int:\n",
    "            if remaining < 0:\n",
    "                return\n",
    "            if remaining == 0:\n",
    "                res.append(stack[:])\n",
    "                return\n",
    "            \n",
    "            for idx, i in enumerate(candidates):\n",
    "                if stack and i < stack[-1]: # pruning if candidate is smaller than any element in stack (ascending)\n",
    "                    continue\n",
    "                if i > remaining: # pruning by \"all positive condition\"\n",
    "                    break\n",
    "                # ignore the duplicates after the first element in this sub-candidates.\n",
    "                if idx != 0 and candidates[idx-1] == i:\n",
    "                    continue\n",
    "                stack.append(i)\n",
    "                # candidates[:idx+1] are used, exclude them from counting in sub-function\n",
    "                ret = dfs(candidates[idx+1:], stack, res, remaining-i)\n",
    "                stack.pop()\n",
    "                    \n",
    "        candidates.sort()\n",
    "        res = []\n",
    "        dfs(candidates, [], res, target)\n",
    "        return res"
   ]
  },
  {
   "cell_type": "code",
   "execution_count": 42,
   "metadata": {},
   "outputs": [],
   "source": [
    "# use Counter instead of excluding first i sub-candidates (which are used)\n",
    "from typing import List\n",
    "from collections import Counter\n",
    "\n",
    "class Solution:\n",
    "    def combinationSum2(self, candidates: List[int], target: int) -> List[List[int]]:\n",
    "        def dfs(stack: List[int], res: List[List[int]], remaining: int, counter: 'Counter') -> int:\n",
    "            if remaining < 0:\n",
    "                return\n",
    "            if remaining == 0:\n",
    "                res.append(stack[:])\n",
    "                return\n",
    "            \n",
    "            for idx, i in enumerate(candidates):\n",
    "                if stack and i < stack[-1]: # pruning if candidate is smaller than any element in stack (ascending)\n",
    "                    continue\n",
    "                if i > remaining: # pruning by \"all positive condition\"\n",
    "                    break\n",
    "                # ignore the duplicates after the first element in this sub-candidates.\n",
    "                if idx != 0 and candidates[idx-1] == i:\n",
    "                    continue\n",
    "                if counter[i] == 0:\n",
    "                    continue\n",
    "                stack.append(i)\n",
    "                counter[i] -= 1\n",
    "                ret = dfs(stack, res, remaining-i, counter)\n",
    "                counter[i] += 1\n",
    "                stack.pop()\n",
    "                    \n",
    "        candidates.sort()\n",
    "        counter = Counter(candidates)\n",
    "        res = []\n",
    "        dfs([], res, target, counter)\n",
    "        return res"
   ]
  },
  {
   "cell_type": "code",
   "execution_count": 43,
   "metadata": {},
   "outputs": [
    {
     "data": {
      "text/plain": [
       "[[1, 1, 6], [1, 2, 5], [1, 7], [2, 6]]"
      ]
     },
     "execution_count": 43,
     "metadata": {},
     "output_type": "execute_result"
    }
   ],
   "source": [
    "Solution().combinationSum2(candidates = [10,1,2,7,6,1,5], target = 8)"
   ]
  },
  {
   "cell_type": "code",
   "execution_count": 44,
   "metadata": {},
   "outputs": [
    {
     "data": {
      "text/plain": [
       "[[1, 2, 2], [5]]"
      ]
     },
     "execution_count": 44,
     "metadata": {},
     "output_type": "execute_result"
    }
   ],
   "source": [
    "Solution().combinationSum2(candidates = [2,5,2,1,2], target = 5)"
   ]
  },
  {
   "cell_type": "code",
   "execution_count": 45,
   "metadata": {},
   "outputs": [
    {
     "data": {
      "text/plain": [
       "[]"
      ]
     },
     "execution_count": 45,
     "metadata": {},
     "output_type": "execute_result"
    }
   ],
   "source": [
    "Solution().combinationSum2(candidates = [1,2], target = 4)"
   ]
  },
  {
   "cell_type": "code",
   "execution_count": null,
   "metadata": {},
   "outputs": [],
   "source": []
  }
 ],
 "metadata": {
  "kernelspec": {
   "display_name": "Python 3",
   "language": "python",
   "name": "python3"
  },
  "language_info": {
   "codemirror_mode": {
    "name": "ipython",
    "version": 3
   },
   "file_extension": ".py",
   "mimetype": "text/x-python",
   "name": "python",
   "nbconvert_exporter": "python",
   "pygments_lexer": "ipython3",
   "version": "3.6.8"
  }
 },
 "nbformat": 4,
 "nbformat_minor": 2
}
