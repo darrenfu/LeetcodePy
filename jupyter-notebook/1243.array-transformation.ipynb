{
 "cells": [
  {
   "cell_type": "code",
   "execution_count": 23,
   "metadata": {},
   "outputs": [],
   "source": [
    "from typing import List\n",
    "\n",
    "class Solution:\n",
    "    def transformArray(self, arr: List[int]) -> List[int]:\n",
    "        newarr = arr[:]\n",
    "        N = len(arr)\n",
    "        while True:\n",
    "            for i in range(1, N-1):\n",
    "                if arr[i-1] > arr[i] < arr[i+1]:\n",
    "                    newarr[i] += 1\n",
    "                if arr[i-1] < arr[i] > arr[i+1]:\n",
    "                    newarr[i] -= 1\n",
    "            if arr == newarr:\n",
    "                break\n",
    "            arr = newarr[:]\n",
    "        return arr"
   ]
  },
  {
   "cell_type": "code",
   "execution_count": 24,
   "metadata": {},
   "outputs": [
    {
     "name": "stdout",
     "output_type": "stream",
     "text": [
      "[1, 5, 4, 3, 4, 5]\n",
      "[1, 4, 4, 4, 4, 5]\n"
     ]
    },
    {
     "data": {
      "text/plain": [
       "[1, 4, 4, 4, 4, 5]"
      ]
     },
     "execution_count": 24,
     "metadata": {},
     "output_type": "execute_result"
    }
   ],
   "source": [
    "Solution().transformArray(arr = [1,6,3,4,3,5])"
   ]
  },
  {
   "cell_type": "code",
   "execution_count": 25,
   "metadata": {},
   "outputs": [
    {
     "name": "stdout",
     "output_type": "stream",
     "text": [
      "[6, 3, 3, 4]\n"
     ]
    },
    {
     "data": {
      "text/plain": [
       "[6, 3, 3, 4]"
      ]
     },
     "execution_count": 25,
     "metadata": {},
     "output_type": "execute_result"
    }
   ],
   "source": [
    "Solution().transformArray(arr = [6,2,3,4])"
   ]
  },
  {
   "cell_type": "code",
   "execution_count": null,
   "metadata": {},
   "outputs": [],
   "source": []
  }
 ],
 "metadata": {
  "kernelspec": {
   "display_name": "Python 3",
   "language": "python",
   "name": "python3"
  },
  "language_info": {
   "codemirror_mode": {
    "name": "ipython",
    "version": 3
   },
   "file_extension": ".py",
   "mimetype": "text/x-python",
   "name": "python",
   "nbconvert_exporter": "python",
   "pygments_lexer": "ipython3",
   "version": "3.6.8"
  }
 },
 "nbformat": 4,
 "nbformat_minor": 2
}
