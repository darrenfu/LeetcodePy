{
 "cells": [
  {
   "cell_type": "markdown",
   "metadata": {},
   "source": [
    "### [67\\. Add Binary](https://leetcode.com/problems/add-binary/)\n",
    "\n",
    "Difficulty: **Easy**\n",
    "\n",
    "\n",
    "Given two binary strings, return their sum (also a binary string).\n",
    "\n",
    "The input strings are both **non-empty** and contains only characters `1` or `0`.\n",
    "\n",
    "**Example 1:**\n",
    "\n",
    "```\n",
    "Input: a = \"11\", b = \"1\"\n",
    "Output: \"100\"\n",
    "```\n",
    "\n",
    "**Example 2:**\n",
    "\n",
    "```\n",
    "Input: a = \"1010\", b = \"1011\"\n",
    "Output: \"10101\"\n",
    "```"
   ]
  },
  {
   "cell_type": "code",
   "execution_count": 1,
   "metadata": {},
   "outputs": [],
   "source": [
    "# recursion\n",
    "class Solution:\n",
    "    def addBinary(self, a: str, b: str) -> str:\n",
    "        if not a or not b: return a or b\n",
    "        if a[-1] == '1' and b[-1] == '1':\n",
    "            return self.addBinary('1', self.addBinary(a[:-1], b[:-1])) + '0'\n",
    "        if a[-1] == '0' and b[-1] == '0':\n",
    "            return self.addBinary(a[:-1], b[:-1]) + '0'\n",
    "        return self.addBinary(a[:-1], b[:-1]) + '1'"
   ]
  },
  {
   "cell_type": "code",
   "execution_count": null,
   "metadata": {},
   "outputs": [],
   "source": [
    "# bit manipulation\n",
    "# sum without carry: a ^ b\n",
    "# carry: (a&b) << 1\n",
    "class Solution:\n",
    "    def addBinary(self, a: str, b: str) -> str:\n",
    "        ans, carry = int(a, 2), int(b, 2)\n",
    "        while carry:\n",
    "            ans, carry = ans ^ carry, (ans & carry) << 1\n",
    "        return bin(ans)[2:]"
   ]
  }
 ],
 "metadata": {
  "kernelspec": {
   "display_name": "Python 3",
   "language": "python",
   "name": "python3"
  },
  "language_info": {
   "codemirror_mode": {
    "name": "ipython",
    "version": 3
   },
   "file_extension": ".py",
   "mimetype": "text/x-python",
   "name": "python",
   "nbconvert_exporter": "python",
   "pygments_lexer": "ipython3",
   "version": "3.6.8"
  }
 },
 "nbformat": 4,
 "nbformat_minor": 2
}
