{
 "cells": [
  {
   "cell_type": "code",
   "execution_count": 18,
   "metadata": {},
   "outputs": [],
   "source": [
    "#* similar to DP solution to 300. LIS\n",
    "# T: O(N*logN) on avg; O(N^2) worse case\n",
    "# Runtime: 748 ms, faster than 76.99%\n",
    "# https://leetcode.com/problems/make-array-strictly-increasing/discuss/377403/Python-DP-solution-with-explanation.\n",
    "\n",
    "from typing import List\n",
    "import collections\n",
    "import bisect\n",
    "\n",
    "class Solution:\n",
    "    def makeArrayIncreasing(self, arr1: List[int], arr2: List[int]) -> int:\n",
    "        dp = {-1:0}  # storing all promising current states\n",
    "        arr2.sort()\n",
    "        for a in arr1:\n",
    "            # key: value either from the original arr1 or from a replacement action from arr2\n",
    "            # val: how many times we change the number\n",
    "            tmpdict = collections.defaultdict(lambda: 10**9+1)\n",
    "            for key in dp.keys():\n",
    "                if a > key:  # the next element a is strictly increasing\n",
    "                    tmpdict[a] = min(tmpdict[a], dp[key])\n",
    "                # find the smallest value in arr2 larger than key\n",
    "                loc = bisect.bisect_right(arr2, key)\n",
    "                if loc < len(arr2):  # loc must be within arr2, otherwise return -1\n",
    "                    # arr2[loc] is the one from arr2 to replace a in arr1\n",
    "                    # changing number costs 1 operation, which means dp[key] + 1\n",
    "                    tmpdict[arr2[loc]] = min(tmpdict[arr2[loc]], dp[key] + 1)\n",
    "            dp = tmpdict\n",
    "        if dp:\n",
    "            return min(dp.values())\n",
    "        return -1"
   ]
  },
  {
   "cell_type": "code",
   "execution_count": 20,
   "metadata": {},
   "outputs": [
    {
     "data": {
      "text/plain": [
       "1"
      ]
     },
     "execution_count": 20,
     "metadata": {},
     "output_type": "execute_result"
    }
   ],
   "source": [
    "Solution().makeArrayIncreasing(arr1 = [1,5,3,6,7], arr2 = [1,3,2,4])"
   ]
  },
  {
   "cell_type": "code",
   "execution_count": 21,
   "metadata": {},
   "outputs": [
    {
     "data": {
      "text/plain": [
       "2"
      ]
     },
     "execution_count": 21,
     "metadata": {},
     "output_type": "execute_result"
    }
   ],
   "source": [
    "Solution().makeArrayIncreasing(arr1 = [1,5,3,6,7], arr2 = [4,3,1])"
   ]
  },
  {
   "cell_type": "code",
   "execution_count": 22,
   "metadata": {},
   "outputs": [
    {
     "data": {
      "text/plain": [
       "-1"
      ]
     },
     "execution_count": 22,
     "metadata": {},
     "output_type": "execute_result"
    }
   ],
   "source": [
    "Solution().makeArrayIncreasing(arr1 = [1,5,3,6,7], arr2 = [1,6,3,3])"
   ]
  },
  {
   "cell_type": "code",
   "execution_count": null,
   "metadata": {},
   "outputs": [],
   "source": []
  }
 ],
 "metadata": {
  "kernelspec": {
   "display_name": "Python 3",
   "language": "python",
   "name": "python3"
  },
  "language_info": {
   "codemirror_mode": {
    "name": "ipython",
    "version": 3
   },
   "file_extension": ".py",
   "mimetype": "text/x-python",
   "name": "python",
   "nbconvert_exporter": "python",
   "pygments_lexer": "ipython3",
   "version": "3.6.8"
  }
 },
 "nbformat": 4,
 "nbformat_minor": 2
}
