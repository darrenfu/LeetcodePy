{
 "cells": [
  {
   "cell_type": "markdown",
   "metadata": {},
   "source": [
    "### [221\\. Maximal Square](https://leetcode.com/problems/maximal-square/)\n",
    "\n",
    "Difficulty: **Medium**\n",
    "\n",
    "\n",
    "Given a 2D binary matrix filled with 0's and 1's, find the largest square containing only 1's and return its area.\n",
    "\n",
    "**Example:**\n",
    "\n",
    "```\n",
    "Input: \n",
    "\n",
    "1 0 1 0 0\n",
    "1 0 1 1 1\n",
    "1 1 1 1 1\n",
    "1 0 0 1 0\n",
    "\n",
    "Output: 4\n",
    "```"
   ]
  },
  {
   "cell_type": "code",
   "execution_count": 9,
   "metadata": {},
   "outputs": [],
   "source": [
    "# DP - O(N^3)\n",
    "# https://www.youtube.com/watch?v=vkFUB--OYy0\n",
    "from typing import List\n",
    "\n",
    "class Solution:\n",
    "    def maximalSquare(self, matrix: List[List[str]]) -> int:\n",
    "        if not matrix: return 0\n",
    "        R, C = len(matrix), len(matrix[0])\n",
    "        dp = [[0] * (C+1) for _ in range(R+1)]\n",
    "        for i in range(1, R+1):\n",
    "            for j in range(1, C+1):\n",
    "                # dp's index(es) is one larger than matrix's index(es)\n",
    "                dp[i][j] = int(matrix[i-1][j-1]) + dp[i][j-1] + dp[i-1][j] - dp[i-1][j-1]\n",
    "        \n",
    "        res = 0\n",
    "        for i in range(1, R+1):\n",
    "            for j in range(1, C+1):\n",
    "                for k in range(min(R-i+1,C-j+1),0,-1): # calc from largest square size to prevent over computing\n",
    "                    # big matrix - horizontal stripe area - vertical stripe area + small matrix overlap between stripes\n",
    "                    total = dp[i+k-1][j+k-1] - dp[i+k-1][j-1] - dp[i-1][j+k-1] + dp[i-1][j-1]\n",
    "                    if total == k*k:\n",
    "                        res = max(res, total)\n",
    "                        break # skip smaller squares\n",
    "        return res"
   ]
  },
  {
   "cell_type": "code",
   "execution_count": 10,
   "metadata": {},
   "outputs": [
    {
     "data": {
      "text/plain": [
       "4"
      ]
     },
     "execution_count": 10,
     "metadata": {},
     "output_type": "execute_result"
    }
   ],
   "source": [
    "Solution().maximalSquare(matrix=[['1','0','1','0','0'],['1','0','1','1','1'],['1','1','1','1','1'],['1','0','0','1','0']])"
   ]
  },
  {
   "cell_type": "code",
   "execution_count": null,
   "metadata": {},
   "outputs": [],
   "source": []
  }
 ],
 "metadata": {
  "kernelspec": {
   "display_name": "Python 3",
   "language": "python",
   "name": "python3"
  },
  "language_info": {
   "codemirror_mode": {
    "name": "ipython",
    "version": 3
   },
   "file_extension": ".py",
   "mimetype": "text/x-python",
   "name": "python",
   "nbconvert_exporter": "python",
   "pygments_lexer": "ipython3",
   "version": "3.6.8"
  }
 },
 "nbformat": 4,
 "nbformat_minor": 2
}
