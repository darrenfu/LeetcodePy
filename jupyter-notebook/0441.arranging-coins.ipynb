{
 "cells": [
  {
   "cell_type": "code",
   "execution_count": 7,
   "metadata": {},
   "outputs": [],
   "source": [
    "# Brute force\n",
    "# Runtime: 960 ms, faster than 26.84%\n",
    "class Solution:\n",
    "    def arrangeCoins(self, n: int) -> int:\n",
    "        remaining = n\n",
    "        for i in range(1,n+1):\n",
    "            remaining -= i\n",
    "            if remaining < i+1:\n",
    "                return i\n",
    "        return 0"
   ]
  },
  {
   "cell_type": "code",
   "execution_count": 35,
   "metadata": {},
   "outputs": [],
   "source": [
    "# Binary Search\n",
    "# Runtime: 36 ms, faster than 93.25% \n",
    "# Runtime: 44 ms, faster than 67.92% (if add logic `if total == n: return mid`)\n",
    "class Solution:\n",
    "    def arrangeCoins(self, n: int) -> int:\n",
    "        if n <= 1: return n\n",
    "        lo, hi = 1, n\n",
    "        while lo < hi:\n",
    "            mid = (lo+hi) // 2\n",
    "            total = mid*(mid+1)//2\n",
    "#             if total == n:\n",
    "#                 return mid\n",
    "#             elif total < n:\n",
    "            if total <= n:\n",
    "                lo = mid+1\n",
    "            else:\n",
    "                hi = mid\n",
    "        return lo-1 # why lo-1? because mid(=lo-1) is the last full row"
   ]
  },
  {
   "cell_type": "code",
   "execution_count": 51,
   "metadata": {},
   "outputs": [],
   "source": [
    "# Binary Search - recusion\n",
    "# Runtime: 44 ms, faster than 67.92%\n",
    "# https://leetcode.com/problems/arranging-coins/discuss/337720/Three-JAVA-solutions\n",
    "class Solution:\n",
    "    def arrangeCoins(self, n: int) -> int:\n",
    "        def binarySearch(n: int, lo: int, hi: int):\n",
    "            mid = (lo+hi)//2\n",
    "            total = mid*(mid+1)//2\n",
    "            if total == n: return mid\n",
    "            # if last row: mid+1 is not a full row\n",
    "            if total < n:\n",
    "                if total+mid+1 > n: return mid\n",
    "                else: return binarySearch(n, mid+1, hi)\n",
    "            else: return binarySearch(n, lo, mid)\n",
    "        return binarySearch(n, 1, n)"
   ]
  },
  {
   "cell_type": "code",
   "execution_count": 52,
   "metadata": {},
   "outputs": [
    {
     "data": {
      "text/plain": [
       "2"
      ]
     },
     "execution_count": 52,
     "metadata": {},
     "output_type": "execute_result"
    }
   ],
   "source": [
    "Solution().arrangeCoins(5)"
   ]
  },
  {
   "cell_type": "code",
   "execution_count": 53,
   "metadata": {},
   "outputs": [
    {
     "data": {
      "text/plain": [
       "3"
      ]
     },
     "execution_count": 53,
     "metadata": {},
     "output_type": "execute_result"
    }
   ],
   "source": [
    "Solution().arrangeCoins(8)"
   ]
  },
  {
   "cell_type": "code",
   "execution_count": 54,
   "metadata": {},
   "outputs": [
    {
     "data": {
      "text/plain": [
       "0"
      ]
     },
     "execution_count": 54,
     "metadata": {},
     "output_type": "execute_result"
    }
   ],
   "source": [
    "Solution().arrangeCoins(0)"
   ]
  },
  {
   "cell_type": "code",
   "execution_count": 55,
   "metadata": {},
   "outputs": [
    {
     "data": {
      "text/plain": [
       "2"
      ]
     },
     "execution_count": 55,
     "metadata": {},
     "output_type": "execute_result"
    }
   ],
   "source": [
    "Solution().arrangeCoins(3)"
   ]
  },
  {
   "cell_type": "code",
   "execution_count": 56,
   "metadata": {},
   "outputs": [
    {
     "data": {
      "text/plain": [
       "3"
      ]
     },
     "execution_count": 56,
     "metadata": {},
     "output_type": "execute_result"
    }
   ],
   "source": [
    "Solution().arrangeCoins(6)"
   ]
  },
  {
   "cell_type": "code",
   "execution_count": null,
   "metadata": {},
   "outputs": [],
   "source": []
  }
 ],
 "metadata": {
  "kernelspec": {
   "display_name": "Python 3",
   "language": "python",
   "name": "python3"
  },
  "language_info": {
   "codemirror_mode": {
    "name": "ipython",
    "version": 3
   },
   "file_extension": ".py",
   "mimetype": "text/x-python",
   "name": "python",
   "nbconvert_exporter": "python",
   "pygments_lexer": "ipython3",
   "version": "3.6.8"
  }
 },
 "nbformat": 4,
 "nbformat_minor": 2
}
