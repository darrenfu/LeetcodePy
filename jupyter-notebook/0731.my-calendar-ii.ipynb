{
 "cells": [
  {
   "cell_type": "markdown",
   "metadata": {},
   "source": [
    "### [731\\. My Calendar II](https://leetcode.com/problems/my-calendar-ii/)\n",
    "\n",
    "Difficulty: **Medium**\n",
    "\n",
    "\n",
    "Implement a `MyCalendarTwo` class to store your events. A new event can be added if adding the event will not cause a **triple** booking.\n",
    "\n",
    "Your class will have one method, `book(int start, int end)`. Formally, this represents a booking on the half open interval `[start, end)`, the range of real numbers `x` such that `start <= x < end`.\n",
    "\n",
    "A _triple booking_ happens when **three** events have some non-empty intersection (ie., there is some time that is common to all 3 events.)\n",
    "\n",
    "For each call to the method `MyCalendar.book`, return `true` if the event can be added to the calendar successfully without causing a **triple** booking. Otherwise, return `false` and do not add the event to the calendar.\n",
    "\n",
    "Your class will be called like this: `MyCalendar cal = new MyCalendar();` `MyCalendar.book(start, end)`\n",
    "\n",
    "**Example 1:**\n",
    "\n",
    "```\n",
    "MyCalendar();\n",
    "MyCalendar.book(10, 20); // returns true\n",
    "MyCalendar.book(50, 60); // returns true\n",
    "MyCalendar.book(10, 40); // returns true\n",
    "MyCalendar.book(5, 15); // returns false\n",
    "MyCalendar.book(5, 10); // returns true\n",
    "MyCalendar.book(25, 55); // returns true\n",
    "Explanation: \n",
    "The first two events can be booked.  The third event can be double booked.\n",
    "The fourth event (5, 15) can't be booked, because it would result in a triple booking.\n",
    "The fifth event (5, 10) can be booked, as it does not use time 10 which is already double booked.\n",
    "The sixth event (25, 55) can be booked, as the time in [25, 40) will be double booked with the third event;\n",
    "the time [40, 50) will be single booked, and the time [50, 55) will be double booked with the second event.\n",
    "```\n",
    "\n",
    "**Note:**\n",
    "\n",
    "*   The number of calls to `MyCalendar.book` per test case will be at most `1000`.\n",
    "*   In calls to `MyCalendar.book(start, end)`, `start` and `end` are integers in the range `[0, 10^9]`."
   ]
  },
  {
   "cell_type": "code",
   "execution_count": 23,
   "metadata": {},
   "outputs": [],
   "source": [
    "# Counter/OrderedDict O(N^2*logN) - TLE\n",
    "# Boundary Counting\n",
    "from collections import OrderedDict\n",
    "\n",
    "class MyCalendarTwo:\n",
    "\n",
    "    def __init__(self):\n",
    "        self.cnt = OrderedDict()\n",
    "\n",
    "    def book(self, start: int, end: int) -> bool:\n",
    "        if start not in self.cnt:\n",
    "            self.cnt[start] = 1\n",
    "        else:\n",
    "            self.cnt[start] += 1 # start is inclusive\n",
    "        if end not in self.cnt:\n",
    "            self.cnt[end] = -1\n",
    "        else:\n",
    "            self.cnt[end] -= 1 # end is exclusive\n",
    "        cur_overlap = 0\n",
    "        for key in sorted(self.cnt.keys()):\n",
    "            cur_overlap += self.cnt[key]\n",
    "            if cur_overlap >= 3:\n",
    "                # book failed, reset counter to previous state\n",
    "                self.cnt[start] -= 1\n",
    "                self.cnt[end] += 1\n",
    "                return False\n",
    "        return True"
   ]
  },
  {
   "cell_type": "code",
   "execution_count": 35,
   "metadata": {},
   "outputs": [],
   "source": [
    "# Boundary Counting + Binary Search Insort\n",
    "# https://leetcode.com/problems/my-calendar-ii/discuss/192388/python-boundary-count-using-bisect\n",
    "from bisect import insort\n",
    "\n",
    "class MyCalendarTwo:\n",
    "\n",
    "    def __init__(self):\n",
    "        self.cnt = []\n",
    "\n",
    "    def book(self, start: int, end: int) -> bool:\n",
    "        if not self.cnt:\n",
    "            self.cnt += (start,1),\n",
    "            self.cnt += (end,-1),\n",
    "            return True\n",
    "        insort(self.cnt, (start,1))\n",
    "        insort(self.cnt, (end,-1))\n",
    "        cur_overlap = 0\n",
    "        for _, freq in self.cnt:\n",
    "            cur_overlap += freq\n",
    "            if cur_overlap == 3:\n",
    "                # book failed, reset counter to previous state\n",
    "                self.cnt.remove((start,1))\n",
    "                self.cnt.remove((end,-1))\n",
    "                return False\n",
    "        return True"
   ]
  },
  {
   "cell_type": "code",
   "execution_count": 31,
   "metadata": {},
   "outputs": [],
   "source": [
    "# https://leetcode.com/problems/my-calendar-ii/discuss/290934/python-bisectinsort-97\n",
    "from bisect import *\n",
    "\n",
    "class MyCalendarTwo:\n",
    "\n",
    "    def __init__(self):\n",
    "        self.cnt = {}\n",
    "        self.pos = []\n",
    "\n",
    "    def book(self, start: int, end: int) -> bool:\n",
    "        si = bisect_left(self.pos, start)\n",
    "        ei = bisect_left(self.pos, end)\n",
    "        if any(self.cnt[self.pos[k]] >= 2 for k in range(si, ei)):\n",
    "            return False\n",
    "        if start not in self.cnt:\n",
    "            c = self.cnt[self.pos[si-1]] if si>=1 else 0\n",
    "            if c >= 2: return False\n",
    "            # insert one element at index i\n",
    "            self.pos[si:si] = [start]\n",
    "            self.cnt[start] = c\n",
    "            ei += 1\n",
    "        if end not in self.cnt:\n",
    "            self.pos[ei:ei] = [end]\n",
    "            self.cnt[end] = self.cnt[self.pos[ei-1]]\n",
    "        for k in range(si,ei):\n",
    "            self.cnt[self.pos[k]] += 1\n",
    "        return True"
   ]
  },
  {
   "cell_type": "code",
   "execution_count": 36,
   "metadata": {},
   "outputs": [
    {
     "name": "stdout",
     "output_type": "stream",
     "text": [
      "True\n",
      "True\n",
      "True\n",
      "False\n",
      "True\n",
      "True\n"
     ]
    }
   ],
   "source": [
    "# Your MyCalendarTwo object will be instantiated and called as such:\n",
    "obj = MyCalendarTwo()\n",
    "print(obj.book(10,20))\n",
    "print(obj.book(50,60))\n",
    "print(obj.book(10,40))\n",
    "print(obj.book(5, 15))\n",
    "print(obj.book(5, 10))\n",
    "print(obj.book(25, 55))"
   ]
  },
  {
   "cell_type": "code",
   "execution_count": null,
   "metadata": {},
   "outputs": [],
   "source": []
  }
 ],
 "metadata": {
  "kernelspec": {
   "display_name": "Python 3",
   "language": "python",
   "name": "python3"
  },
  "language_info": {
   "codemirror_mode": {
    "name": "ipython",
    "version": 3
   },
   "file_extension": ".py",
   "mimetype": "text/x-python",
   "name": "python",
   "nbconvert_exporter": "python",
   "pygments_lexer": "ipython3",
   "version": "3.6.8"
  }
 },
 "nbformat": 4,
 "nbformat_minor": 2
}
