{
 "cells": [
  {
   "cell_type": "code",
   "execution_count": 23,
   "metadata": {},
   "outputs": [],
   "source": [
    "# Greedy\n",
    "# Runtime: 916 ms, faster than 90.14% (bit operation is faster!)\n",
    "# T&S: O(N)\n",
    "# https://leetcode.com/problems/minimum-number-of-k-consecutive-bit-flips/discuss/238609/JavaC%2B%2BPython-One-Pass-and-O(1)-Space\n",
    "from typing import List\n",
    "\n",
    "class Solution:\n",
    "    def minKBitFlips(self, A: List[int], K: int) -> int:\n",
    "        n = len(A)\n",
    "        cur_flipped, res = 0, 0\n",
    "        is_flipped = [0] * n\n",
    "        for i in range(n):\n",
    "            if i >= K:\n",
    "                cur_flipped ^= is_flipped[i-K] # if is_flipped[i-K] == 1: flip; else: stay the same\n",
    "            if cur_flipped == A[i]: # if (A[i]==0 and not flipped) or (A[i]==1 but flipped), flip it!\n",
    "                # If at any point, we see that a necessary k-flip extends beyond the length of the array, \n",
    "                # we know that this flip can't happen.\n",
    "                if i+K > n: \n",
    "                    return -1\n",
    "                is_flipped[i] = 1\n",
    "                cur_flipped ^= 1 # flip (0->1 or 1->0)\n",
    "                res += 1\n",
    "        return res"
   ]
  },
  {
   "cell_type": "code",
   "execution_count": 19,
   "metadata": {},
   "outputs": [],
   "source": [
    "# This solution is easiest to understand\n",
    "# Runtime: 992 ms, faster than 18.31%\n",
    "# S: O(K)\n",
    "# https://leetcode.com/problems/minimum-number-of-k-consecutive-bit-flips/discuss/238538/Python-O(n)-using-queue-and-how-to-get-rid-of-the-queue\n",
    "# https://leetcode.com/problems/minimum-number-of-k-consecutive-bit-flips/discuss/239284/C%2B%2B-greedy-stack-and-O(1)-memory\n",
    "from typing import List\n",
    "\n",
    "class Solution:\n",
    "    def minKBitFlips(self, A: List[int], K: int) -> int:\n",
    "        q = [] # queue to keep track of how many valid flips have been executed for the current index\n",
    "        n, res = len(A), 0\n",
    "        for i in range(n):\n",
    "            if len(q) % 2 == A[i]: # 1) even flips and A[i] == 0 or 2) odd flips and A[i] == 1\n",
    "                res += 1\n",
    "                q.append(i+K-1) # enqueue the window right edge\n",
    "            if q and q[0] == i: q.pop(0) # K-length sliding window, dequeue the window left edge\n",
    "            if q and q[-1] >= n: return -1\n",
    "        return res"
   ]
  },
  {
   "cell_type": "code",
   "execution_count": 30,
   "metadata": {},
   "outputs": [],
   "source": [
    "# Runtime: 964 ms, faster than 36.62%\n",
    "# S: O(1)\n",
    "from typing import List\n",
    "\n",
    "class Solution:\n",
    "    def minKBitFlips(self, A: List[int], K: int) -> int:\n",
    "        flips, res = 0, 0\n",
    "        n = len(A)\n",
    "        for i in range(n):\n",
    "            if flips & 1 ^ A[i] == 0: # -> flips % 2 == A[i]\n",
    "                if i+K > n: return -1\n",
    "                res += 1\n",
    "                flips += 1\n",
    "                A[i] -= 2\n",
    "            if i-K+1 >= 0 and A[i-K+1] < 0: # negative means in sliding window\n",
    "                flips -= 1\n",
    "                A[i-K+1] += 2\n",
    "        return res"
   ]
  },
  {
   "cell_type": "code",
   "execution_count": 34,
   "metadata": {},
   "outputs": [
    {
     "data": {
      "text/plain": [
       "2"
      ]
     },
     "execution_count": 34,
     "metadata": {},
     "output_type": "execute_result"
    }
   ],
   "source": [
    "Solution().minKBitFlips([0,1,0], K = 1)"
   ]
  },
  {
   "cell_type": "code",
   "execution_count": 35,
   "metadata": {},
   "outputs": [
    {
     "data": {
      "text/plain": [
       "-1"
      ]
     },
     "execution_count": 35,
     "metadata": {},
     "output_type": "execute_result"
    }
   ],
   "source": [
    "Solution().minKBitFlips(A = [1,1,0], K = 2)"
   ]
  },
  {
   "cell_type": "code",
   "execution_count": 36,
   "metadata": {},
   "outputs": [
    {
     "data": {
      "text/plain": [
       "3"
      ]
     },
     "execution_count": 36,
     "metadata": {},
     "output_type": "execute_result"
    }
   ],
   "source": [
    "Solution().minKBitFlips(A = [0,0,0,1,0,1,1,0], K = 3)"
   ]
  },
  {
   "cell_type": "code",
   "execution_count": null,
   "metadata": {},
   "outputs": [],
   "source": []
  }
 ],
 "metadata": {
  "kernelspec": {
   "display_name": "Python 3",
   "language": "python",
   "name": "python3"
  },
  "language_info": {
   "codemirror_mode": {
    "name": "ipython",
    "version": 3
   },
   "file_extension": ".py",
   "mimetype": "text/x-python",
   "name": "python",
   "nbconvert_exporter": "python",
   "pygments_lexer": "ipython3",
   "version": "3.6.8"
  }
 },
 "nbformat": 4,
 "nbformat_minor": 2
}
