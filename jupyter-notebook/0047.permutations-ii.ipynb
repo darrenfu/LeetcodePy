{
 "cells": [
  {
   "cell_type": "code",
   "execution_count": 5,
   "metadata": {},
   "outputs": [],
   "source": [
    "# follow-up on #46\n",
    "# Runtime: 60 ms, faster than 90.77%\n",
    "from typing import List\n",
    "\n",
    "class Solution:\n",
    "    def permuteUnique(self, nums: List[int]) -> List[List[int]]:\n",
    "        def dfs(nums: List[int], stack: List[int], res: List[List[int]]):\n",
    "            if len(stack) == N:\n",
    "                res.append(stack[:])\n",
    "                return\n",
    "            for i, v in enumerate(nums):\n",
    "                if i > 0 and nums[i-1] == v: # deal with duplicates\n",
    "                    continue\n",
    "                stack.append(v)\n",
    "                dfs(nums[:i] + nums[i+1:], stack, res)\n",
    "                stack.pop()\n",
    "                \n",
    "        nums.sort()\n",
    "        N = len(nums)\n",
    "        res = []\n",
    "        dfs(nums, [], res)\n",
    "        return res"
   ]
  },
  {
   "cell_type": "code",
   "execution_count": 6,
   "metadata": {},
   "outputs": [
    {
     "data": {
      "text/plain": [
       "[[1, 2, 2], [2, 1, 2], [2, 2, 1]]"
      ]
     },
     "execution_count": 6,
     "metadata": {},
     "output_type": "execute_result"
    }
   ],
   "source": [
    "Solution().permuteUnique([1,2,2])"
   ]
  },
  {
   "cell_type": "code",
   "execution_count": null,
   "metadata": {},
   "outputs": [],
   "source": []
  }
 ],
 "metadata": {
  "kernelspec": {
   "display_name": "Python 3",
   "language": "python",
   "name": "python3"
  },
  "language_info": {
   "codemirror_mode": {
    "name": "ipython",
    "version": 3
   },
   "file_extension": ".py",
   "mimetype": "text/x-python",
   "name": "python",
   "nbconvert_exporter": "python",
   "pygments_lexer": "ipython3",
   "version": "3.6.8"
  }
 },
 "nbformat": 4,
 "nbformat_minor": 2
}
