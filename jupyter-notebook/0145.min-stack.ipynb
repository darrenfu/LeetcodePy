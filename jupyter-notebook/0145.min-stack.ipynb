{
 "cells": [
  {
   "cell_type": "code",
   "execution_count": null,
   "metadata": {},
   "outputs": [],
   "source": [
    "class MinStack:\n",
    "\n",
    "    def __init__(self):\n",
    "        \"\"\"\n",
    "        initialize your data structure here.\n",
    "        \"\"\"\n",
    "        \n",
    "\n",
    "    def push(self, x: int) -> None:\n",
    "        \n",
    "\n",
    "    def pop(self) -> None:\n",
    "        \n",
    "\n",
    "    def top(self) -> int:\n",
    "        \n",
    "\n",
    "    def getMin(self) -> int:\n",
    "        "
   ]
  },
  {
   "cell_type": "code",
   "execution_count": null,
   "metadata": {},
   "outputs": [],
   "source": [
    "# Your MinStack object will be instantiated and called as such:\n",
    "obj = MinStack()\n",
    "obj.push(x)\n",
    "obj.pop()\n",
    "param_3 = obj.top()\n",
    "param_4 = obj.getMin()"
   ]
  }
 ],
 "metadata": {
  "kernelspec": {
   "display_name": "Python 3",
   "language": "python",
   "name": "python3"
  },
  "language_info": {
   "codemirror_mode": {
    "name": "ipython",
    "version": 3
   },
   "file_extension": ".py",
   "mimetype": "text/x-python",
   "name": "python",
   "nbconvert_exporter": "python",
   "pygments_lexer": "ipython3",
   "version": "3.6.8"
  }
 },
 "nbformat": 4,
 "nbformat_minor": 2
}
