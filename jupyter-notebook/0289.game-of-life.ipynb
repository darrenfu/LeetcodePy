{
 "cells": [
  {
   "cell_type": "code",
   "execution_count": null,
   "metadata": {},
   "outputs": [],
   "source": [
    "from typing import List\n",
    "from copy import deepcopy\n",
    "\n",
    "class Solution:\n",
    "    def gameOfLife(self, board: List[List[int]]) -> None:\n",
    "        def neighbors(x: int, y: int):\n",
    "            for nx, ny in ((x-1,y),(x+1,y),(x,y-1),(x,y+1)):\n",
    "                if 0<=x<C and 0<=y<R:\n",
    "                    yield(nx, ny)\n",
    "        \"\"\"\n",
    "        Do not return anything, modify board in-place instead.\n",
    "        \"\"\"\n",
    "        A = deepcopy(board)\n",
    "        R, C = len(board), len(board[0])\n",
    "        for i in range(R):\n",
    "            for j in range(C):\n",
    "                sm = sum(board[nx][ny] for nx, ny in neighbors(i, j))\n",
    "                if board[i][j] == 1:\n",
    "                    if sm < 2 or sm > 3:\n",
    "                        # die\n",
    "                    else:\n",
    "                        # live\n",
    "                elif sm >= 3:\n",
    "                    # revive"
   ]
  }
 ],
 "metadata": {
  "kernelspec": {
   "display_name": "Python 3",
   "language": "python",
   "name": "python3"
  },
  "language_info": {
   "codemirror_mode": {
    "name": "ipython",
    "version": 3
   },
   "file_extension": ".py",
   "mimetype": "text/x-python",
   "name": "python",
   "nbconvert_exporter": "python",
   "pygments_lexer": "ipython3",
   "version": "3.6.8"
  }
 },
 "nbformat": 4,
 "nbformat_minor": 2
}
