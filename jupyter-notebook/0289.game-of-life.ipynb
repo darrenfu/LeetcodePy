{
 "cells": [
  {
   "cell_type": "markdown",
   "metadata": {},
   "source": [
    "### [289\\. Game of Life](https://leetcode.com/problems/game-of-life/)\n",
    "\n",
    "Difficulty: **Medium**\n",
    "\n",
    "\n",
    "According to the : \"The **Game of Life**, also known simply as **Life**, is a cellular automaton devised by the British mathematician John Horton Conway in 1970.\"\n",
    "\n",
    "Given a _board_ with _m_ by _n_ cells, each cell has an initial state _live_ (1) or _dead_ (0). Each cell interacts with its (horizontal, vertical, diagonal) using the following four rules (taken from the above Wikipedia article):\n",
    "\n",
    "1.  Any live cell with fewer than two live neighbors dies, as if caused by under-population.\n",
    "2.  Any live cell with two or three live neighbors lives on to the next generation.\n",
    "3.  Any live cell with more than three live neighbors dies, as if by over-population..\n",
    "4.  Any dead cell with exactly three live neighbors becomes a live cell, as if by reproduction.\n",
    "\n",
    "The next state is created by applying the above rules simultaneously to every cell in the current state, where births and deaths occur simultaneously.\n",
    "\n",
    "**Example:**\n",
    "\n",
    "```\n",
    "Input: \n",
    "[\n",
    "  [0,1,0],\n",
    "  [0,0,1],\n",
    "  [1,1,1],\n",
    "  [0,0,0]\n",
    "]\n",
    "Output: \n",
    "[\n",
    "  [0,0,0],\n",
    "  [1,0,1],\n",
    "  [0,1,1],\n",
    "  [0,1,0]\n",
    "]\n",
    "```\n",
    "\n",
    "**Follow up**:\n",
    "\n",
    "1.  Could you solve it in-place? Remember that the board needs to be updated at the same time: You cannot update some cells first and then use their updated values to update other cells.\n",
    "2.  In this question, we represent the board using a 2D array. In principle, the board is infinite, which would cause problems when the active area encroaches the border of the array. How would you address these problems?"
   ]
  },
  {
   "cell_type": "code",
   "execution_count": 2,
   "metadata": {},
   "outputs": [],
   "source": [
    "from typing import List\n",
    "\n",
    "class Solution:\n",
    "    def gameOfLife(self, board: List[List[int]]) -> None:\n",
    "        \"\"\"\n",
    "        Do not return anything, modify board in-place instead.\n",
    "        \"\"\"\n",
    "        def neighbors(i: int, j: int):\n",
    "            for x, y in ((i-1,j-1), (i-1,j), (i-1,j+1), (i,j-1), (i,j+1), (i+1,j-1), (i+1,j), (i+1,j+1)):\n",
    "                if 0<=x<R and 0<=y<C and (board[x][y] == CUR_LIVE or board[x][y] == NXT_DEAD):\n",
    "                    yield(x, y)\n",
    "        if not board: return\n",
    "        CUR_DEAD, CUR_LIVE, NXT_DEAD, NXT_LIVE = 0, 1, 2, 3\n",
    "        R, C = len(board), len(board[0])\n",
    "        for i in range(R):\n",
    "            for j in range(C):\n",
    "                cell = board[i][j]\n",
    "                live_cnt = sum(1 for x, y in neighbors(i, j))\n",
    "                #print(i,j,cell,live_cnt)\n",
    "                if cell == CUR_LIVE:\n",
    "                    if 2 > live_cnt or live_cnt > 3:\n",
    "                        board[i][j] = NXT_DEAD\n",
    "                elif live_cnt == 3:\n",
    "                    board[i][j] = NXT_LIVE\n",
    "        for i in range(R):\n",
    "            for j in range(C):\n",
    "                cell = board[i][j]\n",
    "                if cell == NXT_DEAD:\n",
    "                    board[i][j] = CUR_DEAD\n",
    "                elif cell == NXT_LIVE:\n",
    "                    board[i][j] = CUR_LIVE"
   ]
  },
  {
   "cell_type": "code",
   "execution_count": 4,
   "metadata": {},
   "outputs": [
    {
     "name": "stdout",
     "output_type": "stream",
     "text": [
      "[[0, 0, 0], [1, 0, 1], [0, 1, 1], [0, 1, 0]]\n"
     ]
    }
   ],
   "source": [
    "board = [\n",
    "  [0,1,0],\n",
    "  [0,0,1],\n",
    "  [1,1,1],\n",
    "  [0,0,0]\n",
    "]\n",
    "Solution().gameOfLife(board)\n",
    "print(board)"
   ]
  },
  {
   "cell_type": "code",
   "execution_count": null,
   "metadata": {},
   "outputs": [],
   "source": []
  }
 ],
 "metadata": {
  "kernelspec": {
   "display_name": "Python 3",
   "language": "python",
   "name": "python3"
  },
  "language_info": {
   "codemirror_mode": {
    "name": "ipython",
    "version": 3
   },
   "file_extension": ".py",
   "mimetype": "text/x-python",
   "name": "python",
   "nbconvert_exporter": "python",
   "pygments_lexer": "ipython3",
   "version": "3.6.8"
  }
 },
 "nbformat": 4,
 "nbformat_minor": 2
}
