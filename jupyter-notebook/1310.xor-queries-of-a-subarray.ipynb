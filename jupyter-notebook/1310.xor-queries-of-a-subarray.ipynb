{
 "cells": [
  {
   "cell_type": "markdown",
   "metadata": {},
   "source": [
    "### [1310\\. XOR Queries of a Subarray](https://leetcode.com/problems/xor-queries-of-a-subarray/)\n",
    "\n",
    "Difficulty: **Medium**\n",
    "\n",
    "Given the array `arr` of positive integers and the array `queries` where queries[i] = [L<sub style=\"display: inline;\">i, </sub>R<sub style=\"display: inline;\">i</sub>], for each query `i` compute the **XOR** of elements from L<sub style=\"display: inline;\">i</sub> to `Ri` (that is, arr[L<sub style=\"display: inline;\">i</sub>] **xor** arr[L<sub style=\"display: inline;\">i+1</sub>] **xor** ... **xor** arr[R<sub style=\"display: inline;\">i</sub>] ). Return an array containing the result for the given `queries`.\n",
    "\n",
    "**Example 1:**\n",
    "\n",
    "```\n",
    "Input: arr = [1,3,4,8], queries = [[0,1],[1,2],[0,3],[3,3]]\n",
    "Output: [2,7,14,8] \n",
    "Explanation: \n",
    "The binary representation of the elements in the array are:\n",
    "1 = 0001 \n",
    "3 = 0011 \n",
    "4 = 0100 \n",
    "8 = 1000 \n",
    "The XOR values for queries are:\n",
    "[0,1] = 1 xor 3 = 2 \n",
    "[1,2] = 3 xor 4 = 7 \n",
    "[0,3] = 1 xor 3 xor 4 xor 8 = 14 \n",
    "[3,3] = 8\n",
    "```\n",
    "\n",
    "**Example 2:**\n",
    "\n",
    "```\n",
    "Input: arr = [4,8,2,10], queries = [[2,3],[1,3],[0,0],[0,3]]\n",
    "Output: [8,0,4,4]\n",
    "```\n",
    "\n",
    "**Constraints:**\n",
    "\n",
    "*   `1 <= arr.length <= 3 * 10^4`\n",
    "*   `1 <= arr[i] <= 10^9`\n",
    "*   `1 <= queries.length <= 3 * 10^4`\n",
    "*   `queries[i].length == 2`\n",
    "*   `0 <= queries[i][0] <= queries[i][1] < arr.length`"
   ]
  },
  {
   "cell_type": "code",
   "execution_count": 1,
   "metadata": {},
   "outputs": [],
   "source": [
    "from typing import List\n",
    "\n",
    "class Solution:\n",
    "    def xorQueries(self, arr: List[int], queries: List[List[int]]) -> List[int]:\n",
    "        # calc presum\n",
    "        presums = [0]\n",
    "        for x in arr:\n",
    "            presums += presums[-1] ^ x,\n",
    "        # presums[R] - presums[L-1]\n",
    "        return [presums[r+1] ^ presums[l] for l, r in queries]"
   ]
  },
  {
   "cell_type": "code",
   "execution_count": 2,
   "metadata": {},
   "outputs": [
    {
     "data": {
      "text/plain": [
       "[2, 7, 14, 8]"
      ]
     },
     "execution_count": 2,
     "metadata": {},
     "output_type": "execute_result"
    }
   ],
   "source": [
    "Solution().xorQueries(arr = [1,3,4,8], queries = [[0,1],[1,2],[0,3],[3,3]])"
   ]
  },
  {
   "cell_type": "code",
   "execution_count": null,
   "metadata": {},
   "outputs": [],
   "source": []
  }
 ],
 "metadata": {
  "kernelspec": {
   "display_name": "Python 3",
   "language": "python",
   "name": "python3"
  },
  "language_info": {
   "codemirror_mode": {
    "name": "ipython",
    "version": 3
   },
   "file_extension": ".py",
   "mimetype": "text/x-python",
   "name": "python",
   "nbconvert_exporter": "python",
   "pygments_lexer": "ipython3",
   "version": "3.6.8"
  }
 },
 "nbformat": 4,
 "nbformat_minor": 2
}
