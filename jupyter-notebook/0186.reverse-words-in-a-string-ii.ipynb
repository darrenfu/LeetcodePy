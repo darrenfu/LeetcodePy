{
 "cells": [
  {
   "cell_type": "code",
   "execution_count": 5,
   "metadata": {},
   "outputs": [],
   "source": [
    "# Runtime: 320 ms, faster than 16.40%\n",
    "# Non-trim version of:\n",
    "# https://leetcode.com/problems/reverse-words-in-a-string/discuss/172258/Python-or-Two-Pointers-%2B-No-Cheating-tm\n",
    "from typing import List\n",
    "class Solution:\n",
    "    def reverseWords(self, s: List[str]) -> None:\n",
    "        \"\"\"\n",
    "        Do not return anything, modify s in-place instead.\n",
    "        \"\"\"\n",
    "        def reverseStr(s: List[str], lo: int, hi: int):\n",
    "            while lo < hi:\n",
    "                s[lo], s[hi] = s[hi], s[lo]\n",
    "                lo += 1\n",
    "                hi -= 1\n",
    "        def reverseWords(s: List[str]):\n",
    "            l, r = 0, 0\n",
    "            while r < len(s):\n",
    "                while r < len(s) and not s[r].isspace():\n",
    "                    r += 1\n",
    "                reverseStr(s, l, r-1)\n",
    "                r += 1\n",
    "                l = r\n",
    "        reverseStr(s, 0, len(s)-1)\n",
    "        reverseWords(s)"
   ]
  },
  {
   "cell_type": "code",
   "execution_count": 7,
   "metadata": {},
   "outputs": [
    {
     "data": {
      "text/plain": [
       "['b', 'l', 'u', 'e', ' ', 'i', 's', ' ', 's', 'k', 'y', ' ', 't', 'h', 'e']"
      ]
     },
     "execution_count": 7,
     "metadata": {},
     "output_type": "execute_result"
    }
   ],
   "source": [
    "s = [\"t\",\"h\",\"e\",\" \",\"s\",\"k\",\"y\",\" \",\"i\",\"s\",\" \",\"b\",\"l\",\"u\",\"e\"]\n",
    "Solution().reverseWords(s)\n",
    "s"
   ]
  },
  {
   "cell_type": "code",
   "execution_count": null,
   "metadata": {},
   "outputs": [],
   "source": []
  }
 ],
 "metadata": {
  "kernelspec": {
   "display_name": "Python 3",
   "language": "python",
   "name": "python3"
  },
  "language_info": {
   "codemirror_mode": {
    "name": "ipython",
    "version": 3
   },
   "file_extension": ".py",
   "mimetype": "text/x-python",
   "name": "python",
   "nbconvert_exporter": "python",
   "pygments_lexer": "ipython3",
   "version": "3.6.8"
  }
 },
 "nbformat": 4,
 "nbformat_minor": 2
}
