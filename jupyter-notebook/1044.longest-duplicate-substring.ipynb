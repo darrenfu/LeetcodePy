{
 "cells": [
  {
   "cell_type": "code",
   "execution_count": 18,
   "metadata": {},
   "outputs": [],
   "source": [
    "# follow up of #1062 Longest Repeating Substring\n",
    "# binary search + rolling hash (Rabin-Karp)\n",
    "# Splits into two tasks:\n",
    "# 1. Binary search (instead of linear test the substring length from N-1 to 1)\n",
    "#    T: O(lgN)\n",
    "# 2. Use polynomial rolling hash to check if dup substring of given length L\n",
    "#    T: O(N)\n",
    "#    Tip: convert string to integer array of ascii-values\n",
    "# Total T: O(N*lgN)\n",
    "# Refer to Solution Tab or https://leetcode.com/problems/longest-duplicate-substring/discuss/290871/Python-Binary-Search\n",
    "from functools import reduce\n",
    "\n",
    "class Solution:\n",
    "    def longestDupSubstring(self, S: str) -> str:\n",
    "        def findDupSubstring(L) -> int:\n",
    "            BASE = 26  # char range: [a-z], in total 26\n",
    "            MOD = 2 ** 63 - 1  # big prime\n",
    "            nonlocal N\n",
    "            # polymial rolling hash\n",
    "            # cur = (BASE**(L-1) * a1 + BASE**(L-2) * a2 + BASE**(L-3) * a3 + ... + BASE**0 * aL) % MOD\n",
    "            cur = reduce(lambda x, y: (x*BASE+y) % MOD, I[:L], 0)\n",
    "            seen = {cur}\n",
    "            p = pow(BASE, L, MOD)  # const value to be used: BASE**L % modulus\n",
    "            for i in range(L, N):\n",
    "                # sliding window\n",
    "                cur = (cur*BASE + I[i] - I[i-L]*p) % MOD  # I[i-L] is the old element moved out from window\n",
    "                if cur in seen:  # find duplicate\n",
    "                    return i-L+1  # new window starting idx\n",
    "                seen.add(cur)\n",
    "            return 0\n",
    "            \n",
    "        N = len(S)\n",
    "        I = [ord(c) - ord('a') for c in S]\n",
    "        # binary search\n",
    "        lo, hi = 0, N\n",
    "        res = 0\n",
    "        while lo < hi:\n",
    "            mi = (lo + hi + 1) // 2\n",
    "            pos = findDupSubstring(mi)\n",
    "            if pos:\n",
    "                lo = mi\n",
    "                res = pos\n",
    "            else:\n",
    "                hi = mi - 1\n",
    "        return S[res:res+lo]"
   ]
  },
  {
   "cell_type": "code",
   "execution_count": null,
   "metadata": {},
   "outputs": [],
   "source": [
    "# suffix array\n",
    "# https://leetcode.com/problems/longest-duplicate-substring/discuss/290852/Suffix-array-clear-solution\n",
    "# TODO"
   ]
  },
  {
   "cell_type": "code",
   "execution_count": 19,
   "metadata": {},
   "outputs": [
    {
     "data": {
      "text/plain": [
       "'ana'"
      ]
     },
     "execution_count": 19,
     "metadata": {},
     "output_type": "execute_result"
    }
   ],
   "source": [
    "Solution().longestDupSubstring(S=\"banana\")"
   ]
  },
  {
   "cell_type": "code",
   "execution_count": 20,
   "metadata": {},
   "outputs": [
    {
     "data": {
      "text/plain": [
       "''"
      ]
     },
     "execution_count": 20,
     "metadata": {},
     "output_type": "execute_result"
    }
   ],
   "source": [
    "Solution().longestDupSubstring(S=\"abcd\")"
   ]
  },
  {
   "cell_type": "code",
   "execution_count": null,
   "metadata": {},
   "outputs": [],
   "source": []
  }
 ],
 "metadata": {
  "kernelspec": {
   "display_name": "Python 3",
   "language": "python",
   "name": "python3"
  },
  "language_info": {
   "codemirror_mode": {
    "name": "ipython",
    "version": 3
   },
   "file_extension": ".py",
   "mimetype": "text/x-python",
   "name": "python",
   "nbconvert_exporter": "python",
   "pygments_lexer": "ipython3",
   "version": "3.6.8"
  }
 },
 "nbformat": 4,
 "nbformat_minor": 2
}
