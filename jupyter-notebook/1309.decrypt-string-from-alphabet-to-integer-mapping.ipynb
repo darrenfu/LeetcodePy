{
 "cells": [
  {
   "cell_type": "markdown",
   "metadata": {},
   "source": [
    "### [1309\\. Decrypt String from Alphabet to Integer Mapping](https://leetcode.com/problems/decrypt-string-from-alphabet-to-integer-mapping/)\n",
    "\n",
    "Difficulty: **Easy**\n",
    "\n",
    "\n",
    "Given a string `s` formed by digits (`'0'` - `'9'`) and `'#'` . We want to map `s` to English lowercase characters as follows:\n",
    "\n",
    "*   Characters (`'a'` to `'i')` are represented by (`'1'` to `'9'`) respectively.\n",
    "*   Characters (`'j'` to `'z')` are represented by (`'10#'` to `'26#'`) respectively. \n",
    "\n",
    "Return the string formed after mapping.\n",
    "\n",
    "It's guaranteed that a unique mapping will always exist.\n",
    "\n",
    "**Example 1:**\n",
    "\n",
    "```\n",
    "Input: s = \"10#11#12\"\n",
    "Output: \"jkab\"\n",
    "Explanation: \"j\" -> \"10#\" , \"k\" -> \"11#\" , \"a\" -> \"1\" , \"b\" -> \"2\".\n",
    "```\n",
    "\n",
    "**Example 2:**\n",
    "\n",
    "```\n",
    "Input: s = \"1326#\"\n",
    "Output: \"acz\"\n",
    "```\n",
    "\n",
    "**Example 3:**\n",
    "\n",
    "```\n",
    "Input: s = \"25#\"\n",
    "Output: \"y\"\n",
    "```\n",
    "\n",
    "**Example 4:**\n",
    "\n",
    "```\n",
    "Input: s = \"12345678910#11#12#13#14#15#16#17#18#19#20#21#22#23#24#25#26#\"\n",
    "Output: \"abcdefghijklmnopqrstuvwxyz\"\n",
    "```\n",
    "\n",
    "**Constraints:**\n",
    "\n",
    "*   `1 <= s.length <= 1000`\n",
    "*   `s[i]` only contains digits letters (`'0'`-`'9'`) and `'#'` letter.\n",
    "*   `s` will be valid string such that mapping is always possible."
   ]
  },
  {
   "cell_type": "code",
   "execution_count": 34,
   "metadata": {},
   "outputs": [],
   "source": [
    "class Solution:\n",
    "    def freqAlphabets(self, s: str) -> str:\n",
    "        def int2char(s: str) -> str:\n",
    "            return chr(ord('a')-1 + int(s))\n",
    "        pound_pos = [i for i, v in enumerate(s) if v == '#']\n",
    "        res = []\n",
    "        start = 0\n",
    "        for i in pound_pos:\n",
    "            res += [int2char(s[j]) for j in range(start, i-2)]\n",
    "            res += int2char(s[i-2:i]),\n",
    "            start = i+1\n",
    "        # handle remaining \n",
    "        res += [int2char(s[j]) for j in range(start, len(s))]\n",
    "        return ''.join(res)"
   ]
  },
  {
   "cell_type": "code",
   "execution_count": 35,
   "metadata": {},
   "outputs": [
    {
     "data": {
      "text/plain": [
       "'jkab'"
      ]
     },
     "execution_count": 35,
     "metadata": {},
     "output_type": "execute_result"
    }
   ],
   "source": [
    "Solution().freqAlphabets(\"10#11#12\")"
   ]
  },
  {
   "cell_type": "code",
   "execution_count": 32,
   "metadata": {},
   "outputs": [
    {
     "data": {
      "text/plain": [
       "'abcdefghijklmnopqrstuvwxyz'"
      ]
     },
     "execution_count": 32,
     "metadata": {},
     "output_type": "execute_result"
    }
   ],
   "source": [
    "Solution().freqAlphabets(\"12345678910#11#12#13#14#15#16#17#18#19#20#21#22#23#24#25#26#\")"
   ]
  },
  {
   "cell_type": "code",
   "execution_count": 33,
   "metadata": {},
   "outputs": [
    {
     "data": {
      "text/plain": [
       "'acz'"
      ]
     },
     "execution_count": 33,
     "metadata": {},
     "output_type": "execute_result"
    }
   ],
   "source": [
    "Solution().freqAlphabets(\"1326#\")"
   ]
  },
  {
   "cell_type": "code",
   "execution_count": null,
   "metadata": {},
   "outputs": [],
   "source": []
  }
 ],
 "metadata": {
  "kernelspec": {
   "display_name": "Python 3",
   "language": "python",
   "name": "python3"
  },
  "language_info": {
   "codemirror_mode": {
    "name": "ipython",
    "version": 3
   },
   "file_extension": ".py",
   "mimetype": "text/x-python",
   "name": "python",
   "nbconvert_exporter": "python",
   "pygments_lexer": "ipython3",
   "version": "3.6.8"
  }
 },
 "nbformat": 4,
 "nbformat_minor": 2
}
