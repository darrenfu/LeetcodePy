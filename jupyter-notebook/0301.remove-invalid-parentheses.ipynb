{
 "cells": [
  {
   "cell_type": "code",
   "execution_count": 60,
   "metadata": {},
   "outputs": [],
   "source": [
    "# BFS with levels\n",
    "# Runtime: 312 ms, faster than 24.66%\n",
    "# https://leetcode.com/problems/remove-invalid-parentheses/discuss/75028/Short-Python-BFS\n",
    "from typing import List\n",
    "class Solution:\n",
    "    def removeInvalidParentheses(self, s: str) -> List[str]:\n",
    "        def isvalid(s: str) -> bool:\n",
    "            stack = 0\n",
    "            for ch in s:\n",
    "                if ch == '(': \n",
    "                    stack += 1\n",
    "                elif ch == ')':\n",
    "                    stack -= 1\n",
    "                    if stack < 0: return False\n",
    "            return stack == 0\n",
    "        \n",
    "        lvl = {s}\n",
    "        while True:\n",
    "            valid = list(filter(isvalid, lvl))\n",
    "            if valid: # return minimum removals at the same level\n",
    "                return valid\n",
    "            newset = set()\n",
    "            for st in lvl:\n",
    "                for i in range(len(st)):\n",
    "                    # Remove parenthesis at index i\n",
    "                    newset.add(st[:i] + st[i+1:])\n",
    "            lvl = newset\n",
    "#             lvl = {s[:i] + s[i+1:] for s in lvl for i in range(len(s))}"
   ]
  },
  {
   "cell_type": "code",
   "execution_count": 63,
   "metadata": {},
   "outputs": [],
   "source": [
    "# BFS with no levels (naive solution with hashset)\n",
    "# Runtime: 436 ms, faster than 19.00%\n",
    "# https://leetcode.com/problems/remove-invalid-parentheses/discuss/75038/Evolve-from-intuitive-solution-to-optimal-a-review-of-all-solutions\n",
    "from typing import List\n",
    "class Solution:\n",
    "    def removeInvalidParentheses(self, s: str) -> List[str]:\n",
    "        def isvalid(s: str) -> bool:\n",
    "            stack = 0\n",
    "            for ch in s:\n",
    "                if ch == '(': \n",
    "                    stack += 1\n",
    "                elif ch == ')':\n",
    "                    stack -= 1\n",
    "                    if stack < 0: return False\n",
    "            return stack == 0\n",
    "        \n",
    "        q = [s]\n",
    "        seen = set()\n",
    "        res = []\n",
    "        while q:\n",
    "            st = q.pop(0)\n",
    "            if st in seen: continue\n",
    "            seen.add(st)\n",
    "            if isvalid(st):\n",
    "                res.append(st)\n",
    "            elif not res:\n",
    "                for i, ch in enumerate(st):\n",
    "                    if ch == ')' or ch == '(':\n",
    "                        q.append(st[:i] + st[i+1:])\n",
    "        return res"
   ]
  },
  {
   "cell_type": "code",
   "execution_count": 41,
   "metadata": {},
   "outputs": [],
   "source": [
    "# BFS - suboptimal solution\n",
    "# Avoid two duplicates:\n",
    "# 1. due to removing the same set of characters in different order.\n",
    "#    So, we can enforce an order by keeping the last removal index and remove after it only.\n",
    "# 2. handling consecutive same chars. We can just remove the 1st one.\n",
    "\n",
    "# Runtime: 140 ms, faster than 51.19%\n",
    "from typing import List\n",
    "class Solution:\n",
    "    def removeInvalidParentheses(self, s: str) -> List[str]:\n",
    "        def isvalid(s: str) -> bool:\n",
    "            stack = 0\n",
    "            for ch in s:\n",
    "                if ch == '(': \n",
    "                    stack += 1\n",
    "                elif ch == ')':\n",
    "                    stack -= 1\n",
    "                    if stack < 0: return False\n",
    "            return stack == 0\n",
    "        \n",
    "        q = [(s,0)]\n",
    "        res = []\n",
    "        while q:\n",
    "            st, last_rm_idx = q.pop(0)\n",
    "            if isvalid(st):\n",
    "                res.append(st)\n",
    "            else:\n",
    "                if not res:\n",
    "                    # 1. traverse from last_rm_idx to end of st to avoid different order duplicates\n",
    "                    for i in range(last_rm_idx, len(st)):\n",
    "                        # 2. always remove the first one when met consecutive ones\n",
    "                        if (st[i] == ')' or st[i] == '(') and (i == last_rm_idx or st[i] != st[i-1]):\n",
    "                            q.append((st[:i] + st[i+1:], i))\n",
    "        return res"
   ]
  },
  {
   "cell_type": "code",
   "execution_count": 125,
   "metadata": {},
   "outputs": [],
   "source": [
    "# core function reused in BFS/DFS optimal solutions\n",
    "from typing import Callable\n",
    "def scan_and_remove(ss: str, last_i: int, last_j: int, pair_l: str, res: List[str], f:Callable=None):\n",
    "    stack = 0\n",
    "    pair_r = ['(',')'][pair_l=='('] # get the other pair\n",
    "#     print(ss, \"i=\",last_i,\" j=\",last_j)\n",
    "    for i in range(last_i, len(ss)):\n",
    "        if ss[i] == pair_l: stack += 1\n",
    "        elif ss[i] == pair_r: stack -= 1\n",
    "        if stack >= 0: continue # still valid\n",
    "        # last_j is last_remove_index\n",
    "        for j in range(last_j, i+1):\n",
    "            if ss[j] == pair_r and (j == last_j or ss[j-1] != pair_r): # seek first pair_r\n",
    "                # remove j-th\n",
    "                if f:\n",
    "                    f(ss[:j]+ss[j+1:], i, j, pair_l)\n",
    "                else:\n",
    "                    scan_and_remove(ss[:j]+ss[j+1:], i, j, pair_l, res)\n",
    "        break\n",
    "    if stack >= 0:\n",
    "        sr = ss[::-1]\n",
    "        if pair_l == '(': # left to right finished, do right to left\n",
    "            if f:\n",
    "                f(sr, 0, 0, ')')\n",
    "            else:\n",
    "                scan_and_remove(sr, 0, 0, ')', res)\n",
    "        else: # right to left finished\n",
    "            res.append(sr)"
   ]
  },
  {
   "cell_type": "code",
   "execution_count": 134,
   "metadata": {},
   "outputs": [],
   "source": [
    "# BFS - optimal solution\n",
    "# Runtime: 40 ms, faster than 94.35%\n",
    "from typing import List\n",
    "class Solution:\n",
    "    def removeInvalidParentheses(self, s: str) -> List[str]:\n",
    "        q = [(s,0,0,'(')]\n",
    "        res = []\n",
    "        while q:\n",
    "            ele = q.pop(0)\n",
    "            ss, last_i, last_j, pair_l = ele\n",
    "            funcAppend = lambda _1,_2,_3,_4: q.append((_1,_2,_3,_4))\n",
    "            scan_and_remove(ss, last_i, last_j, pair_l, res, funcAppend)\n",
    "        return res"
   ]
  },
  {
   "cell_type": "code",
   "execution_count": 136,
   "metadata": {},
   "outputs": [],
   "source": [
    "# DFS - optimal solution\n",
    "# Runtime: 40 ms, faster than 94.20%\n",
    "\n",
    "#* remove-invalid-parentheses/discuss/75027/Easy-Short-Concise-and-Fast-Java-DFS-3-ms-solution\n",
    "# To make the prefix valid, we need to remove a ‘)', any one!\n",
    "# And, we always remove the first ) in concecutive ')'s.\n",
    "# And, what about redudant '('s? Reverse the string and do the same!\n",
    "from typing import List\n",
    "class Solution:\n",
    "    def removeInvalidParentheses(self, s: str) -> List[str]:\n",
    "        res = []\n",
    "        scan_and_remove(s, 0, 0, '(', res)\n",
    "        return res"
   ]
  },
  {
   "cell_type": "code",
   "execution_count": 137,
   "metadata": {},
   "outputs": [
    {
     "data": {
      "text/plain": [
       "['(())()', '()()()']"
      ]
     },
     "execution_count": 137,
     "metadata": {},
     "output_type": "execute_result"
    }
   ],
   "source": [
    "Solution().removeInvalidParentheses(\"()())()\")"
   ]
  },
  {
   "cell_type": "code",
   "execution_count": 128,
   "metadata": {},
   "outputs": [
    {
     "data": {
      "text/plain": [
       "['(a())()', '(a)()()']"
      ]
     },
     "execution_count": 128,
     "metadata": {},
     "output_type": "execute_result"
    }
   ],
   "source": [
    "Solution().removeInvalidParentheses(\"(a)())()\")"
   ]
  },
  {
   "cell_type": "code",
   "execution_count": 129,
   "metadata": {},
   "outputs": [
    {
     "data": {
      "text/plain": [
       "['']"
      ]
     },
     "execution_count": 129,
     "metadata": {},
     "output_type": "execute_result"
    }
   ],
   "source": [
    "Solution().removeInvalidParentheses(\")(\")"
   ]
  },
  {
   "cell_type": "code",
   "execution_count": 120,
   "metadata": {},
   "outputs": [
    {
     "data": {
      "text/plain": [
       "['abcdefghij']"
      ]
     },
     "execution_count": 120,
     "metadata": {},
     "output_type": "execute_result"
    }
   ],
   "source": [
    "Solution().removeInvalidParentheses(\"a)b)c)d)e)f)g)h)i)j)((((((((((((\")"
   ]
  },
  {
   "cell_type": "code",
   "execution_count": null,
   "metadata": {},
   "outputs": [],
   "source": []
  }
 ],
 "metadata": {
  "kernelspec": {
   "display_name": "Python 3",
   "language": "python",
   "name": "python3"
  },
  "language_info": {
   "codemirror_mode": {
    "name": "ipython",
    "version": 3
   },
   "file_extension": ".py",
   "mimetype": "text/x-python",
   "name": "python",
   "nbconvert_exporter": "python",
   "pygments_lexer": "ipython3",
   "version": "3.6.8"
  }
 },
 "nbformat": 4,
 "nbformat_minor": 2
}
