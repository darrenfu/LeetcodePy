{
 "cells": [
  {
   "cell_type": "code",
   "execution_count": 6,
   "metadata": {},
   "outputs": [],
   "source": [
    "class Solution:\n",
    "    def isHappy(self, n: int) -> bool:\n",
    "        i = n\n",
    "        stack = []\n",
    "        occurrence = set([i])\n",
    "        while True:\n",
    "            while i > 0:\n",
    "                stack.append(i % 10)\n",
    "                i = i // 10\n",
    "            i = sum(map(lambda v: v*v, stack))\n",
    "            stack = []\n",
    "            print(i)\n",
    "            if i == 1:\n",
    "                return True\n",
    "            if i in occurrence:\n",
    "                return False\n",
    "            occurrence.add(i)\n",
    "        return False"
   ]
  },
  {
   "cell_type": "code",
   "execution_count": 15,
   "metadata": {},
   "outputs": [],
   "source": [
    "# Two pointer\n",
    "class Solution:\n",
    "    def isHappy(self, n: int) -> bool:\n",
    "        def square_sum(i: int) -> int:\n",
    "            stack = []\n",
    "            while i > 0:\n",
    "                stack.append(i % 10)\n",
    "                i = i // 10\n",
    "            return sum(map(lambda v: v*v, stack))\n",
    "        stack = []\n",
    "        slow = fast = n\n",
    "        while True:\n",
    "            slow = square_sum(slow)\n",
    "            fast = square_sum(fast)\n",
    "            fast = square_sum(fast)\n",
    "            if slow == 1:\n",
    "                return True\n",
    "            if slow == fast:\n",
    "                return False"
   ]
  },
  {
   "cell_type": "code",
   "execution_count": 16,
   "metadata": {},
   "outputs": [
    {
     "data": {
      "text/plain": [
       "True"
      ]
     },
     "execution_count": 16,
     "metadata": {},
     "output_type": "execute_result"
    }
   ],
   "source": [
    "Solution().isHappy(n=19)"
   ]
  },
  {
   "cell_type": "code",
   "execution_count": 17,
   "metadata": {},
   "outputs": [
    {
     "data": {
      "text/plain": [
       "False"
      ]
     },
     "execution_count": 17,
     "metadata": {},
     "output_type": "execute_result"
    }
   ],
   "source": [
    "Solution().isHappy(n=194)"
   ]
  },
  {
   "cell_type": "code",
   "execution_count": null,
   "metadata": {},
   "outputs": [],
   "source": []
  }
 ],
 "metadata": {
  "kernelspec": {
   "display_name": "Python 3",
   "language": "python",
   "name": "python3"
  },
  "language_info": {
   "codemirror_mode": {
    "name": "ipython",
    "version": 3
   },
   "file_extension": ".py",
   "mimetype": "text/x-python",
   "name": "python",
   "nbconvert_exporter": "python",
   "pygments_lexer": "ipython3",
   "version": "3.6.8"
  }
 },
 "nbformat": 4,
 "nbformat_minor": 2
}
