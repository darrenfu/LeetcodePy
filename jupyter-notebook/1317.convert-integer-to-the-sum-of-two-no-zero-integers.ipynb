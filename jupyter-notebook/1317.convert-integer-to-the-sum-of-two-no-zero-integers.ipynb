{
 "cells": [
  {
   "cell_type": "markdown",
   "metadata": {},
   "source": [
    "### [1317\\. Convert Integer to the Sum of Two No-Zero Integers](https://leetcode.com/problems/convert-integer-to-the-sum-of-two-no-zero-integers/)\n",
    "\n",
    "Difficulty: **Easy**\n",
    "\n",
    "\n",
    "Given an integer `n`. No-Zero integer is a positive integer which **doesn't contain any 0** in its decimal representation.\n",
    "\n",
    "Return _a list of two integers_ `[A, B]` where:\n",
    "\n",
    "*   `A` and `B` are No-Zero integers.\n",
    "*   `A + B = n`\n",
    "\n",
    "It's guarateed that there is at least one valid solution. If there are many valid solutions you can return any of them.\n",
    "\n",
    "**Example 1:**\n",
    "\n",
    "```\n",
    "Input: n = 2\n",
    "Output: [1,1]\n",
    "Explanation: A = 1, B = 1\\. A + B = n and both A and B don't contain any 0 in their decimal representation.\n",
    "```\n",
    "\n",
    "**Example 2:**\n",
    "\n",
    "```\n",
    "Input: n = 11\n",
    "Output: [2,9]\n",
    "```\n",
    "\n",
    "**Example 3:**\n",
    "\n",
    "```\n",
    "Input: n = 10000\n",
    "Output: [1,9999]\n",
    "```\n",
    "\n",
    "**Example 4:**\n",
    "\n",
    "```\n",
    "Input: n = 69\n",
    "Output: [1,68]\n",
    "```\n",
    "\n",
    "**Example 5:**\n",
    "\n",
    "```\n",
    "Input: n = 1010\n",
    "Output: [11,999]\n",
    "```\n",
    "\n",
    "**Constraints:**\n",
    "\n",
    "*   `2 <= n <= 10^4`"
   ]
  },
  {
   "cell_type": "code",
   "execution_count": 1,
   "metadata": {},
   "outputs": [],
   "source": [
    "from typing import List\n",
    "\n",
    "class Solution:\n",
    "    def getNoZeroIntegers(self, n: int) -> List[int]:\n",
    "        def containsZero(i: int):\n",
    "            s = str(i)\n",
    "            return '0' in s\n",
    "        for i in range(1,n):\n",
    "            j = n-i\n",
    "            if not containsZero(i) and not containsZero(j):\n",
    "                return [i,j]\n",
    "        return []"
   ]
  },
  {
   "cell_type": "code",
   "execution_count": 2,
   "metadata": {},
   "outputs": [
    {
     "data": {
      "text/plain": [
       "[11, 999]"
      ]
     },
     "execution_count": 2,
     "metadata": {},
     "output_type": "execute_result"
    }
   ],
   "source": [
    "Solution().getNoZeroIntegers(n=1010)"
   ]
  },
  {
   "cell_type": "code",
   "execution_count": null,
   "metadata": {},
   "outputs": [],
   "source": []
  }
 ],
 "metadata": {
  "kernelspec": {
   "display_name": "Python 3",
   "language": "python",
   "name": "python3"
  },
  "language_info": {
   "codemirror_mode": {
    "name": "ipython",
    "version": 3
   },
   "file_extension": ".py",
   "mimetype": "text/x-python",
   "name": "python",
   "nbconvert_exporter": "python",
   "pygments_lexer": "ipython3",
   "version": "3.6.8"
  }
 },
 "nbformat": 4,
 "nbformat_minor": 2
}
