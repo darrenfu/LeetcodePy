{
 "cells": [
  {
   "cell_type": "markdown",
   "metadata": {},
   "source": [
    "### [1271\\. Hexspeak](https://leetcode.com/problems/hexspeak/)\n",
    "\n",
    "Difficulty: **Easy**\n",
    "\n",
    "\n",
    "A decimal number can be converted to its _Hexspeak representation_ by first converting it to an uppercase hexadecimal string, then replacing all occurrences of the digit `0` with the letter `O`, and the digit `1` with the letter `I`.  Such a representation is _valid_ if and only if it consists only of the letters in the set `{\"A\", \"B\", \"C\", \"D\", \"E\", \"F\", \"I\", \"O\"}`.\n",
    "\n",
    "Given a string `num` representing a decimal integer `N`, return the Hexspeak representation of `N` if it is valid, otherwise return `\"ERROR\"`.\n",
    "\n",
    "**Example 1:**\n",
    "\n",
    "```\n",
    "Input: num = \"257\"\n",
    "Output: \"IOI\"\n",
    "Explanation:  257 is 101 in hexadecimal.\n",
    "```\n",
    "\n",
    "**Example 2:**\n",
    "\n",
    "```\n",
    "Input: num = \"3\"\n",
    "Output: \"ERROR\"\n",
    "```\n",
    "\n",
    "**Constraints:**\n",
    "\n",
    "*   `1 <= N <= 10^12`\n",
    "*   There are no leading zeros in the given string.\n",
    "*   All answers must be in uppercase letters."
   ]
  },
  {
   "cell_type": "code",
   "execution_count": 11,
   "metadata": {},
   "outputs": [],
   "source": [
    "class Solution:\n",
    "    def toHexspeak(self, num: str) -> str:\n",
    "        hexnum = hex(int(num))[2:].upper() # cheating using hex()\n",
    "        dct = {'0':'O','1':'I'}\n",
    "        res = ''\n",
    "        for ch in hexnum:\n",
    "            if '2'<=ch<='9':\n",
    "                return \"ERROR\"\n",
    "            if ch in dct:\n",
    "                res += dct[ch]\n",
    "            else:\n",
    "                res += ch\n",
    "        return res"
   ]
  },
  {
   "cell_type": "code",
   "execution_count": 15,
   "metadata": {},
   "outputs": [],
   "source": [
    "class Solution:\n",
    "    def toHexspeak(self, num: str) -> str:\n",
    "        n = int(num)\n",
    "        dct = ['' for _ in range(16)]\n",
    "        dct[0] = 'O'\n",
    "        dct[1] = 'I'\n",
    "        offset = ord('A')\n",
    "        for i in range(6):\n",
    "            dct[i+10] = chr(offset + i)\n",
    "        \n",
    "        res = []\n",
    "        while n > 0:\n",
    "            div, mod = divmod(n, 16) # from least digit\n",
    "            if dct[mod] == '':\n",
    "                return \"ERROR\"\n",
    "            res.append(dct[mod])\n",
    "            n = div\n",
    "        return ''.join(res[::-1])"
   ]
  },
  {
   "cell_type": "code",
   "execution_count": 16,
   "metadata": {},
   "outputs": [
    {
     "data": {
      "text/plain": [
       "'ERROR'"
      ]
     },
     "execution_count": 16,
     "metadata": {},
     "output_type": "execute_result"
    }
   ],
   "source": [
    "Solution().toHexspeak('3')"
   ]
  },
  {
   "cell_type": "code",
   "execution_count": 17,
   "metadata": {},
   "outputs": [
    {
     "data": {
      "text/plain": [
       "['I', 'O', 'I']"
      ]
     },
     "execution_count": 17,
     "metadata": {},
     "output_type": "execute_result"
    }
   ],
   "source": [
    "Solution().toHexspeak('257')"
   ]
  },
  {
   "cell_type": "code",
   "execution_count": 18,
   "metadata": {},
   "outputs": [
    {
     "data": {
      "text/plain": [
       "['F', 'A']"
      ]
     },
     "execution_count": 18,
     "metadata": {},
     "output_type": "execute_result"
    }
   ],
   "source": [
    "Solution().toHexspeak('250')"
   ]
  },
  {
   "cell_type": "code",
   "execution_count": 19,
   "metadata": {},
   "outputs": [
    {
     "data": {
      "text/plain": [
       "['I']"
      ]
     },
     "execution_count": 19,
     "metadata": {},
     "output_type": "execute_result"
    }
   ],
   "source": [
    "Solution().toHexspeak('1')"
   ]
  },
  {
   "cell_type": "code",
   "execution_count": 20,
   "metadata": {},
   "outputs": [
    {
     "data": {
      "text/plain": [
       "'ERROR'"
      ]
     },
     "execution_count": 20,
     "metadata": {},
     "output_type": "execute_result"
    }
   ],
   "source": [
    "Solution().toHexspeak(str(10**12))"
   ]
  },
  {
   "cell_type": "code",
   "execution_count": null,
   "metadata": {},
   "outputs": [],
   "source": []
  }
 ],
 "metadata": {
  "kernelspec": {
   "display_name": "Python 3",
   "language": "python",
   "name": "python3"
  },
  "language_info": {
   "codemirror_mode": {
    "name": "ipython",
    "version": 3
   },
   "file_extension": ".py",
   "mimetype": "text/x-python",
   "name": "python",
   "nbconvert_exporter": "python",
   "pygments_lexer": "ipython3",
   "version": "3.6.8"
  }
 },
 "nbformat": 4,
 "nbformat_minor": 2
}
