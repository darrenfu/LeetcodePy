{
 "cells": [
  {
   "cell_type": "code",
   "execution_count": 2,
   "metadata": {},
   "outputs": [],
   "source": [
    "\"\"\"\n",
    "   This is the custom function interface.\n",
    "   You should not implement it, or speculate about its implementation\n",
    "\"\"\"\n",
    "class CustomFunction:\n",
    "   # Returns f(x, y) for any given positive integers x and y.\n",
    "   # Note that f(x, y) is increasing with respect to both x and y.\n",
    "   # i.e. f(x, y) < f(x + 1, y), f(x, y) < f(x, y + 1)\n",
    "   def f(self, x, y):\n",
    "        return x + y\n"
   ]
  },
  {
   "cell_type": "code",
   "execution_count": 4,
   "metadata": {},
   "outputs": [],
   "source": [
    "# Brute force with pruning\n",
    "from typing import List\n",
    "\n",
    "class Solution:\n",
    "    def findSolution(self, customfunction: 'CustomFunction', z: int) -> List[List[int]]:\n",
    "        ans = []\n",
    "        for i in range(1, 1001):\n",
    "            for j in range(1, 1001):\n",
    "                res = customfunction.f(i, j)\n",
    "                if res == z:\n",
    "                    ans.append([i,j])\n",
    "                if res >= z:    \n",
    "                    break\n",
    "        return ans"
   ]
  },
  {
   "cell_type": "code",
   "execution_count": 6,
   "metadata": {},
   "outputs": [],
   "source": [
    "# Maze escape, e.g.\n",
    "# (y: 1000->1)\n",
    "# o............\n",
    "# o............\n",
    "# oo...........\n",
    "# .oo..........\n",
    "# ..oooo.......\n",
    "# .....oooooooo (x: 1->1000)\n",
    "\n",
    "# the traverse path logic is:\n",
    "# if f(x, y) > z: move down (y-1)\n",
    "# if f(x, y) <= z: move right (x+1)\n",
    "\n",
    "# O(M+N)\n",
    "# https://leetcode.com/problems/find-positive-integer-solution-for-a-given-equation/discuss/414249/C%2B%2B-O(N)\n",
    "from typing import List\n",
    "\n",
    "class Solution:\n",
    "    def findSolution(self, customfunction: 'CustomFunction', z: int) -> List[List[int]]:\n",
    "        y = 1000\n",
    "        res = []\n",
    "        for x in range(1, 1001):\n",
    "            while y > 1 and customfunction.f(x, y) > z:\n",
    "                y -= 1\n",
    "            if customfunction.f(x, y) == z:\n",
    "                res.append([x, y])\n",
    "        return res"
   ]
  },
  {
   "cell_type": "code",
   "execution_count": 8,
   "metadata": {},
   "outputs": [],
   "source": [
    "# Maze escape with binary search (optimized edition of above solution)\n",
    "# Using binary search to find the point to move right \n",
    "# O (M+log(N))\n",
    "from typing import List\n",
    "\n",
    "class Solution:\n",
    "    def findSolution(self, customfunction: 'CustomFunction', z: int) -> List[List[int]]:\n",
    "        y = 1000\n",
    "        res = []\n",
    "        for x in range(1, 1001):\n",
    "            hi, lo = y, 1\n",
    "            while lo <= hi:\n",
    "                mid = (lo+hi) // 2\n",
    "                f = customfunction.f(x, mid)\n",
    "                if f == z:\n",
    "                    res.append([x,mid])\n",
    "                    break\n",
    "                elif f > z:\n",
    "                    hi = mid-1\n",
    "                else:\n",
    "                    lo = mid+1\n",
    "            y = mid\n",
    "        return res"
   ]
  },
  {
   "cell_type": "code",
   "execution_count": 9,
   "metadata": {},
   "outputs": [
    {
     "data": {
      "text/plain": [
       "[[1, 4], [2, 3], [3, 2], [4, 1]]"
      ]
     },
     "execution_count": 9,
     "metadata": {},
     "output_type": "execute_result"
    }
   ],
   "source": [
    "Solution().findSolution(CustomFunction(), 5)"
   ]
  },
  {
   "cell_type": "code",
   "execution_count": null,
   "metadata": {},
   "outputs": [],
   "source": []
  }
 ],
 "metadata": {
  "kernelspec": {
   "display_name": "Python 3",
   "language": "python",
   "name": "python3"
  },
  "language_info": {
   "codemirror_mode": {
    "name": "ipython",
    "version": 3
   },
   "file_extension": ".py",
   "mimetype": "text/x-python",
   "name": "python",
   "nbconvert_exporter": "python",
   "pygments_lexer": "ipython3",
   "version": "3.6.8"
  }
 },
 "nbformat": 4,
 "nbformat_minor": 2
}
