{
 "cells": [
  {
   "cell_type": "code",
   "execution_count": 2,
   "metadata": {},
   "outputs": [],
   "source": [
    "import sys\n",
    "sys.path.append(\"..\")\n",
    "from leetcode.tree.treenode import TreeNode"
   ]
  },
  {
   "cell_type": "code",
   "execution_count": 18,
   "metadata": {},
   "outputs": [],
   "source": [
    "# BFS\n",
    "from typing import List\n",
    "\n",
    "class Solution:\n",
    "    def pathSum(self, root: TreeNode, sum: int) -> List[List[int]]:\n",
    "        res = []\n",
    "        if not root: return res\n",
    "        q = [(root, [root.val])]\n",
    "        while q:\n",
    "            for _ in range(len(q)):\n",
    "                node, vals = q.pop()\n",
    "                if node.left:\n",
    "                    q.insert(0, (node.left, vals + [node.left.val]))\n",
    "                    node.left.val += node.val\n",
    "                if node.right:\n",
    "                    q.insert(0, (node.right, vals + [node.right.val]))\n",
    "                    node.right.val += node.val\n",
    "                if not node.left and not node.right and node.val == sum:\n",
    "                    res.append(vals)\n",
    "        return res"
   ]
  },
  {
   "cell_type": "code",
   "execution_count": 25,
   "metadata": {},
   "outputs": [],
   "source": [
    "# https://leetcode.com/problems/path-sum-ii/discuss/36829/Python-solutions-(Recursively-BFS%2Bqueue-DFS%2Bstack)\n",
    "# DFS (recursion + Topdown)\n",
    "# Runtime: 52 ms, faster than 84.27%\n",
    "from typing import List\n",
    "\n",
    "class Solution:\n",
    "    def pathSum(self, root: TreeNode, sum: int) -> List[List[int]]:\n",
    "        def dfs(root: TreeNode, sum: int, ls: List[int], res: List[List[int]]):\n",
    "            if not root.left and not root.right and root.val == sum:\n",
    "                # append leaf val, and add this matched chain to the final result\n",
    "                res.append(ls + [root.val])\n",
    "            if root.left:\n",
    "                # deduct current val (parent) from sum and pass to children\n",
    "                # append current val to ls value chain and pass to children\n",
    "                dfs(root.left, sum - root.val, ls + [root.val], res)\n",
    "            if root.right:\n",
    "                dfs(root.right, sum - root.val, ls + [root.val], res)\n",
    "        if not root: return []\n",
    "        res = []\n",
    "        dfs(root, sum, [], res)\n",
    "        return res"
   ]
  },
  {
   "cell_type": "code",
   "execution_count": 27,
   "metadata": {},
   "outputs": [],
   "source": [
    "# DFS (iteration + stack)\n",
    "from typing import List\n",
    "\n",
    "class Solution:\n",
    "    def pathSum(self, root: TreeNode, sum: int) -> List[List[int]]:\n",
    "        if not root: return []\n",
    "        res, stack = [], [(root, sum, [])]\n",
    "        while stack:\n",
    "            node, sum, path = stack.pop()\n",
    "            if node.val == sum and not node.left and not node.right:\n",
    "                res.append(path + [node.val])\n",
    "            if node.left: stack.append((node.left, sum - node.val, path + [node.val]))\n",
    "            if node.right: stack.append((node.right, sum - node.val, path + [node.val]))\n",
    "        return res"
   ]
  },
  {
   "cell_type": "code",
   "execution_count": 28,
   "metadata": {},
   "outputs": [
    {
     "name": "stdout",
     "output_type": "stream",
     "text": [
      "TreeNode(val: 5, left: TreeNode(val: 4, left: TreeNode(val: 11, left: TreeNode(val: 7, left: None, right: None), right: TreeNode(val: 2, left: None, right: None)), right: None), right: TreeNode(val: 8, left: TreeNode(val: 13, left: None, right: None), right: TreeNode(val: 4, left: TreeNode(val: 5, left: None, right: None), right: TreeNode(val: 1, left: None, right: None))))\n"
     ]
    },
    {
     "data": {
      "text/plain": [
       "[[5, 8, 4, 5], [5, 4, 11, 2]]"
      ]
     },
     "execution_count": 28,
     "metadata": {},
     "output_type": "execute_result"
    }
   ],
   "source": [
    "root = TreeNode.deserialize('[5,4,8,11,null,13,4,7,2,null,null,5,1]')\n",
    "print(root)\n",
    "Solution().pathSum(root=root, sum=22)"
   ]
  },
  {
   "cell_type": "code",
   "execution_count": null,
   "metadata": {},
   "outputs": [],
   "source": []
  }
 ],
 "metadata": {
  "kernelspec": {
   "display_name": "Python 3",
   "language": "python",
   "name": "python3"
  },
  "language_info": {
   "codemirror_mode": {
    "name": "ipython",
    "version": 3
   },
   "file_extension": ".py",
   "mimetype": "text/x-python",
   "name": "python",
   "nbconvert_exporter": "python",
   "pygments_lexer": "ipython3",
   "version": "3.6.8"
  }
 },
 "nbformat": 4,
 "nbformat_minor": 2
}
