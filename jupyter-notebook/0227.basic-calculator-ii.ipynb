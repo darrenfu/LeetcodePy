{
 "cells": [
  {
   "cell_type": "markdown",
   "metadata": {},
   "source": [
    "### [227\\. Basic Calculator II](https://leetcode.com/problems/basic-calculator-ii/)\n",
    "\n",
    "Difficulty: **Medium**\n",
    "\n",
    "\n",
    "Implement a basic calculator to evaluate a simple expression string.\n",
    "\n",
    "The expression string contains only **non-negative** integers, `+`, `-`, `*`, `/` operators and empty spaces . The integer division should truncate toward zero.\n",
    "\n",
    "**Example 1:**\n",
    "\n",
    "```\n",
    "Input: \"3+2*2\"\n",
    "Output: 7\n",
    "```\n",
    "\n",
    "**Example 2:**\n",
    "\n",
    "```\n",
    "Input: \" 3/2 \"\n",
    "Output: 1\n",
    "```\n",
    "\n",
    "**Example 3:**\n",
    "\n",
    "```\n",
    "Input: \" 3+5 / 2 \"\n",
    "Output: 5\n",
    "```\n",
    "\n",
    "**Note:**\n",
    "\n",
    "*   You may assume that the given expression is always valid.\n",
    "*   **Do not** use the `eval` built-in library function."
   ]
  },
  {
   "cell_type": "markdown",
   "metadata": {},
   "source": [
    "General solutions:  \n",
    "[General solution to calculator problems](https://leetcode.com/problems/basic-calculator-iii/discuss/113592/Development-of-a-generic-solution-for-the-series-of-the-calculator-problems)"
   ]
  },
  {
   "cell_type": "code",
   "execution_count": 42,
   "metadata": {},
   "outputs": [],
   "source": [
    "# Reverse Polish Notation (RPN)\n",
    "from typing import List\n",
    "\n",
    "class Solution:\n",
    "    def calculate(self, s: str) -> int:\n",
    "        # shunting-yard algorithm\n",
    "        def infix2postfix(exp: str) -> List[str]:\n",
    "            PRECEDENCE = {'+': 1, '-': 1, '*': 2, '/': 2}\n",
    "            stack, q, digit_cache = [], [], []\n",
    "            for ch in exp:\n",
    "                if ch == ' ': # skip whitespaces\n",
    "                    continue\n",
    "                elif ch not in '+-*/': # add integer into queue\n",
    "                    digit_cache.append(ch)\n",
    "                else:\n",
    "                    _addDigit(digit_cache, q)\n",
    "                    while stack and PRECEDENCE[stack[-1]] >= PRECEDENCE[ch]:\n",
    "                        q.append(stack.pop())\n",
    "                    stack.append(ch)\n",
    "            \n",
    "            _addDigit(digit_cache, q)\n",
    "            # important: pop all remaining operators from stack and add to the queue\n",
    "            while stack:\n",
    "                q.append(stack.pop())\n",
    "            return q\n",
    "        \n",
    "        def _addDigit(digit_cache: List[str], queue: List[str]):\n",
    "            if digit_cache:\n",
    "                queue.append(''.join(digit_cache))\n",
    "                digit_cache.clear()\n",
    "            \n",
    "        def evalPostfix(exp: List[str]) -> int:\n",
    "            stack = []\n",
    "            for token in exp:\n",
    "                if token not in '+-*/': # integer\n",
    "                    stack.append(int(token))\n",
    "                else:\n",
    "                    n2, n1 = stack.pop(), stack.pop()\n",
    "                    n3 = _calc(n1, n2, token)\n",
    "                    stack.append(n3)\n",
    "            return stack[-1]\n",
    "            \n",
    "        def _calc(n1: int, n2: int, op: str) -> int:\n",
    "            if op == '+':\n",
    "                return n1 + n2\n",
    "            elif op == '-':\n",
    "                return n1 - n2\n",
    "            elif op == '*':\n",
    "                return n1 * n2\n",
    "            elif op == '/':\n",
    "                return n1 // n2\n",
    "            else:\n",
    "                raise Exception(\"Operator isn't supported {}\".format(op))\n",
    "        \n",
    "        postfix = infix2postfix(s)\n",
    "        print(\"postfix: {}\".format(postfix))\n",
    "        return evalPostfix(postfix)"
   ]
  },
  {
   "cell_type": "code",
   "execution_count": 43,
   "metadata": {},
   "outputs": [
    {
     "name": "stdout",
     "output_type": "stream",
     "text": [
      "postfix: ['3', '5', '2', '/', '+']\n"
     ]
    },
    {
     "data": {
      "text/plain": [
       "5"
      ]
     },
     "execution_count": 43,
     "metadata": {},
     "output_type": "execute_result"
    }
   ],
   "source": [
    "Solution().calculate(\" 3+5 / 2 \")"
   ]
  },
  {
   "cell_type": "code",
   "execution_count": 45,
   "metadata": {},
   "outputs": [
    {
     "name": "stdout",
     "output_type": "stream",
     "text": [
      "postfix: ['10', '40', '50', '*', '+']\n"
     ]
    },
    {
     "data": {
      "text/plain": [
       "2010"
      ]
     },
     "execution_count": 45,
     "metadata": {},
     "output_type": "execute_result"
    }
   ],
   "source": [
    "Solution().calculate(\"10 + 40*50\")"
   ]
  },
  {
   "cell_type": "code",
   "execution_count": null,
   "metadata": {},
   "outputs": [],
   "source": []
  }
 ],
 "metadata": {
  "kernelspec": {
   "display_name": "Python 3",
   "language": "python",
   "name": "python3"
  },
  "language_info": {
   "codemirror_mode": {
    "name": "ipython",
    "version": 3
   },
   "file_extension": ".py",
   "mimetype": "text/x-python",
   "name": "python",
   "nbconvert_exporter": "python",
   "pygments_lexer": "ipython3",
   "version": "3.6.8"
  }
 },
 "nbformat": 4,
 "nbformat_minor": 2
}
