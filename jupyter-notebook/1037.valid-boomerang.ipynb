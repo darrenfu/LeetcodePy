{
 "cells": [
  {
   "cell_type": "code",
   "execution_count": 2,
   "metadata": {},
   "outputs": [],
   "source": [
    "from typing import List\n",
    "\n",
    "class Solution:\n",
    "    def isBoomerang(self, points: List[List[int]]) -> bool:\n",
    "        x0, y0 = points[0]\n",
    "        x1, y1 = points[1]\n",
    "        x2, y2 = points[2]\n",
    "        if x0 == x1 and x1 == x2 and y0 != y1 and y0 != y2 and y1 != y2: return False\n",
    "        if (x0 == x1 and y0 == y1) or (x1 == x2 and y1 == y2) or (x0 == x2 and y0 == y2): return False\n",
    "        if x0 == x1 or x1 == x2 or x2 == x0: return True\n",
    "        k1 = (y1 - y0) / (x1 - x0)\n",
    "        b1 = y0 - k1 * x0\n",
    "        k2 = (y2 - y1) / (x2 - x1)\n",
    "        b2 = y1 - k2 * x1\n",
    "        return not (k1 == k2 and b1 == b2)"
   ]
  },
  {
   "cell_type": "code",
   "execution_count": 3,
   "metadata": {},
   "outputs": [
    {
     "data": {
      "text/plain": [
       "True"
      ]
     },
     "execution_count": 3,
     "metadata": {},
     "output_type": "execute_result"
    }
   ],
   "source": [
    "Solution().isBoomerang(points = [[1,1],[2,3],[3,2]])"
   ]
  },
  {
   "cell_type": "code",
   "execution_count": 4,
   "metadata": {},
   "outputs": [
    {
     "data": {
      "text/plain": [
       "False"
      ]
     },
     "execution_count": 4,
     "metadata": {},
     "output_type": "execute_result"
    }
   ],
   "source": [
    "Solution().isBoomerang(points = [[1,1],[2,2],[3,3]])"
   ]
  },
  {
   "cell_type": "code",
   "execution_count": null,
   "metadata": {},
   "outputs": [],
   "source": []
  }
 ],
 "metadata": {
  "kernelspec": {
   "display_name": "Python 3",
   "language": "python",
   "name": "python3"
  },
  "language_info": {
   "codemirror_mode": {
    "name": "ipython",
    "version": 3
   },
   "file_extension": ".py",
   "mimetype": "text/x-python",
   "name": "python",
   "nbconvert_exporter": "python",
   "pygments_lexer": "ipython3",
   "version": "3.6.8"
  }
 },
 "nbformat": 4,
 "nbformat_minor": 2
}
