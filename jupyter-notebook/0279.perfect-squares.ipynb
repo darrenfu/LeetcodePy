{
 "cells": [
  {
   "cell_type": "markdown",
   "metadata": {},
   "source": [
    "### [279\\. Perfect Squares](https://leetcode.com/problems/perfect-squares/)\n",
    "\n",
    "Difficulty: **Medium**\n",
    "\n",
    "\n",
    "Given a positive integer _n_, find the least number of perfect square numbers (for example, `1, 4, 9, 16, ...`) which sum to _n_.\n",
    "\n",
    "**Example 1:**\n",
    "\n",
    "```\n",
    "Input: n = 12\n",
    "Output: 3 \n",
    "Explanation: 12 = 4 + 4 + 4.\n",
    "```\n",
    "\n",
    "**Example 2:**\n",
    "\n",
    "```\n",
    "Input: n = 13\n",
    "Output: 2\n",
    "Explanation: 13 = 4 + 9.\n",
    "```"
   ]
  },
  {
   "cell_type": "code",
   "execution_count": 31,
   "metadata": {},
   "outputs": [],
   "source": [
    "# TLE - DP + memorization\n",
    "from typing import List\n",
    "\n",
    "class Solution:\n",
    "    def numSquares(self, n: int) -> int:\n",
    "        def dp(n: int, ans: List[int]) -> bool:\n",
    "            if n < 0: return\n",
    "            if n == 0:\n",
    "                i = sum(ans)\n",
    "                memo[i] = min(memo[i], len(ans))\n",
    "                return\n",
    "            i = 1\n",
    "            while i*i <= n:\n",
    "                dp(n-i*i, ans+[i*i])\n",
    "                i += 1\n",
    "            \n",
    "        memo = [float('inf')] * (n+1)\n",
    "        ans = []\n",
    "        dp(n, ans)\n",
    "        return memo[n]"
   ]
  },
  {
   "cell_type": "code",
   "execution_count": 36,
   "metadata": {},
   "outputs": [],
   "source": [
    "# TLE - DP + memorization\n",
    "from typing import List\n",
    "\n",
    "class Solution:\n",
    "    def numSquares(self, n: int) -> int:\n",
    "        def dp(n: int, target: int, cnt: int) -> bool:\n",
    "            if n < 0: return\n",
    "            if n == 0:\n",
    "                memo[target] = min(memo[target], cnt)\n",
    "                return\n",
    "            i = 1\n",
    "            while i*i <= n:\n",
    "                dp(n-i*i, target+i*i, cnt+1)\n",
    "                i += 1\n",
    "            \n",
    "        memo = [float('inf')] * (n+1)\n",
    "        dp(n, 0, 0)\n",
    "        return memo[n]"
   ]
  },
  {
   "cell_type": "code",
   "execution_count": 11,
   "metadata": {},
   "outputs": [],
   "source": [
    "class Solution:\n",
    "    def numSquares(self, n: int) -> int:\n",
    "        memo = [0] + [float('inf')] * n\n",
    "        for j in range(n+1):\n",
    "            i = 1\n",
    "            k = j+i*i\n",
    "            while k <= n:\n",
    "                memo[k] = min(memo[k], memo[j] + 1)\n",
    "                i += 1\n",
    "                k = j+i*i\n",
    "        return memo[n]"
   ]
  },
  {
   "cell_type": "code",
   "execution_count": 19,
   "metadata": {},
   "outputs": [],
   "source": [
    "# complete knapsack\n",
    "import math\n",
    "\n",
    "class Solution:\n",
    "    def numSquares(self, n: int) -> int:\n",
    "        N = int(math.sqrt(n))\n",
    "        dp = [0] + [float('inf')] * n\n",
    "        for i in range(1,N+1):\n",
    "            for j in range(i*i, n+1):\n",
    "                dp[j] = min(dp[j], dp[j-i*i] + 1)\n",
    "        return dp[-1]"
   ]
  },
  {
   "cell_type": "code",
   "execution_count": 20,
   "metadata": {},
   "outputs": [
    {
     "name": "stdout",
     "output_type": "stream",
     "text": [
      "37\n"
     ]
    },
    {
     "data": {
      "text/plain": [
       "3"
      ]
     },
     "execution_count": 20,
     "metadata": {},
     "output_type": "execute_result"
    }
   ],
   "source": [
    "Solution().numSquares(1398)"
   ]
  },
  {
   "cell_type": "code",
   "execution_count": 21,
   "metadata": {},
   "outputs": [
    {
     "name": "stdout",
     "output_type": "stream",
     "text": [
      "3\n"
     ]
    },
    {
     "data": {
      "text/plain": [
       "3"
      ]
     },
     "execution_count": 21,
     "metadata": {},
     "output_type": "execute_result"
    }
   ],
   "source": [
    "Solution().numSquares(12)"
   ]
  },
  {
   "cell_type": "code",
   "execution_count": 22,
   "metadata": {},
   "outputs": [
    {
     "name": "stdout",
     "output_type": "stream",
     "text": [
      "3\n"
     ]
    },
    {
     "data": {
      "text/plain": [
       "2"
      ]
     },
     "execution_count": 22,
     "metadata": {},
     "output_type": "execute_result"
    }
   ],
   "source": [
    "Solution().numSquares(13)"
   ]
  },
  {
   "cell_type": "code",
   "execution_count": null,
   "metadata": {},
   "outputs": [],
   "source": []
  }
 ],
 "metadata": {
  "kernelspec": {
   "display_name": "Python 3",
   "language": "python",
   "name": "python3"
  },
  "language_info": {
   "codemirror_mode": {
    "name": "ipython",
    "version": 3
   },
   "file_extension": ".py",
   "mimetype": "text/x-python",
   "name": "python",
   "nbconvert_exporter": "python",
   "pygments_lexer": "ipython3",
   "version": "3.6.8"
  }
 },
 "nbformat": 4,
 "nbformat_minor": 2
}
