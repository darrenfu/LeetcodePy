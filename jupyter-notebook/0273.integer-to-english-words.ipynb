{
 "cells": [
  {
   "cell_type": "code",
   "execution_count": 95,
   "metadata": {},
   "outputs": [],
   "source": [
    "# Runtime: 44 ms, faster than 24.74%\n",
    "# Refer to https://leetcode.com/problems/integer-to-english-words/discuss/70688/Python-Clean-Solution\n",
    "class Solution:\n",
    "    def numberToWords(self, num: int) -> str:\n",
    "        units = ['', 'One', 'Two', 'Three', 'Four', 'Five', 'Six', 'Seven', 'Eight', 'Nine', 'Ten', \\\n",
    "                 'Eleven', 'Twelve', 'Thirteen', 'Fourteen', 'Fifteen', 'Sixteen', 'Seventeen', 'Eighteen', 'Nineteen']\n",
    "        tens = ['', '', 'Twenty', 'Thirty', 'Forty', 'Fifty', 'Sixty', 'Seventy', 'Eighty', 'Ninety']\n",
    "        thousands = ['', 'Thousand', 'Million', 'Billion']\n",
    "        if num == 0: return 'Zero'\n",
    "        def numberToHundreds(num: int) -> str:\n",
    "            if num == 0: return ''\n",
    "            if num < 20: return units[num]\n",
    "            if num < 100: return f\"{tens[num//10]} {numberToHundreds(num%10)}\".rstrip()\n",
    "            return f\"{units[num//100]} Hundred {numberToHundreds(num%100)}\".rstrip()\n",
    "#             res = []\n",
    "#             hundred = num // 100\n",
    "#             num %= 100\n",
    "#             if hundred > 0:\n",
    "#                 res += (units[hundred] + ' Hundred'),\n",
    "#             if num >= 20:\n",
    "#                 ten = num // 10\n",
    "#                 res += tens[ten],\n",
    "#                 num %= 10\n",
    "#                 res += units[num],\n",
    "#             else: # 0-19\n",
    "#                 res += units[num],\n",
    "#             return ' '.join(res).rstrip()\n",
    "        i = 0\n",
    "        stack = []\n",
    "        while num > 0:\n",
    "            hundredstr = numberToHundreds(num % 1000)\n",
    "            if hundredstr:\n",
    "                stack.insert(0, ' '.join([hundredstr, thousands[i]]))\n",
    "            num //= 1000\n",
    "            i += 1\n",
    "        return ' '.join(stack).rstrip()"
   ]
  },
  {
   "cell_type": "code",
   "execution_count": 90,
   "metadata": {},
   "outputs": [],
   "source": [
    "# Recursion\n",
    "# Runtime: 44 ms, faster than 24.74%\n",
    "# https://leetcode.com/problems/integer-to-english-words/discuss/70632/Recursive-Python\n",
    "from typing import List\n",
    "class Solution:\n",
    "    def numberToWords(self, num: int) -> str:\n",
    "        units = ['', 'One', 'Two', 'Three', 'Four', 'Five', 'Six', 'Seven', 'Eight', 'Nine', 'Ten', \\\n",
    "                 'Eleven', 'Twelve', 'Thirteen', 'Fourteen', 'Fifteen', 'Sixteen', 'Seventeen', 'Eighteen', 'Nineteen']\n",
    "        tens = ['', '', 'Twenty', 'Thirty', 'Forty', 'Fifty', 'Sixty', 'Seventy', 'Eighty', 'Ninety']\n",
    "        thousands = ['Thousand', 'Million', 'Billion']\n",
    "        def words(n: int) -> List[str]:\n",
    "            if n < 20:\n",
    "                return [units[n]]\n",
    "            if n < 100:\n",
    "                return [tens[n//10]] + words(n%10)\n",
    "            if n < 1000:\n",
    "                return [units[n//100]] + ['Hundred'] + words(n%100)\n",
    "            for i, v in enumerate(thousands, 1):\n",
    "                # [1K, 1M)\n",
    "                # [1M, 1B)\n",
    "                # [1B, +inf)\n",
    "                if n < 1000**(i+1):\n",
    "                    return words(n//(1000**i)) + [v] + words(n%(1000**i))\n",
    "        return ' '.join(filter(lambda w: w != '', words(num))) or 'Zero'"
   ]
  },
  {
   "cell_type": "code",
   "execution_count": 96,
   "metadata": {},
   "outputs": [
    {
     "data": {
      "text/plain": [
       "'One Hundred Twenty Three Million Nine Hundred Thirty'"
      ]
     },
     "execution_count": 96,
     "metadata": {},
     "output_type": "execute_result"
    }
   ],
   "source": [
    "Solution().numberToWords(123_000_930)"
   ]
  },
  {
   "cell_type": "code",
   "execution_count": 97,
   "metadata": {},
   "outputs": [
    {
     "data": {
      "text/plain": [
       "'Two Billion One Hundred Twenty Three Million Three Hundred Thousand Thirty One'"
      ]
     },
     "execution_count": 97,
     "metadata": {},
     "output_type": "execute_result"
    }
   ],
   "source": [
    "Solution().numberToWords(2_123_300_031)"
   ]
  },
  {
   "cell_type": "code",
   "execution_count": 98,
   "metadata": {},
   "outputs": [
    {
     "data": {
      "text/plain": [
       "'Zero'"
      ]
     },
     "execution_count": 98,
     "metadata": {},
     "output_type": "execute_result"
    }
   ],
   "source": [
    "Solution().numberToWords(0)"
   ]
  },
  {
   "cell_type": "code",
   "execution_count": null,
   "metadata": {},
   "outputs": [],
   "source": []
  }
 ],
 "metadata": {
  "kernelspec": {
   "display_name": "Python 3",
   "language": "python",
   "name": "python3"
  },
  "language_info": {
   "codemirror_mode": {
    "name": "ipython",
    "version": 3
   },
   "file_extension": ".py",
   "mimetype": "text/x-python",
   "name": "python",
   "nbconvert_exporter": "python",
   "pygments_lexer": "ipython3",
   "version": "3.6.8"
  }
 },
 "nbformat": 4,
 "nbformat_minor": 2
}
