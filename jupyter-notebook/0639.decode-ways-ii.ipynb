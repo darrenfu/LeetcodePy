{
 "cells": [
  {
   "cell_type": "markdown",
   "metadata": {},
   "source": [
    "### [639\\. Decode Ways II](https://leetcode.com/problems/decode-ways-ii/)\n",
    "\n",
    "Difficulty: **Hard**\n",
    "\n",
    "\n",
    "A message containing letters from `A-Z` is being encoded to numbers using the following mapping way:\n",
    "\n",
    "```\n",
    "'A' -> 1\n",
    "'B' -> 2\n",
    "...\n",
    "'Z' -> 26\n",
    "```\n",
    "\n",
    "Beyond that, now the encoded string can also contain the character '*', which can be treated as one of the numbers from 1 to 9.\n",
    "\n",
    "Given the encoded message containing digits and the character '*', return the total number of ways to decode it.\n",
    "\n",
    "Also, since the answer may be very large, you should return the output mod 10<sup>9</sup> + 7.\n",
    "\n",
    "**Example 1:**  \n",
    "\n",
    "```\n",
    "Input: \"*\"\n",
    "Output: 9\n",
    "Explanation: The encoded message can be decoded to the string: \"A\", \"B\", \"C\", \"D\", \"E\", \"F\", \"G\", \"H\", \"I\".\n",
    "```\n",
    "\n",
    "**Example 2:**  \n",
    "\n",
    "```\n",
    "Input: \"1*\"\n",
    "Output: 9 + 9 = 18\n",
    "```\n",
    "\n",
    "**Note:**  \n",
    "\n",
    "1.  The length of the input string will fit in range [1, 10<sup>5</sup>].\n",
    "2.  The input string will only contain the character '*' and digits '0' - '9'."
   ]
  },
  {
   "cell_type": "code",
   "execution_count": null,
   "metadata": {},
   "outputs": [],
   "source": [
    "class Solution:\n",
    "    def numDecodings(self, s: str) -> int:\n",
    "        "
   ]
  }
 ],
 "metadata": {
  "kernelspec": {
   "display_name": "Python 3",
   "language": "python",
   "name": "python3"
  },
  "language_info": {
   "codemirror_mode": {
    "name": "ipython",
    "version": 3
   },
   "file_extension": ".py",
   "mimetype": "text/x-python",
   "name": "python",
   "nbconvert_exporter": "python",
   "pygments_lexer": "ipython3",
   "version": "3.6.8"
  }
 },
 "nbformat": 4,
 "nbformat_minor": 2
}
