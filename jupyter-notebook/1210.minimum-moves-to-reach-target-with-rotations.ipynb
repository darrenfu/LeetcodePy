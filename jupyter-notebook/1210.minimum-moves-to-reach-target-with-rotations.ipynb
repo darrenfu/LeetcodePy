{
 "cells": [
  {
   "cell_type": "code",
   "execution_count": 17,
   "metadata": {},
   "outputs": [],
   "source": [
    "# BFS @awice\n",
    "# Runtime: 312 ms, faster than 75.00%\n",
    "# trick: need to track 'visited' state independently for HORIZONTAL and VERTICAL directions\n",
    "from typing import List\n",
    "\n",
    "class Solution:\n",
    "    def minimumMoves(self, A: List[List[int]]) -> int:\n",
    "        N = len(A)\n",
    "        HORIZONTAL,VERTICAL=0,1\n",
    "        def neibors(r: int, c: int, dire: int):\n",
    "            nonlocal HORIZONTAL, VERTICAL, N\n",
    "            if dire == HORIZONTAL: # snake is horizontal\n",
    "                if c+2 < N and A[r][c+2] == 0: # check next right cell\n",
    "                    yield r, c+1, dire # option 1: slide right\n",
    "                if r+1 < N and A[r+1][c] == A[r+1][c+1] == 0: # check two cells under it\n",
    "                    yield r+1, c, dire # option 2: slide down\n",
    "                    yield r, c, 1-dire # option 3: rotate clockwise (or dire^1)\n",
    "            else: # snake is vertical\n",
    "                if r+2 < N and A[r+2][c] == 0: # check next down cell\n",
    "                    yield r+1, c, dire # option 1: slide down\n",
    "                if c+1 < N and A[r][c+1] == A[r+1][c+1] == 0: # check two cells to its right\n",
    "                    yield r, c+1, dire # option 2: slide right\n",
    "                    yield r, c, 1-dire # option 3: rotate counterclockwise (or dire^1)\n",
    "        \n",
    "        start = (0,0,HORIZONTAL)\n",
    "        q = [start+(0,)]\n",
    "        visited = set([start])\n",
    "        while q:\n",
    "            r, c, dire, distance = q.pop(0)\n",
    "            if r == N-1 and c == N-2 and dire == HORIZONTAL: return distance\n",
    "            for ngbr in neibors(r, c, dire):\n",
    "                if ngbr not in visited:\n",
    "                    visited.add(ngbr)\n",
    "                    q.append(ngbr + (distance+1,))\n",
    "        return -1"
   ]
  },
  {
   "cell_type": "code",
   "execution_count": 18,
   "metadata": {},
   "outputs": [
    {
     "data": {
      "text/plain": [
       "11"
      ]
     },
     "execution_count": 18,
     "metadata": {},
     "output_type": "execute_result"
    }
   ],
   "source": [
    "Solution().minimumMoves([[0,0,0,0,0,1],\n",
    "               [1,1,0,0,1,0],\n",
    "               [0,0,0,0,1,1],\n",
    "               [0,0,1,0,1,0],\n",
    "               [0,1,1,0,0,0],\n",
    "               [0,1,1,0,0,0]])"
   ]
  },
  {
   "cell_type": "code",
   "execution_count": 19,
   "metadata": {},
   "outputs": [
    {
     "data": {
      "text/plain": [
       "9"
      ]
     },
     "execution_count": 19,
     "metadata": {},
     "output_type": "execute_result"
    }
   ],
   "source": [
    "Solution().minimumMoves([[0,0,1,1,1,1],\n",
    "               [0,0,0,0,1,1],\n",
    "               [1,1,0,0,0,1],\n",
    "               [1,1,1,0,0,1],\n",
    "               [1,1,1,0,0,1],\n",
    "               [1,1,1,0,0,0]])"
   ]
  },
  {
   "cell_type": "code",
   "execution_count": 20,
   "metadata": {},
   "outputs": [
    {
     "data": {
      "text/plain": [
       "-1"
      ]
     },
     "execution_count": 20,
     "metadata": {},
     "output_type": "execute_result"
    }
   ],
   "source": [
    "Solution().minimumMoves([[0,0,0,0,0,0,0,0,0,0,1,1,0,0,0],[1,0,0,0,0,0,0,0,0,1,0,0,1,0,0],[0,0,0,0,0,0,0,0,0,0,0,0,0,0,1],[0,1,0,0,0,0,1,0,0,0,0,0,0,0,0],[0,0,0,0,0,0,0,0,1,0,0,1,0,0,0],[0,0,0,0,0,0,0,1,0,0,0,0,0,1,0],[0,0,1,0,0,0,0,0,1,0,0,0,1,0,0],[0,0,0,0,0,1,0,0,0,0,0,0,0,0,1],[0,0,0,0,0,0,0,1,0,0,0,0,0,0,1],[0,0,0,0,0,1,0,0,0,1,0,0,0,0,0],[0,1,0,1,0,1,1,0,1,0,0,0,0,0,0],[0,0,0,0,0,1,1,1,0,0,1,1,0,0,0],[0,0,0,0,0,0,0,0,0,0,1,0,1,1,0],[0,0,1,0,1,0,0,1,0,1,1,0,0,0,0],[0,0,0,0,0,1,0,0,0,0,0,0,0,0,0]])"
   ]
  },
  {
   "cell_type": "code",
   "execution_count": null,
   "metadata": {},
   "outputs": [],
   "source": []
  }
 ],
 "metadata": {
  "kernelspec": {
   "display_name": "Python 3",
   "language": "python",
   "name": "python3"
  },
  "language_info": {
   "codemirror_mode": {
    "name": "ipython",
    "version": 3
   },
   "file_extension": ".py",
   "mimetype": "text/x-python",
   "name": "python",
   "nbconvert_exporter": "python",
   "pygments_lexer": "ipython3",
   "version": "3.6.8"
  }
 },
 "nbformat": 4,
 "nbformat_minor": 2
}
