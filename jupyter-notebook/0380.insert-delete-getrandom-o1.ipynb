{
 "cells": [
  {
   "cell_type": "markdown",
   "metadata": {},
   "source": [
    "### [380\\. Insert Delete GetRandom O(1)](https://leetcode.com/problems/insert-delete-getrandom-o1/)\n",
    "\n",
    "Difficulty: **Medium**\n",
    "\n",
    "\n",
    "Design a data structure that supports all following operations in _average_ **O(1)** time.\n",
    "\n",
    "1.  `insert(val)`: Inserts an item val to the set if not already present.\n",
    "2.  `remove(val)`: Removes an item val from the set if present.\n",
    "3.  `getRandom`: Returns a random element from current set of elements. Each element must have the **same probability** of being returned.\n",
    "\n",
    "**Example:**\n",
    "\n",
    "```\n",
    "// Init an empty set.\n",
    "RandomizedSet randomSet = new RandomizedSet();\n",
    "\n",
    "// Inserts 1 to the set. Returns true as 1 was inserted successfully.\n",
    "randomSet.insert(1);\n",
    "\n",
    "// Returns false as 2 does not exist in the set.\n",
    "randomSet.remove(2);\n",
    "\n",
    "// Inserts 2 to the set, returns true. Set now contains [1,2].\n",
    "randomSet.insert(2);\n",
    "\n",
    "// getRandom should return either 1 or 2 randomly.\n",
    "randomSet.getRandom();\n",
    "\n",
    "// Removes 1 from the set, returns true. Set now contains [2].\n",
    "randomSet.remove(1);\n",
    "\n",
    "// 2 was already in the set, so return false.\n",
    "randomSet.insert(2);\n",
    "\n",
    "// Since 2 is the only number in the set, getRandom always return 2.\n",
    "randomSet.getRandom();\n",
    "```"
   ]
  },
  {
   "cell_type": "code",
   "execution_count": 22,
   "metadata": {},
   "outputs": [],
   "source": [
    "# keep track inserted element and append to an array, and keep track its index in a dict\n",
    "# When remove(), swap last element with removed element, then remove last element\n",
    "# https://leetcode.com/problems/insert-delete-getrandom-o1/discuss/85397/Simple-solution-in-Python\n",
    "import random\n",
    "\n",
    "class RandomizedSet:\n",
    "\n",
    "    def __init__(self):\n",
    "        \"\"\"\n",
    "        Initialize your data structure here.\n",
    "        \"\"\"\n",
    "        self.pos = {}\n",
    "        self.nums = []\n",
    "        self.N = 0\n",
    "        \n",
    "    def insert(self, val: int) -> bool:\n",
    "        \"\"\"\n",
    "        Inserts a value to the set. Returns true if the set did not already contain the specified element.\n",
    "        \"\"\"\n",
    "        if val not in self.pos:\n",
    "            self.nums.append(val)\n",
    "            self.N += 1\n",
    "            self.pos[val] = self.N - 1\n",
    "            return True\n",
    "        return False\n",
    "\n",
    "    def remove(self, val: int) -> bool:\n",
    "        \"\"\"\n",
    "        Removes a value from the set. Returns true if the set contained the specified element.\n",
    "        \"\"\"\n",
    "        if val in self.pos:\n",
    "            idx = self.pos[val]\n",
    "            last = self.nums[-1]\n",
    "            self.nums[idx], self.pos[last] = last, idx # swap the last element in nums with nums[idx] (to-be-deleted element)\n",
    "            self.nums.pop() # remove last element in array\n",
    "            del self.pos[val] # delete that element's mapping key in dict\n",
    "            self.N -= 1\n",
    "            return True\n",
    "        return False\n",
    "\n",
    "    def getRandom(self) -> int:\n",
    "        \"\"\"\n",
    "        Get a random element from the set.\n",
    "        \"\"\"\n",
    "        return self.nums[randint(0, self.N - 1)]\n",
    "        # return random.choice(self.nums)"
   ]
  },
  {
   "cell_type": "code",
   "execution_count": 23,
   "metadata": {},
   "outputs": [
    {
     "data": {
      "text/plain": [
       "2"
      ]
     },
     "execution_count": 23,
     "metadata": {},
     "output_type": "execute_result"
    }
   ],
   "source": [
    "rs = RandomizedSet()\n",
    "rs.insert(0)\n",
    "rs.insert(1)\n",
    "rs.remove(0)\n",
    "rs.insert(2)\n",
    "rs.remove(1)\n",
    "rs.getRandom()"
   ]
  },
  {
   "cell_type": "code",
   "execution_count": 24,
   "metadata": {},
   "outputs": [
    {
     "name": "stdout",
     "output_type": "stream",
     "text": [
      "0\n"
     ]
    },
    {
     "data": {
      "text/plain": [
       "True"
      ]
     },
     "execution_count": 24,
     "metadata": {},
     "output_type": "execute_result"
    }
   ],
   "source": [
    "rs = RandomizedSet()\n",
    "rs.remove(0)\n",
    "rs.remove(0)\n",
    "rs.insert(0)\n",
    "print(rs.getRandom())\n",
    "rs.remove(0)\n",
    "rs.insert(0)"
   ]
  },
  {
   "cell_type": "code",
   "execution_count": null,
   "metadata": {},
   "outputs": [],
   "source": []
  }
 ],
 "metadata": {
  "kernelspec": {
   "display_name": "Python 3",
   "language": "python",
   "name": "python3"
  },
  "language_info": {
   "codemirror_mode": {
    "name": "ipython",
    "version": 3
   },
   "file_extension": ".py",
   "mimetype": "text/x-python",
   "name": "python",
   "nbconvert_exporter": "python",
   "pygments_lexer": "ipython3",
   "version": "3.6.8"
  }
 },
 "nbformat": 4,
 "nbformat_minor": 2
}
