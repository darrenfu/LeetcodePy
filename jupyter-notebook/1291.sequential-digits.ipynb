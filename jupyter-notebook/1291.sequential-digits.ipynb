{
 "cells": [
  {
   "cell_type": "markdown",
   "metadata": {},
   "source": [
    "### [1291\\. Sequential Digits](https://leetcode.com/problems/sequential-digits/)\n",
    "\n",
    "Difficulty: **Medium**\n",
    "\n",
    "\n",
    "An integer has _sequential digits_ if and only if each digit in the number is one more than the previous digit.\n",
    "\n",
    "Return a **sorted** list of all the integers in the range `[low, high]` inclusive that have sequential digits.\n",
    "\n",
    "**Example 1:**\n",
    "\n",
    "```\n",
    "Input: low = 100, high = 300\n",
    "Output: [123,234]\n",
    "```\n",
    "\n",
    "**Example 2:**\n",
    "\n",
    "```\n",
    "Input: low = 1000, high = 13000\n",
    "Output: [1234,2345,3456,4567,5678,6789,12345]\n",
    "```\n",
    "\n",
    "**Constraints:**\n",
    "\n",
    "*   `10 <= low <= high <= 10^9`"
   ]
  },
  {
   "cell_type": "code",
   "execution_count": 3,
   "metadata": {},
   "outputs": [],
   "source": [
    "from typing import List\n",
    "\n",
    "class Solution:\n",
    "    def sequentialDigits(self, low: int, high: int) -> List[int]:\n",
    "        nums = \"123456789\" # upper limit: 10^9\n",
    "        N = len(nums) + 1\n",
    "        res = []\n",
    "        for length in range(2, N): # lower limit: 10\n",
    "            for start in range(N-length):\n",
    "                v = int(nums[start:start+length])\n",
    "                if low <= v <= high:\n",
    "                    res.append(v)\n",
    "        return res"
   ]
  },
  {
   "cell_type": "code",
   "execution_count": 7,
   "metadata": {},
   "outputs": [],
   "source": [
    "from typing import List\n",
    "\n",
    "class Solution:\n",
    "    def sequentialDigits(self, low: int, high: int) -> List[int]:\n",
    "        nums = \"123456789\" # upper limit: 10^9\n",
    "        N = len(nums) + 1\n",
    "        return [int(nums[start:start+length]) for length in range(2, N) for start in range(N-length) if low <= int(nums[start:start+length]) <= high]"
   ]
  },
  {
   "cell_type": "code",
   "execution_count": 8,
   "metadata": {},
   "outputs": [
    {
     "data": {
      "text/plain": [
       "[1234, 2345, 3456, 4567, 5678, 6789, 12345]"
      ]
     },
     "execution_count": 8,
     "metadata": {},
     "output_type": "execute_result"
    }
   ],
   "source": [
    "Solution().sequentialDigits(low = 1000, high = 13000)"
   ]
  },
  {
   "cell_type": "code",
   "execution_count": null,
   "metadata": {},
   "outputs": [],
   "source": []
  }
 ],
 "metadata": {
  "kernelspec": {
   "display_name": "Python 3",
   "language": "python",
   "name": "python3"
  },
  "language_info": {
   "codemirror_mode": {
    "name": "ipython",
    "version": 3
   },
   "file_extension": ".py",
   "mimetype": "text/x-python",
   "name": "python",
   "nbconvert_exporter": "python",
   "pygments_lexer": "ipython3",
   "version": "3.6.8"
  }
 },
 "nbformat": 4,
 "nbformat_minor": 2
}
