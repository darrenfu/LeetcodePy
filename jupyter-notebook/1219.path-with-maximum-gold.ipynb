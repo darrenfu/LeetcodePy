{
 "cells": [
  {
   "cell_type": "code",
   "execution_count": 12,
   "metadata": {},
   "outputs": [],
   "source": [
    "# DFS\n",
    "# Runtime: 2848 ms, faster than 33.33% \n",
    "# https://leetcode.com/problems/path-with-maximum-gold/discuss/398190/Python-short-DFS-solution\n",
    "from typing import List,Set,Tuple\n",
    "class Solution:\n",
    "    def getMaximumGold(self, grid: List[List[int]]) -> int:\n",
    "        M, N = len(grid), len(grid[0])\n",
    "        def dfs(i: int, j: int, visited: Set[Tuple[int, int]]) -> int:\n",
    "            nonlocal M, N\n",
    "            if not (0<=i<M and 0<=j<N and grid[i][j] > 0 and (i,j) not in visited):\n",
    "                return float('-inf')\n",
    "            visited.add((i,j))\n",
    "            res = grid[i][j] + max(0, max(dfs(i+dx,j+dy,visited) for dx, dy in \\\n",
    "                                          [[-1, 0], [1, 0], [0, 1], [0, -1]]))\n",
    "            # hit a dead end, and back up to try a different path\n",
    "            visited.remove((i,j))\n",
    "            return res\n",
    "        return max(dfs(i, j, set()) for i in range(M) for j in range(N))"
   ]
  },
  {
   "cell_type": "code",
   "execution_count": 15,
   "metadata": {},
   "outputs": [],
   "source": [
    "# DFS + Memorization\n",
    "# Runtime: 1596 ms, faster than 44.28%\n",
    "# https://leetcode.com/problems/path-with-maximum-gold/discuss/398189/Python3-DFS\n",
    "from typing import List\n",
    "class Solution:\n",
    "    def getMaximumGold(self, grid: List[List[int]]) -> int:\n",
    "        def dfs(i: int, j: int, v: int):\n",
    "            nonlocal M, N\n",
    "            seen.add((i, j))\n",
    "            dp[i][j] = max(dp[i][j], v)\n",
    "            for dx, dy in [[-1, 0], [1, 0], [0, 1], [0, -1]]:\n",
    "                x, y = i+dx, j+dy\n",
    "                if 0<=x<M and 0<=y<N and grid[x][y] and (x,y) not in seen:\n",
    "                    dfs(x, y, v+grid[x][y])\n",
    "            seen.discard((i,j))\n",
    "            \n",
    "        M, N = len(grid), len(grid[0])\n",
    "        dp = [[0] * N for _ in range(M)]\n",
    "        for i in range(M):\n",
    "            for j in range(N):\n",
    "                if grid[i][j]:\n",
    "                    seen = set()\n",
    "                    dfs(i, j, grid[i][j])\n",
    "        return max(cell for row in dp for cell in row)"
   ]
  },
  {
   "cell_type": "code",
   "execution_count": 24,
   "metadata": {},
   "outputs": [],
   "source": [
    "# Using Backtracking template\n",
    "# Runtime: 1276 ms, faster than 76.53%\n",
    "# https://leetcode.com/problems/path-with-maximum-gold/discuss/398359/Python-backtracking-approach-with-comments.\n",
    "from typing import List, Generator\n",
    "class Solution:\n",
    "    def getMaximumGold(self, grid: List[List[int]]) -> int:\n",
    "        def neighbors(row: int, col: int) -> Generator[int, int, None]:\n",
    "            nonlocal M, N\n",
    "            if row > 0: yield(row-1, col)\n",
    "            if col > 0: yield(row, col-1)\n",
    "            if row < M-1: yield(row+1, col)\n",
    "            if col < N-1: yield(row, col+1)\n",
    "        \n",
    "        def backtrack(row: int, col: int) -> None:\n",
    "            nonlocal cur_gold, max_gold\n",
    "            if grid[row][col] == 0: return\n",
    "            # keep track of the origin gold in this cell that we can put it back when backtrack\n",
    "            gold_at_square = grid[row][col]\n",
    "            # add the gold to current amount\n",
    "            cur_gold += gold_at_square\n",
    "            max_gold = max(max_gold, cur_gold)\n",
    "            grid[row][col] = 0 # ?\n",
    "            for dr, dc in neighbors(row, col):\n",
    "                backtrack(dr, dc)\n",
    "            # backtrack by putting gold back\n",
    "            cur_gold -= gold_at_square\n",
    "            grid[row][col] = gold_at_square\n",
    "        \n",
    "        M, N = len(grid), len(grid[0])\n",
    "        cur_gold, max_gold = 0, 0\n",
    "        for row in range(M):\n",
    "            for col in range(N):\n",
    "                backtrack(row, col)\n",
    "        return max_gold"
   ]
  },
  {
   "cell_type": "code",
   "execution_count": 25,
   "metadata": {},
   "outputs": [
    {
     "data": {
      "text/plain": [
       "24"
      ]
     },
     "execution_count": 25,
     "metadata": {},
     "output_type": "execute_result"
    }
   ],
   "source": [
    "Solution().getMaximumGold([[0,6,0],[5,8,7],[0,9,0]])"
   ]
  },
  {
   "cell_type": "code",
   "execution_count": 26,
   "metadata": {},
   "outputs": [
    {
     "data": {
      "text/plain": [
       "28"
      ]
     },
     "execution_count": 26,
     "metadata": {},
     "output_type": "execute_result"
    }
   ],
   "source": [
    "Solution().getMaximumGold([[1,0,7],[2,0,6],[3,4,5],[0,3,0],[9,0,20]])"
   ]
  },
  {
   "cell_type": "code",
   "execution_count": null,
   "metadata": {},
   "outputs": [],
   "source": []
  }
 ],
 "metadata": {
  "kernelspec": {
   "display_name": "Python 3",
   "language": "python",
   "name": "python3"
  },
  "language_info": {
   "codemirror_mode": {
    "name": "ipython",
    "version": 3
   },
   "file_extension": ".py",
   "mimetype": "text/x-python",
   "name": "python",
   "nbconvert_exporter": "python",
   "pygments_lexer": "ipython3",
   "version": "3.6.8"
  }
 },
 "nbformat": 4,
 "nbformat_minor": 2
}
