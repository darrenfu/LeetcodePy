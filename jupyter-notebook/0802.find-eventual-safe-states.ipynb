{
 "cells": [
  {
   "cell_type": "markdown",
   "metadata": {},
   "source": [
    "### [802\\. Find Eventual Safe States](https://leetcode.com/problems/find-eventual-safe-states/)\n",
    "\n",
    "Difficulty: **Medium**\n",
    "\n",
    "\n",
    "In a directed graph, we start at some node and every turn, walk along a directed edge of the graph.  If we reach a node that is terminal (that is, it has no outgoing directed edges), we stop.\n",
    "\n",
    "Now, say our starting node is _eventually safe _if and only if we must eventually walk to a terminal node.  More specifically, there exists a natural number `K` so that for any choice of where to walk, we must have stopped at a terminal node in less than `K` steps.\n",
    "\n",
    "Which nodes are eventually safe?  Return them as an array in sorted order.\n",
    "\n",
    "The directed graph has `N` nodes with labels `0, 1, ..., N-1`, where `N` is the length of `graph`.  The graph is given in the following form: `graph[i]` is a list of labels `j` such that `(i, j)` is a directed edge of the graph.\n",
    "\n",
    "```\n",
    "Example:\n",
    "Input: graph = [[1,2],[2,3],[5],[0],[5],[],[]]\n",
    "Output: [2,4,5,6]\n",
    "Here is a diagram of the above graph.\n",
    "\n",
    "```\n",
    "\n",
    "![Illustration of graph](https://s3-lc-upload.s3.amazonaws.com/uploads/2018/03/17/picture1.png)\n",
    "\n",
    "**Note:**\n",
    "\n",
    "*   `graph` will have length at most `10000`.\n",
    "*   The number of edges in the graph will not exceed `32000`.\n",
    "*   Each `graph[i]` will be a sorted list of different integers, chosen within the range `[0, graph.length - 1]`."
   ]
  },
  {
   "cell_type": "code",
   "execution_count": 15,
   "metadata": {},
   "outputs": [],
   "source": [
    "# BFS - topological sorting\n",
    "# this problem can be converted into \"find nodes which don't lead to a circle in any path.\"\n",
    "from typing import List\n",
    "from collections import defaultdict\n",
    "\n",
    "class Solution:\n",
    "    def eventualSafeNodes(self, graph: List[List[int]]) -> List[int]:\n",
    "        in_degree = defaultdict(int)\n",
    "        out_graph = defaultdict(set)\n",
    "        for u, neighbors in enumerate(graph):\n",
    "            in_degree[u] = len(neighbors)\n",
    "            for v in neighbors:\n",
    "                out_graph[v].add(u)\n",
    "        \n",
    "        q = [k for k, v in in_degree.items() if not v] # in_degree = 0 as start points\n",
    "#         cnt = 0\n",
    "        res = []\n",
    "        while q:\n",
    "            u = q.pop(0)\n",
    "            res += u,\n",
    "            for v in out_graph[u]:\n",
    "                in_degree[v] -= 1 # remove cycles\n",
    "                if in_degree[v] == 0:\n",
    "                    q += v,\n",
    "#             cnt += 1\n",
    "#         if cnt < len(graph): raise Exception(\"Cycle detected\")\n",
    "        return sorted(res)"
   ]
  },
  {
   "cell_type": "code",
   "execution_count": 47,
   "metadata": {},
   "outputs": [],
   "source": [
    "# tricolor algorithm (white-gray-black) - DFS\n",
    "# https://leetcode.com/problems/find-eventual-safe-states/discuss/128872/Python-easy-peasy-11-lines-very-simple-and-clear-solution-192-ms-beats-100\n",
    "# http://www.cs.cornell.edu/courses/cs2112/2012sp/lectures/lec24/lec24-12sp.html\n",
    "from typing import List\n",
    "\n",
    "class Solution:\n",
    "    def eventualSafeNodes(self, graph: List[List[int]]) -> List[int]:\n",
    "        WHITE, GRAY, BLACK = -1, 0, 1\n",
    "        colors = [WHITE] * len(graph)\n",
    "        def dfs(u: int) -> bool: # true means has cycle\n",
    "            colors[u] = GRAY\n",
    "            for v in graph[u]:\n",
    "                # neighbor is the same color\n",
    "                if colors[v] == GRAY or (colors[v] == WHITE and dfs(v)):\n",
    "                    return True\n",
    "            colors[u] = BLACK\n",
    "            return False\n",
    "        \n",
    "        res = [u for u in range(len(graph)) if not dfs(u)]\n",
    "#         res = [u for u, c in enumerate(colors) if c != GRAY] # filter out nodes which lead to a circle\n",
    "        return res"
   ]
  },
  {
   "cell_type": "code",
   "execution_count": 48,
   "metadata": {},
   "outputs": [
    {
     "data": {
      "text/plain": [
       "[2, 4, 5, 6]"
      ]
     },
     "execution_count": 48,
     "metadata": {},
     "output_type": "execute_result"
    }
   ],
   "source": [
    "Solution().eventualSafeNodes([[1,2],[2,3],[5],[0],[5],[],[]])"
   ]
  },
  {
   "cell_type": "code",
   "execution_count": null,
   "metadata": {},
   "outputs": [],
   "source": []
  }
 ],
 "metadata": {
  "kernelspec": {
   "display_name": "Python 3",
   "language": "python",
   "name": "python3"
  },
  "language_info": {
   "codemirror_mode": {
    "name": "ipython",
    "version": 3
   },
   "file_extension": ".py",
   "mimetype": "text/x-python",
   "name": "python",
   "nbconvert_exporter": "python",
   "pygments_lexer": "ipython3",
   "version": "3.6.8"
  }
 },
 "nbformat": 4,
 "nbformat_minor": 2
}
