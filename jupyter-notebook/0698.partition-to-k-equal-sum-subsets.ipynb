{
 "cells": [
  {
   "cell_type": "markdown",
   "metadata": {},
   "source": [
    "### [698\\. Partition to K Equal Sum Subsets](https://leetcode.com/problems/partition-to-k-equal-sum-subsets/)\n",
    "\n",
    "Difficulty: **Medium**\n",
    "\n",
    "\n",
    "Given an array of integers `nums` and a positive integer `k`, find whether it's possible to divide this array into `k` non-empty subsets whose sums are all equal.\n",
    "\n",
    "**Example 1:**\n",
    "\n",
    "```\n",
    "Input: nums = [4, 3, 2, 3, 5, 2, 1], k = 4\n",
    "Output: True\n",
    "Explanation: It's possible to divide it into 4 subsets (5), (1, 4), (2,3), (2,3) with equal sums.\n",
    "```\n",
    "\n",
    "**Note:**\n",
    "\n",
    "*   `1 <= k <= len(nums) <= 16`.\n",
    "*   `0 < nums[i] < 10000`."
   ]
  },
  {
   "cell_type": "code",
   "execution_count": 59,
   "metadata": {},
   "outputs": [],
   "source": [
    "# backtracking\n",
    "# https://www.geeksforgeeks.org/partition-set-k-subsets-equal-sum/\n",
    "from typing import List\n",
    "from collections import defaultdict\n",
    "\n",
    "class Solution:\n",
    "    def canPartitionKSubsets(self, nums: List[int], k: int) -> bool:\n",
    "        # curi - current subsums[curi]\n",
    "        # limiti - init: N-1\n",
    "        def dfs(curi: int, upperi: int) -> bool:\n",
    "            if subsums[curi] == target:\n",
    "                print(curi, upperi, visited)\n",
    "                if curi == k-2: # k-1 subsets found, the remaining one must be correct\n",
    "                    # follow-up: print all subsets\n",
    "                    subsets = defaultdict(list)\n",
    "                    for i, v in enumerate(visited):\n",
    "                        subsets[v].append(nums[i])\n",
    "                    print(subsets)\n",
    "                    return True\n",
    "                return dfs(curi+1, N-1)\n",
    "            \n",
    "            for i in range(upperi, -1, -1):\n",
    "#             for i in range(0, upperi+1):\n",
    "                if visited[i] != -1:\n",
    "                    continue\n",
    "                tmpsum = subsums[curi] + nums[i]\n",
    "                if tmpsum <= target: # we still need more elements in this subset or count this subset\n",
    "                    subsums[curi] += nums[i]\n",
    "                    visited[i] = curi\n",
    "#                     print(curi, subsums[curi]-nums[i], nums[i], upperi)\n",
    "                    nxt = dfs(curi, i-1)\n",
    "                    # backtracking, reset the values\n",
    "                    subsums[curi] -= nums[i]\n",
    "                    visited[i] = -1\n",
    "                    if nxt:\n",
    "                        return True\n",
    "            return False\n",
    "        \n",
    "        N = len(nums)\n",
    "        visited = [-1] * N\n",
    "        subsums = [0] * k\n",
    "        total = sum(nums)\n",
    "        target = total // k\n",
    "        if k == 1: return True\n",
    "        if N < k: return False\n",
    "        if total % k != 0: \n",
    "            return False\n",
    "        \n",
    "        print(\"c u v\", nums)\n",
    "#         print(\"c s n u\")\n",
    "        # take last element to first subset\n",
    "#         visited[-1] = True\n",
    "#         subsums[0] = nums[-1]\n",
    "        return dfs(0, N-1)"
   ]
  },
  {
   "cell_type": "code",
   "execution_count": 60,
   "metadata": {},
   "outputs": [
    {
     "name": "stdout",
     "output_type": "stream",
     "text": [
      "c u v [4, 3, 2, 3, 5, 2, 1]\n",
      "0 1 [-1, -1, 0, -1, -1, 0, 0]\n",
      "1 3 [-1, -1, 0, -1, 1, 0, 0]\n",
      "0 -1 [0, -1, -1, -1, -1, -1, 0]\n",
      "1 2 [0, -1, -1, 1, -1, 1, 0]\n",
      "2 3 [0, -1, -1, 1, 2, 1, 0]\n",
      "defaultdict(<class 'list'>, {0: [4, 1], -1: [3, 2], 1: [3, 2], 2: [5]})\n"
     ]
    },
    {
     "data": {
      "text/plain": [
       "True"
      ]
     },
     "execution_count": 60,
     "metadata": {},
     "output_type": "execute_result"
    }
   ],
   "source": [
    "Solution().canPartitionKSubsets([4, 3, 2, 3, 5, 2, 1], 4)"
   ]
  },
  {
   "cell_type": "code",
   "execution_count": null,
   "metadata": {},
   "outputs": [],
   "source": []
  }
 ],
 "metadata": {
  "kernelspec": {
   "display_name": "Python 3",
   "language": "python",
   "name": "python3"
  },
  "language_info": {
   "codemirror_mode": {
    "name": "ipython",
    "version": 3
   },
   "file_extension": ".py",
   "mimetype": "text/x-python",
   "name": "python",
   "nbconvert_exporter": "python",
   "pygments_lexer": "ipython3",
   "version": "3.6.8"
  }
 },
 "nbformat": 4,
 "nbformat_minor": 2
}
