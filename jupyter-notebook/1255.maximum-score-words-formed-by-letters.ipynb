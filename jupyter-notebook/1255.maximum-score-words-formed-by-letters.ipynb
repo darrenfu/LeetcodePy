{
 "cells": [
  {
   "cell_type": "code",
   "execution_count": 36,
   "metadata": {},
   "outputs": [],
   "source": [
    "# combinations problem, similar to #78 subsets\n",
    "# backtracking to enumerate all combinations: C(n,r) = n!/(r!(n-r)!)\n",
    "# Runtime: 244 ms\n",
    "# https://www.mathsisfun.com/combinatorics/combinations-permutations.html\n",
    "from typing import List, Set\n",
    "\n",
    "class Solution:\n",
    "    def maxScoreWords(self, words: List[str], letters: List[str], score: List[int]) -> int:\n",
    "        def letterIdx(ch: str) -> int:\n",
    "            return ord(ch)-ord('a')\n",
    "        \n",
    "        def dfs(words: List[str], stack: List[str], res: List[List[str]]):\n",
    "            res.append(stack[:])\n",
    "            for i, w in enumerate(words):\n",
    "                stack.append(w)\n",
    "                dfs(words[i+1:], stack, res)\n",
    "                stack.pop()\n",
    "        \n",
    "        def calcScore(word: str) -> int:\n",
    "            return sum(score[letterIdx(ch)] for ch in word)\n",
    "        \n",
    "        def validateWords(wordSet: Set[str], letterDict: List[int]) -> bool:\n",
    "            for word in wordSet:\n",
    "                for ch in word:\n",
    "                    idx = letterIdx(ch)\n",
    "                    if letterDict[idx] == 0:\n",
    "                        return False\n",
    "                    letterDict[idx] -= 1 # this letter is used, reduce the letter frequency\n",
    "            return True\n",
    "        \n",
    "        def calcLetterDict(letters: List[str]) -> List[int]:\n",
    "            letterDict = [0] * 26\n",
    "            for ch in letters:\n",
    "                letterDict[letterIdx(ch)] += 1\n",
    "            return letterDict\n",
    "        \n",
    "        # pre-calculate word score for each word\n",
    "        scores = {w: calcScore(w) for w in words}\n",
    "        combinations = []\n",
    "        dfs(words, [], combinations)\n",
    "#         print(combinations)\n",
    "        max_score = 0\n",
    "        letterDict = calcLetterDict(letters)\n",
    "        for wordSet in combinations:\n",
    "            if not validateWords(wordSet, letterDict[:]): # make a copy of `letterDict` to validate the whold wordSet\n",
    "                continue # if some letter is used up, discard the whole wordSet\n",
    "            score = sum(scores[w] for w in wordSet)\n",
    "            if max_score < score:\n",
    "                max_score = score\n",
    "#                 print(wordSet, score)\n",
    "        return max_score"
   ]
  },
  {
   "cell_type": "code",
   "execution_count": 37,
   "metadata": {},
   "outputs": [
    {
     "data": {
      "text/plain": [
       "23"
      ]
     },
     "execution_count": 37,
     "metadata": {},
     "output_type": "execute_result"
    }
   ],
   "source": [
    "Solution().maxScoreWords(words=[\"dog\",\"cat\",\"dad\",\"good\"], letters = [\"a\",\"a\",\"c\",\"d\",\"d\",\"d\",\"g\",\"o\",\"o\"], score = [1,0,9,5,0,0,3,0,0,0,0,0,0,0,2,0,0,0,0,0,0,0,0,0,0,0])"
   ]
  },
  {
   "cell_type": "code",
   "execution_count": 39,
   "metadata": {},
   "outputs": [
    {
     "data": {
      "text/plain": [
       "27"
      ]
     },
     "execution_count": 39,
     "metadata": {},
     "output_type": "execute_result"
    }
   ],
   "source": [
    "Solution().maxScoreWords(words = [\"xxxz\",\"ax\",\"bx\",\"cx\"], letters = [\"z\",\"a\",\"b\",\"c\",\"x\",\"x\",\"x\"], score = [4,4,4,0,0,0,0,0,0,0,0,0,0,0,0,0,0,0,0,0,0,0,0,5,0,10])"
   ]
  },
  {
   "cell_type": "code",
   "execution_count": 40,
   "metadata": {},
   "outputs": [
    {
     "data": {
      "text/plain": [
       "0"
      ]
     },
     "execution_count": 40,
     "metadata": {},
     "output_type": "execute_result"
    }
   ],
   "source": [
    "Solution().maxScoreWords(words = [\"leetcode\"], letters = [\"l\",\"e\",\"t\",\"c\",\"o\",\"d\"], score = [0,0,1,1,1,0,0,0,0,0,0,1,0,0,1,0,0,0,0,1,0,0,0,0,0,0])"
   ]
  },
  {
   "cell_type": "code",
   "execution_count": null,
   "metadata": {},
   "outputs": [],
   "source": []
  }
 ],
 "metadata": {
  "kernelspec": {
   "display_name": "Python 3",
   "language": "python",
   "name": "python3"
  },
  "language_info": {
   "codemirror_mode": {
    "name": "ipython",
    "version": 3
   },
   "file_extension": ".py",
   "mimetype": "text/x-python",
   "name": "python",
   "nbconvert_exporter": "python",
   "pygments_lexer": "ipython3",
   "version": "3.6.8"
  }
 },
 "nbformat": 4,
 "nbformat_minor": 2
}
