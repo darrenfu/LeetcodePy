{
 "cells": [
  {
   "cell_type": "markdown",
   "metadata": {},
   "source": [
    "### [729\\. My Calendar I](https://leetcode.com/problems/my-calendar-i/)\n",
    "\n",
    "Difficulty: **Medium**\n",
    "\n",
    "\n",
    "Implement a `MyCalendar` class to store your events. A new event can be added if adding the event will not cause a double booking.\n",
    "\n",
    "Your class will have the method, `book(int start, int end)`. Formally, this represents a booking on the half open interval `[start, end)`, the range of real numbers `x` such that `start <= x < end`.\n",
    "\n",
    "A _double booking_ happens when two events have some non-empty intersection (ie., there is some time that is common to both events.)\n",
    "\n",
    "For each call to the method `MyCalendar.book`, return `true` if the event can be added to the calendar successfully without causing a double booking. Otherwise, return `false` and do not add the event to the calendar.\n",
    "\n",
    "Your class will be called like this: `MyCalendar cal = new MyCalendar();` `MyCalendar.book(start, end)`\n",
    "\n",
    "**Example 1:**\n",
    "\n",
    "```\n",
    "MyCalendar();\n",
    "MyCalendar.book(10, 20); // returns true\n",
    "MyCalendar.book(15, 25); // returns false\n",
    "MyCalendar.book(20, 30); // returns true\n",
    "Explanation: \n",
    "The first event can be booked.  The second can't because time 15 is already booked by another event.\n",
    "The third event can be booked, as the first event takes every time less than 20, but not including 20.\n",
    "```\n",
    "\n",
    "**Note:**\n",
    "\n",
    "*   The number of calls to `MyCalendar.book` per test case will be at most `1000`.\n",
    "*   In calls to `MyCalendar.book(start, end)`, `start` and `end` are integers in the range `[0, 10^9]`."
   ]
  },
  {
   "cell_type": "code",
   "execution_count": 1,
   "metadata": {},
   "outputs": [],
   "source": [
    "# Boundary Counting + Binary Search Insort\n",
    "# https://leetcode.com/problems/my-calendar-ii/discuss/192388/python-boundary-count-using-bisect\n",
    "from bisect import insort\n",
    "\n",
    "class MyCalendar:\n",
    "    def __init__(self):\n",
    "        self.cnt = []\n",
    "\n",
    "    def book(self, start: int, end: int) -> bool:\n",
    "        if not self.cnt:\n",
    "            self.cnt += (start,1),\n",
    "            self.cnt += (end,-1),\n",
    "            return True\n",
    "        insort(self.cnt, (start,1))\n",
    "        insort(self.cnt, (end,-1))\n",
    "        cur_overlap = 0\n",
    "        for _, freq in self.cnt:\n",
    "            cur_overlap += freq\n",
    "            if cur_overlap == 2:\n",
    "                # book failed, reset counter to previous state\n",
    "                self.cnt.remove((start,1))\n",
    "                self.cnt.remove((end,-1))\n",
    "                return False\n",
    "        return True"
   ]
  },
  {
   "cell_type": "code",
   "execution_count": 2,
   "metadata": {},
   "outputs": [
    {
     "name": "stdout",
     "output_type": "stream",
     "text": [
      "True\n",
      "True\n",
      "False\n",
      "False\n",
      "True\n",
      "False\n"
     ]
    }
   ],
   "source": [
    "obj = MyCalendar()\n",
    "print(obj.book(10,20))\n",
    "print(obj.book(50,60))\n",
    "print(obj.book(10,40))\n",
    "print(obj.book(5, 15))\n",
    "print(obj.book(5, 10))\n",
    "print(obj.book(25, 55))"
   ]
  },
  {
   "cell_type": "code",
   "execution_count": null,
   "metadata": {},
   "outputs": [],
   "source": []
  }
 ],
 "metadata": {
  "kernelspec": {
   "display_name": "Python 3",
   "language": "python",
   "name": "python3"
  },
  "language_info": {
   "codemirror_mode": {
    "name": "ipython",
    "version": 3
   },
   "file_extension": ".py",
   "mimetype": "text/x-python",
   "name": "python",
   "nbconvert_exporter": "python",
   "pygments_lexer": "ipython3",
   "version": "3.6.8"
  }
 },
 "nbformat": 4,
 "nbformat_minor": 2
}
