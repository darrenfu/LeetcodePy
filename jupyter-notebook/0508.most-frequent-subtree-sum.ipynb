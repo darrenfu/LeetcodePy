{
 "cells": [
  {
   "cell_type": "code",
   "execution_count": 1,
   "metadata": {},
   "outputs": [],
   "source": [
    "import sys\n",
    "sys.path.append('..')\n",
    "from leetcode.tree.treenode import TreeNode"
   ]
  },
  {
   "cell_type": "code",
   "execution_count": 5,
   "metadata": {},
   "outputs": [],
   "source": [
    "# Runtime: 60 ms, faster than 63.62%\n",
    "from collections import Counter\n",
    "from typing import List\n",
    "\n",
    "class Solution:\n",
    "    def findFrequentTreeSum(self, root: TreeNode) -> List[int]:\n",
    "        def dfsPresum(node: TreeNode) -> int:\n",
    "            if not node:\n",
    "                return 0\n",
    "            l = dfsPresum(node.left)\n",
    "            r = dfsPresum(node.right)\n",
    "            presum = l + r + node.val\n",
    "            c[presum] += 1\n",
    "            return presum\n",
    "        \n",
    "        c = Counter()\n",
    "        dfsPresum(root)\n",
    "        res = []\n",
    "        largest = 0\n",
    "        for presum, freq in c.items():\n",
    "            if freq > largest:\n",
    "                largest = freq\n",
    "                del res[:]\n",
    "            if freq == largest:\n",
    "                res.append(presum)\n",
    "        return res"
   ]
  },
  {
   "cell_type": "code",
   "execution_count": 6,
   "metadata": {},
   "outputs": [
    {
     "data": {
      "text/plain": [
       "[2, -3, 4]"
      ]
     },
     "execution_count": 6,
     "metadata": {},
     "output_type": "execute_result"
    }
   ],
   "source": [
    "root = TreeNode.deserialize('[5,2,-3]')\n",
    "Solution().findFrequentTreeSum(root)"
   ]
  },
  {
   "cell_type": "code",
   "execution_count": 7,
   "metadata": {},
   "outputs": [
    {
     "data": {
      "text/plain": [
       "[2]"
      ]
     },
     "execution_count": 7,
     "metadata": {},
     "output_type": "execute_result"
    }
   ],
   "source": [
    "root = TreeNode.deserialize('[5,2,-5]')\n",
    "Solution().findFrequentTreeSum(root)"
   ]
  },
  {
   "cell_type": "code",
   "execution_count": null,
   "metadata": {},
   "outputs": [],
   "source": []
  }
 ],
 "metadata": {
  "kernelspec": {
   "display_name": "Python 3",
   "language": "python",
   "name": "python3"
  },
  "language_info": {
   "codemirror_mode": {
    "name": "ipython",
    "version": 3
   },
   "file_extension": ".py",
   "mimetype": "text/x-python",
   "name": "python",
   "nbconvert_exporter": "python",
   "pygments_lexer": "ipython3",
   "version": "3.6.8"
  }
 },
 "nbformat": 4,
 "nbformat_minor": 2
}
