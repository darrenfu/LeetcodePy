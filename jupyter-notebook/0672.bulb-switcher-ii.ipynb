{
 "cells": [
  {
   "cell_type": "code",
   "execution_count": 1,
   "metadata": {},
   "outputs": [],
   "source": [
    "# If we use button 1 and 2, it equals to use button 3.\n",
    "# Similarly: 1 + 2 --> 3, 1 + 3 --> 2, 2 + 3 --> 1\n",
    "# Only 8 cases when m and n >= 3: All_on, 1, 2, 3, 4, 1+4, 2+4, 3+4\n",
    "# https://leetcode.com/problems/bulb-switcher-ii/discuss/107269/Java-O(1)\n",
    "class Solution:\n",
    "    def flipLights(self, n: int, m: int) -> int:\n",
    "        if m == 0: return 1\n",
    "        if n == 1: return 2\n",
    "        if n == 2 and m == 1: return 3\n",
    "        if n == 2 or m == 1: return 4\n",
    "        if m == 2: return 7\n",
    "        if m >= 3: return 8\n",
    "        return 8"
   ]
  },
  {
   "cell_type": "code",
   "execution_count": 2,
   "metadata": {},
   "outputs": [],
   "source": [
    "# https://leetcode.com/problems/bulb-switcher-ii/discuss/107267/Python-Straightforward-with-Explanation"
   ]
  },
  {
   "cell_type": "code",
   "execution_count": 3,
   "metadata": {},
   "outputs": [
    {
     "data": {
      "text/plain": [
       "4"
      ]
     },
     "execution_count": 3,
     "metadata": {},
     "output_type": "execute_result"
    }
   ],
   "source": [
    "Solution().flipLights(n = 3, m = 1)"
   ]
  },
  {
   "cell_type": "code",
   "execution_count": null,
   "metadata": {},
   "outputs": [],
   "source": []
  }
 ],
 "metadata": {
  "kernelspec": {
   "display_name": "Python 3",
   "language": "python",
   "name": "python3"
  },
  "language_info": {
   "codemirror_mode": {
    "name": "ipython",
    "version": 3
   },
   "file_extension": ".py",
   "mimetype": "text/x-python",
   "name": "python",
   "nbconvert_exporter": "python",
   "pygments_lexer": "ipython3",
   "version": "3.6.8"
  }
 },
 "nbformat": 4,
 "nbformat_minor": 2
}
