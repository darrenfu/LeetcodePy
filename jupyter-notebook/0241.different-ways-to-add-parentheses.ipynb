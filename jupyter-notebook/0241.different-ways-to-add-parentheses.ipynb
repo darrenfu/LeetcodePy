{
 "cells": [
  {
   "cell_type": "code",
   "execution_count": 9,
   "metadata": {},
   "outputs": [],
   "source": [
    "# recursive DP\n",
    "from typing import List\n",
    "\n",
    "class Solution:\n",
    "    def diffWaysToCompute(self, input: str) -> List[int]:\n",
    "        memo = {}\n",
    "        def op(l: int, r: int, oper: str) -> int:\n",
    "            if oper == '+':\n",
    "                return l + r\n",
    "            if oper == '-':\n",
    "                return l - r\n",
    "            return l * r\n",
    "        \n",
    "        def dp(input: str) -> List[int]:\n",
    "            if input in memo:\n",
    "                return memo[input]\n",
    "            if input.isdigit():\n",
    "                memo[input] = [int(input)]\n",
    "                return memo[input]\n",
    "            res = []\n",
    "            for i, v in enumerate(input):\n",
    "                # divide (into left and right) and conquer on every operator\n",
    "                if v in '+-*':\n",
    "                    l = dp(input[:i]) # possible compute result at operator's left side\n",
    "                    r = dp(input[i+1:]) # possible compute result at operator's right side\n",
    "                    for j in l:\n",
    "                        for k in r:\n",
    "                            res.append(op(j, k, v))\n",
    "            memo[input] = res\n",
    "            return res\n",
    "        return dp(input)"
   ]
  },
  {
   "cell_type": "code",
   "execution_count": 18,
   "metadata": {},
   "outputs": [],
   "source": [
    "from typing import List\n",
    "from functools import lru_cache\n",
    "\n",
    "class Solution:\n",
    "    def diffWaysToCompute(self, input: str) -> List[int]:\n",
    "        def op(l: int, r: int, oper: str) -> int:\n",
    "            if oper == '+':\n",
    "                return l + r\n",
    "            if oper == '-':\n",
    "                return l - r\n",
    "            return l * r\n",
    "        \n",
    "        @lru_cache(None)\n",
    "        def dp(input: str) -> List[int]:\n",
    "            if input.isdigit():\n",
    "                return [int(input)]\n",
    "            res = []\n",
    "            for i, v in enumerate(input):\n",
    "                # divide (into left and right) and conquer on every operator\n",
    "                if v in '+-*':\n",
    "                    l = dp(input[:i]) # possible compute result at operator's left side\n",
    "                    r = dp(input[i+1:]) # possible compute result at operator's right side\n",
    "                    for j in l:\n",
    "                        for k in r:\n",
    "                            res.append(op(j, k, v))\n",
    "            return res\n",
    "        return dp(input)"
   ]
  },
  {
   "cell_type": "code",
   "execution_count": 19,
   "metadata": {},
   "outputs": [
    {
     "data": {
      "text/plain": [
       "[2, 0]"
      ]
     },
     "execution_count": 19,
     "metadata": {},
     "output_type": "execute_result"
    }
   ],
   "source": [
    "Solution().diffWaysToCompute(input=\"2-1-1\")"
   ]
  },
  {
   "cell_type": "code",
   "execution_count": 20,
   "metadata": {},
   "outputs": [
    {
     "data": {
      "text/plain": [
       "[-34, -10, -14, -10, 10]"
      ]
     },
     "execution_count": 20,
     "metadata": {},
     "output_type": "execute_result"
    }
   ],
   "source": [
    "Solution().diffWaysToCompute(input=\"2*3-4*5\")"
   ]
  },
  {
   "cell_type": "code",
   "execution_count": null,
   "metadata": {},
   "outputs": [],
   "source": []
  }
 ],
 "metadata": {
  "kernelspec": {
   "display_name": "Python 3",
   "language": "python",
   "name": "python3"
  },
  "language_info": {
   "codemirror_mode": {
    "name": "ipython",
    "version": 3
   },
   "file_extension": ".py",
   "mimetype": "text/x-python",
   "name": "python",
   "nbconvert_exporter": "python",
   "pygments_lexer": "ipython3",
   "version": "3.6.8"
  }
 },
 "nbformat": 4,
 "nbformat_minor": 2
}
