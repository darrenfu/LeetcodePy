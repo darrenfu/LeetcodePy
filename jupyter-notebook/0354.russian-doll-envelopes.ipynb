{
 "cells": [
  {
   "cell_type": "code",
   "execution_count": 4,
   "metadata": {},
   "outputs": [],
   "source": [
    "# 2d version of #300 LIS\n",
    "# DP - TLE\n",
    "from typing import List\n",
    "\n",
    "class Solution:\n",
    "    def maxEnvelopes(self, envelopes: List[List[int]]) -> int:\n",
    "        envelopes.sort()\n",
    "        n = len(envelopes)\n",
    "        dp = [1] * n\n",
    "        res = 0\n",
    "        for i in range(n):\n",
    "            for j in range(0,i):\n",
    "                # latter (i)'s width & height are both larger than prev's\n",
    "                if envelopes[i][0] > envelopes[j][0] and envelopes[i][1] > envelopes[j][1]:\n",
    "                    dp[i] = max(dp[i], dp[j] + 1)\n",
    "            res = max(res, dp[i])\n",
    "        return res"
   ]
  },
  {
   "cell_type": "code",
   "execution_count": 12,
   "metadata": {},
   "outputs": [],
   "source": [
    "# Binary Search\n",
    "# https://leetcode.com/problems/russian-doll-envelopes/discuss/183277/Python-6-lines-bisect-solution\n",
    "# Runtime: 172 ms, faster than 96.44%\n",
    "from typing import List\n",
    "from bisect import *\n",
    "\n",
    "class Solution:\n",
    "    def maxEnvelopes(self, envelopes: List[List[int]]) -> int:\n",
    "        tails = []\n",
    "        # sort envelopes in ASC order of with to remove restriction on width,\n",
    "        # then in DESC order of height for the same width, \n",
    "        # (DESC because LIS solution needs to keep replacing tail with smaller number)\n",
    "        # then apply LIS solution to heights\n",
    "        for w, h in sorted(envelopes, key=lambda rect: (rect[0], -rect[1])):\n",
    "            idx = bisect_left(tails, h)\n",
    "            if idx >= len(tails): tails.append(h)\n",
    "            else: tails[idx] = h\n",
    "            print((w,h), idx, tails)\n",
    "        return len(tails)"
   ]
  },
  {
   "cell_type": "code",
   "execution_count": 13,
   "metadata": {},
   "outputs": [
    {
     "name": "stdout",
     "output_type": "stream",
     "text": [
      "(2, 3) 0 [3]\n",
      "(5, 4) 1 [3, 4]\n",
      "(6, 7) 2 [3, 4, 7]\n",
      "(6, 4) 1 [3, 4, 7]\n"
     ]
    },
    {
     "data": {
      "text/plain": [
       "3"
      ]
     },
     "execution_count": 13,
     "metadata": {},
     "output_type": "execute_result"
    }
   ],
   "source": [
    "Solution().maxEnvelopes([[5,4],[6,4],[6,7],[2,3]])"
   ]
  },
  {
   "cell_type": "code",
   "execution_count": 15,
   "metadata": {},
   "outputs": [
    {
     "name": "stdout",
     "output_type": "stream",
     "text": [
      "(2, 2) 0 [2]\n",
      "(5, 3) 1 [2, 3]\n",
      "(6, 7) 2 [2, 3, 7]\n",
      "(6, 4) 2 [2, 3, 4]\n"
     ]
    },
    {
     "data": {
      "text/plain": [
       "3"
      ]
     },
     "execution_count": 15,
     "metadata": {},
     "output_type": "execute_result"
    }
   ],
   "source": [
    "Solution().maxEnvelopes([[5,3],[6,4],[6,7],[2,2]])"
   ]
  },
  {
   "cell_type": "code",
   "execution_count": null,
   "metadata": {},
   "outputs": [],
   "source": []
  }
 ],
 "metadata": {
  "kernelspec": {
   "display_name": "Python 3",
   "language": "python",
   "name": "python3"
  },
  "language_info": {
   "codemirror_mode": {
    "name": "ipython",
    "version": 3
   },
   "file_extension": ".py",
   "mimetype": "text/x-python",
   "name": "python",
   "nbconvert_exporter": "python",
   "pygments_lexer": "ipython3",
   "version": "3.6.8"
  }
 },
 "nbformat": 4,
 "nbformat_minor": 2
}
