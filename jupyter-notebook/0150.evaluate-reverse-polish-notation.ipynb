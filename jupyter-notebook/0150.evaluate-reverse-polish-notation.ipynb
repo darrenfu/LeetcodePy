{
 "cells": [
  {
   "cell_type": "markdown",
   "metadata": {},
   "source": [
    "### [150\\. Evaluate Reverse Polish Notation](https://leetcode.com/problems/evaluate-reverse-polish-notation/)\n",
    "\n",
    "Difficulty: **Medium**\n",
    "\n",
    "\n",
    "Evaluate the value of an arithmetic expression in .\n",
    "\n",
    "Valid operators are `+`, `-`, `*`, `/`. Each operand may be an integer or another expression.\n",
    "\n",
    "**Note:**\n",
    "\n",
    "*   Division between two integers should truncate toward zero.\n",
    "*   The given RPN expression is always valid. That means the expression would always evaluate to a result and there won't be any divide by zero operation.\n",
    "\n",
    "**Example 1:**\n",
    "\n",
    "```\n",
    "Input: [\"2\", \"1\", \"+\", \"3\", \"*\"]\n",
    "Output: 9\n",
    "Explanation: ((2 + 1) * 3) = 9\n",
    "```\n",
    "\n",
    "**Example 2:**\n",
    "\n",
    "```\n",
    "Input: [\"4\", \"13\", \"5\", \"/\", \"+\"]\n",
    "Output: 6\n",
    "Explanation: (4 + (13 / 5)) = 6\n",
    "```\n",
    "\n",
    "**Example 3:**\n",
    "\n",
    "```\n",
    "Input: [\"10\", \"6\", \"9\", \"3\", \"+\", \"-11\", \"*\", \"/\", \"*\", \"17\", \"+\", \"5\", \"+\"]\n",
    "Output: 22\n",
    "Explanation: \n",
    "  ((10 * (6 / ((9 + 3) * -11))) + 17) + 5\n",
    "= ((10 * (6 / (12 * -11))) + 17) + 5\n",
    "= ((10 * (6 / -132)) + 17) + 5\n",
    "= ((10 * 0) + 17) + 5\n",
    "= (0 + 17) + 5\n",
    "= 17 + 5\n",
    "= 22\n",
    "```"
   ]
  },
  {
   "cell_type": "code",
   "execution_count": 12,
   "metadata": {},
   "outputs": [],
   "source": [
    "from typing import List\n",
    "\n",
    "class Solution:\n",
    "    def evalRPN(self, tokens: List[str]) -> int:\n",
    "        #def isnum(token: str) -> bool:\n",
    "            #return token.lstrip('-').isdigit()\n",
    "        def calc(n1: int, n2: int, op: str) -> int:\n",
    "            if op == '+':\n",
    "                return n1 + n2\n",
    "            elif op == '-':\n",
    "                return n1 - n2\n",
    "            elif op == '*':\n",
    "                return n1 * n2\n",
    "            elif op == '/':\n",
    "                return int(n1 / n2)\n",
    "            else:\n",
    "                raise Exception(\"Operator not supported: {}\".format(op))\n",
    "                \n",
    "        stack = []\n",
    "        for to in tokens:\n",
    "            if to not in '+-*/':\n",
    "                stack.append(int(to))\n",
    "            else:\n",
    "                n2 = stack.pop()\n",
    "                n1 = stack.pop()\n",
    "                n3 = calc(n1, n2, to)\n",
    "                stack.append(n3)\n",
    "        return stack[-1]"
   ]
  },
  {
   "cell_type": "code",
   "execution_count": 13,
   "metadata": {},
   "outputs": [
    {
     "data": {
      "text/plain": [
       "22"
      ]
     },
     "execution_count": 13,
     "metadata": {},
     "output_type": "execute_result"
    }
   ],
   "source": [
    "Solution().evalRPN([\"10\", \"6\", \"9\", \"3\", \"+\", \"-11\", \"*\", \"/\", \"*\", \"17\", \"+\", \"5\", \"+\"])"
   ]
  },
  {
   "cell_type": "code",
   "execution_count": 14,
   "metadata": {},
   "outputs": [
    {
     "data": {
      "text/plain": [
       "6"
      ]
     },
     "execution_count": 14,
     "metadata": {},
     "output_type": "execute_result"
    }
   ],
   "source": [
    "Solution().evalRPN([\"4\", \"13\", \"5\", \"/\", \"+\"])"
   ]
  },
  {
   "cell_type": "code",
   "execution_count": 15,
   "metadata": {},
   "outputs": [
    {
     "data": {
      "text/plain": [
       "165"
      ]
     },
     "execution_count": 15,
     "metadata": {},
     "output_type": "execute_result"
    }
   ],
   "source": [
    "Solution().evalRPN([\"-78\",\"-33\",\"196\",\"+\",\"-19\",\"-\",\"115\",\"+\",\"-\",\"-99\",\"/\",\"-18\",\"8\",\"*\",\"-86\",\"-\",\"-\",\"16\",\"/\",\"26\",\"-14\",\"-\",\"-\",\"47\",\"-\",\"101\",\"-\",\"163\",\"*\",\"143\",\"-\",\"0\",\"-\",\"171\",\"+\",\"120\",\"*\",\"-60\",\"+\",\"156\",\"/\",\"173\",\"/\",\"-24\",\"11\",\"+\",\"21\",\"/\",\"*\",\"44\",\"*\",\"180\",\"70\",\"-40\",\"-\",\"*\",\"86\",\"132\",\"-84\",\"+\",\"*\",\"-\",\"38\",\"/\",\"/\",\"21\",\"28\",\"/\",\"+\",\"83\",\"/\",\"-31\",\"156\",\"-\",\"+\",\"28\",\"/\",\"95\",\"-\",\"120\",\"+\",\"8\",\"*\",\"90\",\"-\",\"-94\",\"*\",\"-73\",\"/\",\"-62\",\"/\",\"93\",\"*\",\"196\",\"-\",\"-59\",\"+\",\"187\",\"-\",\"143\",\"/\",\"-79\",\"-89\",\"+\",\"-\"])"
   ]
  },
  {
   "cell_type": "code",
   "execution_count": null,
   "metadata": {},
   "outputs": [],
   "source": []
  }
 ],
 "metadata": {
  "kernelspec": {
   "display_name": "Python 3",
   "language": "python",
   "name": "python3"
  },
  "language_info": {
   "codemirror_mode": {
    "name": "ipython",
    "version": 3
   },
   "file_extension": ".py",
   "mimetype": "text/x-python",
   "name": "python",
   "nbconvert_exporter": "python",
   "pygments_lexer": "ipython3",
   "version": "3.6.8"
  }
 },
 "nbformat": 4,
 "nbformat_minor": 2
}
