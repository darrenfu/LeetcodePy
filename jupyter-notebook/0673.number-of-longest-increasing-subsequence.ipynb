{
 "cells": [
  {
   "cell_type": "markdown",
   "metadata": {},
   "source": [
    "### [673\\. Number of Longest Increasing Subsequence](https://leetcode.com/problems/number-of-longest-increasing-subsequence/)\n",
    "\n",
    "Difficulty: **Medium**\n",
    "\n",
    "\n",
    "Given an unsorted array of integers, find the number of longest increasing subsequence.\n",
    "\n",
    "**Example 1:**  \n",
    "\n",
    "```\n",
    "Input: [1,3,5,4,7]\n",
    "Output: 2\n",
    "Explanation: The two longest increasing subsequence are [1, 3, 4, 7] and [1, 3, 5, 7].\n",
    "```\n",
    "\n",
    "**Example 2:**  \n",
    "\n",
    "```\n",
    "Input: [2,2,2,2,2]\n",
    "Output: 5\n",
    "Explanation: The length of longest continuous increasing subsequence is 1, and there are 5 subsequences' length is 1, so output 5.\n",
    "```\n",
    "\n",
    "**Note:** Length of the given array will be not exceed 2000 and the answer is guaranteed to be fit in 32-bit signed int."
   ]
  },
  {
   "cell_type": "code",
   "execution_count": 2,
   "metadata": {},
   "outputs": [],
   "source": [
    "# Variant of 300. Longest Increasing Subsequence\n",
    "from typing import List\n",
    "\n",
    "class Solution:\n",
    "    def findNumberOfLIS(self, nums: List[int]) -> int:\n",
    "        n = len(nums)\n",
    "        if n == 0: return 0\n",
    "        "
   ]
  },
  {
   "cell_type": "code",
   "execution_count": 3,
   "metadata": {},
   "outputs": [
    {
     "name": "stdout",
     "output_type": "stream",
     "text": [
      "defaultdict(<class 'set'>, {}) defaultdict(<class 'set'>, {})\n"
     ]
    },
    {
     "data": {
      "text/plain": [
       "2"
      ]
     },
     "execution_count": 3,
     "metadata": {},
     "output_type": "execute_result"
    }
   ],
   "source": [
    "Solution().findNumberOfLIS([1,2,4,3,5,4,7,2])"
   ]
  },
  {
   "cell_type": "code",
   "execution_count": null,
   "metadata": {},
   "outputs": [],
   "source": []
  }
 ],
 "metadata": {
  "kernelspec": {
   "display_name": "Python 3",
   "language": "python",
   "name": "python3"
  },
  "language_info": {
   "codemirror_mode": {
    "name": "ipython",
    "version": 3
   },
   "file_extension": ".py",
   "mimetype": "text/x-python",
   "name": "python",
   "nbconvert_exporter": "python",
   "pygments_lexer": "ipython3",
   "version": "3.6.8"
  }
 },
 "nbformat": 4,
 "nbformat_minor": 2
}
