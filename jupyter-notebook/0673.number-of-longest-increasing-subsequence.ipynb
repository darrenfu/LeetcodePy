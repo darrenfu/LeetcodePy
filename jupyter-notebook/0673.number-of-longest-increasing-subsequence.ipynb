{
 "cells": [
  {
   "cell_type": "markdown",
   "metadata": {},
   "source": [
    "### [673\\. Number of Longest Increasing Subsequence](https://leetcode.com/problems/number-of-longest-increasing-subsequence/)\n",
    "\n",
    "Difficulty: **Medium**\n",
    "\n",
    "\n",
    "Given an unsorted array of integers, find the number of longest increasing subsequence.\n",
    "\n",
    "**Example 1:**  \n",
    "\n",
    "```\n",
    "Input: [1,3,5,4,7]\n",
    "Output: 2\n",
    "Explanation: The two longest increasing subsequence are [1, 3, 4, 7] and [1, 3, 5, 7].\n",
    "```\n",
    "\n",
    "**Example 2:**  \n",
    "\n",
    "```\n",
    "Input: [2,2,2,2,2]\n",
    "Output: 5\n",
    "Explanation: The length of longest continuous increasing subsequence is 1, and there are 5 subsequences' length is 1, so output 5.\n",
    "```\n",
    "\n",
    "**Note:** Length of the given array will be not exceed 2000 and the answer is guaranteed to be fit in 32-bit signed int."
   ]
  },
  {
   "cell_type": "code",
   "execution_count": 33,
   "metadata": {},
   "outputs": [],
   "source": [
    "# Variant of 300. Longest Increasing Subsequence\n",
    "# https://leetcode.com/problems/number-of-longest-increasing-subsequence/discuss/107320/Python-DP-with-explanation-(Beats-88)\n",
    "# https://leetcode.com/problems/number-of-longest-increasing-subsequence/discuss/107303/python-DP-solution-with-DETAILED-explanation\n",
    "from typing import List\n",
    "\n",
    "class Solution:\n",
    "    def findNumberOfLIS(self, nums: List[int]) -> int:\n",
    "        n = len(nums)\n",
    "        dp = [[1,1]] * n # dp[i] means (length of longest increasing subseq, subseq #) ending by i\n",
    "        global_max_len = 1\n",
    "        for i in range(n):\n",
    "            max_len, count = 1, 0\n",
    "            for j in range(i): # why traverse j to find longest increasing length?\n",
    "                if nums[j] < nums[i]: # increasing only when the ending element nums[i] is bigger\n",
    "                    new_len = dp[j][0]+1\n",
    "                    if new_len > max_len:\n",
    "                        max_len = new_len\n",
    "                        count = dp[j][1]\n",
    "                    elif new_len == max_len:\n",
    "                        count += dp[j][1]\n",
    "            dp[i] = [max_len, max(dp[i][1], count)]\n",
    "            global_max_len = max(global_max_len, max_len)\n",
    "        return sum(meta[1] for meta in dp if meta[0] == global_max_len)"
   ]
  },
  {
   "cell_type": "code",
   "execution_count": 34,
   "metadata": {},
   "outputs": [
    {
     "name": "stdout",
     "output_type": "stream",
     "text": [
      "1 0 1 1\n",
      "2 0 1 1\n",
      "2 1 1 1\n",
      "3 0 1 1\n",
      "3 1 1 1\n",
      "4 0 1 1\n",
      "4 1 1 1\n",
      "4 2 1 1\n",
      "4 3 1 2\n"
     ]
    },
    {
     "data": {
      "text/plain": [
       "2"
      ]
     },
     "execution_count": 34,
     "metadata": {},
     "output_type": "execute_result"
    }
   ],
   "source": [
    "Solution().findNumberOfLIS([1,3,5,4,7])"
   ]
  },
  {
   "cell_type": "code",
   "execution_count": null,
   "metadata": {},
   "outputs": [],
   "source": []
  },
  {
   "cell_type": "code",
   "execution_count": null,
   "metadata": {},
   "outputs": [],
   "source": []
  }
 ],
 "metadata": {
  "kernelspec": {
   "display_name": "Python 3",
   "language": "python",
   "name": "python3"
  },
  "language_info": {
   "codemirror_mode": {
    "name": "ipython",
    "version": 3
   },
   "file_extension": ".py",
   "mimetype": "text/x-python",
   "name": "python",
   "nbconvert_exporter": "python",
   "pygments_lexer": "ipython3",
   "version": "3.6.8"
  }
 },
 "nbformat": 4,
 "nbformat_minor": 2
}
