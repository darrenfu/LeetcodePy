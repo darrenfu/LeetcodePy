{
 "cells": [
  {
   "cell_type": "code",
   "execution_count": 13,
   "metadata": {},
   "outputs": [],
   "source": [
    "# DFS\n",
    "# T: O(V+E)\n",
    "# https://www.geeksforgeeks.org/bridge-in-a-graph/\n",
    "from typing import List\n",
    "from collections import defaultdict\n",
    "\n",
    "class Solution:\n",
    "    def criticalConnections(self, n: int, connections: List[List[int]]) -> List[List[int]]:\n",
    "        res = []\n",
    "        def bridgeUtil(u: int):\n",
    "            nonlocal time\n",
    "            visited[u] = True\n",
    "            # Initialize discovery time and low value\n",
    "            disc[u] = time\n",
    "            low[u] = time\n",
    "            time += 1\n",
    "            # check adjacent vertices\n",
    "            for v in edges[u]:\n",
    "                if not visited[v]:\n",
    "                    # make v a child of u in DFS tree if v is not visited\n",
    "                    parent[v] = u\n",
    "                    # DFS\n",
    "                    bridgeUtil(v)\n",
    "                    # Check if the subtree rooted with v has a connection \n",
    "                    # to one of the ancestors of u\n",
    "                    low[u] = min(low[u], low[v])\n",
    "                    # if the lowest vertex reachable from subtree under v\n",
    "                    # is below u in DFS tree, then E(u,v) is a bridge\n",
    "                    if low[v] > disc[u]:\n",
    "                        res.append([u, v])\n",
    "                elif v != parent[u]:\n",
    "                    # update low value of u for parent function calls\n",
    "                    low[u] = min(low[u], disc[v])\n",
    "        \n",
    "        edges = defaultdict(list)\n",
    "        for s,e in connections:\n",
    "            edges[s].append(e)\n",
    "            edges[e].append(s)\n",
    "        \n",
    "        visited = [False] * n\n",
    "        # stores discovery times of visited vertices \n",
    "        disc = [float('inf')] * n\n",
    "        # stores parent vertices in DFS tree\n",
    "        low = [float('inf')] * n\n",
    "        parent = [-1] * n\n",
    "        time = 0\n",
    "        for i in range(n):\n",
    "            if not visited[i]:\n",
    "                bridgeUtil(i)\n",
    "        return res"
   ]
  },
  {
   "cell_type": "code",
   "execution_count": 14,
   "metadata": {},
   "outputs": [
    {
     "data": {
      "text/plain": [
       "[[1, 3]]"
      ]
     },
     "execution_count": 14,
     "metadata": {},
     "output_type": "execute_result"
    }
   ],
   "source": [
    "Solution().criticalConnections(n = 4, connections = [[0,1],[1,2],[2,0],[1,3]])"
   ]
  },
  {
   "cell_type": "code",
   "execution_count": null,
   "metadata": {},
   "outputs": [],
   "source": []
  }
 ],
 "metadata": {
  "kernelspec": {
   "display_name": "Python 3",
   "language": "python",
   "name": "python3"
  },
  "language_info": {
   "codemirror_mode": {
    "name": "ipython",
    "version": 3
   },
   "file_extension": ".py",
   "mimetype": "text/x-python",
   "name": "python",
   "nbconvert_exporter": "python",
   "pygments_lexer": "ipython3",
   "version": "3.6.8"
  }
 },
 "nbformat": 4,
 "nbformat_minor": 2
}
