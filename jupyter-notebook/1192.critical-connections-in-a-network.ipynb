{
 "cells": [
  {
   "cell_type": "markdown",
   "metadata": {},
   "source": [
    "### [1192\\. Critical Connections in a Network](https://leetcode.com/problems/critical-connections-in-a-network/)\n",
    "\n",
    "Difficulty: **Hard**\n",
    "\n",
    "\n",
    "There are `n` servers numbered from `0` to `n-1` connected by undirected server-to-server `connections` forming a network where `connections[i] = [a, b]` represents a connection between servers `a` and `b`. Any server can reach any other server directly or indirectly through the network.\n",
    "\n",
    "A _critical connection_ is a connection that, if removed, will make some server unable to reach some other server.\n",
    "\n",
    "Return all critical connections in the network in any order.\n",
    "\n",
    "**Example 1:**\n",
    "\n",
    "**![](https://assets.leetcode.com/uploads/2019/09/03/1537_ex1_2.png)**\n",
    "\n",
    "```\n",
    "Input: n = 4, connections = [[0,1],[1,2],[2,0],[1,3]]\n",
    "Output: [[1,3]]\n",
    "Explanation: [[3,1]] is also accepted.\n",
    "```\n",
    "\n",
    "**Constraints:**\n",
    "\n",
    "*   `1 <= n <= 10^5`\n",
    "*   `n-1 <= connections.length <= 10^5`\n",
    "*   `connections[i][0] != connections[i][1]`\n",
    "*   There are no repeated connections."
   ]
  },
  {
   "cell_type": "code",
   "execution_count": 7,
   "metadata": {},
   "outputs": [],
   "source": [
    "# DFS/tarjan's algorithm\n",
    "# T: O(V+E)\n",
    "# https://www.geeksforgeeks.org/bridge-in-a-graph/\n",
    "from typing import List\n",
    "from collections import defaultdict\n",
    "\n",
    "class Solution:\n",
    "    def criticalConnections(self, n: int, connections: List[List[int]]) -> List[List[int]]:\n",
    "        res = []\n",
    "        def strongconnect(u: int): # dfs recursion function\n",
    "            nonlocal cur_idx\n",
    "            # Initialize dfnovery cur_idx and low value\n",
    "            # Set the depth cur_idx for v to the smallest unused cur_idx\n",
    "            dfn[u] = cur_idx\n",
    "            low[u] = cur_idx\n",
    "            cur_idx += 1\n",
    "            # check adjacent vertices\n",
    "            for v in edges[u]:\n",
    "                if dfn[v] == -1: # not visited\n",
    "                    # make v a child of u in DFS tree if v is not visited\n",
    "                    parent[v] = u  # union find\n",
    "                    strongconnect(v)\n",
    "                    # Check if the subtree rooted with v has a connection to one of the ancestors of u\n",
    "                    low[u] = min(low[u], low[v])\n",
    "                    # if the lowest vertex reachable from subtree under v\n",
    "                    # is below u in DFS tree, then E(u,v) is a bridge\n",
    "                    if low[v] > dfn[u]:\n",
    "                        res.append([u, v]) # cut edge found\n",
    "                elif v != parent[u]:\n",
    "                    # update low value of u for parent function calls\n",
    "                    low[u] = min(low[u], dfn[v])\n",
    "        \n",
    "        edges = defaultdict(list)\n",
    "        for s,e in connections:\n",
    "            edges[s].append(e)\n",
    "            edges[e].append(s)\n",
    "        \n",
    "        # stores dfnovery cur_idxs (vertex cur_idx in traverse order) of visited vertices \n",
    "        dfn = [-1] * n\n",
    "        # stores the lowest order of each node's neighbor except its direct parent\n",
    "        low = [-1] * n\n",
    "        # stores parent vertices in DFS tree.\n",
    "        parent = [-1] * n\n",
    "        cur_idx = 0 # global increment number to store vertex cur_idx during traverse\n",
    "        for i in range(n):\n",
    "            if dfn[i] == -1: # not visited\n",
    "                strongconnect(i)\n",
    "        return res"
   ]
  },
  {
   "cell_type": "code",
   "execution_count": 8,
   "metadata": {},
   "outputs": [
    {
     "data": {
      "text/plain": [
       "[[1, 3]]"
      ]
     },
     "execution_count": 8,
     "metadata": {},
     "output_type": "execute_result"
    }
   ],
   "source": [
    "Solution().criticalConnections(n = 4, connections = [[0,1],[1,2],[2,0],[1,3]])"
   ]
  },
  {
   "cell_type": "code",
   "execution_count": null,
   "metadata": {},
   "outputs": [],
   "source": []
  }
 ],
 "metadata": {
  "kernelspec": {
   "display_name": "Python 3",
   "language": "python",
   "name": "python3"
  },
  "language_info": {
   "codemirror_mode": {
    "name": "ipython",
    "version": 3
   },
   "file_extension": ".py",
   "mimetype": "text/x-python",
   "name": "python",
   "nbconvert_exporter": "python",
   "pygments_lexer": "ipython3",
   "version": "3.6.8"
  }
 },
 "nbformat": 4,
 "nbformat_minor": 2
}
