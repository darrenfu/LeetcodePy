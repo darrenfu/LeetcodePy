{
 "cells": [
  {
   "cell_type": "markdown",
   "metadata": {},
   "source": [
    "## [Gray code](https://en.wikipedia.org/wiki/Gray_code)\n",
    "### construct an n-bit gray code\n",
    "The binary-reflected Gray code list for n bits can be generated recursively  \n",
    "from the list for n − 1 bits by reflecting the list (i.e. listing the entries in reverse order),  \n",
    "prefixing the entries in the original list with a binary 0,  \n",
    "prefixing the entries in the reflected list with a binary 1,   \n",
    "and then concatenating the original list with the reversed list.  \n",
    "\n",
    "E.g. generating the n = 3 list from the n = 2 list:  \n",
    "\n",
    "2-bit list:\t                00, 01, 11, 10  \n",
    "Reflected:                                      10, 11, 01, 00  \n",
    "Prefix old entries with 0:\t000, 001, 011, 010,  \n",
    "Prefix new entries with 1:\t \t                110, 111, 101, 100  \n",
    "Concatenated:\t            000, 001, 011, 010, 110, 111, 101, 100  "
   ]
  },
  {
   "cell_type": "code",
   "execution_count": 21,
   "metadata": {},
   "outputs": [],
   "source": [
    "# A follow-up of #89. Gray code\n",
    "# BFS\n",
    "# Runtime: 216 ms\n",
    "from typing import List\n",
    "\n",
    "class Solution:\n",
    "    def circularPermutation(self, n: int, start: int) -> List[int]:\n",
    "        codes = [0]\n",
    "        # k is the highest digit (in binary) to prepend 1, aka. the binary digit count\n",
    "        # e.g. 101 -> 1101\n",
    "        for k in range(n):\n",
    "            # reverse the binary codes, and then prepend 1\n",
    "            rev_prepend_codes = [1<<k | b for b in codes[::-1]]\n",
    "#             print(k, rev_prepend_codes)\n",
    "            codes += rev_prepend_codes\n",
    "        # rotate and concatenate the n-bit array at the index of start\n",
    "        idx = codes.index(start)\n",
    "        return codes[idx:] + codes[:idx]"
   ]
  },
  {
   "cell_type": "code",
   "execution_count": 27,
   "metadata": {},
   "outputs": [],
   "source": [
    "# Gray code formula\n",
    "# https://leetcode.com/problems/circular-permutation-in-binary-representation/discuss/414185/Python-Gray-code\n",
    "# Runtime: 212 ms\n",
    "from typing import List\n",
    "\n",
    "class Solution:\n",
    "    def circularPermutation(self, n: int, start: int) -> List[int]:\n",
    "        codes = [i ^ i>>1 for i in range(2**n)]\n",
    "        # rotate and concatenate the n-bit array at the index of start\n",
    "        idx = codes.index(start)\n",
    "        return codes[idx:] + codes[:idx]"
   ]
  },
  {
   "cell_type": "code",
   "execution_count": 28,
   "metadata": {},
   "outputs": [
    {
     "data": {
      "text/plain": [
       "[2, 6, 7, 5, 4, 0, 1, 3]"
      ]
     },
     "execution_count": 28,
     "metadata": {},
     "output_type": "execute_result"
    }
   ],
   "source": [
    "Solution().circularPermutation(n=3,start=2)"
   ]
  },
  {
   "cell_type": "code",
   "execution_count": 29,
   "metadata": {},
   "outputs": [
    {
     "data": {
      "text/plain": [
       "[3, 2, 0, 1]"
      ]
     },
     "execution_count": 29,
     "metadata": {},
     "output_type": "execute_result"
    }
   ],
   "source": [
    "Solution().circularPermutation(n=2,start=3)"
   ]
  },
  {
   "cell_type": "code",
   "execution_count": null,
   "metadata": {},
   "outputs": [],
   "source": []
  }
 ],
 "metadata": {
  "kernelspec": {
   "display_name": "Python 3",
   "language": "python",
   "name": "python3"
  },
  "language_info": {
   "codemirror_mode": {
    "name": "ipython",
    "version": 3
   },
   "file_extension": ".py",
   "mimetype": "text/x-python",
   "name": "python",
   "nbconvert_exporter": "python",
   "pygments_lexer": "ipython3",
   "version": "3.6.8"
  }
 },
 "nbformat": 4,
 "nbformat_minor": 2
}
