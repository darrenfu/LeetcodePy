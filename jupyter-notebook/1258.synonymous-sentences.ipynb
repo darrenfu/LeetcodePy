{
 "cells": [
  {
   "cell_type": "code",
   "execution_count": 20,
   "metadata": {},
   "outputs": [],
   "source": [
    "import sys\n",
    "sys.path.append('..')\n",
    "from leetcode.unionfind.uf import UF"
   ]
  },
  {
   "cell_type": "code",
   "execution_count": 21,
   "metadata": {},
   "outputs": [],
   "source": [
    "# Union Find\n",
    "from typing import List\n",
    "from itertools import combinations\n",
    "\n",
    "class Solution:\n",
    "    def generateSentences(self, synonyms: List[List[str]], text: str) -> List[str]:\n",
    "        synonyms = [set(s) for s in synonyms]\n",
    "        roots = set() # store root indexes of connected components\n",
    "        N = len(synonyms)\n",
    "        \n",
    "        uf = UF(N)\n",
    "        for i, j in combinations(range(N), 2):\n",
    "            if synonyms[i] & synonyms[j]: # has overlap\n",
    "                uf.union(i, j) # union two synonym indexes\n",
    "                \n",
    "        # for each root of connected component, union all words into one big set\n",
    "        for i in range(N):\n",
    "            root = uf.find(i)\n",
    "            roots.add(root)\n",
    "            synonyms[root] |= synonyms[i]\n",
    "            \n",
    "        def dfs(i: int, path: List[str], res: List[List[str]]):\n",
    "            if i == W:\n",
    "                res.append(path)\n",
    "                return\n",
    "            if founds[i] == -1:\n",
    "                dfs(i+1, path + [words[i]], res)\n",
    "            else:\n",
    "                for s in synonyms[founds[i]]:\n",
    "                    dfs(i+1, path + [s], res)\n",
    "                    \n",
    "        words = text.split()\n",
    "        W = len(words)\n",
    "        founds = [-1 for i in range(W)] # check each word's existence in synonyms\n",
    "        for i, w in enumerate(words):\n",
    "            for root in roots:\n",
    "                if w in synonyms[root]:\n",
    "                    founds[i] = root\n",
    "                    break\n",
    "        res = []\n",
    "        dfs(0, [], res)\n",
    "        return sorted([' '.join(lst) for lst in res])"
   ]
  },
  {
   "cell_type": "code",
   "execution_count": 27,
   "metadata": {},
   "outputs": [],
   "source": [
    "# short version of previous Solution using itertools.product(*args)\n",
    "from typing import List\n",
    "from itertools import *\n",
    "\n",
    "class Solution:\n",
    "    def generateSentences(self, synonyms: List[List[str]], text: str) -> List[str]:\n",
    "        synonyms = [set(s) for s in synonyms]\n",
    "        roots = set() # store root indexes of connected components\n",
    "        N = len(synonyms)\n",
    "        \n",
    "        uf = UF(N)\n",
    "        for i, j in combinations(range(N), 2):\n",
    "            if synonyms[i] & synonyms[j]: # has overlap\n",
    "                uf.union(i, j) # union two synonym indexes\n",
    "                \n",
    "        # for each root of connected component, union all words into one big set\n",
    "        for i in range(N):\n",
    "            root = uf.find(i)\n",
    "            roots.add(root)\n",
    "            synonyms[root] |= synonyms[i]\n",
    "            \n",
    "        words = text.split()\n",
    "        W = len(words)\n",
    "        C = [] # store all possible words in each index\n",
    "        for i, w in enumerate(words):\n",
    "            found = False\n",
    "            for root in roots:\n",
    "                if w in synonyms[root]:\n",
    "                    C.append(sorted(list(synonyms[root])))\n",
    "                    found = True\n",
    "                    break\n",
    "            if not found:\n",
    "                C.append([w])\n",
    "        # Cartesian product: https://docs.python.org/3/library/itertools.html?#itertools.product\n",
    "        # e.g. itertools.product([['I am'],['cheerful','happy','joy'],['today but was'],['sad','sorrow'],['yesterday']])\n",
    "        return [' '.join(candidate) for candidate in product(*C)] # unpack array C, then for each column, it's a possible word set"
   ]
  },
  {
   "cell_type": "code",
   "execution_count": 41,
   "metadata": {},
   "outputs": [],
   "source": [
    "# DFS\n",
    "# @awice\n",
    "from typing import List\n",
    "from collections import defaultdict\n",
    "from itertools import *\n",
    "\n",
    "class Solution:\n",
    "    def generateSentences(self, synonyms: List[List[str]], text: str) -> List[str]:\n",
    "        def dfs(curword: str):\n",
    "            for v in graph[curword]:\n",
    "                if v not in seen:\n",
    "                    seen.add(v)\n",
    "                    dfs(v)\n",
    "                \n",
    "        graph = defaultdict(list)\n",
    "        for s in synonyms:\n",
    "            u, v = s[0], s[1]\n",
    "            graph[u].append(v)\n",
    "            graph[v].append(u)\n",
    "#         print(graph)\n",
    "        \n",
    "        words = text.split()\n",
    "        C = []\n",
    "        for w in words:\n",
    "            if w not in graph:\n",
    "                C.append([w])\n",
    "            else:\n",
    "                seen = {w}\n",
    "                dfs(w)\n",
    "                C.append(sorted(list(seen)))\n",
    "#             print(C)\n",
    "        return [' '.join(candidate) for candidate in product(*C)]"
   ]
  },
  {
   "cell_type": "code",
   "execution_count": 42,
   "metadata": {},
   "outputs": [
    {
     "data": {
      "text/plain": [
       "['I am cheerful today but was sad yesterday',\n",
       " 'I am cheerful today but was sorrow yesterday',\n",
       " 'I am happy today but was sad yesterday',\n",
       " 'I am happy today but was sorrow yesterday',\n",
       " 'I am joy today but was sad yesterday',\n",
       " 'I am joy today but was sorrow yesterday']"
      ]
     },
     "execution_count": 42,
     "metadata": {},
     "output_type": "execute_result"
    }
   ],
   "source": [
    "Solution().generateSentences(synonyms = [[\"happy\",\"joy\"],[\"sad\",\"sorrow\"],[\"joy\",\"cheerful\"]], text = \"I am happy today but was sad yesterday\")"
   ]
  },
  {
   "cell_type": "code",
   "execution_count": null,
   "metadata": {},
   "outputs": [],
   "source": []
  },
  {
   "cell_type": "code",
   "execution_count": null,
   "metadata": {},
   "outputs": [],
   "source": []
  }
 ],
 "metadata": {
  "kernelspec": {
   "display_name": "Python 3",
   "language": "python",
   "name": "python3"
  },
  "language_info": {
   "codemirror_mode": {
    "name": "ipython",
    "version": 3
   },
   "file_extension": ".py",
   "mimetype": "text/x-python",
   "name": "python",
   "nbconvert_exporter": "python",
   "pygments_lexer": "ipython3",
   "version": "3.6.8"
  }
 },
 "nbformat": 4,
 "nbformat_minor": 2
}
