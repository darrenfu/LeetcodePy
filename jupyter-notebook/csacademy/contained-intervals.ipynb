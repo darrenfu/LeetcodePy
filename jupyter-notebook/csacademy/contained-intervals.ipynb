{
 "cells": [
  {
   "cell_type": "code",
   "execution_count": 67,
   "metadata": {},
   "outputs": [],
   "source": [
    "# https://csacademy.com/contest/interview-archive/task/contained-intervals/\n",
    "# T&S: 681 ms - 45.7 MB\n",
    "\n",
    "# Parameter intervals is an array of dictionaries where each\n",
    "# dict has keys \"x\" and \"y\" defined with integer values\n",
    "# The function should return an integer\n",
    "def contained_intervals(intervals):\n",
    "    # sort asc on start, then desc on end\n",
    "    itvs = sorted(intervals, key=lambda dct: (dct['x'], -dct['y']))\n",
    "    max_end = float('-inf')\n",
    "    res = 0\n",
    "    for i, v in enumerate(itvs):\n",
    "        start, end = v['x'], v['y']\n",
    "        is_contain = end <= max_end\n",
    "        # Two conditions: \n",
    "        # 1. cur end <= prev max_end (start already asc)\n",
    "        # 2. if next interval equals to cur one, counted as well\n",
    "        if is_contain or (i+1 < len(itvs) and itvs[i+1] == v):\n",
    "            res += 1\n",
    "        if not is_contain:\n",
    "            max_end = end\n",
    "    return res"
   ]
  },
  {
   "cell_type": "code",
   "execution_count": 68,
   "metadata": {},
   "outputs": [
    {
     "name": "stdout",
     "output_type": "stream",
     "text": [
      "1 6 -inf 0\n",
      "1 3 6 0\n",
      "4 10 6 1\n",
      "4 6 10 1\n",
      "5 6 10 2\n"
     ]
    },
    {
     "data": {
      "text/plain": [
       "3"
      ]
     },
     "execution_count": 68,
     "metadata": {},
     "output_type": "execute_result"
    }
   ],
   "source": [
    "intervals = [{\"x\":1,\"y\":6}, {\"x\":4,\"y\":6}, {\"x\":4,\"y\":10}, {\"x\":5,\"y\":6}, {\"x\":1,\"y\":3}]\n",
    "contained_intervals(intervals)"
   ]
  },
  {
   "cell_type": "code",
   "execution_count": 69,
   "metadata": {},
   "outputs": [
    {
     "name": "stdout",
     "output_type": "stream",
     "text": [
      "2 4 -inf 0\n",
      "2 4 4 1\n",
      "2 3 4 2\n",
      "3 4 4 3\n",
      "3 4 4 4\n",
      "8 9 4 5\n",
      "8 9 9 6\n",
      "9 10 9 7\n",
      "9 10 10 8\n",
      "9 10 10 9\n"
     ]
    },
    {
     "data": {
      "text/plain": [
       "10"
      ]
     },
     "execution_count": 69,
     "metadata": {},
     "output_type": "execute_result"
    }
   ],
   "source": [
    "intervals = [{\"x\":9,\"y\":10},\n",
    "{\"x\":9,\"y\":10},\n",
    "{\"x\":3,\"y\":4 },\n",
    "{\"x\":2,\"y\":4 },\n",
    "{\"x\":8,\"y\":9 },\n",
    "{\"x\":9,\"y\":10},\n",
    "{\"x\":2,\"y\":3 },\n",
    "{\"x\":8,\"y\":9 },\n",
    "{\"x\":2,\"y\":4 },\n",
    "{\"x\":3,\"y\":4}]\n",
    "contained_intervals(intervals)"
   ]
  },
  {
   "cell_type": "code",
   "execution_count": null,
   "metadata": {},
   "outputs": [],
   "source": []
  },
  {
   "cell_type": "code",
   "execution_count": null,
   "metadata": {},
   "outputs": [],
   "source": []
  }
 ],
 "metadata": {
  "kernelspec": {
   "display_name": "Python 3",
   "language": "python",
   "name": "python3"
  },
  "language_info": {
   "codemirror_mode": {
    "name": "ipython",
    "version": 3
   },
   "file_extension": ".py",
   "mimetype": "text/x-python",
   "name": "python",
   "nbconvert_exporter": "python",
   "pygments_lexer": "ipython3",
   "version": "3.6.8"
  }
 },
 "nbformat": 4,
 "nbformat_minor": 2
}
