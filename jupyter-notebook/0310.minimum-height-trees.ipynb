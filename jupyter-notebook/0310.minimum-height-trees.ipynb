{
 "cells": [
  {
   "cell_type": "code",
   "execution_count": 61,
   "metadata": {},
   "outputs": [],
   "source": [
    "# topological sorting (BFS)\n",
    "# start nodes from leaves, and find leaves in the subtree without those start nodes.\n",
    "# BFS the step above until leave number becomes 1 or 2\n",
    "# Runtime: 276 ms, faster than 63.29%\n",
    "# https://leetcode.com/problems/minimum-height-trees/discuss/76055/Share-some-thoughts\n",
    "from typing import List\n",
    "from collections import defaultdict\n",
    "\n",
    "class Solution:\n",
    "    def findMinHeightTrees(self, n: int, edges: List[List[int]]) -> List[int]:\n",
    "        if not edges: return [0]\n",
    "        in_degrees = defaultdict(int)\n",
    "        neighbors = defaultdict(list)\n",
    "        for u, v in edges:\n",
    "            in_degrees[u] += 1\n",
    "            in_degrees[v] += 1\n",
    "            neighbors[u].append(v)\n",
    "            neighbors[v].append(u)\n",
    "        # find all leaves as start points\n",
    "        leaves = [v for v in in_degrees.keys() if in_degrees[v] == 1]\n",
    "        while n > 2: # returns either 1 or 2 elements\n",
    "            n -= len(leaves)\n",
    "            new_leaves = []\n",
    "            for v in leaves:\n",
    "                for u in neighbors[v]:\n",
    "                    in_degrees[u] -= 1\n",
    "                    if in_degrees[u] == 1:\n",
    "                        new_leaves.append(u)\n",
    "            leaves = new_leaves\n",
    "        return leaves"
   ]
  },
  {
   "cell_type": "code",
   "execution_count": 62,
   "metadata": {},
   "outputs": [
    {
     "name": "stdout",
     "output_type": "stream",
     "text": [
      "[1]\n"
     ]
    }
   ],
   "source": [
    "Solution().findMinHeightTrees(n = 4, edges = [[1, 0], [1, 2], [1, 3]])"
   ]
  },
  {
   "cell_type": "code",
   "execution_count": 63,
   "metadata": {},
   "outputs": [
    {
     "name": "stdout",
     "output_type": "stream",
     "text": [
      "[3, 4]\n"
     ]
    }
   ],
   "source": [
    "Solution().findMinHeightTrees(n = 6, edges = [[0, 3], [1, 3], [2, 3], [4, 3], [5, 4]])"
   ]
  },
  {
   "cell_type": "code",
   "execution_count": 64,
   "metadata": {},
   "outputs": [
    {
     "name": "stdout",
     "output_type": "stream",
     "text": [
      "[1, 2]\n"
     ]
    }
   ],
   "source": [
    "Solution().findMinHeightTrees(n = 7, edges = [[0,1],[1,2],[1,3],[2,4],[3,5],[4,6]])"
   ]
  },
  {
   "cell_type": "code",
   "execution_count": 65,
   "metadata": {},
   "outputs": [
    {
     "data": {
      "text/plain": [
       "[0]"
      ]
     },
     "execution_count": 65,
     "metadata": {},
     "output_type": "execute_result"
    }
   ],
   "source": [
    "Solution().findMinHeightTrees(n = 1, edges = [])"
   ]
  },
  {
   "cell_type": "code",
   "execution_count": null,
   "metadata": {},
   "outputs": [],
   "source": []
  }
 ],
 "metadata": {
  "kernelspec": {
   "display_name": "Python 3",
   "language": "python",
   "name": "python3"
  },
  "language_info": {
   "codemirror_mode": {
    "name": "ipython",
    "version": 3
   },
   "file_extension": ".py",
   "mimetype": "text/x-python",
   "name": "python",
   "nbconvert_exporter": "python",
   "pygments_lexer": "ipython3",
   "version": "3.6.8"
  }
 },
 "nbformat": 4,
 "nbformat_minor": 2
}
