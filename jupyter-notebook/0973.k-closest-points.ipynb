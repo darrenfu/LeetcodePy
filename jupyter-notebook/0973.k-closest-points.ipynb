{
 "cells": [
  {
   "cell_type": "code",
   "execution_count": null,
   "metadata": {},
   "outputs": [],
   "source": [
    "\n",
    "\n",
    "from heapq import *\n",
    "from typing import List\n",
    "\n",
    "class Solution:\n",
    "    def kClosest(self, points: List[List[int]], K: int) -> List[List[int]]:\n",
    "        heap = []\n",
    "        heapify(heap)\n",
    "\n",
    "        # max heap with size k\n",
    "        for i, pt in enumerate(points):\n",
    "            x, y = pt[0], pt[1]\n",
    "            dis = x*x + y*y\n",
    "            if i < K:\n",
    "                heappush(heap, (-dis, x, y))\n",
    "            else: # since (k+1)th element, use heappushpop to push a new element into heap and remove a smallest element from heap\n",
    "                top_dis, top_x, top_y = heap[0] # peek heap top element\n",
    "#                 if -dis > top_dis: # the smallest in heap will be replaced by the next larger element (than the largest element in heap), and reheapified\n",
    "#                     heapreplace(heap, (-dis, x, y))\n",
    "                heappushpop(heap, (-dis, x, y))\n",
    "#             print(x,y,heap)\n",
    "        return [[tpl[1], tpl[2]] for tpl in heap]"
   ]
  }
 ],
 "metadata": {
  "kernelspec": {
   "display_name": "Python 3",
   "language": "python",
   "name": "python3"
  },
  "language_info": {
   "codemirror_mode": {
    "name": "ipython",
    "version": 3
   },
   "file_extension": ".py",
   "mimetype": "text/x-python",
   "name": "python",
   "nbconvert_exporter": "python",
   "pygments_lexer": "ipython3",
   "version": "3.6.8"
  }
 },
 "nbformat": 4,
 "nbformat_minor": 2
}
