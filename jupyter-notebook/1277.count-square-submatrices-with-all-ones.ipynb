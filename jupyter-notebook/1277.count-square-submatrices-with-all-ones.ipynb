{
 "cells": [
  {
   "cell_type": "markdown",
   "metadata": {},
   "source": [
    "### [1277\\. Count Square Submatrices with All Ones](https://leetcode.com/contest/weekly-contest-165/problems/count-square-submatrices-with-all-ones/)\n",
    "\n",
    "Difficulty: **Medium**\n",
    "\n",
    "Given a `m * n` matrix of ones and zeros, return how many **square** submatrices have all ones.\n",
    "\n",
    "**Example 1:**\n",
    "\n",
    "```\n",
    "Input: matrix =\n",
    "[\n",
    "  [0,1,1,1],\n",
    "  [1,1,1,1],\n",
    "  [0,1,1,1]\n",
    "]\n",
    "Output: 15\n",
    "Explanation: \n",
    "There are 10 squares of side 1.\n",
    "There are 4 squares of side 2.\n",
    "There is  1 square of side 3.\n",
    "Total number of squares = 10 + 4 + 1 = 15.\n",
    "```\n",
    "\n",
    "**Example 2:**\n",
    "\n",
    "```\n",
    "Input: matrix = \n",
    "[\n",
    "  [1,0,1],\n",
    "  [1,1,0],\n",
    "  [1,1,0]\n",
    "]\n",
    "Output: 7\n",
    "Explanation: \n",
    "There are 6 squares of side 1\\.  \n",
    "There is 1 square of side 2\\. \n",
    "Total number of squares = 6 + 1 = 7.\n",
    "```\n",
    "\n",
    "**Constraints:**\n",
    "\n",
    "*   `1 <= arr.length <= 300`\n",
    "*   `1 <= arr[0].length <= 300`\n",
    "*   `0 <= arr[i][j] <= 1`"
   ]
  },
  {
   "cell_type": "code",
   "execution_count": 58,
   "metadata": {},
   "outputs": [],
   "source": [
    "# sliding window with memorization (incorrect)\n",
    "from typing import List\n",
    "from collections import defaultdict\n",
    "\n",
    "class Solution:\n",
    "    def countSquares(self, matrix: List[List[int]]) -> int:\n",
    "        def allOnes(sx: int, sy: int, size: int) -> bool:\n",
    "            if sx == 0 and sy == 0: # init state, check all ones\n",
    "                res = True\n",
    "                for i in range(sx, sx+size):\n",
    "                    # vertical\n",
    "                    memo[sx, sy, 1, size] = all(matrix[i][j] == 1 for j in range(sy, sy+size))\n",
    "                    if not memo[sx, sy, 1, size]:\n",
    "                        res = False\n",
    "                for j in range(sy, sy+size):\n",
    "                    # horizontal\n",
    "                    memo[sx, sy, 0, size] = all(matrix[i][j] == 1 for i in range(sx, sx+size))\n",
    "            elif sx == 0:\n",
    "                memo[sx, sy+size-1, 0, size] = res = all(matrix[i][sy+size-1] == 1 for i in range(sx,sx+size))\n",
    "                res = res and all(memo[sx, j, 0, size] for j in range(sy,sy+size-1))\n",
    "            elif sy == 0:\n",
    "                memo[sx+size-1, sy, 1, size] = res = all(matrix[sx+size-1][j] == 1 for j in range(sy,sy+size))\n",
    "                res = res and all(memo[i, sy, 1, size] for i in range(sx,sx+size-1))\n",
    "            else:\n",
    "                memo[sx, sy+size-1, 0, size] = res1 = all(matrix[i][sy+size-1] == 1 for i in range(sx,sx+size))\n",
    "                memo[sx+size-1, sy, 1, size] = res2 = all(matrix[sx+size-1][j] == 1 for j in range(sy,sy+size))\n",
    "                res = (res1 and all(memo[sx, j, 0, size] for j in range(sy,sy+size-1))) and \\\n",
    "                    (res2 and all(memo[sx, j, 0, size] for j in range(sy,sy+size-1)))\n",
    "            return res\n",
    "            \n",
    "        R, C = len(matrix), len(matrix[0])\n",
    "        res = 0\n",
    "        memo = defaultdict(bool)\n",
    "        for l in range(1, min(R, C)+1):\n",
    "            for i in range(R-l+1):\n",
    "                for j in range(C-l+1):\n",
    "                    res += allOnes(i, j, l)\n",
    "        return res"
   ]
  },
  {
   "cell_type": "code",
   "execution_count": 59,
   "metadata": {},
   "outputs": [
    {
     "data": {
      "text/plain": [
       "12"
      ]
     },
     "execution_count": 59,
     "metadata": {},
     "output_type": "execute_result"
    }
   ],
   "source": [
    "Solution().countSquares(matrix = [\n",
    "  [0,1,1,1],\n",
    "  [1,1,1,1],\n",
    "  [0,1,1,1]])"
   ]
  },
  {
   "cell_type": "code",
   "execution_count": 60,
   "metadata": {},
   "outputs": [
    {
     "data": {
      "text/plain": [
       "12"
      ]
     },
     "execution_count": 60,
     "metadata": {},
     "output_type": "execute_result"
    }
   ],
   "source": [
    "Solution().countSquares(matrix = [\n",
    "                            [0,1,1,1],\n",
    "                            [1,1,0,1],\n",
    "                            [1,1,1,1],\n",
    "                            [1,0,1,0]])"
   ]
  },
  {
   "cell_type": "code",
   "execution_count": 61,
   "metadata": {},
   "outputs": [
    {
     "data": {
      "text/plain": [
       "19"
      ]
     },
     "execution_count": 61,
     "metadata": {},
     "output_type": "execute_result"
    }
   ],
   "source": [
    "Solution().countSquares(matrix=[\n",
    "    [1,1,0,0,1],\n",
    "    [1,0,1,1,1],\n",
    "    [1,1,1,1,1],\n",
    "    [1,0,1,0,1],\n",
    "    [0,0,1,0,1]])"
   ]
  },
  {
   "cell_type": "code",
   "execution_count": null,
   "metadata": {},
   "outputs": [],
   "source": []
  }
 ],
 "metadata": {
  "kernelspec": {
   "display_name": "Python 3",
   "language": "python",
   "name": "python3"
  },
  "language_info": {
   "codemirror_mode": {
    "name": "ipython",
    "version": 3
   },
   "file_extension": ".py",
   "mimetype": "text/x-python",
   "name": "python",
   "nbconvert_exporter": "python",
   "pygments_lexer": "ipython3",
   "version": "3.6.8"
  }
 },
 "nbformat": 4,
 "nbformat_minor": 2
}
