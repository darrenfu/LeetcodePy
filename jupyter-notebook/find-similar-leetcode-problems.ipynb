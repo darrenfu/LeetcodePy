{
 "cells": [
  {
   "cell_type": "code",
   "execution_count": 5,
   "metadata": {},
   "outputs": [],
   "source": [
    "from gql import gql, Client\n",
    "from gql.transport.requests import RequestsHTTPTransport\n",
    "import requests\n",
    "from requests.exceptions import HTTPError\n",
    "import json\n",
    "from typing import List, Set\n",
    "\n",
    "class Question:\n",
    "    def __init__(self, id: int, titleSlug: str, url: str=''):\n",
    "        self.id = id\n",
    "        self.titleSlug = titleSlug\n",
    "        self.url = f\"https://leetcode.com/problems/{titleSlug}/\"\n",
    "    \n",
    "    def __str__(self):\n",
    "        return f\"[{self.id}. {self.titleSlug}]\"\n",
    "    \n",
    "    def __repr__(self):\n",
    "        return f\"{self.id}: {self.url}\"\n",
    "    \n",
    "    def __hash__(self):\n",
    "        return self.id\n",
    "    \n",
    "    def __eq__(self, other):\n",
    "        return isinstance(other, Question) and other.id == self.id and other.titleSlug == self.titleSlug\n",
    "\n",
    "class LeetcodeClient:\n",
    "    _transport = RequestsHTTPTransport(\n",
    "        url='https://leetcode.com/graphql',\n",
    "        use_json=True,\n",
    "    )\n",
    "    \n",
    "    _client = Client(\n",
    "        transport=_transport,\n",
    "        fetch_schema_from_transport=True,\n",
    "    )\n",
    "    \n",
    "    _questionCache = {}\n",
    "    \n",
    "    def getSimilarQuestions(self, title: str) -> List[Question]:\n",
    "        query = gql(\"\"\"\n",
    "            query getQuestionDetail($titleSlug: String!) {\n",
    "              question(titleSlug: $titleSlug) {\n",
    "                similarQuestions\n",
    "              }\n",
    "            }\n",
    "            \"\"\")\n",
    "        params = {\"titleSlug\": title}\n",
    "        json_dict = LeetcodeClient._client.execute(query, variable_values=params)\n",
    "        if not json_dict:\n",
    "            return []\n",
    "        similar_qstr = json_dict['question']['similarQuestions']\n",
    "        similar_qarr = json.loads(similar_qstr)\n",
    "        return [Question(self.getQuestionId(q['titleSlug']), q['titleSlug']) for q in similar_qarr]\n",
    "\n",
    "    def toTitle(self, questions: List[Question]) -> List[str]:\n",
    "        return map(lambda x: x.titleSlug, curset)\n",
    "    \n",
    "    def getSimilarQuestionCluster(self, question: Question) -> List[Question]:\n",
    "        q = self.getSimilarQuestions(question.titleSlug)\n",
    "        visited = set(q+[question])\n",
    "        depth = 3\n",
    "        h = 0\n",
    "        while q and h < depth:\n",
    "            l = len(q)\n",
    "            h += 1\n",
    "            for _ in range(l):\n",
    "                cur_title = q.pop(0).titleSlug\n",
    "                new_q = self.getSimilarQuestions(cur_title)\n",
    "                new_questions = list(set(new_q) - visited)\n",
    "                new_qset = list(map(lambda x: x.titleSlug, new_questions))\n",
    "#                 print(f\"{cur_title} -> {new_qset}\")\n",
    "                q.extend(new_questions)\n",
    "                visited |= set(new_q)\n",
    "        return sorted(list(visited), key=lambda x: x.id)\n",
    "    \n",
    "    def getlAllQuestions(self) -> List[Question]:\n",
    "        url = 'https://leetcode.com/api/problems/all'\n",
    "        try:\n",
    "            response = requests.get(url)\n",
    "            # If the response was successful, no Exception will be raised\n",
    "            response.raise_for_status()\n",
    "            result = response.json()\n",
    "            questions = result['stat_status_pairs']\n",
    "            res = []\n",
    "            for ele in questions:\n",
    "                q = Question(ele['stat']['question_id'], ele['stat']['question__title_slug'])\n",
    "                LeetcodeClient._questionCache[q.titleSlug] = q\n",
    "                res.append(q)\n",
    "            return sorted(res, key=lambda q: q.id)\n",
    "        except HTTPError as http_err:\n",
    "            print(f'HTTP error occurred: {http_err}')  # Python 3.6\n",
    "        except Exception as err:\n",
    "            print(f'Other error occurred: {err}')  # Python 3.6\n",
    "        else:\n",
    "            print('Success!')\n",
    "        return []\n",
    "    \n",
    "    def getQuestionId(self, title: str) -> int:\n",
    "        default = Question(0, '')\n",
    "        return LeetcodeClient._questionCache.get(title, default).id"
   ]
  },
  {
   "cell_type": "code",
   "execution_count": 11,
   "metadata": {},
   "outputs": [],
   "source": [
    "lc_client = LeetcodeClient()\n",
    "questions = lc_client.getlAllQuestions()"
   ]
  },
  {
   "cell_type": "code",
   "execution_count": 13,
   "metadata": {},
   "outputs": [
    {
     "data": {
      "text/plain": [
       "[]"
      ]
     },
     "execution_count": 13,
     "metadata": {},
     "output_type": "execute_result"
    }
   ],
   "source": [
    "# title = 'reconstruct-itinerary'\n",
    "title = 'valid-palindrome-iii'\n",
    "lc_client.getSimilarQuestions(title)"
   ]
  },
  {
   "cell_type": "code",
   "execution_count": 8,
   "metadata": {},
   "outputs": [
    {
     "data": {
      "text/plain": [
       "[332: https://leetcode.com/problems/reconstruct-itinerary/]"
      ]
     },
     "execution_count": 8,
     "metadata": {},
     "output_type": "execute_result"
    }
   ],
   "source": [
    "q = Question(lc_client.getQuestionId(title), title)\n",
    "lc_client.getSimilarQuestionCluster(q)"
   ]
  },
  {
   "cell_type": "code",
   "execution_count": 9,
   "metadata": {},
   "outputs": [
    {
     "name": "stdout",
     "output_type": "stream",
     "text": [
      "[1. two-sum]\n",
      "[15. 3sum]\n",
      "[16. 3sum-closest]\n",
      "[18. 4sum]\n",
      "[53. maximum-subarray]\n",
      "[78. subsets]\n",
      "[152. maximum-product-subarray]\n",
      "[167. two-sum-ii-input-array-is-sorted]\n",
      "[170. two-sum-iii-data-structure-design]\n",
      "[198. house-robber]\n",
      "[209. minimum-size-subarray-sum]\n",
      "[238. product-of-array-except-self]\n",
      "[259. 3sum-smaller]\n",
      "[288. unique-word-abbreviation]\n",
      "[303. range-sum-query-immutable]\n",
      "[320. generalized-abbreviation]\n",
      "[325. maximum-size-subarray-sum-equals-k]\n",
      "[411. minimum-unique-word-abbreviation]\n",
      "[454. 4sum-ii]\n",
      "[523. continuous-subarray-sum]\n",
      "[525. contiguous-array]\n",
      "[560. subarray-sum-equals-k]\n",
      "[611. valid-triangle-number]\n",
      "[628. maximum-product-of-three-numbers]\n",
      "[653. two-sum-iv-input-is-a-bst]\n",
      "[713. subarray-product-less-than-k]\n",
      "[724. find-pivot-index]\n",
      "[1016. subarray-sums-divisible-by-k]\n",
      "[1083. two-sum-less-than-k]\n",
      "[1150. two-sum-bsts]\n",
      "\n"
     ]
    },
    {
     "ename": "NameError",
     "evalue": "name 'curset' is not defined",
     "output_type": "error",
     "traceback": [
      "\u001b[0;31m---------------------------------------------------------------------------\u001b[0m",
      "\u001b[0;31mNameError\u001b[0m                                 Traceback (most recent call last)",
      "\u001b[0;32m<ipython-input-9-df85fa4e1d15>\u001b[0m in \u001b[0;36m<module>\u001b[0;34m\u001b[0m\n\u001b[1;32m     11\u001b[0m         \u001b[0mprint\u001b[0m\u001b[0;34m(\u001b[0m\u001b[0;34m\"\"\u001b[0m\u001b[0;34m)\u001b[0m\u001b[0;34m\u001b[0m\u001b[0;34m\u001b[0m\u001b[0m\n\u001b[1;32m     12\u001b[0m         \u001b[0msleep\u001b[0m\u001b[0;34m(\u001b[0m\u001b[0;36m2\u001b[0m\u001b[0;34m)\u001b[0m\u001b[0;34m\u001b[0m\u001b[0;34m\u001b[0m\u001b[0m\n\u001b[0;32m---> 13\u001b[0;31m         \u001b[0mvisited\u001b[0m \u001b[0;34m|=\u001b[0m \u001b[0mset\u001b[0m\u001b[0;34m(\u001b[0m\u001b[0mlc_client\u001b[0m\u001b[0;34m.\u001b[0m\u001b[0mtoTitle\u001b[0m\u001b[0;34m(\u001b[0m\u001b[0mqcluster\u001b[0m\u001b[0;34m)\u001b[0m\u001b[0;34m)\u001b[0m\u001b[0;34m\u001b[0m\u001b[0;34m\u001b[0m\u001b[0m\n\u001b[0m",
      "\u001b[0;32m<ipython-input-5-7f5167a02678>\u001b[0m in \u001b[0;36mtoTitle\u001b[0;34m(self, questions)\u001b[0m\n\u001b[1;32m     54\u001b[0m \u001b[0;34m\u001b[0m\u001b[0m\n\u001b[1;32m     55\u001b[0m     \u001b[0;32mdef\u001b[0m \u001b[0mtoTitle\u001b[0m\u001b[0;34m(\u001b[0m\u001b[0mself\u001b[0m\u001b[0;34m,\u001b[0m \u001b[0mquestions\u001b[0m\u001b[0;34m:\u001b[0m \u001b[0mList\u001b[0m\u001b[0;34m[\u001b[0m\u001b[0mQuestion\u001b[0m\u001b[0;34m]\u001b[0m\u001b[0;34m)\u001b[0m \u001b[0;34m->\u001b[0m \u001b[0mList\u001b[0m\u001b[0;34m[\u001b[0m\u001b[0mstr\u001b[0m\u001b[0;34m]\u001b[0m\u001b[0;34m:\u001b[0m\u001b[0;34m\u001b[0m\u001b[0;34m\u001b[0m\u001b[0m\n\u001b[0;32m---> 56\u001b[0;31m         \u001b[0;32mreturn\u001b[0m \u001b[0mmap\u001b[0m\u001b[0;34m(\u001b[0m\u001b[0;32mlambda\u001b[0m \u001b[0mx\u001b[0m\u001b[0;34m:\u001b[0m \u001b[0mx\u001b[0m\u001b[0;34m.\u001b[0m\u001b[0mtitleSlug\u001b[0m\u001b[0;34m,\u001b[0m \u001b[0mcurset\u001b[0m\u001b[0;34m)\u001b[0m\u001b[0;34m\u001b[0m\u001b[0;34m\u001b[0m\u001b[0m\n\u001b[0m\u001b[1;32m     57\u001b[0m \u001b[0;34m\u001b[0m\u001b[0m\n\u001b[1;32m     58\u001b[0m     \u001b[0;32mdef\u001b[0m \u001b[0mgetSimilarQuestionCluster\u001b[0m\u001b[0;34m(\u001b[0m\u001b[0mself\u001b[0m\u001b[0;34m,\u001b[0m \u001b[0mquestion\u001b[0m\u001b[0;34m:\u001b[0m \u001b[0mQuestion\u001b[0m\u001b[0;34m)\u001b[0m \u001b[0;34m->\u001b[0m \u001b[0mList\u001b[0m\u001b[0;34m[\u001b[0m\u001b[0mQuestion\u001b[0m\u001b[0;34m]\u001b[0m\u001b[0;34m:\u001b[0m\u001b[0;34m\u001b[0m\u001b[0;34m\u001b[0m\u001b[0m\n",
      "\u001b[0;31mNameError\u001b[0m: name 'curset' is not defined"
     ]
    }
   ],
   "source": [
    "from time import sleep\n",
    "\n",
    "questions = lc_client.getlAllQuestions()\n",
    "cache = {q.titleSlug:q for q in questions}\n",
    "visited = set()\n",
    "for q in questions:\n",
    "    if q.titleSlug not in visited:\n",
    "        qcluster = lc_client.getSimilarQuestionCluster(q)\n",
    "        for subq in qcluster:\n",
    "            print(subq)\n",
    "        print(\"\")\n",
    "        sleep(2)\n",
    "        visited |= set(lc_client.toTitle(qcluster))"
   ]
  },
  {
   "cell_type": "code",
   "execution_count": null,
   "metadata": {},
   "outputs": [],
   "source": []
  },
  {
   "cell_type": "code",
   "execution_count": null,
   "metadata": {},
   "outputs": [],
   "source": []
  }
 ],
 "metadata": {
  "kernelspec": {
   "display_name": "Python 3",
   "language": "python",
   "name": "python3"
  },
  "language_info": {
   "codemirror_mode": {
    "name": "ipython",
    "version": 3
   },
   "file_extension": ".py",
   "mimetype": "text/x-python",
   "name": "python",
   "nbconvert_exporter": "python",
   "pygments_lexer": "ipython3",
   "version": "3.6.8"
  }
 },
 "nbformat": 4,
 "nbformat_minor": 2
}
