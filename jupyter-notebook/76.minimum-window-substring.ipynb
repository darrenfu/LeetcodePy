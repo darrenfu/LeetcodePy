{
 "cells": [
  {
   "cell_type": "code",
   "execution_count": 1,
   "metadata": {},
   "outputs": [],
   "source": [
    "# Sliding window \n",
    "#* https://leetcode.com/problems/minimum-window-substring/discuss/26808/Here-is-a-10-line-template-that-can-solve-most-'substring'-problems\n",
    "from collections import Counter\n",
    "\n",
    "class Solution:\n",
    "    def minWindow(self, s: str, t: str) -> str:\n",
    "        table = Counter()\n",
    "        for c in t:\n",
    "            table[c] += 1\n",
    "        counter = len(table)\n",
    "\n",
    "        begin, end, s_len = 0, 0, len(s) + 1\n",
    "        ans = \"\"\n",
    "\n",
    "        while end < len(s):\n",
    "            end_c = s[end]\n",
    "            if end_c in table:\n",
    "                table[end_c] -= 1\n",
    "                if table[end_c] == 0:\n",
    "                    counter -= 1\n",
    "            end += 1\n",
    "            # print(\"end++\", begin, end, s[begin:end], counter)\n",
    "\n",
    "            while counter == 0:\n",
    "                if end - begin < s_len:\n",
    "                    s_len = end - begin\n",
    "                    ans = s[begin:end]\n",
    "                    # print(begin, end, ans)\n",
    "\n",
    "                begin_c = s[begin]\n",
    "                if begin_c in table:\n",
    "                    table[begin_c] += 1\n",
    "                    if table[begin_c] > 0: counter += 1\n",
    "                # print(\"begin++\", begin, end, s[begin:end], counter)\n",
    "                begin += 1\n",
    "        return ans"
   ]
  },
  {
   "cell_type": "code",
   "execution_count": 18,
   "metadata": {},
   "outputs": [],
   "source": [
    "# https://leetcode.com/problems/minimum-window-substring/discuss/26804/12-lines-Python\n",
    "# 1. Use two pointers: start and end to represent a window.\n",
    "# 2. Move end to find a valid window.\n",
    "# 3. When a valid window is found, move start to find a smaller window.\n",
    "from collections import Counter\n",
    "\n",
    "class Solution:\n",
    "    def minWindow(self, s: str, t: str) -> str:\n",
    "        need = Counter(t)  # storing char frequency\n",
    "        missing = len(t)\n",
    "        start, end = 0, 0\n",
    "        i = 0\n",
    "        for j, char in enumerate(s, 1):  # index j from 1\n",
    "            if need[char] > 0:\n",
    "                missing -= 1\n",
    "            need[char] -= 1\n",
    "            if missing == 0:  # if match all chars, remove as many chars as possible from window start\n",
    "                while i < j and need[s[i]] < 0:  # remove chars to find the real start\n",
    "                    need[s[i]] += 1\n",
    "                    i += 1\n",
    "                need[s[i]] += 1  # make sure the first appearing char satisfies need[char] > 0\n",
    "                missing += 1  # we missed the first char, so add missing by 1\n",
    "                if end == 0 or j-i < end-start:  # update window\n",
    "                    start, end = i, j\n",
    "                i += 1  # update i to start+1 for next window\n",
    "        return s[start:end]"
   ]
  },
  {
   "cell_type": "code",
   "execution_count": 19,
   "metadata": {},
   "outputs": [
    {
     "name": "stdout",
     "output_type": "stream",
     "text": [
      "0 6\n",
      "0 A 1 1\n",
      "1 11\n",
      "5 C 1 1\n",
      "6 13\n",
      "9 B 1 1\n"
     ]
    },
    {
     "data": {
      "text/plain": [
       "'BANC'"
      ]
     },
     "execution_count": 19,
     "metadata": {},
     "output_type": "execute_result"
    }
   ],
   "source": [
    "Solution().minWindow(s = \"ADOBECODEBANC\", t = \"ABC\")"
   ]
  },
  {
   "cell_type": "code",
   "execution_count": null,
   "metadata": {},
   "outputs": [],
   "source": []
  }
 ],
 "metadata": {
  "kernelspec": {
   "display_name": "Python 3",
   "language": "python",
   "name": "python3"
  },
  "language_info": {
   "codemirror_mode": {
    "name": "ipython",
    "version": 3
   },
   "file_extension": ".py",
   "mimetype": "text/x-python",
   "name": "python",
   "nbconvert_exporter": "python",
   "pygments_lexer": "ipython3",
   "version": "3.6.8"
  }
 },
 "nbformat": 4,
 "nbformat_minor": 2
}
