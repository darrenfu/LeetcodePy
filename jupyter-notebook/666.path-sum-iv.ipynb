{
 "cells": [
  {
   "cell_type": "code",
   "execution_count": 4,
   "metadata": {},
   "outputs": [],
   "source": [
    "%config IPCompleter.greedy=True"
   ]
  },
  {
   "cell_type": "code",
   "execution_count": 19,
   "metadata": {},
   "outputs": [],
   "source": [
    "from typing import List"
   ]
  },
  {
   "cell_type": "code",
   "execution_count": 35,
   "metadata": {},
   "outputs": [],
   "source": [
    "# Runtime: 32 ms, faster than 95.70%\n",
    "\n",
    "class Solution:\n",
    "    def pathSum(self, nums: List[int]) -> int:\n",
    "        def digits2treenode(digits: int) -> (int, int, int):\n",
    "            val = digits % 10\n",
    "            digits //= 10\n",
    "            pos = digits % 10\n",
    "            digits //= 10\n",
    "            depth = digits % 10\n",
    "            return depth, pos, val\n",
    "        \n",
    "        def get_parentnode(depth: int, pos: int) -> (int, int):\n",
    "            return depth-1, (pos-1) // 2 + 1\n",
    "        \n",
    "        def is_leaf(depth: int, pos: int) -> bool:\n",
    "            return (depth + 1, pos*2-1) not in cache and (depth + 1, pos*2) not in cache\n",
    "        \n",
    "        if not nums: return 0\n",
    "        nums.sort()\n",
    "        cache = {}\n",
    "        for digits in nums:\n",
    "            depth, pos, val = digits2treenode(digits)\n",
    "            p_depth, p_pos = get_parentnode(depth, pos)\n",
    "            # add up parent's prefix sum to node itself\n",
    "            presum = cache[p_depth, p_pos] + val if p_depth > 0 else val\n",
    "            cache[depth, pos] = presum\n",
    "        res = 0\n",
    "        for key, val in cache.items():\n",
    "            depth, pos = key\n",
    "            if is_leaf(depth, pos):\n",
    "                res += val\n",
    "        return res"
   ]
  },
  {
   "cell_type": "code",
   "execution_count": 46,
   "metadata": {},
   "outputs": [],
   "source": [
    "# https://leetcode.com/problems/path-sum-iv/discuss/106934/Python-Straight-Forward-Solution\n",
    "from collections import Counter\n",
    "\n",
    "class Solution:\n",
    "    def pathSum(self, nums: List[int]) -> int:\n",
    "        def digits2treenode(digits: int) -> (int, int, int):\n",
    "            val = digits % 10\n",
    "            digits //= 10\n",
    "            pos = digits % 10\n",
    "            digits //= 10\n",
    "            depth = digits % 10\n",
    "            return depth, pos, val\n",
    "        \n",
    "        descendants = Counter()\n",
    "        presums = Counter()\n",
    "        for digits in nums[::-1]:  # bottom-up traverse\n",
    "            depth, pos, val = digits2treenode(digits)\n",
    "            # how many descendants under this node. For leaf node, it's always 1\n",
    "            descendants[depth, pos] = max(1, descendants[depth+1, pos*2-1] + descendants[depth+1, pos*2])\n",
    "            # why `descendants[depth, pos] * val`? Because we will sum up this node's val for all its descendants (this node is in the path of root-to-its-descendants)\n",
    "            presums[depth, pos] = presums[depth+1, pos*2-1] + presums[depth+1, pos*2] + descendants[depth, pos] * val\n",
    "        return presums[1,1]"
   ]
  },
  {
   "cell_type": "code",
   "execution_count": 47,
   "metadata": {},
   "outputs": [
    {
     "data": {
      "text/plain": [
       "12"
      ]
     },
     "execution_count": 47,
     "metadata": {},
     "output_type": "execute_result"
    }
   ],
   "source": [
    "Solution().pathSum(nums = [113,215,221])"
   ]
  },
  {
   "cell_type": "code",
   "execution_count": 48,
   "metadata": {},
   "outputs": [
    {
     "data": {
      "text/plain": [
       "4"
      ]
     },
     "execution_count": 48,
     "metadata": {},
     "output_type": "execute_result"
    }
   ],
   "source": [
    "Solution().pathSum(nums = [113, 221])"
   ]
  },
  {
   "cell_type": "code",
   "execution_count": null,
   "metadata": {},
   "outputs": [],
   "source": []
  }
 ],
 "metadata": {
  "kernelspec": {
   "display_name": "Python 3",
   "language": "python",
   "name": "python3"
  },
  "language_info": {
   "codemirror_mode": {
    "name": "ipython",
    "version": 3
   },
   "file_extension": ".py",
   "mimetype": "text/x-python",
   "name": "python",
   "nbconvert_exporter": "python",
   "pygments_lexer": "ipython3",
   "version": "3.6.8"
  }
 },
 "nbformat": 4,
 "nbformat_minor": 2
}
