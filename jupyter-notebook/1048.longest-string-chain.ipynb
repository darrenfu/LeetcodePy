{
 "cells": [
  {
   "cell_type": "markdown",
   "metadata": {},
   "source": [
    "### [1048\\. Longest String Chain](https://leetcode.com/problems/longest-string-chain/)\n",
    "\n",
    "Difficulty: **Medium**\n",
    "\n",
    "\n",
    "Given a list of words, each word consists of English lowercase letters.\n",
    "\n",
    "Let's say `word1` is a predecessor of `word2` if and only if we can add exactly one letter anywhere in `word1` to make it equal to `word2`.  For example, `\"abc\"` is a predecessor of `\"abac\"`.\n",
    "\n",
    "A _word chain _is a sequence of words `[word_1, word_2, ..., word_k]` with `k >= 1`, where `word_1` is a predecessor of `word_2`, `word_2` is a predecessor of `word_3`, and so on.\n",
    "\n",
    "Return the longest possible length of a word chain with words chosen from the given list of `words`.\n",
    "\n",
    "**Example 1:**\n",
    "\n",
    "```\n",
    "Input: [\"a\",\"b\",\"ba\",\"bca\",\"bda\",\"bdca\"]\n",
    "Output: 4\n",
    "Explanation: one of the longest word chain is \"a\",\"ba\",\"bda\",\"bdca\".\n",
    "```\n",
    "\n",
    "**Note:**\n",
    "\n",
    "1.  `1 <= words.length <= 1000`\n",
    "2.  `1 <= words[i].length <= 16`\n",
    "3.  `words[i]` only consists of English lowercase letters."
   ]
  },
  {
   "cell_type": "code",
   "execution_count": 14,
   "metadata": {},
   "outputs": [],
   "source": [
    "# Variation of 300. LIS\n",
    "# Time O(NlogNS)\n",
    "# Space O(NS)\n",
    "# https://leetcode.com/problems/longest-string-chain/discuss/294890/C%2B%2BJavaPython-DP-Solution\n",
    "from typing import List\n",
    "from collections import defaultdict\n",
    "\n",
    "class Solution:\n",
    "    def longestStrChain(self, words: List[str]) -> int:\n",
    "        words.sort(key=lambda w: len(w)) # no need to sort in lex order anymore\n",
    "        L = len(words)\n",
    "        dp = defaultdict(int)\n",
    "        for w in words:\n",
    "            # delete one element at each possible index\n",
    "            dp[w] = max(dp[w[:i]+w[i+1:]] + 1 for i in range(len(w)))\n",
    "        return max(dp.values())"
   ]
  },
  {
   "cell_type": "code",
   "execution_count": 15,
   "metadata": {},
   "outputs": [
    {
     "data": {
      "text/plain": [
       "4"
      ]
     },
     "execution_count": 15,
     "metadata": {},
     "output_type": "execute_result"
    }
   ],
   "source": [
    "Solution().longestStrChain([\"a\",\"b\",\"ba\",\"bca\",\"bda\",\"bdca\"])"
   ]
  },
  {
   "cell_type": "code",
   "execution_count": null,
   "metadata": {},
   "outputs": [],
   "source": []
  }
 ],
 "metadata": {
  "kernelspec": {
   "display_name": "Python 3",
   "language": "python",
   "name": "python3"
  },
  "language_info": {
   "codemirror_mode": {
    "name": "ipython",
    "version": 3
   },
   "file_extension": ".py",
   "mimetype": "text/x-python",
   "name": "python",
   "nbconvert_exporter": "python",
   "pygments_lexer": "ipython3",
   "version": "3.6.8"
  }
 },
 "nbformat": 4,
 "nbformat_minor": 2
}
