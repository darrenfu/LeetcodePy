{
 "cells": [
  {
   "cell_type": "code",
   "execution_count": 22,
   "metadata": {},
   "outputs": [],
   "source": [
    "# Huffman's algorithm\n",
    "# construct a binary tree such that it has the minimum depth.\n",
    "# T: O(N*logN) because we are making 2N - 1 insertions into a heap and N removals,\n",
    "# and both heap insertion and removal have a cost of O(logN). \n",
    "# e.g. [1, 2, 4, 7, 10] with split cost 3:\n",
    "# .......3\n",
    "#...../....\\\n",
    "#....3......\\\n",
    "#../...\\.....\\\n",
    "# 3.....3.....\\\n",
    "#/.\\.../.\\.....\\\n",
    "#1.2..4..7.....10\n",
    "# https://leetcode.com/problems/minimum-time-to-build-blocks/discuss/387035/Python%3A-O(n-log-n)-using-Huffman's-Algorithm-(priority-queue)-with-explanation.\n",
    "# Runtime: 80 ms\n",
    "# Memory Usage: 13.9 MB\n",
    "from typing import List\n",
    "from heapq import *\n",
    "\n",
    "class Solution:\n",
    "    def minBuildTime(self, blocks: List[int], split: int) -> int:\n",
    "        # put all the leaf node (blocks) onto a priority queue\n",
    "        heapify(blocks)\n",
    "        while len(blocks) >= 2: # must have at least two elements\n",
    "            # repeatedly take the 2 smallest off\n",
    "            # first popped is always min of heap, no need to max()\n",
    "            heappop(blocks)\n",
    "            # add `split` onto the biggest of the 2 (this is Huffman's algorithm, it's greedy) \n",
    "            larger = heappop(blocks) + split\n",
    "            # and put the result back onto the priority queue.\n",
    "            heappush(blocks, larger)\n",
    "            print(blocks)\n",
    "        return blocks[0]"
   ]
  },
  {
   "cell_type": "code",
   "execution_count": 23,
   "metadata": {},
   "outputs": [
    {
     "data": {
      "text/plain": [
       "1"
      ]
     },
     "execution_count": 23,
     "metadata": {},
     "output_type": "execute_result"
    }
   ],
   "source": [
    "Solution().minBuildTime(blocks=[1], split=1)"
   ]
  },
  {
   "cell_type": "code",
   "execution_count": 24,
   "metadata": {},
   "outputs": [
    {
     "name": "stdout",
     "output_type": "stream",
     "text": [
      "[7]\n"
     ]
    },
    {
     "data": {
      "text/plain": [
       "7"
      ]
     },
     "execution_count": 24,
     "metadata": {},
     "output_type": "execute_result"
    }
   ],
   "source": [
    "Solution().minBuildTime(blocks=[1,2], split=5)"
   ]
  },
  {
   "cell_type": "code",
   "execution_count": 25,
   "metadata": {},
   "outputs": [
    {
     "name": "stdout",
     "output_type": "stream",
     "text": [
      "[3, 3]\n",
      "[4]\n"
     ]
    },
    {
     "data": {
      "text/plain": [
       "4"
      ]
     },
     "execution_count": 25,
     "metadata": {},
     "output_type": "execute_result"
    }
   ],
   "source": [
    "Solution().minBuildTime(blocks=[1,2,3], split=1)"
   ]
  },
  {
   "cell_type": "code",
   "execution_count": 26,
   "metadata": {},
   "outputs": [
    {
     "name": "stdout",
     "output_type": "stream",
     "text": [
      "[4, 5, 10, 7]\n",
      "[7, 10, 8]\n",
      "[10, 11]\n",
      "[14]\n"
     ]
    },
    {
     "data": {
      "text/plain": [
       "14"
      ]
     },
     "execution_count": 26,
     "metadata": {},
     "output_type": "execute_result"
    }
   ],
   "source": [
    "Solution().minBuildTime(blocks=[1, 2, 4, 7, 10], split=3)"
   ]
  },
  {
   "cell_type": "code",
   "execution_count": null,
   "metadata": {},
   "outputs": [],
   "source": []
  }
 ],
 "metadata": {
  "kernelspec": {
   "display_name": "Python 3",
   "language": "python",
   "name": "python3"
  },
  "language_info": {
   "codemirror_mode": {
    "name": "ipython",
    "version": 3
   },
   "file_extension": ".py",
   "mimetype": "text/x-python",
   "name": "python",
   "nbconvert_exporter": "python",
   "pygments_lexer": "ipython3",
   "version": "3.6.8"
  }
 },
 "nbformat": 4,
 "nbformat_minor": 2
}
