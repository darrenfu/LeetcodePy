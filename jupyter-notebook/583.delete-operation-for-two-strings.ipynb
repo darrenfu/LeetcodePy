{
 "cells": [
  {
   "cell_type": "code",
   "execution_count": 17,
   "metadata": {},
   "outputs": [],
   "source": [
    "# Longest Common Subsequence\n",
    "# Runtime: 332 ms, faster than 31.86%\n",
    "# T: O(M*N)\n",
    "# S: O(M*N)\n",
    "# https://leetcode.com/problems/delete-operation-for-two-strings/discuss/103246/Python-DP-solution\n",
    "class Solution:\n",
    "    def minDistance(self, word1: str, word2: str) -> int:\n",
    "        L1, L2 = len(word1), len(word2)\n",
    "        dp = [[0 for _ in range(L2+1)] for _ in range(L1+1)]\n",
    "        for i in range(L1):\n",
    "            for j in range(L2):\n",
    "                if word1[i] == word2[j]:\n",
    "                    dp[i+1][j+1] = dp[i][j] + 1\n",
    "                else:\n",
    "                    dp[i+1][j+1] = max(dp[i][j+1], dp[i+1][j])\n",
    "        return L1+L2-dp[L1][L2]*2"
   ]
  },
  {
   "cell_type": "code",
   "execution_count": 16,
   "metadata": {},
   "outputs": [],
   "source": [
    "# Edit Distance solution\n",
    "# Runtime: 308 ms, faster than 51.86%\n",
    "class Solution:\n",
    "    def minDistance(self, word1: str, word2: str) -> int:\n",
    "        L1, L2 = len(word1), len(word2)\n",
    "        dp = [[0 for _ in range(L2+1)] for _ in range(L1+1)]\n",
    "        for i in range(1,L1+1):\n",
    "            dp[i][0] = i\n",
    "        for i in range(1,L2+1):\n",
    "            dp[0][i] = i\n",
    "        for i in range(L1):\n",
    "            for j in range(L2):\n",
    "                if word1[i] == word2[j]:\n",
    "                    # no replace operation\n",
    "                    dp[i+1][j+1] = dp[i][j]\n",
    "                else:\n",
    "                    # delete on word2 means insert on word1\n",
    "                    dp[i+1][j+1] = 1 + min(dp[i][j+1], dp[i+1][j])\n",
    "        return dp[L1][L2]"
   ]
  },
  {
   "cell_type": "code",
   "execution_count": 18,
   "metadata": {},
   "outputs": [
    {
     "data": {
      "text/plain": [
       "2"
      ]
     },
     "execution_count": 18,
     "metadata": {},
     "output_type": "execute_result"
    }
   ],
   "source": [
    "Solution().minDistance(\"sea\", \"eat\")"
   ]
  },
  {
   "cell_type": "code",
   "execution_count": null,
   "metadata": {},
   "outputs": [],
   "source": []
  }
 ],
 "metadata": {
  "kernelspec": {
   "display_name": "Python 3",
   "language": "python",
   "name": "python3"
  },
  "language_info": {
   "codemirror_mode": {
    "name": "ipython",
    "version": 3
   },
   "file_extension": ".py",
   "mimetype": "text/x-python",
   "name": "python",
   "nbconvert_exporter": "python",
   "pygments_lexer": "ipython3",
   "version": "3.6.8"
  }
 },
 "nbformat": 4,
 "nbformat_minor": 2
}
