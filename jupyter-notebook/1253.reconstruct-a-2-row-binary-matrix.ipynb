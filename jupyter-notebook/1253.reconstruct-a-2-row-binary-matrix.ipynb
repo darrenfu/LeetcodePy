{
 "cells": [
  {
   "cell_type": "code",
   "execution_count": 11,
   "metadata": {},
   "outputs": [],
   "source": [
    "# Greedy\n",
    "# Runtime: 924 ms\n",
    "from typing import List\n",
    "\n",
    "class Solution:\n",
    "    def reconstructMatrix(self, upper: int, lower: int, colsum: List[int]) -> List[List[int]]:\n",
    "        zeros, ones, twos = [], [], []\n",
    "        for i, v in enumerate(colsum):\n",
    "            if v == 2:\n",
    "                twos.append(i)\n",
    "            elif v == 1:\n",
    "                ones.append(i)\n",
    "            else:\n",
    "                zeros.append(i)\n",
    "        L0, L1, L2, L = len(zeros), len(ones), len(twos), len(colsum)\n",
    "        if upper - L2 + lower - L2 != L1 or upper + L0 > L or lower + L0 > L:\n",
    "            return []\n",
    "        A = [[0] * L for _ in range(2)]\n",
    "        for c in twos:\n",
    "            A[0][c] = A[1][c] = 1\n",
    "        i = upper - L2\n",
    "        for c in ones:\n",
    "            if i <= 0:\n",
    "                A[1][c] = 1\n",
    "            else:\n",
    "                A[0][c] = 1\n",
    "            i -= 1\n",
    "        return A"
   ]
  },
  {
   "cell_type": "code",
   "execution_count": 16,
   "metadata": {},
   "outputs": [],
   "source": [
    "# Greedy with one scan\n",
    "# Runtime: 752 ms\n",
    "# https://leetcode.com/problems/reconstruct-a-2-row-binary-matrix/discuss/425239/Simple-Python-Greedy\n",
    "from typing import List\n",
    "\n",
    "class Solution:\n",
    "    def reconstructMatrix(self, upper: int, lower: int, colsum: List[int]) -> List[List[int]]:\n",
    "        if upper + lower != sum(colsum):\n",
    "            return []\n",
    "        A, B = [], []\n",
    "        for i in colsum:\n",
    "            if upper and i:\n",
    "                A += 1,\n",
    "                upper -= 1\n",
    "            else:\n",
    "                A += 0,\n",
    "            B += i-A[-1], # col sum - the other col value in A\n",
    "        return [A, B] if upper == 0 else []"
   ]
  },
  {
   "cell_type": "code",
   "execution_count": 17,
   "metadata": {},
   "outputs": [
    {
     "data": {
      "text/plain": [
       "[[1, 1, 0], [0, 0, 1]]"
      ]
     },
     "execution_count": 17,
     "metadata": {},
     "output_type": "execute_result"
    }
   ],
   "source": [
    "Solution().reconstructMatrix(upper = 2, lower = 1, colsum = [1,1,1])"
   ]
  },
  {
   "cell_type": "code",
   "execution_count": 18,
   "metadata": {},
   "outputs": [
    {
     "data": {
      "text/plain": [
       "[]"
      ]
     },
     "execution_count": 18,
     "metadata": {},
     "output_type": "execute_result"
    }
   ],
   "source": [
    "Solution().reconstructMatrix(upper = 2, lower = 3, colsum = [2,2,1,1])"
   ]
  },
  {
   "cell_type": "code",
   "execution_count": 19,
   "metadata": {},
   "outputs": [
    {
     "data": {
      "text/plain": [
       "[[1, 1, 1, 0, 1, 0, 1, 0, 0, 0], [1, 0, 1, 0, 0, 0, 0, 2, 0, 1]]"
      ]
     },
     "execution_count": 19,
     "metadata": {},
     "output_type": "execute_result"
    }
   ],
   "source": [
    "Solution().reconstructMatrix(upper = 5, lower = 5, colsum = [2,1,2,0,1,0,1,2,0,1])"
   ]
  },
  {
   "cell_type": "code",
   "execution_count": 20,
   "metadata": {},
   "outputs": [
    {
     "data": {
      "text/plain": [
       "[]"
      ]
     },
     "execution_count": 20,
     "metadata": {},
     "output_type": "execute_result"
    }
   ],
   "source": [
    "Solution().reconstructMatrix(upper = 9, lower = 2, colsum = [0,1,2,0,0,0,0,0,2,1,2,1,2])"
   ]
  },
  {
   "cell_type": "code",
   "execution_count": null,
   "metadata": {},
   "outputs": [],
   "source": []
  }
 ],
 "metadata": {
  "kernelspec": {
   "display_name": "Python 3",
   "language": "python",
   "name": "python3"
  },
  "language_info": {
   "codemirror_mode": {
    "name": "ipython",
    "version": 3
   },
   "file_extension": ".py",
   "mimetype": "text/x-python",
   "name": "python",
   "nbconvert_exporter": "python",
   "pygments_lexer": "ipython3",
   "version": "3.6.8"
  }
 },
 "nbformat": 4,
 "nbformat_minor": 2
}
