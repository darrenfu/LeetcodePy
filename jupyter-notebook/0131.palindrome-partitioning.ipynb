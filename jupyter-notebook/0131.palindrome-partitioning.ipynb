{
 "cells": [
  {
   "cell_type": "code",
   "execution_count": 26,
   "metadata": {},
   "outputs": [],
   "source": [
    "# All possible ... means DFS + Backtracking\n",
    "# Runtime: 96 ms\n",
    "# https://leetcode.com/problems/palindrome-partitioning/discuss/42100/Python-easy-to-understand-backtracking-solution.\n",
    "# https://leetcode.com/problems/palindrome-partitioning/discuss/41973/Python-recursiveiterative-backtracking-solution\n",
    "from typing import List\n",
    "\n",
    "class Solution:\n",
    "    def partition(self, s: str) -> List[List[str]]:\n",
    "        def dfs(sub: str, stack: List[str], res: List[List[str]]):\n",
    "            if not sub:\n",
    "                res.append(stack[:]) # find one possible result\n",
    "                return # backtracking\n",
    "            for i in range(1, len(sub)+1):\n",
    "                if isPalindrome(sub[:i]):\n",
    "                    stack.append(sub[:i])\n",
    "                    dfs(sub[i:], stack, res)\n",
    "#                     dfs(sub[i:], path + [sub[:i]], res)\n",
    "                    stack.pop()\n",
    "            \n",
    "        def isPalindrome(s: str) -> bool:\n",
    "            return s == s[::-1]\n",
    "        \n",
    "        res = []\n",
    "        dfs(s, [], res)\n",
    "        return res"
   ]
  },
  {
   "cell_type": "code",
   "execution_count": 19,
   "metadata": {},
   "outputs": [],
   "source": [
    "# use s indexes instead of substring as recursion argument\n",
    "# DP memorization\n",
    "# Runtime: 84 ms\n",
    "from typing import List\n",
    "\n",
    "class Solution:\n",
    "    def partition(self, s: str) -> List[List[str]]:\n",
    "        def dfs(lo: int, hi: int, path: List[str], res: List[List[str]]):\n",
    "            if lo==hi:\n",
    "                res.append(path)\n",
    "                return\n",
    "            for i in range(lo+1, hi+1):\n",
    "                if dp[lo][i] == -1:\n",
    "                    dp[lo][i] = 1 if isPalindrome(s[lo:i]) else 0\n",
    "                if dp[lo][i] == 1:\n",
    "                    dfs(i, hi, path + [s[lo:i]], res)\n",
    "            \n",
    "        def isPalindrome(s: str) -> bool:\n",
    "            return s == s[::-1]\n",
    "        \n",
    "        res = []\n",
    "        N = len(s)\n",
    "        dp = [[-1] * (N+1) for _ in range(N+1)]\n",
    "        dfs(0, N, [], res)\n",
    "        return res"
   ]
  },
  {
   "cell_type": "code",
   "execution_count": 27,
   "metadata": {},
   "outputs": [
    {
     "data": {
      "text/plain": [
       "[['a', 'a', 'b'], ['aa', 'b']]"
      ]
     },
     "execution_count": 27,
     "metadata": {},
     "output_type": "execute_result"
    }
   ],
   "source": [
    "Solution().partition(\"aab\")"
   ]
  },
  {
   "cell_type": "code",
   "execution_count": 28,
   "metadata": {},
   "outputs": [
    {
     "data": {
      "text/plain": [
       "[['a', 'a', 'b', 'a', 'b', 'b', 'd', 'd', 'b'],\n",
       " ['a', 'a', 'b', 'a', 'b', 'b', 'dd', 'b'],\n",
       " ['a', 'a', 'b', 'a', 'b', 'bddb'],\n",
       " ['a', 'a', 'b', 'a', 'bb', 'd', 'd', 'b'],\n",
       " ['a', 'a', 'b', 'a', 'bb', 'dd', 'b'],\n",
       " ['a', 'a', 'bab', 'b', 'd', 'd', 'b'],\n",
       " ['a', 'a', 'bab', 'b', 'dd', 'b'],\n",
       " ['a', 'a', 'bab', 'bddb'],\n",
       " ['a', 'aba', 'b', 'b', 'd', 'd', 'b'],\n",
       " ['a', 'aba', 'b', 'b', 'dd', 'b'],\n",
       " ['a', 'aba', 'b', 'bddb'],\n",
       " ['a', 'aba', 'bb', 'd', 'd', 'b'],\n",
       " ['a', 'aba', 'bb', 'dd', 'b'],\n",
       " ['aa', 'b', 'a', 'b', 'b', 'd', 'd', 'b'],\n",
       " ['aa', 'b', 'a', 'b', 'b', 'dd', 'b'],\n",
       " ['aa', 'b', 'a', 'b', 'bddb'],\n",
       " ['aa', 'b', 'a', 'bb', 'd', 'd', 'b'],\n",
       " ['aa', 'b', 'a', 'bb', 'dd', 'b'],\n",
       " ['aa', 'bab', 'b', 'd', 'd', 'b'],\n",
       " ['aa', 'bab', 'b', 'dd', 'b'],\n",
       " ['aa', 'bab', 'bddb']]"
      ]
     },
     "execution_count": 28,
     "metadata": {},
     "output_type": "execute_result"
    }
   ],
   "source": [
    "Solution().partition(\"aababbddb\")"
   ]
  },
  {
   "cell_type": "code",
   "execution_count": null,
   "metadata": {},
   "outputs": [],
   "source": []
  }
 ],
 "metadata": {
  "kernelspec": {
   "display_name": "Python 3",
   "language": "python",
   "name": "python3"
  },
  "language_info": {
   "codemirror_mode": {
    "name": "ipython",
    "version": 3
   },
   "file_extension": ".py",
   "mimetype": "text/x-python",
   "name": "python",
   "nbconvert_exporter": "python",
   "pygments_lexer": "ipython3",
   "version": "3.6.8"
  }
 },
 "nbformat": 4,
 "nbformat_minor": 2
}
