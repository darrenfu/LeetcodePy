{
 "cells": [
  {
   "cell_type": "code",
   "execution_count": 1,
   "metadata": {},
   "outputs": [],
   "source": [
    "# most readable solution\n",
    "# T: O(max(MlogM, NlogN, M*N))?\n",
    "# https://leetcode.com/problems/best-meeting-point/discuss/74186/14ms-java-solution\n",
    "from typing import List\n",
    "\n",
    "class Solution:\n",
    "    def minTotalDistance(self, grid: List[List[int]]) -> int:\n",
    "        def shortestDistance(vec: List[int]) -> int:\n",
    "            vec.sort()\n",
    "            res = 0\n",
    "            # Two pointer\n",
    "            i, j = 0, len(vec)-1\n",
    "            # Median among vec\n",
    "            while i<j:\n",
    "                res += vec[j]-vec[i]\n",
    "                j-=1\n",
    "                i+=1\n",
    "            return res\n",
    "                \n",
    "        R, C = len(grid), len(grid[0])\n",
    "        rowidxes, colidxes = [], []\n",
    "        for i in range(R):\n",
    "            for j in range(C):\n",
    "                if grid[i][j] == 1:\n",
    "                    rowidxes.append(i)\n",
    "                    colidxes.append(j)\n",
    "        return shortestDistance(rowidxes) + shortestDistance(colidxes)"
   ]
  },
  {
   "cell_type": "code",
   "execution_count": 7,
   "metadata": {},
   "outputs": [],
   "source": [
    "# T: O(M*N), S: O(M+N)\n",
    "# https://leetcode.com/problems/best-meeting-point/discuss/74193/Java-2msPython-40ms-two-pointers-solution-no-median-no-sort-with-explanation\n",
    "from typing import List\n",
    "\n",
    "class Solution:\n",
    "    def minTotalDistance(self, grid: List[List[int]]) -> int:\n",
    "        def shortestDistance(vec: List[int]) -> int:\n",
    "            # no sort edition\n",
    "            L = len(vec)\n",
    "            res, lsum, rsum = 0, 0, 0\n",
    "            i, j = -1, L\n",
    "            while i < j:\n",
    "                if lsum < rsum:\n",
    "                    # why res += lsum not += vec[i]?\n",
    "                    res += lsum # must be ahead of line: `lsum += vec[i]` because we don't want to include the lsum when i>=j\n",
    "                    i += 1\n",
    "                    lsum += vec[i]\n",
    "                else:\n",
    "                    res += rsum\n",
    "                    j -= 1\n",
    "                    rsum += vec[j]\n",
    "            return res\n",
    "            \n",
    "        # count all 1s in rows and in columns\n",
    "        rowsum = list(map(sum, grid))\n",
    "        colsum = list(map(sum, zip(*grid)))\n",
    "        return shortestDistance(rowsum) + shortestDistance(colsum)"
   ]
  },
  {
   "cell_type": "markdown",
   "metadata": {},
   "source": [
    "### Follow-up\n",
    "1. What if there are people sharing same home? Aka. the number in the grid can be more than 1."
   ]
  },
  {
   "cell_type": "code",
   "execution_count": 8,
   "metadata": {},
   "outputs": [
    {
     "data": {
      "text/plain": [
       "6"
      ]
     },
     "execution_count": 8,
     "metadata": {},
     "output_type": "execute_result"
    }
   ],
   "source": [
    "Solution().minTotalDistance(grid=[[1,0,0,0,1],[0,0,0,0,0],[0,0,1,0,0]])"
   ]
  },
  {
   "cell_type": "code",
   "execution_count": null,
   "metadata": {},
   "outputs": [],
   "source": []
  }
 ],
 "metadata": {
  "kernelspec": {
   "display_name": "Python 3",
   "language": "python",
   "name": "python3"
  },
  "language_info": {
   "codemirror_mode": {
    "name": "ipython",
    "version": 3
   },
   "file_extension": ".py",
   "mimetype": "text/x-python",
   "name": "python",
   "nbconvert_exporter": "python",
   "pygments_lexer": "ipython3",
   "version": "3.6.8"
  }
 },
 "nbformat": 4,
 "nbformat_minor": 2
}
