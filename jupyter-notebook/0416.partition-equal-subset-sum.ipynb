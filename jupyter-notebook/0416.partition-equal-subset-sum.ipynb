{
 "cells": [
  {
   "cell_type": "markdown",
   "metadata": {},
   "source": [
    "### [416\\. Partition Equal Subset Sum](https://leetcode.com/problems/partition-equal-subset-sum/)\n",
    "\n",
    "Difficulty: **Medium**\n",
    "\n",
    "\n",
    "Given a **non-empty** array containing **only positive integers**, find if the array can be partitioned into two subsets such that the sum of elements in both subsets is equal.\n",
    "\n",
    "**Note:**\n",
    "\n",
    "1.  Each of the array element will not exceed 100.\n",
    "2.  The array size will not exceed 200.\n",
    "\n",
    "**Example 1:**\n",
    "\n",
    "```\n",
    "Input: [1, 5, 11, 5]\n",
    "\n",
    "Output: true\n",
    "\n",
    "Explanation: The array can be partitioned as [1, 5, 5] and [11].\n",
    "```\n",
    "\n",
    "**Example 2:**\n",
    "\n",
    "```\n",
    "Input: [1, 2, 3, 5]\n",
    "\n",
    "Output: false\n",
    "\n",
    "Explanation: The array cannot be partitioned into equal sum subsets.\n",
    "```"
   ]
  },
  {
   "cell_type": "code",
   "execution_count": 22,
   "metadata": {},
   "outputs": [],
   "source": [
    "# 0/1 knapsack\n",
    "# transition function is dp[i][j] = dp[i-1][j] || dp[i-1][j-nums[i]]\n",
    "# https://www.geeksforgeeks.org/partition-problem-dp-18/\n",
    "from typing import List\n",
    "\n",
    "class Solution:\n",
    "    def canPartition(self, nums: List[int]) -> bool:\n",
    "        sm = sum(nums)\n",
    "        if sm & 1: return False # sum cannot be an odd number\n",
    "        target = sm >> 1\n",
    "        # dp[i] means there is at least one combination of numbers whose sum is i\n",
    "        dp = [True] + [False] * target\n",
    "        \n",
    "        for v in nums:\n",
    "            # must be decreasing from target to v, otherwise, dp[j] || dp[0] is always True\n",
    "            for j in range(target, v-1, -1): \n",
    "                dp[j] |= dp[j-v]\n",
    "        return dp[target]"
   ]
  },
  {
   "cell_type": "code",
   "execution_count": 36,
   "metadata": {},
   "outputs": [],
   "source": [
    "# bitmask\n",
    "from typing import List\n",
    "\n",
    "class Solution:\n",
    "    def canPartition(self, nums: List[int]) -> bool:\n",
    "        sm = sum(nums)\n",
    "        bits = 1\n",
    "        for v in nums:\n",
    "            bits |= 1<<v\n",
    "        # bits = sum(2^nums[i])\n",
    "        # check whether sum//2 digit of bits is 1 \n",
    "        return sm & 1 == 0 and bits >> (sm>>1) & 1 == 1"
   ]
  },
  {
   "cell_type": "code",
   "execution_count": 37,
   "metadata": {},
   "outputs": [
    {
     "name": "stdout",
     "output_type": "stream",
     "text": [
      "2083 22\n"
     ]
    },
    {
     "data": {
      "text/plain": [
       "True"
      ]
     },
     "execution_count": 37,
     "metadata": {},
     "output_type": "execute_result"
    }
   ],
   "source": [
    "Solution().canPartition([1,5,11,5])"
   ]
  },
  {
   "cell_type": "code",
   "execution_count": 38,
   "metadata": {},
   "outputs": [
    {
     "name": "stdout",
     "output_type": "stream",
     "text": [
      "47 11\n"
     ]
    },
    {
     "data": {
      "text/plain": [
       "False"
      ]
     },
     "execution_count": 38,
     "metadata": {},
     "output_type": "execute_result"
    }
   ],
   "source": [
    "Solution().canPartition([1,2,3,5])"
   ]
  },
  {
   "cell_type": "code",
   "execution_count": null,
   "metadata": {},
   "outputs": [],
   "source": []
  }
 ],
 "metadata": {
  "kernelspec": {
   "display_name": "Python 3",
   "language": "python",
   "name": "python3"
  },
  "language_info": {
   "codemirror_mode": {
    "name": "ipython",
    "version": 3
   },
   "file_extension": ".py",
   "mimetype": "text/x-python",
   "name": "python",
   "nbconvert_exporter": "python",
   "pygments_lexer": "ipython3",
   "version": "3.6.8"
  }
 },
 "nbformat": 4,
 "nbformat_minor": 2
}
