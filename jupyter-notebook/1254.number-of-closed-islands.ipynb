{
 "cells": [
  {
   "cell_type": "code",
   "execution_count": 24,
   "metadata": {},
   "outputs": [],
   "source": [
    "# BFS\n",
    "# Runtime: 136 ms\n",
    "from typing import List\n",
    "\n",
    "class Solution:\n",
    "    def closedIsland(self, grid: List[List[int]]) -> int:\n",
    "        R, C = len(grid), len(grid[0])\n",
    "        # starting points: all zeros not in the edges\n",
    "        qq = [(i,j) for i in range(1,R-1) for j in range(1,C-1) if not grid[i][j]]\n",
    "        zeros = set(qq)\n",
    "        MOVES = [[0,1],[1,0],[0,-1],[-1,0]]\n",
    "        res = 0\n",
    "        while qq:\n",
    "            x, y = qq.pop()\n",
    "            if (x, y) not in zeros:\n",
    "                continue\n",
    "            q = [(x,y)]\n",
    "            seen = set([(x,y)])\n",
    "            close_island = True\n",
    "            while q:\n",
    "                for _ in range(len(q)):\n",
    "                    cx, cy = q.pop()\n",
    "                    for dx, dy in MOVES:\n",
    "                        nx, ny = cx+dx, cy+dy\n",
    "                        if 0 <= nx < R and 0 <= ny < C and (nx,ny) not in seen:\n",
    "                            if not grid[nx][ny]:\n",
    "                                q.insert(0, (nx,ny))\n",
    "                                seen.add((nx,ny))\n",
    "                                if nx == 0 or nx == R-1 or ny == 0 or ny == C-1:\n",
    "                                    close_island = False\n",
    "#             print(seen, close_island)\n",
    "            zeros -= seen\n",
    "            if close_island:\n",
    "                res += 1\n",
    "        return res"
   ]
  },
  {
   "cell_type": "code",
   "execution_count": 30,
   "metadata": {},
   "outputs": [],
   "source": [
    "# DFS\n",
    "# Runtime: 156 ms\n",
    "from typing import List\n",
    "\n",
    "class Solution:\n",
    "    def closedIsland(self, grid: List[List[int]]) -> int:\n",
    "        def neighbors(x: int, y: int):\n",
    "            for r, c in ((x+1,y),(x,y+1),(x-1,y),(x,y-1)):\n",
    "                yield(r, c)\n",
    "                \n",
    "        def dfs(x: int, y: int):\n",
    "            for r, c in neighbors(x, y):\n",
    "                if 0 <= r < R and 0 <= c < C:\n",
    "                    if (r, c) not in seen and grid[r][c] == 0:\n",
    "                        seen.add((r,c))\n",
    "                        dfs(r,c)\n",
    "                else:\n",
    "                    self.closed_island = 0\n",
    "                    \n",
    "        R, C = len(grid), len(grid[0])\n",
    "        res = 0\n",
    "        seen = set()\n",
    "        for i in range(1,R-1):\n",
    "            for j in range(1,C-1):\n",
    "                if (i, j) not in seen and grid[i][j] == 0:\n",
    "                    seen.add((i,j))\n",
    "                    self.closed_island = 1\n",
    "                    dfs(i, j)\n",
    "                    res += self.closed_island\n",
    "        return res"
   ]
  },
  {
   "cell_type": "code",
   "execution_count": 65,
   "metadata": {},
   "outputs": [],
   "source": [
    "# flood fill\n",
    "# First, we need to mark all lands (0) connected to the edges as 1 using flood fill.\n",
    "# Then, we can count and flood-fill the remaining islands.\n",
    "# T: O(R*C)\n",
    "# Runtime: 148 ms\n",
    "# https://leetcode.com/problems/number-of-closed-islands/discuss/425150/JavaC%2B%2B-with-picture-flood-fill\n",
    "from typing import List\n",
    "\n",
    "class Solution:\n",
    "    def closedIsland(self, grid: List[List[int]]) -> int:\n",
    "        def floodfill(r: int, c: int) -> int:\n",
    "            if r == -1 or r == R or c == -1 or c == C or grid[r][c] == 1:\n",
    "                return 0\n",
    "            grid[r][c] = 1\n",
    "            return 1 + floodfill(r+1, c) + floodfill(r, c+1) + floodfill(r-1, c) + floodfill(r, c-1)\n",
    "        \n",
    "        R, C = len(grid), len(grid[0])\n",
    "        # flood fill all zeros connected to the edges\n",
    "        [floodfill(i,j) for i in (0, R-1) for j in range(C)]\n",
    "        [floodfill(i,j) for i in range(R) for j in (0, C-1)]\n",
    "#         print(grid)\n",
    "        # flood fill remaining zeros\n",
    "        return sum(floodfill(i,j) > 0 for i in range(1, R-1) for j in range(1, C-1))"
   ]
  },
  {
   "cell_type": "code",
   "execution_count": null,
   "metadata": {},
   "outputs": [],
   "source": [
    "#TODO: Union Find\n"
   ]
  },
  {
   "cell_type": "code",
   "execution_count": 66,
   "metadata": {},
   "outputs": [
    {
     "data": {
      "text/plain": [
       "2"
      ]
     },
     "execution_count": 66,
     "metadata": {},
     "output_type": "execute_result"
    }
   ],
   "source": [
    "Solution().closedIsland(grid = [[1,1,1,1,1,1,1,0],[1,0,0,0,0,1,1,0],[1,0,1,0,1,1,1,0],[1,0,0,0,0,1,0,1],[1,1,1,1,1,1,1,0]])"
   ]
  },
  {
   "cell_type": "code",
   "execution_count": 67,
   "metadata": {},
   "outputs": [
    {
     "data": {
      "text/plain": [
       "1"
      ]
     },
     "execution_count": 67,
     "metadata": {},
     "output_type": "execute_result"
    }
   ],
   "source": [
    "Solution().closedIsland(grid = [[0,0,1,0,0],[0,1,0,1,0],[0,1,1,1,0]])"
   ]
  },
  {
   "cell_type": "code",
   "execution_count": 68,
   "metadata": {},
   "outputs": [
    {
     "data": {
      "text/plain": [
       "2"
      ]
     },
     "execution_count": 68,
     "metadata": {},
     "output_type": "execute_result"
    }
   ],
   "source": [
    "Solution().closedIsland(grid = \n",
    "              [[1,1,1,1,1,1,1],\n",
    "               [1,0,0,0,0,0,1],\n",
    "               [1,0,1,1,1,0,1],\n",
    "               [1,0,1,0,1,0,1],\n",
    "               [1,0,1,1,1,0,1],\n",
    "               [1,0,0,0,0,0,1],\n",
    "               [1,1,1,1,1,1,1]])"
   ]
  },
  {
   "cell_type": "code",
   "execution_count": 69,
   "metadata": {},
   "outputs": [
    {
     "data": {
      "text/plain": [
       "5"
      ]
     },
     "execution_count": 69,
     "metadata": {},
     "output_type": "execute_result"
    }
   ],
   "source": [
    "Solution().closedIsland(grid = \n",
    "                        [[0,0,1,1,0,1,0,0,1,0],\n",
    "                         [1,1,0,1,1,0,1,1,1,0],\n",
    "                         [1,0,1,1,1,0,0,1,1,0],\n",
    "                         [0,1,1,0,0,0,0,1,0,1],\n",
    "                         [0,0,0,0,0,0,1,1,1,0],\n",
    "                         [0,1,0,1,0,1,0,1,1,1],\n",
    "                         [1,0,1,0,1,1,0,0,0,1],\n",
    "                         [1,1,1,1,1,1,0,0,0,0],\n",
    "                         [1,1,1,0,0,1,0,1,0,1],\n",
    "                         [1,1,1,0,1,1,0,1,1,0]])"
   ]
  },
  {
   "cell_type": "code",
   "execution_count": null,
   "metadata": {},
   "outputs": [],
   "source": []
  }
 ],
 "metadata": {
  "kernelspec": {
   "display_name": "Python 3",
   "language": "python",
   "name": "python3"
  },
  "language_info": {
   "codemirror_mode": {
    "name": "ipython",
    "version": 3
   },
   "file_extension": ".py",
   "mimetype": "text/x-python",
   "name": "python",
   "nbconvert_exporter": "python",
   "pygments_lexer": "ipython3",
   "version": "3.6.8"
  }
 },
 "nbformat": 4,
 "nbformat_minor": 2
}
