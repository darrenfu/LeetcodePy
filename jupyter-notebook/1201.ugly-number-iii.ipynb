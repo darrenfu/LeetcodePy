{
 "cells": [
  {
   "cell_type": "code",
   "execution_count": 5,
   "metadata": {},
   "outputs": [],
   "source": [
    "# Binary search + Inclusion-exclusion Principle @neal_wu\n",
    "# https://www.geeksforgeeks.org/find-the-nth-term-divisible-by-a-or-b-or-c/\n",
    "# https://en.wikipedia.org/wiki/Inclusion%E2%80%93exclusion_principle\n",
    "# Based on Set theory: https://www.geeksforgeeks.org/set-theory/\n",
    "class Solution:\n",
    "    def nthUglyNumber(self, n: int, a: int, b: int, c: int) -> int:\n",
    "        def gcd(a,b):\n",
    "            \"\"\"Compute the greatest common divisor of a and b\"\"\"\n",
    "            while b > 0:\n",
    "                a, b = b, a % b\n",
    "            return a\n",
    "    \n",
    "        def lcm(a, b):\n",
    "            \"\"\"Compute the lowest common multiple of a and b\"\"\"\n",
    "            return a * b // gcd(a, b)\n",
    "        \n",
    "        def count_ugly(n, a, b, c) -> int:\n",
    "            # |A U B U C|=|A|+|B|+|C|-|A U B|-|A U C|-|B U C|+|A U B U C|.\n",
    "            # Calculate number of terms divisible by a and by b and by c,\n",
    "            ans = n//a + n//b + n//c\n",
    "            # then, remove the terms which is are divisible by both a and b, both b and c, both c and a,\n",
    "            ans -= n//lcm(a,b) + n//lcm(b,c) + n//lcm(c,a)\n",
    "            # and then add which are divisible by a and b and c \n",
    "            ans += n//lcm(lcm(a,b),c)\n",
    "            return ans\n",
    "        \n",
    "        lo, hi = 0, int(2e9+5)\n",
    "        while lo < hi:\n",
    "            mid = (lo+hi)//2\n",
    "            if count_ugly(mid,a,b,c) < n:\n",
    "                lo = mid + 1\n",
    "            else:\n",
    "                hi = mid\n",
    "        return lo"
   ]
  },
  {
   "cell_type": "code",
   "execution_count": 6,
   "metadata": {},
   "outputs": [
    {
     "data": {
      "text/plain": [
       "4"
      ]
     },
     "execution_count": 6,
     "metadata": {},
     "output_type": "execute_result"
    }
   ],
   "source": [
    "Solution().nthUglyNumber(n = 3, a = 2, b = 3, c = 5)"
   ]
  },
  {
   "cell_type": "code",
   "execution_count": 7,
   "metadata": {},
   "outputs": [
    {
     "data": {
      "text/plain": [
       "6"
      ]
     },
     "execution_count": 7,
     "metadata": {},
     "output_type": "execute_result"
    }
   ],
   "source": [
    "Solution().nthUglyNumber(n = 4, a = 2, b = 3, c = 4)"
   ]
  },
  {
   "cell_type": "code",
   "execution_count": 8,
   "metadata": {},
   "outputs": [
    {
     "data": {
      "text/plain": [
       "10"
      ]
     },
     "execution_count": 8,
     "metadata": {},
     "output_type": "execute_result"
    }
   ],
   "source": [
    "Solution().nthUglyNumber(n = 5, a = 2, b = 11, c = 13)"
   ]
  },
  {
   "cell_type": "code",
   "execution_count": 9,
   "metadata": {},
   "outputs": [
    {
     "data": {
      "text/plain": [
       "1999999984"
      ]
     },
     "execution_count": 9,
     "metadata": {},
     "output_type": "execute_result"
    }
   ],
   "source": [
    "Solution().nthUglyNumber(n = 1000000000, a = 2, b = 217983653, c = 336916467)"
   ]
  },
  {
   "cell_type": "code",
   "execution_count": null,
   "metadata": {},
   "outputs": [],
   "source": []
  }
 ],
 "metadata": {
  "kernelspec": {
   "display_name": "Python 3",
   "language": "python",
   "name": "python3"
  },
  "language_info": {
   "codemirror_mode": {
    "name": "ipython",
    "version": 3
   },
   "file_extension": ".py",
   "mimetype": "text/x-python",
   "name": "python",
   "nbconvert_exporter": "python",
   "pygments_lexer": "ipython3",
   "version": "3.6.8"
  }
 },
 "nbformat": 4,
 "nbformat_minor": 2
}
