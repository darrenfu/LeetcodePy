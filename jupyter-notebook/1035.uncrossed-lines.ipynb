{
 "cells": [
  {
   "cell_type": "code",
   "execution_count": 6,
   "metadata": {},
   "outputs": [],
   "source": [
    "# Longest Common Subsequence\n",
    "# https://leetcode.com/problems/uncrossed-lines/discuss/282842/JavaC%2B%2BPython-DP-The-Longest-Common-Subsequence\n",
    "from typing import List\n",
    "\n",
    "class Solution:\n",
    "    def maxUncrossedLines(self, A: List[int], B: List[int]) -> int:\n",
    "        L1, L2 = len(A), len(B)\n",
    "        dp = [[0 for _ in range(L2+1)] for _ in range(L1+1)]\n",
    "        for i in range(1, L1+1):\n",
    "            for j in range(1, L2+1):\n",
    "                dp[i][j] = max(dp[i-1][j-1]+(A[i-1]==B[j-1]), dp[i-1][j], dp[i][j-1])\n",
    "        return dp[L1][L2]"
   ]
  },
  {
   "cell_type": "code",
   "execution_count": 7,
   "metadata": {},
   "outputs": [
    {
     "data": {
      "text/plain": [
       "3"
      ]
     },
     "execution_count": 7,
     "metadata": {},
     "output_type": "execute_result"
    }
   ],
   "source": [
    "Solution().maxUncrossedLines(A = [2,5,1,2,5], B = [10,5,2,1,5,2])"
   ]
  },
  {
   "cell_type": "code",
   "execution_count": 8,
   "metadata": {},
   "outputs": [
    {
     "data": {
      "text/plain": [
       "2"
      ]
     },
     "execution_count": 8,
     "metadata": {},
     "output_type": "execute_result"
    }
   ],
   "source": [
    "Solution().maxUncrossedLines(A = [1,3,7,1,7,5], B = [1,9,2,5,1])"
   ]
  },
  {
   "cell_type": "code",
   "execution_count": null,
   "metadata": {},
   "outputs": [],
   "source": []
  }
 ],
 "metadata": {
  "kernelspec": {
   "display_name": "Python 3",
   "language": "python",
   "name": "python3"
  },
  "language_info": {
   "codemirror_mode": {
    "name": "ipython",
    "version": 3
   },
   "file_extension": ".py",
   "mimetype": "text/x-python",
   "name": "python",
   "nbconvert_exporter": "python",
   "pygments_lexer": "ipython3",
   "version": "3.6.8"
  }
 },
 "nbformat": 4,
 "nbformat_minor": 2
}
