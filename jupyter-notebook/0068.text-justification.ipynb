{
 "cells": [
  {
   "cell_type": "code",
   "execution_count": 69,
   "metadata": {},
   "outputs": [],
   "source": [
    "# Greedy\n",
    "# Runtime: 36 ms, faster than 79.46%\n",
    "# Refer to https://leetcode.com/problems/text-justification/discuss/24902/Java-easy-to-understand-broken-into-several-functions\n",
    "from typing import List\n",
    "\n",
    "class Solution:\n",
    "    def fullJustify(self, words: List[str], maxWidth: int) -> List[str]:\n",
    "        # return (rightmost word index, sum of word characters in this line)\n",
    "        def fillInLine(left: int) -> (int, int):\n",
    "            nonlocal maxWidth, N\n",
    "            right = left\n",
    "            sumOfChars = 0\n",
    "            # must add the first word's length to avoid over count one word\n",
    "            while right < N and sumOfChars+len(words[right]) <= maxWidth-(right-left):\n",
    "                sumOfChars += len(words[right])\n",
    "                right += 1\n",
    "            # right - 1 to refund the over counted right index in while loop\n",
    "            return right-1, sumOfChars\n",
    "            \n",
    "        # Three edge cases:\n",
    "        # 1. only one word in line\n",
    "        # 2. last line, needs left justify\n",
    "        # 3. if there are remaining spaces after evenly filled (i.e. totalSpaceNum % gapNum > 0)\n",
    "        def justify(left: int, right: int, sumOfChars: int) -> str:\n",
    "            nonlocal maxWidth, N\n",
    "            gapNum = right-left\n",
    "            totalSpaceNum = maxWidth-sumOfChars\n",
    "            if gapNum == 0: # 1. only one word in this line\n",
    "                return words[left] + ' ' * totalSpaceNum # pad spaces for end of this line\n",
    "            avgSpaceNum = totalSpaceNum // gapNum\n",
    "            additionalSpaceNum = totalSpaceNum % gapNum\n",
    "            cur = left\n",
    "            res = ''\n",
    "            while cur < right:\n",
    "                spaceNum = 1 # 2. last line is left justify\n",
    "                if right < N-1:\n",
    "                    # 3. remaining spaces left after evenly filled\n",
    "                    # we evently filled the first additionalSpaceNum gaps until used up\n",
    "                    spaceNum = avgSpaceNum + (additionalSpaceNum > 0)\n",
    "                res += words[cur] + ' ' * spaceNum\n",
    "                if additionalSpaceNum > 0:\n",
    "                    additionalSpaceNum -= 1\n",
    "                cur += 1\n",
    "            res += words[cur] # add the last word without add space\n",
    "            if right == N-1: # pad spaces for end of last line\n",
    "                res += ' ' * (totalSpaceNum-gapNum)\n",
    "            return res\n",
    "        \n",
    "        left = 0\n",
    "        res = []\n",
    "        N = len(words)\n",
    "        while left < N:\n",
    "            right, sumOfChars = fillInLine(left)\n",
    "#             print(words[left:right+1], sumOfChars)\n",
    "            line = justify(left, right, sumOfChars)\n",
    "            res.append(line)\n",
    "            left = right + 1\n",
    "        return res"
   ]
  },
  {
   "cell_type": "code",
   "execution_count": 92,
   "metadata": {},
   "outputs": [],
   "source": [
    "# Round Robin for space fill\n",
    "# Runtime: 32 ms, faster than 94.64%\n",
    "\n",
    "# Once you determine that there are only k words that can fit on a given line, \n",
    "# you know what the total length of those words is num_of_letters. Then the rest are \n",
    "# spaces, and there are (maxWidth - num_of_letters) of spaces.\n",
    "# The \"or 1\" part is for dealing with the edge case len(wordsInLine) == 1.\n",
    "# https://leetcode.com/problems/text-justification/discuss/24891/Concise-python-solution-10-lines.\n",
    "from typing import List\n",
    "\n",
    "class Solution:\n",
    "    def fullJustify(self, words: List[str], maxWidth: int) -> List[str]:\n",
    "        lines, wordsInLine, sumOfWords = [], [], 0\n",
    "        for w in words:\n",
    "            if sumOfWords + len(wordsInLine) + len(w) > maxWidth:\n",
    "                # round robin: allocate remaining spaces word by word\n",
    "                for i in range(maxWidth-sumOfWords):\n",
    "                    # if word number in this line is 1, just % 1\n",
    "                    wordsInLine[i % (len(wordsInLine)-1 or 1)] += ' '\n",
    "                lines.append(''.join(wordsInLine))\n",
    "                # reset variables for next line\n",
    "                wordsInLine, sumOfWords = [], 0\n",
    "            # aggregate this word\n",
    "            wordsInLine += w,\n",
    "            sumOfWords += len(w)\n",
    "        # ljust: right padding space till maxWidth (left justify)\n",
    "#         return lines + [' '.join(wordsInLine).ljust(maxWidth)]\n",
    "        lastLine = ' '.join(wordsInLine) + ' '*(maxWidth-sumOfWords-len(wordsInLine)+1)\n",
    "        lines.append(lastLine)\n",
    "        return lines"
   ]
  },
  {
   "cell_type": "code",
   "execution_count": 93,
   "metadata": {},
   "outputs": [
    {
     "data": {
      "text/plain": [
       "['This    is    an', 'example  of text', 'justification.   ']"
      ]
     },
     "execution_count": 93,
     "metadata": {},
     "output_type": "execute_result"
    }
   ],
   "source": [
    "Solution().fullJustify(words=[\"This\", \"is\", \"an\", \"example\", \"of\", \"text\", \"justification.\"], maxWidth=16)"
   ]
  },
  {
   "cell_type": "code",
   "execution_count": 94,
   "metadata": {},
   "outputs": [
    {
     "data": {
      "text/plain": [
       "['What   must   be', 'acknowledgment  ', 'shall be         ']"
      ]
     },
     "execution_count": 94,
     "metadata": {},
     "output_type": "execute_result"
    }
   ],
   "source": [
    "Solution().fullJustify(words=[\"What\",\"must\",\"be\",\"acknowledgment\",\"shall\",\"be\"], maxWidth=16)"
   ]
  },
  {
   "cell_type": "code",
   "execution_count": 95,
   "metadata": {},
   "outputs": [
    {
     "data": {
      "text/plain": [
       "['Science  is  what we',\n",
       " 'understand      well',\n",
       " 'enough to explain to',\n",
       " 'a  computer.  Art is',\n",
       " 'everything  else  we',\n",
       " 'do                   ']"
      ]
     },
     "execution_count": 95,
     "metadata": {},
     "output_type": "execute_result"
    }
   ],
   "source": [
    "Solution().fullJustify(words=[\"Science\",\"is\",\"what\",\"we\",\"understand\",\"well\",\"enough\",\"to\",\"explain\",\"to\",\"a\",\"computer.\",\"Art\",\"is\",\"everything\",\"else\",\"we\",\"do\"], maxWidth=20)"
   ]
  },
  {
   "cell_type": "code",
   "execution_count": null,
   "metadata": {},
   "outputs": [],
   "source": []
  }
 ],
 "metadata": {
  "kernelspec": {
   "display_name": "Python 3",
   "language": "python",
   "name": "python3"
  },
  "language_info": {
   "codemirror_mode": {
    "name": "ipython",
    "version": 3
   },
   "file_extension": ".py",
   "mimetype": "text/x-python",
   "name": "python",
   "nbconvert_exporter": "python",
   "pygments_lexer": "ipython3",
   "version": "3.6.8"
  }
 },
 "nbformat": 4,
 "nbformat_minor": 2
}
