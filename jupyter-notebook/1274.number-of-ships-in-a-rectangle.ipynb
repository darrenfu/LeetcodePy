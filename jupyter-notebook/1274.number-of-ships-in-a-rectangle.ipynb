{
 "cells": [
  {
   "cell_type": "markdown",
   "metadata": {},
   "source": [
    "### [1274\\. Number of Ships in a Rectangle](https://leetcode.com/problems/number-of-ships-in-a-rectangle/)\n",
    "\n",
    "Difficulty: **Hard**\n",
    "\n",
    "\n",
    "_(This problem is an **interactive problem**.)_\n",
    "\n",
    "On the sea represented by a cartesian plane, each ship is located at an integer point, and each integer point may contain at most 1 ship.\n",
    "\n",
    "You have a function `Sea.hasShips(topRight, bottomLeft)` which takes two points as arguments and returns `true` if and only if there is at least one ship in the rectangle represented by the two points, including on the boundary.\n",
    "\n",
    "Given two points, which are the top right and bottom left corners of a rectangle, return the number of ships present in that rectangle.  It is guaranteed that there are **at most 10 ships** in that rectangle.\n",
    "\n",
    "Submissions making **more than 400 calls** to `hasShips` will be judged _Wrong Answer_.  Also, any solutions that attempt to circumvent the judge will result in disqualification.\n",
    "\n",
    "**Example :**\n",
    "\n",
    "![](https://assets.leetcode.com/uploads/2019/07/26/1445_example_1.PNG)\n",
    "\n",
    "```\n",
    "Input: \n",
    "ships = [[1,1],[2,2],[3,3],[5,5]], topRight = [4,4], bottomLeft = [0,0]\n",
    "Output: 3\n",
    "Explanation: From [0,0] to [4,4] we can count 3 ships within the range.\n",
    "```\n",
    "\n",
    "**Constraints:**\n",
    "\n",
    "*   On the input `ships` is only given to initialize the map internally. You must solve this problem \"blindfolded\". In other words, you must find the answer using the given `hasShips` API, without knowing the `ships` position.\n",
    "*   `0 <= bottomLeft[0] <= topRight[0] <= 1000`\n",
    "*   `0 <= bottomLeft[1] <= topRight[1] <= 1000`"
   ]
  },
  {
   "cell_type": "code",
   "execution_count": null,
   "metadata": {},
   "outputs": [],
   "source": [
    "# QuadTree\n",
    "# https://leetcode.com/problems/number-of-ships-in-a-rectangle/discuss/440884/Python\n",
    "\n",
    "# \"\"\"\n",
    "# This is Sea's API interface.\n",
    "# You should not implement it, or speculate about its implementation\n",
    "# \"\"\"\n",
    "#class Sea(object):\n",
    "#    def hasShips(self, topRight: 'Point', bottomLeft: 'Point') -> bool:\n",
    "#\n",
    "#class Point(object):\n",
    "#\tdef __init__(self, x: int, y: int):\n",
    "#\t\tself.x = x\n",
    "#\t\tself.y = y\n",
    "\n",
    "class Solution(object):\n",
    "    def countShips(self, sea: 'Sea', topRight: 'Point', bottomLeft: 'Point') -> int:\n",
    "        def quadTree(x:int, X:int, y:int, Y:int) -> int: # return ship numbers in this area\n",
    "            if x>X or y>Y: # previous case could be: one dimension value equals, e.g. bottomLeft:(0,3), topRight(3,3)\n",
    "                return 0\n",
    "            if not sea.hasShips(Point(X,Y), Point(x,y)):\n",
    "                return 0\n",
    "            if x==X and y==Y:\n",
    "                return 1\n",
    "            xmid, ymid = (x+X)//2, (y+Y)//2\n",
    "            xrange = (x,xmid), (xmid+1,X)\n",
    "            yrange = (y,ymid), (ymid+1,Y)\n",
    "            return sum(quadTree(x1,x2,y1,y2) for x1,x2 in xrange for y1,y2 in yrange)\n",
    "        return quadTree(bottomLeft.x, topRight.x, bottomLeft.y, topRight.y)"
   ]
  }
 ],
 "metadata": {
  "kernelspec": {
   "display_name": "Python 3",
   "language": "python",
   "name": "python3"
  },
  "language_info": {
   "codemirror_mode": {
    "name": "ipython",
    "version": 3
   },
   "file_extension": ".py",
   "mimetype": "text/x-python",
   "name": "python",
   "nbconvert_exporter": "python",
   "pygments_lexer": "ipython3",
   "version": "3.6.8"
  }
 },
 "nbformat": 4,
 "nbformat_minor": 2
}
