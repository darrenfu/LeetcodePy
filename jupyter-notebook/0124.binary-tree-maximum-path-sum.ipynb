{
 "cells": [
  {
   "cell_type": "code",
   "execution_count": 1,
   "metadata": {},
   "outputs": [],
   "source": [
    "import sys\n",
    "sys.path.append('..')\n",
    "from leetcode.tree.treenode import TreeNode"
   ]
  },
  {
   "cell_type": "code",
   "execution_count": 2,
   "metadata": {},
   "outputs": [],
   "source": [
    "# Runtime: 76 ms, faster than 99.94%\n",
    "# https://leetcode.com/problems/binary-tree-maximum-path-sum/discuss/39775/Accepted-short-solution-in-Java\n",
    "class Solution:\n",
    "    def maxPathSum(self, root: TreeNode) -> int:\n",
    "        def dfs(node: TreeNode):\n",
    "            nonlocal max_sum\n",
    "            if not node:\n",
    "                return 0\n",
    "            lsum = max(0, dfs(node.left)) # if branch max sum is negative, ignore the left/right branch\n",
    "            rsum = max(0, dfs(node.right))\n",
    "            # if (left + right + node.val < maxValue ) then the result will not include the parent node \n",
    "            # which means the maximum path is in the left branch or right branch.\n",
    "            max_sum = max(max_sum, lsum + rsum + node.val)\n",
    "            # The maxValue contains the bigger between the left sub-tree and right sub-tree. \n",
    "            return max(lsum, rsum) + node.val\n",
    "        \n",
    "        max_sum = float('-inf')\n",
    "        dfs(root)\n",
    "        return max_sum"
   ]
  },
  {
   "cell_type": "code",
   "execution_count": 4,
   "metadata": {},
   "outputs": [
    {
     "data": {
      "text/plain": [
       "42"
      ]
     },
     "execution_count": 4,
     "metadata": {},
     "output_type": "execute_result"
    }
   ],
   "source": [
    "root = TreeNode.deserialize('[-10,9,20,null,null,15,7]')\n",
    "Solution().maxPathSum(root)"
   ]
  },
  {
   "cell_type": "code",
   "execution_count": null,
   "metadata": {},
   "outputs": [],
   "source": []
  }
 ],
 "metadata": {
  "kernelspec": {
   "display_name": "Python 3",
   "language": "python",
   "name": "python3"
  },
  "language_info": {
   "codemirror_mode": {
    "name": "ipython",
    "version": 3
   },
   "file_extension": ".py",
   "mimetype": "text/x-python",
   "name": "python",
   "nbconvert_exporter": "python",
   "pygments_lexer": "ipython3",
   "version": "3.6.8"
  }
 },
 "nbformat": 4,
 "nbformat_minor": 2
}
