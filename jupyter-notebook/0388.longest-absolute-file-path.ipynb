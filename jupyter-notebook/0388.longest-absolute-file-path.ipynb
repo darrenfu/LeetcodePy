{
 "cells": [
  {
   "cell_type": "markdown",
   "metadata": {},
   "source": [
    "### [388\\. Longest Absolute File Path](https://leetcode.com/problems/longest-absolute-file-path/)\n",
    "\n",
    "Difficulty: **Medium**\n",
    "\n",
    "\n",
    "Suppose we abstract our file system by a string in the following manner:\n",
    "\n",
    "The string `\"dir\\n\\tsubdir1\\n\\tsubdir2\\n\\t\\tfile.ext\"` represents:\n",
    "\n",
    "```\n",
    "dir\n",
    "    subdir1\n",
    "    subdir2\n",
    "        file.ext\n",
    "```\n",
    "\n",
    "The directory `dir` contains an empty sub-directory `subdir1` and a sub-directory `subdir2` containing a file `file.ext`.\n",
    "\n",
    "The string `\"dir\\n\\tsubdir1\\n\\t\\tfile1.ext\\n\\t\\tsubsubdir1\\n\\tsubdir2\\n\\t\\tsubsubdir2\\n\\t\\t\\tfile2.ext\"` represents:\n",
    "\n",
    "```\n",
    "dir\n",
    "    subdir1\n",
    "        file1.ext\n",
    "        subsubdir1\n",
    "    subdir2\n",
    "        subsubdir2\n",
    "            file2.ext\n",
    "```\n",
    "\n",
    "The directory `dir` contains two sub-directories `subdir1` and `subdir2`. `subdir1` contains a file `file1.ext` and an empty second-level sub-directory `subsubdir1`. `subdir2` contains a second-level sub-directory `subsubdir2` containing a file `file2.ext`.\n",
    "\n",
    "We are interested in finding the longest (number of characters) absolute path to a file within our file system. For example, in the second example above, the longest absolute path is `\"dir/subdir2/subsubdir2/file2.ext\"`, and its length is `32` (not including the double quotes).\n",
    "\n",
    "Given a string representing the file system in the above format, return the length of the longest absolute path to file in the abstracted file system. If there is no file in the system, return `0`.\n",
    "\n",
    "**Note:**  \n",
    "\n",
    "*   The name of a file contains at least a `.` and an extension.\n",
    "*   The name of a directory or sub-directory will not contain a `.`.\n",
    "\n",
    "Time complexity required: `O(n)` where `n` is the size of the input string.\n",
    "\n",
    "Notice that `a/aa/aaa/file1.txt` is not the longest file path, if there is another path `aaaaaaaaaaaaaaaaaaaaa/sth.png`."
   ]
  },
  {
   "cell_type": "code",
   "execution_count": 2,
   "metadata": {},
   "outputs": [],
   "source": [
    "# hashmap\n",
    "# https://leetcode.com/problems/longest-absolute-file-path/discuss/86719/Two-different-solutions-in-java-using-stack-and-hashmap\n",
    "\n",
    "class Solution:\n",
    "    def lengthLongestPath(self, input: str) -> int:\n",
    "        maxlen = 0\n",
    "        dct = {-1:0} # mimic stack\n",
    "        inodes = input.split(\"\\n\")\n",
    "        for inode in inodes:\n",
    "            #depth = inode.count(\"\\t\")\n",
    "            f = inode.lstrip(\"\\t\")\n",
    "            depth = len(inode) - len(f)\n",
    "            if '.' in f: # file\n",
    "                maxlen = max(maxlen, dct[depth-1] + len(f))\n",
    "            else: # dir\n",
    "                dct[depth] = dct[depth-1] + len(f) + 1 # +dir/\n",
    "        return maxlen"
   ]
  },
  {
   "cell_type": "code",
   "execution_count": 4,
   "metadata": {},
   "outputs": [],
   "source": [
    "# stack\n",
    "class Solution:\n",
    "    def lengthLongestPath(self, input: str) -> int:\n",
    "        maxlen = 0\n",
    "        stack = [0] # place a root dummy value to ensure stack is never empty\n",
    "        inodes = input.split(\"\\n\")\n",
    "        for inode in inodes:\n",
    "            f = inode.lstrip(\"\\t\")\n",
    "            depth = len(inode) - len(f)\n",
    "            while len(stack) > depth+1: # backtracking from the deepest inode\n",
    "                stack.pop()\n",
    "            if '.' in f: \n",
    "                maxlen = max(maxlen, stack[-1] + len(f))\n",
    "            else:\n",
    "                stack.append(stack[-1] + len(f) + 1) # refill values for those whose depth > current depth\n",
    "        return maxlen"
   ]
  },
  {
   "cell_type": "code",
   "execution_count": 5,
   "metadata": {},
   "outputs": [
    {
     "data": {
      "text/plain": [
       "32"
      ]
     },
     "execution_count": 5,
     "metadata": {},
     "output_type": "execute_result"
    }
   ],
   "source": [
    "Solution().lengthLongestPath(\"dir\\n\\tsubdir1\\n\\t\\tfile1.ext\\n\\t\\tsubsubdir1\\n\\tsubdir2\\n\\t\\tsubsubdir2\\n\\t\\t\\tfile2.ext\")"
   ]
  },
  {
   "cell_type": "code",
   "execution_count": null,
   "metadata": {},
   "outputs": [],
   "source": []
  }
 ],
 "metadata": {
  "kernelspec": {
   "display_name": "Python 3",
   "language": "python",
   "name": "python3"
  },
  "language_info": {
   "codemirror_mode": {
    "name": "ipython",
    "version": 3
   },
   "file_extension": ".py",
   "mimetype": "text/x-python",
   "name": "python",
   "nbconvert_exporter": "python",
   "pygments_lexer": "ipython3",
   "version": "3.6.8"
  }
 },
 "nbformat": 4,
 "nbformat_minor": 2
}
