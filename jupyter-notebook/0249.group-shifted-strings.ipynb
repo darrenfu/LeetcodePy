{
 "cells": [
  {
   "cell_type": "markdown",
   "metadata": {},
   "source": [
    "### [249\\. Group Shifted Strings](https://leetcode.com/problems/group-shifted-strings/)\n",
    "\n",
    "Difficulty: **Medium**\n",
    "\n",
    "\n",
    "Given a string, we can \"shift\" each of its letter to its successive letter, for example: `\"abc\" -> \"bcd\"`. We can keep \"shifting\" which forms the sequence:\n",
    "\n",
    "```\n",
    "\"abc\" -> \"bcd\" -> ... -> \"xyz\"\n",
    "```\n",
    "\n",
    "Given a list of strings which contains only lowercase alphabets, group all strings that belong to the same shifting sequence.\n",
    "\n",
    "**Example:**\n",
    "\n",
    "```\n",
    "Input: [\"abc\", \"bcd\", \"acef\", \"xyz\", \"az\", \"ba\", \"a\", \"z\"],\n",
    "Output: \n",
    "[\n",
    "  [\"abc\",\"bcd\",\"xyz\"],\n",
    "  [\"az\",\"ba\"],\n",
    "  [\"acef\"],\n",
    "  [\"a\",\"z\"]\n",
    "]\n",
    "```"
   ]
  },
  {
   "cell_type": "code",
   "execution_count": 19,
   "metadata": {},
   "outputs": [],
   "source": [
    "from typing import List\n",
    "from collections import defaultdict\n",
    "\n",
    "class Solution:\n",
    "    def groupStrings(self, strings: List[str]) -> List[List[str]]:\n",
    "        dct = defaultdict(list)\n",
    "        for s in strings:\n",
    "            key = tuple((ord(ch)-ord(s[0])) % 26 for ch in s)\n",
    "            dct[key].append(s)\n",
    "        return [v for k, v in dct.items()]"
   ]
  },
  {
   "cell_type": "code",
   "execution_count": 20,
   "metadata": {},
   "outputs": [
    {
     "data": {
      "text/plain": [
       "[['abc', 'bcd', 'xyz'], ['acef'], ['az', 'ba'], ['a', 'z']]"
      ]
     },
     "execution_count": 20,
     "metadata": {},
     "output_type": "execute_result"
    }
   ],
   "source": [
    "Solution().groupStrings([\"abc\", \"bcd\", \"acef\", \"xyz\", \"az\", \"ba\", \"a\", \"z\"])"
   ]
  },
  {
   "cell_type": "code",
   "execution_count": null,
   "metadata": {},
   "outputs": [],
   "source": []
  }
 ],
 "metadata": {
  "kernelspec": {
   "display_name": "Python 3",
   "language": "python",
   "name": "python3"
  },
  "language_info": {
   "codemirror_mode": {
    "name": "ipython",
    "version": 3
   },
   "file_extension": ".py",
   "mimetype": "text/x-python",
   "name": "python",
   "nbconvert_exporter": "python",
   "pygments_lexer": "ipython3",
   "version": "3.6.8"
  }
 },
 "nbformat": 4,
 "nbformat_minor": 2
}
