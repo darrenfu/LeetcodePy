{
 "cells": [
  {
   "cell_type": "markdown",
   "metadata": {},
   "source": [
    "### [755\\. Pour Water](https://leetcode.com/problems/pour-water/)\n",
    "\n",
    "Difficulty: **Medium**\n",
    "\n",
    "\n",
    "We are given an elevation map, `heights[i]` representing the height of the terrain at that index. The width at each index is 1\\. After `V` units of water fall at index `K`, how much water is at each index?\n",
    "\n",
    "Water first drops at index `K` and rests on top of the highest terrain or water at that index. Then, it flows according to the following rules:\n",
    "\n",
    "*   If the droplet would eventually fall by moving left, then move left.*   Otherwise, if the droplet would eventually fall by moving right, then move right.*   Otherwise, rise at it's current position.Here, \"eventually fall\" means that the droplet will eventually be at a lower level if it moves in that direction. Also, \"level\" means the height of the terrain plus any water in that column.\n",
    "\n",
    "We can assume there's infinitely high terrain on the two sides out of bounds of the array. Also, there could not be partial water being spread out evenly on more than 1 grid block - each unit of water has to be in exactly one block.\n",
    "\n",
    "**Example 1:**  \n",
    "\n",
    "```\n",
    "Input: heights = [2,1,1,2,1,2,2], V = 4, K = 3\n",
    "Output: [2,2,2,3,2,2,2]\n",
    "Explanation:\n",
    "#       #\n",
    "#       #\n",
    "##  # ###\n",
    "#########\n",
    " 0123456    <- index\n",
    "\n",
    "The first drop of water lands at index K = 3:\n",
    "\n",
    "#       #\n",
    "#   w   #\n",
    "##  # ###\n",
    "#########\n",
    " 0123456    \n",
    "\n",
    "When moving left or right, the water can only move to the same level or a lower level.\n",
    "(By level, we mean the total height of the terrain plus any water in that column.)\n",
    "Since moving left will eventually make it fall, it moves left.\n",
    "(A droplet \"made to fall\" means go to a lower height than it was at previously.)\n",
    "\n",
    "#       #\n",
    "#       #\n",
    "## w# ###\n",
    "#########\n",
    " 0123456    \n",
    "\n",
    "Since moving left will not make it fall, it stays in place.  The next droplet falls:\n",
    "\n",
    "#       #\n",
    "#   w   #\n",
    "## w# ###\n",
    "#########\n",
    " 0123456  \n",
    "\n",
    "Since the new droplet moving left will eventually make it fall, it moves left.\n",
    "Notice that the droplet still preferred to move left,\n",
    "even though it could move right (and moving right makes it fall quicker.)\n",
    "\n",
    "#       #\n",
    "#  w    #\n",
    "## w# ###\n",
    "#########\n",
    " 0123456  \n",
    "\n",
    "#       #\n",
    "#       #\n",
    "##ww# ###\n",
    "#########\n",
    " 0123456  \n",
    "\n",
    "After those steps, the third droplet falls.\n",
    "Since moving left would not eventually make it fall, it tries to move right.\n",
    "Since moving right would eventually make it fall, it moves right.\n",
    "\n",
    "#       #\n",
    "#   w   #\n",
    "##ww# ###\n",
    "#########\n",
    " 0123456  \n",
    "\n",
    "#       #\n",
    "#       #\n",
    "##ww#w###\n",
    "#########\n",
    " 0123456  \n",
    "\n",
    "Finally, the fourth droplet falls.\n",
    "Since moving left would not eventually make it fall, it tries to move right.\n",
    "Since moving right would not eventually make it fall, it stays in place:\n",
    "\n",
    "#       #\n",
    "#   w   #\n",
    "##ww#w###\n",
    "#########\n",
    " 0123456  \n",
    "\n",
    "The final answer is [2,2,2,3,2,2,2]:\n",
    "\n",
    "    #    \n",
    " ####### \n",
    " ####### \n",
    " 0123456 \n",
    "```\n",
    "\n",
    "**Example 2:**  \n",
    "\n",
    "```\n",
    "Input: heights = [1,2,3,4], V = 2, K = 2\n",
    "Output: [2,3,3,4]\n",
    "Explanation:\n",
    "The last droplet settles at index 1, since moving further left would not cause it to eventually fall to a lower height.\n",
    "```\n",
    "\n",
    "**Example 3:**  \n",
    "\n",
    "```\n",
    "Input: heights = [3,1,3], V = 5, K = 1\n",
    "Output: [4,4,4]\n",
    "```\n",
    "\n",
    "**Note:**  \n",
    "\n",
    "1.  `heights` will have length in `[1, 100]` and contain integers in `[0, 99]`.\n",
    "2.  `V` will be in range `[0, 2000]`.\n",
    "3.  `K` will be in range `[0, heights.length - 1]`."
   ]
  },
  {
   "cell_type": "code",
   "execution_count": null,
   "metadata": {},
   "outputs": [],
   "source": [
    "# simulation\n",
    "# https://leetcode.com/problems/pour-water/discuss/113034/Python-solution\n",
    "# follow-ups:\n",
    "# 1. print every step\n",
    "# 2. what if there's no infinitely high terrain on the two sides out of bounds of the array\n",
    "from typing import List\n",
    "\n",
    "class Solution:\n",
    "    def pourWater(self, heights: List[int], V: int, K: int) -> List[int]:\n",
    "        for _ in range(V):\n",
    "            # move to left\n",
    "            idx = K\n",
    "            for i in range(K-1, -1, -1):\n",
    "                if heights[i] > heights[i+1]:\n",
    "                    break\n",
    "                elif heights[i] < heights[i+1]:\n",
    "                    idx = i\n",
    "            if idx != K:\n",
    "                heights[idx] += 1\n",
    "                continue\n",
    "            \n",
    "            # move to right\n",
    "            idx = K\n",
    "            for i in range(K+1, len(heights)):\n",
    "                if heights[i-1] < heights[i]:\n",
    "                    break\n",
    "                elif heights[i-1] > heights[i]:\n",
    "                    idx = i\n",
    "            heights[idx] += 1 # merge two cases: move to right and no move (drop to index: K)\n",
    "        return heights"
   ]
  },
  {
   "cell_type": "code",
   "execution_count": 14,
   "metadata": {},
   "outputs": [
    {
     "data": {
      "text/plain": [
       "[2, 2, 2, 3, 2, 2, 2]"
      ]
     },
     "execution_count": 14,
     "metadata": {},
     "output_type": "execute_result"
    }
   ],
   "source": [
    "Solution().pourWater(heights = [2,1,1,2,1,2,2], V = 4, K = 3)"
   ]
  },
  {
   "cell_type": "code",
   "execution_count": 15,
   "metadata": {},
   "outputs": [
    {
     "data": {
      "text/plain": [
       "[2, 3, 3, 4]"
      ]
     },
     "execution_count": 15,
     "metadata": {},
     "output_type": "execute_result"
    }
   ],
   "source": [
    "Solution().pourWater(heights = [1,2,3,4], V = 2, K = 2)"
   ]
  },
  {
   "cell_type": "code",
   "execution_count": 16,
   "metadata": {},
   "outputs": [
    {
     "data": {
      "text/plain": [
       "[4, 4, 4]"
      ]
     },
     "execution_count": 16,
     "metadata": {},
     "output_type": "execute_result"
    }
   ],
   "source": [
    "Solution().pourWater(heights = [3,1,3], V = 5, K = 1)"
   ]
  },
  {
   "cell_type": "code",
   "execution_count": null,
   "metadata": {},
   "outputs": [],
   "source": []
  }
 ],
 "metadata": {
  "kernelspec": {
   "display_name": "Python 3",
   "language": "python",
   "name": "python3"
  },
  "language_info": {
   "codemirror_mode": {
    "name": "ipython",
    "version": 3
   },
   "file_extension": ".py",
   "mimetype": "text/x-python",
   "name": "python",
   "nbconvert_exporter": "python",
   "pygments_lexer": "ipython3",
   "version": "3.6.8"
  }
 },
 "nbformat": 4,
 "nbformat_minor": 2
}
