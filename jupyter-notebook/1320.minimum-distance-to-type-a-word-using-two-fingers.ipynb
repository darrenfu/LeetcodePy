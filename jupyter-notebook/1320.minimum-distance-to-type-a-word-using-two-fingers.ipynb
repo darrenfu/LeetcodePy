{
 "cells": [
  {
   "cell_type": "markdown",
   "metadata": {},
   "source": [
    "### [1320\\. Minimum Distance to Type a Word Using Two Fingers](https://leetcode.com/problems/minimum-distance-to-type-a-word-using-two-fingers/)\n",
    "\n",
    "Difficulty: **Hard**\n",
    "\n",
    "\n",
    "![](https://assets.leetcode.com/uploads/2020/01/02/leetcode_keyboard.png)\n",
    "\n",
    "You have a keyboard layout as shown above in the XY plane, where each English uppercase letter is located at some coordinate, for example, the letter **A** is located at coordinate **(0,0)**, the letter **B** is located at coordinate **(0,1)**, the letter **P** is located at coordinate **(2,3)** and the letter **Z** is located at coordinate **(4,1)**.\n",
    "\n",
    "Given the string `word`, return the minimum total distance to type such string using only two fingers. The distance between coordinates **(x<sub style=\"display: inline;\">1</sub>,y<sub style=\"display: inline;\">1</sub>)** and **(x<sub style=\"display: inline;\">2</sub>,y<sub style=\"display: inline;\">2</sub>)** is **|x<sub style=\"display: inline;\">1</sub> - x<sub style=\"display: inline;\">2</sub>| + |y<sub style=\"display: inline;\">1</sub> - y<sub style=\"display: inline;\">2</sub>|**. \n",
    "\n",
    "Note that the initial positions of your two fingers are considered free so don't count towards your total distance, also your two fingers do not have to start at the first letter or the first two letters.\n",
    "\n",
    "**Example 1:**\n",
    "\n",
    "```\n",
    "Input: word = \"CAKE\"\n",
    "Output: 3\n",
    "Explanation: \n",
    "Using two fingers, one optimal way to type \"CAKE\" is: \n",
    "Finger 1 on letter 'C' -> cost = 0 \n",
    "Finger 1 on letter 'A' -> cost = Distance from letter 'C' to letter 'A' = 2 \n",
    "Finger 2 on letter 'K' -> cost = 0 \n",
    "Finger 2 on letter 'E' -> cost = Distance from letter 'K' to letter 'E' = 1 \n",
    "Total distance = 3\n",
    "```\n",
    "\n",
    "**Example 2:**\n",
    "\n",
    "```\n",
    "Input: word = \"HAPPY\"\n",
    "Output: 6\n",
    "Explanation: \n",
    "Using two fingers, one optimal way to type \"HAPPY\" is:\n",
    "Finger 1 on letter 'H' -> cost = 0\n",
    "Finger 1 on letter 'A' -> cost = Distance from letter 'H' to letter 'A' = 2\n",
    "Finger 2 on letter 'P' -> cost = 0\n",
    "Finger 2 on letter 'P' -> cost = Distance from letter 'P' to letter 'P' = 0\n",
    "Finger 1 on letter 'Y' -> cost = Distance from letter 'A' to letter 'Y' = 4\n",
    "Total distance = 6\n",
    "```\n",
    "\n",
    "**Example 3:**\n",
    "\n",
    "```\n",
    "Input: word = \"NEW\"\n",
    "Output: 3\n",
    "```\n",
    "\n",
    "**Example 4:**\n",
    "\n",
    "```\n",
    "Input: word = \"YEAR\"\n",
    "Output: 7\n",
    "```\n",
    "\n",
    "**Constraints:**\n",
    "\n",
    "*   `2 <= word.length <= 300`\n",
    "*   Each `word[i]` is an English uppercase letter."
   ]
  },
  {
   "cell_type": "code",
   "execution_count": 1,
   "metadata": {},
   "outputs": [],
   "source": [
    "from functools import lru_cache\n",
    "\n",
    "class Solution:\n",
    "    def minimumDistance(self, word: str) -> int:\n",
    "        def dist(ch1, ch2):\n",
    "            x1,y1 = divmod(ord(ch1)-ord('A'), 6)\n",
    "            x2,y2 = divmod(ord(ch2)-ord('A'), 6)\n",
    "            return abs(x2-x1)+abs(y2-y1)\n",
    "        \n",
    "        @lru_cache(None)\n",
    "        def dp(n, l, r):\n",
    "            if n==-1:\n",
    "                return 0\n",
    "            return min(dp(n-1, word[n], r) + dist(l, word[n]), dp(n-1, l, word[n]) + dist(r, word[n]))\n",
    "        ans=float('inf')\n",
    "        for i in range(26):\n",
    "            for j in range(26):\n",
    "                l = chr(ord('A')+i)\n",
    "                r = chr(ord('A')+j)\n",
    "                ans = min(ans, dp(len(word)-1, l, r))\n",
    "        return ans"
   ]
  },
  {
   "cell_type": "code",
   "execution_count": 2,
   "metadata": {},
   "outputs": [
    {
     "data": {
      "text/plain": [
       "7"
      ]
     },
     "execution_count": 2,
     "metadata": {},
     "output_type": "execute_result"
    }
   ],
   "source": [
    "Solution().minimumDistance(word=\"YEAR\")"
   ]
  },
  {
   "cell_type": "code",
   "execution_count": null,
   "metadata": {},
   "outputs": [],
   "source": []
  }
 ],
 "metadata": {
  "kernelspec": {
   "display_name": "Python 3",
   "language": "python",
   "name": "python3"
  },
  "language_info": {
   "codemirror_mode": {
    "name": "ipython",
    "version": 3
   },
   "file_extension": ".py",
   "mimetype": "text/x-python",
   "name": "python",
   "nbconvert_exporter": "python",
   "pygments_lexer": "ipython3",
   "version": "3.6.8"
  }
 },
 "nbformat": 4,
 "nbformat_minor": 2
}
