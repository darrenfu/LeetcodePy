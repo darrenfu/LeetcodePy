{
 "cells": [
  {
   "cell_type": "code",
   "execution_count": 3,
   "metadata": {},
   "outputs": [],
   "source": [
    "import sys\n",
    "sys.path.append('..')\n",
    "from leetcode.tree.treenode import TreeNode"
   ]
  },
  {
   "cell_type": "code",
   "execution_count": 32,
   "metadata": {},
   "outputs": [],
   "source": [
    "# https://leetcode.com/problems/count-univalue-subtrees/discuss/67646/Python-solution-with-comments-(bottom-up)\n",
    "# Runtime: 40 ms, faster than 82.01%\n",
    "class Solution:\n",
    "    def countUnivalSubtrees(self, root: TreeNode) -> int:\n",
    "        def isUnival(node: TreeNode) -> bool:\n",
    "            nonlocal ans\n",
    "            if not node:\n",
    "                return True\n",
    "            l = isUnival(node.left)\n",
    "            r = isUnival(node.right)\n",
    "            if l and r and \\\n",
    "                (not node.left or node.left.val == node.val) and \\\n",
    "                (not node.right or node.right.val == node.val):\n",
    "                ans += 1\n",
    "                return True\n",
    "            return False\n",
    "        ans = 0\n",
    "        isUnival(root)\n",
    "        return ans"
   ]
  },
  {
   "cell_type": "code",
   "execution_count": 35,
   "metadata": {},
   "outputs": [],
   "source": [
    "# Another form of DFS\n",
    "# https://leetcode.com/problems/count-univalue-subtrees/discuss/67602/Java-11-lines-added\n",
    "class Solution:\n",
    "    def countUnivalSubtrees(self, root: TreeNode) -> int:\n",
    "        def isUnival(node: TreeNode, val: int) -> bool:\n",
    "            nonlocal ans\n",
    "            if not node:\n",
    "                return True\n",
    "            l = isUnival(node.left, node.val)\n",
    "            r = isUnival(node.right, node.val)\n",
    "            if not l or not r:\n",
    "                return False\n",
    "            ans += 1\n",
    "            return node.val == val # val is from parent node\n",
    "        ans = 0\n",
    "        isUnival(root, 0)\n",
    "        return ans"
   ]
  },
  {
   "cell_type": "code",
   "execution_count": 36,
   "metadata": {},
   "outputs": [
    {
     "data": {
      "text/plain": [
       "4"
      ]
     },
     "execution_count": 36,
     "metadata": {},
     "output_type": "execute_result"
    }
   ],
   "source": [
    "#              5\n",
    "#             / \\\n",
    "#            1   5\n",
    "#           / \\   \\\n",
    "#          5   5   5\n",
    "root = TreeNode.deserialize('[5,1,5,5,5,null,5]')\n",
    "Solution().countUnivalSubtrees(root)"
   ]
  },
  {
   "cell_type": "code",
   "execution_count": null,
   "metadata": {},
   "outputs": [],
   "source": []
  }
 ],
 "metadata": {
  "kernelspec": {
   "display_name": "Python 3",
   "language": "python",
   "name": "python3"
  },
  "language_info": {
   "codemirror_mode": {
    "name": "ipython",
    "version": 3
   },
   "file_extension": ".py",
   "mimetype": "text/x-python",
   "name": "python",
   "nbconvert_exporter": "python",
   "pygments_lexer": "ipython3",
   "version": "3.6.8"
  }
 },
 "nbformat": 4,
 "nbformat_minor": 2
}
