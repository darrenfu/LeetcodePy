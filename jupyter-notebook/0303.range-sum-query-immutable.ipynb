{
 "cells": [
  {
   "cell_type": "markdown",
   "metadata": {},
   "source": [
    "### [303\\. Range Sum Query - Immutable](https://leetcode.com/problems/range-sum-query-immutable/)\n",
    "\n",
    "Difficulty: **Easy**\n",
    "\n",
    "\n",
    "Given an integer array _nums_, find the sum of the elements between indices _i_ and _j_ (_i_ ≤ _j_), inclusive.\n",
    "\n",
    "**Example:**  \n",
    "\n",
    "```\n",
    "Given nums = [-2, 0, 3, -5, 2, -1]\n",
    "\n",
    "sumRange(0, 2) -> 1\n",
    "sumRange(2, 5) -> -1\n",
    "sumRange(0, 5) -> -3\n",
    "```\n",
    "\n",
    "**Note:**  \n",
    "\n",
    "1.  You may assume that the array does not change.\n",
    "2.  There are many calls to _sumRange_ function."
   ]
  },
  {
   "cell_type": "code",
   "execution_count": 2,
   "metadata": {},
   "outputs": [],
   "source": [
    "from typing import List\n",
    "\n",
    "class NumArray:\n",
    "\n",
    "    def __init__(self, nums: List[int]):\n",
    "        self.presums = [0]\n",
    "        for x in nums:\n",
    "            self.presums.append(self.presums[-1] + x)\n",
    "\n",
    "    def sumRange(self, i: int, j: int) -> int:\n",
    "        return self.presums[j+1] - self.presums[i]"
   ]
  },
  {
   "cell_type": "code",
   "execution_count": 5,
   "metadata": {},
   "outputs": [
    {
     "name": "stdout",
     "output_type": "stream",
     "text": [
      "1\n",
      "-1\n",
      "-3\n"
     ]
    }
   ],
   "source": [
    "na = NumArray(nums=[-2, 0, 3, -5, 2, -1])\n",
    "print(na.sumRange(0, 2))\n",
    "print(na.sumRange(2, 5))\n",
    "print(na.sumRange(0, 5))"
   ]
  },
  {
   "cell_type": "code",
   "execution_count": null,
   "metadata": {},
   "outputs": [],
   "source": []
  }
 ],
 "metadata": {
  "kernelspec": {
   "display_name": "Python 3",
   "language": "python",
   "name": "python3"
  },
  "language_info": {
   "codemirror_mode": {
    "name": "ipython",
    "version": 3
   },
   "file_extension": ".py",
   "mimetype": "text/x-python",
   "name": "python",
   "nbconvert_exporter": "python",
   "pygments_lexer": "ipython3",
   "version": "3.6.8"
  }
 },
 "nbformat": 4,
 "nbformat_minor": 2
}
