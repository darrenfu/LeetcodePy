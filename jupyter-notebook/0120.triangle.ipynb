{
 "cells": [
  {
   "cell_type": "markdown",
   "metadata": {},
   "source": [
    "### [120\\. Triangle](https://leetcode.com/problems/triangle/)\n",
    "\n",
    "Difficulty: **Medium**\n",
    "\n",
    "\n",
    "Given a triangle, find the minimum path sum from top to bottom. Each step you may move to adjacent numbers on the row below.\n",
    "\n",
    "For example, given the following triangle\n",
    "\n",
    "```\n",
    "[\n",
    "     [2],\n",
    "    [3,4],\n",
    "   [6,5,7],\n",
    "  [4,1,8,3]\n",
    "]\n",
    "```\n",
    "\n",
    "The minimum path sum from top to bottom is `11` (i.e., **2** + **3** + **5** + **1** = 11).\n",
    "\n",
    "**Note:**\n",
    "\n",
    "Bonus point if you are able to do this using only _O_(_n_) extra space, where _n_ is the total number of rows in the triangle."
   ]
  },
  {
   "cell_type": "code",
   "execution_count": 1,
   "metadata": {},
   "outputs": [],
   "source": [
    "# DP formula: d(i,j) = t[i,j] + min(d(i+1,j), d(i+1,j+1))\n",
    "# T: O(2^N) -reduce-to-> O(N^2) (node # in the triangle)\n",
    "from typing import List\n",
    "from functools import lru_cache\n",
    "\n",
    "class Solution:\n",
    "    def minimumTotal(self, triangle: List[List[int]]) -> int:\n",
    "        L = len(triangle)\n",
    "        @lru_cache(None)\n",
    "        def dp(r: int, c: int) -> int:\n",
    "            if r == L-1: return triangle[r][c]\n",
    "            return triangle[r][c] + min(dp(r+1, c), dp(r+1, c+1))\n",
    "        return dp(0,0)"
   ]
  },
  {
   "cell_type": "code",
   "execution_count": 19,
   "metadata": {},
   "outputs": [],
   "source": [
    "# memorization - TLE\n",
    "from typing import List\n",
    "\n",
    "class Solution:\n",
    "    def minimumTotal(self, triangle: List[List[int]]) -> int:\n",
    "        L = len(triangle)\n",
    "        memo = []\n",
    "        for i in range(L):\n",
    "            memo += [-1 for _ in range(i+1)],\n",
    "            \n",
    "        def dp(r: int, c: int) -> int:\n",
    "            if memo[r][c] > -1: return memo[r][c]\n",
    "            if r == L-1:\n",
    "                memo[r][c] = triangle[r][c]\n",
    "            else:\n",
    "                memo[r][c] = triangle[r][c] + min(dp(r+1, c), dp(r+1, c+1))\n",
    "            return memo[r][c]\n",
    "        return dp(0,0)"
   ]
  },
  {
   "cell_type": "code",
   "execution_count": 23,
   "metadata": {},
   "outputs": [],
   "source": [
    "from typing import List\n",
    "\n",
    "class Solution:\n",
    "    def minimumTotal(self, triangle: List[List[int]]) -> int:\n",
    "        L = len(triangle)\n",
    "        memo = []\n",
    "        for i in range(L+1): # one more row (i=L, aka. memo[L][j] = 0) to store zero states (init states)\n",
    "            memo += [0 for _ in range(i+1)],\n",
    "        \n",
    "        for i in range(L-1, -1, -1):\n",
    "            for j in range(i+1):\n",
    "                memo[i][j] = triangle[i][j] + min(memo[i+1][j], memo[i+1][j+1])\n",
    "        return memo[0][0]"
   ]
  },
  {
   "cell_type": "code",
   "execution_count": 24,
   "metadata": {},
   "outputs": [
    {
     "data": {
      "text/plain": [
       "11"
      ]
     },
     "execution_count": 24,
     "metadata": {},
     "output_type": "execute_result"
    }
   ],
   "source": [
    "Solution().minimumTotal(triangle=[\n",
    "     [2],\n",
    "    [3,4],\n",
    "   [6,5,7],\n",
    "  [4,1,8,3]\n",
    "])"
   ]
  },
  {
   "cell_type": "code",
   "execution_count": null,
   "metadata": {},
   "outputs": [],
   "source": []
  }
 ],
 "metadata": {
  "kernelspec": {
   "display_name": "Python 3",
   "language": "python",
   "name": "python3"
  },
  "language_info": {
   "codemirror_mode": {
    "name": "ipython",
    "version": 3
   },
   "file_extension": ".py",
   "mimetype": "text/x-python",
   "name": "python",
   "nbconvert_exporter": "python",
   "pygments_lexer": "ipython3",
   "version": "3.6.8"
  }
 },
 "nbformat": 4,
 "nbformat_minor": 2
}
