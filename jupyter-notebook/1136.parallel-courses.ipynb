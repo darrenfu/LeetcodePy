{
 "cells": [
  {
   "cell_type": "code",
   "execution_count": 8,
   "metadata": {},
   "outputs": [],
   "source": [
    "from typing import List\n",
    "from collections import defaultdict\n",
    "\n",
    "class Solution:\n",
    "    \"\"\"Kahn's algorithm for Topological sorting\n",
    "    https://leetcode.com/problems/parallel-courses/discuss/344807/Python-3-Topological-sorting\n",
    "    https://leetcode.com/problems/parallel-courses/discuss/353234/Python-BFS-attached-with-follow-up-questions-(same-pattern)\n",
    "    Follow-up: If only pick at most k courses in one semester, the shortest time to finish all courses\n",
    "    \n",
    "    269. Alien Dictionary literally - same pattern even same step, highly recommended to take a look after solving this\n",
    "    207. Course Schedule - this one ask to check wether we could choose all courses, so dfs to solve may be better\n",
    "    210. Course Schedule II - record path version of Course Schedule I\n",
    "    \"\"\"\n",
    "    def minimumSemesters(self, N: int, relations: List[List[int]]) -> int:\n",
    "        g_out = defaultdict(set)\n",
    "        g_in = defaultdict(set)\n",
    "        for src, dest in relations:\n",
    "            g_out[src].add(dest)\n",
    "            g_in[dest].add(src)\n",
    "        \n",
    "        queue = []\n",
    "        max_level = 0\n",
    "        # initialize queue with all first level vertices\n",
    "        for i in range(1, N+1):\n",
    "            if not g_in[i]:  # check in_degree = 0\n",
    "                queue.append((1, i))  # (level, vertex_seq)\n",
    "        \n",
    "        visited = set()\n",
    "        # BFS\n",
    "        while queue:\n",
    "            level, v1 = queue.pop(0)\n",
    "            max_level = max(max_level, level)\n",
    "            visited.add(v1)\n",
    "            for v2 in g_out[v1]:  # check all possible next level of vertices\n",
    "                g_in[v2].remove(v1)  # all in_degree reduct by 1\n",
    "                if not g_in[v2]:\n",
    "                    queue.append((level+1, v2))\n",
    "        \n",
    "        return max_level if len(visited) == N else -1"
   ]
  },
  {
   "cell_type": "code",
   "execution_count": 9,
   "metadata": {},
   "outputs": [
    {
     "data": {
      "text/plain": [
       "2"
      ]
     },
     "execution_count": 9,
     "metadata": {},
     "output_type": "execute_result"
    }
   ],
   "source": [
    "Solution().minimumSemesters(N = 3, relations = [[1,3],[2,3]])"
   ]
  },
  {
   "cell_type": "code",
   "execution_count": 10,
   "metadata": {},
   "outputs": [
    {
     "data": {
      "text/plain": [
       "-1"
      ]
     },
     "execution_count": 10,
     "metadata": {},
     "output_type": "execute_result"
    }
   ],
   "source": [
    "Solution().minimumSemesters(N = 3, relations = [[1,2],[2,3],[3,1]])"
   ]
  },
  {
   "cell_type": "code",
   "execution_count": 11,
   "metadata": {},
   "outputs": [
    {
     "data": {
      "text/plain": [
       "3"
      ]
     },
     "execution_count": 11,
     "metadata": {},
     "output_type": "execute_result"
    }
   ],
   "source": [
    "Solution().minimumSemesters(N = 4, relations = [[1,3],[4,2],[2,3]])"
   ]
  }
 ],
 "metadata": {
  "kernelspec": {
   "display_name": "Python 3",
   "language": "python",
   "name": "python3"
  },
  "language_info": {
   "codemirror_mode": {
    "name": "ipython",
    "version": 3
   },
   "file_extension": ".py",
   "mimetype": "text/x-python",
   "name": "python",
   "nbconvert_exporter": "python",
   "pygments_lexer": "ipython3",
   "version": "3.6.8"
  }
 },
 "nbformat": 4,
 "nbformat_minor": 2
}
