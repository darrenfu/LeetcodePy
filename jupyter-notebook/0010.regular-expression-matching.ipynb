{
 "cells": [
  {
   "cell_type": "code",
   "execution_count": 8,
   "metadata": {},
   "outputs": [],
   "source": [
    "#* DP\n",
    "# similar to Edit Distance, inducting from the end\n",
    "# time/space complexity: O(m*n)\n",
    "# Runtime: 64 ms, faster than 49.08%\n",
    "# https://leetcode.com/problems/regular-expression-matching/discuss/5651/Easy-DP-Java-Solution-with-detailed-Explanation\n",
    "class Solution:\n",
    "    def isMatch(self, s: str, p: str) -> bool:\n",
    "        if s is None or p is None: return False\n",
    "        m, n = len(s), len(p)\n",
    "        dp = [[False] * (n+1) for _ in range(m+1)]\n",
    "        dp[0][0] = True\n",
    "        for j in range(1,n+1):\n",
    "            if p[j-1] == '*':\n",
    "                dp[0][j] = dp[0][j-1] or (j > 1 and dp[0][j-2])\n",
    "                \n",
    "        for i in range(1, m+1):\n",
    "            for j in range(1, n+1):\n",
    "                if s[i-1] == p[j-1] or p[j-1] == '.':\n",
    "                    # Update dp by referring the diagonal element.\n",
    "                    dp[i][j] = dp[i-1][j-1] # match single a or .\n",
    "                if p[j-1] == '*':\n",
    "                    if s[i-1] == p[j-2] or p[j-2] == '.':\n",
    "                        # three cases:\n",
    "                        # 1. dp[i-1][j] - a* counts as multiple a, Propagations (referring to the horizontal element)\n",
    "                        # 2. dp[i][j-1] - a* counts as single a, Eliminations (referring to the vertical element)\n",
    "                        # 3. dp[i][j-2] - a* counts as empty, Eliminations (referring to the vertical element)\n",
    "                        dp[i][j] = dp[i-1][j] or dp[i][j-1] or dp[i][j-2]\n",
    "                    else:\n",
    "                        dp[i][j] = dp[i][j-2] # skip unmatched a* counts as empty\n",
    "        return dp[m][n]"
   ]
  },
  {
   "cell_type": "code",
   "execution_count": 14,
   "metadata": {},
   "outputs": [],
   "source": [
    "# backtracking\n",
    "# Runtime: 44 ms, faster than 95.51%\n",
    "# https://leetcode.com/problems/regular-expression-matching/discuss/5678/Fast-Python-solution-with-backtracking-and-caching-%2B-DP-solution\n",
    "class Solution:\n",
    "    def isMatch(self, s: str, p: str) -> bool:\n",
    "        cache = {}\n",
    "        def backtrack(s: str, p: str) -> bool:\n",
    "            if (s, p) in cache:\n",
    "                return cache[(s, p)]\n",
    "            if not p:\n",
    "                return not s\n",
    "            if p[-1] == '*':\n",
    "                if backtrack(s, p[:-2]):\n",
    "                    cache[(s, p)] = True\n",
    "                    return cache[(s, p)]\n",
    "                if s and (p[-2] == s[-1] or p[-2] == '.') and backtrack(s[:-1], p):\n",
    "                    cache[(s, p)] = True\n",
    "                    return cache[(s, p)]\n",
    "            if s and (p[-1] == s[-1] or p[-1] == '.') and backtrack(s[:-1], p[:-1]):\n",
    "                cache[(s, p)] = True\n",
    "                return cache[(s, p)]\n",
    "            cache[(s, p)] = False\n",
    "            return cache[(s, p)]\n",
    "        return backtrack(s, p)"
   ]
  },
  {
   "cell_type": "code",
   "execution_count": 76,
   "metadata": {},
   "outputs": [],
   "source": [
    "# NFA\n",
    "# Runtime: 48 ms, faster than 88.50%\n",
    "# https://leetcode.com/problems/regular-expression-matching/discuss/5759/Very-beautiful-NFA-solution-using-JavaScript\n",
    "from typing import Set\n",
    "\n",
    "class Solution:\n",
    "    def isMatch(self, s: str, p: str) -> bool:\n",
    "        def addState(states: Set[int], pos: int):\n",
    "            nonlocal p, n\n",
    "            if pos < n and p[pos] == '*':\n",
    "                states.add(pos-1)\n",
    "                addState(states, pos+1)\n",
    "            else:\n",
    "                states.add(pos)\n",
    "                if pos+1 < n and p[pos+1] == '*':\n",
    "                    addState(states, pos+2)\n",
    "                    \n",
    "        states = set()\n",
    "        n = len(p)\n",
    "        addState(states, 0)\n",
    "        \n",
    "        for ch in s:\n",
    "            next_states = set()\n",
    "            for state in states:\n",
    "                if state < n and (p[state] == ch or p[state] == '.'):\n",
    "                    addState(next_states, state+1)\n",
    "            states = next_states\n",
    "        return n in states"
   ]
  },
  {
   "cell_type": "code",
   "execution_count": 77,
   "metadata": {},
   "outputs": [
    {
     "data": {
      "text/plain": [
       "False"
      ]
     },
     "execution_count": 77,
     "metadata": {},
     "output_type": "execute_result"
    }
   ],
   "source": [
    "Solution().isMatch(s=\"aa\", p=\"a\")"
   ]
  },
  {
   "cell_type": "code",
   "execution_count": 78,
   "metadata": {},
   "outputs": [
    {
     "data": {
      "text/plain": [
       "True"
      ]
     },
     "execution_count": 78,
     "metadata": {},
     "output_type": "execute_result"
    }
   ],
   "source": [
    "Solution().isMatch(s=\"aa\", p=\"a*\")"
   ]
  },
  {
   "cell_type": "code",
   "execution_count": 79,
   "metadata": {},
   "outputs": [
    {
     "data": {
      "text/plain": [
       "True"
      ]
     },
     "execution_count": 79,
     "metadata": {},
     "output_type": "execute_result"
    }
   ],
   "source": [
    "Solution().isMatch(s=\"ab\", p=\".*\")"
   ]
  },
  {
   "cell_type": "code",
   "execution_count": 80,
   "metadata": {},
   "outputs": [
    {
     "data": {
      "text/plain": [
       "True"
      ]
     },
     "execution_count": 80,
     "metadata": {},
     "output_type": "execute_result"
    }
   ],
   "source": [
    "Solution().isMatch(s=\"aab\", p=\"c*a*b\")"
   ]
  },
  {
   "cell_type": "code",
   "execution_count": 81,
   "metadata": {},
   "outputs": [
    {
     "data": {
      "text/plain": [
       "False"
      ]
     },
     "execution_count": 81,
     "metadata": {},
     "output_type": "execute_result"
    }
   ],
   "source": [
    "Solution().isMatch(s=\"mississippi\", p=\"mis*is*p*.\")"
   ]
  },
  {
   "cell_type": "code",
   "execution_count": 82,
   "metadata": {},
   "outputs": [
    {
     "data": {
      "text/plain": [
       "True"
      ]
     },
     "execution_count": 82,
     "metadata": {},
     "output_type": "execute_result"
    }
   ],
   "source": [
    "Solution().isMatch(s=\"\", p=\".*\")"
   ]
  },
  {
   "cell_type": "code",
   "execution_count": null,
   "metadata": {},
   "outputs": [],
   "source": []
  }
 ],
 "metadata": {
  "kernelspec": {
   "display_name": "Python 3",
   "language": "python",
   "name": "python3"
  },
  "language_info": {
   "codemirror_mode": {
    "name": "ipython",
    "version": 3
   },
   "file_extension": ".py",
   "mimetype": "text/x-python",
   "name": "python",
   "nbconvert_exporter": "python",
   "pygments_lexer": "ipython3",
   "version": "3.6.8"
  }
 },
 "nbformat": 4,
 "nbformat_minor": 2
}
