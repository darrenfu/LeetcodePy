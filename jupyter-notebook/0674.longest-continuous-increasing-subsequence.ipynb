{
 "cells": [
  {
   "cell_type": "markdown",
   "metadata": {},
   "source": [
    "### [674\\. Longest Continuous Increasing Subsequence](https://leetcode.com/problems/longest-continuous-increasing-subsequence/)\n",
    "\n",
    "Difficulty: **Easy**\n",
    "\n",
    "\n",
    "Given an unsorted array of integers, find the length of longest `continuous` increasing subsequence (subarray).\n",
    "\n",
    "**Example 1:**  \n",
    "\n",
    "```\n",
    "Input: [1,3,5,4,7]\n",
    "Output: 3\n",
    "Explanation: The longest continuous increasing subsequence is [1,3,5], its length is 3\\. \n",
    "Even though [1,3,5,7] is also an increasing subsequence, it's not a continuous one where 5 and 7 are separated by 4\\. \n",
    "```\n",
    "\n",
    "**Example 2:**  \n",
    "\n",
    "```\n",
    "Input: [2,2,2,2,2]\n",
    "Output: 1\n",
    "Explanation: The longest continuous increasing subsequence is [2], its length is 1\\. \n",
    "```\n",
    "\n",
    "**Note:** Length of the array will not exceed 10,000."
   ]
  },
  {
   "cell_type": "code",
   "execution_count": 31,
   "metadata": {},
   "outputs": [],
   "source": [
    "from typing import List\n",
    "\n",
    "class Solution:\n",
    "    def findLengthOfLCIS(self, nums: List[int]) -> int:\n",
    "        if not nums: return 0\n",
    "        L = len(nums)\n",
    "        global_longest = 1\n",
    "        i = 0\n",
    "        while i < L-1:\n",
    "            local_longest = 1\n",
    "            incr = True\n",
    "            for j in range(i, L-1):\n",
    "                if nums[j] >= nums[j+1]:\n",
    "                    local_longest = j-i+1\n",
    "                    i = j\n",
    "                    incr = False\n",
    "                    break\n",
    "            if incr: # edge case: ending element is counted as increasing subseq\n",
    "                local_longest = L-i\n",
    "            if global_longest < local_longest:\n",
    "                global_longest = local_longest\n",
    "            i += 1\n",
    "        return global_longest"
   ]
  },
  {
   "cell_type": "code",
   "execution_count": 32,
   "metadata": {},
   "outputs": [
    {
     "data": {
      "text/plain": [
       "3"
      ]
     },
     "execution_count": 32,
     "metadata": {},
     "output_type": "execute_result"
    }
   ],
   "source": [
    "Solution().findLengthOfLCIS([1,3,5,4,7])"
   ]
  },
  {
   "cell_type": "code",
   "execution_count": 33,
   "metadata": {},
   "outputs": [
    {
     "data": {
      "text/plain": [
       "1"
      ]
     },
     "execution_count": 33,
     "metadata": {},
     "output_type": "execute_result"
    }
   ],
   "source": [
    "Solution().findLengthOfLCIS([2,2,2,2,2])"
   ]
  },
  {
   "cell_type": "code",
   "execution_count": 34,
   "metadata": {},
   "outputs": [
    {
     "data": {
      "text/plain": [
       "4"
      ]
     },
     "execution_count": 34,
     "metadata": {},
     "output_type": "execute_result"
    }
   ],
   "source": [
    "Solution().findLengthOfLCIS([1,3,5,7])"
   ]
  },
  {
   "cell_type": "code",
   "execution_count": 35,
   "metadata": {},
   "outputs": [
    {
     "data": {
      "text/plain": [
       "2"
      ]
     },
     "execution_count": 35,
     "metadata": {},
     "output_type": "execute_result"
    }
   ],
   "source": [
    "Solution().findLengthOfLCIS([2,1,3])"
   ]
  },
  {
   "cell_type": "code",
   "execution_count": null,
   "metadata": {},
   "outputs": [],
   "source": []
  }
 ],
 "metadata": {
  "kernelspec": {
   "display_name": "Python 3",
   "language": "python",
   "name": "python3"
  },
  "language_info": {
   "codemirror_mode": {
    "name": "ipython",
    "version": 3
   },
   "file_extension": ".py",
   "mimetype": "text/x-python",
   "name": "python",
   "nbconvert_exporter": "python",
   "pygments_lexer": "ipython3",
   "version": "3.6.8"
  }
 },
 "nbformat": 4,
 "nbformat_minor": 2
}
