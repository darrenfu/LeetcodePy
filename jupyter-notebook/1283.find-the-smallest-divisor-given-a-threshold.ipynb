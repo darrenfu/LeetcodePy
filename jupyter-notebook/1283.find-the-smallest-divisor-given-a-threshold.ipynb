{
 "cells": [
  {
   "cell_type": "markdown",
   "metadata": {},
   "source": [
    "### [1283\\. Find the Smallest Divisor Given a Threshold](https://leetcode.com/problems/find-the-smallest-divisor-given-a-threshold/)\n",
    "\n",
    "Difficulty: **Medium**\n",
    "\n",
    "\n",
    "Given an array of integers `nums` and an integer `threshold`, we will choose a positive integer divisor and divide all the array by it and sum the result of the division. Find the **smallest** divisor such that the result mentioned above is less than or equal to `threshold`.\n",
    "\n",
    "Each result of division is rounded to the nearest integer greater than or equal to that element. (For example: 7/3 = 3 and 10/2 = 5).\n",
    "\n",
    "It is guaranteed that there will be an answer.\n",
    "\n",
    "**Example 1:**\n",
    "\n",
    "```\n",
    "Input: nums = [1,2,5,9], threshold = 6\n",
    "Output: 5\n",
    "Explanation: We can get a sum to 17 (1+2+5+9) if the divisor is 1\\. \n",
    "If the divisor is 4 we can get a sum to 7 (1+1+2+3) and if the divisor is 5 the sum will be 5 (1+1+1+2). \n",
    "```\n",
    "\n",
    "**Example 2:**\n",
    "\n",
    "```\n",
    "Input: nums = [2,3,5,7,11], threshold = 11\n",
    "Output: 3\n",
    "```\n",
    "\n",
    "**Example 3:**\n",
    "\n",
    "```\n",
    "Input: nums = [19], threshold = 5\n",
    "Output: 4\n",
    "```\n",
    "\n",
    "**Constraints:**\n",
    "\n",
    "*   `1 <= nums.length <= 5 * 10^4`\n",
    "*   `1 <= nums[i] <= 10^6`\n",
    "*   `nums.length <= threshold <= 10^6`"
   ]
  },
  {
   "cell_type": "code",
   "execution_count": 104,
   "metadata": {},
   "outputs": [],
   "source": [
    "# Binary Search\n",
    "# T: O(nlogM) M<=10^6\n",
    "# https://leetcode.com/problems/find-the-smallest-divisor-given-a-threshold/discuss/446376/JavaC%2B%2BPython-Bianry-Search\n",
    "from typing import List\n",
    "from math import ceil\n",
    "\n",
    "class Solution:\n",
    "    def smallestDivisor(self, nums: List[int], threshold: int) -> int:\n",
    "        lo, hi = 1, max(nums)\n",
    "        res = hi\n",
    "        if sum(nums) <= threshold: return lo\n",
    "        print(\"l h m t\")\n",
    "        while lo < hi:\n",
    "            mid = lo + (hi-lo)//2\n",
    "#             target = sum(ceil(x/mid) for x in nums)\n",
    "            target = sum((x+mid-1)//mid for x in nums)\n",
    "            print(lo,hi,mid,target)\n",
    "            # if target == threshold is True, there could still be a lower divisor\n",
    "            if target > threshold:\n",
    "                lo = mid+1\n",
    "            else:\n",
    "                hi = mid\n",
    "                res = hi\n",
    "        return res # why can we also return lo?"
   ]
  },
  {
   "cell_type": "code",
   "execution_count": 105,
   "metadata": {},
   "outputs": [
    {
     "name": "stdout",
     "output_type": "stream",
     "text": [
      "l h m t\n",
      "1 9 5 5\n",
      "1 5 3 7\n",
      "4 5 4 7\n"
     ]
    },
    {
     "data": {
      "text/plain": [
       "5"
      ]
     },
     "execution_count": 105,
     "metadata": {},
     "output_type": "execute_result"
    }
   ],
   "source": [
    "Solution().smallestDivisor(nums = [1,2,5,9], threshold = 6)"
   ]
  },
  {
   "cell_type": "code",
   "execution_count": 106,
   "metadata": {},
   "outputs": [
    {
     "name": "stdout",
     "output_type": "stream",
     "text": [
      "l h m t\n",
      "1 11 6 7\n",
      "1 6 3 11\n",
      "1 3 2 16\n"
     ]
    },
    {
     "data": {
      "text/plain": [
       "3"
      ]
     },
     "execution_count": 106,
     "metadata": {},
     "output_type": "execute_result"
    }
   ],
   "source": [
    "Solution().smallestDivisor(nums = [2,3,5,7,11], threshold = 11)"
   ]
  },
  {
   "cell_type": "code",
   "execution_count": 107,
   "metadata": {},
   "outputs": [
    {
     "name": "stdout",
     "output_type": "stream",
     "text": [
      "l h m t\n",
      "1 19 10 2\n",
      "1 10 5 4\n",
      "1 5 3 7\n",
      "4 5 4 5\n"
     ]
    },
    {
     "data": {
      "text/plain": [
       "4"
      ]
     },
     "execution_count": 107,
     "metadata": {},
     "output_type": "execute_result"
    }
   ],
   "source": [
    "Solution().smallestDivisor(nums = [19], threshold = 5)"
   ]
  },
  {
   "cell_type": "code",
   "execution_count": 108,
   "metadata": {},
   "outputs": [
    {
     "name": "stdout",
     "output_type": "stream",
     "text": [
      "l h m t\n",
      "1 98992 49496 155\n",
      "1 49496 24748 252\n",
      "1 24748 12374 453\n",
      "1 12374 6187 855\n",
      "1 6187 3094 1661\n",
      "3095 6187 4641 1125\n",
      "4642 6187 5414 971\n",
      "4642 5414 5028 1047\n",
      "5029 5414 5221 1001\n",
      "5222 5414 5318 988\n",
      "5222 5318 5270 992\n",
      "5271 5318 5294 990\n",
      "5295 5318 5306 990\n",
      "5307 5318 5312 990\n",
      "5313 5318 5315 989\n",
      "5316 5318 5317 988\n",
      "5316 5317 5316 989\n"
     ]
    },
    {
     "data": {
      "text/plain": [
       "5317"
      ]
     },
     "execution_count": 108,
     "metadata": {},
     "output_type": "execute_result"
    }
   ],
   "source": [
    "Solution().smallestDivisor([81488,78770,69737,14847,36203,85812,62771,25584,40434,55397,95643,48474,63802,63203,69258,16397,62134,68311,48931,4317,488,76613,70301,24052,67069,8018,61725,98992,86206,54407,33175,65597,5215,11866,9420,93851,66858,78097,70255,92021,50353,91451,52417,411,81332,27928,51842,83525,74458,10995,18792,14219,31190,86907,412,45731,9730,1258,94589,84673,20469,479,71501,68751,18230,77410,41662,9005,72532,36514,5203,528,59746,45580,72611,30386,40609,30783,70776,78765,97187,19997,16257,86367,80891,43219,55020,4753,2785,70141,86103,25092,50595,73151,69139,92893,18011,94848,65111,5657], 988)"
   ]
  },
  {
   "cell_type": "code",
   "execution_count": null,
   "metadata": {},
   "outputs": [],
   "source": []
  }
 ],
 "metadata": {
  "kernelspec": {
   "display_name": "Python 3",
   "language": "python",
   "name": "python3"
  },
  "language_info": {
   "codemirror_mode": {
    "name": "ipython",
    "version": 3
   },
   "file_extension": ".py",
   "mimetype": "text/x-python",
   "name": "python",
   "nbconvert_exporter": "python",
   "pygments_lexer": "ipython3",
   "version": "3.6.8"
  }
 },
 "nbformat": 4,
 "nbformat_minor": 2
}
