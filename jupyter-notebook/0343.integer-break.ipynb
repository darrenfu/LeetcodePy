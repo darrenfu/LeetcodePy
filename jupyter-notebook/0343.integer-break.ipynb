{
 "cells": [
  {
   "cell_type": "markdown",
   "metadata": {},
   "source": [
    "### [343\\. Integer Break](https://leetcode.com/problems/integer-break/)\n",
    "\n",
    "Difficulty: **Medium**\n",
    "\n",
    "\n",
    "Given a positive integer _n_, break it into the sum of **at least** two positive integers and maximize the product of those integers. Return the maximum product you can get.\n",
    "\n",
    "**Example 1:**\n",
    "\n",
    "\n",
    "```\n",
    "Input: 2\n",
    "Output: 1\n",
    "Explanation: 2 = 1 + 1, 1 × 1 = 1.\n",
    "```\n",
    "\n",
    "\n",
    "**Example 2:**\n",
    "\n",
    "```\n",
    "Input: 10\n",
    "Output: 36\n",
    "Explanation: 10 = 3 + 3 + 4, 3 × 3 × 4 = 36.\n",
    "```\n",
    "\n",
    "**Note**: You may assume that _n_ is not less than 2 and not larger than 58."
   ]
  },
  {
   "cell_type": "code",
   "execution_count": 14,
   "metadata": {},
   "outputs": [],
   "source": [
    "# bottom-up DP\n",
    "from functools import lru_cache\n",
    "\n",
    "class Solution:\n",
    "    def integerBreak(self, n: int) -> int:\n",
    "        @lru_cache(None)\n",
    "        def dfs(target: int) -> int:\n",
    "            if target == 1:\n",
    "                return 1\n",
    "            return max(max(dfs(target-i) * i for i in range(1, target)), target)\n",
    "        return max(dfs(i) * (n-i) for i in range(1, n))"
   ]
  },
  {
   "cell_type": "code",
   "execution_count": 25,
   "metadata": {},
   "outputs": [],
   "source": [
    "class Solution:\n",
    "    def integerBreak(self, n: int) -> int:\n",
    "        dp = [1] * n\n",
    "        def dfs(target: int) -> int:\n",
    "            if target == 1:\n",
    "                return 1\n",
    "            if dp[target] != 1:\n",
    "                return dp[target]\n",
    "            dp[target] = max(max(dfs(target-i) * i for i in range(1, target)), target)\n",
    "            return dp[target]\n",
    "        return max(dfs(i) * (n-i) for i in range(1, n))"
   ]
  },
  {
   "cell_type": "code",
   "execution_count": 26,
   "metadata": {},
   "outputs": [],
   "source": [
    "# top-down DP - why?\n",
    "# https://leetcode.com/problems/integer-break/discuss/80694/Java-DP-solution\n",
    "class Solution:\n",
    "    def integerBreak(self, n: int) -> int:\n",
    "        dp = [1] + [0] * n\n",
    "        for i in range(2, n+1):\n",
    "            for j in range(1, i//2+1):\n",
    "                dp[i] = max(dp[i], max(j, dp[j]) * max(i-j, dp[i-j]))\n",
    "        return dp[-1]"
   ]
  },
  {
   "cell_type": "code",
   "execution_count": 27,
   "metadata": {},
   "outputs": [
    {
     "data": {
      "text/plain": [
       "1"
      ]
     },
     "execution_count": 27,
     "metadata": {},
     "output_type": "execute_result"
    }
   ],
   "source": [
    "Solution().integerBreak(2)"
   ]
  },
  {
   "cell_type": "code",
   "execution_count": 28,
   "metadata": {},
   "outputs": [
    {
     "data": {
      "text/plain": [
       "36"
      ]
     },
     "execution_count": 28,
     "metadata": {},
     "output_type": "execute_result"
    }
   ],
   "source": [
    "Solution().integerBreak(10)"
   ]
  },
  {
   "cell_type": "code",
   "execution_count": null,
   "metadata": {},
   "outputs": [],
   "source": []
  }
 ],
 "metadata": {
  "kernelspec": {
   "display_name": "Python 3",
   "language": "python",
   "name": "python3"
  },
  "language_info": {
   "codemirror_mode": {
    "name": "ipython",
    "version": 3
   },
   "file_extension": ".py",
   "mimetype": "text/x-python",
   "name": "python",
   "nbconvert_exporter": "python",
   "pygments_lexer": "ipython3",
   "version": "3.6.8"
  }
 },
 "nbformat": 4,
 "nbformat_minor": 2
}
