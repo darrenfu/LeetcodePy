{
 "cells": [
  {
   "cell_type": "markdown",
   "metadata": {},
   "source": [
    "### [429\\. N-ary Tree Level Order Traversal](https://leetcode.com/problems/n-ary-tree-level-order-traversal/)\n",
    "\n",
    "Difficulty: **Medium**\n",
    "\n",
    "\n",
    "Given an n-ary tree, return the _level order_ traversal of its nodes' values.\n",
    "\n",
    "_Nary-Tree input serialization is represented in their level order traversal, each group of children is separated by the null value (See examples)._\n",
    "\n",
    "**Example 1:**\n",
    "\n",
    "![](https://assets.leetcode.com/uploads/2018/10/12/narytreeexample.png)\n",
    "\n",
    "```\n",
    "Input: root = [1,null,3,2,4,null,5,6]\n",
    "Output: [[1],[3,2,4],[5,6]]\n",
    "```\n",
    "\n",
    "**Example 2:**\n",
    "\n",
    "![](https://assets.leetcode.com/uploads/2019/11/08/sample_4_964.png)\n",
    "\n",
    "```\n",
    "Input: root = [1,null,2,3,4,5,null,null,6,7,null,8,null,9,10,null,null,11,null,12,null,13,null,null,14]\n",
    "Output: [[1],[2,3,4,5],[6,7,8,9,10],[11,12,13],[14]]\n",
    "```\n",
    "\n",
    "**Constraints:**\n",
    "\n",
    "*   The height of the n-ary tree is less than or equal to `1000`\n",
    "*   The total number of nodes is between `[0, 10^4]`"
   ]
  },
  {
   "cell_type": "code",
   "execution_count": null,
   "metadata": {},
   "outputs": [],
   "source": [
    "class Solution:\n",
    "    def levelOrder(self, root: 'Node') -> List[List[int]]:\n",
    "        if not root: return []\n",
    "        q = [root]\n",
    "        res = []\n",
    "        while q:\n",
    "            level = []\n",
    "            for _ in range(len(q)):\n",
    "                node = q.pop(0)\n",
    "                if node:\n",
    "                    level += node.val,\n",
    "                    for child in node.children:\n",
    "                        q.append(child)\n",
    "            res += level, \n",
    "        return res"
   ]
  }
 ],
 "metadata": {
  "kernelspec": {
   "display_name": "Python 3",
   "language": "python",
   "name": "python3"
  },
  "language_info": {
   "codemirror_mode": {
    "name": "ipython",
    "version": 3
   },
   "file_extension": ".py",
   "mimetype": "text/x-python",
   "name": "python",
   "nbconvert_exporter": "python",
   "pygments_lexer": "ipython3",
   "version": "3.6.8"
  }
 },
 "nbformat": 4,
 "nbformat_minor": 2
}
