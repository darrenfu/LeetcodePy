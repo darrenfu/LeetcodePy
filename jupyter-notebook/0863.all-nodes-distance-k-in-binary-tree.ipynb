{
 "cells": [
  {
   "cell_type": "code",
   "execution_count": 3,
   "metadata": {},
   "outputs": [],
   "source": [
    "import sys\n",
    "sys.path.append('..')\n",
    "from leetcode.tree.treenode import TreeNode"
   ]
  },
  {
   "cell_type": "code",
   "execution_count": 20,
   "metadata": {},
   "outputs": [],
   "source": [
    "# Convert Tree to a Graph via DFS, then BFS\n",
    "# Runtime: 44 ms, faster than 73.70%\n",
    "# https://leetcode.com/problems/all-nodes-distance-k-in-binary-tree/discuss/143729/Python-DFS-and-BFS\n",
    "from typing import List\n",
    "from collections import defaultdict\n",
    "class Solution:\n",
    "    def distanceK(self, root: TreeNode, target: TreeNode, K: int) -> List[int]:\n",
    "        graph = defaultdict(list)\n",
    "        def dfs(parent: TreeNode, child: TreeNode):\n",
    "            if parent and child:\n",
    "                graph[parent.val].append(child.val) # build top-to-bottom edge\n",
    "                graph[child.val].append(parent.val) # build bottom-to-top edge\n",
    "            if child.left: dfs(child, child.left)\n",
    "            if child.right: dfs(child, child.right)\n",
    "        dfs(None, root)\n",
    "        \n",
    "        q = [target.val]\n",
    "        visited = set(q)\n",
    "        for i in range(K):\n",
    "#             newq = []\n",
    "#             for u in q:\n",
    "#                 for v in graph[u]:\n",
    "#                     if v not in visited:\n",
    "#                         newq += v,\n",
    "#             q = newq\n",
    "            q = [v for u in q for v in graph[u] if v not in visited]\n",
    "            visited = visited.union(set(q))\n",
    "#             visited |= set(q)\n",
    "        return q"
   ]
  },
  {
   "cell_type": "code",
   "execution_count": 14,
   "metadata": {},
   "outputs": [],
   "source": [
    "# Same as my DFS idea:\n",
    "# the distance from its child to the target node is k + 1 unless the child node is closer to the target node which means the target node is in it's subtree.\n",
    "# To avoid this situation, we need to travel the tree first to find the path from root to target\n",
    "# Runtime: 44 ms, faster than 73.32%\n",
    "# https://leetcode.com/problems/all-nodes-distance-k-in-binary-tree/discuss/143798/1ms-beat-100-simple-Java-dfs-with(without)-hashmap-including-explanation\n",
    "from typing import List\n",
    "\n",
    "class Solution:\n",
    "    def distanceK(self, root: TreeNode, target: TreeNode, K: int) -> List[int]:\n",
    "        if not root: return []\n",
    "        \n",
    "        def find(root: TreeNode, target: TreeNode) -> int:\n",
    "            if not root: return -1\n",
    "            # preorder traversal: self -> left -> right\n",
    "            if root.val == target.val: # locate the target\n",
    "                memo[target.val] = 0\n",
    "                return 0 # self distance is zero\n",
    "            children = [root.left, root.right]\n",
    "            for child in children:\n",
    "                dis = find(child, target)\n",
    "                if dis >= 0: # target is its descendant\n",
    "                    memo[root.val] = dis + 1\n",
    "                    return dis + 1\n",
    "            return -1\n",
    "        \n",
    "        def dfs(root: TreeNode, dis: int):\n",
    "            nonlocal K\n",
    "            if not root: return\n",
    "            # preorder traversal again\n",
    "            # CRITICAL STEP: to overwrite distances by target's ancestors' distance (level by level)\n",
    "            if root.val in memo:\n",
    "                dis = memo[root.val]\n",
    "            if dis == K:\n",
    "                res.append(root.val)\n",
    "            dfs(root.left, dis+1)\n",
    "            dfs(root.right, dis+1)\n",
    "\n",
    "        memo = {} # cache all the nodes in the path from root to target\n",
    "        res = []\n",
    "        find(root, target)\n",
    "        dfs(root, memo[root.val])\n",
    "        return res"
   ]
  },
  {
   "cell_type": "code",
   "execution_count": 15,
   "metadata": {},
   "outputs": [
    {
     "data": {
      "text/plain": [
       "[7, 4, 1]"
      ]
     },
     "execution_count": 15,
     "metadata": {},
     "output_type": "execute_result"
    }
   ],
   "source": [
    "root = TreeNode.deserialize('[3,5,1,6,2,0,8,null,null,7,4]')\n",
    "Solution().distanceK(root, TreeNode(5), 2)"
   ]
  },
  {
   "cell_type": "code",
   "execution_count": null,
   "metadata": {},
   "outputs": [],
   "source": []
  }
 ],
 "metadata": {
  "kernelspec": {
   "display_name": "Python 3",
   "language": "python",
   "name": "python3"
  },
  "language_info": {
   "codemirror_mode": {
    "name": "ipython",
    "version": 3
   },
   "file_extension": ".py",
   "mimetype": "text/x-python",
   "name": "python",
   "nbconvert_exporter": "python",
   "pygments_lexer": "ipython3",
   "version": "3.6.8"
  }
 },
 "nbformat": 4,
 "nbformat_minor": 2
}
