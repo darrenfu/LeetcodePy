{
 "cells": [
  {
   "cell_type": "code",
   "execution_count": 1,
   "metadata": {},
   "outputs": [],
   "source": [
    "%config IPCompleter.greedy=True"
   ]
  },
  {
   "cell_type": "code",
   "execution_count": 46,
   "metadata": {},
   "outputs": [],
   "source": [
    "class Solution:\n",
    "    def numPrimeArrangements(self, n: int) -> int:\n",
    "        dp = [0] * (n+1)\n",
    "        def isPrime(n: int) -> bool:\n",
    "            for num in range(2, int(n ** 0.5) + 2):\n",
    "                if n % num == 0:\n",
    "                    return False\n",
    "            return True\n",
    "        def countPrimes(n: int) -> int:\n",
    "            if n == 1: return 0\n",
    "            if n == 2:\n",
    "                dp[n] = 1\n",
    "                return 1\n",
    "            res = 0\n",
    "            dp[n] = isPrime(n) + countPrimes(n-1)\n",
    "            return dp[n]\n",
    "        \n",
    "        fdp = [0] * (n+1)\n",
    "        def factorial(n):\n",
    "            if n == 0 or n == 1:\n",
    "                fdp[n] = 1\n",
    "            else:\n",
    "                fdp[n] = n*factorial(n-1)\n",
    "            return fdp[n]\n",
    "        prime_cnt = countPrimes(n)\n",
    "        return factorial(prime_cnt) * factorial(n-prime_cnt) % (10 ** 9 + 7)"
   ]
  },
  {
   "cell_type": "code",
   "execution_count": 47,
   "metadata": {},
   "outputs": [
    {
     "data": {
      "text/plain": [
       "12"
      ]
     },
     "execution_count": 47,
     "metadata": {},
     "output_type": "execute_result"
    }
   ],
   "source": [
    "Solution().numPrimeArrangements(n=5)"
   ]
  },
  {
   "cell_type": "code",
   "execution_count": 48,
   "metadata": {},
   "outputs": [
    {
     "data": {
      "text/plain": [
       "682289015"
      ]
     },
     "execution_count": 48,
     "metadata": {},
     "output_type": "execute_result"
    }
   ],
   "source": [
    "Solution().numPrimeArrangements(n=100)"
   ]
  }
 ],
 "metadata": {
  "kernelspec": {
   "display_name": "Python 3",
   "language": "python",
   "name": "python3"
  },
  "language_info": {
   "codemirror_mode": {
    "name": "ipython",
    "version": 3
   },
   "file_extension": ".py",
   "mimetype": "text/x-python",
   "name": "python",
   "nbconvert_exporter": "python",
   "pygments_lexer": "ipython3",
   "version": "3.6.8"
  }
 },
 "nbformat": 4,
 "nbformat_minor": 2
}
