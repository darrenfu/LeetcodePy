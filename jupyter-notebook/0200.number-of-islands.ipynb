{
 "cells": [
  {
   "cell_type": "markdown",
   "metadata": {},
   "source": [
    "### [200\\. Number of Islands](https://leetcode.com/problems/number-of-islands/)\n",
    "\n",
    "Difficulty: **Medium**\n",
    "\n",
    "\n",
    "Given a 2d grid map of `'1'`s (land) and `'0'`s (water), count the number of islands. An island is surrounded by water and is formed by connecting adjacent lands horizontally or vertically. You may assume all four edges of the grid are all surrounded by water.\n",
    "\n",
    "**Example 1:**\n",
    "\n",
    "```\n",
    "Input:\n",
    "11110\n",
    "11010\n",
    "11000\n",
    "00000\n",
    "\n",
    "Output: 1\n",
    "```\n",
    "\n",
    "**Example 2:**\n",
    "\n",
    "```\n",
    "Input:\n",
    "11000\n",
    "11000\n",
    "00100\n",
    "00011\n",
    "\n",
    "Output: 3\n",
    "```"
   ]
  },
  {
   "cell_type": "code",
   "execution_count": 1,
   "metadata": {},
   "outputs": [],
   "source": [
    "import sys\n",
    "sys.path.append('..')\n",
    "from leetcode.unionfind.uf import UF"
   ]
  },
  {
   "cell_type": "code",
   "execution_count": 2,
   "metadata": {},
   "outputs": [],
   "source": [
    "#* Union Find\n",
    "# T: O(RN+4K) - K is operation times\n",
    "# Runtime: 164 ms, faster than 50.44%\n",
    "from typing import List\n",
    "\n",
    "class Solution:\n",
    "    def numIslands(self, A: List[List[str]]) -> int:\n",
    "        def nextNeighborOnes(i: int, j: int):\n",
    "            # Note: only check right and down neighbors\n",
    "            for r, c in ((i+1,j),(i,j+1)):\n",
    "                # Need to add boundary check\n",
    "                if r < R and c < C and A[r][c] == '1':\n",
    "                    yield(r, c)\n",
    "        \n",
    "        def to1dCoord(i: int, j: int) -> int:\n",
    "            # not R*i+j\n",
    "            return C*i+j\n",
    "            \n",
    "        if not A: return 0\n",
    "        R, C = len(A), len(A[0])\n",
    "        ones = sum(1 for i in range(R) for j in range(C) if A[i][j] == '1')\n",
    "        # uf.cnt initialized as number of ones\n",
    "        uf = UF(R*C, ones)\n",
    "        for i in range(R):\n",
    "            for j in range(C):\n",
    "                if A[i][j] == '1':\n",
    "                    cidx = to1dCoord(i,j)\n",
    "                    for x, y in nextNeighborOnes(i, j):\n",
    "                        nidx = to1dCoord(x,y)\n",
    "                        uf.union(cidx, nidx)\n",
    "        return uf.count\n",
    "\n",
    "# parents should be pointed to itself instead of initialized as zero\n",
    "# union() should return a bool (two sets are joint or not)\n",
    "# decrease uf.cnt when merge islands (union)\n",
    "\n",
    "# class UF:\n",
    "#     def __init__(self, n: int, cnt: int=-1):\n",
    "#         self.parents = [i for i in range(n)]\n",
    "#         self.count = cnt if cnt != -1 else n\n",
    "    \n",
    "#     def find(self, x: int) -> int:\n",
    "#         if self.parents[x] != x:\n",
    "#             self.parents[x] = self.find(self.parents[x])\n",
    "#         return self.parents[x]\n",
    "    \n",
    "#     def union(self, a: int, b: int) -> bool:\n",
    "#         roota = self.find(a)\n",
    "#         rootb = self.find(b)\n",
    "#         if roota != rootb:\n",
    "#             self.parents[roota] = rootb\n",
    "#             self.count -= 1\n",
    "#         return roota != rootb"
   ]
  },
  {
   "cell_type": "code",
   "execution_count": 3,
   "metadata": {},
   "outputs": [
    {
     "data": {
      "text/plain": [
       "0"
      ]
     },
     "execution_count": 3,
     "metadata": {},
     "output_type": "execute_result"
    }
   ],
   "source": [
    "Solution().numIslands(A=[])"
   ]
  },
  {
   "cell_type": "code",
   "execution_count": 4,
   "metadata": {},
   "outputs": [
    {
     "data": {
      "text/plain": [
       "1"
      ]
     },
     "execution_count": 4,
     "metadata": {},
     "output_type": "execute_result"
    }
   ],
   "source": [
    "Solution().numIslands(A=[[\"1\",\"1\",\"1\",\"1\",\"0\"],\n",
    "                         [\"1\",\"1\",\"0\",\"1\",\"0\"],\n",
    "                         [\"1\",\"1\",\"0\",\"0\",\"0\"],\n",
    "                         [\"0\",\"0\",\"0\",\"0\",\"0\"]])"
   ]
  },
  {
   "cell_type": "code",
   "execution_count": 5,
   "metadata": {},
   "outputs": [
    {
     "data": {
      "text/plain": [
       "3"
      ]
     },
     "execution_count": 5,
     "metadata": {},
     "output_type": "execute_result"
    }
   ],
   "source": [
    "Solution().numIslands(A=[[\"1\",\"1\",\"0\",\"0\",\"0\"],\n",
    "                         [\"1\",\"1\",\"0\",\"0\",\"0\"],\n",
    "                         [\"0\",\"0\",\"1\",\"0\",\"0\"],\n",
    "                         [\"0\",\"0\",\"0\",\"1\",\"1\"]])"
   ]
  },
  {
   "cell_type": "code",
   "execution_count": null,
   "metadata": {},
   "outputs": [],
   "source": []
  }
 ],
 "metadata": {
  "kernelspec": {
   "display_name": "Python 3",
   "language": "python",
   "name": "python3"
  },
  "language_info": {
   "codemirror_mode": {
    "name": "ipython",
    "version": 3
   },
   "file_extension": ".py",
   "mimetype": "text/x-python",
   "name": "python",
   "nbconvert_exporter": "python",
   "pygments_lexer": "ipython3",
   "version": "3.6.8"
  }
 },
 "nbformat": 4,
 "nbformat_minor": 2
}
