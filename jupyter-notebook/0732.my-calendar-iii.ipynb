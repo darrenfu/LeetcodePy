{
 "cells": [
  {
   "cell_type": "markdown",
   "metadata": {},
   "source": [
    "### [732\\. My Calendar III](https://leetcode.com/problems/my-calendar-iii/)\n",
    "\n",
    "Difficulty: **Hard**\n",
    "\n",
    "\n",
    "Implement a `MyCalendarThree` class to store your events. A new event can **always** be added.\n",
    "\n",
    "Your class will have one method, `book(int start, int end)`. Formally, this represents a booking on the half open interval `[start, end)`, the range of real numbers `x` such that `start <= x < end`.\n",
    "\n",
    "A _K-booking_ happens when **K** events have some non-empty intersection (ie., there is some time that is common to all K events.)\n",
    "\n",
    "For each call to the method `MyCalendar.book`, return an integer `K` representing the largest integer such that there exists a `K`-booking in the calendar.\n",
    "\n",
    "Your class will be called like this: `MyCalendarThree cal = new MyCalendarThree();` `MyCalendarThree.book(start, end)`\n",
    "\n",
    "**Example 1:**\n",
    "\n",
    "```\n",
    "MyCalendarThree();\n",
    "MyCalendarThree.book(10, 20); // returns 1\n",
    "MyCalendarThree.book(50, 60); // returns 1\n",
    "MyCalendarThree.book(10, 40); // returns 2\n",
    "MyCalendarThree.book(5, 15); // returns 3\n",
    "MyCalendarThree.book(5, 10); // returns 3\n",
    "MyCalendarThree.book(25, 55); // returns 3\n",
    "Explanation: \n",
    "The first two events can be booked and are disjoint, so the maximum K-booking is a 1-booking.\n",
    "The third event [10, 40) intersects the first event, and the maximum K-booking is a 2-booking.\n",
    "The remaining events cause the maximum K-booking to be only a 3-booking.\n",
    "Note that the last event locally causes a 2-booking, but the answer is still 3 because\n",
    "eg. [10, 20), [10, 40), and [5, 15) are still triple booked.\n",
    "```\n",
    "\n",
    "**Note:**\n",
    "\n",
    "*   The number of calls to `MyCalendarThree.book` per test case will be at most `400`.\n",
    "*   In calls to `MyCalendarThree.book(start, end)`, `start` and `end` are integers in the range `[0, 10^9]`."
   ]
  },
  {
   "cell_type": "code",
   "execution_count": 3,
   "metadata": {},
   "outputs": [],
   "source": [
    "# Boundary Counting + Binary Search Insort\n",
    "# https://leetcode.com/problems/my-calendar-ii/discuss/192388/python-boundary-count-using-bisect\n",
    "from bisect import insort\n",
    "\n",
    "class MyCalendarThree:\n",
    "    def __init__(self):\n",
    "        self.cnt = []\n",
    "\n",
    "    def book(self, start: int, end: int) -> int:\n",
    "        if not self.cnt:\n",
    "            self.cnt += (start,1),\n",
    "            self.cnt += (end,-1),\n",
    "            return 1\n",
    "        insort(self.cnt, (start,1))\n",
    "        insort(self.cnt, (end,-1))\n",
    "        max_overlap, cur_overlap = 0, 0\n",
    "        for _, freq in self.cnt:\n",
    "            cur_overlap += freq\n",
    "            max_overlap = max(max_overlap, cur_overlap)\n",
    "        return max_overlap"
   ]
  },
  {
   "cell_type": "code",
   "execution_count": 4,
   "metadata": {},
   "outputs": [
    {
     "name": "stdout",
     "output_type": "stream",
     "text": [
      "1\n",
      "1\n",
      "2\n",
      "3\n",
      "3\n",
      "3\n"
     ]
    }
   ],
   "source": [
    "obj = MyCalendarThree()\n",
    "print(obj.book(10,20))\n",
    "print(obj.book(50,60))\n",
    "print(obj.book(10,40))\n",
    "print(obj.book(5, 15))\n",
    "print(obj.book(5, 10))\n",
    "print(obj.book(25, 55))"
   ]
  },
  {
   "cell_type": "code",
   "execution_count": null,
   "metadata": {},
   "outputs": [],
   "source": []
  }
 ],
 "metadata": {
  "kernelspec": {
   "display_name": "Python 3",
   "language": "python",
   "name": "python3"
  },
  "language_info": {
   "codemirror_mode": {
    "name": "ipython",
    "version": 3
   },
   "file_extension": ".py",
   "mimetype": "text/x-python",
   "name": "python",
   "nbconvert_exporter": "python",
   "pygments_lexer": "ipython3",
   "version": "3.6.8"
  }
 },
 "nbformat": 4,
 "nbformat_minor": 2
}
