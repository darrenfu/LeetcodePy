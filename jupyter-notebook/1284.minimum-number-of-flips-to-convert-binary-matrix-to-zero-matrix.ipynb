{
 "cells": [
  {
   "cell_type": "markdown",
   "metadata": {},
   "source": [
    "### [1284\\. Minimum Number of Flips to Convert Binary Matrix to Zero Matrix](https://leetcode.com/problems/minimum-number-of-flips-to-convert-binary-matrix-to-zero-matrix/)\n",
    "\n",
    "Difficulty: **Hard**\n",
    "\n",
    "\n",
    "Given a `m x n` binary matrix `mat`. In one step, you can choose one cell and flip it and all the four neighbours of it if they exist (Flip is changing 1 to 0 and 0 to 1). A pair of cells are called neighboors if they share one edge.\n",
    "\n",
    "Return the _minimum number of steps_ required to convert `mat` to a zero matrix or **-1** if you cannot.\n",
    "\n",
    "Binary matrix is a matrix with all cells equal to 0 or 1 only.\n",
    "\n",
    "Zero matrix is a matrix with all cells equal to 0.\n",
    "\n",
    "**Example 1:**\n",
    "\n",
    "![](https://assets.leetcode.com/uploads/2019/11/28/matrix.png)\n",
    "\n",
    "```\n",
    "Input: mat = [[0,0],[0,1]]\n",
    "Output: 3\n",
    "Explanation: One possible solution is to flip (1, 0) then (0, 1) and finally (1, 1) as shown.\n",
    "```\n",
    "\n",
    "**Example 2:**\n",
    "\n",
    "```\n",
    "Input: mat = [[0]]\n",
    "Output: 0\n",
    "Explanation: Given matrix is a zero matrix. We don't need to change it.\n",
    "```\n",
    "\n",
    "**Example 3:**\n",
    "\n",
    "```\n",
    "Input: mat = [[1,1,1],[1,0,1],[0,0,0]]\n",
    "Output: 6\n",
    "```\n",
    "\n",
    "**Example 4:**\n",
    "\n",
    "```\n",
    "Input: mat = [[1,0,0],[1,0,0]]\n",
    "Output: -1\n",
    "Explanation: Given matrix can't be a zero matrix\n",
    "```\n",
    "\n",
    "**Constraints:**\n",
    "\n",
    "*   `m == mat.length`\n",
    "*   `n == mat[0].length`\n",
    "*   `1 <= m <= 3`\n",
    "*   `1 <= n <= 3`\n",
    "*   `mat[i][j]` is 0 or 1."
   ]
  },
  {
   "cell_type": "code",
   "execution_count": 95,
   "metadata": {},
   "outputs": [],
   "source": [
    "# BFS\n",
    "# for each level in BFS, a matrix can be transitted into M*N matrixes\n",
    "# check whether there is one of the matrixes is zero matrix\n",
    "# if all matrixes in the connected component are all traversed, exit with -1\n",
    "from typing import List\n",
    "\n",
    "class Solution:\n",
    "    def minFlips(self, mat: List[List[int]]) -> int:\n",
    "        def neighbors(i,j):\n",
    "            for x, y in ((i-1,j),(i+1,j),(i,j-1),(i,j+1)):\n",
    "                if 0<=x<M and 0<=y<N:\n",
    "                    yield(x,y)\n",
    "        def flip(v):\n",
    "            return v^1\n",
    "        def flipMatrix(matrix, i, j):\n",
    "            m = list(matrix) # deepcopy tuple as a mutable list\n",
    "            m[idx(i,j)] = flip(m[idx(i,j)])\n",
    "            for x,y in neighbors(i,j):\n",
    "                m[idx(x,y)] = flip(m[idx(x,y)])\n",
    "            return tuple(m)\n",
    "        def idx(i,j):\n",
    "            return i*N+j\n",
    "        \n",
    "        M, N = len(mat), len(mat[0])\n",
    "        flatmat = tuple([mat[i][j] for i in range(M) for j in range(N)]) # make the 2d matrix into a 1d tuple which is hashable in a set\n",
    "        zeros = tuple(0 for _ in range(M*N)) \n",
    "        if zeros == flatmat:\n",
    "            return 0\n",
    "        \n",
    "        q = [flatmat]\n",
    "        visited = set(q)\n",
    "        level = 1\n",
    "        while q:\n",
    "            for _ in range(len(q)):\n",
    "                matrix = q.pop()\n",
    "                for i in range(M):\n",
    "                    for j in range(N):\n",
    "                        flipped = flipMatrix(matrix, i, j)\n",
    "                        if flipped == zeros:\n",
    "                            return level\n",
    "                        flipped = tuple(flipped)\n",
    "                        if flipped not in visited:\n",
    "                            visited.add(flipped)\n",
    "                            q.insert(0, flipped)\n",
    "            level += 1\n",
    "        return -1"
   ]
  },
  {
   "cell_type": "code",
   "execution_count": 96,
   "metadata": {},
   "outputs": [
    {
     "data": {
      "text/plain": [
       "6"
      ]
     },
     "execution_count": 96,
     "metadata": {},
     "output_type": "execute_result"
    }
   ],
   "source": [
    "Solution().minFlips([[1,1,1],[1,0,1],[0,0,0]])"
   ]
  },
  {
   "cell_type": "code",
   "execution_count": 97,
   "metadata": {},
   "outputs": [
    {
     "data": {
      "text/plain": [
       "-1"
      ]
     },
     "execution_count": 97,
     "metadata": {},
     "output_type": "execute_result"
    }
   ],
   "source": [
    "Solution().minFlips([[1,0,0],[1,0,0]])"
   ]
  },
  {
   "cell_type": "code",
   "execution_count": 98,
   "metadata": {},
   "outputs": [
    {
     "data": {
      "text/plain": [
       "3"
      ]
     },
     "execution_count": 98,
     "metadata": {},
     "output_type": "execute_result"
    }
   ],
   "source": [
    "Solution().minFlips([[0,0],[0,1]])"
   ]
  },
  {
   "cell_type": "code",
   "execution_count": 99,
   "metadata": {},
   "outputs": [
    {
     "data": {
      "text/plain": [
       "0"
      ]
     },
     "execution_count": 99,
     "metadata": {},
     "output_type": "execute_result"
    }
   ],
   "source": [
    "Solution().minFlips([[0]])"
   ]
  },
  {
   "cell_type": "code",
   "execution_count": null,
   "metadata": {},
   "outputs": [],
   "source": []
  }
 ],
 "metadata": {
  "kernelspec": {
   "display_name": "Python 3",
   "language": "python",
   "name": "python3"
  },
  "language_info": {
   "codemirror_mode": {
    "name": "ipython",
    "version": 3
   },
   "file_extension": ".py",
   "mimetype": "text/x-python",
   "name": "python",
   "nbconvert_exporter": "python",
   "pygments_lexer": "ipython3",
   "version": "3.6.8"
  }
 },
 "nbformat": 4,
 "nbformat_minor": 2
}
