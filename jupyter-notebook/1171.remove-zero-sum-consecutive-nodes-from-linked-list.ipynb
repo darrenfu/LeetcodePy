{
 "cells": [
  {
   "cell_type": "code",
   "execution_count": 46,
   "metadata": {},
   "outputs": [],
   "source": [
    "import sys\n",
    "sys.path.append('..')\n",
    "from leetcode.list.listnode import ListNode"
   ]
  },
  {
   "cell_type": "code",
   "execution_count": 47,
   "metadata": {},
   "outputs": [],
   "source": [
    "# prefix sum problem - OrderedDict solution\n",
    "# Runtime: 56 ms, faster than 55.64%\n",
    "#  Time O(N), one pass\n",
    "# Space O(N) for hashmap\n",
    "# https://leetcode.com/problems/remove-zero-sum-consecutive-nodes-from-linked-list/discuss/366319/JavaC%2B%2BPython-Greedily-Skip-with-HashMap\n",
    "\n",
    "import collections\n",
    "\n",
    "class Solution:\n",
    "    def removeZeroSumSublists(self, head: ListNode) -> ListNode:\n",
    "        cur = dummy = ListNode(0)\n",
    "        dummy.next = head\n",
    "        prefixsum = 0\n",
    "        # OrderedDict is actually a queue + dict or stack + dict\n",
    "        # https://docs.python.org/3/library/collections.html#collections.OrderedDict\n",
    "        seen = collections.OrderedDict()\n",
    "        while cur:\n",
    "            prefixsum += cur.val\n",
    "            # get or return default value (cur), which is equivalent to: \n",
    "            # `node = seen[prefixsum] if prefixsum in seen else cur`\n",
    "            node = seen.get(prefixsum, cur)\n",
    "            while prefixsum in seen:\n",
    "                # popitem(last=True) -> stack (LIFO)\n",
    "                # popitem(last=False) -> queue (FIFO)\n",
    "                seen.popitem(last=True)\n",
    "            seen[prefixsum] = node\n",
    "            node.next = cur = cur.next\n",
    "        return dummy.next"
   ]
  },
  {
   "cell_type": "code",
   "execution_count": 35,
   "metadata": {},
   "outputs": [],
   "source": [
    "# dict + stack solution\n",
    "# Runtime: 52 ms, faster than 76.76%\n",
    "# https://leetcode.com/problems/remove-zero-sum-consecutive-nodes-from-linked-list/discuss/366510/python-solution-with-dict\n",
    "\n",
    "class Solution:\n",
    "    def removeZeroSumSublists(self, head: ListNode) -> ListNode:\n",
    "        cur = dummy = ListNode(0)\n",
    "        dummy.next = head\n",
    "        prefixsum = 0\n",
    "        seen = {}\n",
    "        stack = [prefixsum]\n",
    "        while cur:\n",
    "            # note: dummy head 0 is also in the seen and stack\n",
    "            # once prefix sum is reset to any previous value, there must exist a sum equal to zero\n",
    "            prefixsum += cur.val\n",
    "            stack.append(prefixsum)\n",
    "            if prefixsum not in seen:\n",
    "                seen[prefixsum] = cur\n",
    "            else:\n",
    "                seen[prefixsum].next = cur.next\n",
    "                # remove all sub array between the previous same prefix sum and current one\n",
    "                stack.pop() # remove cur, keep the last\n",
    "                while stack[-1] != prefixsum:\n",
    "                    seen.pop(stack.pop())\n",
    "            cur = cur.next\n",
    "        return dummy.next"
   ]
  },
  {
   "cell_type": "code",
   "execution_count": 38,
   "metadata": {},
   "outputs": [
    {
     "data": {
      "text/plain": [
       "<leetcode.list.listnode.ListNode at 0x7f0f842072b0>"
      ]
     },
     "execution_count": 38,
     "metadata": {},
     "output_type": "execute_result"
    }
   ],
   "source": [
    "head = ListNode(1)\n",
    "head.next = ListNode(2)\n",
    "head.next.next = ListNode(-2)\n",
    "head.next.next.next = ListNode(-1)\n",
    "head.next.next.next.next = ListNode(1)\n",
    "head.next.next.next.next.next = ListNode(-1)\n",
    "head.next.next.next.next.next = ListNode(10)\n",
    "Solution().removeZeroSumSublists(head)"
   ]
  },
  {
   "cell_type": "code",
   "execution_count": null,
   "metadata": {},
   "outputs": [],
   "source": []
  }
 ],
 "metadata": {
  "kernelspec": {
   "display_name": "Python 3",
   "language": "python",
   "name": "python3"
  },
  "language_info": {
   "codemirror_mode": {
    "name": "ipython",
    "version": 3
   },
   "file_extension": ".py",
   "mimetype": "text/x-python",
   "name": "python",
   "nbconvert_exporter": "python",
   "pygments_lexer": "ipython3",
   "version": "3.6.8"
  }
 },
 "nbformat": 4,
 "nbformat_minor": 2
}
