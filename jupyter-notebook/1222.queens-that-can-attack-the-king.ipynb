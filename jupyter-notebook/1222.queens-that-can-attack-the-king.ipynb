{
 "cells": [
  {
   "cell_type": "code",
   "execution_count": 19,
   "metadata": {},
   "outputs": [],
   "source": [
    "from typing import List\n",
    "class Solution:\n",
    "    def queensAttacktheKing(self, queens: List[List[int]], king: List[int]) -> List[List[int]]:\n",
    "        N = 8\n",
    "        res = []\n",
    "        # check row\n",
    "        mx, mn = -1, N\n",
    "        for x, y in queens:\n",
    "            if x == king[0]:\n",
    "                if y < king[1]:\n",
    "                    mx = max(mx, y)\n",
    "                else:\n",
    "                    mn = min(mn, y)\n",
    "        if mx != -1:\n",
    "            res.append([king[0], mx])\n",
    "        if mn != N:\n",
    "            res.append([king[0], mn])\n",
    "        # check column\n",
    "        mx, mn = -1, N\n",
    "        for x, y in queens:\n",
    "            if y == king[1]:\n",
    "                if x < king[0]:\n",
    "                    mx = max(mx, x)\n",
    "                else:\n",
    "                    mn = min(mn, x)\n",
    "        if mx != -1:\n",
    "            res.append([mx, king[1]])\n",
    "        if mn != N:\n",
    "            res.append([mn, king[1]])\n",
    "        # check diagonal\n",
    "        mx, mn = -1, N\n",
    "        for x, y in queens:\n",
    "            if y - king[1] == x - king[0]:\n",
    "                if x < king[0]:\n",
    "                    mx = max(mx, x)\n",
    "                else:\n",
    "                    mn = min(mn, x)\n",
    "        if mx != -1:\n",
    "            res.append([mx, king[1]-king[0]+mx])\n",
    "        if mn != N:\n",
    "            res.append([mn, king[1]-king[0]+mn])\n",
    "        # check other diagonal\n",
    "        mx, mn = -1, N\n",
    "        for x, y in queens:\n",
    "            if y - king[1] == king[0] - x:\n",
    "                if x < king[0]:\n",
    "                    mx = max(mx, x)\n",
    "                else:\n",
    "                    mn = min(mn, x)\n",
    "        if mx != -1:\n",
    "            res.append([mx, king[1]+king[0]-mx])\n",
    "        if mn != N:\n",
    "            res.append([mn, king[1]+king[0]-mn])\n",
    "        return res"
   ]
  },
  {
   "cell_type": "code",
   "execution_count": null,
   "metadata": {},
   "outputs": [],
   "source": [
    "# @awice\n",
    "from typing import List\n",
    "class Solution:\n",
    "    def queensAttacktheKing(self, queens: List[List[int]], king: List[int]) -> List[List[int]]:\n",
    "        def search(x: int, y: int):\n",
    "            # check eight neighbors\n",
    "            for dx in range(-1, 2):\n",
    "                for dy in range(-1, 2):\n",
    "                    if dx or dy: # skip (0, 0)\n",
    "                        cx, cy = x+dx, y+dy\n",
    "                        while 0 <= cx < 8 > cy >= 0: # boundary check\n",
    "                            node = cx, cy\n",
    "                            # walk towards one single direction till\n",
    "                            # 1) meets another queen point, wrong direction\n",
    "                            if node in qset: break\n",
    "                            # 2) meets king point, bingo! Exit\n",
    "                            if node == tk: return True\n",
    "                            # 3) reach the boundary, wrong direction\n",
    "                            cx += dx\n",
    "                            cy += dy\n",
    "            return False\n",
    "        \n",
    "        tk = tuple(king)\n",
    "        qset = set(map(tuple, queens)) # to tuple set\n",
    "        ans = []\n",
    "        for Q in queens:\n",
    "            # The *args will give you all function parameters as a tuple\n",
    "            # https://docs.python.org/dev/tutorial/controlflow.html#unpacking-argument-lists\n",
    "            if search(*Q):\n",
    "                ans.append(Q)\n",
    "        return ans"
   ]
  },
  {
   "cell_type": "code",
   "execution_count": 20,
   "metadata": {},
   "outputs": [
    {
     "data": {
      "text/plain": [
       "[[3, 7], [1, 4], [5, 4], [2, 3], [4, 5], [1, 6], [4, 3]]"
      ]
     },
     "execution_count": 20,
     "metadata": {},
     "output_type": "execute_result"
    }
   ],
   "source": [
    "Solution().queensAttacktheKing(queens = [[5,6],[7,7],[2,1],[0,7],[1,6],[5,1],[3,7],[0,3],[4,0],[1,2],[6,3],[5,0],[0,4],[2,2],[1,1],[6,4],[5,4],[0,0],[2,6],[4,5],[5,2],[1,4],[7,5],[2,3],[0,5],[4,2],[1,0],[2,7],[0,1],[4,6],[6,1],[0,6],[4,3],[1,7]], king = [3,4])"
   ]
  },
  {
   "cell_type": "code",
   "execution_count": 21,
   "metadata": {},
   "outputs": [
    {
     "data": {
      "text/plain": [
       "[[3, 4], [2, 2], [4, 4]]"
      ]
     },
     "execution_count": 21,
     "metadata": {},
     "output_type": "execute_result"
    }
   ],
   "source": [
    "Solution().queensAttacktheKing(queens = [[0,0],[1,1],[2,2],[3,4],[3,5],[4,4],[4,5]], king = [3,3])"
   ]
  },
  {
   "cell_type": "code",
   "execution_count": 22,
   "metadata": {},
   "outputs": [
    {
     "data": {
      "text/plain": [
       "[[0, 1], [1, 0], [3, 3]]"
      ]
     },
     "execution_count": 22,
     "metadata": {},
     "output_type": "execute_result"
    }
   ],
   "source": [
    "Solution().queensAttacktheKing(queens = [[0,1],[1,0],[4,0],[0,4],[3,3],[2,4]], king = [0,0])"
   ]
  },
  {
   "cell_type": "code",
   "execution_count": null,
   "metadata": {},
   "outputs": [],
   "source": []
  }
 ],
 "metadata": {
  "kernelspec": {
   "display_name": "Python 3",
   "language": "python",
   "name": "python3"
  },
  "language_info": {
   "codemirror_mode": {
    "name": "ipython",
    "version": 3
   },
   "file_extension": ".py",
   "mimetype": "text/x-python",
   "name": "python",
   "nbconvert_exporter": "python",
   "pygments_lexer": "ipython3",
   "version": "3.6.8"
  }
 },
 "nbformat": 4,
 "nbformat_minor": 2
}
