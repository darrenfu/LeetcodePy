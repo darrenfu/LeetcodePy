{
 "cells": [
  {
   "cell_type": "markdown",
   "metadata": {},
   "source": [
    "### [433\\. Minimum Genetic Mutation](https://leetcode.com/problems/minimum-genetic-mutation/)\n",
    "\n",
    "Difficulty: **Medium**\n",
    "\n",
    "\n",
    "A gene string can be represented by an 8-character long string, with choices from `\"A\"`, `\"C\"`, `\"G\"`, `\"T\"`.\n",
    "\n",
    "Suppose we need to investigate about a mutation (mutation from \"start\" to \"end\"), where ONE mutation is defined as ONE single character changed in the gene string.\n",
    "\n",
    "For example, `\"AACCGGTT\"` -> `\"AACCGGTA\"` is 1 mutation.\n",
    "\n",
    "Also, there is a given gene \"bank\", which records all the valid gene mutations. A gene must be in the bank to make it a valid gene string.\n",
    "\n",
    "Now, given 3 things - start, end, bank, your task is to determine what is the minimum number of mutations needed to mutate from \"start\" to \"end\". If there is no such a mutation, return -1.\n",
    "\n",
    "**Note:**\n",
    "\n",
    "1.  Starting point is assumed to be valid, so it might not be included in the bank.\n",
    "2.  If multiple mutations are needed, all mutations during in the sequence must be valid.\n",
    "3.  You may assume start and end string is not the same.\n",
    "\n",
    "**Example 1:**\n",
    "\n",
    "```\n",
    "start: \"AACCGGTT\"\n",
    "end:   \"AACCGGTA\"\n",
    "bank: [\"AACCGGTA\"]\n",
    "\n",
    "return: 1\n",
    "```\n",
    "\n",
    "**Example 2:**\n",
    "\n",
    "```\n",
    "start: \"AACCGGTT\"\n",
    "end:   \"AAACGGTA\"\n",
    "bank: [\"AACCGGTA\", \"AACCGCTA\", \"AAACGGTA\"]\n",
    "\n",
    "return: 2\n",
    "```\n",
    "\n",
    "**Example 3:**\n",
    "\n",
    "```\n",
    "start: \"AAAAACCC\"\n",
    "end:   \"AACCCCCC\"\n",
    "bank: [\"AAAACCCC\", \"AAACCCCC\", \"AACCCCCC\"]\n",
    "\n",
    "return: 3\n",
    "```"
   ]
  },
  {
   "cell_type": "code",
   "execution_count": 6,
   "metadata": {},
   "outputs": [],
   "source": [
    "# Same as Word Ladder\n",
    "from typing import List\n",
    "\n",
    "class Solution:\n",
    "    def minMutation(self, start: str, end: str, bank: List[str]) -> int:\n",
    "        bank = set(bank)\n",
    "        if end not in bank:\n",
    "            return -1\n",
    "        bank.remove(end)\n",
    "        wlen = len(start)\n",
    "        q1, q2 = set([start]), set([end])\n",
    "        steps = 0\n",
    "        while q1 and q2:\n",
    "            if len(q1) > len(q2):\n",
    "                q1, q2 = q2, q1 # q1 is always the smaller set to operate\n",
    "            steps += 1\n",
    "            tmpQ = set()\n",
    "            for w1 in q1:\n",
    "                for i in range(wlen):\n",
    "                    for ch in \"ACGT\":\n",
    "                        w2 = w1[:i] + ch + w1[i+1:]\n",
    "                        if w2 in q2:\n",
    "                            return steps\n",
    "                        if w2 in bank:\n",
    "                            bank.remove(w2)\n",
    "                            tmpQ.add(w2)\n",
    "            q1 = tmpQ\n",
    "        return -1"
   ]
  },
  {
   "cell_type": "code",
   "execution_count": 7,
   "metadata": {},
   "outputs": [
    {
     "data": {
      "text/plain": [
       "3"
      ]
     },
     "execution_count": 7,
     "metadata": {},
     "output_type": "execute_result"
    }
   ],
   "source": [
    "Solution().minMutation(\"AAAAACCC\", \"AACCCCCC\", [\"AAAACCCC\", \"AAACCCCC\", \"AACCCCCC\"])"
   ]
  },
  {
   "cell_type": "code",
   "execution_count": 8,
   "metadata": {},
   "outputs": [
    {
     "data": {
      "text/plain": [
       "1"
      ]
     },
     "execution_count": 8,
     "metadata": {},
     "output_type": "execute_result"
    }
   ],
   "source": [
    "Solution().minMutation(\"AACCGGTT\", \"AACCGGTA\", [\"AACCGGTA\"])"
   ]
  },
  {
   "cell_type": "code",
   "execution_count": null,
   "metadata": {},
   "outputs": [],
   "source": []
  }
 ],
 "metadata": {
  "kernelspec": {
   "display_name": "Python 3",
   "language": "python",
   "name": "python3"
  },
  "language_info": {
   "codemirror_mode": {
    "name": "ipython",
    "version": 3
   },
   "file_extension": ".py",
   "mimetype": "text/x-python",
   "name": "python",
   "nbconvert_exporter": "python",
   "pygments_lexer": "ipython3",
   "version": "3.6.8"
  }
 },
 "nbformat": 4,
 "nbformat_minor": 2
}
