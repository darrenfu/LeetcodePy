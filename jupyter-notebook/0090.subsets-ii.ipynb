{
 "cells": [
  {
   "cell_type": "code",
   "execution_count": 7,
   "metadata": {},
   "outputs": [],
   "source": [
    "# follow-up on #78\n",
    "# Runtime: 44 ms, faster than 76.16%\n",
    "from typing import List\n",
    "\n",
    "class Solution:\n",
    "    def subsetsWithDup(self, nums: List[int]) -> List[List[int]]:\n",
    "        def dfs(nums: List[int], stack: List[int], res: List[List[int]]):\n",
    "            res.append(stack[:])\n",
    "            \n",
    "            for i, v in enumerate(nums):\n",
    "                if i > 0 and nums[i-1] == v: # only use the first int from consecutive duplicates\n",
    "                    continue\n",
    "                stack.append(v)\n",
    "                dfs(nums[i+1:], stack, res)\n",
    "                stack.pop()\n",
    "        \n",
    "        nums.sort() # must sort because duplicates exist\n",
    "        res = []\n",
    "        dfs(nums, [], res)\n",
    "        return res"
   ]
  },
  {
   "cell_type": "code",
   "execution_count": 8,
   "metadata": {},
   "outputs": [
    {
     "data": {
      "text/plain": [
       "[[], [1], [1, 2], [1, 2, 2], [2], [2, 2]]"
      ]
     },
     "execution_count": 8,
     "metadata": {},
     "output_type": "execute_result"
    }
   ],
   "source": [
    "Solution().subsetsWithDup([1,2,2])"
   ]
  },
  {
   "cell_type": "code",
   "execution_count": null,
   "metadata": {},
   "outputs": [],
   "source": []
  }
 ],
 "metadata": {
  "kernelspec": {
   "display_name": "Python 3",
   "language": "python",
   "name": "python3"
  },
  "language_info": {
   "codemirror_mode": {
    "name": "ipython",
    "version": 3
   },
   "file_extension": ".py",
   "mimetype": "text/x-python",
   "name": "python",
   "nbconvert_exporter": "python",
   "pygments_lexer": "ipython3",
   "version": "3.6.8"
  }
 },
 "nbformat": 4,
 "nbformat_minor": 2
}
