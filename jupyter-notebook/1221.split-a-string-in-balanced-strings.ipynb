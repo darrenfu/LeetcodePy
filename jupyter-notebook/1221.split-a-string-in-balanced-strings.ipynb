{
 "cells": [
  {
   "cell_type": "code",
   "execution_count": 12,
   "metadata": {},
   "outputs": [],
   "source": [
    "class Solution:\n",
    "    def balancedStringSplit(self, s: str) -> int:\n",
    "        stack = []\n",
    "        res = 0\n",
    "        for ch in s:\n",
    "            if not stack:\n",
    "                stack.append(ch)\n",
    "                res += 1\n",
    "            elif stack[-1] == ch:\n",
    "                stack.append(ch)\n",
    "            else:\n",
    "                stack.pop()\n",
    "        return res"
   ]
  },
  {
   "cell_type": "code",
   "execution_count": 15,
   "metadata": {},
   "outputs": [],
   "source": [
    "# @awice\n",
    "class Solution:\n",
    "    def balancedStringSplit(self, s: str) -> int:\n",
    "        ans = 0\n",
    "        bal = 0 # take `bal` as a stack, +1 when meet L; -1 when meet R\n",
    "        for c in s:\n",
    "            bal += 1 if c == 'L' else -1\n",
    "            if bal == 0:\n",
    "                ans += 1\n",
    "        return ans"
   ]
  },
  {
   "cell_type": "code",
   "execution_count": 16,
   "metadata": {},
   "outputs": [
    {
     "data": {
      "text/plain": [
       "4"
      ]
     },
     "execution_count": 16,
     "metadata": {},
     "output_type": "execute_result"
    }
   ],
   "source": [
    "Solution().balancedStringSplit(s=\"RLRRLLRLRL\")"
   ]
  },
  {
   "cell_type": "code",
   "execution_count": 17,
   "metadata": {},
   "outputs": [
    {
     "data": {
      "text/plain": [
       "3"
      ]
     },
     "execution_count": 17,
     "metadata": {},
     "output_type": "execute_result"
    }
   ],
   "source": [
    "Solution().balancedStringSplit(s=\"RLLLLRRRLR\")"
   ]
  },
  {
   "cell_type": "code",
   "execution_count": null,
   "metadata": {},
   "outputs": [],
   "source": []
  }
 ],
 "metadata": {
  "kernelspec": {
   "display_name": "Python 3",
   "language": "python",
   "name": "python3"
  },
  "language_info": {
   "codemirror_mode": {
    "name": "ipython",
    "version": 3
   },
   "file_extension": ".py",
   "mimetype": "text/x-python",
   "name": "python",
   "nbconvert_exporter": "python",
   "pygments_lexer": "ipython3",
   "version": "3.6.8"
  }
 },
 "nbformat": 4,
 "nbformat_minor": 2
}
