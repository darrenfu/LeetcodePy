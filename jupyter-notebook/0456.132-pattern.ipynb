{
 "cells": [
  {
   "cell_type": "markdown",
   "metadata": {},
   "source": [
    "### [456\\. 132 Pattern](https://leetcode.com/problems/132-pattern/)\n",
    "\n",
    "Difficulty: **Medium**\n",
    "\n",
    "\n",
    "Given a sequence of n integers a<sub style=\"display: inline;\">1</sub>, a<sub style=\"display: inline;\">2</sub>, ..., a<sub style=\"display: inline;\">n</sub>, a 132 pattern is a subsequence a<sub style=\"display: inline;\">**i**</sub>, a<sub style=\"display: inline;\">**j**</sub>, a<sub style=\"display: inline;\">**k**</sub> such that **i** < **j** < **k** and a<sub style=\"display: inline;\">**i**</sub> < a<sub style=\"display: inline;\">**k**</sub> < a<sub style=\"display: inline;\">**j**</sub>. Design an algorithm that takes a list of n numbers as input and checks whether there is a 132 pattern in the list.\n",
    "\n",
    "**Note:** n will be less than 15,000.\n",
    "\n",
    "**Example 1:**  \n",
    "\n",
    "```\n",
    "Input: [1, 2, 3, 4]\n",
    "\n",
    "Output: False\n",
    "\n",
    "Explanation: There is no 132 pattern in the sequence.\n",
    "```\n",
    "\n",
    "**Example 2:**  \n",
    "\n",
    "```\n",
    "Input: [3, 1, 4, 2]\n",
    "\n",
    "Output: True\n",
    "\n",
    "Explanation: There is a 132 pattern in the sequence: [1, 4, 2].\n",
    "```\n",
    "\n",
    "**Example 3:**  \n",
    "\n",
    "```\n",
    "Input: [-1, 3, 2, 0]\n",
    "\n",
    "Output: True\n",
    "\n",
    "Explanation: There are three 132 patterns in the sequence: [-1, 3, 2], [-1, 3, 0] and [-1, 2, 0].\n",
    "```"
   ]
  },
  {
   "cell_type": "code",
   "execution_count": 1,
   "metadata": {},
   "outputs": [],
   "source": [
    "# Stack: a1 < a3 < a2\n",
    "# scan from bottom; pop all a2 before push a3 to stack\n",
    "from typing import List\n",
    "\n",
    "class Solution:\n",
    "    def find132pattern(self, nums: List[int]) -> bool:\n",
    "        stack = []\n",
    "        a3 = float('-inf')\n",
    "        for v in nums[::-1]:\n",
    "            if v < a3: # a1 found\n",
    "                return True\n",
    "            while stack and stack[-1] < v:\n",
    "                a3 = stack.pop() # s3 is the largest in stack which is smaller than v\n",
    "            stack.append(v)\n",
    "        return False"
   ]
  },
  {
   "cell_type": "code",
   "execution_count": 2,
   "metadata": {},
   "outputs": [
    {
     "data": {
      "text/plain": [
       "True"
      ]
     },
     "execution_count": 2,
     "metadata": {},
     "output_type": "execute_result"
    }
   ],
   "source": [
    "Solution().find132pattern([3,1,4,2])"
   ]
  },
  {
   "cell_type": "code",
   "execution_count": 3,
   "metadata": {},
   "outputs": [
    {
     "data": {
      "text/plain": [
       "False"
      ]
     },
     "execution_count": 3,
     "metadata": {},
     "output_type": "execute_result"
    }
   ],
   "source": [
    "Solution().find132pattern([1,2,3,4])"
   ]
  },
  {
   "cell_type": "code",
   "execution_count": null,
   "metadata": {},
   "outputs": [],
   "source": []
  }
 ],
 "metadata": {
  "kernelspec": {
   "display_name": "Python 3",
   "language": "python",
   "name": "python3"
  },
  "language_info": {
   "codemirror_mode": {
    "name": "ipython",
    "version": 3
   },
   "file_extension": ".py",
   "mimetype": "text/x-python",
   "name": "python",
   "nbconvert_exporter": "python",
   "pygments_lexer": "ipython3",
   "version": "3.6.8"
  }
 },
 "nbformat": 4,
 "nbformat_minor": 2
}
