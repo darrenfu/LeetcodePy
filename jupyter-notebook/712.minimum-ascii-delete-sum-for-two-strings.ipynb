{
 "cells": [
  {
   "cell_type": "code",
   "execution_count": 13,
   "metadata": {},
   "outputs": [],
   "source": [
    "# Follow up of #583\n",
    "# Similar to #72 Edit distance\n",
    "# Runtime: 772 ms, faster than 49.80%\n",
    "# https://leetcode.com/problems/minimum-ascii-delete-sum-for-two-strings/discuss/108828/C%2B%2B-DP-with-explanation\n",
    "class Solution:\n",
    "    def minimumDeleteSum(self, word1: str, word2: str) -> int:\n",
    "        L1, L2 = len(word1), len(word2)\n",
    "        dp = [[0 for _ in range(L2+1)] for _ in range(L1+1)]\n",
    "        for i in range(1,L1+1):\n",
    "            dp[i][0] = dp[i-1][0] + ord(word1[i-1])\n",
    "        for i in range(1,L2+1):\n",
    "            dp[0][i] = dp[0][i-1] + ord(word2[i-1])\n",
    "        for i in range(L1):\n",
    "            for j in range(L2):\n",
    "                if word1[i] == word2[j]:\n",
    "                    # no replace operation\n",
    "                    dp[i+1][j+1] = dp[i][j]\n",
    "                else:\n",
    "                    # delete on word2 means insert on word1\n",
    "                    dp[i+1][j+1] = min(dp[i][j+1] + ord(word1[i]), dp[i+1][j] + ord(word2[j]))\n",
    "        return dp[L1][L2]"
   ]
  },
  {
   "cell_type": "code",
   "execution_count": 14,
   "metadata": {},
   "outputs": [
    {
     "data": {
      "text/plain": [
       "231"
      ]
     },
     "execution_count": 14,
     "metadata": {},
     "output_type": "execute_result"
    }
   ],
   "source": [
    "Solution().minimumDeleteSum(word1 = \"sea\", word2 = \"eat\")"
   ]
  },
  {
   "cell_type": "code",
   "execution_count": 15,
   "metadata": {},
   "outputs": [
    {
     "data": {
      "text/plain": [
       "403"
      ]
     },
     "execution_count": 15,
     "metadata": {},
     "output_type": "execute_result"
    }
   ],
   "source": [
    "Solution().minimumDeleteSum(word1 = \"delete\", word2 = \"leet\")"
   ]
  },
  {
   "cell_type": "code",
   "execution_count": null,
   "metadata": {},
   "outputs": [],
   "source": []
  }
 ],
 "metadata": {
  "kernelspec": {
   "display_name": "Python 3",
   "language": "python",
   "name": "python3"
  },
  "language_info": {
   "codemirror_mode": {
    "name": "ipython",
    "version": 3
   },
   "file_extension": ".py",
   "mimetype": "text/x-python",
   "name": "python",
   "nbconvert_exporter": "python",
   "pygments_lexer": "ipython3",
   "version": "3.6.8"
  }
 },
 "nbformat": 4,
 "nbformat_minor": 2
}
