{
 "cells": [
  {
   "cell_type": "code",
   "execution_count": 36,
   "metadata": {},
   "outputs": [],
   "source": [
    "# DFS + Backtrack\n",
    "# Runtime: 76 ms, faster than 62.74%\n",
    "from typing import List\n",
    "\n",
    "class Solution:\n",
    "    def combinationSum(self, candidates: List[int], target: int) -> List[List[int]]:\n",
    "        def dfs(stack: List[int], res: List[List[int]], remaining: int) -> int:\n",
    "            if remaining < 0:\n",
    "#                 print(f\"false -> {remaining}\")\n",
    "                return remaining\n",
    "            if remaining == 0:\n",
    "#                 print(f\"true -> {stack}\")\n",
    "                res.append(stack[:])\n",
    "                return remaining\n",
    "\n",
    "            for i in candidates:\n",
    "                if stack and i < stack[-1]: # pruning: combination rather than permutation\n",
    "                    # ignore any candiates smaller than any elements in stack (stack is always ascending)\n",
    "                    # e.g. [2,2,3] = 7, we don't need [2,3,2], [3,2,2]\n",
    "                    continue\n",
    "                stack.append(i)\n",
    "#                 print(stack)\n",
    "                resRemained = dfs(stack, res, remaining-i)\n",
    "                stack.pop()\n",
    "                if resRemained <= 0: # pruning, ignore bigger candidates afterwards\n",
    "                    # e.g. [2,2,2,2] > 7, no need to compare [2,2,2,3]\n",
    "                    break\n",
    "            return 1\n",
    "            \n",
    "        candidates.sort()\n",
    "        res = []\n",
    "        dfs([], res, target)\n",
    "        return res"
   ]
  },
  {
   "cell_type": "code",
   "execution_count": 37,
   "metadata": {},
   "outputs": [
    {
     "data": {
      "text/plain": [
       "[[2, 2, 3], [7]]"
      ]
     },
     "execution_count": 37,
     "metadata": {},
     "output_type": "execute_result"
    }
   ],
   "source": [
    "Solution().combinationSum(candidates = [2,3,6,7], target = 7)"
   ]
  },
  {
   "cell_type": "code",
   "execution_count": 38,
   "metadata": {},
   "outputs": [
    {
     "data": {
      "text/plain": [
       "[[2, 2, 2, 2], [2, 3, 3], [3, 5]]"
      ]
     },
     "execution_count": 38,
     "metadata": {},
     "output_type": "execute_result"
    }
   ],
   "source": [
    "Solution().combinationSum(candidates = [2,3,5], target = 8)"
   ]
  },
  {
   "cell_type": "code",
   "execution_count": null,
   "metadata": {},
   "outputs": [],
   "source": []
  }
 ],
 "metadata": {
  "kernelspec": {
   "display_name": "Python 3",
   "language": "python",
   "name": "python3"
  },
  "language_info": {
   "codemirror_mode": {
    "name": "ipython",
    "version": 3
   },
   "file_extension": ".py",
   "mimetype": "text/x-python",
   "name": "python",
   "nbconvert_exporter": "python",
   "pygments_lexer": "ipython3",
   "version": "3.6.8"
  }
 },
 "nbformat": 4,
 "nbformat_minor": 2
}
