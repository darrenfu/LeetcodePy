{
 "cells": [
  {
   "cell_type": "code",
   "execution_count": 12,
   "metadata": {},
   "outputs": [],
   "source": [
    "# DP + Binary Search \n",
    "# weighted problem of #646. Maximum Length of Pair Chain\n",
    "# Recursive relationship: for the last job l, there are two possible choices:\n",
    "# (i) exclude the job l, exclude_profit = dp[l-1],\n",
    "# (ii) include the job l, find the last non-conflict job i, include_profit = profit[l-1] + dp[i+1],\n",
    "# dp[l] = max(exclude_profit, include_profit).\n",
    "\n",
    "# Runtime: 656 ms, faster than 64.16% \n",
    "# https://leetcode.com/problems/maximum-profit-in-job-scheduling/discuss/409033/Easy-O(nlogn)-Python-12-liner-DP-with-binary-search\n",
    "from typing import List\n",
    "import bisect\n",
    "from functools import lru_cache\n",
    "\n",
    "class Solution:\n",
    "    def jobScheduling(self, startTime: List[int], endTime: List[int], profit: List[int]) -> int:\n",
    "        jobs = sorted(zip(startTime, endTime, profit), key=lambda x: x[0])\n",
    "        n = len(jobs)\n",
    "        starts = [t[0] for t in jobs]\n",
    "        \n",
    "        @lru_cache(None)\n",
    "        def dp(i: int):\n",
    "            if i >= n:\n",
    "                return 0\n",
    "            _, end, profit = jobs[i]\n",
    "            # find the position to insert `end` in the whole `startTime` array\n",
    "            k = bisect.bisect_left(starts, end)\n",
    "            # if we include interval i, we gotta skip intervals until k\n",
    "            profit += dp(k)\n",
    "            # if we exclude interval i - dp(i+1)\n",
    "            return max(dp(i+1), profit)\n",
    "        \n",
    "        return dp(0)"
   ]
  },
  {
   "cell_type": "code",
   "execution_count": 14,
   "metadata": {},
   "outputs": [],
   "source": [
    "# Heap\n",
    "# Runtime: 732 ms, faster than 40.59%\n",
    "# https://leetcode.com/problems/maximum-profit-in-job-scheduling/discuss/409358/Python\n",
    "from typing import List\n",
    "import itertools\n",
    "import heapq\n",
    "\n",
    "class Solution:\n",
    "    def jobScheduling(self, startTime: List[int], endTime: List[int], profit: List[int]) -> int:\n",
    "        heap = sorted(zip(startTime, itertools.repeat(1), endTime, profit))\n",
    "        res = 0\n",
    "        while heap:\n",
    "            start, isNotRun, end, profit = heapq.heappop(heap)\n",
    "            if isNotRun: # uncompleted job\n",
    "                heapq.heappush(heap, (end, 0, 0, res+profit)) # second zero is placeholder\n",
    "            else: # completed job\n",
    "                res = max(res, profit)\n",
    "        return res"
   ]
  },
  {
   "cell_type": "code",
   "execution_count": 15,
   "metadata": {},
   "outputs": [
    {
     "data": {
      "text/plain": [
       "150"
      ]
     },
     "execution_count": 15,
     "metadata": {},
     "output_type": "execute_result"
    }
   ],
   "source": [
    "Solution().jobScheduling(startTime = [1,2,3,4,6], endTime = [3,5,10,6,9], profit = [20,20,100,70,60])"
   ]
  },
  {
   "cell_type": "code",
   "execution_count": null,
   "metadata": {},
   "outputs": [],
   "source": []
  }
 ],
 "metadata": {
  "kernelspec": {
   "display_name": "Python 3",
   "language": "python",
   "name": "python3"
  },
  "language_info": {
   "codemirror_mode": {
    "name": "ipython",
    "version": 3
   },
   "file_extension": ".py",
   "mimetype": "text/x-python",
   "name": "python",
   "nbconvert_exporter": "python",
   "pygments_lexer": "ipython3",
   "version": "3.6.8"
  }
 },
 "nbformat": 4,
 "nbformat_minor": 2
}
