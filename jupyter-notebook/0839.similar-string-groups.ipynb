{
 "cells": [
  {
   "cell_type": "code",
   "execution_count": 26,
   "metadata": {},
   "outputs": [],
   "source": [
    "# Runtime: 7028 ms, faster than 12.44%\n",
    "# T: O(N^2 * W) or O(N W^3)\n",
    "# TLE - O(N^2 * W)\n",
    "# https://leetcode.com/articles/similar-string-groups/\n",
    "from typing import List\n",
    "from itertools import combinations\n",
    "from collections import defaultdict\n",
    "\n",
    "class Solution:\n",
    "    def numSimilarGroups(self, A: List[str]) -> int:\n",
    "        def isSimilar(a: str, b: str) -> bool:\n",
    "            diff = 0\n",
    "            for ch1, ch2 in zip(a, b):\n",
    "                diff += ch1 != ch2\n",
    "                if diff > 2: # if not break here, TLE\n",
    "                    return False\n",
    "            return True\n",
    "        \n",
    "        N, W = len(A), len(A[0])\n",
    "        uf = UF(N)\n",
    "        if N < W*W: # If few words, then check for pairwise similarity: O(N^2 W)\n",
    "#             for i in range(N-1):\n",
    "#                 for j in range(i+1, N):\n",
    "              for i, j in combinations(range(N), 2):\n",
    "                    w1, w2 = A[i], A[j]\n",
    "                    if isSimilar(w1, w2):\n",
    "                        uf.union(i, j)\n",
    "        else: # If short words, check all neighbors: O(N W^3) - add this logic to workaround TLE in python\n",
    "            buckets = defaultdict(set)\n",
    "            for i, w in enumerate(A): # O(N)\n",
    "                L = list(w) # convert str into char array\n",
    "#                 for j in range(W-1): # O(W^2)\n",
    "#                     for k in range(j+1, W):\n",
    "                for j, k in combinations(range(W), 2): # pick arbitrary two elements for each word and swap (find its similar neighbors)\n",
    "                    L[j], L[k] = L[k], L[j]\n",
    "                    buckets[''.join(L)].add(i) # O(W)?\n",
    "                    L[j], L[k] = L[k], L[j] # reset the swap\n",
    "            \n",
    "            for i, w in enumerate(A):\n",
    "                for j in buckets[w]: \n",
    "                    uf.union(i, j)\n",
    "                    \n",
    "        return uf.count\n",
    "#         return sum(uf.parents[i]==i for i in range(N))\n",
    "            \n",
    "class UF:\n",
    "    def __init__(self, n: int, cnt: int=-1):\n",
    "        self.parents = [i for i in range(n)]\n",
    "        self.count = cnt if cnt != -1 else n\n",
    "    \n",
    "    def find(self, x: int) -> int:\n",
    "        if self.parents[x] != x:\n",
    "            self.parents[x] = self.find(self.parents[x])\n",
    "        return self.parents[x]\n",
    "    \n",
    "    def union(self, x: int, y: int) -> bool:\n",
    "        xroot, yroot = self.find(x), self.find(y)\n",
    "        if xroot != yroot:\n",
    "            self.parents[xroot] = yroot\n",
    "            self.count -= 1\n",
    "        return xroot != yroot"
   ]
  },
  {
   "cell_type": "code",
   "execution_count": 27,
   "metadata": {},
   "outputs": [
    {
     "data": {
      "text/plain": [
       "2"
      ]
     },
     "execution_count": 27,
     "metadata": {},
     "output_type": "execute_result"
    }
   ],
   "source": [
    "Solution().numSimilarGroups([\"tars\",\"rats\",\"arts\",\"star\"])"
   ]
  },
  {
   "cell_type": "code",
   "execution_count": 28,
   "metadata": {},
   "outputs": [
    {
     "data": {
      "text/plain": [
       "1"
      ]
     },
     "execution_count": 28,
     "metadata": {},
     "output_type": "execute_result"
    }
   ],
   "source": [
    "Solution().numSimilarGroups([\"blw\",\"bwl\",\"wlb\"])"
   ]
  },
  {
   "cell_type": "code",
   "execution_count": null,
   "metadata": {},
   "outputs": [],
   "source": []
  }
 ],
 "metadata": {
  "kernelspec": {
   "display_name": "Python 3",
   "language": "python",
   "name": "python3"
  },
  "language_info": {
   "codemirror_mode": {
    "name": "ipython",
    "version": 3
   },
   "file_extension": ".py",
   "mimetype": "text/x-python",
   "name": "python",
   "nbconvert_exporter": "python",
   "pygments_lexer": "ipython3",
   "version": "3.6.8"
  }
 },
 "nbformat": 4,
 "nbformat_minor": 2
}
