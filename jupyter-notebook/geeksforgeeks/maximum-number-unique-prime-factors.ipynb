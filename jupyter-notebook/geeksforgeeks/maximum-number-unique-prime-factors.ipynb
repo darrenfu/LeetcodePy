{
 "cells": [
  {
   "cell_type": "code",
   "execution_count": 3,
   "metadata": {},
   "outputs": [],
   "source": [
    "#https://www.geeksforgeeks.org/maximum-number-unique-prime-factors/\n",
    "class Solution:\n",
    "    def maxPrimefactorNum(self, N: int) -> int:\n",
    "        factorCount = [0] * (N+1)\n",
    "        i = 2\n",
    "        while i * i <= N:\n",
    "            if factorCount[i] == 0:\n",
    "                for j in range(i*2, N+1, i):\n",
    "                    factorCount[j] += 1\n",
    "                factorCount[i] = 1\n",
    "            i += 1\n",
    "        return max(factorCount)"
   ]
  },
  {
   "cell_type": "code",
   "execution_count": 39,
   "metadata": {},
   "outputs": [],
   "source": [
    "class Solution:\n",
    "    def maxPrimefactorNum(self, N: int) -> int:\n",
    "        if N < 2: return 0\n",
    "        primes = [True] * (N+1)\n",
    "        i = 2\n",
    "        prod, count = 1, 0\n",
    "        while i*i <= N:\n",
    "            if primes[i]:\n",
    "                for j in range(i*2, N+1, i):\n",
    "                    primes[j] = False\n",
    "#                 print(prod*i, i, count, N)\n",
    "                if prod*i > N: # if next prod is larger than N, return the current count, aka. the first prime count\n",
    "                    return count\n",
    "                prod *= i\n",
    "                count += 1\n",
    "            i += 1\n",
    "        return count"
   ]
  },
  {
   "cell_type": "code",
   "execution_count": 40,
   "metadata": {},
   "outputs": [
    {
     "data": {
      "text/plain": [
       "4"
      ]
     },
     "execution_count": 40,
     "metadata": {},
     "output_type": "execute_result"
    }
   ],
   "source": [
    "Solution().maxPrimefactorNum(210)"
   ]
  },
  {
   "cell_type": "code",
   "execution_count": 41,
   "metadata": {},
   "outputs": [
    {
     "data": {
      "text/plain": [
       "5"
      ]
     },
     "execution_count": 41,
     "metadata": {},
     "output_type": "execute_result"
    }
   ],
   "source": [
    "Solution().maxPrimefactorNum(2310)"
   ]
  },
  {
   "cell_type": "code",
   "execution_count": 42,
   "metadata": {},
   "outputs": [
    {
     "data": {
      "text/plain": [
       "3"
      ]
     },
     "execution_count": 42,
     "metadata": {},
     "output_type": "execute_result"
    }
   ],
   "source": [
    "Solution().maxPrimefactorNum(209)"
   ]
  },
  {
   "cell_type": "code",
   "execution_count": 43,
   "metadata": {},
   "outputs": [
    {
     "data": {
      "text/plain": [
       "2"
      ]
     },
     "execution_count": 43,
     "metadata": {},
     "output_type": "execute_result"
    }
   ],
   "source": [
    "Solution().maxPrimefactorNum(10)"
   ]
  },
  {
   "cell_type": "code",
   "execution_count": null,
   "metadata": {},
   "outputs": [],
   "source": []
  }
 ],
 "metadata": {
  "kernelspec": {
   "display_name": "Python 3",
   "language": "python",
   "name": "python3"
  },
  "language_info": {
   "codemirror_mode": {
    "name": "ipython",
    "version": 3
   },
   "file_extension": ".py",
   "mimetype": "text/x-python",
   "name": "python",
   "nbconvert_exporter": "python",
   "pygments_lexer": "ipython3",
   "version": "3.6.8"
  }
 },
 "nbformat": 4,
 "nbformat_minor": 2
}
