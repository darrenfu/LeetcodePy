{
 "cells": [
  {
   "cell_type": "code",
   "execution_count": 7,
   "metadata": {},
   "outputs": [],
   "source": [
    "# Compass interview problem\n",
    "# https://www.geeksforgeeks.org/number-which-has-the-maximum-number-of-distinct-prime-factors-in-range-m-to-n/\n",
    "class Solution:\n",
    "    def maximumNumberDistinctPrimeRange(self, m: int, n: int) -> int:\n",
    "        factorCount = [0] * (n+1)\n",
    "        primes = [True] * (n+1)\n",
    "        for i in range(2, n+1):\n",
    "            if primes[i]: # find a prime\n",
    "                factorCount[i] = 1 # init prime count as 1\n",
    "                # note: for i^2 like 4 and 9, because we only need \"distinct\" factor, factorCount[j] = 1 instead of 2\n",
    "                for j in range(i*2, n+1, i): # increase factorCount[primexj] starting from primex2 till n\n",
    "                    primes[j] = False\n",
    "                    factorCount[j] += 1\n",
    "        max_count = 0\n",
    "        res = 0\n",
    "        for i in range(m, n+1):\n",
    "            if factorCount[i] > max_count:\n",
    "                max_count = factorCount[i]\n",
    "                res = i\n",
    "        return res"
   ]
  },
  {
   "cell_type": "code",
   "execution_count": 8,
   "metadata": {},
   "outputs": [
    {
     "data": {
      "text/plain": [
       "6"
      ]
     },
     "execution_count": 8,
     "metadata": {},
     "output_type": "execute_result"
    }
   ],
   "source": [
    "Solution().maximumNumberDistinctPrimeRange(1, 10)"
   ]
  },
  {
   "cell_type": "code",
   "execution_count": 9,
   "metadata": {},
   "outputs": [
    {
     "data": {
      "text/plain": [
       "6"
      ]
     },
     "execution_count": 9,
     "metadata": {},
     "output_type": "execute_result"
    }
   ],
   "source": [
    "Solution().maximumNumberDistinctPrimeRange(4, 6)"
   ]
  },
  {
   "cell_type": "code",
   "execution_count": null,
   "metadata": {},
   "outputs": [],
   "source": []
  }
 ],
 "metadata": {
  "kernelspec": {
   "display_name": "Python 3",
   "language": "python",
   "name": "python3"
  },
  "language_info": {
   "codemirror_mode": {
    "name": "ipython",
    "version": 3
   },
   "file_extension": ".py",
   "mimetype": "text/x-python",
   "name": "python",
   "nbconvert_exporter": "python",
   "pygments_lexer": "ipython3",
   "version": "3.6.8"
  }
 },
 "nbformat": 4,
 "nbformat_minor": 2
}
