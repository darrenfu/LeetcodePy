{
 "cells": [
  {
   "cell_type": "code",
   "execution_count": 17,
   "metadata": {},
   "outputs": [],
   "source": [
    "# DP (divide and conquer)\n",
    "# dp[n + 1] = dp[0] * dp[n] + dp[1] * dp[n - 1] + ..... + dp[n] * dp[0]\n",
    "# Time O(N^2), Space O(N)\n",
    "# The first person and the person he shakes hand with divide the group into two parts. These two parts are the sub-problems.\n",
    "# https://leetcode.com/problems/handshakes-that-dont-cross/discuss/430484/Python-Simple-DP-Explained\n",
    "class Solution:\n",
    "    def numberOfWays(self, num_people: int) -> int:\n",
    "        def dp(n: int) -> int:\n",
    "            if n < 0:\n",
    "                return 0\n",
    "            if n in memo:\n",
    "                return memo[n]\n",
    "\n",
    "            res = 0\n",
    "            for i in range(1, n+1, 2):\n",
    "                res += dp(i-1) * dp(n-(i+1))\n",
    "                res %= (10 ** 9 + 7)\n",
    "            memo[n] = res\n",
    "            return res\n",
    "        \n",
    "        memo = {0:1}\n",
    "        return dp(num_people)"
   ]
  },
  {
   "cell_type": "code",
   "execution_count": 20,
   "metadata": {},
   "outputs": [],
   "source": [
    "from functools import lru_cache\n",
    "\n",
    "class Solution:\n",
    "    def numberOfWays(self, num_people: int) -> int:\n",
    "        @lru_cache(None)\n",
    "        def dp(n: int) -> int:\n",
    "            if n == 0:\n",
    "                return 1\n",
    "            res = 0\n",
    "            for i in range(1, n+1, 2): # skip odd ones\n",
    "                res += dp(i-1) * dp(n-(i+1))\n",
    "                res %= (10 ** 9 + 7)\n",
    "            return res\n",
    "        \n",
    "        return dp(num_people)"
   ]
  },
  {
   "cell_type": "code",
   "execution_count": 21,
   "metadata": {},
   "outputs": [
    {
     "data": {
      "text/plain": [
       "5"
      ]
     },
     "execution_count": 21,
     "metadata": {},
     "output_type": "execute_result"
    }
   ],
   "source": [
    "Solution().numberOfWays(6)"
   ]
  },
  {
   "cell_type": "code",
   "execution_count": 22,
   "metadata": {},
   "outputs": [
    {
     "data": {
      "text/plain": [
       "14"
      ]
     },
     "execution_count": 22,
     "metadata": {},
     "output_type": "execute_result"
    }
   ],
   "source": [
    "Solution().numberOfWays(8)"
   ]
  },
  {
   "cell_type": "code",
   "execution_count": null,
   "metadata": {},
   "outputs": [],
   "source": []
  }
 ],
 "metadata": {
  "kernelspec": {
   "display_name": "Python 3",
   "language": "python",
   "name": "python3"
  },
  "language_info": {
   "codemirror_mode": {
    "name": "ipython",
    "version": 3
   },
   "file_extension": ".py",
   "mimetype": "text/x-python",
   "name": "python",
   "nbconvert_exporter": "python",
   "pygments_lexer": "ipython3",
   "version": "3.6.8"
  }
 },
 "nbformat": 4,
 "nbformat_minor": 2
}
