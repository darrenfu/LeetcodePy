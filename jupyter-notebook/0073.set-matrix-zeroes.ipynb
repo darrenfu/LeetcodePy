{
 "cells": [
  {
   "cell_type": "code",
   "execution_count": 12,
   "metadata": {},
   "outputs": [],
   "source": [
    "# S: O(M+N)\n",
    "from typing import List\n",
    "\n",
    "class Solution:\n",
    "    def setZeroes(self, matrix: List[List[int]]):\n",
    "        R, C = len(matrix), len(matrix[0])\n",
    "        rzeros = [False] * R\n",
    "        czeros = [False] * C\n",
    "        for i in range(R):\n",
    "            for j in range(C):\n",
    "                if matrix[i][j] == 0:\n",
    "                    rzeros[i] = True\n",
    "                    break\n",
    "        for j in range(C):\n",
    "            for i in range(R):\n",
    "                if matrix[i][j] == 0:\n",
    "                    czeros[j] = True\n",
    "                    break\n",
    "#         print(rzeros, czeros)\n",
    "        for i, v in enumerate(rzeros):\n",
    "            for j in range(C):\n",
    "                if v:\n",
    "                    matrix[i][j] = 0\n",
    "        for i, v in enumerate(czeros):\n",
    "            for j in range(R):\n",
    "                if v:\n",
    "                    matrix[j][i] = 0"
   ]
  },
  {
   "cell_type": "code",
   "execution_count": null,
   "metadata": {},
   "outputs": [],
   "source": [
    "# in-place: use first row and first column\n",
    "from typing import List\n",
    "\n",
    "class Solution:\n",
    "    def setZeroes(self, matrix: List[List[int]]):\n",
    "#         R, C = len(matrix), len(matrix[0])\n",
    "#         for i in range(1, R):\n",
    "#             for j in range(1, C):\n",
    "#                 if matrix[i][j] == 0:\n",
    "#                     matrix[i][0] = 0\n",
    "        \n",
    "#         for j in range(1, C):\n",
    "#             for i in range(1, R):\n",
    "#                 if matrix[i][j] == 0:\n",
    "#                     matrix[0][j] = 0"
   ]
  },
  {
   "cell_type": "code",
   "execution_count": 13,
   "metadata": {},
   "outputs": [
    {
     "name": "stdout",
     "output_type": "stream",
     "text": [
      "[True, True, True] [True, True, True]\n",
      "[[0, 0, 0], [0, 0, 0], [0, 0, 0]]\n"
     ]
    }
   ],
   "source": [
    "matrix = [[1,0,0],[0,1,1],[1,0,1]]\n",
    "Solution().setZeroes(matrix = matrix)\n",
    "print(matrix)"
   ]
  },
  {
   "cell_type": "code",
   "execution_count": 15,
   "metadata": {},
   "outputs": [
    {
     "name": "stdout",
     "output_type": "stream",
     "text": [
      "[True, False, False] [True, False, False, True]\n",
      "[[0, 0, 0, 0], [0, 4, 5, 0], [0, 3, 1, 0]]\n"
     ]
    }
   ],
   "source": [
    "matrix = [\n",
    "  [0,1,2,0],\n",
    "  [3,4,5,2],\n",
    "  [1,3,1,5]\n",
    "]\n",
    "Solution().setZeroes(matrix = matrix)\n",
    "print(matrix)"
   ]
  },
  {
   "cell_type": "code",
   "execution_count": null,
   "metadata": {},
   "outputs": [],
   "source": []
  },
  {
   "cell_type": "code",
   "execution_count": null,
   "metadata": {},
   "outputs": [],
   "source": []
  }
 ],
 "metadata": {
  "kernelspec": {
   "display_name": "Python 3",
   "language": "python",
   "name": "python3"
  },
  "language_info": {
   "codemirror_mode": {
    "name": "ipython",
    "version": 3
   },
   "file_extension": ".py",
   "mimetype": "text/x-python",
   "name": "python",
   "nbconvert_exporter": "python",
   "pygments_lexer": "ipython3",
   "version": "3.6.8"
  }
 },
 "nbformat": 4,
 "nbformat_minor": 2
}
