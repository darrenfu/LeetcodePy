{
 "cells": [
  {
   "cell_type": "code",
   "execution_count": 24,
   "metadata": {},
   "outputs": [],
   "source": [
    "#https://leetcode.com/problems/unique-paths-iii/discuss/221946/JavaPython-Brute-Force-Backstracking\n",
    "from typing import List\n",
    "class Solution:\n",
    "    def uniquePathsIII(self, grid: List[List[int]]) -> int:\n",
    "        def dfs(x: int, y: int, empty: int):\n",
    "            nonlocal end_x, end_y, paths\n",
    "            if not (0<=x<L1 and 0<=y<L2 and grid[x][y] >= 0): return\n",
    "            if (x, y) == (end_x, end_y):\n",
    "                paths += empty == 0\n",
    "                return\n",
    "            grid[x][y] = -2\n",
    "            for (dx, dy) in [(-1,0),(1,0),(0,-1),(0,1)]:\n",
    "                dfs(x+dx, y+dy, empty-1)\n",
    "            grid[x][y] = 0\n",
    "            return\n",
    "        \n",
    "        L1, L2 = len(grid), len(grid[0])\n",
    "        # empty_cnt = 1 because starting pts should be counted\n",
    "        paths, empty_cnt, start_x, start_y, end_x, end_y = 0, 1, 0, 0, 0, 0\n",
    "        for i in range(L1):\n",
    "            for j in range(L2):\n",
    "                if grid[i][j] == 1:\n",
    "                    (start_x, start_y) = (i, j)\n",
    "                elif grid[i][j] == 2:\n",
    "                    (end_x, end_y) = (i, j)\n",
    "                elif grid[i][j] == 0:\n",
    "                    empty_cnt += 1\n",
    "        dfs(start_x, start_y, empty_cnt)\n",
    "        return paths"
   ]
  },
  {
   "cell_type": "code",
   "execution_count": 25,
   "metadata": {},
   "outputs": [
    {
     "data": {
      "text/plain": [
       "2"
      ]
     },
     "execution_count": 25,
     "metadata": {},
     "output_type": "execute_result"
    }
   ],
   "source": [
    "Solution().uniquePathsIII(grid=[[1,0,0,0],[0,0,0,0],[0,0,2,-1]])"
   ]
  },
  {
   "cell_type": "code",
   "execution_count": 26,
   "metadata": {},
   "outputs": [
    {
     "data": {
      "text/plain": [
       "4"
      ]
     },
     "execution_count": 26,
     "metadata": {},
     "output_type": "execute_result"
    }
   ],
   "source": [
    "Solution().uniquePathsIII(grid=[[1,0,0,0],[0,0,0,0],[0,0,0,2]])"
   ]
  },
  {
   "cell_type": "code",
   "execution_count": 27,
   "metadata": {},
   "outputs": [
    {
     "data": {
      "text/plain": [
       "0"
      ]
     },
     "execution_count": 27,
     "metadata": {},
     "output_type": "execute_result"
    }
   ],
   "source": [
    "Solution().uniquePathsIII(grid=[[0,1],[2,0]])"
   ]
  },
  {
   "cell_type": "code",
   "execution_count": null,
   "metadata": {},
   "outputs": [],
   "source": []
  }
 ],
 "metadata": {
  "kernelspec": {
   "display_name": "Python 3",
   "language": "python",
   "name": "python3"
  },
  "language_info": {
   "codemirror_mode": {
    "name": "ipython",
    "version": 3
   },
   "file_extension": ".py",
   "mimetype": "text/x-python",
   "name": "python",
   "nbconvert_exporter": "python",
   "pygments_lexer": "ipython3",
   "version": "3.6.8"
  }
 },
 "nbformat": 4,
 "nbformat_minor": 2
}
