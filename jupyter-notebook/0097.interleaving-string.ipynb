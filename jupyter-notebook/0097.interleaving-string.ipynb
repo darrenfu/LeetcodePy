{
 "cells": [
  {
   "cell_type": "markdown",
   "metadata": {},
   "source": [
    "### [97\\. Interleaving String](https://leetcode.com/problems/interleaving-string/)\n",
    "\n",
    "Difficulty: **Hard**\n",
    "\n",
    "\n",
    "Given _s1_, _s2_, _s3_, find whether _s3_ is formed by the interleaving of _s1_ and _s2_.\n",
    "\n",
    "**Example 1:**\n",
    "\n",
    "```\n",
    "Input: s1 = \"aabcc\", s2 = \"dbbca\", s3 = \"aadbbcbcac\"\n",
    "Output: true\n",
    "```\n",
    "\n",
    "**Example 2:**\n",
    "\n",
    "```\n",
    "Input: s1 = \"aabcc\", s2 = \"dbbca\", s3 = \"aadbbbaccc\"\n",
    "Output: false\n",
    "```"
   ]
  },
  {
   "cell_type": "code",
   "execution_count": 39,
   "metadata": {},
   "outputs": [],
   "source": [
    "# Similar to 72. Edit Distance\n",
    "class Solution:\n",
    "    def isInterleave(self, s1: str, s2: str, s3: str) -> bool:\n",
    "        L1, L2, L3 = len(s1), len(s2), len(s3)\n",
    "        if L1+L2 != L3: return False\n",
    "        dp = [[False] * (L2+1) for _ in range(L1+1)]\n",
    "        dp[0][0] = True\n",
    "        for i in range(L1):\n",
    "            dp[i+1][0] = dp[i][0] and s1[i] == s3[i]\n",
    "        for j in range(L2):\n",
    "            dp[0][j+1] = dp[0][j] and s2[j] == s3[j]\n",
    "            \n",
    "        for i in range(L1):\n",
    "            for j in range(L2):\n",
    "                # Note: s3[i+j+1] = s3[(i+1)+(j+1)-1]\n",
    "                # i.e. s3's first i+1 + j+1 elements' index = (s1's first i+1 elements + s2's first j+1 elements) - 1\n",
    "                dp[i+1][j+1] = (dp[i][j+1] and s1[i] == s3[i+j+1]) or (dp[i+1][j] and s2[j] == s3[i+j+1])\n",
    "        #for i in range(len(dp)):\n",
    "            #print(dp[i])\n",
    "        return dp[-1][-1]"
   ]
  },
  {
   "cell_type": "code",
   "execution_count": 40,
   "metadata": {},
   "outputs": [
    {
     "data": {
      "text/plain": [
       "False"
      ]
     },
     "execution_count": 40,
     "metadata": {},
     "output_type": "execute_result"
    }
   ],
   "source": [
    "Solution().isInterleave(s1 = \"aabcc\", s2 = \"dbbca\", s3 = \"aadbbcbcac\")"
   ]
  },
  {
   "cell_type": "code",
   "execution_count": 41,
   "metadata": {},
   "outputs": [
    {
     "data": {
      "text/plain": [
       "False"
      ]
     },
     "execution_count": 41,
     "metadata": {},
     "output_type": "execute_result"
    }
   ],
   "source": [
    "Solution().isInterleave(\"db\", \"b\", \"cbb\")"
   ]
  },
  {
   "cell_type": "code",
   "execution_count": null,
   "metadata": {},
   "outputs": [],
   "source": []
  }
 ],
 "metadata": {
  "kernelspec": {
   "display_name": "Python 3",
   "language": "python",
   "name": "python3"
  },
  "language_info": {
   "codemirror_mode": {
    "name": "ipython",
    "version": 3
   },
   "file_extension": ".py",
   "mimetype": "text/x-python",
   "name": "python",
   "nbconvert_exporter": "python",
   "pygments_lexer": "ipython3",
   "version": "3.6.8"
  }
 },
 "nbformat": 4,
 "nbformat_minor": 2
}
