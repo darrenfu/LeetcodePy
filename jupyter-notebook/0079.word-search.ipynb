{
 "cells": [
  {
   "cell_type": "markdown",
   "metadata": {},
   "source": [
    "### [79\\. Word Search](https://leetcode.com/problems/word-search/)\n",
    "\n",
    "Difficulty: **Medium**\n",
    "\n",
    "\n",
    "Given a 2D board and a word, find if the word exists in the grid.\n",
    "\n",
    "The word can be constructed from letters of sequentially adjacent cell, where \"adjacent\" cells are those horizontally or vertically neighboring. The same letter cell may not be used more than once.\n",
    "\n",
    "**Example:**\n",
    "\n",
    "```\n",
    "board =\n",
    "[\n",
    "  ['A','B','C','E'],\n",
    "  ['S','F','C','S'],\n",
    "  ['A','D','E','E']\n",
    "]\n",
    "\n",
    "Given word = \"ABCCED\", return true.\n",
    "Given word = \"SEE\", return true.\n",
    "Given word = \"ABCB\", return false.\n",
    "```"
   ]
  },
  {
   "cell_type": "code",
   "execution_count": 19,
   "metadata": {},
   "outputs": [],
   "source": [
    "# https://leetcode.com/problems/word-search/discuss/27660/Python-dfs-solution-with-comments.\n",
    "from typing import List\n",
    "\n",
    "class Solution:\n",
    "    def exist(self, board: List[List[str]], word: str) -> bool:\n",
    "        def neighbor(i: int, j: int):\n",
    "            for r, c in ((i+1,j),(i-1,j),(i,j+1),(i,j-1)):\n",
    "                if 0 <= r < R and 0 <= c < C: # check boundary\n",
    "                    yield(r, c)\n",
    "                    \n",
    "        def dfs(i: int, j: int, word: str) -> bool:\n",
    "            if not word: return True # word found\n",
    "            if board[i][j] != word[0]: return False\n",
    "            if len(word) == 1: return True\n",
    "            tmp = board[i][j]\n",
    "            board[i][j] = '#' # avoid revisit vertex itself\n",
    "            for x, y in neighbor(i, j):\n",
    "                if dfs(x, y, word[1:]):\n",
    "                    return True\n",
    "            board[i][j] = tmp\n",
    "            return False\n",
    "            \n",
    "        if not board: return False\n",
    "        R, C = len(board), len(board[0])\n",
    "        for i in range(R):\n",
    "            for j in range(C):\n",
    "                if dfs(i, j, word):\n",
    "                    return True\n",
    "        return False"
   ]
  },
  {
   "cell_type": "code",
   "execution_count": 29,
   "metadata": {},
   "outputs": [],
   "source": [
    "from typing import List\n",
    "\n",
    "class Solution:\n",
    "    def exist(self, board: List[List[str]], word: str) -> bool:\n",
    "        def neighbor(i: int, j: int):\n",
    "            for r, c in ((i+1,j),(i-1,j),(i,j+1),(i,j-1)):\n",
    "                yield(r, c)\n",
    "                    \n",
    "        def dfs(i: int, j: int, word: str) -> bool:\n",
    "            if not word: return True # word found\n",
    "            if not (0 <= i < R and 0 <= j < C): return False # check boundary\n",
    "            if board[i][j] != word[0]: return False\n",
    "            tmp = board[i][j]\n",
    "            board[i][j] = '#' # avoid revisit vertex itself\n",
    "            for x, y in neighbor(i, j):\n",
    "                if dfs(x, y, word[1:]):\n",
    "                    return True\n",
    "            board[i][j] = tmp\n",
    "            return False\n",
    "            \n",
    "        if not board: return False\n",
    "        R, C = len(board), len(board[0])\n",
    "        for i in range(R):\n",
    "            for j in range(C):\n",
    "                if dfs(i, j, word):\n",
    "                    return True\n",
    "        return False"
   ]
  },
  {
   "cell_type": "code",
   "execution_count": 30,
   "metadata": {},
   "outputs": [
    {
     "data": {
      "text/plain": [
       "True"
      ]
     },
     "execution_count": 30,
     "metadata": {},
     "output_type": "execute_result"
    }
   ],
   "source": [
    "Solution().exist(board = [\n",
    "  ['A','B','C','E'],\n",
    "  ['S','F','C','S'],\n",
    "  ['A','D','E','E']\n",
    "], word=\"ABCCED\")"
   ]
  },
  {
   "cell_type": "code",
   "execution_count": 31,
   "metadata": {},
   "outputs": [
    {
     "data": {
      "text/plain": [
       "True"
      ]
     },
     "execution_count": 31,
     "metadata": {},
     "output_type": "execute_result"
    }
   ],
   "source": [
    "Solution().exist(board = [\n",
    "  ['A','B','C','E'],\n",
    "  ['S','F','C','S'],\n",
    "  ['A','D','E','E']\n",
    "], word=\"SEE\")"
   ]
  },
  {
   "cell_type": "code",
   "execution_count": 32,
   "metadata": {},
   "outputs": [
    {
     "data": {
      "text/plain": [
       "False"
      ]
     },
     "execution_count": 32,
     "metadata": {},
     "output_type": "execute_result"
    }
   ],
   "source": [
    "Solution().exist(board = [\n",
    "  ['A','B','C','E'],\n",
    "  ['S','F','C','S'],\n",
    "  ['A','D','E','E']\n",
    "], word=\"ABCB\")"
   ]
  },
  {
   "cell_type": "code",
   "execution_count": 33,
   "metadata": {},
   "outputs": [
    {
     "data": {
      "text/plain": [
       "True"
      ]
     },
     "execution_count": 33,
     "metadata": {},
     "output_type": "execute_result"
    }
   ],
   "source": [
    "Solution().exist(board = [\n",
    "  ['A','B','C','E'],\n",
    "  ['S','F','C','S'],\n",
    "  ['A','D','E','E']\n",
    "], word=\"A\")"
   ]
  },
  {
   "cell_type": "code",
   "execution_count": 34,
   "metadata": {},
   "outputs": [
    {
     "data": {
      "text/plain": [
       "True"
      ]
     },
     "execution_count": 34,
     "metadata": {},
     "output_type": "execute_result"
    }
   ],
   "source": [
    "Solution().exist(board = [\n",
    "  ['A']\n",
    "], word=\"A\")"
   ]
  },
  {
   "cell_type": "code",
   "execution_count": null,
   "metadata": {},
   "outputs": [],
   "source": []
  }
 ],
 "metadata": {
  "kernelspec": {
   "display_name": "Python 3",
   "language": "python",
   "name": "python3"
  },
  "language_info": {
   "codemirror_mode": {
    "name": "ipython",
    "version": 3
   },
   "file_extension": ".py",
   "mimetype": "text/x-python",
   "name": "python",
   "nbconvert_exporter": "python",
   "pygments_lexer": "ipython3",
   "version": "3.6.8"
  }
 },
 "nbformat": 4,
 "nbformat_minor": 2
}
