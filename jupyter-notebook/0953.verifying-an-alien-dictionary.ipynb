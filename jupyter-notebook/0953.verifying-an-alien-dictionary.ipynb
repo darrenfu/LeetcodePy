{
 "cells": [
  {
   "cell_type": "code",
   "execution_count": 7,
   "metadata": {},
   "outputs": [],
   "source": [
    "# Runtime: 52 ms, faster than 12.74%\n",
    "from typing import List\n",
    "\n",
    "class Solution:\n",
    "    def isAlienSorted(self, words: List[str], order: str) -> bool:\n",
    "        seq = [0] * 26\n",
    "        for i, ch in enumerate(order):\n",
    "            seq[ord(ch)-ord('a')] = i\n",
    "        res = [[seq[ord(ch)-ord('a')] for ch in w] for w in words]\n",
    "        return res == sorted(res)"
   ]
  },
  {
   "cell_type": "code",
   "execution_count": 1,
   "metadata": {},
   "outputs": [],
   "source": [
    "# Runtime: 48 ms, faster than 21.97% \n",
    "# https://leetcode.com/problems/verifying-an-alien-dictionary/discuss/203185/JavaC%2B%2BPython-Mapping-to-Normal-Order\n",
    "from typing import List\n",
    "\n",
    "class Solution:\n",
    "    def isAlienSorted(self, words: List[str], order: str) -> bool:\n",
    "        m = {c:i for i,c in enumerate(order)}\n",
    "        orders = [[m[c] for c in w] for w in words]\n",
    "        # python trick: compare prev and current value by zipping one digit mismatch of array itself\n",
    "        return all(o1 <= o2 for o1, o2 in zip(orders, orders[1:]))"
   ]
  },
  {
   "cell_type": "code",
   "execution_count": 6,
   "metadata": {},
   "outputs": [],
   "source": [
    "# Runtime: 44 ms, faster than 60.96%\n",
    "# https://leetcode.com/problems/verifying-an-alien-dictionary/discuss/203175/Python-straightforward-solution\n",
    "from typing import List\n",
    "\n",
    "class Solution:\n",
    "    def isAlienSorted(self, words: List[str], order: str) -> bool:\n",
    "        m = {c:i for i,c in enumerate(order)}\n",
    "        # compare adjacent words\n",
    "        for w1, w2 in zip(words, words[1:]):\n",
    "            # if w2 is prefix of w1, always return false\n",
    "            if len(w1) > len(w2) and w1[:len(w2)] == w2:\n",
    "                return False\n",
    "            for ch1, ch2 in zip(w1, w2):\n",
    "                # if current letter is in lower order, forget about rest of word\n",
    "                if m[ch1] < m[ch2]:\n",
    "                    break\n",
    "                elif m[ch1] > m[ch2]:\n",
    "                    return False\n",
    "        return True"
   ]
  },
  {
   "cell_type": "code",
   "execution_count": 7,
   "metadata": {},
   "outputs": [
    {
     "data": {
      "text/plain": [
       "True"
      ]
     },
     "execution_count": 7,
     "metadata": {},
     "output_type": "execute_result"
    }
   ],
   "source": [
    "Solution().isAlienSorted(words = [\"hello\",\"leetcode\"], order = \"hlabcdefgijkmnopqrstuvwxyz\")"
   ]
  },
  {
   "cell_type": "code",
   "execution_count": 8,
   "metadata": {},
   "outputs": [
    {
     "data": {
      "text/plain": [
       "False"
      ]
     },
     "execution_count": 8,
     "metadata": {},
     "output_type": "execute_result"
    }
   ],
   "source": [
    "Solution().isAlienSorted(words = [\"word\",\"world\",\"row\"], order = \"worldabcefghijkmnpqstuvxyz\")"
   ]
  },
  {
   "cell_type": "code",
   "execution_count": 9,
   "metadata": {},
   "outputs": [
    {
     "data": {
      "text/plain": [
       "False"
      ]
     },
     "execution_count": 9,
     "metadata": {},
     "output_type": "execute_result"
    }
   ],
   "source": [
    "Solution().isAlienSorted(words = [\"apple\",\"app\"], order = \"abcdefghijklmnopqrstuvwxyz\")"
   ]
  },
  {
   "cell_type": "code",
   "execution_count": null,
   "metadata": {},
   "outputs": [],
   "source": []
  }
 ],
 "metadata": {
  "kernelspec": {
   "display_name": "Python 3",
   "language": "python",
   "name": "python3"
  },
  "language_info": {
   "codemirror_mode": {
    "name": "ipython",
    "version": 3
   },
   "file_extension": ".py",
   "mimetype": "text/x-python",
   "name": "python",
   "nbconvert_exporter": "python",
   "pygments_lexer": "ipython3",
   "version": "3.6.8"
  }
 },
 "nbformat": 4,
 "nbformat_minor": 2
}
