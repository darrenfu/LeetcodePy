{
 "cells": [
  {
   "cell_type": "markdown",
   "metadata": {},
   "source": [
    "### [758\\. Bold Words in String](https://leetcode.com/problems/bold-words-in-string/)\n",
    "\n",
    "Difficulty: **Easy**\n",
    "\n",
    "\n",
    "Given a set of keywords `words` and a string `S`, make all appearances of all keywords in `S` bold. Any letters between `<b>` and `</b>` tags become bold.\n",
    "\n",
    "The returned string should use the least number of tags possible, and of course the tags should form a valid combination.\n",
    "\n",
    "For example, given that `words = [\"ab\", \"bc\"]` and `S = \"aabcd\"`, we should return `\"a<b>abc</b>d\"`. Note that returning `\"a<b>a<b>b</b>c</b>d\"` would use more tags, so it is incorrect.\n",
    "\n",
    "**Note:**\n",
    "\n",
    "1.  `words` has length in range `[0, 50]`.\n",
    "2.  `words[i]` has length in range `[1, 10]`.\n",
    "3.  `S` has length in range `[0, 500]`.\n",
    "4.  All characters in `words[i]` and `S` are lowercase letters.\n",
    "\n",
    "Note: Same as #616. Add Bold Tag in String"
   ]
  },
  {
   "cell_type": "code",
   "execution_count": 17,
   "metadata": {},
   "outputs": [],
   "source": [
    "# trie + mask array + groupby\n",
    "from typing import List\n",
    "import itertools\n",
    "\n",
    "class Solution:\n",
    "    def boldWords(self, words: List[str], S: str) -> str:\n",
    "        # construct trie\n",
    "        root = {} # every node is a dict in which key is the pointer to next node, value is next node's children\n",
    "        for w in words:\n",
    "            cur_node = root\n",
    "            for ch in w:\n",
    "                cur_node = cur_node.setdefault(ch, {}) # return cur_node[ch] if ch exists in cur_node\n",
    "            cur_node['#'] = 0 # mark ending as #\n",
    "        \n",
    "        L = len(S)\n",
    "        masks = [False] * L\n",
    "        for i in range(L):\n",
    "            cur = root\n",
    "            k = i\n",
    "            for j in range(i, L):\n",
    "                if S[j] not in cur:\n",
    "                    break # not match\n",
    "                cur = cur[S[j]]\n",
    "                if '#' in cur:\n",
    "                    k = j+1\n",
    "            masks[i:k] = [True] * (k-i)\n",
    "            #for l in range(i, k):\n",
    "            #    masks[l] = True\n",
    "        \n",
    "        res = ''\n",
    "        for key, group in itertools.groupby(zip(S, masks), lambda t: t[1]):\n",
    "            if key:\n",
    "                res += '<b>'\n",
    "            res += \"\".join(t[0] for t in group)\n",
    "            if key:\n",
    "                res += '</b>'\n",
    "        return res"
   ]
  },
  {
   "cell_type": "code",
   "execution_count": 25,
   "metadata": {},
   "outputs": [],
   "source": [
    "# trie + merge overlapping intervals\n",
    "# https://leetcode.com/problems/bold-words-in-string/discuss/247076/Optimized-Python-Solution-using-Trie-Tree-and-Merge-Intervals\n",
    "from typing import List\n",
    "\n",
    "class Solution:\n",
    "    def boldWords(self, words: List[str], S: str) -> str:\n",
    "        # construct trie\n",
    "        root = {} # every node is a dict in which key is the pointer to next node, value is next node's children\n",
    "        for w in words:\n",
    "            cur_node = root\n",
    "            for ch in w:\n",
    "                cur_node = cur_node.setdefault(ch, {}) # return cur_node[ch] if ch exists in cur_node\n",
    "            cur_node['#'] = 0 # mark ending as #\n",
    "        \n",
    "        intervals = []\n",
    "        def addInterval(interval):\n",
    "            nonlocal intervals\n",
    "            if intervals and intervals[-1][1] >= interval[0]:\n",
    "                if intervals[-1][1] < interval[1]: # overlapping two intervals found\n",
    "                    intervals[-1][1] = interval[1]\n",
    "            else:\n",
    "                intervals += interval,\n",
    "                \n",
    "        L = len(S)\n",
    "        for i in range(L):\n",
    "            cur = root\n",
    "            k = i\n",
    "            for j in range(i, L):\n",
    "                if S[j] not in cur:\n",
    "                    break # not match\n",
    "                cur = cur[S[j]]\n",
    "                if '#' in cur:\n",
    "                    k = j+1\n",
    "            if k != i:\n",
    "                addInterval([i, k])\n",
    "        \n",
    "        res = \"\"\n",
    "        prev_end = 0\n",
    "        for start, end in intervals:\n",
    "            res += S[prev_end:start] + '<b>' + S[start:end] + \"</b>\"\n",
    "            prev_end = end\n",
    "        return res + S[prev_end:]"
   ]
  },
  {
   "cell_type": "code",
   "execution_count": 26,
   "metadata": {},
   "outputs": [
    {
     "data": {
      "text/plain": [
       "'a<b>abc</b>d'"
      ]
     },
     "execution_count": 26,
     "metadata": {},
     "output_type": "execute_result"
    }
   ],
   "source": [
    "Solution().boldWords([\"ab\",\"bc\"], \"aabcd\")"
   ]
  },
  {
   "cell_type": "code",
   "execution_count": 27,
   "metadata": {},
   "outputs": [
    {
     "data": {
      "text/plain": [
       "'<b>ad</b>c<b>ad</b>d<b>ece</b>d'"
      ]
     },
     "execution_count": 27,
     "metadata": {},
     "output_type": "execute_result"
    }
   ],
   "source": [
    "Solution().boldWords([\"e\",\"ad\",\"ce\",\"a\",\"b\"], \"adcaddeced\")"
   ]
  },
  {
   "cell_type": "code",
   "execution_count": null,
   "metadata": {},
   "outputs": [],
   "source": []
  }
 ],
 "metadata": {
  "kernelspec": {
   "display_name": "Python 3",
   "language": "python",
   "name": "python3"
  },
  "language_info": {
   "codemirror_mode": {
    "name": "ipython",
    "version": 3
   },
   "file_extension": ".py",
   "mimetype": "text/x-python",
   "name": "python",
   "nbconvert_exporter": "python",
   "pygments_lexer": "ipython3",
   "version": "3.6.8"
  }
 },
 "nbformat": 4,
 "nbformat_minor": 2
}
