{
 "cells": [
  {
   "cell_type": "code",
   "execution_count": 7,
   "metadata": {},
   "outputs": [],
   "source": [
    "# Binary Search\n",
    "# https://www.cnblogs.com/grandyang/p/5507129.html\n",
    "# Runtime: 60 ms, faster than 31.29%\n",
    "from typing import List\n",
    "\n",
    "class Solution:\n",
    "    def intersection(self, nums1: List[int], nums2: List[int]) -> List[int]:\n",
    "        def binarySearch(A: List[int], target: int) -> bool:\n",
    "            lo, hi = 0, len(A)\n",
    "            while lo < hi:\n",
    "                mid = (lo+hi)//2\n",
    "                if A[mid] == b: # found\n",
    "                    return True\n",
    "                elif A[mid] > b:\n",
    "                    hi = mid\n",
    "                else:\n",
    "                    lo = mid+1\n",
    "            return False\n",
    "        \n",
    "        l1, l2 = len(nums1), len(nums2)\n",
    "        # A is longer than B\n",
    "        A, B = (nums1, nums2) if l1 > l2 else (nums2, nums1)\n",
    "        A.sort()\n",
    "        # traverse B, do binary search in A. If found, add to result\n",
    "        res = set()\n",
    "        for b in B:\n",
    "            if binarySearch(A, b):\n",
    "                res.add(b)\n",
    "        return list(res)"
   ]
  },
  {
   "cell_type": "code",
   "execution_count": 8,
   "metadata": {},
   "outputs": [
    {
     "data": {
      "text/plain": [
       "[9, 4]"
      ]
     },
     "execution_count": 8,
     "metadata": {},
     "output_type": "execute_result"
    }
   ],
   "source": [
    "Solution().intersection(nums1 = [4,9,5], nums2 = [9,4,9,8,4])"
   ]
  },
  {
   "cell_type": "code",
   "execution_count": null,
   "metadata": {},
   "outputs": [],
   "source": []
  }
 ],
 "metadata": {
  "kernelspec": {
   "display_name": "Python 3",
   "language": "python",
   "name": "python3"
  },
  "language_info": {
   "codemirror_mode": {
    "name": "ipython",
    "version": 3
   },
   "file_extension": ".py",
   "mimetype": "text/x-python",
   "name": "python",
   "nbconvert_exporter": "python",
   "pygments_lexer": "ipython3",
   "version": "3.6.8"
  }
 },
 "nbformat": 4,
 "nbformat_minor": 2
}
