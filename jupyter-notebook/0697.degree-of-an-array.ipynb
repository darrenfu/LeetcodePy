{
 "cells": [
  {
   "cell_type": "code",
   "execution_count": 15,
   "metadata": {},
   "outputs": [],
   "source": [
    "from typing import List\n",
    "from collections import Counter\n",
    "\n",
    "class Solution:\n",
    "    def findShortestSubArray(self, nums: List[int]) -> int:\n",
    "        cnt = Counter()\n",
    "        occurrence = {}\n",
    "        \n",
    "        for i, v in enumerate(nums):\n",
    "            cnt[v] += 1\n",
    "            if v not in occurrence:\n",
    "                occurrence[v] = [i,i]\n",
    "            else:\n",
    "                occurrence[v][1] = i\n",
    "                \n",
    "        most_freq = cnt.most_common(1)[0][1]\n",
    "        shortest = len(nums)\n",
    "        for k, v in cnt.items():\n",
    "            if most_freq == v:\n",
    "                start, end = occurrence[k]\n",
    "                l = end-start+1\n",
    "                if shortest > l:\n",
    "                    shortest = l\n",
    "        return shortest"
   ]
  },
  {
   "cell_type": "code",
   "execution_count": 33,
   "metadata": {},
   "outputs": [],
   "source": [
    "# One pass\n",
    "# https://leetcode.com/problems/degree-of-an-array/discuss/124317/JavaC%2B%2BPython-One-Pass-Solution\n",
    "from typing import List\n",
    "from collections import Counter\n",
    "\n",
    "class Solution:\n",
    "    def findShortestSubArray(self, nums: List[int]) -> int:\n",
    "        cnt = Counter()\n",
    "        starts = {}\n",
    "        shortest, degree = len(nums), 0\n",
    "        for i, v in enumerate(nums):\n",
    "            starts.setdefault(v, i)\n",
    "            cnt[v] += 1\n",
    "            if degree < cnt[v]:\n",
    "                degree = cnt[v]\n",
    "                shortest = i-starts[v]+1 # the closest index will exceed the current largest degree\n",
    "            elif degree == cnt[v]: # another equal degree\n",
    "                shortest = min(shortest, i-starts[v]+1)\n",
    "        return shortest"
   ]
  },
  {
   "cell_type": "code",
   "execution_count": 34,
   "metadata": {},
   "outputs": [
    {
     "data": {
      "text/plain": [
       "2"
      ]
     },
     "execution_count": 34,
     "metadata": {},
     "output_type": "execute_result"
    }
   ],
   "source": [
    "Solution().findShortestSubArray([1, 2, 2, 3, 1])"
   ]
  },
  {
   "cell_type": "code",
   "execution_count": 35,
   "metadata": {},
   "outputs": [
    {
     "data": {
      "text/plain": [
       "1"
      ]
     },
     "execution_count": 35,
     "metadata": {},
     "output_type": "execute_result"
    }
   ],
   "source": [
    "Solution().findShortestSubArray([1, 2, 3, 5, 4])"
   ]
  },
  {
   "cell_type": "code",
   "execution_count": null,
   "metadata": {},
   "outputs": [],
   "source": []
  }
 ],
 "metadata": {
  "kernelspec": {
   "display_name": "Python 3",
   "language": "python",
   "name": "python3"
  },
  "language_info": {
   "codemirror_mode": {
    "name": "ipython",
    "version": 3
   },
   "file_extension": ".py",
   "mimetype": "text/x-python",
   "name": "python",
   "nbconvert_exporter": "python",
   "pygments_lexer": "ipython3",
   "version": "3.6.8"
  }
 },
 "nbformat": 4,
 "nbformat_minor": 2
}
