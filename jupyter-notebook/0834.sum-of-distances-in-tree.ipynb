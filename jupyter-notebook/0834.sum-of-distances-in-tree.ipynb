{
 "cells": [
  {
   "cell_type": "code",
   "execution_count": 21,
   "metadata": {},
   "outputs": [],
   "source": [
    "# BFS - TLE\n",
    "# T: O(N^2)\n",
    "from typing import List\n",
    "from collections import defaultdict\n",
    "\n",
    "class Solution:\n",
    "    def sumOfDistancesInTree(self, N: int, edges: List[List[int]]) -> List[int]:\n",
    "        neighbors = defaultdict(set)\n",
    "        for u, v in edges:\n",
    "            neighbors[u].add(v)\n",
    "            neighbors[v].add(u)\n",
    "        \n",
    "        ans = []\n",
    "        for i in range(N):\n",
    "            q = [i]\n",
    "            visited = set([i])\n",
    "            res = 0\n",
    "            levels = 0\n",
    "            while q:\n",
    "                levels += 1\n",
    "                for _ in range(len(q)):\n",
    "                    u = q.pop(0)\n",
    "                    if len(neighbors[u]):\n",
    "                        for v in neighbors[u]:\n",
    "                            if v not in visited:\n",
    "                                visited.add(v)\n",
    "                                q.append(v)\n",
    "                                res += levels\n",
    "            ans.append(res)\n",
    "        return ans"
   ]
  },
  {
   "cell_type": "code",
   "execution_count": 23,
   "metadata": {},
   "outputs": [],
   "source": [
    "#*Preorder + postorder DFS\n",
    "# T: O(N)\n",
    "# https://leetcode.com/problems/sum-of-distances-in-tree/discuss/130583/C%2B%2BJavaPython-Pre-order-and-Post-order-DFS-O(N)\n",
    "# Intuition: When we move our root from one node to its connected node,\n",
    "# one part of nodes get closer, one the other part get further.\n",
    "from typing import List\n",
    "from collections import defaultdict\n",
    "\n",
    "class Solution:\n",
    "    def sumOfDistancesInTree(self, N: int, edges: List[List[int]]) -> List[int]:\n",
    "        tree = defaultdict(set)\n",
    "        for u, v in edges:\n",
    "            tree[u].add(v)\n",
    "            tree[v].add(u)\n",
    "        count = [1] * N  # counts all nodes in the subtree, 1: leaf node itself\n",
    "        res = [0] * N \n",
    "        \n",
    "        def postdfs(root: int, pre: int):\n",
    "            for u in tree[root]:\n",
    "                if u != pre: # stop visiting its parent (same as visited[])\n",
    "                    postdfs(u, root)  # go to child\n",
    "                    count[root] += count[u]\n",
    "                    # for each node u under subtree root,\n",
    "                    # sum_of_distance_root = sum(sum_of_distance + 1) (for each node u to root)\n",
    "                    res[root] += res[u] + count[u]\n",
    "        \n",
    "        def predfs(root: int, pre: int):\n",
    "            for u in tree[root]:\n",
    "                if u != pre:\n",
    "                    # When move root from parent to child u,\n",
    "                    # count[u] gets 1 step closer to root,\n",
    "                    # n-count[u] nodes gets 1 step further\n",
    "                    res[u] = (res[root] - count[u]) + (N - count[u])\n",
    "                    predfs(u, root)\n",
    "        # Thus, res[parent] = res[child] + count[child]\n",
    "        \n",
    "        postdfs(0, -1)\n",
    "        predfs(0, -1)\n",
    "        return res"
   ]
  },
  {
   "cell_type": "code",
   "execution_count": 24,
   "metadata": {},
   "outputs": [
    {
     "data": {
      "text/plain": [
       "[8, 12, 6, 10, 10, 10]"
      ]
     },
     "execution_count": 24,
     "metadata": {},
     "output_type": "execute_result"
    }
   ],
   "source": [
    "Solution().sumOfDistancesInTree(N = 6, edges = [[0,1],[0,2],[2,3],[2,4],[2,5]])"
   ]
  },
  {
   "cell_type": "code",
   "execution_count": null,
   "metadata": {},
   "outputs": [],
   "source": []
  }
 ],
 "metadata": {
  "kernelspec": {
   "display_name": "Python 3",
   "language": "python",
   "name": "python3"
  },
  "language_info": {
   "codemirror_mode": {
    "name": "ipython",
    "version": 3
   },
   "file_extension": ".py",
   "mimetype": "text/x-python",
   "name": "python",
   "nbconvert_exporter": "python",
   "pygments_lexer": "ipython3",
   "version": "3.6.8"
  }
 },
 "nbformat": 4,
 "nbformat_minor": 2
}
