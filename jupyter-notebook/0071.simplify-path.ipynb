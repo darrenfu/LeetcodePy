{
 "cells": [
  {
   "cell_type": "markdown",
   "metadata": {},
   "source": [
    "### [71\\. Simplify Path](https://leetcode.com/problems/simplify-path/)\n",
    "\n",
    "Difficulty: **Medium**\n",
    "\n",
    "\n",
    "Given an **absolute path** for a file (Unix-style), simplify it. Or in other words, convert it to the **canonical path**.\n",
    "\n",
    "In a UNIX-style file system, a period `.` refers to the current directory. Furthermore, a double period `..` moves the directory up a level. For more information, see: \n",
    "\n",
    "Note that the returned canonical path must always begin with a slash `/`, and there must be only a single slash `/` between two directory names. The last directory name (if it exists) **must not** end with a trailing `/`. Also, the canonical path must be the **shortest** string representing the absolute path.\n",
    "\n",
    "**Example 1:**\n",
    "\n",
    "```\n",
    "Input: \"/home/\"\n",
    "Output: \"/home\"\n",
    "Explanation: Note that there is no trailing slash after the last directory name.\n",
    "```\n",
    "\n",
    "**Example 2:**\n",
    "\n",
    "```\n",
    "Input: \"/../\"\n",
    "Output: \"/\"\n",
    "Explanation: Going one level up from the root directory is a no-op, as the root level is the highest level you can go.\n",
    "```\n",
    "\n",
    "**Example 3:**\n",
    "\n",
    "```\n",
    "Input: \"/home//foo/\"\n",
    "Output: \"/home/foo\"\n",
    "Explanation: In the canonical path, multiple consecutive slashes are replaced by a single one.\n",
    "```\n",
    "\n",
    "**Example 4:**\n",
    "\n",
    "```\n",
    "Input: \"/a/./b/../../c/\"\n",
    "Output: \"/c\"\n",
    "```\n",
    "\n",
    "**Example 5:**\n",
    "\n",
    "```\n",
    "Input: \"/a/../../b/../c//.//\"\n",
    "Output: \"/c\"\n",
    "```\n",
    "\n",
    "**Example 6:**\n",
    "\n",
    "```\n",
    "Input: \"/a//b////c/d//././/..\"\n",
    "Output: \"/a/b/c\"\n",
    "```"
   ]
  },
  {
   "cell_type": "code",
   "execution_count": 1,
   "metadata": {},
   "outputs": [],
   "source": [
    "class Solution:\n",
    "    def simplifyPath(self, path: str) -> str:\n",
    "        dirs = path.split(\"/\")\n",
    "        stack = []\n",
    "        for d in dirs:\n",
    "            if d == '.' or d == '':\n",
    "                continue\n",
    "            if d == '..':\n",
    "                if stack:\n",
    "                    stack.pop() \n",
    "            else:\n",
    "                stack.append(d)\n",
    "        return '/' + '/'.join(stack)"
   ]
  },
  {
   "cell_type": "code",
   "execution_count": 2,
   "metadata": {},
   "outputs": [
    {
     "data": {
      "text/plain": [
       "'/'"
      ]
     },
     "execution_count": 2,
     "metadata": {},
     "output_type": "execute_result"
    }
   ],
   "source": [
    "Solution().simplifyPath(\"/../\")"
   ]
  },
  {
   "cell_type": "code",
   "execution_count": 3,
   "metadata": {},
   "outputs": [
    {
     "data": {
      "text/plain": [
       "'/a/b/c'"
      ]
     },
     "execution_count": 3,
     "metadata": {},
     "output_type": "execute_result"
    }
   ],
   "source": [
    "Solution().simplifyPath(\"/a//b////c/d//././/..\")"
   ]
  },
  {
   "cell_type": "code",
   "execution_count": null,
   "metadata": {},
   "outputs": [],
   "source": []
  }
 ],
 "metadata": {
  "kernelspec": {
   "display_name": "Python 3",
   "language": "python",
   "name": "python3"
  },
  "language_info": {
   "codemirror_mode": {
    "name": "ipython",
    "version": 3
   },
   "file_extension": ".py",
   "mimetype": "text/x-python",
   "name": "python",
   "nbconvert_exporter": "python",
   "pygments_lexer": "ipython3",
   "version": "3.6.8"
  }
 },
 "nbformat": 4,
 "nbformat_minor": 2
}
