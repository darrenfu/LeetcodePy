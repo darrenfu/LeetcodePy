{
 "cells": [
  {
   "cell_type": "code",
   "execution_count": 1,
   "metadata": {},
   "outputs": [],
   "source": [
    "# Going forward\n",
    "#@StefanPochmann\n",
    "# Runtime: 108 ms, faster than 45.41%\n",
    "#https://leetcode.com/problems/jump-game/discuss/20907/1-6-lines-O(n)-time-O(1)-\n",
    "from typing import List\n",
    "class Solution:\n",
    "    def canJump(self, nums: List[int]) -> bool:\n",
    "        max_v = 0 # max index we can jump so far\n",
    "        for i, v in enumerate(nums):\n",
    "            if i > max_v: # cannot jump to ith index from any of the previous indexes\n",
    "                return False\n",
    "            max_v = max(max_v, i+v)\n",
    "        return True"
   ]
  },
  {
   "cell_type": "code",
   "execution_count": 9,
   "metadata": {},
   "outputs": [],
   "source": [
    "# Going backward\n",
    "#@StefanPochmann\n",
    "# Runtime: 100 ms, faster than 85.73%\n",
    "from typing import List\n",
    "class Solution:\n",
    "    def canJump(self, nums: List[int]) -> bool:\n",
    "        N = len(nums)\n",
    "        goal = N-1 # initial index: last index\n",
    "        for i in range(N-1, -1, -1):\n",
    "            if i+nums[i] >= goal:\n",
    "                goal = i\n",
    "        return goal == 0 # backtrackable from last index to the first index"
   ]
  },
  {
   "cell_type": "code",
   "execution_count": 22,
   "metadata": {},
   "outputs": [],
   "source": [
    "# Find all zeros and backtrack from their indexes\n",
    "# Runtime: 100 ms, faster than 85.73%\n",
    "# https://leetcode.com/problems/jump-game/discuss/21185/Another-way-of-looking-at-the-problem\n",
    "from typing import List\n",
    "class Solution:\n",
    "    def canJump(self, nums: List[int]) -> bool:\n",
    "        i = len(nums) - 2 # skip case that len(nums) == 1 (always True)\n",
    "        while i >= 0:\n",
    "            if nums[i] == 0:\n",
    "                zero_idx = i\n",
    "                while i >= 0:\n",
    "                    if nums[i] > zero_idx - i: # leap-able for this zero trap\n",
    "                        break\n",
    "                    i -= 1\n",
    "            if i == -1:\n",
    "                return False\n",
    "            i -= 1\n",
    "        return True"
   ]
  },
  {
   "cell_type": "code",
   "execution_count": 23,
   "metadata": {},
   "outputs": [
    {
     "data": {
      "text/plain": [
       "True"
      ]
     },
     "execution_count": 23,
     "metadata": {},
     "output_type": "execute_result"
    }
   ],
   "source": [
    "Solution().canJump([2,3,1,1,4])"
   ]
  },
  {
   "cell_type": "code",
   "execution_count": 24,
   "metadata": {},
   "outputs": [
    {
     "data": {
      "text/plain": [
       "False"
      ]
     },
     "execution_count": 24,
     "metadata": {},
     "output_type": "execute_result"
    }
   ],
   "source": [
    "Solution().canJump([3,2,1,0,4])"
   ]
  },
  {
   "cell_type": "code",
   "execution_count": 25,
   "metadata": {},
   "outputs": [
    {
     "data": {
      "text/plain": [
       "True"
      ]
     },
     "execution_count": 25,
     "metadata": {},
     "output_type": "execute_result"
    }
   ],
   "source": [
    "Solution().canJump([0])"
   ]
  },
  {
   "cell_type": "code",
   "execution_count": null,
   "metadata": {},
   "outputs": [],
   "source": []
  }
 ],
 "metadata": {
  "kernelspec": {
   "display_name": "Python 3",
   "language": "python",
   "name": "python3"
  },
  "language_info": {
   "codemirror_mode": {
    "name": "ipython",
    "version": 3
   },
   "file_extension": ".py",
   "mimetype": "text/x-python",
   "name": "python",
   "nbconvert_exporter": "python",
   "pygments_lexer": "ipython3",
   "version": "3.6.8"
  }
 },
 "nbformat": 4,
 "nbformat_minor": 2
}
