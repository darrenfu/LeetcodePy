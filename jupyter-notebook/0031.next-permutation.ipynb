{
 "cells": [
  {
   "cell_type": "markdown",
   "metadata": {},
   "source": [
    "### [31\\. Next Permutation](https://leetcode.com/problems/next-permutation/)\n",
    "\n",
    "Difficulty: **Medium**\n",
    "\n",
    "\n",
    "Implement **next permutation**, which rearranges numbers into the lexicographically next greater permutation of numbers.\n",
    "\n",
    "If such arrangement is not possible, it must rearrange it as the lowest possible order (ie, sorted in ascending order).\n",
    "\n",
    "The replacement must be and use only constant extra memory.\n",
    "\n",
    "Here are some examples. Inputs are in the left-hand column and its corresponding outputs are in the right-hand column.\n",
    "\n",
    "`1,2,3` → `1,3,2`  \n",
    "`3,2,1` → `1,2,3`  \n",
    "`1,1,5` → `1,5,1`"
   ]
  },
  {
   "cell_type": "code",
   "execution_count": 1,
   "metadata": {},
   "outputs": [],
   "source": [
    "# it's in essence a problem to find the next leaf node thru DFS a tree\n",
    "# https://leetcode.com/problems/next-permutation/discuss/13867/C%2B%2B-from-Wikipedia\n",
    "from typing import List\n",
    "\n",
    "class Solution:\n",
    "    def nextPermutation(self, nums: List[int]) -> None:\n",
    "        \"\"\"\n",
    "        Do not return anything, modify nums in-place instead.\n",
    "        \"\"\"\n",
    "        N = len(nums)\n",
    "        kFound = False\n",
    "        for k in range(N-2, -1, -1):\n",
    "            if nums[k] < nums[k+1]:\n",
    "                kFound = True\n",
    "                break\n",
    "        if not kFound:\n",
    "            nums[:] = nums[::-1]\n",
    "        else:\n",
    "            for l in range(N-1, k, -1):\n",
    "                if nums[l] > nums[k]:\n",
    "                    break\n",
    "            nums[k], nums[l] = nums[l], nums[k]\n",
    "            nums[k+1:] = nums[k+1:][::-1]\n",
    "        print(nums)"
   ]
  },
  {
   "cell_type": "code",
   "execution_count": 2,
   "metadata": {},
   "outputs": [
    {
     "name": "stdout",
     "output_type": "stream",
     "text": [
      "[1, 3, 2]\n"
     ]
    }
   ],
   "source": [
    "Solution().nextPermutation(nums=[1,2,3])"
   ]
  },
  {
   "cell_type": "code",
   "execution_count": 3,
   "metadata": {},
   "outputs": [
    {
     "name": "stdout",
     "output_type": "stream",
     "text": [
      "[1, 2, 3]\n"
     ]
    }
   ],
   "source": [
    "Solution().nextPermutation(nums=[3,2,1])"
   ]
  },
  {
   "cell_type": "code",
   "execution_count": 5,
   "metadata": {},
   "outputs": [
    {
     "name": "stdout",
     "output_type": "stream",
     "text": [
      "[1, 2, 4, 3, 5]\n"
     ]
    }
   ],
   "source": [
    "Solution().nextPermutation(nums=[1,2,3,5,4])"
   ]
  },
  {
   "cell_type": "code",
   "execution_count": null,
   "metadata": {},
   "outputs": [],
   "source": []
  }
 ],
 "metadata": {
  "kernelspec": {
   "display_name": "Python 3",
   "language": "python",
   "name": "python3"
  },
  "language_info": {
   "codemirror_mode": {
    "name": "ipython",
    "version": 3
   },
   "file_extension": ".py",
   "mimetype": "text/x-python",
   "name": "python",
   "nbconvert_exporter": "python",
   "pygments_lexer": "ipython3",
   "version": "3.6.8"
  }
 },
 "nbformat": 4,
 "nbformat_minor": 2
}
