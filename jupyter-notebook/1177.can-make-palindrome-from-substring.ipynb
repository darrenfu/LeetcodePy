{
 "cells": [
  {
   "cell_type": "code",
   "execution_count": 34,
   "metadata": {},
   "outputs": [],
   "source": [
    "%config IPCompleter.greedy=True"
   ]
  },
  {
   "cell_type": "code",
   "execution_count": 35,
   "metadata": {},
   "outputs": [],
   "source": [
    "#TLE\n",
    "from typing import List\n",
    "from collections import Counter\n",
    "\n",
    "class Solution:\n",
    "    def canMakePaliQueries(self, s: str, queries: List[List[int]]) -> List[bool]:\n",
    "        def count_pairs(l: int, r: int) -> int:\n",
    "            nonlocal s\n",
    "            if l == r: return 0\n",
    "            cnt = Counter(s[l:r+1])\n",
    "            res = 0\n",
    "            for k, v in cnt.items():\n",
    "                res += v % 2 != 0\n",
    "            return res // 2\n",
    "        \n",
    "        # incorrect answer to adopt this method because the substring can be REARRANGED\n",
    "        def gap_count_to_palindrome(l: int, r: int) -> int: # r is inclusive\n",
    "            nonlocal s\n",
    "            L = r-l+1\n",
    "            if L == 1: return 0 # one char is always palindrome\n",
    "            res = 0\n",
    "            while l <= r:\n",
    "                res += s[l] != s[r]\n",
    "                l += 1\n",
    "                r -= 1\n",
    "            return res\n",
    "        \n",
    "        L = len(s)\n",
    "        res = [count_pairs(l, r) <= k  for l, r, k in queries]\n",
    "        return res"
   ]
  },
  {
   "cell_type": "code",
   "execution_count": 36,
   "metadata": {},
   "outputs": [],
   "source": [
    "# @nosrpku\n",
    "from typing import List\n",
    "from collections import Counter\n",
    "\n",
    "class Solution:\n",
    "    def canMakePaliQueries(self, s: str, queries: List[List[int]]) -> List[bool]:\n",
    "        # array of counters, each counter to store occurrence of each alphabet in s[:cur_idx]\n",
    "        qdict = [{}]\n",
    "        curdict = Counter()\n",
    "        for c in s:\n",
    "            curdict[c] += 1\n",
    "            qdict.append({k:v for k, v in curdict.items()})\n",
    "        ret = []\n",
    "        for left, right, k in queries:\n",
    "            dff = 0\n",
    "            for c, n in qdict[right + 1].items():\n",
    "                if (n - qdict[left].get(c, 0)) % 2:\n",
    "                    dff += 1\n",
    "            ret.append(dff >> 1 <= k)\n",
    "        return ret\n"
   ]
  },
  {
   "cell_type": "code",
   "execution_count": 37,
   "metadata": {},
   "outputs": [],
   "source": [
    "# https://leetcode.com/problems/can-make-palindrome-from-substring/discuss/371870/Python-Solution\n",
    "from typing import List\n",
    "\n",
    "class Solution:\n",
    "    def canMakePaliQueries(self, s: str, queries: List[List[int]]) -> List[bool]:\n",
    "        # evolve from the above solution\n",
    "        counts = [[0] * 26]\n",
    "        cnt = [0] * 26\n",
    "        for c in s:\n",
    "            cnt[ord(c) - ord('a')] += 1\n",
    "            counts.append(cnt[:])\n",
    "        ret = []\n",
    "        for l, r, k in queries:\n",
    "            # (cr-cl) % 2 == 1 means odd occurrence for that char, counted to sum\n",
    "            # ... % 2 == 0 means all pairs for that char occurrence\n",
    "            sm = sum((cr - cl) % 2 for cr, cl in zip(counts[r+1], counts[l]))\n",
    "            # sum // 2 because replacing a char involves 2 different chars\n",
    "            ret.append(sm // 2 <= k)\n",
    "            #ret.append(sm - (r-l+1) % 2 <= k * 2)\n",
    "        return ret"
   ]
  },
  {
   "cell_type": "code",
   "execution_count": 38,
   "metadata": {},
   "outputs": [
    {
     "data": {
      "text/plain": [
       "[True, False, False, True, True]"
      ]
     },
     "execution_count": 38,
     "metadata": {},
     "output_type": "execute_result"
    }
   ],
   "source": [
    "Solution().canMakePaliQueries(s = \"abcda\", queries = [[3,3,0],[1,2,0],[0,3,1],[0,3,2],[0,4,1]])"
   ]
  },
  {
   "cell_type": "code",
   "execution_count": 39,
   "metadata": {},
   "outputs": [
    {
     "data": {
      "text/plain": [
       "[True,\n",
       " False,\n",
       " True,\n",
       " True,\n",
       " True,\n",
       " True,\n",
       " True,\n",
       " False,\n",
       " True,\n",
       " False,\n",
       " True,\n",
       " True,\n",
       " True]"
      ]
     },
     "execution_count": 39,
     "metadata": {},
     "output_type": "execute_result"
    }
   ],
   "source": [
    "Solution().canMakePaliQueries(s = \"hunu\", queries = [[1,1,1],[2,3,0],[3,3,1],[0,3,2],[1,3,3],[2,3,1],[3,3,1],[0,3,0],[1,1,1],[2,3,0],[3,3,1],[0,3,1],[1,1,1]])"
   ]
  }
 ],
 "metadata": {
  "kernelspec": {
   "display_name": "Python 3",
   "language": "python",
   "name": "python3"
  },
  "language_info": {
   "codemirror_mode": {
    "name": "ipython",
    "version": 3
   },
   "file_extension": ".py",
   "mimetype": "text/x-python",
   "name": "python",
   "nbconvert_exporter": "python",
   "pygments_lexer": "ipython3",
   "version": "3.6.8"
  }
 },
 "nbformat": 4,
 "nbformat_minor": 2
}
