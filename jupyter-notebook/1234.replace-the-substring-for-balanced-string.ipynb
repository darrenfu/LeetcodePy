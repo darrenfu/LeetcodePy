{
 "cells": [
  {
   "cell_type": "code",
   "execution_count": 165,
   "metadata": {},
   "outputs": [],
   "source": [
    "# minimum length of substring - use Sliding window!\n",
    "# https://leetcode.com/problems/replace-the-substring-for-balanced-string/discuss/408978/JavaC%2B%2BPython-Sliding-Window\n",
    "# Runtime: 596 ms\n",
    "from collections import Counter\n",
    "\n",
    "class Solution:\n",
    "    def balancedString(self, s: str) -> int:\n",
    "        c = Counter(s)\n",
    "#         print(c)\n",
    "        # by default, return the whole string\n",
    "        res = n = len(s)\n",
    "        avg = n // 4\n",
    "        if all(f==avg for f in c.values()): \n",
    "            return 0\n",
    "        lo = 0\n",
    "        for hi, ch in enumerate(s):\n",
    "            c[ch] -= 1\n",
    "            # important condition!\n",
    "            # the whole string is balanced as long as max(count[Q],count[W],count[E],count[R]) <= n//4\n",
    "            while lo <= hi and all(c[ch] <= avg for ch in 'QWER'):\n",
    "#                 print(res, lo, hi, c)\n",
    "                res = min(res, hi-lo+1) # sliding window length\n",
    "                c[s[lo]] += 1\n",
    "                lo += 1\n",
    "        return res"
   ]
  },
  {
   "cell_type": "code",
   "execution_count": 204,
   "metadata": {},
   "outputs": [],
   "source": [
    "# Binary Search @awice\n",
    "\n",
    "class Solution:\n",
    "    def balancedString(self, s: str) -> int:\n",
    "        def possible(minSubstrLen: int) -> bol:\n",
    "            for i in range(N-minSubstrLen+1):\n",
    "                j = i + minSubstrLen\n",
    "                for d in range(4):\n",
    "                    if counts[d] - presum[j][d] + presum[i][d] > avg:\n",
    "                        break\n",
    "                else: # for/else - if no break encountered above, go to else\n",
    "                    return True\n",
    "            return False\n",
    "            \n",
    "        A = ['QWER'.find(c) for c in s]\n",
    "#         print(A)\n",
    "        N = len(s)\n",
    "        avg = N // 4\n",
    "        counts = [0] * 4\n",
    "        # store the letter frequencies till this index\n",
    "        presum = [counts[:]] # make a copy of count\n",
    "        for x in A:\n",
    "            counts[x] += 1\n",
    "            presum.append(counts[:])\n",
    "        if all(c==avg for c in counts):\n",
    "            return 0\n",
    "#         print(presum)\n",
    "        \n",
    "        lo, hi = 0, N\n",
    "        while lo < hi:\n",
    "            mi = (lo+hi) // 2\n",
    "            if possible(mi):\n",
    "                hi = mi\n",
    "            else:\n",
    "                lo = mi+1\n",
    "        return lo"
   ]
  },
  {
   "cell_type": "code",
   "execution_count": 205,
   "metadata": {},
   "outputs": [
    {
     "name": "stdout",
     "output_type": "stream",
     "text": [
      "[0, 1, 2, 3]\n"
     ]
    },
    {
     "data": {
      "text/plain": [
       "0"
      ]
     },
     "execution_count": 205,
     "metadata": {},
     "output_type": "execute_result"
    }
   ],
   "source": [
    "Solution().balancedString(s = \"QWER\")"
   ]
  },
  {
   "cell_type": "code",
   "execution_count": 206,
   "metadata": {},
   "outputs": [
    {
     "name": "stdout",
     "output_type": "stream",
     "text": [
      "[0, 0, 1, 2]\n"
     ]
    },
    {
     "data": {
      "text/plain": [
       "1"
      ]
     },
     "execution_count": 206,
     "metadata": {},
     "output_type": "execute_result"
    }
   ],
   "source": [
    "Solution().balancedString(s = \"QQWE\")"
   ]
  },
  {
   "cell_type": "code",
   "execution_count": 207,
   "metadata": {},
   "outputs": [
    {
     "name": "stdout",
     "output_type": "stream",
     "text": [
      "[0, 0, 0, 0]\n"
     ]
    },
    {
     "data": {
      "text/plain": [
       "3"
      ]
     },
     "execution_count": 207,
     "metadata": {},
     "output_type": "execute_result"
    }
   ],
   "source": [
    "Solution().balancedString(s = \"QQQQ\")"
   ]
  },
  {
   "cell_type": "code",
   "execution_count": 208,
   "metadata": {},
   "outputs": [
    {
     "name": "stdout",
     "output_type": "stream",
     "text": [
      "[1, 1, 2, 0, 2, 3, 0, 1, 0, 1, 1, 3, 1, 1, 2, 3, 0, 1, 2, 0]\n"
     ]
    },
    {
     "data": {
      "text/plain": [
       "4"
      ]
     },
     "execution_count": 208,
     "metadata": {},
     "output_type": "execute_result"
    }
   ],
   "source": [
    "Solution().balancedString(s = \"WWEQERQWQWWRWWERQWEQ\")"
   ]
  },
  {
   "cell_type": "code",
   "execution_count": 209,
   "metadata": {},
   "outputs": [
    {
     "name": "stdout",
     "output_type": "stream",
     "text": [
      "[1, 0, 1, 3, 0, 0, 0, 1]\n"
     ]
    },
    {
     "data": {
      "text/plain": [
       "3"
      ]
     },
     "execution_count": 209,
     "metadata": {},
     "output_type": "execute_result"
    }
   ],
   "source": [
    "Solution().balancedString(s = \"WQWRQQQW\")"
   ]
  },
  {
   "cell_type": "code",
   "execution_count": null,
   "metadata": {},
   "outputs": [],
   "source": []
  }
 ],
 "metadata": {
  "kernelspec": {
   "display_name": "Python 3",
   "language": "python",
   "name": "python3"
  },
  "language_info": {
   "codemirror_mode": {
    "name": "ipython",
    "version": 3
   },
   "file_extension": ".py",
   "mimetype": "text/x-python",
   "name": "python",
   "nbconvert_exporter": "python",
   "pygments_lexer": "ipython3",
   "version": "3.6.8"
  }
 },
 "nbformat": 4,
 "nbformat_minor": 2
}
