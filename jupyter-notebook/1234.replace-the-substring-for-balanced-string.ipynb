{
 "cells": [
  {
   "cell_type": "code",
   "execution_count": 165,
   "metadata": {},
   "outputs": [],
   "source": [
    "# minimum length of substring - use Sliding window!\n",
    "# we want to know the count outside the window. Imagine that we erase all character inside the window,\n",
    "# as we can modify the inside-window characters to whatever we want, thus it will always increase the count outside the window.\n",
    "# https://leetcode.com/problems/replace-the-substring-for-balanced-string/discuss/408978/JavaC%2B%2BPython-Sliding-Window\n",
    "# T: O(N)\n",
    "# Runtime: 596 ms (with lo < n)\n",
    "# Runtime: 528 ms, faster than 36.49% (with lo <= hi)\n",
    "from collections import Counter\n",
    "\n",
    "class Solution:\n",
    "    def balancedString(self, s: str) -> int:\n",
    "        c = Counter(s)\n",
    "#         print(c)\n",
    "        # by default, return the whole string\n",
    "        res = n = len(s)\n",
    "        avg = n // 4\n",
    "        if all(f==avg for f in c.values()): \n",
    "            return 0\n",
    "        # lo and hi is the sliding window start and end index\n",
    "        lo = 0\n",
    "        for hi, ch in enumerate(s):\n",
    "            c[ch] -= 1\n",
    "            # important condition!\n",
    "            # the whole string is balanced as long as max(count[Q],count[W],count[E],count[R]) <= n/4\n",
    "            # Ensure all char freq outside the sliding window <= n/4 (inside window is replacible to any string)\n",
    "            # origin post is: lo < n, why?\n",
    "            while lo <= hi and all(c[ch] <= avg for ch in 'QWER'):\n",
    "#                 print(res, lo, hi, c)\n",
    "                res = min(res, hi-lo+1) # sliding window length\n",
    "                c[s[lo]] += 1\n",
    "                lo += 1 # move the window start idx to as close as to end idx (min substring length)\n",
    "        return res"
   ]
  },
  {
   "cell_type": "code",
   "execution_count": 51,
   "metadata": {},
   "outputs": [],
   "source": [
    "# Binary Search @awice\n",
    "# T: O(N*lgN)\n",
    "# Runtime: 916 ms, faster than 7.24% (use for/break/else)\n",
    "# Runtime: 1608 ms, faster than 5.01% (use all())\n",
    "class Solution:\n",
    "    def balancedString(self, s: str) -> int:\n",
    "        def possible(minLen: int) -> bool:\n",
    "            # minLen is the guessed answer\n",
    "            # i is the possible min substring start index\n",
    "            # j is the index after the substring end index\n",
    "            for i in range(N-minLen+1):\n",
    "                j = i + minLen\n",
    "                # it means this letter's total freq minus freq inside this [i, j) window,\n",
    "                # i.e. the freq outside the window must be balanced or below balanced (all <= avg)\n",
    "                if all(c - presum[j][idx] + presum[i][idx] <= avg for idx, c in enumerate(counts)):\n",
    "                    return True\n",
    "            return False\n",
    "            \n",
    "        A = ['QWER'.find(c) for c in s]\n",
    "#         print(A)\n",
    "        N = len(s)\n",
    "        avg = N // 4\n",
    "        counts = [0] * 4 # letter frequencies\n",
    "        # store the letter frequencies till this index (similar to prefix sum)\n",
    "        presum = [counts[:]] # make a copy of count\n",
    "        for x in A:\n",
    "            counts[x] += 1\n",
    "            presum.append(counts[:])\n",
    "            \n",
    "        if all(c==avg for c in counts):\n",
    "            return 0\n",
    "#         print(presum)\n",
    "        \n",
    "        lo, hi = 0, N\n",
    "        while lo < hi:\n",
    "            mi = (lo+hi) // 2\n",
    "            if possible(mi):\n",
    "                hi = mi\n",
    "            else:\n",
    "                lo = mi+1\n",
    "        return lo"
   ]
  },
  {
   "cell_type": "code",
   "execution_count": 52,
   "metadata": {},
   "outputs": [
    {
     "data": {
      "text/plain": [
       "0"
      ]
     },
     "execution_count": 52,
     "metadata": {},
     "output_type": "execute_result"
    }
   ],
   "source": [
    "Solution().balancedString(s = \"QWER\")"
   ]
  },
  {
   "cell_type": "code",
   "execution_count": 53,
   "metadata": {},
   "outputs": [
    {
     "data": {
      "text/plain": [
       "1"
      ]
     },
     "execution_count": 53,
     "metadata": {},
     "output_type": "execute_result"
    }
   ],
   "source": [
    "Solution().balancedString(s = \"QQWE\")"
   ]
  },
  {
   "cell_type": "code",
   "execution_count": 54,
   "metadata": {},
   "outputs": [
    {
     "data": {
      "text/plain": [
       "3"
      ]
     },
     "execution_count": 54,
     "metadata": {},
     "output_type": "execute_result"
    }
   ],
   "source": [
    "Solution().balancedString(s = \"QQQQ\")"
   ]
  },
  {
   "cell_type": "code",
   "execution_count": 55,
   "metadata": {},
   "outputs": [
    {
     "data": {
      "text/plain": [
       "4"
      ]
     },
     "execution_count": 55,
     "metadata": {},
     "output_type": "execute_result"
    }
   ],
   "source": [
    "Solution().balancedString(s = \"WWEQERQWQWWRWWERQWEQ\")"
   ]
  },
  {
   "cell_type": "code",
   "execution_count": 56,
   "metadata": {},
   "outputs": [
    {
     "data": {
      "text/plain": [
       "3"
      ]
     },
     "execution_count": 56,
     "metadata": {},
     "output_type": "execute_result"
    }
   ],
   "source": [
    "Solution().balancedString(s = \"WQWRQQQW\")"
   ]
  },
  {
   "cell_type": "code",
   "execution_count": null,
   "metadata": {},
   "outputs": [],
   "source": []
  }
 ],
 "metadata": {
  "kernelspec": {
   "display_name": "Python 3",
   "language": "python",
   "name": "python3"
  },
  "language_info": {
   "codemirror_mode": {
    "name": "ipython",
    "version": 3
   },
   "file_extension": ".py",
   "mimetype": "text/x-python",
   "name": "python",
   "nbconvert_exporter": "python",
   "pygments_lexer": "ipython3",
   "version": "3.6.8"
  }
 },
 "nbformat": 4,
 "nbformat_minor": 2
}
