{
 "cells": [
  {
   "cell_type": "code",
   "execution_count": 12,
   "metadata": {},
   "outputs": [],
   "source": [
    "# Binary Search\n",
    "# Runtime: 72 ms, faster than 21.71%\n",
    "# https://www.cnblogs.com/grandyang/p/5533305.html\n",
    "from typing import List\n",
    "\n",
    "class Solution:\n",
    "    def intersect(self, nums1: List[int], nums2: List[int]) -> List[int]:\n",
    "        def binarySearch(A: List[int], target: int) -> int:\n",
    "            lo, hi = 0, len(A)\n",
    "            while lo < hi:\n",
    "                mid = (lo+hi)//2\n",
    "                if A[mid] == b: # found\n",
    "                    return mid\n",
    "                elif A[mid] > b:\n",
    "                    hi = mid\n",
    "                else:\n",
    "                    lo = mid+1\n",
    "            return -1\n",
    "        \n",
    "        l1, l2 = len(nums1), len(nums2)\n",
    "        # A is longer than B\n",
    "        A, B = (nums1, nums2) if l1 > l2 else (nums2, nums1)\n",
    "        A.sort()\n",
    "        # traverse B, do binary search in A. If found, add to result\n",
    "        res = []\n",
    "        for b in B:\n",
    "            idx = binarySearch(A, b)\n",
    "            if idx != -1:\n",
    "                res.append(b)\n",
    "                # delete elemented already found to avoid duplicate search\n",
    "                # e.g. nums1 = [3,1,2], nums2 = [1,1]\n",
    "                del A[idx]\n",
    "        return res"
   ]
  },
  {
   "cell_type": "markdown",
   "metadata": {},
   "source": [
    "Follow up:\n",
    "* What if the given array is already sorted? How would you optimize your algorithm?\n",
    "* What if nums1's size is small compared to nums2's size? Which algorithm is better?\n",
    "* What if elements of nums2 are stored on disk, and the memory is limited such that you cannot load all elements into the memory at once?\n",
    "  1. If only nums2 cannot fit in memory, put all elements of nums1 into a HashMap, read chunks of array that fit into the memory, and record the intersections. (aka. map-side join)\n",
    "  1. Store the two strings in distributed system (whether self designed or not), then using *MapReduce* technique to solve the problem;\n",
    "  1. Processing the Strings by *chunk*, which fits the memory, then deal with each chunk of data at a time;\n",
    "  1. Processing the Strings by *streaming*, then check.\n",
    "  1. The two arrays needs to be sorted (e.g. using external sort or sort-merge join) first before processing by chunk or by streaming."
   ]
  },
  {
   "cell_type": "code",
   "execution_count": 9,
   "metadata": {},
   "outputs": [
    {
     "data": {
      "text/plain": [
       "[4, 9]"
      ]
     },
     "execution_count": 9,
     "metadata": {},
     "output_type": "execute_result"
    }
   ],
   "source": [
    "Solution().intersect(nums1 = [4,9,5], nums2 = [9,4,9,8,4])"
   ]
  },
  {
   "cell_type": "code",
   "execution_count": 10,
   "metadata": {},
   "outputs": [
    {
     "data": {
      "text/plain": [
       "[2, 2]"
      ]
     },
     "execution_count": 10,
     "metadata": {},
     "output_type": "execute_result"
    }
   ],
   "source": [
    "Solution().intersect(nums1 = [1,2,2,1], nums2 = [2,2])"
   ]
  },
  {
   "cell_type": "code",
   "execution_count": 11,
   "metadata": {},
   "outputs": [
    {
     "data": {
      "text/plain": [
       "[1]"
      ]
     },
     "execution_count": 11,
     "metadata": {},
     "output_type": "execute_result"
    }
   ],
   "source": [
    "Solution().intersect(nums1 = [3,1,2], nums2 = [1,1])"
   ]
  },
  {
   "cell_type": "code",
   "execution_count": null,
   "metadata": {},
   "outputs": [],
   "source": []
  }
 ],
 "metadata": {
  "kernelspec": {
   "display_name": "Python 3",
   "language": "python",
   "name": "python3"
  },
  "language_info": {
   "codemirror_mode": {
    "name": "ipython",
    "version": 3
   },
   "file_extension": ".py",
   "mimetype": "text/x-python",
   "name": "python",
   "nbconvert_exporter": "python",
   "pygments_lexer": "ipython3",
   "version": "3.6.8"
  }
 },
 "nbformat": 4,
 "nbformat_minor": 2
}
