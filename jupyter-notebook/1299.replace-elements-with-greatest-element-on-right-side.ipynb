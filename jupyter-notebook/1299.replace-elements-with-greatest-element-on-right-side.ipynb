{
 "cells": [
  {
   "cell_type": "markdown",
   "metadata": {},
   "source": [
    "### [1299\\. Replace Elements with Greatest Element on Right Side](https://leetcode.com/problems/replace-elements-with-greatest-element-on-right-side/)\n",
    "\n",
    "Difficulty: **Easy**\n",
    "\n",
    "\n",
    "Given an array `arr`, replace every element in that array with the greatest element among the elements to its right, and replace the last element with `-1`.\n",
    "\n",
    "After doing so, return the array.\n",
    "\n",
    "**Example 1:**\n",
    "\n",
    "```\n",
    "Input: arr = [17,18,5,4,6,1]\n",
    "Output: [18,6,6,6,1,-1]\n",
    "```\n",
    "\n",
    "**Constraints:**\n",
    "\n",
    "*   `1 <= arr.length <= 10^4`\n",
    "*   `1 <= arr[i] <= 10^5`"
   ]
  },
  {
   "cell_type": "code",
   "execution_count": 4,
   "metadata": {},
   "outputs": [],
   "source": [
    "from typing import List\n",
    "from heapq import *\n",
    "\n",
    "class Solution:\n",
    "    def replaceElements(self, arr: List[int]) -> List[int]:\n",
    "        L = len(arr)\n",
    "        res = [-1]\n",
    "        heap = []\n",
    "        for t in arr[1:][::-1]:\n",
    "            heappush(heap, -t)\n",
    "            largest = -heap[0]\n",
    "            res.insert(0, largest)\n",
    "        return res"
   ]
  },
  {
   "cell_type": "code",
   "execution_count": 5,
   "metadata": {},
   "outputs": [
    {
     "data": {
      "text/plain": [
       "[18, 6, 6, 6, 1, -1]"
      ]
     },
     "execution_count": 5,
     "metadata": {},
     "output_type": "execute_result"
    }
   ],
   "source": [
    "Solution().replaceElements([17,18,5,4,6,1])"
   ]
  },
  {
   "cell_type": "code",
   "execution_count": null,
   "metadata": {},
   "outputs": [],
   "source": []
  }
 ],
 "metadata": {
  "kernelspec": {
   "display_name": "Python 3",
   "language": "python",
   "name": "python3"
  },
  "language_info": {
   "codemirror_mode": {
    "name": "ipython",
    "version": 3
   },
   "file_extension": ".py",
   "mimetype": "text/x-python",
   "name": "python",
   "nbconvert_exporter": "python",
   "pygments_lexer": "ipython3",
   "version": "3.6.8"
  }
 },
 "nbformat": 4,
 "nbformat_minor": 2
}
