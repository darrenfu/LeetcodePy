{
 "cells": [
  {
   "cell_type": "markdown",
   "metadata": {},
   "source": [
    "### [854\\. K-Similar Strings](https://leetcode.com/problems/k-similar-strings/)\n",
    "\n",
    "Difficulty: **Hard**\n",
    "\n",
    "\n",
    "Strings `A` and `B` are `K`-similar (for some non-negative integer `K`) if we can swap the positions of two letters in `A` exactly `K` times so that the resulting string equals `B`.\n",
    "\n",
    "Given two anagrams `A` and `B`, return the smallest `K` for which `A` and `B` are `K`-similar.\n",
    "\n",
    "**Example 1:**\n",
    "\n",
    "```\n",
    "Input: A = \"ab\", B = \"ba\"\n",
    "Output: 1\n",
    "```\n",
    "\n",
    "\n",
    "**Example 2:**\n",
    "\n",
    "```\n",
    "Input: A = \"abc\", B = \"bca\"\n",
    "Output: 2\n",
    "```\n",
    "\n",
    "\n",
    "**Example 3:**\n",
    "\n",
    "```\n",
    "Input: A = \"abac\", B = \"baca\"\n",
    "Output: 2\n",
    "```\n",
    "\n",
    "\n",
    "**Example 4:**\n",
    "\n",
    "```\n",
    "Input: A = \"aabc\", B = \"abca\"\n",
    "Output: 2\n",
    "```\n",
    "\n",
    "\n",
    "**Note:**\n",
    "\n",
    "1.  `1 <= A.length == B.length <= 20`\n",
    "2.  `A` and `B` contain only lowercase letters from the set `{'a', 'b', 'c', 'd', 'e', 'f'}`"
   ]
  },
  {
   "cell_type": "code",
   "execution_count": 10,
   "metadata": {},
   "outputs": [],
   "source": [
    "# graph BFS\n",
    "# We can treat each string as a node. If two strings x and y differ by one swap and that swap makes x more simliar to target string B, \n",
    "# there is a directed edges between them.\n",
    "# https://leetcode.com/problems/k-similar-strings/discuss/269517/Python-Graph-BFS\n",
    "class Solution:\n",
    "    def kSimilarity(self, A: str, B: str) -> int:\n",
    "        def neighbors(s: str):\n",
    "            i = 0\n",
    "            while s[i] == B[i]:\n",
    "                i += 1\n",
    "            # i is the first non-equal position comparing s and B\n",
    "            for j in range(i+1, L):\n",
    "                if s[j] == B[i]: # after swap, s will be more similar to B\n",
    "                    # swap s[i] and s[j]\n",
    "                    yield(s[:i]+s[j]+s[i+1:j]+s[i]+s[j+1:])\n",
    "                    \n",
    "        q = [(A, 0)]\n",
    "        visited = set([A])\n",
    "        L = len(A)\n",
    "        while q:\n",
    "            s, depth = q.pop(0)\n",
    "            if s == B:\n",
    "                return depth\n",
    "            for nei in neighbors(s):\n",
    "                if nei not in visited:\n",
    "                    visited.add(nei)\n",
    "                    q += (nei, depth + 1),\n",
    "        return -1 # never reach here"
   ]
  },
  {
   "cell_type": "code",
   "execution_count": null,
   "metadata": {},
   "outputs": [],
   "source": [
    "#TODO: Approach 1: Brute Force with Dynamic Programming"
   ]
  },
  {
   "cell_type": "code",
   "execution_count": 11,
   "metadata": {},
   "outputs": [
    {
     "data": {
      "text/plain": [
       "2"
      ]
     },
     "execution_count": 11,
     "metadata": {},
     "output_type": "execute_result"
    }
   ],
   "source": [
    "Solution().kSimilarity(A = \"abac\", B = \"baca\")"
   ]
  },
  {
   "cell_type": "code",
   "execution_count": 12,
   "metadata": {},
   "outputs": [
    {
     "data": {
      "text/plain": [
       "3"
      ]
     },
     "execution_count": 12,
     "metadata": {},
     "output_type": "execute_result"
    }
   ],
   "source": [
    "Solution().kSimilarity(A = \"bccaba\", B = \"abacbc\")"
   ]
  },
  {
   "cell_type": "code",
   "execution_count": null,
   "metadata": {},
   "outputs": [],
   "source": []
  }
 ],
 "metadata": {
  "kernelspec": {
   "display_name": "Python 3",
   "language": "python",
   "name": "python3"
  },
  "language_info": {
   "codemirror_mode": {
    "name": "ipython",
    "version": 3
   },
   "file_extension": ".py",
   "mimetype": "text/x-python",
   "name": "python",
   "nbconvert_exporter": "python",
   "pygments_lexer": "ipython3",
   "version": "3.6.8"
  }
 },
 "nbformat": 4,
 "nbformat_minor": 2
}
