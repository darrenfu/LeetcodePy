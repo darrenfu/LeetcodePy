{
 "cells": [
  {
   "cell_type": "code",
   "execution_count": 22,
   "metadata": {},
   "outputs": [],
   "source": [
    "# Refer to #72 Edit Distance\n",
    "# TLE\n",
    "class Solution:\n",
    "    def isOneEditDistance(self, s: str, t: str) -> bool:\n",
    "        L1, L2 = len(s), len(t)\n",
    "        dp = [[0 for _ in range(L2+1)] for _ in range(L1+1)]\n",
    "        for i in range(1, L1+1):\n",
    "            dp[i][0] = i\n",
    "        for i in range(1, L2+1):\n",
    "            dp[0][i] = i\n",
    "        \n",
    "        for i in range(L1):\n",
    "            for j in range(L2):\n",
    "                dp[i+1][j+1] = min(dp[i][j+1]+1, dp[i+1][j]+1, dp[i][j]+(s[i] != t[j]))\n",
    "        return dp[L1][L2] == 1"
   ]
  },
  {
   "cell_type": "code",
   "execution_count": 36,
   "metadata": {},
   "outputs": [],
   "source": [
    "# https://leetcode.com/problems/one-edit-distance/discuss/50095/Python-concise-solution-with-comments.\n",
    "#Runtime: 32 ms, faster than 96.43%\n",
    "class Solution:\n",
    "    def isOneEditDistance(self, s: str, t: str) -> bool:\n",
    "        L1, L2 = len(s), len(t)\n",
    "        if L1 > L2:  # enforce len(s) < len(t)\n",
    "            return self.isOneEditDistance(t, s)\n",
    "        if L2 - L1 > 1 or s == t:\n",
    "            return False\n",
    "        for i in range(L1):\n",
    "            if s[i] != t[i]:\n",
    "                # return s[i+1:] == t[i+1:] or s[i:] == t[i+1:] # check next equality for replacement or next insertion possibility\n",
    "        # return True\n",
    "                if L1 == L2: # replace if lengths are equal\n",
    "                    s = s[:i] + t[i] + s[i+1:]\n",
    "                else: # insert t[i]\n",
    "                    s = s[:i] + t[i] + s[i:]\n",
    "                break\n",
    "        return s == t or s == t[:-1]"
   ]
  },
  {
   "cell_type": "code",
   "execution_count": 37,
   "metadata": {},
   "outputs": [
    {
     "data": {
      "text/plain": [
       "True"
      ]
     },
     "execution_count": 37,
     "metadata": {},
     "output_type": "execute_result"
    }
   ],
   "source": [
    "Solution().isOneEditDistance(s = \"ab\", t = \"acb\")"
   ]
  },
  {
   "cell_type": "code",
   "execution_count": 38,
   "metadata": {},
   "outputs": [
    {
     "data": {
      "text/plain": [
       "False"
      ]
     },
     "execution_count": 38,
     "metadata": {},
     "output_type": "execute_result"
    }
   ],
   "source": [
    "Solution().isOneEditDistance(s = \"cab\", t = \"ad\")"
   ]
  },
  {
   "cell_type": "code",
   "execution_count": 39,
   "metadata": {},
   "outputs": [
    {
     "data": {
      "text/plain": [
       "True"
      ]
     },
     "execution_count": 39,
     "metadata": {},
     "output_type": "execute_result"
    }
   ],
   "source": [
    "Solution().isOneEditDistance(s = \"1203\", t = \"1213\")"
   ]
  },
  {
   "cell_type": "code",
   "execution_count": 40,
   "metadata": {},
   "outputs": [
    {
     "data": {
      "text/plain": [
       "False"
      ]
     },
     "execution_count": 40,
     "metadata": {},
     "output_type": "execute_result"
    }
   ],
   "source": [
    "Solution().isOneEditDistance(s = \"\", t = \"\")"
   ]
  },
  {
   "cell_type": "code",
   "execution_count": null,
   "metadata": {},
   "outputs": [],
   "source": []
  }
 ],
 "metadata": {
  "kernelspec": {
   "display_name": "Python 3",
   "language": "python",
   "name": "python3"
  },
  "language_info": {
   "codemirror_mode": {
    "name": "ipython",
    "version": 3
   },
   "file_extension": ".py",
   "mimetype": "text/x-python",
   "name": "python",
   "nbconvert_exporter": "python",
   "pygments_lexer": "ipython3",
   "version": "3.6.8"
  }
 },
 "nbformat": 4,
 "nbformat_minor": 2
}
