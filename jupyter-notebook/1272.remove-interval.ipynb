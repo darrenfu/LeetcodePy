{
 "cells": [
  {
   "cell_type": "markdown",
   "metadata": {},
   "source": [
    "### [1272\\. Remove Interval](https://leetcode.com/problems/remove-interval/)\n",
    "\n",
    "Difficulty: **Medium**\n",
    "\n",
    "\n",
    "Given a **sorted** list of disjoint `intervals`, each interval `intervals[i] = [a, b]` represents the set of real numbers `x` such that `a <= x < b`.\n",
    "\n",
    "We remove the intersections between any interval in `intervals` and the interval `toBeRemoved`.\n",
    "\n",
    "Return a **sorted** list of `intervals` after all such removals.\n",
    "\n",
    "**Example 1:**\n",
    "\n",
    "```\n",
    "Input: intervals = [[0,2],[3,4],[5,7]], toBeRemoved = [1,6]\n",
    "Output: [[0,1],[6,7]]\n",
    "```\n",
    "\n",
    "**Example 2:**\n",
    "\n",
    "```\n",
    "Input: intervals = [[0,5]], toBeRemoved = [2,3]\n",
    "Output: [[0,2],[3,5]]\n",
    "```\n",
    "\n",
    "**Constraints:**\n",
    "\n",
    "*   `1 <= intervals.length <= 10^4`\n",
    "*   `-10^9 <= intervals[i][0] < intervals[i][1] <= 10^9`"
   ]
  },
  {
   "cell_type": "code",
   "execution_count": 48,
   "metadata": {},
   "outputs": [],
   "source": [
    "from typing import List\n",
    "from bisect import *\n",
    "\n",
    "class Solution:\n",
    "    def removeInterval(self, intervals: List[List[int]], toBeRemoved: List[int]) -> List[List[int]]:\n",
    "        s, e = toBeRemoved[0], toBeRemoved[1]\n",
    "        ss = [pair[0] for pair in intervals]\n",
    "        ee = [pair[1] for pair in intervals]\n",
    "        si, ei = bisect_left(ss, s), bisect_left(ee, e)\n",
    "#         print(si, ei)\n",
    "        L = len(ss)\n",
    "        if si == L and ei == L: return intervals\n",
    "        \n",
    "        res = []\n",
    "        if si == 0:\n",
    "            pass\n",
    "        elif ss[si-1] < s:\n",
    "            res += intervals[:si-1]\n",
    "            res += [ss[si-1], min(s, ee[si-1])],\n",
    "        else:\n",
    "            res += intervals[:si-1]\n",
    "            \n",
    "        if ei == L: \n",
    "            pass\n",
    "        elif e < ee[ei]:\n",
    "            res += [max(e, ss[ei]), ee[ei]],\n",
    "            res += intervals[ei+1:]\n",
    "        else:\n",
    "            res += intervals[ei+1:]\n",
    "        return res"
   ]
  },
  {
   "cell_type": "code",
   "execution_count": 49,
   "metadata": {},
   "outputs": [
    {
     "data": {
      "text/plain": [
       "[[0, 1], [6, 7]]"
      ]
     },
     "execution_count": 49,
     "metadata": {},
     "output_type": "execute_result"
    }
   ],
   "source": [
    "Solution().removeInterval(intervals = [[0,2],[3,4],[5,7]], toBeRemoved = [1,6])"
   ]
  },
  {
   "cell_type": "code",
   "execution_count": 50,
   "metadata": {},
   "outputs": [
    {
     "data": {
      "text/plain": [
       "[[0, 2], [3, 5]]"
      ]
     },
     "execution_count": 50,
     "metadata": {},
     "output_type": "execute_result"
    }
   ],
   "source": [
    "Solution().removeInterval(intervals = [[0,5]], toBeRemoved = [2,3])"
   ]
  },
  {
   "cell_type": "code",
   "execution_count": 51,
   "metadata": {},
   "outputs": [
    {
     "data": {
      "text/plain": [
       "[[0, 1], [5, 7]]"
      ]
     },
     "execution_count": 51,
     "metadata": {},
     "output_type": "execute_result"
    }
   ],
   "source": [
    "Solution().removeInterval(intervals = [[0,1],[3,4],[5,7]], toBeRemoved = [2,5])"
   ]
  },
  {
   "cell_type": "code",
   "execution_count": 52,
   "metadata": {},
   "outputs": [
    {
     "data": {
      "text/plain": [
       "[[0, 1], [3, 4], [5, 6]]"
      ]
     },
     "execution_count": 52,
     "metadata": {},
     "output_type": "execute_result"
    }
   ],
   "source": [
    "Solution().removeInterval(intervals = [[0,1],[3,4],[5,7]], toBeRemoved = [6,7])"
   ]
  },
  {
   "cell_type": "code",
   "execution_count": 53,
   "metadata": {},
   "outputs": [
    {
     "data": {
      "text/plain": [
       "[[0, 1], [6, 7]]"
      ]
     },
     "execution_count": 53,
     "metadata": {},
     "output_type": "execute_result"
    }
   ],
   "source": [
    "Solution().removeInterval(intervals = [[0,1],[3,4],[5,7]], toBeRemoved = [3,6])"
   ]
  },
  {
   "cell_type": "code",
   "execution_count": 47,
   "metadata": {},
   "outputs": [
    {
     "name": "stdout",
     "output_type": "stream",
     "text": [
      "0 2\n"
     ]
    },
    {
     "data": {
      "text/plain": [
       "[]"
      ]
     },
     "execution_count": 47,
     "metadata": {},
     "output_type": "execute_result"
    }
   ],
   "source": [
    "Solution().removeInterval(intervals = [[-10,10],[50,60]], toBeRemoved=[-100, 100])"
   ]
  },
  {
   "cell_type": "code",
   "execution_count": null,
   "metadata": {},
   "outputs": [],
   "source": []
  }
 ],
 "metadata": {
  "kernelspec": {
   "display_name": "Python 3",
   "language": "python",
   "name": "python3"
  },
  "language_info": {
   "codemirror_mode": {
    "name": "ipython",
    "version": 3
   },
   "file_extension": ".py",
   "mimetype": "text/x-python",
   "name": "python",
   "nbconvert_exporter": "python",
   "pygments_lexer": "ipython3",
   "version": "3.6.8"
  }
 },
 "nbformat": 4,
 "nbformat_minor": 2
}
