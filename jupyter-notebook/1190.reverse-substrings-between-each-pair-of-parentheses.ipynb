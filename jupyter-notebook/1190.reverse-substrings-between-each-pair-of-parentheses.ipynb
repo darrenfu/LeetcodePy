{
 "cells": [
  {
   "cell_type": "code",
   "execution_count": 8,
   "metadata": {},
   "outputs": [],
   "source": [
    "class Solution:\n",
    "    def reverseParentheses(self, s: str) -> str:\n",
    "        stack = []\n",
    "        target = [ch for ch in s]\n",
    "        for i, ch in enumerate(s):\n",
    "            if ch == '(':\n",
    "                # push array index into stack when meet '('\n",
    "                stack.append(i)\n",
    "            elif ch == ')':\n",
    "                # pop when meet ')'\n",
    "                # use Two pointer to swap head and tail element within the pair scope\n",
    "                lo, hi = stack.pop(), i\n",
    "                while lo < hi:\n",
    "                    target[lo], target[hi] = target[hi], target[lo]\n",
    "                    lo += 1\n",
    "                    hi -= 1\n",
    "        # filter out parentheses target string\n",
    "        return \"\".join([ch for ch in target if ch != '(' and ch != ')'])"
   ]
  },
  {
   "cell_type": "code",
   "execution_count": 9,
   "metadata": {},
   "outputs": [
    {
     "name": "stdout",
     "output_type": "stream",
     "text": [
      "apmnolkjihgfedcbq\n"
     ]
    }
   ],
   "source": [
    "Solution().reverseParentheses(s=\"a(bcdefghijkl(mno)p)q\")"
   ]
  },
  {
   "cell_type": "code",
   "execution_count": 10,
   "metadata": {},
   "outputs": [
    {
     "name": "stdout",
     "output_type": "stream",
     "text": [
      "leetcode\n"
     ]
    }
   ],
   "source": [
    "Solution().reverseParentheses(s = \"(ed(et(oc))el)\")"
   ]
  },
  {
   "cell_type": "code",
   "execution_count": null,
   "metadata": {},
   "outputs": [],
   "source": []
  }
 ],
 "metadata": {
  "kernelspec": {
   "display_name": "Python 3",
   "language": "python",
   "name": "python3"
  },
  "language_info": {
   "codemirror_mode": {
    "name": "ipython",
    "version": 3
   },
   "file_extension": ".py",
   "mimetype": "text/x-python",
   "name": "python",
   "nbconvert_exporter": "python",
   "pygments_lexer": "ipython3",
   "version": "3.6.8"
  }
 },
 "nbformat": 4,
 "nbformat_minor": 2
}
