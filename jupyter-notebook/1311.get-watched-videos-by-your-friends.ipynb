{
 "cells": [
  {
   "cell_type": "markdown",
   "metadata": {},
   "source": [
    "### [1311\\. Get Watched Videos by Your Friends](https://leetcode.com/problems/get-watched-videos-by-your-friends/)\n",
    "\n",
    "Difficulty: **Medium**\n",
    "\n",
    "\n",
    "There are `n` people, each person has a unique _id_ between `0` and `n-1`. Given the arrays `watchedVideos` and `friends`, where `watchedVideos[i]` and `friends[i]` contain the list of watched videos and the list of friends respectively for the person with `id = i`.\n",
    "\n",
    "Level **1** of videos are all watched videos by your friends, level **2** of videos are all watched videos by the friends of your friends and so on. In general, the level **k** of videos are all watched videos by people with the shortest path equal to **k** with you. Given your `id` and the `level` of videos, return the list of videos ordered by their frequencies (increasing). For videos with the same frequency order them alphabetically from least to greatest. \n",
    "\n",
    "**Example 1:**\n",
    "\n",
    "**![](https://assets.leetcode.com/uploads/2020/01/02/leetcode_friends_1.png)**\n",
    "\n",
    "```\n",
    "Input: watchedVideos = [[\"A\",\"B\"],[\"C\"],[\"B\",\"C\"],[\"D\"]], friends = [[1,2],[0,3],[0,3],[1,2]], id = 0, level = 1\n",
    "Output: [\"B\",\"C\"] \n",
    "Explanation: \n",
    "You have id = 0 (green color in the figure) and your friends are (yellow color in the figure):\n",
    "Person with id = 1 -> watchedVideos = [\"C\"] \n",
    "Person with id = 2 -> watchedVideos = [\"B\",\"C\"] \n",
    "The frequencies of watchedVideos by your friends are: \n",
    "B -> 1 \n",
    "C -> 2\n",
    "```\n",
    "\n",
    "**Example 2:**\n",
    "\n",
    "**![](https://assets.leetcode.com/uploads/2020/01/02/leetcode_friends_2.png)**\n",
    "\n",
    "```\n",
    "Input: watchedVideos = [[\"A\",\"B\"],[\"C\"],[\"B\",\"C\"],[\"D\"]], friends = [[1,2],[0,3],[0,3],[1,2]], id = 0, level = 2\n",
    "Output: [\"D\"]\n",
    "Explanation: \n",
    "You have id = 0 (green color in the figure) and the only friend of your friends is the person with id = 3 (yellow color in the figure).\n",
    "```\n",
    "\n",
    "**Constraints:**\n",
    "\n",
    "*   `n == watchedVideos.length == friends.length`\n",
    "*   `2 <= n <= 100`\n",
    "*   `1 <= watchedVideos[i].length <= 100`\n",
    "*   `1 <= watchedVideos[i][j].length <= 8`\n",
    "*   `0 <= friends[i].length < n`\n",
    "*   `0 <= friends[i][j] < n`\n",
    "*   `0 <= id < n`\n",
    "*   `1 <= level < n`\n",
    "*   if `friends[i]` contains `j`, then `friends[j]` contains `i`"
   ]
  },
  {
   "cell_type": "code",
   "execution_count": 13,
   "metadata": {},
   "outputs": [],
   "source": [
    "from typing import List\n",
    "from collections import Counter\n",
    "\n",
    "class Solution:\n",
    "    def watchedVideosByFriends(self, watchedVideos: List[List[str]], friends: List[List[int]], id: int, level: int) -> List[str]:\n",
    "        q = [id]\n",
    "        visited = set(q)\n",
    "        levels = 0\n",
    "        cnt = Counter()\n",
    "        while q:\n",
    "            for _ in range(len(q)):\n",
    "                fid = q.pop(0)\n",
    "                if levels == level:\n",
    "                    for video in watchedVideos[fid]:\n",
    "                        cnt[video] += 1\n",
    "                for ffid in friends[fid]:\n",
    "                    if ffid not in visited:\n",
    "                        visited.add(ffid)\n",
    "                        q.append(ffid)\n",
    "            levels += 1\n",
    "        return [video for video, freq in sorted(cnt.most_common()[::-1], key=lambda item: (item[1], item[0]))]"
   ]
  },
  {
   "cell_type": "code",
   "execution_count": 14,
   "metadata": {},
   "outputs": [
    {
     "data": {
      "text/plain": [
       "['B', 'C']"
      ]
     },
     "execution_count": 14,
     "metadata": {},
     "output_type": "execute_result"
    }
   ],
   "source": [
    "Solution().watchedVideosByFriends(watchedVideos = [[\"A\",\"B\"],[\"C\"],[\"B\",\"C\"],[\"D\"]], friends = [[1,2],[0,3],[0,3],[1,2]], id = 0, level = 1)"
   ]
  },
  {
   "cell_type": "code",
   "execution_count": 15,
   "metadata": {},
   "outputs": [
    {
     "data": {
      "text/plain": [
       "['D']"
      ]
     },
     "execution_count": 15,
     "metadata": {},
     "output_type": "execute_result"
    }
   ],
   "source": [
    "Solution().watchedVideosByFriends(watchedVideos = [[\"A\",\"B\"],[\"C\"],[\"B\",\"C\"],[\"D\"]], friends = [[1,2],[0,3],[0,3],[1,2]], id = 0, level = 2)"
   ]
  },
  {
   "cell_type": "code",
   "execution_count": 16,
   "metadata": {},
   "outputs": [
    {
     "data": {
      "text/plain": [
       "['ayyihidz', 'bjwtssmu', 'bvcca', 'fiq', 'ljc', 'viu']"
      ]
     },
     "execution_count": 16,
     "metadata": {},
     "output_type": "execute_result"
    }
   ],
   "source": [
    "Solution().watchedVideosByFriends([[\"bjwtssmu\"],[\"aygr\",\"mqls\"],[\"vrtxa\",\"zxqzeqy\",\"nbpl\",\"qnpl\"],[\"r\",\"otazhu\",\"rsf\"],[\"bvcca\",\"ayyihidz\",\"ljc\",\"fiq\",\"viu\"]], [[3,2,1,4],[0,4],[4,0],[0,4],[2,3,1,0]], 3, 1)"
   ]
  },
  {
   "cell_type": "code",
   "execution_count": null,
   "metadata": {},
   "outputs": [],
   "source": []
  }
 ],
 "metadata": {
  "kernelspec": {
   "display_name": "Python 3",
   "language": "python",
   "name": "python3"
  },
  "language_info": {
   "codemirror_mode": {
    "name": "ipython",
    "version": 3
   },
   "file_extension": ".py",
   "mimetype": "text/x-python",
   "name": "python",
   "nbconvert_exporter": "python",
   "pygments_lexer": "ipython3",
   "version": "3.6.8"
  }
 },
 "nbformat": 4,
 "nbformat_minor": 2
}
