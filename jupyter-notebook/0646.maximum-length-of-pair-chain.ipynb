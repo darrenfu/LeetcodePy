{
 "cells": [
  {
   "cell_type": "code",
   "execution_count": 27,
   "metadata": {},
   "outputs": [],
   "source": [
    "# Sort by end time, then greedy.\n",
    "# In a word, \"the sooner it ends, the better\"\n",
    "# Proof of optimality for Greedy Algo - https://en.wikipedia.org/wiki/Activity_selection_problem\n",
    "# Runtime: 264 ms, faster than 47.30%\n",
    "from typing import List\n",
    "\n",
    "class Solution:\n",
    "    def findLongestChain(self, pairs: List[List[int]]) -> int:\n",
    "        pairs.sort(key=lambda x: x[1])\n",
    "        res = 0\n",
    "        end = pairs[0][0]-1 # head value, make sure it is always smaller than the smallest start (first)\n",
    "        for s, e in pairs:\n",
    "            if end < s:\n",
    "                # Greedy is applicable here because we sort by end, the earlier ending pair will be traversed earlier\n",
    "                end = e\n",
    "                res += 1\n",
    "        return res"
   ]
  },
  {
   "cell_type": "code",
   "execution_count": 16,
   "metadata": {},
   "outputs": [],
   "source": [
    "# DP: variation of #300. LIS\n",
    "# Runtime: 2620 ms\n",
    "from typing import List\n",
    "\n",
    "class Solution:\n",
    "    def findLongestChain(self, pairs: List[List[int]]) -> int:\n",
    "        pairs.sort(key=lambda x: x[1])\n",
    "        N = len(pairs)\n",
    "        dp = [1] * N\n",
    "        for i in range(1,N):\n",
    "            for j in range(i):\n",
    "                if pairs[j][1] < pairs[i][0]: # j.end < i.start (j < i)\n",
    "                    dp[i] = max(dp[i], dp[j]+1)\n",
    "        return max(dp)"
   ]
  },
  {
   "cell_type": "code",
   "execution_count": null,
   "metadata": {},
   "outputs": [],
   "source": [
    "# DP (TLE)\n",
    "from typing import List\n",
    "\n",
    "class Solution:\n",
    "    def findLongestChain(self, pairs: List[List[int]]) -> int:\n",
    "        pairs.sort(key=lambda x: x[1])\n",
    "        N = len(pairs)\n",
    "        dp = [1] * N\n",
    "        for i in range(1,N):\n",
    "            for j in range(i):\n",
    "                dpj = dp[j]+1 if pairs[j][1] < pairs[i][0] else dp[j]\n",
    "                dp[i] = max(dp[i], dpj)\n",
    "        return dp[-1]"
   ]
  },
  {
   "cell_type": "code",
   "execution_count": 24,
   "metadata": {},
   "outputs": [],
   "source": [
    "# Greedy + Binary Search (Patience Sorting)\n",
    "# https://leetcode.com/problems/maximum-length-of-pair-chain/discuss/105640/O(nlogn)-Python-solution-binary-search-easy-to-understand\n",
    "from typing import List\n",
    "import bisect\n",
    "\n",
    "class Solution:\n",
    "    def findLongestChain(self, pairs: List[List[int]]) -> int:\n",
    "        # sort by x for pairs (x1, y1), (x2, y2), (x3, y3)...\n",
    "        pairs.sort()\n",
    "\n",
    "        # min_end_y[i] is the ending tuple minimum y of length=i chain\n",
    "        min_end_y = [float('inf')] * len(pairs)\n",
    "        for x, y in pairs:\n",
    "            # since (a, b) can chain (c, d) iff b < c, use bisect_left\n",
    "            i = bisect.bisect_left(min_end_y, x)\n",
    "            # greedy method, for the same length chain, the smaller y the better\n",
    "            min_end_y[i] = min(min_end_y[i], y)  \n",
    "\n",
    "        return bisect.bisect_left(min_end_y, float('inf'))"
   ]
  },
  {
   "cell_type": "code",
   "execution_count": 28,
   "metadata": {},
   "outputs": [
    {
     "data": {
      "text/plain": [
       "2"
      ]
     },
     "execution_count": 28,
     "metadata": {},
     "output_type": "execute_result"
    }
   ],
   "source": [
    "Solution().findLongestChain([[1,2], [2,3], [3,4]])"
   ]
  },
  {
   "cell_type": "code",
   "execution_count": 29,
   "metadata": {},
   "outputs": [
    {
     "data": {
      "text/plain": [
       "4"
      ]
     },
     "execution_count": 29,
     "metadata": {},
     "output_type": "execute_result"
    }
   ],
   "source": [
    "Solution().findLongestChain([[7,9],[4,5],[7,9],[-7,-1],[0,10],[3,10],[3,6],[2,3]])"
   ]
  },
  {
   "cell_type": "code",
   "execution_count": null,
   "metadata": {},
   "outputs": [],
   "source": []
  }
 ],
 "metadata": {
  "kernelspec": {
   "display_name": "Python 3",
   "language": "python",
   "name": "python3"
  },
  "language_info": {
   "codemirror_mode": {
    "name": "ipython",
    "version": 3
   },
   "file_extension": ".py",
   "mimetype": "text/x-python",
   "name": "python",
   "nbconvert_exporter": "python",
   "pygments_lexer": "ipython3",
   "version": "3.6.8"
  }
 },
 "nbformat": 4,
 "nbformat_minor": 2
}
