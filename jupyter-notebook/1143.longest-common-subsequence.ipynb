{
 "cells": [
  {
   "cell_type": "code",
   "execution_count": 12,
   "metadata": {},
   "outputs": [],
   "source": [
    "# DP (recursion) - TLE\n",
    "# LCS\n",
    "# 1092. Shortest Common Supersequence\n",
    "# 1062. Longest Repeating Substring\n",
    "# 516. Longest Palindromic Subsequence\n",
    "class Solution:\n",
    "    def longestCommonSubsequence(self, text1: str, text2: str) -> int:\n",
    "        L1, L2 = len(text1), len(text2)\n",
    "        if L1 == 0 or L2 == 0:\n",
    "            return 0\n",
    "        if text1[L1-1] == text2[L2-1]:\n",
    "            # DP formula to derive\n",
    "            return 1 + self.longestCommonSubsequence(text1[:L1-1], text2[:L2-1])\n",
    "        return max(self.longestCommonSubsequence(text1[:L1-1], text2), self.longestCommonSubsequence(text1, text2[:L2-1]))"
   ]
  },
  {
   "cell_type": "code",
   "execution_count": 13,
   "metadata": {},
   "outputs": [],
   "source": [
    "# DP with memorization (Bottom-up, iterative)\n",
    "# T: O(nm)\n",
    "# S: O(nm)\n",
    "# https://leetcode.com/problems/longest-common-subsequence/discuss/348884/C%2B%2B-with-picture-O(nm)\n",
    "class Solution:\n",
    "    def longestCommonSubsequence(self, text1: str, text2: str) -> int:\n",
    "        L1, L2 = len(text1), len(text2)\n",
    "        dp = [[0] * (L2+1) for _ in range(L1+1)]\n",
    "        for i, m in enumerate(text1):\n",
    "            for j, n in enumerate(text2):\n",
    "                if m == n:\n",
    "                    dp[i+1][j+1] = dp[i][j] + 1\n",
    "                else:\n",
    "                    dp[i+1][j+1] = max(dp[i][j+1], dp[i+1][j])\n",
    "        return dp[L1][L2]"
   ]
  },
  {
   "cell_type": "code",
   "execution_count": 14,
   "metadata": {},
   "outputs": [],
   "source": [
    "# DP with memorization optimized:\n",
    "# we are only looking one row up in the solution above. So, we just need to store two rows.\n",
    "# S: O(min(n,m))\n",
    "class Solution:\n",
    "    def longestCommonSubsequence(self, text1: str, text2: str) -> int:\n",
    "        if len(text1) > len(text2): return self.longestCommonSubsequence(text2, text1)\n",
    "        L1, L2 = len(text1), len(text2)\n",
    "        dp = [[0] * (L2+1) for _ in range(2)]\n",
    "        for i, m in enumerate(text1):\n",
    "            for j, n in enumerate(text2):\n",
    "                if m == n:\n",
    "                    dp[(i+1)%2][j+1] = dp[i%2][j] + 1\n",
    "                else:\n",
    "                    dp[(i+1)%2][j+1] = max(dp[i%2][j+1], dp[(i+1)%2][j])\n",
    "        return dp[L1%2][L2]"
   ]
  },
  {
   "cell_type": "code",
   "execution_count": 15,
   "metadata": {},
   "outputs": [
    {
     "data": {
      "text/plain": [
       "3"
      ]
     },
     "execution_count": 15,
     "metadata": {},
     "output_type": "execute_result"
    }
   ],
   "source": [
    "Solution().longestCommonSubsequence(text1 = \"abcde\", text2 = \"ace\")"
   ]
  },
  {
   "cell_type": "code",
   "execution_count": 16,
   "metadata": {},
   "outputs": [
    {
     "data": {
      "text/plain": [
       "3"
      ]
     },
     "execution_count": 16,
     "metadata": {},
     "output_type": "execute_result"
    }
   ],
   "source": [
    "Solution().longestCommonSubsequence(text1 = \"abc\", text2 = \"abc\")"
   ]
  },
  {
   "cell_type": "code",
   "execution_count": 17,
   "metadata": {},
   "outputs": [
    {
     "data": {
      "text/plain": [
       "0"
      ]
     },
     "execution_count": 17,
     "metadata": {},
     "output_type": "execute_result"
    }
   ],
   "source": [
    "Solution().longestCommonSubsequence(text1 = \"abc\", text2 = \"def\")"
   ]
  },
  {
   "cell_type": "code",
   "execution_count": null,
   "metadata": {},
   "outputs": [],
   "source": []
  }
 ],
 "metadata": {
  "kernelspec": {
   "display_name": "Python 3",
   "language": "python",
   "name": "python3"
  },
  "language_info": {
   "codemirror_mode": {
    "name": "ipython",
    "version": 3
   },
   "file_extension": ".py",
   "mimetype": "text/x-python",
   "name": "python",
   "nbconvert_exporter": "python",
   "pygments_lexer": "ipython3",
   "version": "3.6.8"
  }
 },
 "nbformat": 4,
 "nbformat_minor": 2
}
