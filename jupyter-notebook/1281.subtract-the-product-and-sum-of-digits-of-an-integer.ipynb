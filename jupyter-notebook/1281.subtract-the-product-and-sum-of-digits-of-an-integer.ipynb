{
 "cells": [
  {
   "cell_type": "markdown",
   "metadata": {},
   "source": [
    "### [1281\\. Subtract the Product and Sum of Digits of an Integer](https://leetcode.com/problems/subtract-the-product-and-sum-of-digits-of-an-integer/)\n",
    "\n",
    "Difficulty: **Easy**\n",
    "\n",
    "Given an integer number `n`, return the difference between the product of its digits and the sum of its digits.\n",
    "\n",
    "**Example 1:**\n",
    "\n",
    "```\n",
    "Input: n = 234\n",
    "Output: 15 \n",
    "Explanation: \n",
    "Product of digits = 2 * 3 * 4 = 24 \n",
    "Sum of digits = 2 + 3 + 4 = 9 \n",
    "Result = 24 - 9 = 15\n",
    "```\n",
    "\n",
    "**Example 2:**\n",
    "\n",
    "```\n",
    "Input: n = 4421\n",
    "Output: 21\n",
    "Explanation: \n",
    "Product of digits = 4 * 4 * 2 * 1 = 32 \n",
    "Sum of digits = 4 + 4 + 2 + 1 = 11 \n",
    "Result = 32 - 11 = 21\n",
    "```\n",
    "\n",
    "**Constraints:**\n",
    "\n",
    "*   `1 <= n <= 10^5`"
   ]
  },
  {
   "cell_type": "code",
   "execution_count": 1,
   "metadata": {},
   "outputs": [],
   "source": [
    "class Solution:\n",
    "    def subtractProductAndSum(self, n: int) -> int:\n",
    "        nums = []\n",
    "        while n > 0:\n",
    "            n, digit = divmod(n, 10)\n",
    "            nums.append(digit)\n",
    "        prod = 1\n",
    "        sm = 0\n",
    "        for x in nums:\n",
    "            prod *= x\n",
    "            sm += x\n",
    "        return prod - sm"
   ]
  },
  {
   "cell_type": "code",
   "execution_count": 2,
   "metadata": {},
   "outputs": [
    {
     "data": {
      "text/plain": [
       "15"
      ]
     },
     "execution_count": 2,
     "metadata": {},
     "output_type": "execute_result"
    }
   ],
   "source": [
    "Solution().subtractProductAndSum(234)"
   ]
  },
  {
   "cell_type": "code",
   "execution_count": 3,
   "metadata": {},
   "outputs": [
    {
     "data": {
      "text/plain": [
       "21"
      ]
     },
     "execution_count": 3,
     "metadata": {},
     "output_type": "execute_result"
    }
   ],
   "source": [
    "Solution().subtractProductAndSum(4421)"
   ]
  },
  {
   "cell_type": "code",
   "execution_count": 4,
   "metadata": {},
   "outputs": [
    {
     "data": {
      "text/plain": [
       "-9"
      ]
     },
     "execution_count": 4,
     "metadata": {},
     "output_type": "execute_result"
    }
   ],
   "source": [
    "Solution().subtractProductAndSum(4401)"
   ]
  },
  {
   "cell_type": "code",
   "execution_count": null,
   "metadata": {},
   "outputs": [],
   "source": []
  }
 ],
 "metadata": {
  "kernelspec": {
   "display_name": "Python 3",
   "language": "python",
   "name": "python3"
  },
  "language_info": {
   "codemirror_mode": {
    "name": "ipython",
    "version": 3
   },
   "file_extension": ".py",
   "mimetype": "text/x-python",
   "name": "python",
   "nbconvert_exporter": "python",
   "pygments_lexer": "ipython3",
   "version": "3.6.8"
  }
 },
 "nbformat": 4,
 "nbformat_minor": 2
}
