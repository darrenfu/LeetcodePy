{
 "cells": [
  {
   "cell_type": "markdown",
   "metadata": {},
   "source": [
    "### [1092\\. Shortest Common Supersequence](https://leetcode.com/problems/shortest-common-supersequence/)\n",
    "\n",
    "Difficulty: **Hard**\n",
    "\n",
    "\n",
    "Given two strings `str1` and `str2`, return the shortest string that has both `str1` and `str2` as subsequences.  If multiple answers exist, you may return any of them.\n",
    "\n",
    "_(A string S is a subsequence of string T if deleting some number of characters from T (possibly 0, and the characters are chosen <u style=\"display: inline;\">anywhere</u> from T) results in the string S.)_\n",
    "\n",
    "**Example 1:**\n",
    "\n",
    "```\n",
    "Input: str1 = \"abac\", str2 = \"cab\"\n",
    "Output: \"cabac\"\n",
    "Explanation: \n",
    "str1 = \"abac\" is a subsequence of \"cabac\" because we can delete the first \"c\".\n",
    "str2 = \"cab\" is a subsequence of \"cabac\" because we can delete the last \"ac\".\n",
    "The answer provided is the shortest such string that satisfies these properties.\n",
    "```\n",
    "\n",
    "**Note:**\n",
    "\n",
    "1.  `1 <= str1.length, str2.length <= 1000`\n",
    "2.  `str1` and `str2` consist of lowercase English letters."
   ]
  },
  {
   "cell_type": "markdown",
   "metadata": {},
   "source": [
    "## SCS - a variation of #1143. LCS  \n",
    "Solution 1: [Build LCS and build supersequence from heads with comparative orders](https://leetcode.com/problems/shortest-common-supersequence/discuss/312710/C%2B%2BPython-Find-the-LCS)  \n",
    "Solution 2: [Count LCS and build supersequence through backtracking from tails](https://leetcode.com/problems/shortest-common-supersequence/discuss/313608/C%2B%2B-LCS-and-Backtracking)"
   ]
  },
  {
   "cell_type": "code",
   "execution_count": null,
   "metadata": {},
   "outputs": [],
   "source": []
  }
 ],
 "metadata": {
  "kernelspec": {
   "display_name": "Python 3",
   "language": "python",
   "name": "python3"
  },
  "language_info": {
   "codemirror_mode": {
    "name": "ipython",
    "version": 3
   },
   "file_extension": ".py",
   "mimetype": "text/x-python",
   "name": "python",
   "nbconvert_exporter": "python",
   "pygments_lexer": "ipython3",
   "version": "3.6.8"
  }
 },
 "nbformat": 4,
 "nbformat_minor": 2
}
