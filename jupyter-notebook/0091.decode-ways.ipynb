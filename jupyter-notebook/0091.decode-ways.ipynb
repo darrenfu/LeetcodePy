{
 "cells": [
  {
   "cell_type": "markdown",
   "metadata": {},
   "source": [
    "### [91\\. Decode Ways](https://leetcode.com/problems/decode-ways/)\n",
    "\n",
    "Difficulty: **Medium**\n",
    "\n",
    "\n",
    "A message containing letters from `A-Z` is being encoded to numbers using the following mapping:\n",
    "\n",
    "```\n",
    "'A' -> 1\n",
    "'B' -> 2\n",
    "...\n",
    "'Z' -> 26\n",
    "```\n",
    "\n",
    "Given a **non-empty** string containing only digits, determine the total number of ways to decode it.\n",
    "\n",
    "**Example 1:**\n",
    "\n",
    "```\n",
    "Input: \"12\"\n",
    "Output: 2\n",
    "Explanation: It could be decoded as \"AB\" (1 2) or \"L\" (12).\n",
    "```\n",
    "\n",
    "**Example 2:**\n",
    "\n",
    "```\n",
    "Input: \"226\"\n",
    "Output: 3\n",
    "Explanation: It could be decoded as \"BZ\" (2 26), \"VF\" (22 6), or \"BBF\" (2 2 6).\n",
    "```"
   ]
  },
  {
   "cell_type": "code",
   "execution_count": 5,
   "metadata": {},
   "outputs": [],
   "source": [
    "# variation of 70. Climbing Stairs\n",
    "# bottom-up DP\n",
    "# visualization: http://zxi.mytechroad.com/blog/dynamic-programming/leetcode-91-decode-ways/\n",
    "from functools import lru_cache\n",
    "class Solution:\n",
    "    def numDecodings(self, s: str) -> int:\n",
    "        if not s: return 0\n",
    "        @lru_cache(None)\n",
    "        def dfs(s: str):\n",
    "            l = len(s)\n",
    "            if l == 0: return 1\n",
    "            if s[0] == '0':\n",
    "                return 0\n",
    "            if l == 1:\n",
    "                return 1\n",
    "            res = dfs(s[1:])\n",
    "            if (s[0] == '2' and s[1] <= '6') or s[0] == '1':\n",
    "                res += dfs(s[2:])\n",
    "            return res\n",
    "        return dfs(s)"
   ]
  },
  {
   "cell_type": "code",
   "execution_count": 21,
   "metadata": {},
   "outputs": [],
   "source": [
    "# bottom-up DP + Memorization\n",
    "class Solution:\n",
    "    def numDecodings(self, s: str) -> int:\n",
    "        if not s: return 0\n",
    "        dp = {'':1} # taking care of 10-26 case, e.g. '26' = '26' + ''\n",
    "        def dfs(s: str):\n",
    "            if s in dp: return dp[s]\n",
    "            if s[0] == '0':\n",
    "                return 0\n",
    "            l = len(s)\n",
    "            if l == 1:\n",
    "                return 1\n",
    "            res = dfs(s[1:])\n",
    "            if (s[0] == '2' and s[1] <= '6') or s[0] == '1':\n",
    "                res += dfs(s[2:])\n",
    "            dp[s] = res\n",
    "            return dp[s]\n",
    "        return dfs(s)"
   ]
  },
  {
   "cell_type": "code",
   "execution_count": 33,
   "metadata": {},
   "outputs": [],
   "source": [
    "class Solution:\n",
    "    def numDecodings(self, s: str) -> int:\n",
    "        if not s: return 0\n",
    "        L = len(s)\n",
    "        # dp[0] means '' has one way to decode\n",
    "        dp = [1] + [0] * L\n",
    "        dp[1] = int(s[0] != '0')\n",
    "        for i in range(2, L+1):\n",
    "            if s[i-1] != \"0\":\n",
    "                dp[i] += dp[i-1]\n",
    "            if \"10\" <= s[i-2:i] <= \"26\":\n",
    "                dp[i] += dp[i-2]\n",
    "        return dp[-1]"
   ]
  },
  {
   "cell_type": "code",
   "execution_count": 34,
   "metadata": {},
   "outputs": [
    {
     "data": {
      "text/plain": [
       "2"
      ]
     },
     "execution_count": 34,
     "metadata": {},
     "output_type": "execute_result"
    }
   ],
   "source": [
    "Solution().numDecodings('12')"
   ]
  },
  {
   "cell_type": "code",
   "execution_count": 35,
   "metadata": {},
   "outputs": [
    {
     "data": {
      "text/plain": [
       "3"
      ]
     },
     "execution_count": 35,
     "metadata": {},
     "output_type": "execute_result"
    }
   ],
   "source": [
    "Solution().numDecodings('226')"
   ]
  },
  {
   "cell_type": "code",
   "execution_count": null,
   "metadata": {},
   "outputs": [],
   "source": []
  }
 ],
 "metadata": {
  "kernelspec": {
   "display_name": "Python 3",
   "language": "python",
   "name": "python3"
  },
  "language_info": {
   "codemirror_mode": {
    "name": "ipython",
    "version": 3
   },
   "file_extension": ".py",
   "mimetype": "text/x-python",
   "name": "python",
   "nbconvert_exporter": "python",
   "pygments_lexer": "ipython3",
   "version": "3.6.8"
  }
 },
 "nbformat": 4,
 "nbformat_minor": 2
}
