{
 "cells": [
  {
   "cell_type": "code",
   "execution_count": 2,
   "metadata": {},
   "outputs": [],
   "source": [
    "#* Classic - LIS\n",
    "# T: O(N^2)\n",
    "from typing import List\n",
    "\n",
    "class Solution:\n",
    "    def lengthOfLIS(self, nums: List[int]) -> int:\n",
    "        n = len(nums)\n",
    "        if n == 0: return 0\n",
    "        memo = [1] * n\n",
    "        for i in range(1, n):\n",
    "            for j in range(i):\n",
    "                if nums[j] < nums[i]:\n",
    "                    memo[i] = max(memo[i], memo[j] + 1)\n",
    "        return max(memo)"
   ]
  },
  {
   "cell_type": "code",
   "execution_count": 36,
   "metadata": {},
   "outputs": [],
   "source": [
    "# Patience Sorting\n",
    "# T: O(N*logN)\n",
    "# Runtime: 64 ms, faster than 68.83%\n",
    "# tails is an array storing the smallest tail of all increasing subsequences with length i+1 in tails[i].\n",
    "# https://leetcode.com/problems/longest-increasing-subsequence/discuss/74824/JavaPython-Binary-search-O(nlogn)-time-with-explanation\n",
    "from typing import List\n",
    "import bisect\n",
    "\n",
    "class Solution:\n",
    "    def lengthOfLIS(self, nums: List[int]) -> int:\n",
    "        tails = [0] * len(nums)\n",
    "        size = 0\n",
    "        for x in nums:\n",
    "            i = bisect.bisect_left(tails[:size], x)\n",
    "#             i, j = 0, size\n",
    "#             while i != j:\n",
    "#                 m = (i+j) // 2\n",
    "#                 if tails[m] < x:\n",
    "#                     i = m+1\n",
    "#                 else:\n",
    "#                     j = m\n",
    "            # if x is larger than any previous numbers, append to tails\n",
    "            # otherwise, find the the closest element larger than x, replace the element with x\n",
    "            tails[i] = x  # do binary search to find the tail index, and update tails by new element x\n",
    "            size = max(i+1, size)\n",
    "        return size"
   ]
  },
  {
   "cell_type": "code",
   "execution_count": 37,
   "metadata": {},
   "outputs": [
    {
     "name": "stdout",
     "output_type": "stream",
     "text": [
      "0 10 [0, 0, 0, 0, 0, 0, 0, 0]\n",
      "0 9 [10, 0, 0, 0, 0, 0, 0, 0]\n",
      "0 2 [9, 0, 0, 0, 0, 0, 0, 0]\n",
      "1 5 [2, 0, 0, 0, 0, 0, 0, 0]\n",
      "1 3 [2, 5, 0, 0, 0, 0, 0, 0]\n",
      "2 7 [2, 3, 0, 0, 0, 0, 0, 0]\n",
      "3 101 [2, 3, 7, 0, 0, 0, 0, 0]\n",
      "3 18 [2, 3, 7, 101, 0, 0, 0, 0]\n"
     ]
    },
    {
     "data": {
      "text/plain": [
       "4"
      ]
     },
     "execution_count": 37,
     "metadata": {},
     "output_type": "execute_result"
    }
   ],
   "source": [
    "Solution().lengthOfLIS(nums=[10,9,2,5,3,7,101,18])"
   ]
  },
  {
   "cell_type": "code",
   "execution_count": null,
   "metadata": {},
   "outputs": [],
   "source": []
  }
 ],
 "metadata": {
  "kernelspec": {
   "display_name": "Python 3",
   "language": "python",
   "name": "python3"
  },
  "language_info": {
   "codemirror_mode": {
    "name": "ipython",
    "version": 3
   },
   "file_extension": ".py",
   "mimetype": "text/x-python",
   "name": "python",
   "nbconvert_exporter": "python",
   "pygments_lexer": "ipython3",
   "version": "3.6.8"
  }
 },
 "nbformat": 4,
 "nbformat_minor": 2
}
