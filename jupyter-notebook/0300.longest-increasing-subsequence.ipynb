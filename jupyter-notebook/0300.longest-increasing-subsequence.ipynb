{
 "cells": [
  {
   "cell_type": "code",
   "execution_count": 2,
   "metadata": {},
   "outputs": [],
   "source": [
    "#* Classic - LIS\n",
    "# DP\n",
    "# T: O(N^2)\n",
    "from typing import List\n",
    "\n",
    "class Solution:\n",
    "    def lengthOfLIS(self, nums: List[int]) -> int:\n",
    "        n = len(nums)\n",
    "        if n == 0: return 0\n",
    "        memo = [1] * n\n",
    "        for i in range(1, n):\n",
    "            for j in range(i):\n",
    "                if nums[j] < nums[i]:\n",
    "                    # 刷表法\n",
    "                    memo[i] = max(memo[i], memo[j] + 1)\n",
    "        return max(memo)"
   ]
  },
  {
   "cell_type": "code",
   "execution_count": 5,
   "metadata": {},
   "outputs": [],
   "source": [
    "# Patience Sorting (Binary Search)\n",
    "# T: O(N*logN)\n",
    "# Runtime: 64 ms, faster than 68.83%\n",
    "# tails is an array storing the smallest tail of all increasing subsequences with length i+1 in tails[i].\n",
    "# https://leetcode.com/problems/longest-increasing-subsequence/discuss/74824/JavaPython-Binary-search-O(nlogn)-time-with-explanation\n",
    "from typing import List\n",
    "import bisect\n",
    "\n",
    "class Solution:\n",
    "    def lengthOfLIS(self, nums: List[int]) -> int:\n",
    "        tails = [0] * len(nums)\n",
    "        size = 0\n",
    "        for x in nums:\n",
    "            i = bisect.bisect_left(tails[:size], x)\n",
    "#             i, j = 0, size\n",
    "#             while i != j:\n",
    "#                 m = (i+j) // 2\n",
    "#                 if tails[m] < x:\n",
    "#                     i = m+1\n",
    "#                 else:\n",
    "#                     j = m\n",
    "            # if x is larger than any previous numbers, append to tails\n",
    "            # otherwise, find the the closest element larger than x, replace the element with x\n",
    "            tails[i] = x  # do binary search to find the tail index, and update tails by new element x\n",
    "            size = max(i+1, size)\n",
    "            print(size, x, tails)\n",
    "        return size"
   ]
  },
  {
   "cell_type": "code",
   "execution_count": 3,
   "metadata": {},
   "outputs": [],
   "source": [
    "# DP + Binary Search (similar to solution above)\n",
    "# Runtime: 52 ms, faster than 80.11%\n",
    "from typing import List\n",
    "\n",
    "class Solution:\n",
    "    def lengthOfLIS(self, nums: List[int]) -> int:\n",
    "        dp = []\n",
    "        for x in nums:\n",
    "            lo, hi = 0, len(dp)\n",
    "            # find a number no smaller than x in dp[], otherwise append x to dp[]\n",
    "            while lo < hi:\n",
    "                mid = (lo+hi) // 2\n",
    "                if x > dp[mid]: \n",
    "                    lo = mid+1\n",
    "                else:\n",
    "                    hi = mid\n",
    "            if hi >= len(dp):\n",
    "                dp.append(x)\n",
    "            else:\n",
    "                dp[hi] = x\n",
    "            print(hi, x, dp)\n",
    "        return len(dp)"
   ]
  },
  {
   "cell_type": "code",
   "execution_count": 10,
   "metadata": {},
   "outputs": [],
   "source": [
    "from typing import List\n",
    "from functools import lru_cache\n",
    "\n",
    "class Solution:\n",
    "    def lengthOfLIS(self, nums: List[int]) -> int:\n",
    "        n = len(nums)\n",
    "        if n == 0: return 0\n",
    "        @lru_cache(None)\n",
    "        def dfs(i):\n",
    "            if i == n-1:\n",
    "                return 1\n",
    "            paths = [dfs(j) for j in range(i+1,n) if nums[j] > nums[i]]\n",
    "            if not paths: return 1\n",
    "            ans = 1 + max(paths)\n",
    "            return ans\n",
    "        return max(dfs(i) for i in range(n))"
   ]
  },
  {
   "cell_type": "code",
   "execution_count": 13,
   "metadata": {},
   "outputs": [],
   "source": [
    "# Topological sort - dealing with longest path problem in DAG\n",
    "from typing import List\n",
    "from collections import defaultdict\n",
    "\n",
    "class Solution:\n",
    "    def lengthOfLIS(self, nums: List[int]) -> int:\n",
    "        n = len(nums)\n",
    "        if n == 0: return 0\n",
    "        ingraph = defaultdict(set)\n",
    "        outgraph = defaultdict(set)\n",
    "        for i in range(n-1):\n",
    "            for j in range(i+1, n):\n",
    "                if nums[j] > nums[i]: # edge i->j\n",
    "                    outgraph[i].add(j)\n",
    "                    ingraph[j].add(i)\n",
    "        q = list(ingraph.keys() - outgraph.keys()) # find out-degree-zero nodes\n",
    "        res = 1\n",
    "        while q:\n",
    "            for u in q:\n",
    "                for v in ingraph[u]:\n",
    "                    outgraph[v].remove(u)\n",
    "                    if not outgraph[v]:\n",
    "                        del outgraph[v]\n",
    "                del ingraph[u]\n",
    "            q = list(ingraph.keys() - outgraph.keys())\n",
    "            res += 1\n",
    "        return res"
   ]
  },
  {
   "cell_type": "code",
   "execution_count": 14,
   "metadata": {},
   "outputs": [
    {
     "data": {
      "text/plain": [
       "4"
      ]
     },
     "execution_count": 14,
     "metadata": {},
     "output_type": "execute_result"
    }
   ],
   "source": [
    "Solution().lengthOfLIS(nums=[10,9,2,5,3,7,101,18])"
   ]
  },
  {
   "cell_type": "code",
   "execution_count": 15,
   "metadata": {},
   "outputs": [
    {
     "data": {
      "text/plain": [
       "4"
      ]
     },
     "execution_count": 15,
     "metadata": {},
     "output_type": "execute_result"
    }
   ],
   "source": [
    "Solution().lengthOfLIS(nums=[10,9,2,5,3,7,101,18])"
   ]
  },
  {
   "cell_type": "code",
   "execution_count": null,
   "metadata": {},
   "outputs": [],
   "source": []
  }
 ],
 "metadata": {
  "kernelspec": {
   "display_name": "Python 3",
   "language": "python",
   "name": "python3"
  },
  "language_info": {
   "codemirror_mode": {
    "name": "ipython",
    "version": 3
   },
   "file_extension": ".py",
   "mimetype": "text/x-python",
   "name": "python",
   "nbconvert_exporter": "python",
   "pygments_lexer": "ipython3",
   "version": "3.6.8"
  }
 },
 "nbformat": 4,
 "nbformat_minor": 2
}
